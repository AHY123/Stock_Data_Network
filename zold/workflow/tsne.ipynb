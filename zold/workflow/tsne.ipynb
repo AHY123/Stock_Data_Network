{
 "cells": [
  {
   "cell_type": "code",
   "execution_count": 1,
   "id": "1c835045",
   "metadata": {},
   "outputs": [],
   "source": [
    "import numpy as np\n",
    "import matplotlib.pyplot as plt\n",
    "import pandas as pd\n",
    "import yfinance as yf\n",
    "import statsmodels.api as sm\n",
    "import plotly.express as px\n",
    "from sklearn.cluster import KMeans\n",
    "from sklearn.manifold import TSNE\n",
    "from pathlib import Path"
   ]
  },
  {
   "cell_type": "code",
   "execution_count": 2,
   "id": "445e9011",
   "metadata": {},
   "outputs": [
    {
     "data": {
      "text/html": [
       "<div>\n",
       "<style scoped>\n",
       "    .dataframe tbody tr th:only-of-type {\n",
       "        vertical-align: middle;\n",
       "    }\n",
       "\n",
       "    .dataframe tbody tr th {\n",
       "        vertical-align: top;\n",
       "    }\n",
       "\n",
       "    .dataframe thead th {\n",
       "        text-align: right;\n",
       "    }\n",
       "</style>\n",
       "<table border=\"1\" class=\"dataframe\">\n",
       "  <thead>\n",
       "    <tr style=\"text-align: right;\">\n",
       "      <th></th>\n",
       "      <th>Symbol</th>\n",
       "      <th>Name</th>\n",
       "      <th>Last Sale</th>\n",
       "      <th>Net Change</th>\n",
       "      <th>% Change</th>\n",
       "      <th>Market Cap (B)</th>\n",
       "      <th>Country</th>\n",
       "      <th>IPO Year</th>\n",
       "      <th>Volume</th>\n",
       "      <th>Sector</th>\n",
       "      <th>Industry</th>\n",
       "    </tr>\n",
       "  </thead>\n",
       "  <tbody>\n",
       "    <tr>\n",
       "      <th>0</th>\n",
       "      <td>UFPI</td>\n",
       "      <td>UFP Industries Inc. Common Stock</td>\n",
       "      <td>$115.67</td>\n",
       "      <td>-0.7900</td>\n",
       "      <td>-0.678%</td>\n",
       "      <td>7.024022</td>\n",
       "      <td>United States</td>\n",
       "      <td>1993.0</td>\n",
       "      <td>223820</td>\n",
       "      <td>Basic Materials</td>\n",
       "      <td>Forest Products</td>\n",
       "    </tr>\n",
       "    <tr>\n",
       "      <th>1</th>\n",
       "      <td>AMWD</td>\n",
       "      <td>American Woodmark Corporation Common Stock</td>\n",
       "      <td>$77.01</td>\n",
       "      <td>0.4800</td>\n",
       "      <td>0.627%</td>\n",
       "      <td>1.159322</td>\n",
       "      <td>United States</td>\n",
       "      <td>1986.0</td>\n",
       "      <td>168642</td>\n",
       "      <td>Basic Materials</td>\n",
       "      <td>Forest Products</td>\n",
       "    </tr>\n",
       "    <tr>\n",
       "      <th>2</th>\n",
       "      <td>IPX</td>\n",
       "      <td>IperionX Limited American Depositary Share</td>\n",
       "      <td>$26.52</td>\n",
       "      <td>0.1200</td>\n",
       "      <td>0.455%</td>\n",
       "      <td>0.682213</td>\n",
       "      <td>United States</td>\n",
       "      <td>NaN</td>\n",
       "      <td>50560</td>\n",
       "      <td>Basic Materials</td>\n",
       "      <td>Other Metals and Minerals</td>\n",
       "    </tr>\n",
       "    <tr>\n",
       "      <th>3</th>\n",
       "      <td>EU</td>\n",
       "      <td>enCore Energy Corp. Common Shares</td>\n",
       "      <td>$2.91</td>\n",
       "      <td>0.0600</td>\n",
       "      <td>2.105%</td>\n",
       "      <td>0.541518</td>\n",
       "      <td>United States</td>\n",
       "      <td>NaN</td>\n",
       "      <td>1091464</td>\n",
       "      <td>Basic Materials</td>\n",
       "      <td>Other Metals and Minerals</td>\n",
       "    </tr>\n",
       "    <tr>\n",
       "      <th>4</th>\n",
       "      <td>USGO</td>\n",
       "      <td>U.S. GoldMining Inc. Common stock</td>\n",
       "      <td>$12.59</td>\n",
       "      <td>1.7800</td>\n",
       "      <td>16.466%</td>\n",
       "      <td>0.156678</td>\n",
       "      <td>United States</td>\n",
       "      <td>2023.0</td>\n",
       "      <td>225247</td>\n",
       "      <td>Basic Materials</td>\n",
       "      <td>Precious Metals</td>\n",
       "    </tr>\n",
       "    <tr>\n",
       "      <th>...</th>\n",
       "      <td>...</td>\n",
       "      <td>...</td>\n",
       "      <td>...</td>\n",
       "      <td>...</td>\n",
       "      <td>...</td>\n",
       "      <td>...</td>\n",
       "      <td>...</td>\n",
       "      <td>...</td>\n",
       "      <td>...</td>\n",
       "      <td>...</td>\n",
       "      <td>...</td>\n",
       "    </tr>\n",
       "    <tr>\n",
       "      <th>524</th>\n",
       "      <td>VIVK</td>\n",
       "      <td>Vivakor Inc. Common Stock</td>\n",
       "      <td>$0.845</td>\n",
       "      <td>-0.0248</td>\n",
       "      <td>-2.851%</td>\n",
       "      <td>0.028424</td>\n",
       "      <td>United States</td>\n",
       "      <td>NaN</td>\n",
       "      <td>42549</td>\n",
       "      <td>Utilities</td>\n",
       "      <td>Environmental Services</td>\n",
       "    </tr>\n",
       "    <tr>\n",
       "      <th>525</th>\n",
       "      <td>SONM</td>\n",
       "      <td>Sonim Technologies Inc. Common Stock</td>\n",
       "      <td>$2.55</td>\n",
       "      <td>-0.0800</td>\n",
       "      <td>-3.042%</td>\n",
       "      <td>0.012423</td>\n",
       "      <td>United States</td>\n",
       "      <td>2019.0</td>\n",
       "      <td>15396</td>\n",
       "      <td>Utilities</td>\n",
       "      <td>Telecommunications Equipment</td>\n",
       "    </tr>\n",
       "    <tr>\n",
       "      <th>526</th>\n",
       "      <td>CLRO</td>\n",
       "      <td>ClearOne Inc. (DE) Common Stock</td>\n",
       "      <td>$0.4926</td>\n",
       "      <td>-0.0072</td>\n",
       "      <td>-1.441%</td>\n",
       "      <td>0.011807</td>\n",
       "      <td>United States</td>\n",
       "      <td>NaN</td>\n",
       "      <td>87213</td>\n",
       "      <td>Utilities</td>\n",
       "      <td>Telecommunications Equipment</td>\n",
       "    </tr>\n",
       "    <tr>\n",
       "      <th>527</th>\n",
       "      <td>SUNE</td>\n",
       "      <td>SUNation Energy Inc. Common Stock</td>\n",
       "      <td>$1.225</td>\n",
       "      <td>-0.0950</td>\n",
       "      <td>-7.197%</td>\n",
       "      <td>0.002223</td>\n",
       "      <td>United States</td>\n",
       "      <td>NaN</td>\n",
       "      <td>87057</td>\n",
       "      <td>Utilities</td>\n",
       "      <td>Telecommunications Equipment</td>\n",
       "    </tr>\n",
       "    <tr>\n",
       "      <th>528</th>\n",
       "      <td>ALCE</td>\n",
       "      <td>Alternus Clean Energy Inc. Class A Common Stock</td>\n",
       "      <td>$0.226</td>\n",
       "      <td>-0.0588</td>\n",
       "      <td>-20.646%</td>\n",
       "      <td>0.000000</td>\n",
       "      <td>United States</td>\n",
       "      <td>2022.0</td>\n",
       "      <td>1508724</td>\n",
       "      <td>Utilities</td>\n",
       "      <td>Power Generation</td>\n",
       "    </tr>\n",
       "  </tbody>\n",
       "</table>\n",
       "<p>529 rows × 11 columns</p>\n",
       "</div>"
      ],
      "text/plain": [
       "    Symbol                                             Name Last Sale  \\\n",
       "0     UFPI                 UFP Industries Inc. Common Stock   $115.67   \n",
       "1     AMWD       American Woodmark Corporation Common Stock    $77.01   \n",
       "2      IPX       IperionX Limited American Depositary Share    $26.52   \n",
       "3       EU                enCore Energy Corp. Common Shares     $2.91   \n",
       "4     USGO                U.S. GoldMining Inc. Common stock    $12.59   \n",
       "..     ...                                              ...       ...   \n",
       "524   VIVK                        Vivakor Inc. Common Stock    $0.845   \n",
       "525   SONM             Sonim Technologies Inc. Common Stock     $2.55   \n",
       "526   CLRO                  ClearOne Inc. (DE) Common Stock   $0.4926   \n",
       "527   SUNE                SUNation Energy Inc. Common Stock    $1.225   \n",
       "528   ALCE  Alternus Clean Energy Inc. Class A Common Stock    $0.226   \n",
       "\n",
       "     Net Change  % Change  Market Cap (B)        Country  IPO Year   Volume  \\\n",
       "0       -0.7900   -0.678%        7.024022  United States    1993.0   223820   \n",
       "1        0.4800    0.627%        1.159322  United States    1986.0   168642   \n",
       "2        0.1200    0.455%        0.682213  United States       NaN    50560   \n",
       "3        0.0600    2.105%        0.541518  United States       NaN  1091464   \n",
       "4        1.7800   16.466%        0.156678  United States    2023.0   225247   \n",
       "..          ...       ...             ...            ...       ...      ...   \n",
       "524     -0.0248   -2.851%        0.028424  United States       NaN    42549   \n",
       "525     -0.0800   -3.042%        0.012423  United States    2019.0    15396   \n",
       "526     -0.0072   -1.441%        0.011807  United States       NaN    87213   \n",
       "527     -0.0950   -7.197%        0.002223  United States       NaN    87057   \n",
       "528     -0.0588  -20.646%        0.000000  United States    2022.0  1508724   \n",
       "\n",
       "              Sector                      Industry  \n",
       "0    Basic Materials               Forest Products  \n",
       "1    Basic Materials               Forest Products  \n",
       "2    Basic Materials     Other Metals and Minerals  \n",
       "3    Basic Materials     Other Metals and Minerals  \n",
       "4    Basic Materials               Precious Metals  \n",
       "..               ...                           ...  \n",
       "524        Utilities        Environmental Services  \n",
       "525        Utilities  Telecommunications Equipment  \n",
       "526        Utilities  Telecommunications Equipment  \n",
       "527        Utilities  Telecommunications Equipment  \n",
       "528        Utilities              Power Generation  \n",
       "\n",
       "[529 rows x 11 columns]"
      ]
     },
     "execution_count": 2,
     "metadata": {},
     "output_type": "execute_result"
    }
   ],
   "source": [
    "# Initialize workflow parameters\n",
    "num_top = 50\n",
    "data_path = Path(f'../data/top_{num_top}_companies_by_sector.csv').resolve()\n",
    "analysis_start = \"2024-01-01\"\n",
    "analysis_end = \"2025-05-15\"\n",
    "data = pd.read_csv(data_path)\n",
    "data"
   ]
  },
  {
   "cell_type": "code",
   "execution_count": 3,
   "id": "307cd86f",
   "metadata": {},
   "outputs": [
    {
     "data": {
      "text/html": [
       "<div>\n",
       "<style scoped>\n",
       "    .dataframe tbody tr th:only-of-type {\n",
       "        vertical-align: middle;\n",
       "    }\n",
       "\n",
       "    .dataframe tbody tr th {\n",
       "        vertical-align: top;\n",
       "    }\n",
       "\n",
       "    .dataframe thead th {\n",
       "        text-align: right;\n",
       "    }\n",
       "</style>\n",
       "<table border=\"1\" class=\"dataframe\">\n",
       "  <thead>\n",
       "    <tr style=\"text-align: right;\">\n",
       "      <th></th>\n",
       "      <th>Name</th>\n",
       "      <th>Symbol</th>\n",
       "    </tr>\n",
       "  </thead>\n",
       "  <tbody>\n",
       "    <tr>\n",
       "      <th>0</th>\n",
       "      <td>UFP Industries Inc. Common Stock</td>\n",
       "      <td>UFPI</td>\n",
       "    </tr>\n",
       "    <tr>\n",
       "      <th>1</th>\n",
       "      <td>American Woodmark Corporation Common Stock</td>\n",
       "      <td>AMWD</td>\n",
       "    </tr>\n",
       "    <tr>\n",
       "      <th>2</th>\n",
       "      <td>IperionX Limited American Depositary Share</td>\n",
       "      <td>IPX</td>\n",
       "    </tr>\n",
       "    <tr>\n",
       "      <th>3</th>\n",
       "      <td>enCore Energy Corp. Common Shares</td>\n",
       "      <td>EU</td>\n",
       "    </tr>\n",
       "    <tr>\n",
       "      <th>4</th>\n",
       "      <td>U.S. GoldMining Inc. Common stock</td>\n",
       "      <td>USGO</td>\n",
       "    </tr>\n",
       "    <tr>\n",
       "      <th>...</th>\n",
       "      <td>...</td>\n",
       "      <td>...</td>\n",
       "    </tr>\n",
       "    <tr>\n",
       "      <th>524</th>\n",
       "      <td>Vivakor Inc. Common Stock</td>\n",
       "      <td>VIVK</td>\n",
       "    </tr>\n",
       "    <tr>\n",
       "      <th>525</th>\n",
       "      <td>Sonim Technologies Inc. Common Stock</td>\n",
       "      <td>SONM</td>\n",
       "    </tr>\n",
       "    <tr>\n",
       "      <th>526</th>\n",
       "      <td>ClearOne Inc. (DE) Common Stock</td>\n",
       "      <td>CLRO</td>\n",
       "    </tr>\n",
       "    <tr>\n",
       "      <th>527</th>\n",
       "      <td>SUNation Energy Inc. Common Stock</td>\n",
       "      <td>SUNE</td>\n",
       "    </tr>\n",
       "    <tr>\n",
       "      <th>528</th>\n",
       "      <td>Alternus Clean Energy Inc. Class A Common Stock</td>\n",
       "      <td>ALCE</td>\n",
       "    </tr>\n",
       "  </tbody>\n",
       "</table>\n",
       "<p>529 rows × 2 columns</p>\n",
       "</div>"
      ],
      "text/plain": [
       "                                                Name Symbol\n",
       "0                   UFP Industries Inc. Common Stock   UFPI\n",
       "1         American Woodmark Corporation Common Stock   AMWD\n",
       "2         IperionX Limited American Depositary Share    IPX\n",
       "3                  enCore Energy Corp. Common Shares     EU\n",
       "4                  U.S. GoldMining Inc. Common stock   USGO\n",
       "..                                               ...    ...\n",
       "524                        Vivakor Inc. Common Stock   VIVK\n",
       "525             Sonim Technologies Inc. Common Stock   SONM\n",
       "526                  ClearOne Inc. (DE) Common Stock   CLRO\n",
       "527                SUNation Energy Inc. Common Stock   SUNE\n",
       "528  Alternus Clean Energy Inc. Class A Common Stock   ALCE\n",
       "\n",
       "[529 rows x 2 columns]"
      ]
     },
     "execution_count": 3,
     "metadata": {},
     "output_type": "execute_result"
    }
   ],
   "source": [
    "ticker = data['Symbol'].to_list()\n",
    "company_name_ticker = data[['Name', 'Symbol']]\n",
    "market_ticker = '^GSPC'\n",
    "ticker.append(market_ticker)\n",
    "company_name_ticker"
   ]
  },
  {
   "cell_type": "code",
   "execution_count": 4,
   "id": "49485b57",
   "metadata": {},
   "outputs": [
    {
     "name": "stdout",
     "output_type": "stream",
     "text": [
      "YF.download() has changed argument auto_adjust default to True\n"
     ]
    },
    {
     "name": "stderr",
     "output_type": "stream",
     "text": [
      "[*********************100%***********************]  530 of 530 completed\n",
      "\n",
      "21 Failed downloads:\n",
      "['HYMCW', 'ZEOWW', 'NEOVW', 'NESRW', 'DHCNL', 'SLDPW', 'AMODW', 'NEHCW', 'MVSTW', 'ANNAW', 'FOXXW', 'DFLIW', 'NXPLW', 'ADNWW', 'RMCOW', 'USGOW', 'ARKOW', 'NIOBW']: YFPricesMissingError('possibly delisted; no price data found  (1d 2024-01-01 -> 2025-05-15)')\n",
      "['ROIC', 'QRTEP']: HTTPError('HTTP Error 404: ')\n",
      "['INFN']: YFTzMissingError('possibly delisted; no timezone found')\n"
     ]
    },
    {
     "data": {
      "text/html": [
       "<div>\n",
       "<style scoped>\n",
       "    .dataframe tbody tr th:only-of-type {\n",
       "        vertical-align: middle;\n",
       "    }\n",
       "\n",
       "    .dataframe tbody tr th {\n",
       "        vertical-align: top;\n",
       "    }\n",
       "\n",
       "    .dataframe thead th {\n",
       "        text-align: right;\n",
       "    }\n",
       "</style>\n",
       "<table border=\"1\" class=\"dataframe\">\n",
       "  <thead>\n",
       "    <tr style=\"text-align: right;\">\n",
       "      <th>Ticker</th>\n",
       "      <th>AAL</th>\n",
       "      <th>AAON</th>\n",
       "      <th>AAPL</th>\n",
       "      <th>ABAT</th>\n",
       "      <th>ABNB</th>\n",
       "      <th>ACDC</th>\n",
       "      <th>ACTG</th>\n",
       "      <th>ADBE</th>\n",
       "      <th>ADI</th>\n",
       "      <th>ADN</th>\n",
       "      <th>...</th>\n",
       "      <th>YORW</th>\n",
       "      <th>Z</th>\n",
       "      <th>ZBRA</th>\n",
       "      <th>ZD</th>\n",
       "      <th>ZEO</th>\n",
       "      <th>ZG</th>\n",
       "      <th>ZION</th>\n",
       "      <th>ZM</th>\n",
       "      <th>ZS</th>\n",
       "      <th>^GSPC</th>\n",
       "    </tr>\n",
       "    <tr>\n",
       "      <th>Date</th>\n",
       "      <th></th>\n",
       "      <th></th>\n",
       "      <th></th>\n",
       "      <th></th>\n",
       "      <th></th>\n",
       "      <th></th>\n",
       "      <th></th>\n",
       "      <th></th>\n",
       "      <th></th>\n",
       "      <th></th>\n",
       "      <th></th>\n",
       "      <th></th>\n",
       "      <th></th>\n",
       "      <th></th>\n",
       "      <th></th>\n",
       "      <th></th>\n",
       "      <th></th>\n",
       "      <th></th>\n",
       "      <th></th>\n",
       "      <th></th>\n",
       "      <th></th>\n",
       "    </tr>\n",
       "  </thead>\n",
       "  <tbody>\n",
       "    <tr>\n",
       "      <th>2024-01-02</th>\n",
       "      <td>13.44</td>\n",
       "      <td>73.545906</td>\n",
       "      <td>184.290436</td>\n",
       "      <td>4.405</td>\n",
       "      <td>134.479996</td>\n",
       "      <td>7.980</td>\n",
       "      <td>3.92</td>\n",
       "      <td>580.070007</td>\n",
       "      <td>189.526367</td>\n",
       "      <td>6.600</td>\n",
       "      <td>...</td>\n",
       "      <td>37.200626</td>\n",
       "      <td>57.250000</td>\n",
       "      <td>267.980011</td>\n",
       "      <td>67.309998</td>\n",
       "      <td>11.26</td>\n",
       "      <td>56.220001</td>\n",
       "      <td>41.883701</td>\n",
       "      <td>69.150002</td>\n",
       "      <td>212.369995</td>\n",
       "      <td>4742.830078</td>\n",
       "    </tr>\n",
       "    <tr>\n",
       "      <th>2024-01-03</th>\n",
       "      <td>12.95</td>\n",
       "      <td>72.759705</td>\n",
       "      <td>182.910522</td>\n",
       "      <td>4.230</td>\n",
       "      <td>133.419998</td>\n",
       "      <td>7.950</td>\n",
       "      <td>3.89</td>\n",
       "      <td>571.789978</td>\n",
       "      <td>185.003113</td>\n",
       "      <td>6.150</td>\n",
       "      <td>...</td>\n",
       "      <td>36.628456</td>\n",
       "      <td>55.230000</td>\n",
       "      <td>252.520004</td>\n",
       "      <td>65.860001</td>\n",
       "      <td>11.28</td>\n",
       "      <td>53.980000</td>\n",
       "      <td>39.853088</td>\n",
       "      <td>67.169998</td>\n",
       "      <td>210.240005</td>\n",
       "      <td>4704.810059</td>\n",
       "    </tr>\n",
       "    <tr>\n",
       "      <th>2024-01-04</th>\n",
       "      <td>13.09</td>\n",
       "      <td>73.386673</td>\n",
       "      <td>180.587524</td>\n",
       "      <td>4.250</td>\n",
       "      <td>133.720001</td>\n",
       "      <td>7.640</td>\n",
       "      <td>3.82</td>\n",
       "      <td>567.049988</td>\n",
       "      <td>182.173599</td>\n",
       "      <td>6.000</td>\n",
       "      <td>...</td>\n",
       "      <td>36.250244</td>\n",
       "      <td>54.160000</td>\n",
       "      <td>252.970001</td>\n",
       "      <td>65.570000</td>\n",
       "      <td>11.27</td>\n",
       "      <td>52.750000</td>\n",
       "      <td>40.460377</td>\n",
       "      <td>66.900002</td>\n",
       "      <td>210.330002</td>\n",
       "      <td>4688.680176</td>\n",
       "    </tr>\n",
       "    <tr>\n",
       "      <th>2024-01-05</th>\n",
       "      <td>13.60</td>\n",
       "      <td>72.102852</td>\n",
       "      <td>179.862854</td>\n",
       "      <td>4.150</td>\n",
       "      <td>135.979996</td>\n",
       "      <td>8.000</td>\n",
       "      <td>3.84</td>\n",
       "      <td>564.599976</td>\n",
       "      <td>182.643555</td>\n",
       "      <td>5.910</td>\n",
       "      <td>...</td>\n",
       "      <td>35.901123</td>\n",
       "      <td>53.709999</td>\n",
       "      <td>252.690002</td>\n",
       "      <td>65.160004</td>\n",
       "      <td>11.27</td>\n",
       "      <td>52.430000</td>\n",
       "      <td>41.798298</td>\n",
       "      <td>66.959999</td>\n",
       "      <td>209.809998</td>\n",
       "      <td>4697.240234</td>\n",
       "    </tr>\n",
       "    <tr>\n",
       "      <th>2024-01-08</th>\n",
       "      <td>14.58</td>\n",
       "      <td>73.346863</td>\n",
       "      <td>184.210999</td>\n",
       "      <td>4.120</td>\n",
       "      <td>140.080002</td>\n",
       "      <td>7.950</td>\n",
       "      <td>3.89</td>\n",
       "      <td>580.549988</td>\n",
       "      <td>185.022690</td>\n",
       "      <td>5.940</td>\n",
       "      <td>...</td>\n",
       "      <td>36.153263</td>\n",
       "      <td>55.669998</td>\n",
       "      <td>261.089996</td>\n",
       "      <td>66.650002</td>\n",
       "      <td>11.28</td>\n",
       "      <td>54.580002</td>\n",
       "      <td>42.263252</td>\n",
       "      <td>68.389999</td>\n",
       "      <td>218.100006</td>\n",
       "      <td>4763.540039</td>\n",
       "    </tr>\n",
       "    <tr>\n",
       "      <th>...</th>\n",
       "      <td>...</td>\n",
       "      <td>...</td>\n",
       "      <td>...</td>\n",
       "      <td>...</td>\n",
       "      <td>...</td>\n",
       "      <td>...</td>\n",
       "      <td>...</td>\n",
       "      <td>...</td>\n",
       "      <td>...</td>\n",
       "      <td>...</td>\n",
       "      <td>...</td>\n",
       "      <td>...</td>\n",
       "      <td>...</td>\n",
       "      <td>...</td>\n",
       "      <td>...</td>\n",
       "      <td>...</td>\n",
       "      <td>...</td>\n",
       "      <td>...</td>\n",
       "      <td>...</td>\n",
       "      <td>...</td>\n",
       "      <td>...</td>\n",
       "    </tr>\n",
       "    <tr>\n",
       "      <th>2025-05-08</th>\n",
       "      <td>11.03</td>\n",
       "      <td>99.430000</td>\n",
       "      <td>197.231369</td>\n",
       "      <td>1.410</td>\n",
       "      <td>126.389999</td>\n",
       "      <td>3.975</td>\n",
       "      <td>3.54</td>\n",
       "      <td>383.989990</td>\n",
       "      <td>202.779999</td>\n",
       "      <td>3.340</td>\n",
       "      <td>...</td>\n",
       "      <td>32.689999</td>\n",
       "      <td>67.900002</td>\n",
       "      <td>265.369995</td>\n",
       "      <td>32.380001</td>\n",
       "      <td>1.60</td>\n",
       "      <td>66.750000</td>\n",
       "      <td>46.364128</td>\n",
       "      <td>80.250000</td>\n",
       "      <td>233.149994</td>\n",
       "      <td>5663.939941</td>\n",
       "    </tr>\n",
       "    <tr>\n",
       "      <th>2025-05-09</th>\n",
       "      <td>11.11</td>\n",
       "      <td>100.230003</td>\n",
       "      <td>198.270004</td>\n",
       "      <td>1.400</td>\n",
       "      <td>127.040001</td>\n",
       "      <td>4.400</td>\n",
       "      <td>3.77</td>\n",
       "      <td>383.279999</td>\n",
       "      <td>207.509995</td>\n",
       "      <td>2.800</td>\n",
       "      <td>...</td>\n",
       "      <td>32.790001</td>\n",
       "      <td>67.930000</td>\n",
       "      <td>266.709991</td>\n",
       "      <td>30.910000</td>\n",
       "      <td>1.67</td>\n",
       "      <td>66.779999</td>\n",
       "      <td>46.106380</td>\n",
       "      <td>81.309998</td>\n",
       "      <td>233.059998</td>\n",
       "      <td>5659.910156</td>\n",
       "    </tr>\n",
       "    <tr>\n",
       "      <th>2025-05-12</th>\n",
       "      <td>11.67</td>\n",
       "      <td>104.629997</td>\n",
       "      <td>210.789993</td>\n",
       "      <td>1.340</td>\n",
       "      <td>134.210007</td>\n",
       "      <td>4.940</td>\n",
       "      <td>3.89</td>\n",
       "      <td>395.940002</td>\n",
       "      <td>223.149994</td>\n",
       "      <td>2.740</td>\n",
       "      <td>...</td>\n",
       "      <td>32.099998</td>\n",
       "      <td>71.209999</td>\n",
       "      <td>300.109985</td>\n",
       "      <td>34.700001</td>\n",
       "      <td>1.57</td>\n",
       "      <td>70.080002</td>\n",
       "      <td>49.030781</td>\n",
       "      <td>82.669998</td>\n",
       "      <td>241.479996</td>\n",
       "      <td>5844.189941</td>\n",
       "    </tr>\n",
       "    <tr>\n",
       "      <th>2025-05-13</th>\n",
       "      <td>12.30</td>\n",
       "      <td>105.949997</td>\n",
       "      <td>212.929993</td>\n",
       "      <td>1.400</td>\n",
       "      <td>138.050003</td>\n",
       "      <td>5.690</td>\n",
       "      <td>3.88</td>\n",
       "      <td>397.399994</td>\n",
       "      <td>226.679993</td>\n",
       "      <td>2.689</td>\n",
       "      <td>...</td>\n",
       "      <td>32.279999</td>\n",
       "      <td>70.290001</td>\n",
       "      <td>302.380005</td>\n",
       "      <td>33.990002</td>\n",
       "      <td>1.60</td>\n",
       "      <td>69.239998</td>\n",
       "      <td>49.486790</td>\n",
       "      <td>83.180000</td>\n",
       "      <td>245.000000</td>\n",
       "      <td>5886.549805</td>\n",
       "    </tr>\n",
       "    <tr>\n",
       "      <th>2025-05-14</th>\n",
       "      <td>11.84</td>\n",
       "      <td>104.889999</td>\n",
       "      <td>212.330002</td>\n",
       "      <td>1.580</td>\n",
       "      <td>137.449997</td>\n",
       "      <td>6.150</td>\n",
       "      <td>3.73</td>\n",
       "      <td>399.470001</td>\n",
       "      <td>226.820007</td>\n",
       "      <td>2.730</td>\n",
       "      <td>...</td>\n",
       "      <td>31.670000</td>\n",
       "      <td>68.260002</td>\n",
       "      <td>299.269989</td>\n",
       "      <td>33.450001</td>\n",
       "      <td>1.58</td>\n",
       "      <td>67.250000</td>\n",
       "      <td>49.119999</td>\n",
       "      <td>83.269997</td>\n",
       "      <td>244.449997</td>\n",
       "      <td>5892.580078</td>\n",
       "    </tr>\n",
       "  </tbody>\n",
       "</table>\n",
       "<p>343 rows × 500 columns</p>\n",
       "</div>"
      ],
      "text/plain": [
       "Ticker        AAL        AAON        AAPL   ABAT        ABNB   ACDC  ACTG  \\\n",
       "Date                                                                        \n",
       "2024-01-02  13.44   73.545906  184.290436  4.405  134.479996  7.980  3.92   \n",
       "2024-01-03  12.95   72.759705  182.910522  4.230  133.419998  7.950  3.89   \n",
       "2024-01-04  13.09   73.386673  180.587524  4.250  133.720001  7.640  3.82   \n",
       "2024-01-05  13.60   72.102852  179.862854  4.150  135.979996  8.000  3.84   \n",
       "2024-01-08  14.58   73.346863  184.210999  4.120  140.080002  7.950  3.89   \n",
       "...           ...         ...         ...    ...         ...    ...   ...   \n",
       "2025-05-08  11.03   99.430000  197.231369  1.410  126.389999  3.975  3.54   \n",
       "2025-05-09  11.11  100.230003  198.270004  1.400  127.040001  4.400  3.77   \n",
       "2025-05-12  11.67  104.629997  210.789993  1.340  134.210007  4.940  3.89   \n",
       "2025-05-13  12.30  105.949997  212.929993  1.400  138.050003  5.690  3.88   \n",
       "2025-05-14  11.84  104.889999  212.330002  1.580  137.449997  6.150  3.73   \n",
       "\n",
       "Ticker            ADBE         ADI    ADN  ...       YORW          Z  \\\n",
       "Date                                       ...                         \n",
       "2024-01-02  580.070007  189.526367  6.600  ...  37.200626  57.250000   \n",
       "2024-01-03  571.789978  185.003113  6.150  ...  36.628456  55.230000   \n",
       "2024-01-04  567.049988  182.173599  6.000  ...  36.250244  54.160000   \n",
       "2024-01-05  564.599976  182.643555  5.910  ...  35.901123  53.709999   \n",
       "2024-01-08  580.549988  185.022690  5.940  ...  36.153263  55.669998   \n",
       "...                ...         ...    ...  ...        ...        ...   \n",
       "2025-05-08  383.989990  202.779999  3.340  ...  32.689999  67.900002   \n",
       "2025-05-09  383.279999  207.509995  2.800  ...  32.790001  67.930000   \n",
       "2025-05-12  395.940002  223.149994  2.740  ...  32.099998  71.209999   \n",
       "2025-05-13  397.399994  226.679993  2.689  ...  32.279999  70.290001   \n",
       "2025-05-14  399.470001  226.820007  2.730  ...  31.670000  68.260002   \n",
       "\n",
       "Ticker            ZBRA         ZD    ZEO         ZG       ZION         ZM  \\\n",
       "Date                                                                        \n",
       "2024-01-02  267.980011  67.309998  11.26  56.220001  41.883701  69.150002   \n",
       "2024-01-03  252.520004  65.860001  11.28  53.980000  39.853088  67.169998   \n",
       "2024-01-04  252.970001  65.570000  11.27  52.750000  40.460377  66.900002   \n",
       "2024-01-05  252.690002  65.160004  11.27  52.430000  41.798298  66.959999   \n",
       "2024-01-08  261.089996  66.650002  11.28  54.580002  42.263252  68.389999   \n",
       "...                ...        ...    ...        ...        ...        ...   \n",
       "2025-05-08  265.369995  32.380001   1.60  66.750000  46.364128  80.250000   \n",
       "2025-05-09  266.709991  30.910000   1.67  66.779999  46.106380  81.309998   \n",
       "2025-05-12  300.109985  34.700001   1.57  70.080002  49.030781  82.669998   \n",
       "2025-05-13  302.380005  33.990002   1.60  69.239998  49.486790  83.180000   \n",
       "2025-05-14  299.269989  33.450001   1.58  67.250000  49.119999  83.269997   \n",
       "\n",
       "Ticker              ZS        ^GSPC  \n",
       "Date                                 \n",
       "2024-01-02  212.369995  4742.830078  \n",
       "2024-01-03  210.240005  4704.810059  \n",
       "2024-01-04  210.330002  4688.680176  \n",
       "2024-01-05  209.809998  4697.240234  \n",
       "2024-01-08  218.100006  4763.540039  \n",
       "...                ...          ...  \n",
       "2025-05-08  233.149994  5663.939941  \n",
       "2025-05-09  233.059998  5659.910156  \n",
       "2025-05-12  241.479996  5844.189941  \n",
       "2025-05-13  245.000000  5886.549805  \n",
       "2025-05-14  244.449997  5892.580078  \n",
       "\n",
       "[343 rows x 500 columns]"
      ]
     },
     "execution_count": 4,
     "metadata": {},
     "output_type": "execute_result"
    }
   ],
   "source": [
    "stock_price = yf.download(tickers=ticker, start = analysis_start, end = analysis_end)['Close'].dropna(axis = 1)\n",
    "stock_price"
   ]
  },
  {
   "cell_type": "code",
   "execution_count": 5,
   "id": "1604982b",
   "metadata": {},
   "outputs": [
    {
     "data": {
      "text/html": [
       "<div>\n",
       "<style scoped>\n",
       "    .dataframe tbody tr th:only-of-type {\n",
       "        vertical-align: middle;\n",
       "    }\n",
       "\n",
       "    .dataframe tbody tr th {\n",
       "        vertical-align: top;\n",
       "    }\n",
       "\n",
       "    .dataframe thead th {\n",
       "        text-align: right;\n",
       "    }\n",
       "</style>\n",
       "<table border=\"1\" class=\"dataframe\">\n",
       "  <thead>\n",
       "    <tr style=\"text-align: right;\">\n",
       "      <th>Ticker</th>\n",
       "      <th>AAL</th>\n",
       "      <th>AAON</th>\n",
       "      <th>AAPL</th>\n",
       "      <th>ABAT</th>\n",
       "      <th>ABNB</th>\n",
       "      <th>ACDC</th>\n",
       "      <th>ACTG</th>\n",
       "      <th>ADBE</th>\n",
       "      <th>ADI</th>\n",
       "      <th>ADN</th>\n",
       "      <th>...</th>\n",
       "      <th>XPON</th>\n",
       "      <th>YORW</th>\n",
       "      <th>Z</th>\n",
       "      <th>ZBRA</th>\n",
       "      <th>ZD</th>\n",
       "      <th>ZEO</th>\n",
       "      <th>ZG</th>\n",
       "      <th>ZION</th>\n",
       "      <th>ZM</th>\n",
       "      <th>ZS</th>\n",
       "    </tr>\n",
       "    <tr>\n",
       "      <th>Date</th>\n",
       "      <th></th>\n",
       "      <th></th>\n",
       "      <th></th>\n",
       "      <th></th>\n",
       "      <th></th>\n",
       "      <th></th>\n",
       "      <th></th>\n",
       "      <th></th>\n",
       "      <th></th>\n",
       "      <th></th>\n",
       "      <th></th>\n",
       "      <th></th>\n",
       "      <th></th>\n",
       "      <th></th>\n",
       "      <th></th>\n",
       "      <th></th>\n",
       "      <th></th>\n",
       "      <th></th>\n",
       "      <th></th>\n",
       "      <th></th>\n",
       "      <th></th>\n",
       "    </tr>\n",
       "  </thead>\n",
       "  <tbody>\n",
       "    <tr>\n",
       "      <th>2024-01-03</th>\n",
       "      <td>-0.036458</td>\n",
       "      <td>-0.010690</td>\n",
       "      <td>-0.007488</td>\n",
       "      <td>-0.039728</td>\n",
       "      <td>-0.007882</td>\n",
       "      <td>-0.003759</td>\n",
       "      <td>-0.007653</td>\n",
       "      <td>-0.014274</td>\n",
       "      <td>-0.023866</td>\n",
       "      <td>-0.068182</td>\n",
       "      <td>...</td>\n",
       "      <td>0.015968</td>\n",
       "      <td>-0.015381</td>\n",
       "      <td>-0.035284</td>\n",
       "      <td>-0.057691</td>\n",
       "      <td>-0.021542</td>\n",
       "      <td>0.001776</td>\n",
       "      <td>-0.039844</td>\n",
       "      <td>-0.048482</td>\n",
       "      <td>-0.028633</td>\n",
       "      <td>-0.010030</td>\n",
       "    </tr>\n",
       "    <tr>\n",
       "      <th>2024-01-04</th>\n",
       "      <td>0.010811</td>\n",
       "      <td>0.008617</td>\n",
       "      <td>-0.012700</td>\n",
       "      <td>0.004728</td>\n",
       "      <td>0.002249</td>\n",
       "      <td>-0.038994</td>\n",
       "      <td>-0.017995</td>\n",
       "      <td>-0.008290</td>\n",
       "      <td>-0.015294</td>\n",
       "      <td>-0.024390</td>\n",
       "      <td>...</td>\n",
       "      <td>0.023576</td>\n",
       "      <td>-0.010326</td>\n",
       "      <td>-0.019374</td>\n",
       "      <td>0.001782</td>\n",
       "      <td>-0.004403</td>\n",
       "      <td>-0.000886</td>\n",
       "      <td>-0.022786</td>\n",
       "      <td>0.015238</td>\n",
       "      <td>-0.004020</td>\n",
       "      <td>0.000428</td>\n",
       "    </tr>\n",
       "    <tr>\n",
       "      <th>2024-01-05</th>\n",
       "      <td>0.038961</td>\n",
       "      <td>-0.017494</td>\n",
       "      <td>-0.004013</td>\n",
       "      <td>-0.023529</td>\n",
       "      <td>0.016901</td>\n",
       "      <td>0.047120</td>\n",
       "      <td>0.005236</td>\n",
       "      <td>-0.004321</td>\n",
       "      <td>0.002580</td>\n",
       "      <td>-0.015000</td>\n",
       "      <td>...</td>\n",
       "      <td>-0.007678</td>\n",
       "      <td>-0.009631</td>\n",
       "      <td>-0.008309</td>\n",
       "      <td>-0.001107</td>\n",
       "      <td>-0.006253</td>\n",
       "      <td>0.000000</td>\n",
       "      <td>-0.006066</td>\n",
       "      <td>0.033067</td>\n",
       "      <td>0.000897</td>\n",
       "      <td>-0.002472</td>\n",
       "    </tr>\n",
       "    <tr>\n",
       "      <th>2024-01-08</th>\n",
       "      <td>0.072059</td>\n",
       "      <td>0.017253</td>\n",
       "      <td>0.024175</td>\n",
       "      <td>-0.007229</td>\n",
       "      <td>0.030152</td>\n",
       "      <td>-0.006250</td>\n",
       "      <td>0.013021</td>\n",
       "      <td>0.028250</td>\n",
       "      <td>0.013026</td>\n",
       "      <td>0.005076</td>\n",
       "      <td>...</td>\n",
       "      <td>-0.015474</td>\n",
       "      <td>0.007023</td>\n",
       "      <td>0.036492</td>\n",
       "      <td>0.033242</td>\n",
       "      <td>0.022867</td>\n",
       "      <td>0.000887</td>\n",
       "      <td>0.041007</td>\n",
       "      <td>0.011124</td>\n",
       "      <td>0.021356</td>\n",
       "      <td>0.039512</td>\n",
       "    </tr>\n",
       "    <tr>\n",
       "      <th>2024-01-09</th>\n",
       "      <td>-0.013717</td>\n",
       "      <td>-0.013840</td>\n",
       "      <td>-0.002263</td>\n",
       "      <td>-0.007281</td>\n",
       "      <td>-0.003926</td>\n",
       "      <td>-0.015094</td>\n",
       "      <td>0.000000</td>\n",
       "      <td>0.009732</td>\n",
       "      <td>0.004127</td>\n",
       "      <td>0.010101</td>\n",
       "      <td>...</td>\n",
       "      <td>0.021611</td>\n",
       "      <td>-0.010998</td>\n",
       "      <td>-0.004131</td>\n",
       "      <td>-0.017810</td>\n",
       "      <td>-0.018305</td>\n",
       "      <td>0.000000</td>\n",
       "      <td>-0.004214</td>\n",
       "      <td>-0.011226</td>\n",
       "      <td>-0.001170</td>\n",
       "      <td>0.037414</td>\n",
       "    </tr>\n",
       "    <tr>\n",
       "      <th>...</th>\n",
       "      <td>...</td>\n",
       "      <td>...</td>\n",
       "      <td>...</td>\n",
       "      <td>...</td>\n",
       "      <td>...</td>\n",
       "      <td>...</td>\n",
       "      <td>...</td>\n",
       "      <td>...</td>\n",
       "      <td>...</td>\n",
       "      <td>...</td>\n",
       "      <td>...</td>\n",
       "      <td>...</td>\n",
       "      <td>...</td>\n",
       "      <td>...</td>\n",
       "      <td>...</td>\n",
       "      <td>...</td>\n",
       "      <td>...</td>\n",
       "      <td>...</td>\n",
       "      <td>...</td>\n",
       "      <td>...</td>\n",
       "      <td>...</td>\n",
       "    </tr>\n",
       "    <tr>\n",
       "      <th>2025-05-08</th>\n",
       "      <td>0.044508</td>\n",
       "      <td>0.038867</td>\n",
       "      <td>0.006319</td>\n",
       "      <td>0.052239</td>\n",
       "      <td>0.026559</td>\n",
       "      <td>-0.058057</td>\n",
       "      <td>0.153094</td>\n",
       "      <td>-0.002546</td>\n",
       "      <td>0.014610</td>\n",
       "      <td>-0.005952</td>\n",
       "      <td>...</td>\n",
       "      <td>0.062356</td>\n",
       "      <td>-0.014768</td>\n",
       "      <td>0.000295</td>\n",
       "      <td>0.031444</td>\n",
       "      <td>0.023712</td>\n",
       "      <td>-0.030303</td>\n",
       "      <td>0.004666</td>\n",
       "      <td>0.030403</td>\n",
       "      <td>0.020473</td>\n",
       "      <td>-0.001670</td>\n",
       "    </tr>\n",
       "    <tr>\n",
       "      <th>2025-05-09</th>\n",
       "      <td>0.007253</td>\n",
       "      <td>0.008046</td>\n",
       "      <td>0.005266</td>\n",
       "      <td>-0.007092</td>\n",
       "      <td>0.005143</td>\n",
       "      <td>0.106918</td>\n",
       "      <td>0.064972</td>\n",
       "      <td>-0.001849</td>\n",
       "      <td>0.023326</td>\n",
       "      <td>-0.161677</td>\n",
       "      <td>...</td>\n",
       "      <td>0.097826</td>\n",
       "      <td>0.003059</td>\n",
       "      <td>0.000442</td>\n",
       "      <td>0.005050</td>\n",
       "      <td>-0.045398</td>\n",
       "      <td>0.043750</td>\n",
       "      <td>0.000449</td>\n",
       "      <td>-0.005559</td>\n",
       "      <td>0.013209</td>\n",
       "      <td>-0.000386</td>\n",
       "    </tr>\n",
       "    <tr>\n",
       "      <th>2025-05-12</th>\n",
       "      <td>0.050405</td>\n",
       "      <td>0.043899</td>\n",
       "      <td>0.063146</td>\n",
       "      <td>-0.042857</td>\n",
       "      <td>0.056439</td>\n",
       "      <td>0.122727</td>\n",
       "      <td>0.031830</td>\n",
       "      <td>0.033031</td>\n",
       "      <td>0.075370</td>\n",
       "      <td>-0.021429</td>\n",
       "      <td>...</td>\n",
       "      <td>-0.014851</td>\n",
       "      <td>-0.021043</td>\n",
       "      <td>0.048285</td>\n",
       "      <td>0.125230</td>\n",
       "      <td>0.122614</td>\n",
       "      <td>-0.059880</td>\n",
       "      <td>0.049416</td>\n",
       "      <td>0.063427</td>\n",
       "      <td>0.016726</td>\n",
       "      <td>0.036128</td>\n",
       "    </tr>\n",
       "    <tr>\n",
       "      <th>2025-05-13</th>\n",
       "      <td>0.053985</td>\n",
       "      <td>0.012616</td>\n",
       "      <td>0.010152</td>\n",
       "      <td>0.044776</td>\n",
       "      <td>0.028612</td>\n",
       "      <td>0.151822</td>\n",
       "      <td>-0.002571</td>\n",
       "      <td>0.003687</td>\n",
       "      <td>0.015819</td>\n",
       "      <td>-0.018613</td>\n",
       "      <td>...</td>\n",
       "      <td>0.055276</td>\n",
       "      <td>0.005607</td>\n",
       "      <td>-0.012920</td>\n",
       "      <td>0.007564</td>\n",
       "      <td>-0.020461</td>\n",
       "      <td>0.019108</td>\n",
       "      <td>-0.011986</td>\n",
       "      <td>0.009300</td>\n",
       "      <td>0.006169</td>\n",
       "      <td>0.014577</td>\n",
       "    </tr>\n",
       "    <tr>\n",
       "      <th>2025-05-14</th>\n",
       "      <td>-0.037398</td>\n",
       "      <td>-0.010005</td>\n",
       "      <td>-0.002818</td>\n",
       "      <td>0.128571</td>\n",
       "      <td>-0.004346</td>\n",
       "      <td>0.080844</td>\n",
       "      <td>-0.038660</td>\n",
       "      <td>0.005209</td>\n",
       "      <td>0.000618</td>\n",
       "      <td>0.015247</td>\n",
       "      <td>...</td>\n",
       "      <td>-0.038095</td>\n",
       "      <td>-0.018897</td>\n",
       "      <td>-0.028880</td>\n",
       "      <td>-0.010285</td>\n",
       "      <td>-0.015887</td>\n",
       "      <td>-0.012500</td>\n",
       "      <td>-0.028741</td>\n",
       "      <td>-0.007412</td>\n",
       "      <td>0.001082</td>\n",
       "      <td>-0.002245</td>\n",
       "    </tr>\n",
       "  </tbody>\n",
       "</table>\n",
       "<p>342 rows × 499 columns</p>\n",
       "</div>"
      ],
      "text/plain": [
       "Ticker           AAL      AAON      AAPL      ABAT      ABNB      ACDC  \\\n",
       "Date                                                                     \n",
       "2024-01-03 -0.036458 -0.010690 -0.007488 -0.039728 -0.007882 -0.003759   \n",
       "2024-01-04  0.010811  0.008617 -0.012700  0.004728  0.002249 -0.038994   \n",
       "2024-01-05  0.038961 -0.017494 -0.004013 -0.023529  0.016901  0.047120   \n",
       "2024-01-08  0.072059  0.017253  0.024175 -0.007229  0.030152 -0.006250   \n",
       "2024-01-09 -0.013717 -0.013840 -0.002263 -0.007281 -0.003926 -0.015094   \n",
       "...              ...       ...       ...       ...       ...       ...   \n",
       "2025-05-08  0.044508  0.038867  0.006319  0.052239  0.026559 -0.058057   \n",
       "2025-05-09  0.007253  0.008046  0.005266 -0.007092  0.005143  0.106918   \n",
       "2025-05-12  0.050405  0.043899  0.063146 -0.042857  0.056439  0.122727   \n",
       "2025-05-13  0.053985  0.012616  0.010152  0.044776  0.028612  0.151822   \n",
       "2025-05-14 -0.037398 -0.010005 -0.002818  0.128571 -0.004346  0.080844   \n",
       "\n",
       "Ticker          ACTG      ADBE       ADI       ADN  ...      XPON      YORW  \\\n",
       "Date                                                ...                       \n",
       "2024-01-03 -0.007653 -0.014274 -0.023866 -0.068182  ...  0.015968 -0.015381   \n",
       "2024-01-04 -0.017995 -0.008290 -0.015294 -0.024390  ...  0.023576 -0.010326   \n",
       "2024-01-05  0.005236 -0.004321  0.002580 -0.015000  ... -0.007678 -0.009631   \n",
       "2024-01-08  0.013021  0.028250  0.013026  0.005076  ... -0.015474  0.007023   \n",
       "2024-01-09  0.000000  0.009732  0.004127  0.010101  ...  0.021611 -0.010998   \n",
       "...              ...       ...       ...       ...  ...       ...       ...   \n",
       "2025-05-08  0.153094 -0.002546  0.014610 -0.005952  ...  0.062356 -0.014768   \n",
       "2025-05-09  0.064972 -0.001849  0.023326 -0.161677  ...  0.097826  0.003059   \n",
       "2025-05-12  0.031830  0.033031  0.075370 -0.021429  ... -0.014851 -0.021043   \n",
       "2025-05-13 -0.002571  0.003687  0.015819 -0.018613  ...  0.055276  0.005607   \n",
       "2025-05-14 -0.038660  0.005209  0.000618  0.015247  ... -0.038095 -0.018897   \n",
       "\n",
       "Ticker             Z      ZBRA        ZD       ZEO        ZG      ZION  \\\n",
       "Date                                                                     \n",
       "2024-01-03 -0.035284 -0.057691 -0.021542  0.001776 -0.039844 -0.048482   \n",
       "2024-01-04 -0.019374  0.001782 -0.004403 -0.000886 -0.022786  0.015238   \n",
       "2024-01-05 -0.008309 -0.001107 -0.006253  0.000000 -0.006066  0.033067   \n",
       "2024-01-08  0.036492  0.033242  0.022867  0.000887  0.041007  0.011124   \n",
       "2024-01-09 -0.004131 -0.017810 -0.018305  0.000000 -0.004214 -0.011226   \n",
       "...              ...       ...       ...       ...       ...       ...   \n",
       "2025-05-08  0.000295  0.031444  0.023712 -0.030303  0.004666  0.030403   \n",
       "2025-05-09  0.000442  0.005050 -0.045398  0.043750  0.000449 -0.005559   \n",
       "2025-05-12  0.048285  0.125230  0.122614 -0.059880  0.049416  0.063427   \n",
       "2025-05-13 -0.012920  0.007564 -0.020461  0.019108 -0.011986  0.009300   \n",
       "2025-05-14 -0.028880 -0.010285 -0.015887 -0.012500 -0.028741 -0.007412   \n",
       "\n",
       "Ticker            ZM        ZS  \n",
       "Date                            \n",
       "2024-01-03 -0.028633 -0.010030  \n",
       "2024-01-04 -0.004020  0.000428  \n",
       "2024-01-05  0.000897 -0.002472  \n",
       "2024-01-08  0.021356  0.039512  \n",
       "2024-01-09 -0.001170  0.037414  \n",
       "...              ...       ...  \n",
       "2025-05-08  0.020473 -0.001670  \n",
       "2025-05-09  0.013209 -0.000386  \n",
       "2025-05-12  0.016726  0.036128  \n",
       "2025-05-13  0.006169  0.014577  \n",
       "2025-05-14  0.001082 -0.002245  \n",
       "\n",
       "[342 rows x 499 columns]"
      ]
     },
     "execution_count": 5,
     "metadata": {},
     "output_type": "execute_result"
    }
   ],
   "source": [
    "returns = stock_price.pct_change().dropna()\n",
    "ticker = [col for col in stock_price.columns if col != market_ticker]\n",
    "stock_returns = returns[ticker]\n",
    "market_returns = returns[market_ticker]\n",
    "stock_returns"
   ]
  },
  {
   "cell_type": "code",
   "execution_count": 6,
   "id": "d4195858",
   "metadata": {},
   "outputs": [
    {
     "data": {
      "text/html": [
       "<div>\n",
       "<style scoped>\n",
       "    .dataframe tbody tr th:only-of-type {\n",
       "        vertical-align: middle;\n",
       "    }\n",
       "\n",
       "    .dataframe tbody tr th {\n",
       "        vertical-align: top;\n",
       "    }\n",
       "\n",
       "    .dataframe thead th {\n",
       "        text-align: right;\n",
       "    }\n",
       "</style>\n",
       "<table border=\"1\" class=\"dataframe\">\n",
       "  <thead>\n",
       "    <tr style=\"text-align: right;\">\n",
       "      <th></th>\n",
       "      <th>Symbol</th>\n",
       "      <th>Sector</th>\n",
       "      <th>Name</th>\n",
       "    </tr>\n",
       "  </thead>\n",
       "  <tbody>\n",
       "    <tr>\n",
       "      <th>0</th>\n",
       "      <td>UFPI</td>\n",
       "      <td>Basic Materials</td>\n",
       "      <td>UFP Industries Inc. Common Stock</td>\n",
       "    </tr>\n",
       "    <tr>\n",
       "      <th>1</th>\n",
       "      <td>AMWD</td>\n",
       "      <td>Basic Materials</td>\n",
       "      <td>American Woodmark Corporation Common Stock</td>\n",
       "    </tr>\n",
       "    <tr>\n",
       "      <th>2</th>\n",
       "      <td>IPX</td>\n",
       "      <td>Basic Materials</td>\n",
       "      <td>IperionX Limited American Depositary Share</td>\n",
       "    </tr>\n",
       "    <tr>\n",
       "      <th>3</th>\n",
       "      <td>EU</td>\n",
       "      <td>Basic Materials</td>\n",
       "      <td>enCore Energy Corp. Common Shares</td>\n",
       "    </tr>\n",
       "    <tr>\n",
       "      <th>4</th>\n",
       "      <td>USGO</td>\n",
       "      <td>Basic Materials</td>\n",
       "      <td>U.S. GoldMining Inc. Common stock</td>\n",
       "    </tr>\n",
       "    <tr>\n",
       "      <th>...</th>\n",
       "      <td>...</td>\n",
       "      <td>...</td>\n",
       "      <td>...</td>\n",
       "    </tr>\n",
       "    <tr>\n",
       "      <th>494</th>\n",
       "      <td>VIVK</td>\n",
       "      <td>Utilities</td>\n",
       "      <td>Vivakor Inc. Common Stock</td>\n",
       "    </tr>\n",
       "    <tr>\n",
       "      <th>495</th>\n",
       "      <td>SONM</td>\n",
       "      <td>Utilities</td>\n",
       "      <td>Sonim Technologies Inc. Common Stock</td>\n",
       "    </tr>\n",
       "    <tr>\n",
       "      <th>496</th>\n",
       "      <td>CLRO</td>\n",
       "      <td>Utilities</td>\n",
       "      <td>ClearOne Inc. (DE) Common Stock</td>\n",
       "    </tr>\n",
       "    <tr>\n",
       "      <th>497</th>\n",
       "      <td>SUNE</td>\n",
       "      <td>Utilities</td>\n",
       "      <td>SUNation Energy Inc. Common Stock</td>\n",
       "    </tr>\n",
       "    <tr>\n",
       "      <th>498</th>\n",
       "      <td>ALCE</td>\n",
       "      <td>Utilities</td>\n",
       "      <td>Alternus Clean Energy Inc. Class A Common Stock</td>\n",
       "    </tr>\n",
       "  </tbody>\n",
       "</table>\n",
       "<p>499 rows × 3 columns</p>\n",
       "</div>"
      ],
      "text/plain": [
       "    Symbol           Sector                                             Name\n",
       "0     UFPI  Basic Materials                 UFP Industries Inc. Common Stock\n",
       "1     AMWD  Basic Materials       American Woodmark Corporation Common Stock\n",
       "2      IPX  Basic Materials       IperionX Limited American Depositary Share\n",
       "3       EU  Basic Materials                enCore Energy Corp. Common Shares\n",
       "4     USGO  Basic Materials                U.S. GoldMining Inc. Common stock\n",
       "..     ...              ...                                              ...\n",
       "494   VIVK        Utilities                        Vivakor Inc. Common Stock\n",
       "495   SONM        Utilities             Sonim Technologies Inc. Common Stock\n",
       "496   CLRO        Utilities                  ClearOne Inc. (DE) Common Stock\n",
       "497   SUNE        Utilities                SUNation Energy Inc. Common Stock\n",
       "498   ALCE        Utilities  Alternus Clean Energy Inc. Class A Common Stock\n",
       "\n",
       "[499 rows x 3 columns]"
      ]
     },
     "execution_count": 6,
     "metadata": {},
     "output_type": "execute_result"
    }
   ],
   "source": [
    "sector_stocks = data[['Symbol', 'Sector']]\n",
    "sector_stocks_cleaned = sector_stocks[sector_stocks['Symbol'].apply(lambda x: x in ticker)]\n",
    "sector_stocks_cleaned_with_name = pd.merge(sector_stocks_cleaned, company_name_ticker, left_on='Symbol', right_on = 'Symbol')\n",
    "sector_stocks_cleaned_with_name"
   ]
  },
  {
   "cell_type": "code",
   "execution_count": 7,
   "id": "814ae6e5",
   "metadata": {},
   "outputs": [
    {
     "name": "stderr",
     "output_type": "stream",
     "text": [
      "/var/folders/g5/7q0ynznx5hs03d9_7j1h1qbc0000gn/T/ipykernel_5388/1251507463.py:6: PerformanceWarning: DataFrame is highly fragmented.  This is usually the result of calling `frame.insert` many times, which has poor performance.  Consider joining all columns at once using pd.concat(axis=1) instead. To get a de-fragmented frame, use `newframe = frame.copy()`\n",
      "  residuals[tick] = model.resid\n",
      "/var/folders/g5/7q0ynznx5hs03d9_7j1h1qbc0000gn/T/ipykernel_5388/1251507463.py:6: PerformanceWarning: DataFrame is highly fragmented.  This is usually the result of calling `frame.insert` many times, which has poor performance.  Consider joining all columns at once using pd.concat(axis=1) instead. To get a de-fragmented frame, use `newframe = frame.copy()`\n",
      "  residuals[tick] = model.resid\n",
      "/var/folders/g5/7q0ynznx5hs03d9_7j1h1qbc0000gn/T/ipykernel_5388/1251507463.py:6: PerformanceWarning: DataFrame is highly fragmented.  This is usually the result of calling `frame.insert` many times, which has poor performance.  Consider joining all columns at once using pd.concat(axis=1) instead. To get a de-fragmented frame, use `newframe = frame.copy()`\n",
      "  residuals[tick] = model.resid\n",
      "/var/folders/g5/7q0ynznx5hs03d9_7j1h1qbc0000gn/T/ipykernel_5388/1251507463.py:6: PerformanceWarning: DataFrame is highly fragmented.  This is usually the result of calling `frame.insert` many times, which has poor performance.  Consider joining all columns at once using pd.concat(axis=1) instead. To get a de-fragmented frame, use `newframe = frame.copy()`\n",
      "  residuals[tick] = model.resid\n",
      "/var/folders/g5/7q0ynznx5hs03d9_7j1h1qbc0000gn/T/ipykernel_5388/1251507463.py:6: PerformanceWarning: DataFrame is highly fragmented.  This is usually the result of calling `frame.insert` many times, which has poor performance.  Consider joining all columns at once using pd.concat(axis=1) instead. To get a de-fragmented frame, use `newframe = frame.copy()`\n",
      "  residuals[tick] = model.resid\n",
      "/var/folders/g5/7q0ynznx5hs03d9_7j1h1qbc0000gn/T/ipykernel_5388/1251507463.py:6: PerformanceWarning: DataFrame is highly fragmented.  This is usually the result of calling `frame.insert` many times, which has poor performance.  Consider joining all columns at once using pd.concat(axis=1) instead. To get a de-fragmented frame, use `newframe = frame.copy()`\n",
      "  residuals[tick] = model.resid\n",
      "/var/folders/g5/7q0ynznx5hs03d9_7j1h1qbc0000gn/T/ipykernel_5388/1251507463.py:6: PerformanceWarning: DataFrame is highly fragmented.  This is usually the result of calling `frame.insert` many times, which has poor performance.  Consider joining all columns at once using pd.concat(axis=1) instead. To get a de-fragmented frame, use `newframe = frame.copy()`\n",
      "  residuals[tick] = model.resid\n",
      "/var/folders/g5/7q0ynznx5hs03d9_7j1h1qbc0000gn/T/ipykernel_5388/1251507463.py:6: PerformanceWarning: DataFrame is highly fragmented.  This is usually the result of calling `frame.insert` many times, which has poor performance.  Consider joining all columns at once using pd.concat(axis=1) instead. To get a de-fragmented frame, use `newframe = frame.copy()`\n",
      "  residuals[tick] = model.resid\n",
      "/var/folders/g5/7q0ynznx5hs03d9_7j1h1qbc0000gn/T/ipykernel_5388/1251507463.py:6: PerformanceWarning: DataFrame is highly fragmented.  This is usually the result of calling `frame.insert` many times, which has poor performance.  Consider joining all columns at once using pd.concat(axis=1) instead. To get a de-fragmented frame, use `newframe = frame.copy()`\n",
      "  residuals[tick] = model.resid\n",
      "/var/folders/g5/7q0ynznx5hs03d9_7j1h1qbc0000gn/T/ipykernel_5388/1251507463.py:6: PerformanceWarning: DataFrame is highly fragmented.  This is usually the result of calling `frame.insert` many times, which has poor performance.  Consider joining all columns at once using pd.concat(axis=1) instead. To get a de-fragmented frame, use `newframe = frame.copy()`\n",
      "  residuals[tick] = model.resid\n",
      "/var/folders/g5/7q0ynznx5hs03d9_7j1h1qbc0000gn/T/ipykernel_5388/1251507463.py:6: PerformanceWarning: DataFrame is highly fragmented.  This is usually the result of calling `frame.insert` many times, which has poor performance.  Consider joining all columns at once using pd.concat(axis=1) instead. To get a de-fragmented frame, use `newframe = frame.copy()`\n",
      "  residuals[tick] = model.resid\n",
      "/var/folders/g5/7q0ynznx5hs03d9_7j1h1qbc0000gn/T/ipykernel_5388/1251507463.py:6: PerformanceWarning: DataFrame is highly fragmented.  This is usually the result of calling `frame.insert` many times, which has poor performance.  Consider joining all columns at once using pd.concat(axis=1) instead. To get a de-fragmented frame, use `newframe = frame.copy()`\n",
      "  residuals[tick] = model.resid\n",
      "/var/folders/g5/7q0ynznx5hs03d9_7j1h1qbc0000gn/T/ipykernel_5388/1251507463.py:6: PerformanceWarning: DataFrame is highly fragmented.  This is usually the result of calling `frame.insert` many times, which has poor performance.  Consider joining all columns at once using pd.concat(axis=1) instead. To get a de-fragmented frame, use `newframe = frame.copy()`\n",
      "  residuals[tick] = model.resid\n",
      "/var/folders/g5/7q0ynznx5hs03d9_7j1h1qbc0000gn/T/ipykernel_5388/1251507463.py:6: PerformanceWarning: DataFrame is highly fragmented.  This is usually the result of calling `frame.insert` many times, which has poor performance.  Consider joining all columns at once using pd.concat(axis=1) instead. To get a de-fragmented frame, use `newframe = frame.copy()`\n",
      "  residuals[tick] = model.resid\n",
      "/var/folders/g5/7q0ynznx5hs03d9_7j1h1qbc0000gn/T/ipykernel_5388/1251507463.py:6: PerformanceWarning: DataFrame is highly fragmented.  This is usually the result of calling `frame.insert` many times, which has poor performance.  Consider joining all columns at once using pd.concat(axis=1) instead. To get a de-fragmented frame, use `newframe = frame.copy()`\n",
      "  residuals[tick] = model.resid\n",
      "/var/folders/g5/7q0ynznx5hs03d9_7j1h1qbc0000gn/T/ipykernel_5388/1251507463.py:6: PerformanceWarning: DataFrame is highly fragmented.  This is usually the result of calling `frame.insert` many times, which has poor performance.  Consider joining all columns at once using pd.concat(axis=1) instead. To get a de-fragmented frame, use `newframe = frame.copy()`\n",
      "  residuals[tick] = model.resid\n",
      "/var/folders/g5/7q0ynznx5hs03d9_7j1h1qbc0000gn/T/ipykernel_5388/1251507463.py:6: PerformanceWarning: DataFrame is highly fragmented.  This is usually the result of calling `frame.insert` many times, which has poor performance.  Consider joining all columns at once using pd.concat(axis=1) instead. To get a de-fragmented frame, use `newframe = frame.copy()`\n",
      "  residuals[tick] = model.resid\n",
      "/var/folders/g5/7q0ynznx5hs03d9_7j1h1qbc0000gn/T/ipykernel_5388/1251507463.py:6: PerformanceWarning: DataFrame is highly fragmented.  This is usually the result of calling `frame.insert` many times, which has poor performance.  Consider joining all columns at once using pd.concat(axis=1) instead. To get a de-fragmented frame, use `newframe = frame.copy()`\n",
      "  residuals[tick] = model.resid\n",
      "/var/folders/g5/7q0ynznx5hs03d9_7j1h1qbc0000gn/T/ipykernel_5388/1251507463.py:6: PerformanceWarning: DataFrame is highly fragmented.  This is usually the result of calling `frame.insert` many times, which has poor performance.  Consider joining all columns at once using pd.concat(axis=1) instead. To get a de-fragmented frame, use `newframe = frame.copy()`\n",
      "  residuals[tick] = model.resid\n",
      "/var/folders/g5/7q0ynznx5hs03d9_7j1h1qbc0000gn/T/ipykernel_5388/1251507463.py:6: PerformanceWarning: DataFrame is highly fragmented.  This is usually the result of calling `frame.insert` many times, which has poor performance.  Consider joining all columns at once using pd.concat(axis=1) instead. To get a de-fragmented frame, use `newframe = frame.copy()`\n",
      "  residuals[tick] = model.resid\n",
      "/var/folders/g5/7q0ynznx5hs03d9_7j1h1qbc0000gn/T/ipykernel_5388/1251507463.py:6: PerformanceWarning: DataFrame is highly fragmented.  This is usually the result of calling `frame.insert` many times, which has poor performance.  Consider joining all columns at once using pd.concat(axis=1) instead. To get a de-fragmented frame, use `newframe = frame.copy()`\n",
      "  residuals[tick] = model.resid\n",
      "/var/folders/g5/7q0ynznx5hs03d9_7j1h1qbc0000gn/T/ipykernel_5388/1251507463.py:6: PerformanceWarning: DataFrame is highly fragmented.  This is usually the result of calling `frame.insert` many times, which has poor performance.  Consider joining all columns at once using pd.concat(axis=1) instead. To get a de-fragmented frame, use `newframe = frame.copy()`\n",
      "  residuals[tick] = model.resid\n",
      "/var/folders/g5/7q0ynznx5hs03d9_7j1h1qbc0000gn/T/ipykernel_5388/1251507463.py:6: PerformanceWarning: DataFrame is highly fragmented.  This is usually the result of calling `frame.insert` many times, which has poor performance.  Consider joining all columns at once using pd.concat(axis=1) instead. To get a de-fragmented frame, use `newframe = frame.copy()`\n",
      "  residuals[tick] = model.resid\n",
      "/var/folders/g5/7q0ynznx5hs03d9_7j1h1qbc0000gn/T/ipykernel_5388/1251507463.py:6: PerformanceWarning: DataFrame is highly fragmented.  This is usually the result of calling `frame.insert` many times, which has poor performance.  Consider joining all columns at once using pd.concat(axis=1) instead. To get a de-fragmented frame, use `newframe = frame.copy()`\n",
      "  residuals[tick] = model.resid\n",
      "/var/folders/g5/7q0ynznx5hs03d9_7j1h1qbc0000gn/T/ipykernel_5388/1251507463.py:6: PerformanceWarning: DataFrame is highly fragmented.  This is usually the result of calling `frame.insert` many times, which has poor performance.  Consider joining all columns at once using pd.concat(axis=1) instead. To get a de-fragmented frame, use `newframe = frame.copy()`\n",
      "  residuals[tick] = model.resid\n",
      "/var/folders/g5/7q0ynznx5hs03d9_7j1h1qbc0000gn/T/ipykernel_5388/1251507463.py:6: PerformanceWarning: DataFrame is highly fragmented.  This is usually the result of calling `frame.insert` many times, which has poor performance.  Consider joining all columns at once using pd.concat(axis=1) instead. To get a de-fragmented frame, use `newframe = frame.copy()`\n",
      "  residuals[tick] = model.resid\n",
      "/var/folders/g5/7q0ynznx5hs03d9_7j1h1qbc0000gn/T/ipykernel_5388/1251507463.py:6: PerformanceWarning: DataFrame is highly fragmented.  This is usually the result of calling `frame.insert` many times, which has poor performance.  Consider joining all columns at once using pd.concat(axis=1) instead. To get a de-fragmented frame, use `newframe = frame.copy()`\n",
      "  residuals[tick] = model.resid\n",
      "/var/folders/g5/7q0ynznx5hs03d9_7j1h1qbc0000gn/T/ipykernel_5388/1251507463.py:6: PerformanceWarning: DataFrame is highly fragmented.  This is usually the result of calling `frame.insert` many times, which has poor performance.  Consider joining all columns at once using pd.concat(axis=1) instead. To get a de-fragmented frame, use `newframe = frame.copy()`\n",
      "  residuals[tick] = model.resid\n",
      "/var/folders/g5/7q0ynznx5hs03d9_7j1h1qbc0000gn/T/ipykernel_5388/1251507463.py:6: PerformanceWarning: DataFrame is highly fragmented.  This is usually the result of calling `frame.insert` many times, which has poor performance.  Consider joining all columns at once using pd.concat(axis=1) instead. To get a de-fragmented frame, use `newframe = frame.copy()`\n",
      "  residuals[tick] = model.resid\n",
      "/var/folders/g5/7q0ynznx5hs03d9_7j1h1qbc0000gn/T/ipykernel_5388/1251507463.py:6: PerformanceWarning: DataFrame is highly fragmented.  This is usually the result of calling `frame.insert` many times, which has poor performance.  Consider joining all columns at once using pd.concat(axis=1) instead. To get a de-fragmented frame, use `newframe = frame.copy()`\n",
      "  residuals[tick] = model.resid\n",
      "/var/folders/g5/7q0ynznx5hs03d9_7j1h1qbc0000gn/T/ipykernel_5388/1251507463.py:6: PerformanceWarning: DataFrame is highly fragmented.  This is usually the result of calling `frame.insert` many times, which has poor performance.  Consider joining all columns at once using pd.concat(axis=1) instead. To get a de-fragmented frame, use `newframe = frame.copy()`\n",
      "  residuals[tick] = model.resid\n",
      "/var/folders/g5/7q0ynznx5hs03d9_7j1h1qbc0000gn/T/ipykernel_5388/1251507463.py:6: PerformanceWarning: DataFrame is highly fragmented.  This is usually the result of calling `frame.insert` many times, which has poor performance.  Consider joining all columns at once using pd.concat(axis=1) instead. To get a de-fragmented frame, use `newframe = frame.copy()`\n",
      "  residuals[tick] = model.resid\n",
      "/var/folders/g5/7q0ynznx5hs03d9_7j1h1qbc0000gn/T/ipykernel_5388/1251507463.py:6: PerformanceWarning: DataFrame is highly fragmented.  This is usually the result of calling `frame.insert` many times, which has poor performance.  Consider joining all columns at once using pd.concat(axis=1) instead. To get a de-fragmented frame, use `newframe = frame.copy()`\n",
      "  residuals[tick] = model.resid\n",
      "/var/folders/g5/7q0ynznx5hs03d9_7j1h1qbc0000gn/T/ipykernel_5388/1251507463.py:6: PerformanceWarning: DataFrame is highly fragmented.  This is usually the result of calling `frame.insert` many times, which has poor performance.  Consider joining all columns at once using pd.concat(axis=1) instead. To get a de-fragmented frame, use `newframe = frame.copy()`\n",
      "  residuals[tick] = model.resid\n",
      "/var/folders/g5/7q0ynznx5hs03d9_7j1h1qbc0000gn/T/ipykernel_5388/1251507463.py:6: PerformanceWarning: DataFrame is highly fragmented.  This is usually the result of calling `frame.insert` many times, which has poor performance.  Consider joining all columns at once using pd.concat(axis=1) instead. To get a de-fragmented frame, use `newframe = frame.copy()`\n",
      "  residuals[tick] = model.resid\n",
      "/var/folders/g5/7q0ynznx5hs03d9_7j1h1qbc0000gn/T/ipykernel_5388/1251507463.py:6: PerformanceWarning: DataFrame is highly fragmented.  This is usually the result of calling `frame.insert` many times, which has poor performance.  Consider joining all columns at once using pd.concat(axis=1) instead. To get a de-fragmented frame, use `newframe = frame.copy()`\n",
      "  residuals[tick] = model.resid\n",
      "/var/folders/g5/7q0ynznx5hs03d9_7j1h1qbc0000gn/T/ipykernel_5388/1251507463.py:6: PerformanceWarning: DataFrame is highly fragmented.  This is usually the result of calling `frame.insert` many times, which has poor performance.  Consider joining all columns at once using pd.concat(axis=1) instead. To get a de-fragmented frame, use `newframe = frame.copy()`\n",
      "  residuals[tick] = model.resid\n",
      "/var/folders/g5/7q0ynznx5hs03d9_7j1h1qbc0000gn/T/ipykernel_5388/1251507463.py:6: PerformanceWarning: DataFrame is highly fragmented.  This is usually the result of calling `frame.insert` many times, which has poor performance.  Consider joining all columns at once using pd.concat(axis=1) instead. To get a de-fragmented frame, use `newframe = frame.copy()`\n",
      "  residuals[tick] = model.resid\n",
      "/var/folders/g5/7q0ynznx5hs03d9_7j1h1qbc0000gn/T/ipykernel_5388/1251507463.py:6: PerformanceWarning: DataFrame is highly fragmented.  This is usually the result of calling `frame.insert` many times, which has poor performance.  Consider joining all columns at once using pd.concat(axis=1) instead. To get a de-fragmented frame, use `newframe = frame.copy()`\n",
      "  residuals[tick] = model.resid\n",
      "/var/folders/g5/7q0ynznx5hs03d9_7j1h1qbc0000gn/T/ipykernel_5388/1251507463.py:6: PerformanceWarning: DataFrame is highly fragmented.  This is usually the result of calling `frame.insert` many times, which has poor performance.  Consider joining all columns at once using pd.concat(axis=1) instead. To get a de-fragmented frame, use `newframe = frame.copy()`\n",
      "  residuals[tick] = model.resid\n",
      "/var/folders/g5/7q0ynznx5hs03d9_7j1h1qbc0000gn/T/ipykernel_5388/1251507463.py:6: PerformanceWarning: DataFrame is highly fragmented.  This is usually the result of calling `frame.insert` many times, which has poor performance.  Consider joining all columns at once using pd.concat(axis=1) instead. To get a de-fragmented frame, use `newframe = frame.copy()`\n",
      "  residuals[tick] = model.resid\n",
      "/var/folders/g5/7q0ynznx5hs03d9_7j1h1qbc0000gn/T/ipykernel_5388/1251507463.py:6: PerformanceWarning: DataFrame is highly fragmented.  This is usually the result of calling `frame.insert` many times, which has poor performance.  Consider joining all columns at once using pd.concat(axis=1) instead. To get a de-fragmented frame, use `newframe = frame.copy()`\n",
      "  residuals[tick] = model.resid\n",
      "/var/folders/g5/7q0ynznx5hs03d9_7j1h1qbc0000gn/T/ipykernel_5388/1251507463.py:6: PerformanceWarning: DataFrame is highly fragmented.  This is usually the result of calling `frame.insert` many times, which has poor performance.  Consider joining all columns at once using pd.concat(axis=1) instead. To get a de-fragmented frame, use `newframe = frame.copy()`\n",
      "  residuals[tick] = model.resid\n",
      "/var/folders/g5/7q0ynznx5hs03d9_7j1h1qbc0000gn/T/ipykernel_5388/1251507463.py:6: PerformanceWarning: DataFrame is highly fragmented.  This is usually the result of calling `frame.insert` many times, which has poor performance.  Consider joining all columns at once using pd.concat(axis=1) instead. To get a de-fragmented frame, use `newframe = frame.copy()`\n",
      "  residuals[tick] = model.resid\n",
      "/var/folders/g5/7q0ynznx5hs03d9_7j1h1qbc0000gn/T/ipykernel_5388/1251507463.py:6: PerformanceWarning: DataFrame is highly fragmented.  This is usually the result of calling `frame.insert` many times, which has poor performance.  Consider joining all columns at once using pd.concat(axis=1) instead. To get a de-fragmented frame, use `newframe = frame.copy()`\n",
      "  residuals[tick] = model.resid\n",
      "/var/folders/g5/7q0ynznx5hs03d9_7j1h1qbc0000gn/T/ipykernel_5388/1251507463.py:6: PerformanceWarning: DataFrame is highly fragmented.  This is usually the result of calling `frame.insert` many times, which has poor performance.  Consider joining all columns at once using pd.concat(axis=1) instead. To get a de-fragmented frame, use `newframe = frame.copy()`\n",
      "  residuals[tick] = model.resid\n",
      "/var/folders/g5/7q0ynznx5hs03d9_7j1h1qbc0000gn/T/ipykernel_5388/1251507463.py:6: PerformanceWarning: DataFrame is highly fragmented.  This is usually the result of calling `frame.insert` many times, which has poor performance.  Consider joining all columns at once using pd.concat(axis=1) instead. To get a de-fragmented frame, use `newframe = frame.copy()`\n",
      "  residuals[tick] = model.resid\n",
      "/var/folders/g5/7q0ynznx5hs03d9_7j1h1qbc0000gn/T/ipykernel_5388/1251507463.py:6: PerformanceWarning: DataFrame is highly fragmented.  This is usually the result of calling `frame.insert` many times, which has poor performance.  Consider joining all columns at once using pd.concat(axis=1) instead. To get a de-fragmented frame, use `newframe = frame.copy()`\n",
      "  residuals[tick] = model.resid\n",
      "/var/folders/g5/7q0ynznx5hs03d9_7j1h1qbc0000gn/T/ipykernel_5388/1251507463.py:6: PerformanceWarning: DataFrame is highly fragmented.  This is usually the result of calling `frame.insert` many times, which has poor performance.  Consider joining all columns at once using pd.concat(axis=1) instead. To get a de-fragmented frame, use `newframe = frame.copy()`\n",
      "  residuals[tick] = model.resid\n",
      "/var/folders/g5/7q0ynznx5hs03d9_7j1h1qbc0000gn/T/ipykernel_5388/1251507463.py:6: PerformanceWarning: DataFrame is highly fragmented.  This is usually the result of calling `frame.insert` many times, which has poor performance.  Consider joining all columns at once using pd.concat(axis=1) instead. To get a de-fragmented frame, use `newframe = frame.copy()`\n",
      "  residuals[tick] = model.resid\n",
      "/var/folders/g5/7q0ynznx5hs03d9_7j1h1qbc0000gn/T/ipykernel_5388/1251507463.py:6: PerformanceWarning: DataFrame is highly fragmented.  This is usually the result of calling `frame.insert` many times, which has poor performance.  Consider joining all columns at once using pd.concat(axis=1) instead. To get a de-fragmented frame, use `newframe = frame.copy()`\n",
      "  residuals[tick] = model.resid\n",
      "/var/folders/g5/7q0ynznx5hs03d9_7j1h1qbc0000gn/T/ipykernel_5388/1251507463.py:6: PerformanceWarning: DataFrame is highly fragmented.  This is usually the result of calling `frame.insert` many times, which has poor performance.  Consider joining all columns at once using pd.concat(axis=1) instead. To get a de-fragmented frame, use `newframe = frame.copy()`\n",
      "  residuals[tick] = model.resid\n",
      "/var/folders/g5/7q0ynznx5hs03d9_7j1h1qbc0000gn/T/ipykernel_5388/1251507463.py:6: PerformanceWarning: DataFrame is highly fragmented.  This is usually the result of calling `frame.insert` many times, which has poor performance.  Consider joining all columns at once using pd.concat(axis=1) instead. To get a de-fragmented frame, use `newframe = frame.copy()`\n",
      "  residuals[tick] = model.resid\n",
      "/var/folders/g5/7q0ynznx5hs03d9_7j1h1qbc0000gn/T/ipykernel_5388/1251507463.py:6: PerformanceWarning: DataFrame is highly fragmented.  This is usually the result of calling `frame.insert` many times, which has poor performance.  Consider joining all columns at once using pd.concat(axis=1) instead. To get a de-fragmented frame, use `newframe = frame.copy()`\n",
      "  residuals[tick] = model.resid\n",
      "/var/folders/g5/7q0ynznx5hs03d9_7j1h1qbc0000gn/T/ipykernel_5388/1251507463.py:6: PerformanceWarning: DataFrame is highly fragmented.  This is usually the result of calling `frame.insert` many times, which has poor performance.  Consider joining all columns at once using pd.concat(axis=1) instead. To get a de-fragmented frame, use `newframe = frame.copy()`\n",
      "  residuals[tick] = model.resid\n",
      "/var/folders/g5/7q0ynznx5hs03d9_7j1h1qbc0000gn/T/ipykernel_5388/1251507463.py:6: PerformanceWarning: DataFrame is highly fragmented.  This is usually the result of calling `frame.insert` many times, which has poor performance.  Consider joining all columns at once using pd.concat(axis=1) instead. To get a de-fragmented frame, use `newframe = frame.copy()`\n",
      "  residuals[tick] = model.resid\n",
      "/var/folders/g5/7q0ynznx5hs03d9_7j1h1qbc0000gn/T/ipykernel_5388/1251507463.py:6: PerformanceWarning: DataFrame is highly fragmented.  This is usually the result of calling `frame.insert` many times, which has poor performance.  Consider joining all columns at once using pd.concat(axis=1) instead. To get a de-fragmented frame, use `newframe = frame.copy()`\n",
      "  residuals[tick] = model.resid\n",
      "/var/folders/g5/7q0ynznx5hs03d9_7j1h1qbc0000gn/T/ipykernel_5388/1251507463.py:6: PerformanceWarning: DataFrame is highly fragmented.  This is usually the result of calling `frame.insert` many times, which has poor performance.  Consider joining all columns at once using pd.concat(axis=1) instead. To get a de-fragmented frame, use `newframe = frame.copy()`\n",
      "  residuals[tick] = model.resid\n",
      "/var/folders/g5/7q0ynznx5hs03d9_7j1h1qbc0000gn/T/ipykernel_5388/1251507463.py:6: PerformanceWarning: DataFrame is highly fragmented.  This is usually the result of calling `frame.insert` many times, which has poor performance.  Consider joining all columns at once using pd.concat(axis=1) instead. To get a de-fragmented frame, use `newframe = frame.copy()`\n",
      "  residuals[tick] = model.resid\n",
      "/var/folders/g5/7q0ynznx5hs03d9_7j1h1qbc0000gn/T/ipykernel_5388/1251507463.py:6: PerformanceWarning: DataFrame is highly fragmented.  This is usually the result of calling `frame.insert` many times, which has poor performance.  Consider joining all columns at once using pd.concat(axis=1) instead. To get a de-fragmented frame, use `newframe = frame.copy()`\n",
      "  residuals[tick] = model.resid\n",
      "/var/folders/g5/7q0ynznx5hs03d9_7j1h1qbc0000gn/T/ipykernel_5388/1251507463.py:6: PerformanceWarning: DataFrame is highly fragmented.  This is usually the result of calling `frame.insert` many times, which has poor performance.  Consider joining all columns at once using pd.concat(axis=1) instead. To get a de-fragmented frame, use `newframe = frame.copy()`\n",
      "  residuals[tick] = model.resid\n",
      "/var/folders/g5/7q0ynznx5hs03d9_7j1h1qbc0000gn/T/ipykernel_5388/1251507463.py:6: PerformanceWarning: DataFrame is highly fragmented.  This is usually the result of calling `frame.insert` many times, which has poor performance.  Consider joining all columns at once using pd.concat(axis=1) instead. To get a de-fragmented frame, use `newframe = frame.copy()`\n",
      "  residuals[tick] = model.resid\n",
      "/var/folders/g5/7q0ynznx5hs03d9_7j1h1qbc0000gn/T/ipykernel_5388/1251507463.py:6: PerformanceWarning: DataFrame is highly fragmented.  This is usually the result of calling `frame.insert` many times, which has poor performance.  Consider joining all columns at once using pd.concat(axis=1) instead. To get a de-fragmented frame, use `newframe = frame.copy()`\n",
      "  residuals[tick] = model.resid\n",
      "/var/folders/g5/7q0ynznx5hs03d9_7j1h1qbc0000gn/T/ipykernel_5388/1251507463.py:6: PerformanceWarning: DataFrame is highly fragmented.  This is usually the result of calling `frame.insert` many times, which has poor performance.  Consider joining all columns at once using pd.concat(axis=1) instead. To get a de-fragmented frame, use `newframe = frame.copy()`\n",
      "  residuals[tick] = model.resid\n",
      "/var/folders/g5/7q0ynznx5hs03d9_7j1h1qbc0000gn/T/ipykernel_5388/1251507463.py:6: PerformanceWarning: DataFrame is highly fragmented.  This is usually the result of calling `frame.insert` many times, which has poor performance.  Consider joining all columns at once using pd.concat(axis=1) instead. To get a de-fragmented frame, use `newframe = frame.copy()`\n",
      "  residuals[tick] = model.resid\n",
      "/var/folders/g5/7q0ynznx5hs03d9_7j1h1qbc0000gn/T/ipykernel_5388/1251507463.py:6: PerformanceWarning: DataFrame is highly fragmented.  This is usually the result of calling `frame.insert` many times, which has poor performance.  Consider joining all columns at once using pd.concat(axis=1) instead. To get a de-fragmented frame, use `newframe = frame.copy()`\n",
      "  residuals[tick] = model.resid\n",
      "/var/folders/g5/7q0ynznx5hs03d9_7j1h1qbc0000gn/T/ipykernel_5388/1251507463.py:6: PerformanceWarning: DataFrame is highly fragmented.  This is usually the result of calling `frame.insert` many times, which has poor performance.  Consider joining all columns at once using pd.concat(axis=1) instead. To get a de-fragmented frame, use `newframe = frame.copy()`\n",
      "  residuals[tick] = model.resid\n",
      "/var/folders/g5/7q0ynznx5hs03d9_7j1h1qbc0000gn/T/ipykernel_5388/1251507463.py:6: PerformanceWarning: DataFrame is highly fragmented.  This is usually the result of calling `frame.insert` many times, which has poor performance.  Consider joining all columns at once using pd.concat(axis=1) instead. To get a de-fragmented frame, use `newframe = frame.copy()`\n",
      "  residuals[tick] = model.resid\n",
      "/var/folders/g5/7q0ynznx5hs03d9_7j1h1qbc0000gn/T/ipykernel_5388/1251507463.py:6: PerformanceWarning: DataFrame is highly fragmented.  This is usually the result of calling `frame.insert` many times, which has poor performance.  Consider joining all columns at once using pd.concat(axis=1) instead. To get a de-fragmented frame, use `newframe = frame.copy()`\n",
      "  residuals[tick] = model.resid\n",
      "/var/folders/g5/7q0ynznx5hs03d9_7j1h1qbc0000gn/T/ipykernel_5388/1251507463.py:6: PerformanceWarning: DataFrame is highly fragmented.  This is usually the result of calling `frame.insert` many times, which has poor performance.  Consider joining all columns at once using pd.concat(axis=1) instead. To get a de-fragmented frame, use `newframe = frame.copy()`\n",
      "  residuals[tick] = model.resid\n",
      "/var/folders/g5/7q0ynznx5hs03d9_7j1h1qbc0000gn/T/ipykernel_5388/1251507463.py:6: PerformanceWarning: DataFrame is highly fragmented.  This is usually the result of calling `frame.insert` many times, which has poor performance.  Consider joining all columns at once using pd.concat(axis=1) instead. To get a de-fragmented frame, use `newframe = frame.copy()`\n",
      "  residuals[tick] = model.resid\n",
      "/var/folders/g5/7q0ynznx5hs03d9_7j1h1qbc0000gn/T/ipykernel_5388/1251507463.py:6: PerformanceWarning: DataFrame is highly fragmented.  This is usually the result of calling `frame.insert` many times, which has poor performance.  Consider joining all columns at once using pd.concat(axis=1) instead. To get a de-fragmented frame, use `newframe = frame.copy()`\n",
      "  residuals[tick] = model.resid\n",
      "/var/folders/g5/7q0ynznx5hs03d9_7j1h1qbc0000gn/T/ipykernel_5388/1251507463.py:6: PerformanceWarning: DataFrame is highly fragmented.  This is usually the result of calling `frame.insert` many times, which has poor performance.  Consider joining all columns at once using pd.concat(axis=1) instead. To get a de-fragmented frame, use `newframe = frame.copy()`\n",
      "  residuals[tick] = model.resid\n",
      "/var/folders/g5/7q0ynznx5hs03d9_7j1h1qbc0000gn/T/ipykernel_5388/1251507463.py:6: PerformanceWarning: DataFrame is highly fragmented.  This is usually the result of calling `frame.insert` many times, which has poor performance.  Consider joining all columns at once using pd.concat(axis=1) instead. To get a de-fragmented frame, use `newframe = frame.copy()`\n",
      "  residuals[tick] = model.resid\n",
      "/var/folders/g5/7q0ynznx5hs03d9_7j1h1qbc0000gn/T/ipykernel_5388/1251507463.py:6: PerformanceWarning: DataFrame is highly fragmented.  This is usually the result of calling `frame.insert` many times, which has poor performance.  Consider joining all columns at once using pd.concat(axis=1) instead. To get a de-fragmented frame, use `newframe = frame.copy()`\n",
      "  residuals[tick] = model.resid\n",
      "/var/folders/g5/7q0ynznx5hs03d9_7j1h1qbc0000gn/T/ipykernel_5388/1251507463.py:6: PerformanceWarning: DataFrame is highly fragmented.  This is usually the result of calling `frame.insert` many times, which has poor performance.  Consider joining all columns at once using pd.concat(axis=1) instead. To get a de-fragmented frame, use `newframe = frame.copy()`\n",
      "  residuals[tick] = model.resid\n",
      "/var/folders/g5/7q0ynznx5hs03d9_7j1h1qbc0000gn/T/ipykernel_5388/1251507463.py:6: PerformanceWarning: DataFrame is highly fragmented.  This is usually the result of calling `frame.insert` many times, which has poor performance.  Consider joining all columns at once using pd.concat(axis=1) instead. To get a de-fragmented frame, use `newframe = frame.copy()`\n",
      "  residuals[tick] = model.resid\n",
      "/var/folders/g5/7q0ynznx5hs03d9_7j1h1qbc0000gn/T/ipykernel_5388/1251507463.py:6: PerformanceWarning: DataFrame is highly fragmented.  This is usually the result of calling `frame.insert` many times, which has poor performance.  Consider joining all columns at once using pd.concat(axis=1) instead. To get a de-fragmented frame, use `newframe = frame.copy()`\n",
      "  residuals[tick] = model.resid\n",
      "/var/folders/g5/7q0ynznx5hs03d9_7j1h1qbc0000gn/T/ipykernel_5388/1251507463.py:6: PerformanceWarning: DataFrame is highly fragmented.  This is usually the result of calling `frame.insert` many times, which has poor performance.  Consider joining all columns at once using pd.concat(axis=1) instead. To get a de-fragmented frame, use `newframe = frame.copy()`\n",
      "  residuals[tick] = model.resid\n",
      "/var/folders/g5/7q0ynznx5hs03d9_7j1h1qbc0000gn/T/ipykernel_5388/1251507463.py:6: PerformanceWarning: DataFrame is highly fragmented.  This is usually the result of calling `frame.insert` many times, which has poor performance.  Consider joining all columns at once using pd.concat(axis=1) instead. To get a de-fragmented frame, use `newframe = frame.copy()`\n",
      "  residuals[tick] = model.resid\n",
      "/var/folders/g5/7q0ynznx5hs03d9_7j1h1qbc0000gn/T/ipykernel_5388/1251507463.py:6: PerformanceWarning: DataFrame is highly fragmented.  This is usually the result of calling `frame.insert` many times, which has poor performance.  Consider joining all columns at once using pd.concat(axis=1) instead. To get a de-fragmented frame, use `newframe = frame.copy()`\n",
      "  residuals[tick] = model.resid\n",
      "/var/folders/g5/7q0ynznx5hs03d9_7j1h1qbc0000gn/T/ipykernel_5388/1251507463.py:6: PerformanceWarning: DataFrame is highly fragmented.  This is usually the result of calling `frame.insert` many times, which has poor performance.  Consider joining all columns at once using pd.concat(axis=1) instead. To get a de-fragmented frame, use `newframe = frame.copy()`\n",
      "  residuals[tick] = model.resid\n",
      "/var/folders/g5/7q0ynznx5hs03d9_7j1h1qbc0000gn/T/ipykernel_5388/1251507463.py:6: PerformanceWarning: DataFrame is highly fragmented.  This is usually the result of calling `frame.insert` many times, which has poor performance.  Consider joining all columns at once using pd.concat(axis=1) instead. To get a de-fragmented frame, use `newframe = frame.copy()`\n",
      "  residuals[tick] = model.resid\n",
      "/var/folders/g5/7q0ynznx5hs03d9_7j1h1qbc0000gn/T/ipykernel_5388/1251507463.py:6: PerformanceWarning: DataFrame is highly fragmented.  This is usually the result of calling `frame.insert` many times, which has poor performance.  Consider joining all columns at once using pd.concat(axis=1) instead. To get a de-fragmented frame, use `newframe = frame.copy()`\n",
      "  residuals[tick] = model.resid\n",
      "/var/folders/g5/7q0ynznx5hs03d9_7j1h1qbc0000gn/T/ipykernel_5388/1251507463.py:6: PerformanceWarning: DataFrame is highly fragmented.  This is usually the result of calling `frame.insert` many times, which has poor performance.  Consider joining all columns at once using pd.concat(axis=1) instead. To get a de-fragmented frame, use `newframe = frame.copy()`\n",
      "  residuals[tick] = model.resid\n",
      "/var/folders/g5/7q0ynznx5hs03d9_7j1h1qbc0000gn/T/ipykernel_5388/1251507463.py:6: PerformanceWarning: DataFrame is highly fragmented.  This is usually the result of calling `frame.insert` many times, which has poor performance.  Consider joining all columns at once using pd.concat(axis=1) instead. To get a de-fragmented frame, use `newframe = frame.copy()`\n",
      "  residuals[tick] = model.resid\n",
      "/var/folders/g5/7q0ynznx5hs03d9_7j1h1qbc0000gn/T/ipykernel_5388/1251507463.py:6: PerformanceWarning: DataFrame is highly fragmented.  This is usually the result of calling `frame.insert` many times, which has poor performance.  Consider joining all columns at once using pd.concat(axis=1) instead. To get a de-fragmented frame, use `newframe = frame.copy()`\n",
      "  residuals[tick] = model.resid\n",
      "/var/folders/g5/7q0ynznx5hs03d9_7j1h1qbc0000gn/T/ipykernel_5388/1251507463.py:6: PerformanceWarning: DataFrame is highly fragmented.  This is usually the result of calling `frame.insert` many times, which has poor performance.  Consider joining all columns at once using pd.concat(axis=1) instead. To get a de-fragmented frame, use `newframe = frame.copy()`\n",
      "  residuals[tick] = model.resid\n",
      "/var/folders/g5/7q0ynznx5hs03d9_7j1h1qbc0000gn/T/ipykernel_5388/1251507463.py:6: PerformanceWarning: DataFrame is highly fragmented.  This is usually the result of calling `frame.insert` many times, which has poor performance.  Consider joining all columns at once using pd.concat(axis=1) instead. To get a de-fragmented frame, use `newframe = frame.copy()`\n",
      "  residuals[tick] = model.resid\n",
      "/var/folders/g5/7q0ynznx5hs03d9_7j1h1qbc0000gn/T/ipykernel_5388/1251507463.py:6: PerformanceWarning: DataFrame is highly fragmented.  This is usually the result of calling `frame.insert` many times, which has poor performance.  Consider joining all columns at once using pd.concat(axis=1) instead. To get a de-fragmented frame, use `newframe = frame.copy()`\n",
      "  residuals[tick] = model.resid\n",
      "/var/folders/g5/7q0ynznx5hs03d9_7j1h1qbc0000gn/T/ipykernel_5388/1251507463.py:6: PerformanceWarning: DataFrame is highly fragmented.  This is usually the result of calling `frame.insert` many times, which has poor performance.  Consider joining all columns at once using pd.concat(axis=1) instead. To get a de-fragmented frame, use `newframe = frame.copy()`\n",
      "  residuals[tick] = model.resid\n",
      "/var/folders/g5/7q0ynznx5hs03d9_7j1h1qbc0000gn/T/ipykernel_5388/1251507463.py:6: PerformanceWarning: DataFrame is highly fragmented.  This is usually the result of calling `frame.insert` many times, which has poor performance.  Consider joining all columns at once using pd.concat(axis=1) instead. To get a de-fragmented frame, use `newframe = frame.copy()`\n",
      "  residuals[tick] = model.resid\n",
      "/var/folders/g5/7q0ynznx5hs03d9_7j1h1qbc0000gn/T/ipykernel_5388/1251507463.py:6: PerformanceWarning: DataFrame is highly fragmented.  This is usually the result of calling `frame.insert` many times, which has poor performance.  Consider joining all columns at once using pd.concat(axis=1) instead. To get a de-fragmented frame, use `newframe = frame.copy()`\n",
      "  residuals[tick] = model.resid\n",
      "/var/folders/g5/7q0ynznx5hs03d9_7j1h1qbc0000gn/T/ipykernel_5388/1251507463.py:6: PerformanceWarning: DataFrame is highly fragmented.  This is usually the result of calling `frame.insert` many times, which has poor performance.  Consider joining all columns at once using pd.concat(axis=1) instead. To get a de-fragmented frame, use `newframe = frame.copy()`\n",
      "  residuals[tick] = model.resid\n",
      "/var/folders/g5/7q0ynznx5hs03d9_7j1h1qbc0000gn/T/ipykernel_5388/1251507463.py:6: PerformanceWarning: DataFrame is highly fragmented.  This is usually the result of calling `frame.insert` many times, which has poor performance.  Consider joining all columns at once using pd.concat(axis=1) instead. To get a de-fragmented frame, use `newframe = frame.copy()`\n",
      "  residuals[tick] = model.resid\n",
      "/var/folders/g5/7q0ynznx5hs03d9_7j1h1qbc0000gn/T/ipykernel_5388/1251507463.py:6: PerformanceWarning: DataFrame is highly fragmented.  This is usually the result of calling `frame.insert` many times, which has poor performance.  Consider joining all columns at once using pd.concat(axis=1) instead. To get a de-fragmented frame, use `newframe = frame.copy()`\n",
      "  residuals[tick] = model.resid\n",
      "/var/folders/g5/7q0ynznx5hs03d9_7j1h1qbc0000gn/T/ipykernel_5388/1251507463.py:6: PerformanceWarning: DataFrame is highly fragmented.  This is usually the result of calling `frame.insert` many times, which has poor performance.  Consider joining all columns at once using pd.concat(axis=1) instead. To get a de-fragmented frame, use `newframe = frame.copy()`\n",
      "  residuals[tick] = model.resid\n",
      "/var/folders/g5/7q0ynznx5hs03d9_7j1h1qbc0000gn/T/ipykernel_5388/1251507463.py:6: PerformanceWarning: DataFrame is highly fragmented.  This is usually the result of calling `frame.insert` many times, which has poor performance.  Consider joining all columns at once using pd.concat(axis=1) instead. To get a de-fragmented frame, use `newframe = frame.copy()`\n",
      "  residuals[tick] = model.resid\n",
      "/var/folders/g5/7q0ynznx5hs03d9_7j1h1qbc0000gn/T/ipykernel_5388/1251507463.py:6: PerformanceWarning: DataFrame is highly fragmented.  This is usually the result of calling `frame.insert` many times, which has poor performance.  Consider joining all columns at once using pd.concat(axis=1) instead. To get a de-fragmented frame, use `newframe = frame.copy()`\n",
      "  residuals[tick] = model.resid\n",
      "/var/folders/g5/7q0ynznx5hs03d9_7j1h1qbc0000gn/T/ipykernel_5388/1251507463.py:6: PerformanceWarning: DataFrame is highly fragmented.  This is usually the result of calling `frame.insert` many times, which has poor performance.  Consider joining all columns at once using pd.concat(axis=1) instead. To get a de-fragmented frame, use `newframe = frame.copy()`\n",
      "  residuals[tick] = model.resid\n",
      "/var/folders/g5/7q0ynznx5hs03d9_7j1h1qbc0000gn/T/ipykernel_5388/1251507463.py:6: PerformanceWarning: DataFrame is highly fragmented.  This is usually the result of calling `frame.insert` many times, which has poor performance.  Consider joining all columns at once using pd.concat(axis=1) instead. To get a de-fragmented frame, use `newframe = frame.copy()`\n",
      "  residuals[tick] = model.resid\n",
      "/var/folders/g5/7q0ynznx5hs03d9_7j1h1qbc0000gn/T/ipykernel_5388/1251507463.py:6: PerformanceWarning: DataFrame is highly fragmented.  This is usually the result of calling `frame.insert` many times, which has poor performance.  Consider joining all columns at once using pd.concat(axis=1) instead. To get a de-fragmented frame, use `newframe = frame.copy()`\n",
      "  residuals[tick] = model.resid\n",
      "/var/folders/g5/7q0ynznx5hs03d9_7j1h1qbc0000gn/T/ipykernel_5388/1251507463.py:6: PerformanceWarning: DataFrame is highly fragmented.  This is usually the result of calling `frame.insert` many times, which has poor performance.  Consider joining all columns at once using pd.concat(axis=1) instead. To get a de-fragmented frame, use `newframe = frame.copy()`\n",
      "  residuals[tick] = model.resid\n",
      "/var/folders/g5/7q0ynznx5hs03d9_7j1h1qbc0000gn/T/ipykernel_5388/1251507463.py:6: PerformanceWarning: DataFrame is highly fragmented.  This is usually the result of calling `frame.insert` many times, which has poor performance.  Consider joining all columns at once using pd.concat(axis=1) instead. To get a de-fragmented frame, use `newframe = frame.copy()`\n",
      "  residuals[tick] = model.resid\n",
      "/var/folders/g5/7q0ynznx5hs03d9_7j1h1qbc0000gn/T/ipykernel_5388/1251507463.py:6: PerformanceWarning: DataFrame is highly fragmented.  This is usually the result of calling `frame.insert` many times, which has poor performance.  Consider joining all columns at once using pd.concat(axis=1) instead. To get a de-fragmented frame, use `newframe = frame.copy()`\n",
      "  residuals[tick] = model.resid\n",
      "/var/folders/g5/7q0ynznx5hs03d9_7j1h1qbc0000gn/T/ipykernel_5388/1251507463.py:6: PerformanceWarning: DataFrame is highly fragmented.  This is usually the result of calling `frame.insert` many times, which has poor performance.  Consider joining all columns at once using pd.concat(axis=1) instead. To get a de-fragmented frame, use `newframe = frame.copy()`\n",
      "  residuals[tick] = model.resid\n",
      "/var/folders/g5/7q0ynznx5hs03d9_7j1h1qbc0000gn/T/ipykernel_5388/1251507463.py:6: PerformanceWarning: DataFrame is highly fragmented.  This is usually the result of calling `frame.insert` many times, which has poor performance.  Consider joining all columns at once using pd.concat(axis=1) instead. To get a de-fragmented frame, use `newframe = frame.copy()`\n",
      "  residuals[tick] = model.resid\n",
      "/var/folders/g5/7q0ynznx5hs03d9_7j1h1qbc0000gn/T/ipykernel_5388/1251507463.py:6: PerformanceWarning: DataFrame is highly fragmented.  This is usually the result of calling `frame.insert` many times, which has poor performance.  Consider joining all columns at once using pd.concat(axis=1) instead. To get a de-fragmented frame, use `newframe = frame.copy()`\n",
      "  residuals[tick] = model.resid\n",
      "/var/folders/g5/7q0ynznx5hs03d9_7j1h1qbc0000gn/T/ipykernel_5388/1251507463.py:6: PerformanceWarning: DataFrame is highly fragmented.  This is usually the result of calling `frame.insert` many times, which has poor performance.  Consider joining all columns at once using pd.concat(axis=1) instead. To get a de-fragmented frame, use `newframe = frame.copy()`\n",
      "  residuals[tick] = model.resid\n",
      "/var/folders/g5/7q0ynznx5hs03d9_7j1h1qbc0000gn/T/ipykernel_5388/1251507463.py:6: PerformanceWarning: DataFrame is highly fragmented.  This is usually the result of calling `frame.insert` many times, which has poor performance.  Consider joining all columns at once using pd.concat(axis=1) instead. To get a de-fragmented frame, use `newframe = frame.copy()`\n",
      "  residuals[tick] = model.resid\n",
      "/var/folders/g5/7q0ynznx5hs03d9_7j1h1qbc0000gn/T/ipykernel_5388/1251507463.py:6: PerformanceWarning: DataFrame is highly fragmented.  This is usually the result of calling `frame.insert` many times, which has poor performance.  Consider joining all columns at once using pd.concat(axis=1) instead. To get a de-fragmented frame, use `newframe = frame.copy()`\n",
      "  residuals[tick] = model.resid\n",
      "/var/folders/g5/7q0ynznx5hs03d9_7j1h1qbc0000gn/T/ipykernel_5388/1251507463.py:6: PerformanceWarning: DataFrame is highly fragmented.  This is usually the result of calling `frame.insert` many times, which has poor performance.  Consider joining all columns at once using pd.concat(axis=1) instead. To get a de-fragmented frame, use `newframe = frame.copy()`\n",
      "  residuals[tick] = model.resid\n",
      "/var/folders/g5/7q0ynznx5hs03d9_7j1h1qbc0000gn/T/ipykernel_5388/1251507463.py:6: PerformanceWarning: DataFrame is highly fragmented.  This is usually the result of calling `frame.insert` many times, which has poor performance.  Consider joining all columns at once using pd.concat(axis=1) instead. To get a de-fragmented frame, use `newframe = frame.copy()`\n",
      "  residuals[tick] = model.resid\n",
      "/var/folders/g5/7q0ynznx5hs03d9_7j1h1qbc0000gn/T/ipykernel_5388/1251507463.py:6: PerformanceWarning: DataFrame is highly fragmented.  This is usually the result of calling `frame.insert` many times, which has poor performance.  Consider joining all columns at once using pd.concat(axis=1) instead. To get a de-fragmented frame, use `newframe = frame.copy()`\n",
      "  residuals[tick] = model.resid\n",
      "/var/folders/g5/7q0ynznx5hs03d9_7j1h1qbc0000gn/T/ipykernel_5388/1251507463.py:6: PerformanceWarning: DataFrame is highly fragmented.  This is usually the result of calling `frame.insert` many times, which has poor performance.  Consider joining all columns at once using pd.concat(axis=1) instead. To get a de-fragmented frame, use `newframe = frame.copy()`\n",
      "  residuals[tick] = model.resid\n",
      "/var/folders/g5/7q0ynznx5hs03d9_7j1h1qbc0000gn/T/ipykernel_5388/1251507463.py:6: PerformanceWarning: DataFrame is highly fragmented.  This is usually the result of calling `frame.insert` many times, which has poor performance.  Consider joining all columns at once using pd.concat(axis=1) instead. To get a de-fragmented frame, use `newframe = frame.copy()`\n",
      "  residuals[tick] = model.resid\n",
      "/var/folders/g5/7q0ynznx5hs03d9_7j1h1qbc0000gn/T/ipykernel_5388/1251507463.py:6: PerformanceWarning: DataFrame is highly fragmented.  This is usually the result of calling `frame.insert` many times, which has poor performance.  Consider joining all columns at once using pd.concat(axis=1) instead. To get a de-fragmented frame, use `newframe = frame.copy()`\n",
      "  residuals[tick] = model.resid\n",
      "/var/folders/g5/7q0ynznx5hs03d9_7j1h1qbc0000gn/T/ipykernel_5388/1251507463.py:6: PerformanceWarning: DataFrame is highly fragmented.  This is usually the result of calling `frame.insert` many times, which has poor performance.  Consider joining all columns at once using pd.concat(axis=1) instead. To get a de-fragmented frame, use `newframe = frame.copy()`\n",
      "  residuals[tick] = model.resid\n",
      "/var/folders/g5/7q0ynznx5hs03d9_7j1h1qbc0000gn/T/ipykernel_5388/1251507463.py:6: PerformanceWarning: DataFrame is highly fragmented.  This is usually the result of calling `frame.insert` many times, which has poor performance.  Consider joining all columns at once using pd.concat(axis=1) instead. To get a de-fragmented frame, use `newframe = frame.copy()`\n",
      "  residuals[tick] = model.resid\n",
      "/var/folders/g5/7q0ynznx5hs03d9_7j1h1qbc0000gn/T/ipykernel_5388/1251507463.py:6: PerformanceWarning: DataFrame is highly fragmented.  This is usually the result of calling `frame.insert` many times, which has poor performance.  Consider joining all columns at once using pd.concat(axis=1) instead. To get a de-fragmented frame, use `newframe = frame.copy()`\n",
      "  residuals[tick] = model.resid\n",
      "/var/folders/g5/7q0ynznx5hs03d9_7j1h1qbc0000gn/T/ipykernel_5388/1251507463.py:6: PerformanceWarning: DataFrame is highly fragmented.  This is usually the result of calling `frame.insert` many times, which has poor performance.  Consider joining all columns at once using pd.concat(axis=1) instead. To get a de-fragmented frame, use `newframe = frame.copy()`\n",
      "  residuals[tick] = model.resid\n",
      "/var/folders/g5/7q0ynznx5hs03d9_7j1h1qbc0000gn/T/ipykernel_5388/1251507463.py:6: PerformanceWarning: DataFrame is highly fragmented.  This is usually the result of calling `frame.insert` many times, which has poor performance.  Consider joining all columns at once using pd.concat(axis=1) instead. To get a de-fragmented frame, use `newframe = frame.copy()`\n",
      "  residuals[tick] = model.resid\n",
      "/var/folders/g5/7q0ynznx5hs03d9_7j1h1qbc0000gn/T/ipykernel_5388/1251507463.py:6: PerformanceWarning: DataFrame is highly fragmented.  This is usually the result of calling `frame.insert` many times, which has poor performance.  Consider joining all columns at once using pd.concat(axis=1) instead. To get a de-fragmented frame, use `newframe = frame.copy()`\n",
      "  residuals[tick] = model.resid\n",
      "/var/folders/g5/7q0ynznx5hs03d9_7j1h1qbc0000gn/T/ipykernel_5388/1251507463.py:6: PerformanceWarning: DataFrame is highly fragmented.  This is usually the result of calling `frame.insert` many times, which has poor performance.  Consider joining all columns at once using pd.concat(axis=1) instead. To get a de-fragmented frame, use `newframe = frame.copy()`\n",
      "  residuals[tick] = model.resid\n",
      "/var/folders/g5/7q0ynznx5hs03d9_7j1h1qbc0000gn/T/ipykernel_5388/1251507463.py:6: PerformanceWarning: DataFrame is highly fragmented.  This is usually the result of calling `frame.insert` many times, which has poor performance.  Consider joining all columns at once using pd.concat(axis=1) instead. To get a de-fragmented frame, use `newframe = frame.copy()`\n",
      "  residuals[tick] = model.resid\n",
      "/var/folders/g5/7q0ynznx5hs03d9_7j1h1qbc0000gn/T/ipykernel_5388/1251507463.py:6: PerformanceWarning: DataFrame is highly fragmented.  This is usually the result of calling `frame.insert` many times, which has poor performance.  Consider joining all columns at once using pd.concat(axis=1) instead. To get a de-fragmented frame, use `newframe = frame.copy()`\n",
      "  residuals[tick] = model.resid\n",
      "/var/folders/g5/7q0ynznx5hs03d9_7j1h1qbc0000gn/T/ipykernel_5388/1251507463.py:6: PerformanceWarning: DataFrame is highly fragmented.  This is usually the result of calling `frame.insert` many times, which has poor performance.  Consider joining all columns at once using pd.concat(axis=1) instead. To get a de-fragmented frame, use `newframe = frame.copy()`\n",
      "  residuals[tick] = model.resid\n",
      "/var/folders/g5/7q0ynznx5hs03d9_7j1h1qbc0000gn/T/ipykernel_5388/1251507463.py:6: PerformanceWarning: DataFrame is highly fragmented.  This is usually the result of calling `frame.insert` many times, which has poor performance.  Consider joining all columns at once using pd.concat(axis=1) instead. To get a de-fragmented frame, use `newframe = frame.copy()`\n",
      "  residuals[tick] = model.resid\n",
      "/var/folders/g5/7q0ynznx5hs03d9_7j1h1qbc0000gn/T/ipykernel_5388/1251507463.py:6: PerformanceWarning: DataFrame is highly fragmented.  This is usually the result of calling `frame.insert` many times, which has poor performance.  Consider joining all columns at once using pd.concat(axis=1) instead. To get a de-fragmented frame, use `newframe = frame.copy()`\n",
      "  residuals[tick] = model.resid\n",
      "/var/folders/g5/7q0ynznx5hs03d9_7j1h1qbc0000gn/T/ipykernel_5388/1251507463.py:6: PerformanceWarning: DataFrame is highly fragmented.  This is usually the result of calling `frame.insert` many times, which has poor performance.  Consider joining all columns at once using pd.concat(axis=1) instead. To get a de-fragmented frame, use `newframe = frame.copy()`\n",
      "  residuals[tick] = model.resid\n",
      "/var/folders/g5/7q0ynznx5hs03d9_7j1h1qbc0000gn/T/ipykernel_5388/1251507463.py:6: PerformanceWarning: DataFrame is highly fragmented.  This is usually the result of calling `frame.insert` many times, which has poor performance.  Consider joining all columns at once using pd.concat(axis=1) instead. To get a de-fragmented frame, use `newframe = frame.copy()`\n",
      "  residuals[tick] = model.resid\n",
      "/var/folders/g5/7q0ynznx5hs03d9_7j1h1qbc0000gn/T/ipykernel_5388/1251507463.py:6: PerformanceWarning: DataFrame is highly fragmented.  This is usually the result of calling `frame.insert` many times, which has poor performance.  Consider joining all columns at once using pd.concat(axis=1) instead. To get a de-fragmented frame, use `newframe = frame.copy()`\n",
      "  residuals[tick] = model.resid\n",
      "/var/folders/g5/7q0ynznx5hs03d9_7j1h1qbc0000gn/T/ipykernel_5388/1251507463.py:6: PerformanceWarning: DataFrame is highly fragmented.  This is usually the result of calling `frame.insert` many times, which has poor performance.  Consider joining all columns at once using pd.concat(axis=1) instead. To get a de-fragmented frame, use `newframe = frame.copy()`\n",
      "  residuals[tick] = model.resid\n",
      "/var/folders/g5/7q0ynznx5hs03d9_7j1h1qbc0000gn/T/ipykernel_5388/1251507463.py:6: PerformanceWarning: DataFrame is highly fragmented.  This is usually the result of calling `frame.insert` many times, which has poor performance.  Consider joining all columns at once using pd.concat(axis=1) instead. To get a de-fragmented frame, use `newframe = frame.copy()`\n",
      "  residuals[tick] = model.resid\n",
      "/var/folders/g5/7q0ynznx5hs03d9_7j1h1qbc0000gn/T/ipykernel_5388/1251507463.py:6: PerformanceWarning: DataFrame is highly fragmented.  This is usually the result of calling `frame.insert` many times, which has poor performance.  Consider joining all columns at once using pd.concat(axis=1) instead. To get a de-fragmented frame, use `newframe = frame.copy()`\n",
      "  residuals[tick] = model.resid\n",
      "/var/folders/g5/7q0ynznx5hs03d9_7j1h1qbc0000gn/T/ipykernel_5388/1251507463.py:6: PerformanceWarning: DataFrame is highly fragmented.  This is usually the result of calling `frame.insert` many times, which has poor performance.  Consider joining all columns at once using pd.concat(axis=1) instead. To get a de-fragmented frame, use `newframe = frame.copy()`\n",
      "  residuals[tick] = model.resid\n",
      "/var/folders/g5/7q0ynznx5hs03d9_7j1h1qbc0000gn/T/ipykernel_5388/1251507463.py:6: PerformanceWarning: DataFrame is highly fragmented.  This is usually the result of calling `frame.insert` many times, which has poor performance.  Consider joining all columns at once using pd.concat(axis=1) instead. To get a de-fragmented frame, use `newframe = frame.copy()`\n",
      "  residuals[tick] = model.resid\n",
      "/var/folders/g5/7q0ynznx5hs03d9_7j1h1qbc0000gn/T/ipykernel_5388/1251507463.py:6: PerformanceWarning: DataFrame is highly fragmented.  This is usually the result of calling `frame.insert` many times, which has poor performance.  Consider joining all columns at once using pd.concat(axis=1) instead. To get a de-fragmented frame, use `newframe = frame.copy()`\n",
      "  residuals[tick] = model.resid\n",
      "/var/folders/g5/7q0ynznx5hs03d9_7j1h1qbc0000gn/T/ipykernel_5388/1251507463.py:6: PerformanceWarning: DataFrame is highly fragmented.  This is usually the result of calling `frame.insert` many times, which has poor performance.  Consider joining all columns at once using pd.concat(axis=1) instead. To get a de-fragmented frame, use `newframe = frame.copy()`\n",
      "  residuals[tick] = model.resid\n",
      "/var/folders/g5/7q0ynznx5hs03d9_7j1h1qbc0000gn/T/ipykernel_5388/1251507463.py:6: PerformanceWarning: DataFrame is highly fragmented.  This is usually the result of calling `frame.insert` many times, which has poor performance.  Consider joining all columns at once using pd.concat(axis=1) instead. To get a de-fragmented frame, use `newframe = frame.copy()`\n",
      "  residuals[tick] = model.resid\n",
      "/var/folders/g5/7q0ynznx5hs03d9_7j1h1qbc0000gn/T/ipykernel_5388/1251507463.py:6: PerformanceWarning: DataFrame is highly fragmented.  This is usually the result of calling `frame.insert` many times, which has poor performance.  Consider joining all columns at once using pd.concat(axis=1) instead. To get a de-fragmented frame, use `newframe = frame.copy()`\n",
      "  residuals[tick] = model.resid\n",
      "/var/folders/g5/7q0ynznx5hs03d9_7j1h1qbc0000gn/T/ipykernel_5388/1251507463.py:6: PerformanceWarning: DataFrame is highly fragmented.  This is usually the result of calling `frame.insert` many times, which has poor performance.  Consider joining all columns at once using pd.concat(axis=1) instead. To get a de-fragmented frame, use `newframe = frame.copy()`\n",
      "  residuals[tick] = model.resid\n",
      "/var/folders/g5/7q0ynznx5hs03d9_7j1h1qbc0000gn/T/ipykernel_5388/1251507463.py:6: PerformanceWarning: DataFrame is highly fragmented.  This is usually the result of calling `frame.insert` many times, which has poor performance.  Consider joining all columns at once using pd.concat(axis=1) instead. To get a de-fragmented frame, use `newframe = frame.copy()`\n",
      "  residuals[tick] = model.resid\n",
      "/var/folders/g5/7q0ynznx5hs03d9_7j1h1qbc0000gn/T/ipykernel_5388/1251507463.py:6: PerformanceWarning: DataFrame is highly fragmented.  This is usually the result of calling `frame.insert` many times, which has poor performance.  Consider joining all columns at once using pd.concat(axis=1) instead. To get a de-fragmented frame, use `newframe = frame.copy()`\n",
      "  residuals[tick] = model.resid\n",
      "/var/folders/g5/7q0ynznx5hs03d9_7j1h1qbc0000gn/T/ipykernel_5388/1251507463.py:6: PerformanceWarning: DataFrame is highly fragmented.  This is usually the result of calling `frame.insert` many times, which has poor performance.  Consider joining all columns at once using pd.concat(axis=1) instead. To get a de-fragmented frame, use `newframe = frame.copy()`\n",
      "  residuals[tick] = model.resid\n",
      "/var/folders/g5/7q0ynznx5hs03d9_7j1h1qbc0000gn/T/ipykernel_5388/1251507463.py:6: PerformanceWarning: DataFrame is highly fragmented.  This is usually the result of calling `frame.insert` many times, which has poor performance.  Consider joining all columns at once using pd.concat(axis=1) instead. To get a de-fragmented frame, use `newframe = frame.copy()`\n",
      "  residuals[tick] = model.resid\n",
      "/var/folders/g5/7q0ynznx5hs03d9_7j1h1qbc0000gn/T/ipykernel_5388/1251507463.py:6: PerformanceWarning: DataFrame is highly fragmented.  This is usually the result of calling `frame.insert` many times, which has poor performance.  Consider joining all columns at once using pd.concat(axis=1) instead. To get a de-fragmented frame, use `newframe = frame.copy()`\n",
      "  residuals[tick] = model.resid\n",
      "/var/folders/g5/7q0ynznx5hs03d9_7j1h1qbc0000gn/T/ipykernel_5388/1251507463.py:6: PerformanceWarning: DataFrame is highly fragmented.  This is usually the result of calling `frame.insert` many times, which has poor performance.  Consider joining all columns at once using pd.concat(axis=1) instead. To get a de-fragmented frame, use `newframe = frame.copy()`\n",
      "  residuals[tick] = model.resid\n",
      "/var/folders/g5/7q0ynznx5hs03d9_7j1h1qbc0000gn/T/ipykernel_5388/1251507463.py:6: PerformanceWarning: DataFrame is highly fragmented.  This is usually the result of calling `frame.insert` many times, which has poor performance.  Consider joining all columns at once using pd.concat(axis=1) instead. To get a de-fragmented frame, use `newframe = frame.copy()`\n",
      "  residuals[tick] = model.resid\n",
      "/var/folders/g5/7q0ynznx5hs03d9_7j1h1qbc0000gn/T/ipykernel_5388/1251507463.py:6: PerformanceWarning: DataFrame is highly fragmented.  This is usually the result of calling `frame.insert` many times, which has poor performance.  Consider joining all columns at once using pd.concat(axis=1) instead. To get a de-fragmented frame, use `newframe = frame.copy()`\n",
      "  residuals[tick] = model.resid\n",
      "/var/folders/g5/7q0ynznx5hs03d9_7j1h1qbc0000gn/T/ipykernel_5388/1251507463.py:6: PerformanceWarning: DataFrame is highly fragmented.  This is usually the result of calling `frame.insert` many times, which has poor performance.  Consider joining all columns at once using pd.concat(axis=1) instead. To get a de-fragmented frame, use `newframe = frame.copy()`\n",
      "  residuals[tick] = model.resid\n",
      "/var/folders/g5/7q0ynznx5hs03d9_7j1h1qbc0000gn/T/ipykernel_5388/1251507463.py:6: PerformanceWarning: DataFrame is highly fragmented.  This is usually the result of calling `frame.insert` many times, which has poor performance.  Consider joining all columns at once using pd.concat(axis=1) instead. To get a de-fragmented frame, use `newframe = frame.copy()`\n",
      "  residuals[tick] = model.resid\n",
      "/var/folders/g5/7q0ynznx5hs03d9_7j1h1qbc0000gn/T/ipykernel_5388/1251507463.py:6: PerformanceWarning: DataFrame is highly fragmented.  This is usually the result of calling `frame.insert` many times, which has poor performance.  Consider joining all columns at once using pd.concat(axis=1) instead. To get a de-fragmented frame, use `newframe = frame.copy()`\n",
      "  residuals[tick] = model.resid\n",
      "/var/folders/g5/7q0ynznx5hs03d9_7j1h1qbc0000gn/T/ipykernel_5388/1251507463.py:6: PerformanceWarning: DataFrame is highly fragmented.  This is usually the result of calling `frame.insert` many times, which has poor performance.  Consider joining all columns at once using pd.concat(axis=1) instead. To get a de-fragmented frame, use `newframe = frame.copy()`\n",
      "  residuals[tick] = model.resid\n",
      "/var/folders/g5/7q0ynznx5hs03d9_7j1h1qbc0000gn/T/ipykernel_5388/1251507463.py:6: PerformanceWarning: DataFrame is highly fragmented.  This is usually the result of calling `frame.insert` many times, which has poor performance.  Consider joining all columns at once using pd.concat(axis=1) instead. To get a de-fragmented frame, use `newframe = frame.copy()`\n",
      "  residuals[tick] = model.resid\n",
      "/var/folders/g5/7q0ynznx5hs03d9_7j1h1qbc0000gn/T/ipykernel_5388/1251507463.py:6: PerformanceWarning: DataFrame is highly fragmented.  This is usually the result of calling `frame.insert` many times, which has poor performance.  Consider joining all columns at once using pd.concat(axis=1) instead. To get a de-fragmented frame, use `newframe = frame.copy()`\n",
      "  residuals[tick] = model.resid\n",
      "/var/folders/g5/7q0ynznx5hs03d9_7j1h1qbc0000gn/T/ipykernel_5388/1251507463.py:6: PerformanceWarning: DataFrame is highly fragmented.  This is usually the result of calling `frame.insert` many times, which has poor performance.  Consider joining all columns at once using pd.concat(axis=1) instead. To get a de-fragmented frame, use `newframe = frame.copy()`\n",
      "  residuals[tick] = model.resid\n",
      "/var/folders/g5/7q0ynznx5hs03d9_7j1h1qbc0000gn/T/ipykernel_5388/1251507463.py:6: PerformanceWarning: DataFrame is highly fragmented.  This is usually the result of calling `frame.insert` many times, which has poor performance.  Consider joining all columns at once using pd.concat(axis=1) instead. To get a de-fragmented frame, use `newframe = frame.copy()`\n",
      "  residuals[tick] = model.resid\n",
      "/var/folders/g5/7q0ynznx5hs03d9_7j1h1qbc0000gn/T/ipykernel_5388/1251507463.py:6: PerformanceWarning: DataFrame is highly fragmented.  This is usually the result of calling `frame.insert` many times, which has poor performance.  Consider joining all columns at once using pd.concat(axis=1) instead. To get a de-fragmented frame, use `newframe = frame.copy()`\n",
      "  residuals[tick] = model.resid\n",
      "/var/folders/g5/7q0ynznx5hs03d9_7j1h1qbc0000gn/T/ipykernel_5388/1251507463.py:6: PerformanceWarning: DataFrame is highly fragmented.  This is usually the result of calling `frame.insert` many times, which has poor performance.  Consider joining all columns at once using pd.concat(axis=1) instead. To get a de-fragmented frame, use `newframe = frame.copy()`\n",
      "  residuals[tick] = model.resid\n",
      "/var/folders/g5/7q0ynznx5hs03d9_7j1h1qbc0000gn/T/ipykernel_5388/1251507463.py:6: PerformanceWarning: DataFrame is highly fragmented.  This is usually the result of calling `frame.insert` many times, which has poor performance.  Consider joining all columns at once using pd.concat(axis=1) instead. To get a de-fragmented frame, use `newframe = frame.copy()`\n",
      "  residuals[tick] = model.resid\n",
      "/var/folders/g5/7q0ynznx5hs03d9_7j1h1qbc0000gn/T/ipykernel_5388/1251507463.py:6: PerformanceWarning: DataFrame is highly fragmented.  This is usually the result of calling `frame.insert` many times, which has poor performance.  Consider joining all columns at once using pd.concat(axis=1) instead. To get a de-fragmented frame, use `newframe = frame.copy()`\n",
      "  residuals[tick] = model.resid\n",
      "/var/folders/g5/7q0ynznx5hs03d9_7j1h1qbc0000gn/T/ipykernel_5388/1251507463.py:6: PerformanceWarning: DataFrame is highly fragmented.  This is usually the result of calling `frame.insert` many times, which has poor performance.  Consider joining all columns at once using pd.concat(axis=1) instead. To get a de-fragmented frame, use `newframe = frame.copy()`\n",
      "  residuals[tick] = model.resid\n",
      "/var/folders/g5/7q0ynznx5hs03d9_7j1h1qbc0000gn/T/ipykernel_5388/1251507463.py:6: PerformanceWarning: DataFrame is highly fragmented.  This is usually the result of calling `frame.insert` many times, which has poor performance.  Consider joining all columns at once using pd.concat(axis=1) instead. To get a de-fragmented frame, use `newframe = frame.copy()`\n",
      "  residuals[tick] = model.resid\n",
      "/var/folders/g5/7q0ynznx5hs03d9_7j1h1qbc0000gn/T/ipykernel_5388/1251507463.py:6: PerformanceWarning: DataFrame is highly fragmented.  This is usually the result of calling `frame.insert` many times, which has poor performance.  Consider joining all columns at once using pd.concat(axis=1) instead. To get a de-fragmented frame, use `newframe = frame.copy()`\n",
      "  residuals[tick] = model.resid\n",
      "/var/folders/g5/7q0ynznx5hs03d9_7j1h1qbc0000gn/T/ipykernel_5388/1251507463.py:6: PerformanceWarning: DataFrame is highly fragmented.  This is usually the result of calling `frame.insert` many times, which has poor performance.  Consider joining all columns at once using pd.concat(axis=1) instead. To get a de-fragmented frame, use `newframe = frame.copy()`\n",
      "  residuals[tick] = model.resid\n",
      "/var/folders/g5/7q0ynznx5hs03d9_7j1h1qbc0000gn/T/ipykernel_5388/1251507463.py:6: PerformanceWarning: DataFrame is highly fragmented.  This is usually the result of calling `frame.insert` many times, which has poor performance.  Consider joining all columns at once using pd.concat(axis=1) instead. To get a de-fragmented frame, use `newframe = frame.copy()`\n",
      "  residuals[tick] = model.resid\n",
      "/var/folders/g5/7q0ynznx5hs03d9_7j1h1qbc0000gn/T/ipykernel_5388/1251507463.py:6: PerformanceWarning: DataFrame is highly fragmented.  This is usually the result of calling `frame.insert` many times, which has poor performance.  Consider joining all columns at once using pd.concat(axis=1) instead. To get a de-fragmented frame, use `newframe = frame.copy()`\n",
      "  residuals[tick] = model.resid\n",
      "/var/folders/g5/7q0ynznx5hs03d9_7j1h1qbc0000gn/T/ipykernel_5388/1251507463.py:6: PerformanceWarning: DataFrame is highly fragmented.  This is usually the result of calling `frame.insert` many times, which has poor performance.  Consider joining all columns at once using pd.concat(axis=1) instead. To get a de-fragmented frame, use `newframe = frame.copy()`\n",
      "  residuals[tick] = model.resid\n",
      "/var/folders/g5/7q0ynznx5hs03d9_7j1h1qbc0000gn/T/ipykernel_5388/1251507463.py:6: PerformanceWarning: DataFrame is highly fragmented.  This is usually the result of calling `frame.insert` many times, which has poor performance.  Consider joining all columns at once using pd.concat(axis=1) instead. To get a de-fragmented frame, use `newframe = frame.copy()`\n",
      "  residuals[tick] = model.resid\n",
      "/var/folders/g5/7q0ynznx5hs03d9_7j1h1qbc0000gn/T/ipykernel_5388/1251507463.py:6: PerformanceWarning: DataFrame is highly fragmented.  This is usually the result of calling `frame.insert` many times, which has poor performance.  Consider joining all columns at once using pd.concat(axis=1) instead. To get a de-fragmented frame, use `newframe = frame.copy()`\n",
      "  residuals[tick] = model.resid\n",
      "/var/folders/g5/7q0ynznx5hs03d9_7j1h1qbc0000gn/T/ipykernel_5388/1251507463.py:6: PerformanceWarning: DataFrame is highly fragmented.  This is usually the result of calling `frame.insert` many times, which has poor performance.  Consider joining all columns at once using pd.concat(axis=1) instead. To get a de-fragmented frame, use `newframe = frame.copy()`\n",
      "  residuals[tick] = model.resid\n",
      "/var/folders/g5/7q0ynznx5hs03d9_7j1h1qbc0000gn/T/ipykernel_5388/1251507463.py:6: PerformanceWarning: DataFrame is highly fragmented.  This is usually the result of calling `frame.insert` many times, which has poor performance.  Consider joining all columns at once using pd.concat(axis=1) instead. To get a de-fragmented frame, use `newframe = frame.copy()`\n",
      "  residuals[tick] = model.resid\n",
      "/var/folders/g5/7q0ynznx5hs03d9_7j1h1qbc0000gn/T/ipykernel_5388/1251507463.py:6: PerformanceWarning: DataFrame is highly fragmented.  This is usually the result of calling `frame.insert` many times, which has poor performance.  Consider joining all columns at once using pd.concat(axis=1) instead. To get a de-fragmented frame, use `newframe = frame.copy()`\n",
      "  residuals[tick] = model.resid\n",
      "/var/folders/g5/7q0ynznx5hs03d9_7j1h1qbc0000gn/T/ipykernel_5388/1251507463.py:6: PerformanceWarning: DataFrame is highly fragmented.  This is usually the result of calling `frame.insert` many times, which has poor performance.  Consider joining all columns at once using pd.concat(axis=1) instead. To get a de-fragmented frame, use `newframe = frame.copy()`\n",
      "  residuals[tick] = model.resid\n",
      "/var/folders/g5/7q0ynznx5hs03d9_7j1h1qbc0000gn/T/ipykernel_5388/1251507463.py:6: PerformanceWarning: DataFrame is highly fragmented.  This is usually the result of calling `frame.insert` many times, which has poor performance.  Consider joining all columns at once using pd.concat(axis=1) instead. To get a de-fragmented frame, use `newframe = frame.copy()`\n",
      "  residuals[tick] = model.resid\n",
      "/var/folders/g5/7q0ynznx5hs03d9_7j1h1qbc0000gn/T/ipykernel_5388/1251507463.py:6: PerformanceWarning: DataFrame is highly fragmented.  This is usually the result of calling `frame.insert` many times, which has poor performance.  Consider joining all columns at once using pd.concat(axis=1) instead. To get a de-fragmented frame, use `newframe = frame.copy()`\n",
      "  residuals[tick] = model.resid\n",
      "/var/folders/g5/7q0ynznx5hs03d9_7j1h1qbc0000gn/T/ipykernel_5388/1251507463.py:6: PerformanceWarning: DataFrame is highly fragmented.  This is usually the result of calling `frame.insert` many times, which has poor performance.  Consider joining all columns at once using pd.concat(axis=1) instead. To get a de-fragmented frame, use `newframe = frame.copy()`\n",
      "  residuals[tick] = model.resid\n",
      "/var/folders/g5/7q0ynznx5hs03d9_7j1h1qbc0000gn/T/ipykernel_5388/1251507463.py:6: PerformanceWarning: DataFrame is highly fragmented.  This is usually the result of calling `frame.insert` many times, which has poor performance.  Consider joining all columns at once using pd.concat(axis=1) instead. To get a de-fragmented frame, use `newframe = frame.copy()`\n",
      "  residuals[tick] = model.resid\n",
      "/var/folders/g5/7q0ynznx5hs03d9_7j1h1qbc0000gn/T/ipykernel_5388/1251507463.py:6: PerformanceWarning: DataFrame is highly fragmented.  This is usually the result of calling `frame.insert` many times, which has poor performance.  Consider joining all columns at once using pd.concat(axis=1) instead. To get a de-fragmented frame, use `newframe = frame.copy()`\n",
      "  residuals[tick] = model.resid\n",
      "/var/folders/g5/7q0ynznx5hs03d9_7j1h1qbc0000gn/T/ipykernel_5388/1251507463.py:6: PerformanceWarning: DataFrame is highly fragmented.  This is usually the result of calling `frame.insert` many times, which has poor performance.  Consider joining all columns at once using pd.concat(axis=1) instead. To get a de-fragmented frame, use `newframe = frame.copy()`\n",
      "  residuals[tick] = model.resid\n",
      "/var/folders/g5/7q0ynznx5hs03d9_7j1h1qbc0000gn/T/ipykernel_5388/1251507463.py:6: PerformanceWarning: DataFrame is highly fragmented.  This is usually the result of calling `frame.insert` many times, which has poor performance.  Consider joining all columns at once using pd.concat(axis=1) instead. To get a de-fragmented frame, use `newframe = frame.copy()`\n",
      "  residuals[tick] = model.resid\n",
      "/var/folders/g5/7q0ynznx5hs03d9_7j1h1qbc0000gn/T/ipykernel_5388/1251507463.py:6: PerformanceWarning: DataFrame is highly fragmented.  This is usually the result of calling `frame.insert` many times, which has poor performance.  Consider joining all columns at once using pd.concat(axis=1) instead. To get a de-fragmented frame, use `newframe = frame.copy()`\n",
      "  residuals[tick] = model.resid\n",
      "/var/folders/g5/7q0ynznx5hs03d9_7j1h1qbc0000gn/T/ipykernel_5388/1251507463.py:6: PerformanceWarning: DataFrame is highly fragmented.  This is usually the result of calling `frame.insert` many times, which has poor performance.  Consider joining all columns at once using pd.concat(axis=1) instead. To get a de-fragmented frame, use `newframe = frame.copy()`\n",
      "  residuals[tick] = model.resid\n",
      "/var/folders/g5/7q0ynznx5hs03d9_7j1h1qbc0000gn/T/ipykernel_5388/1251507463.py:6: PerformanceWarning: DataFrame is highly fragmented.  This is usually the result of calling `frame.insert` many times, which has poor performance.  Consider joining all columns at once using pd.concat(axis=1) instead. To get a de-fragmented frame, use `newframe = frame.copy()`\n",
      "  residuals[tick] = model.resid\n",
      "/var/folders/g5/7q0ynznx5hs03d9_7j1h1qbc0000gn/T/ipykernel_5388/1251507463.py:6: PerformanceWarning: DataFrame is highly fragmented.  This is usually the result of calling `frame.insert` many times, which has poor performance.  Consider joining all columns at once using pd.concat(axis=1) instead. To get a de-fragmented frame, use `newframe = frame.copy()`\n",
      "  residuals[tick] = model.resid\n",
      "/var/folders/g5/7q0ynznx5hs03d9_7j1h1qbc0000gn/T/ipykernel_5388/1251507463.py:6: PerformanceWarning: DataFrame is highly fragmented.  This is usually the result of calling `frame.insert` many times, which has poor performance.  Consider joining all columns at once using pd.concat(axis=1) instead. To get a de-fragmented frame, use `newframe = frame.copy()`\n",
      "  residuals[tick] = model.resid\n",
      "/var/folders/g5/7q0ynznx5hs03d9_7j1h1qbc0000gn/T/ipykernel_5388/1251507463.py:6: PerformanceWarning: DataFrame is highly fragmented.  This is usually the result of calling `frame.insert` many times, which has poor performance.  Consider joining all columns at once using pd.concat(axis=1) instead. To get a de-fragmented frame, use `newframe = frame.copy()`\n",
      "  residuals[tick] = model.resid\n",
      "/var/folders/g5/7q0ynznx5hs03d9_7j1h1qbc0000gn/T/ipykernel_5388/1251507463.py:6: PerformanceWarning: DataFrame is highly fragmented.  This is usually the result of calling `frame.insert` many times, which has poor performance.  Consider joining all columns at once using pd.concat(axis=1) instead. To get a de-fragmented frame, use `newframe = frame.copy()`\n",
      "  residuals[tick] = model.resid\n",
      "/var/folders/g5/7q0ynznx5hs03d9_7j1h1qbc0000gn/T/ipykernel_5388/1251507463.py:6: PerformanceWarning: DataFrame is highly fragmented.  This is usually the result of calling `frame.insert` many times, which has poor performance.  Consider joining all columns at once using pd.concat(axis=1) instead. To get a de-fragmented frame, use `newframe = frame.copy()`\n",
      "  residuals[tick] = model.resid\n",
      "/var/folders/g5/7q0ynznx5hs03d9_7j1h1qbc0000gn/T/ipykernel_5388/1251507463.py:6: PerformanceWarning: DataFrame is highly fragmented.  This is usually the result of calling `frame.insert` many times, which has poor performance.  Consider joining all columns at once using pd.concat(axis=1) instead. To get a de-fragmented frame, use `newframe = frame.copy()`\n",
      "  residuals[tick] = model.resid\n",
      "/var/folders/g5/7q0ynznx5hs03d9_7j1h1qbc0000gn/T/ipykernel_5388/1251507463.py:6: PerformanceWarning: DataFrame is highly fragmented.  This is usually the result of calling `frame.insert` many times, which has poor performance.  Consider joining all columns at once using pd.concat(axis=1) instead. To get a de-fragmented frame, use `newframe = frame.copy()`\n",
      "  residuals[tick] = model.resid\n",
      "/var/folders/g5/7q0ynznx5hs03d9_7j1h1qbc0000gn/T/ipykernel_5388/1251507463.py:6: PerformanceWarning: DataFrame is highly fragmented.  This is usually the result of calling `frame.insert` many times, which has poor performance.  Consider joining all columns at once using pd.concat(axis=1) instead. To get a de-fragmented frame, use `newframe = frame.copy()`\n",
      "  residuals[tick] = model.resid\n",
      "/var/folders/g5/7q0ynznx5hs03d9_7j1h1qbc0000gn/T/ipykernel_5388/1251507463.py:6: PerformanceWarning: DataFrame is highly fragmented.  This is usually the result of calling `frame.insert` many times, which has poor performance.  Consider joining all columns at once using pd.concat(axis=1) instead. To get a de-fragmented frame, use `newframe = frame.copy()`\n",
      "  residuals[tick] = model.resid\n",
      "/var/folders/g5/7q0ynznx5hs03d9_7j1h1qbc0000gn/T/ipykernel_5388/1251507463.py:6: PerformanceWarning: DataFrame is highly fragmented.  This is usually the result of calling `frame.insert` many times, which has poor performance.  Consider joining all columns at once using pd.concat(axis=1) instead. To get a de-fragmented frame, use `newframe = frame.copy()`\n",
      "  residuals[tick] = model.resid\n",
      "/var/folders/g5/7q0ynznx5hs03d9_7j1h1qbc0000gn/T/ipykernel_5388/1251507463.py:6: PerformanceWarning: DataFrame is highly fragmented.  This is usually the result of calling `frame.insert` many times, which has poor performance.  Consider joining all columns at once using pd.concat(axis=1) instead. To get a de-fragmented frame, use `newframe = frame.copy()`\n",
      "  residuals[tick] = model.resid\n",
      "/var/folders/g5/7q0ynznx5hs03d9_7j1h1qbc0000gn/T/ipykernel_5388/1251507463.py:6: PerformanceWarning: DataFrame is highly fragmented.  This is usually the result of calling `frame.insert` many times, which has poor performance.  Consider joining all columns at once using pd.concat(axis=1) instead. To get a de-fragmented frame, use `newframe = frame.copy()`\n",
      "  residuals[tick] = model.resid\n",
      "/var/folders/g5/7q0ynznx5hs03d9_7j1h1qbc0000gn/T/ipykernel_5388/1251507463.py:6: PerformanceWarning: DataFrame is highly fragmented.  This is usually the result of calling `frame.insert` many times, which has poor performance.  Consider joining all columns at once using pd.concat(axis=1) instead. To get a de-fragmented frame, use `newframe = frame.copy()`\n",
      "  residuals[tick] = model.resid\n",
      "/var/folders/g5/7q0ynznx5hs03d9_7j1h1qbc0000gn/T/ipykernel_5388/1251507463.py:6: PerformanceWarning: DataFrame is highly fragmented.  This is usually the result of calling `frame.insert` many times, which has poor performance.  Consider joining all columns at once using pd.concat(axis=1) instead. To get a de-fragmented frame, use `newframe = frame.copy()`\n",
      "  residuals[tick] = model.resid\n",
      "/var/folders/g5/7q0ynznx5hs03d9_7j1h1qbc0000gn/T/ipykernel_5388/1251507463.py:6: PerformanceWarning: DataFrame is highly fragmented.  This is usually the result of calling `frame.insert` many times, which has poor performance.  Consider joining all columns at once using pd.concat(axis=1) instead. To get a de-fragmented frame, use `newframe = frame.copy()`\n",
      "  residuals[tick] = model.resid\n",
      "/var/folders/g5/7q0ynznx5hs03d9_7j1h1qbc0000gn/T/ipykernel_5388/1251507463.py:6: PerformanceWarning: DataFrame is highly fragmented.  This is usually the result of calling `frame.insert` many times, which has poor performance.  Consider joining all columns at once using pd.concat(axis=1) instead. To get a de-fragmented frame, use `newframe = frame.copy()`\n",
      "  residuals[tick] = model.resid\n",
      "/var/folders/g5/7q0ynznx5hs03d9_7j1h1qbc0000gn/T/ipykernel_5388/1251507463.py:6: PerformanceWarning: DataFrame is highly fragmented.  This is usually the result of calling `frame.insert` many times, which has poor performance.  Consider joining all columns at once using pd.concat(axis=1) instead. To get a de-fragmented frame, use `newframe = frame.copy()`\n",
      "  residuals[tick] = model.resid\n",
      "/var/folders/g5/7q0ynznx5hs03d9_7j1h1qbc0000gn/T/ipykernel_5388/1251507463.py:6: PerformanceWarning: DataFrame is highly fragmented.  This is usually the result of calling `frame.insert` many times, which has poor performance.  Consider joining all columns at once using pd.concat(axis=1) instead. To get a de-fragmented frame, use `newframe = frame.copy()`\n",
      "  residuals[tick] = model.resid\n",
      "/var/folders/g5/7q0ynznx5hs03d9_7j1h1qbc0000gn/T/ipykernel_5388/1251507463.py:6: PerformanceWarning: DataFrame is highly fragmented.  This is usually the result of calling `frame.insert` many times, which has poor performance.  Consider joining all columns at once using pd.concat(axis=1) instead. To get a de-fragmented frame, use `newframe = frame.copy()`\n",
      "  residuals[tick] = model.resid\n",
      "/var/folders/g5/7q0ynznx5hs03d9_7j1h1qbc0000gn/T/ipykernel_5388/1251507463.py:6: PerformanceWarning: DataFrame is highly fragmented.  This is usually the result of calling `frame.insert` many times, which has poor performance.  Consider joining all columns at once using pd.concat(axis=1) instead. To get a de-fragmented frame, use `newframe = frame.copy()`\n",
      "  residuals[tick] = model.resid\n",
      "/var/folders/g5/7q0ynznx5hs03d9_7j1h1qbc0000gn/T/ipykernel_5388/1251507463.py:6: PerformanceWarning: DataFrame is highly fragmented.  This is usually the result of calling `frame.insert` many times, which has poor performance.  Consider joining all columns at once using pd.concat(axis=1) instead. To get a de-fragmented frame, use `newframe = frame.copy()`\n",
      "  residuals[tick] = model.resid\n",
      "/var/folders/g5/7q0ynznx5hs03d9_7j1h1qbc0000gn/T/ipykernel_5388/1251507463.py:6: PerformanceWarning: DataFrame is highly fragmented.  This is usually the result of calling `frame.insert` many times, which has poor performance.  Consider joining all columns at once using pd.concat(axis=1) instead. To get a de-fragmented frame, use `newframe = frame.copy()`\n",
      "  residuals[tick] = model.resid\n",
      "/var/folders/g5/7q0ynznx5hs03d9_7j1h1qbc0000gn/T/ipykernel_5388/1251507463.py:6: PerformanceWarning: DataFrame is highly fragmented.  This is usually the result of calling `frame.insert` many times, which has poor performance.  Consider joining all columns at once using pd.concat(axis=1) instead. To get a de-fragmented frame, use `newframe = frame.copy()`\n",
      "  residuals[tick] = model.resid\n",
      "/var/folders/g5/7q0ynznx5hs03d9_7j1h1qbc0000gn/T/ipykernel_5388/1251507463.py:6: PerformanceWarning: DataFrame is highly fragmented.  This is usually the result of calling `frame.insert` many times, which has poor performance.  Consider joining all columns at once using pd.concat(axis=1) instead. To get a de-fragmented frame, use `newframe = frame.copy()`\n",
      "  residuals[tick] = model.resid\n",
      "/var/folders/g5/7q0ynznx5hs03d9_7j1h1qbc0000gn/T/ipykernel_5388/1251507463.py:6: PerformanceWarning: DataFrame is highly fragmented.  This is usually the result of calling `frame.insert` many times, which has poor performance.  Consider joining all columns at once using pd.concat(axis=1) instead. To get a de-fragmented frame, use `newframe = frame.copy()`\n",
      "  residuals[tick] = model.resid\n",
      "/var/folders/g5/7q0ynznx5hs03d9_7j1h1qbc0000gn/T/ipykernel_5388/1251507463.py:6: PerformanceWarning: DataFrame is highly fragmented.  This is usually the result of calling `frame.insert` many times, which has poor performance.  Consider joining all columns at once using pd.concat(axis=1) instead. To get a de-fragmented frame, use `newframe = frame.copy()`\n",
      "  residuals[tick] = model.resid\n",
      "/var/folders/g5/7q0ynznx5hs03d9_7j1h1qbc0000gn/T/ipykernel_5388/1251507463.py:6: PerformanceWarning: DataFrame is highly fragmented.  This is usually the result of calling `frame.insert` many times, which has poor performance.  Consider joining all columns at once using pd.concat(axis=1) instead. To get a de-fragmented frame, use `newframe = frame.copy()`\n",
      "  residuals[tick] = model.resid\n",
      "/var/folders/g5/7q0ynznx5hs03d9_7j1h1qbc0000gn/T/ipykernel_5388/1251507463.py:6: PerformanceWarning: DataFrame is highly fragmented.  This is usually the result of calling `frame.insert` many times, which has poor performance.  Consider joining all columns at once using pd.concat(axis=1) instead. To get a de-fragmented frame, use `newframe = frame.copy()`\n",
      "  residuals[tick] = model.resid\n",
      "/var/folders/g5/7q0ynznx5hs03d9_7j1h1qbc0000gn/T/ipykernel_5388/1251507463.py:6: PerformanceWarning: DataFrame is highly fragmented.  This is usually the result of calling `frame.insert` many times, which has poor performance.  Consider joining all columns at once using pd.concat(axis=1) instead. To get a de-fragmented frame, use `newframe = frame.copy()`\n",
      "  residuals[tick] = model.resid\n",
      "/var/folders/g5/7q0ynznx5hs03d9_7j1h1qbc0000gn/T/ipykernel_5388/1251507463.py:6: PerformanceWarning: DataFrame is highly fragmented.  This is usually the result of calling `frame.insert` many times, which has poor performance.  Consider joining all columns at once using pd.concat(axis=1) instead. To get a de-fragmented frame, use `newframe = frame.copy()`\n",
      "  residuals[tick] = model.resid\n",
      "/var/folders/g5/7q0ynznx5hs03d9_7j1h1qbc0000gn/T/ipykernel_5388/1251507463.py:6: PerformanceWarning: DataFrame is highly fragmented.  This is usually the result of calling `frame.insert` many times, which has poor performance.  Consider joining all columns at once using pd.concat(axis=1) instead. To get a de-fragmented frame, use `newframe = frame.copy()`\n",
      "  residuals[tick] = model.resid\n",
      "/var/folders/g5/7q0ynznx5hs03d9_7j1h1qbc0000gn/T/ipykernel_5388/1251507463.py:6: PerformanceWarning: DataFrame is highly fragmented.  This is usually the result of calling `frame.insert` many times, which has poor performance.  Consider joining all columns at once using pd.concat(axis=1) instead. To get a de-fragmented frame, use `newframe = frame.copy()`\n",
      "  residuals[tick] = model.resid\n",
      "/var/folders/g5/7q0ynznx5hs03d9_7j1h1qbc0000gn/T/ipykernel_5388/1251507463.py:6: PerformanceWarning: DataFrame is highly fragmented.  This is usually the result of calling `frame.insert` many times, which has poor performance.  Consider joining all columns at once using pd.concat(axis=1) instead. To get a de-fragmented frame, use `newframe = frame.copy()`\n",
      "  residuals[tick] = model.resid\n",
      "/var/folders/g5/7q0ynznx5hs03d9_7j1h1qbc0000gn/T/ipykernel_5388/1251507463.py:6: PerformanceWarning: DataFrame is highly fragmented.  This is usually the result of calling `frame.insert` many times, which has poor performance.  Consider joining all columns at once using pd.concat(axis=1) instead. To get a de-fragmented frame, use `newframe = frame.copy()`\n",
      "  residuals[tick] = model.resid\n",
      "/var/folders/g5/7q0ynznx5hs03d9_7j1h1qbc0000gn/T/ipykernel_5388/1251507463.py:6: PerformanceWarning: DataFrame is highly fragmented.  This is usually the result of calling `frame.insert` many times, which has poor performance.  Consider joining all columns at once using pd.concat(axis=1) instead. To get a de-fragmented frame, use `newframe = frame.copy()`\n",
      "  residuals[tick] = model.resid\n",
      "/var/folders/g5/7q0ynznx5hs03d9_7j1h1qbc0000gn/T/ipykernel_5388/1251507463.py:6: PerformanceWarning: DataFrame is highly fragmented.  This is usually the result of calling `frame.insert` many times, which has poor performance.  Consider joining all columns at once using pd.concat(axis=1) instead. To get a de-fragmented frame, use `newframe = frame.copy()`\n",
      "  residuals[tick] = model.resid\n",
      "/var/folders/g5/7q0ynznx5hs03d9_7j1h1qbc0000gn/T/ipykernel_5388/1251507463.py:6: PerformanceWarning: DataFrame is highly fragmented.  This is usually the result of calling `frame.insert` many times, which has poor performance.  Consider joining all columns at once using pd.concat(axis=1) instead. To get a de-fragmented frame, use `newframe = frame.copy()`\n",
      "  residuals[tick] = model.resid\n",
      "/var/folders/g5/7q0ynznx5hs03d9_7j1h1qbc0000gn/T/ipykernel_5388/1251507463.py:6: PerformanceWarning: DataFrame is highly fragmented.  This is usually the result of calling `frame.insert` many times, which has poor performance.  Consider joining all columns at once using pd.concat(axis=1) instead. To get a de-fragmented frame, use `newframe = frame.copy()`\n",
      "  residuals[tick] = model.resid\n",
      "/var/folders/g5/7q0ynznx5hs03d9_7j1h1qbc0000gn/T/ipykernel_5388/1251507463.py:6: PerformanceWarning: DataFrame is highly fragmented.  This is usually the result of calling `frame.insert` many times, which has poor performance.  Consider joining all columns at once using pd.concat(axis=1) instead. To get a de-fragmented frame, use `newframe = frame.copy()`\n",
      "  residuals[tick] = model.resid\n",
      "/var/folders/g5/7q0ynznx5hs03d9_7j1h1qbc0000gn/T/ipykernel_5388/1251507463.py:6: PerformanceWarning: DataFrame is highly fragmented.  This is usually the result of calling `frame.insert` many times, which has poor performance.  Consider joining all columns at once using pd.concat(axis=1) instead. To get a de-fragmented frame, use `newframe = frame.copy()`\n",
      "  residuals[tick] = model.resid\n",
      "/var/folders/g5/7q0ynznx5hs03d9_7j1h1qbc0000gn/T/ipykernel_5388/1251507463.py:6: PerformanceWarning: DataFrame is highly fragmented.  This is usually the result of calling `frame.insert` many times, which has poor performance.  Consider joining all columns at once using pd.concat(axis=1) instead. To get a de-fragmented frame, use `newframe = frame.copy()`\n",
      "  residuals[tick] = model.resid\n",
      "/var/folders/g5/7q0ynznx5hs03d9_7j1h1qbc0000gn/T/ipykernel_5388/1251507463.py:6: PerformanceWarning: DataFrame is highly fragmented.  This is usually the result of calling `frame.insert` many times, which has poor performance.  Consider joining all columns at once using pd.concat(axis=1) instead. To get a de-fragmented frame, use `newframe = frame.copy()`\n",
      "  residuals[tick] = model.resid\n",
      "/var/folders/g5/7q0ynznx5hs03d9_7j1h1qbc0000gn/T/ipykernel_5388/1251507463.py:6: PerformanceWarning: DataFrame is highly fragmented.  This is usually the result of calling `frame.insert` many times, which has poor performance.  Consider joining all columns at once using pd.concat(axis=1) instead. To get a de-fragmented frame, use `newframe = frame.copy()`\n",
      "  residuals[tick] = model.resid\n",
      "/var/folders/g5/7q0ynznx5hs03d9_7j1h1qbc0000gn/T/ipykernel_5388/1251507463.py:6: PerformanceWarning: DataFrame is highly fragmented.  This is usually the result of calling `frame.insert` many times, which has poor performance.  Consider joining all columns at once using pd.concat(axis=1) instead. To get a de-fragmented frame, use `newframe = frame.copy()`\n",
      "  residuals[tick] = model.resid\n",
      "/var/folders/g5/7q0ynznx5hs03d9_7j1h1qbc0000gn/T/ipykernel_5388/1251507463.py:6: PerformanceWarning: DataFrame is highly fragmented.  This is usually the result of calling `frame.insert` many times, which has poor performance.  Consider joining all columns at once using pd.concat(axis=1) instead. To get a de-fragmented frame, use `newframe = frame.copy()`\n",
      "  residuals[tick] = model.resid\n",
      "/var/folders/g5/7q0ynznx5hs03d9_7j1h1qbc0000gn/T/ipykernel_5388/1251507463.py:6: PerformanceWarning: DataFrame is highly fragmented.  This is usually the result of calling `frame.insert` many times, which has poor performance.  Consider joining all columns at once using pd.concat(axis=1) instead. To get a de-fragmented frame, use `newframe = frame.copy()`\n",
      "  residuals[tick] = model.resid\n",
      "/var/folders/g5/7q0ynznx5hs03d9_7j1h1qbc0000gn/T/ipykernel_5388/1251507463.py:6: PerformanceWarning: DataFrame is highly fragmented.  This is usually the result of calling `frame.insert` many times, which has poor performance.  Consider joining all columns at once using pd.concat(axis=1) instead. To get a de-fragmented frame, use `newframe = frame.copy()`\n",
      "  residuals[tick] = model.resid\n",
      "/var/folders/g5/7q0ynznx5hs03d9_7j1h1qbc0000gn/T/ipykernel_5388/1251507463.py:6: PerformanceWarning: DataFrame is highly fragmented.  This is usually the result of calling `frame.insert` many times, which has poor performance.  Consider joining all columns at once using pd.concat(axis=1) instead. To get a de-fragmented frame, use `newframe = frame.copy()`\n",
      "  residuals[tick] = model.resid\n",
      "/var/folders/g5/7q0ynznx5hs03d9_7j1h1qbc0000gn/T/ipykernel_5388/1251507463.py:6: PerformanceWarning: DataFrame is highly fragmented.  This is usually the result of calling `frame.insert` many times, which has poor performance.  Consider joining all columns at once using pd.concat(axis=1) instead. To get a de-fragmented frame, use `newframe = frame.copy()`\n",
      "  residuals[tick] = model.resid\n",
      "/var/folders/g5/7q0ynznx5hs03d9_7j1h1qbc0000gn/T/ipykernel_5388/1251507463.py:6: PerformanceWarning: DataFrame is highly fragmented.  This is usually the result of calling `frame.insert` many times, which has poor performance.  Consider joining all columns at once using pd.concat(axis=1) instead. To get a de-fragmented frame, use `newframe = frame.copy()`\n",
      "  residuals[tick] = model.resid\n",
      "/var/folders/g5/7q0ynznx5hs03d9_7j1h1qbc0000gn/T/ipykernel_5388/1251507463.py:6: PerformanceWarning: DataFrame is highly fragmented.  This is usually the result of calling `frame.insert` many times, which has poor performance.  Consider joining all columns at once using pd.concat(axis=1) instead. To get a de-fragmented frame, use `newframe = frame.copy()`\n",
      "  residuals[tick] = model.resid\n",
      "/var/folders/g5/7q0ynznx5hs03d9_7j1h1qbc0000gn/T/ipykernel_5388/1251507463.py:6: PerformanceWarning: DataFrame is highly fragmented.  This is usually the result of calling `frame.insert` many times, which has poor performance.  Consider joining all columns at once using pd.concat(axis=1) instead. To get a de-fragmented frame, use `newframe = frame.copy()`\n",
      "  residuals[tick] = model.resid\n",
      "/var/folders/g5/7q0ynznx5hs03d9_7j1h1qbc0000gn/T/ipykernel_5388/1251507463.py:6: PerformanceWarning: DataFrame is highly fragmented.  This is usually the result of calling `frame.insert` many times, which has poor performance.  Consider joining all columns at once using pd.concat(axis=1) instead. To get a de-fragmented frame, use `newframe = frame.copy()`\n",
      "  residuals[tick] = model.resid\n",
      "/var/folders/g5/7q0ynznx5hs03d9_7j1h1qbc0000gn/T/ipykernel_5388/1251507463.py:6: PerformanceWarning: DataFrame is highly fragmented.  This is usually the result of calling `frame.insert` many times, which has poor performance.  Consider joining all columns at once using pd.concat(axis=1) instead. To get a de-fragmented frame, use `newframe = frame.copy()`\n",
      "  residuals[tick] = model.resid\n",
      "/var/folders/g5/7q0ynznx5hs03d9_7j1h1qbc0000gn/T/ipykernel_5388/1251507463.py:6: PerformanceWarning: DataFrame is highly fragmented.  This is usually the result of calling `frame.insert` many times, which has poor performance.  Consider joining all columns at once using pd.concat(axis=1) instead. To get a de-fragmented frame, use `newframe = frame.copy()`\n",
      "  residuals[tick] = model.resid\n",
      "/var/folders/g5/7q0ynznx5hs03d9_7j1h1qbc0000gn/T/ipykernel_5388/1251507463.py:6: PerformanceWarning: DataFrame is highly fragmented.  This is usually the result of calling `frame.insert` many times, which has poor performance.  Consider joining all columns at once using pd.concat(axis=1) instead. To get a de-fragmented frame, use `newframe = frame.copy()`\n",
      "  residuals[tick] = model.resid\n",
      "/var/folders/g5/7q0ynznx5hs03d9_7j1h1qbc0000gn/T/ipykernel_5388/1251507463.py:6: PerformanceWarning: DataFrame is highly fragmented.  This is usually the result of calling `frame.insert` many times, which has poor performance.  Consider joining all columns at once using pd.concat(axis=1) instead. To get a de-fragmented frame, use `newframe = frame.copy()`\n",
      "  residuals[tick] = model.resid\n",
      "/var/folders/g5/7q0ynznx5hs03d9_7j1h1qbc0000gn/T/ipykernel_5388/1251507463.py:6: PerformanceWarning: DataFrame is highly fragmented.  This is usually the result of calling `frame.insert` many times, which has poor performance.  Consider joining all columns at once using pd.concat(axis=1) instead. To get a de-fragmented frame, use `newframe = frame.copy()`\n",
      "  residuals[tick] = model.resid\n",
      "/var/folders/g5/7q0ynznx5hs03d9_7j1h1qbc0000gn/T/ipykernel_5388/1251507463.py:6: PerformanceWarning: DataFrame is highly fragmented.  This is usually the result of calling `frame.insert` many times, which has poor performance.  Consider joining all columns at once using pd.concat(axis=1) instead. To get a de-fragmented frame, use `newframe = frame.copy()`\n",
      "  residuals[tick] = model.resid\n",
      "/var/folders/g5/7q0ynznx5hs03d9_7j1h1qbc0000gn/T/ipykernel_5388/1251507463.py:6: PerformanceWarning: DataFrame is highly fragmented.  This is usually the result of calling `frame.insert` many times, which has poor performance.  Consider joining all columns at once using pd.concat(axis=1) instead. To get a de-fragmented frame, use `newframe = frame.copy()`\n",
      "  residuals[tick] = model.resid\n",
      "/var/folders/g5/7q0ynznx5hs03d9_7j1h1qbc0000gn/T/ipykernel_5388/1251507463.py:6: PerformanceWarning: DataFrame is highly fragmented.  This is usually the result of calling `frame.insert` many times, which has poor performance.  Consider joining all columns at once using pd.concat(axis=1) instead. To get a de-fragmented frame, use `newframe = frame.copy()`\n",
      "  residuals[tick] = model.resid\n",
      "/var/folders/g5/7q0ynznx5hs03d9_7j1h1qbc0000gn/T/ipykernel_5388/1251507463.py:6: PerformanceWarning: DataFrame is highly fragmented.  This is usually the result of calling `frame.insert` many times, which has poor performance.  Consider joining all columns at once using pd.concat(axis=1) instead. To get a de-fragmented frame, use `newframe = frame.copy()`\n",
      "  residuals[tick] = model.resid\n",
      "/var/folders/g5/7q0ynznx5hs03d9_7j1h1qbc0000gn/T/ipykernel_5388/1251507463.py:6: PerformanceWarning: DataFrame is highly fragmented.  This is usually the result of calling `frame.insert` many times, which has poor performance.  Consider joining all columns at once using pd.concat(axis=1) instead. To get a de-fragmented frame, use `newframe = frame.copy()`\n",
      "  residuals[tick] = model.resid\n",
      "/var/folders/g5/7q0ynznx5hs03d9_7j1h1qbc0000gn/T/ipykernel_5388/1251507463.py:6: PerformanceWarning: DataFrame is highly fragmented.  This is usually the result of calling `frame.insert` many times, which has poor performance.  Consider joining all columns at once using pd.concat(axis=1) instead. To get a de-fragmented frame, use `newframe = frame.copy()`\n",
      "  residuals[tick] = model.resid\n",
      "/var/folders/g5/7q0ynznx5hs03d9_7j1h1qbc0000gn/T/ipykernel_5388/1251507463.py:6: PerformanceWarning: DataFrame is highly fragmented.  This is usually the result of calling `frame.insert` many times, which has poor performance.  Consider joining all columns at once using pd.concat(axis=1) instead. To get a de-fragmented frame, use `newframe = frame.copy()`\n",
      "  residuals[tick] = model.resid\n",
      "/var/folders/g5/7q0ynznx5hs03d9_7j1h1qbc0000gn/T/ipykernel_5388/1251507463.py:6: PerformanceWarning: DataFrame is highly fragmented.  This is usually the result of calling `frame.insert` many times, which has poor performance.  Consider joining all columns at once using pd.concat(axis=1) instead. To get a de-fragmented frame, use `newframe = frame.copy()`\n",
      "  residuals[tick] = model.resid\n",
      "/var/folders/g5/7q0ynznx5hs03d9_7j1h1qbc0000gn/T/ipykernel_5388/1251507463.py:6: PerformanceWarning: DataFrame is highly fragmented.  This is usually the result of calling `frame.insert` many times, which has poor performance.  Consider joining all columns at once using pd.concat(axis=1) instead. To get a de-fragmented frame, use `newframe = frame.copy()`\n",
      "  residuals[tick] = model.resid\n",
      "/var/folders/g5/7q0ynznx5hs03d9_7j1h1qbc0000gn/T/ipykernel_5388/1251507463.py:6: PerformanceWarning: DataFrame is highly fragmented.  This is usually the result of calling `frame.insert` many times, which has poor performance.  Consider joining all columns at once using pd.concat(axis=1) instead. To get a de-fragmented frame, use `newframe = frame.copy()`\n",
      "  residuals[tick] = model.resid\n",
      "/var/folders/g5/7q0ynznx5hs03d9_7j1h1qbc0000gn/T/ipykernel_5388/1251507463.py:6: PerformanceWarning: DataFrame is highly fragmented.  This is usually the result of calling `frame.insert` many times, which has poor performance.  Consider joining all columns at once using pd.concat(axis=1) instead. To get a de-fragmented frame, use `newframe = frame.copy()`\n",
      "  residuals[tick] = model.resid\n",
      "/var/folders/g5/7q0ynznx5hs03d9_7j1h1qbc0000gn/T/ipykernel_5388/1251507463.py:6: PerformanceWarning: DataFrame is highly fragmented.  This is usually the result of calling `frame.insert` many times, which has poor performance.  Consider joining all columns at once using pd.concat(axis=1) instead. To get a de-fragmented frame, use `newframe = frame.copy()`\n",
      "  residuals[tick] = model.resid\n",
      "/var/folders/g5/7q0ynznx5hs03d9_7j1h1qbc0000gn/T/ipykernel_5388/1251507463.py:6: PerformanceWarning: DataFrame is highly fragmented.  This is usually the result of calling `frame.insert` many times, which has poor performance.  Consider joining all columns at once using pd.concat(axis=1) instead. To get a de-fragmented frame, use `newframe = frame.copy()`\n",
      "  residuals[tick] = model.resid\n",
      "/var/folders/g5/7q0ynznx5hs03d9_7j1h1qbc0000gn/T/ipykernel_5388/1251507463.py:6: PerformanceWarning: DataFrame is highly fragmented.  This is usually the result of calling `frame.insert` many times, which has poor performance.  Consider joining all columns at once using pd.concat(axis=1) instead. To get a de-fragmented frame, use `newframe = frame.copy()`\n",
      "  residuals[tick] = model.resid\n",
      "/var/folders/g5/7q0ynznx5hs03d9_7j1h1qbc0000gn/T/ipykernel_5388/1251507463.py:6: PerformanceWarning: DataFrame is highly fragmented.  This is usually the result of calling `frame.insert` many times, which has poor performance.  Consider joining all columns at once using pd.concat(axis=1) instead. To get a de-fragmented frame, use `newframe = frame.copy()`\n",
      "  residuals[tick] = model.resid\n",
      "/var/folders/g5/7q0ynznx5hs03d9_7j1h1qbc0000gn/T/ipykernel_5388/1251507463.py:6: PerformanceWarning: DataFrame is highly fragmented.  This is usually the result of calling `frame.insert` many times, which has poor performance.  Consider joining all columns at once using pd.concat(axis=1) instead. To get a de-fragmented frame, use `newframe = frame.copy()`\n",
      "  residuals[tick] = model.resid\n",
      "/var/folders/g5/7q0ynznx5hs03d9_7j1h1qbc0000gn/T/ipykernel_5388/1251507463.py:6: PerformanceWarning: DataFrame is highly fragmented.  This is usually the result of calling `frame.insert` many times, which has poor performance.  Consider joining all columns at once using pd.concat(axis=1) instead. To get a de-fragmented frame, use `newframe = frame.copy()`\n",
      "  residuals[tick] = model.resid\n",
      "/var/folders/g5/7q0ynznx5hs03d9_7j1h1qbc0000gn/T/ipykernel_5388/1251507463.py:6: PerformanceWarning: DataFrame is highly fragmented.  This is usually the result of calling `frame.insert` many times, which has poor performance.  Consider joining all columns at once using pd.concat(axis=1) instead. To get a de-fragmented frame, use `newframe = frame.copy()`\n",
      "  residuals[tick] = model.resid\n",
      "/var/folders/g5/7q0ynznx5hs03d9_7j1h1qbc0000gn/T/ipykernel_5388/1251507463.py:6: PerformanceWarning: DataFrame is highly fragmented.  This is usually the result of calling `frame.insert` many times, which has poor performance.  Consider joining all columns at once using pd.concat(axis=1) instead. To get a de-fragmented frame, use `newframe = frame.copy()`\n",
      "  residuals[tick] = model.resid\n",
      "/var/folders/g5/7q0ynznx5hs03d9_7j1h1qbc0000gn/T/ipykernel_5388/1251507463.py:6: PerformanceWarning: DataFrame is highly fragmented.  This is usually the result of calling `frame.insert` many times, which has poor performance.  Consider joining all columns at once using pd.concat(axis=1) instead. To get a de-fragmented frame, use `newframe = frame.copy()`\n",
      "  residuals[tick] = model.resid\n",
      "/var/folders/g5/7q0ynznx5hs03d9_7j1h1qbc0000gn/T/ipykernel_5388/1251507463.py:6: PerformanceWarning: DataFrame is highly fragmented.  This is usually the result of calling `frame.insert` many times, which has poor performance.  Consider joining all columns at once using pd.concat(axis=1) instead. To get a de-fragmented frame, use `newframe = frame.copy()`\n",
      "  residuals[tick] = model.resid\n",
      "/var/folders/g5/7q0ynznx5hs03d9_7j1h1qbc0000gn/T/ipykernel_5388/1251507463.py:6: PerformanceWarning: DataFrame is highly fragmented.  This is usually the result of calling `frame.insert` many times, which has poor performance.  Consider joining all columns at once using pd.concat(axis=1) instead. To get a de-fragmented frame, use `newframe = frame.copy()`\n",
      "  residuals[tick] = model.resid\n",
      "/var/folders/g5/7q0ynznx5hs03d9_7j1h1qbc0000gn/T/ipykernel_5388/1251507463.py:6: PerformanceWarning: DataFrame is highly fragmented.  This is usually the result of calling `frame.insert` many times, which has poor performance.  Consider joining all columns at once using pd.concat(axis=1) instead. To get a de-fragmented frame, use `newframe = frame.copy()`\n",
      "  residuals[tick] = model.resid\n",
      "/var/folders/g5/7q0ynznx5hs03d9_7j1h1qbc0000gn/T/ipykernel_5388/1251507463.py:6: PerformanceWarning: DataFrame is highly fragmented.  This is usually the result of calling `frame.insert` many times, which has poor performance.  Consider joining all columns at once using pd.concat(axis=1) instead. To get a de-fragmented frame, use `newframe = frame.copy()`\n",
      "  residuals[tick] = model.resid\n",
      "/var/folders/g5/7q0ynznx5hs03d9_7j1h1qbc0000gn/T/ipykernel_5388/1251507463.py:6: PerformanceWarning: DataFrame is highly fragmented.  This is usually the result of calling `frame.insert` many times, which has poor performance.  Consider joining all columns at once using pd.concat(axis=1) instead. To get a de-fragmented frame, use `newframe = frame.copy()`\n",
      "  residuals[tick] = model.resid\n",
      "/var/folders/g5/7q0ynznx5hs03d9_7j1h1qbc0000gn/T/ipykernel_5388/1251507463.py:6: PerformanceWarning: DataFrame is highly fragmented.  This is usually the result of calling `frame.insert` many times, which has poor performance.  Consider joining all columns at once using pd.concat(axis=1) instead. To get a de-fragmented frame, use `newframe = frame.copy()`\n",
      "  residuals[tick] = model.resid\n",
      "/var/folders/g5/7q0ynznx5hs03d9_7j1h1qbc0000gn/T/ipykernel_5388/1251507463.py:6: PerformanceWarning: DataFrame is highly fragmented.  This is usually the result of calling `frame.insert` many times, which has poor performance.  Consider joining all columns at once using pd.concat(axis=1) instead. To get a de-fragmented frame, use `newframe = frame.copy()`\n",
      "  residuals[tick] = model.resid\n",
      "/var/folders/g5/7q0ynznx5hs03d9_7j1h1qbc0000gn/T/ipykernel_5388/1251507463.py:6: PerformanceWarning: DataFrame is highly fragmented.  This is usually the result of calling `frame.insert` many times, which has poor performance.  Consider joining all columns at once using pd.concat(axis=1) instead. To get a de-fragmented frame, use `newframe = frame.copy()`\n",
      "  residuals[tick] = model.resid\n",
      "/var/folders/g5/7q0ynznx5hs03d9_7j1h1qbc0000gn/T/ipykernel_5388/1251507463.py:6: PerformanceWarning: DataFrame is highly fragmented.  This is usually the result of calling `frame.insert` many times, which has poor performance.  Consider joining all columns at once using pd.concat(axis=1) instead. To get a de-fragmented frame, use `newframe = frame.copy()`\n",
      "  residuals[tick] = model.resid\n",
      "/var/folders/g5/7q0ynznx5hs03d9_7j1h1qbc0000gn/T/ipykernel_5388/1251507463.py:6: PerformanceWarning: DataFrame is highly fragmented.  This is usually the result of calling `frame.insert` many times, which has poor performance.  Consider joining all columns at once using pd.concat(axis=1) instead. To get a de-fragmented frame, use `newframe = frame.copy()`\n",
      "  residuals[tick] = model.resid\n",
      "/var/folders/g5/7q0ynznx5hs03d9_7j1h1qbc0000gn/T/ipykernel_5388/1251507463.py:6: PerformanceWarning: DataFrame is highly fragmented.  This is usually the result of calling `frame.insert` many times, which has poor performance.  Consider joining all columns at once using pd.concat(axis=1) instead. To get a de-fragmented frame, use `newframe = frame.copy()`\n",
      "  residuals[tick] = model.resid\n",
      "/var/folders/g5/7q0ynznx5hs03d9_7j1h1qbc0000gn/T/ipykernel_5388/1251507463.py:6: PerformanceWarning: DataFrame is highly fragmented.  This is usually the result of calling `frame.insert` many times, which has poor performance.  Consider joining all columns at once using pd.concat(axis=1) instead. To get a de-fragmented frame, use `newframe = frame.copy()`\n",
      "  residuals[tick] = model.resid\n",
      "/var/folders/g5/7q0ynznx5hs03d9_7j1h1qbc0000gn/T/ipykernel_5388/1251507463.py:6: PerformanceWarning: DataFrame is highly fragmented.  This is usually the result of calling `frame.insert` many times, which has poor performance.  Consider joining all columns at once using pd.concat(axis=1) instead. To get a de-fragmented frame, use `newframe = frame.copy()`\n",
      "  residuals[tick] = model.resid\n",
      "/var/folders/g5/7q0ynznx5hs03d9_7j1h1qbc0000gn/T/ipykernel_5388/1251507463.py:6: PerformanceWarning: DataFrame is highly fragmented.  This is usually the result of calling `frame.insert` many times, which has poor performance.  Consider joining all columns at once using pd.concat(axis=1) instead. To get a de-fragmented frame, use `newframe = frame.copy()`\n",
      "  residuals[tick] = model.resid\n",
      "/var/folders/g5/7q0ynznx5hs03d9_7j1h1qbc0000gn/T/ipykernel_5388/1251507463.py:6: PerformanceWarning: DataFrame is highly fragmented.  This is usually the result of calling `frame.insert` many times, which has poor performance.  Consider joining all columns at once using pd.concat(axis=1) instead. To get a de-fragmented frame, use `newframe = frame.copy()`\n",
      "  residuals[tick] = model.resid\n",
      "/var/folders/g5/7q0ynznx5hs03d9_7j1h1qbc0000gn/T/ipykernel_5388/1251507463.py:6: PerformanceWarning: DataFrame is highly fragmented.  This is usually the result of calling `frame.insert` many times, which has poor performance.  Consider joining all columns at once using pd.concat(axis=1) instead. To get a de-fragmented frame, use `newframe = frame.copy()`\n",
      "  residuals[tick] = model.resid\n",
      "/var/folders/g5/7q0ynznx5hs03d9_7j1h1qbc0000gn/T/ipykernel_5388/1251507463.py:6: PerformanceWarning: DataFrame is highly fragmented.  This is usually the result of calling `frame.insert` many times, which has poor performance.  Consider joining all columns at once using pd.concat(axis=1) instead. To get a de-fragmented frame, use `newframe = frame.copy()`\n",
      "  residuals[tick] = model.resid\n",
      "/var/folders/g5/7q0ynznx5hs03d9_7j1h1qbc0000gn/T/ipykernel_5388/1251507463.py:6: PerformanceWarning: DataFrame is highly fragmented.  This is usually the result of calling `frame.insert` many times, which has poor performance.  Consider joining all columns at once using pd.concat(axis=1) instead. To get a de-fragmented frame, use `newframe = frame.copy()`\n",
      "  residuals[tick] = model.resid\n",
      "/var/folders/g5/7q0ynznx5hs03d9_7j1h1qbc0000gn/T/ipykernel_5388/1251507463.py:6: PerformanceWarning: DataFrame is highly fragmented.  This is usually the result of calling `frame.insert` many times, which has poor performance.  Consider joining all columns at once using pd.concat(axis=1) instead. To get a de-fragmented frame, use `newframe = frame.copy()`\n",
      "  residuals[tick] = model.resid\n",
      "/var/folders/g5/7q0ynznx5hs03d9_7j1h1qbc0000gn/T/ipykernel_5388/1251507463.py:6: PerformanceWarning: DataFrame is highly fragmented.  This is usually the result of calling `frame.insert` many times, which has poor performance.  Consider joining all columns at once using pd.concat(axis=1) instead. To get a de-fragmented frame, use `newframe = frame.copy()`\n",
      "  residuals[tick] = model.resid\n",
      "/var/folders/g5/7q0ynznx5hs03d9_7j1h1qbc0000gn/T/ipykernel_5388/1251507463.py:6: PerformanceWarning: DataFrame is highly fragmented.  This is usually the result of calling `frame.insert` many times, which has poor performance.  Consider joining all columns at once using pd.concat(axis=1) instead. To get a de-fragmented frame, use `newframe = frame.copy()`\n",
      "  residuals[tick] = model.resid\n",
      "/var/folders/g5/7q0ynznx5hs03d9_7j1h1qbc0000gn/T/ipykernel_5388/1251507463.py:6: PerformanceWarning: DataFrame is highly fragmented.  This is usually the result of calling `frame.insert` many times, which has poor performance.  Consider joining all columns at once using pd.concat(axis=1) instead. To get a de-fragmented frame, use `newframe = frame.copy()`\n",
      "  residuals[tick] = model.resid\n",
      "/var/folders/g5/7q0ynznx5hs03d9_7j1h1qbc0000gn/T/ipykernel_5388/1251507463.py:6: PerformanceWarning: DataFrame is highly fragmented.  This is usually the result of calling `frame.insert` many times, which has poor performance.  Consider joining all columns at once using pd.concat(axis=1) instead. To get a de-fragmented frame, use `newframe = frame.copy()`\n",
      "  residuals[tick] = model.resid\n",
      "/var/folders/g5/7q0ynznx5hs03d9_7j1h1qbc0000gn/T/ipykernel_5388/1251507463.py:6: PerformanceWarning: DataFrame is highly fragmented.  This is usually the result of calling `frame.insert` many times, which has poor performance.  Consider joining all columns at once using pd.concat(axis=1) instead. To get a de-fragmented frame, use `newframe = frame.copy()`\n",
      "  residuals[tick] = model.resid\n",
      "/var/folders/g5/7q0ynznx5hs03d9_7j1h1qbc0000gn/T/ipykernel_5388/1251507463.py:6: PerformanceWarning: DataFrame is highly fragmented.  This is usually the result of calling `frame.insert` many times, which has poor performance.  Consider joining all columns at once using pd.concat(axis=1) instead. To get a de-fragmented frame, use `newframe = frame.copy()`\n",
      "  residuals[tick] = model.resid\n",
      "/var/folders/g5/7q0ynznx5hs03d9_7j1h1qbc0000gn/T/ipykernel_5388/1251507463.py:6: PerformanceWarning: DataFrame is highly fragmented.  This is usually the result of calling `frame.insert` many times, which has poor performance.  Consider joining all columns at once using pd.concat(axis=1) instead. To get a de-fragmented frame, use `newframe = frame.copy()`\n",
      "  residuals[tick] = model.resid\n",
      "/var/folders/g5/7q0ynznx5hs03d9_7j1h1qbc0000gn/T/ipykernel_5388/1251507463.py:6: PerformanceWarning: DataFrame is highly fragmented.  This is usually the result of calling `frame.insert` many times, which has poor performance.  Consider joining all columns at once using pd.concat(axis=1) instead. To get a de-fragmented frame, use `newframe = frame.copy()`\n",
      "  residuals[tick] = model.resid\n",
      "/var/folders/g5/7q0ynznx5hs03d9_7j1h1qbc0000gn/T/ipykernel_5388/1251507463.py:6: PerformanceWarning: DataFrame is highly fragmented.  This is usually the result of calling `frame.insert` many times, which has poor performance.  Consider joining all columns at once using pd.concat(axis=1) instead. To get a de-fragmented frame, use `newframe = frame.copy()`\n",
      "  residuals[tick] = model.resid\n",
      "/var/folders/g5/7q0ynznx5hs03d9_7j1h1qbc0000gn/T/ipykernel_5388/1251507463.py:6: PerformanceWarning: DataFrame is highly fragmented.  This is usually the result of calling `frame.insert` many times, which has poor performance.  Consider joining all columns at once using pd.concat(axis=1) instead. To get a de-fragmented frame, use `newframe = frame.copy()`\n",
      "  residuals[tick] = model.resid\n",
      "/var/folders/g5/7q0ynznx5hs03d9_7j1h1qbc0000gn/T/ipykernel_5388/1251507463.py:6: PerformanceWarning: DataFrame is highly fragmented.  This is usually the result of calling `frame.insert` many times, which has poor performance.  Consider joining all columns at once using pd.concat(axis=1) instead. To get a de-fragmented frame, use `newframe = frame.copy()`\n",
      "  residuals[tick] = model.resid\n",
      "/var/folders/g5/7q0ynznx5hs03d9_7j1h1qbc0000gn/T/ipykernel_5388/1251507463.py:6: PerformanceWarning: DataFrame is highly fragmented.  This is usually the result of calling `frame.insert` many times, which has poor performance.  Consider joining all columns at once using pd.concat(axis=1) instead. To get a de-fragmented frame, use `newframe = frame.copy()`\n",
      "  residuals[tick] = model.resid\n",
      "/var/folders/g5/7q0ynznx5hs03d9_7j1h1qbc0000gn/T/ipykernel_5388/1251507463.py:6: PerformanceWarning: DataFrame is highly fragmented.  This is usually the result of calling `frame.insert` many times, which has poor performance.  Consider joining all columns at once using pd.concat(axis=1) instead. To get a de-fragmented frame, use `newframe = frame.copy()`\n",
      "  residuals[tick] = model.resid\n",
      "/var/folders/g5/7q0ynznx5hs03d9_7j1h1qbc0000gn/T/ipykernel_5388/1251507463.py:6: PerformanceWarning: DataFrame is highly fragmented.  This is usually the result of calling `frame.insert` many times, which has poor performance.  Consider joining all columns at once using pd.concat(axis=1) instead. To get a de-fragmented frame, use `newframe = frame.copy()`\n",
      "  residuals[tick] = model.resid\n",
      "/var/folders/g5/7q0ynznx5hs03d9_7j1h1qbc0000gn/T/ipykernel_5388/1251507463.py:6: PerformanceWarning: DataFrame is highly fragmented.  This is usually the result of calling `frame.insert` many times, which has poor performance.  Consider joining all columns at once using pd.concat(axis=1) instead. To get a de-fragmented frame, use `newframe = frame.copy()`\n",
      "  residuals[tick] = model.resid\n",
      "/var/folders/g5/7q0ynznx5hs03d9_7j1h1qbc0000gn/T/ipykernel_5388/1251507463.py:6: PerformanceWarning: DataFrame is highly fragmented.  This is usually the result of calling `frame.insert` many times, which has poor performance.  Consider joining all columns at once using pd.concat(axis=1) instead. To get a de-fragmented frame, use `newframe = frame.copy()`\n",
      "  residuals[tick] = model.resid\n",
      "/var/folders/g5/7q0ynznx5hs03d9_7j1h1qbc0000gn/T/ipykernel_5388/1251507463.py:6: PerformanceWarning: DataFrame is highly fragmented.  This is usually the result of calling `frame.insert` many times, which has poor performance.  Consider joining all columns at once using pd.concat(axis=1) instead. To get a de-fragmented frame, use `newframe = frame.copy()`\n",
      "  residuals[tick] = model.resid\n",
      "/var/folders/g5/7q0ynznx5hs03d9_7j1h1qbc0000gn/T/ipykernel_5388/1251507463.py:6: PerformanceWarning: DataFrame is highly fragmented.  This is usually the result of calling `frame.insert` many times, which has poor performance.  Consider joining all columns at once using pd.concat(axis=1) instead. To get a de-fragmented frame, use `newframe = frame.copy()`\n",
      "  residuals[tick] = model.resid\n",
      "/var/folders/g5/7q0ynznx5hs03d9_7j1h1qbc0000gn/T/ipykernel_5388/1251507463.py:6: PerformanceWarning: DataFrame is highly fragmented.  This is usually the result of calling `frame.insert` many times, which has poor performance.  Consider joining all columns at once using pd.concat(axis=1) instead. To get a de-fragmented frame, use `newframe = frame.copy()`\n",
      "  residuals[tick] = model.resid\n",
      "/var/folders/g5/7q0ynznx5hs03d9_7j1h1qbc0000gn/T/ipykernel_5388/1251507463.py:6: PerformanceWarning: DataFrame is highly fragmented.  This is usually the result of calling `frame.insert` many times, which has poor performance.  Consider joining all columns at once using pd.concat(axis=1) instead. To get a de-fragmented frame, use `newframe = frame.copy()`\n",
      "  residuals[tick] = model.resid\n",
      "/var/folders/g5/7q0ynznx5hs03d9_7j1h1qbc0000gn/T/ipykernel_5388/1251507463.py:6: PerformanceWarning: DataFrame is highly fragmented.  This is usually the result of calling `frame.insert` many times, which has poor performance.  Consider joining all columns at once using pd.concat(axis=1) instead. To get a de-fragmented frame, use `newframe = frame.copy()`\n",
      "  residuals[tick] = model.resid\n",
      "/var/folders/g5/7q0ynznx5hs03d9_7j1h1qbc0000gn/T/ipykernel_5388/1251507463.py:6: PerformanceWarning: DataFrame is highly fragmented.  This is usually the result of calling `frame.insert` many times, which has poor performance.  Consider joining all columns at once using pd.concat(axis=1) instead. To get a de-fragmented frame, use `newframe = frame.copy()`\n",
      "  residuals[tick] = model.resid\n",
      "/var/folders/g5/7q0ynznx5hs03d9_7j1h1qbc0000gn/T/ipykernel_5388/1251507463.py:6: PerformanceWarning: DataFrame is highly fragmented.  This is usually the result of calling `frame.insert` many times, which has poor performance.  Consider joining all columns at once using pd.concat(axis=1) instead. To get a de-fragmented frame, use `newframe = frame.copy()`\n",
      "  residuals[tick] = model.resid\n",
      "/var/folders/g5/7q0ynznx5hs03d9_7j1h1qbc0000gn/T/ipykernel_5388/1251507463.py:6: PerformanceWarning: DataFrame is highly fragmented.  This is usually the result of calling `frame.insert` many times, which has poor performance.  Consider joining all columns at once using pd.concat(axis=1) instead. To get a de-fragmented frame, use `newframe = frame.copy()`\n",
      "  residuals[tick] = model.resid\n",
      "/var/folders/g5/7q0ynznx5hs03d9_7j1h1qbc0000gn/T/ipykernel_5388/1251507463.py:6: PerformanceWarning: DataFrame is highly fragmented.  This is usually the result of calling `frame.insert` many times, which has poor performance.  Consider joining all columns at once using pd.concat(axis=1) instead. To get a de-fragmented frame, use `newframe = frame.copy()`\n",
      "  residuals[tick] = model.resid\n",
      "/var/folders/g5/7q0ynznx5hs03d9_7j1h1qbc0000gn/T/ipykernel_5388/1251507463.py:6: PerformanceWarning: DataFrame is highly fragmented.  This is usually the result of calling `frame.insert` many times, which has poor performance.  Consider joining all columns at once using pd.concat(axis=1) instead. To get a de-fragmented frame, use `newframe = frame.copy()`\n",
      "  residuals[tick] = model.resid\n",
      "/var/folders/g5/7q0ynznx5hs03d9_7j1h1qbc0000gn/T/ipykernel_5388/1251507463.py:6: PerformanceWarning: DataFrame is highly fragmented.  This is usually the result of calling `frame.insert` many times, which has poor performance.  Consider joining all columns at once using pd.concat(axis=1) instead. To get a de-fragmented frame, use `newframe = frame.copy()`\n",
      "  residuals[tick] = model.resid\n",
      "/var/folders/g5/7q0ynznx5hs03d9_7j1h1qbc0000gn/T/ipykernel_5388/1251507463.py:6: PerformanceWarning: DataFrame is highly fragmented.  This is usually the result of calling `frame.insert` many times, which has poor performance.  Consider joining all columns at once using pd.concat(axis=1) instead. To get a de-fragmented frame, use `newframe = frame.copy()`\n",
      "  residuals[tick] = model.resid\n",
      "/var/folders/g5/7q0ynznx5hs03d9_7j1h1qbc0000gn/T/ipykernel_5388/1251507463.py:6: PerformanceWarning: DataFrame is highly fragmented.  This is usually the result of calling `frame.insert` many times, which has poor performance.  Consider joining all columns at once using pd.concat(axis=1) instead. To get a de-fragmented frame, use `newframe = frame.copy()`\n",
      "  residuals[tick] = model.resid\n",
      "/var/folders/g5/7q0ynznx5hs03d9_7j1h1qbc0000gn/T/ipykernel_5388/1251507463.py:6: PerformanceWarning: DataFrame is highly fragmented.  This is usually the result of calling `frame.insert` many times, which has poor performance.  Consider joining all columns at once using pd.concat(axis=1) instead. To get a de-fragmented frame, use `newframe = frame.copy()`\n",
      "  residuals[tick] = model.resid\n",
      "/var/folders/g5/7q0ynznx5hs03d9_7j1h1qbc0000gn/T/ipykernel_5388/1251507463.py:6: PerformanceWarning: DataFrame is highly fragmented.  This is usually the result of calling `frame.insert` many times, which has poor performance.  Consider joining all columns at once using pd.concat(axis=1) instead. To get a de-fragmented frame, use `newframe = frame.copy()`\n",
      "  residuals[tick] = model.resid\n",
      "/var/folders/g5/7q0ynznx5hs03d9_7j1h1qbc0000gn/T/ipykernel_5388/1251507463.py:6: PerformanceWarning: DataFrame is highly fragmented.  This is usually the result of calling `frame.insert` many times, which has poor performance.  Consider joining all columns at once using pd.concat(axis=1) instead. To get a de-fragmented frame, use `newframe = frame.copy()`\n",
      "  residuals[tick] = model.resid\n",
      "/var/folders/g5/7q0ynznx5hs03d9_7j1h1qbc0000gn/T/ipykernel_5388/1251507463.py:6: PerformanceWarning: DataFrame is highly fragmented.  This is usually the result of calling `frame.insert` many times, which has poor performance.  Consider joining all columns at once using pd.concat(axis=1) instead. To get a de-fragmented frame, use `newframe = frame.copy()`\n",
      "  residuals[tick] = model.resid\n",
      "/var/folders/g5/7q0ynznx5hs03d9_7j1h1qbc0000gn/T/ipykernel_5388/1251507463.py:6: PerformanceWarning: DataFrame is highly fragmented.  This is usually the result of calling `frame.insert` many times, which has poor performance.  Consider joining all columns at once using pd.concat(axis=1) instead. To get a de-fragmented frame, use `newframe = frame.copy()`\n",
      "  residuals[tick] = model.resid\n",
      "/var/folders/g5/7q0ynznx5hs03d9_7j1h1qbc0000gn/T/ipykernel_5388/1251507463.py:6: PerformanceWarning: DataFrame is highly fragmented.  This is usually the result of calling `frame.insert` many times, which has poor performance.  Consider joining all columns at once using pd.concat(axis=1) instead. To get a de-fragmented frame, use `newframe = frame.copy()`\n",
      "  residuals[tick] = model.resid\n",
      "/var/folders/g5/7q0ynznx5hs03d9_7j1h1qbc0000gn/T/ipykernel_5388/1251507463.py:6: PerformanceWarning: DataFrame is highly fragmented.  This is usually the result of calling `frame.insert` many times, which has poor performance.  Consider joining all columns at once using pd.concat(axis=1) instead. To get a de-fragmented frame, use `newframe = frame.copy()`\n",
      "  residuals[tick] = model.resid\n",
      "/var/folders/g5/7q0ynznx5hs03d9_7j1h1qbc0000gn/T/ipykernel_5388/1251507463.py:6: PerformanceWarning: DataFrame is highly fragmented.  This is usually the result of calling `frame.insert` many times, which has poor performance.  Consider joining all columns at once using pd.concat(axis=1) instead. To get a de-fragmented frame, use `newframe = frame.copy()`\n",
      "  residuals[tick] = model.resid\n",
      "/var/folders/g5/7q0ynznx5hs03d9_7j1h1qbc0000gn/T/ipykernel_5388/1251507463.py:6: PerformanceWarning: DataFrame is highly fragmented.  This is usually the result of calling `frame.insert` many times, which has poor performance.  Consider joining all columns at once using pd.concat(axis=1) instead. To get a de-fragmented frame, use `newframe = frame.copy()`\n",
      "  residuals[tick] = model.resid\n",
      "/var/folders/g5/7q0ynznx5hs03d9_7j1h1qbc0000gn/T/ipykernel_5388/1251507463.py:6: PerformanceWarning: DataFrame is highly fragmented.  This is usually the result of calling `frame.insert` many times, which has poor performance.  Consider joining all columns at once using pd.concat(axis=1) instead. To get a de-fragmented frame, use `newframe = frame.copy()`\n",
      "  residuals[tick] = model.resid\n",
      "/var/folders/g5/7q0ynznx5hs03d9_7j1h1qbc0000gn/T/ipykernel_5388/1251507463.py:6: PerformanceWarning: DataFrame is highly fragmented.  This is usually the result of calling `frame.insert` many times, which has poor performance.  Consider joining all columns at once using pd.concat(axis=1) instead. To get a de-fragmented frame, use `newframe = frame.copy()`\n",
      "  residuals[tick] = model.resid\n",
      "/var/folders/g5/7q0ynznx5hs03d9_7j1h1qbc0000gn/T/ipykernel_5388/1251507463.py:6: PerformanceWarning: DataFrame is highly fragmented.  This is usually the result of calling `frame.insert` many times, which has poor performance.  Consider joining all columns at once using pd.concat(axis=1) instead. To get a de-fragmented frame, use `newframe = frame.copy()`\n",
      "  residuals[tick] = model.resid\n",
      "/var/folders/g5/7q0ynznx5hs03d9_7j1h1qbc0000gn/T/ipykernel_5388/1251507463.py:6: PerformanceWarning: DataFrame is highly fragmented.  This is usually the result of calling `frame.insert` many times, which has poor performance.  Consider joining all columns at once using pd.concat(axis=1) instead. To get a de-fragmented frame, use `newframe = frame.copy()`\n",
      "  residuals[tick] = model.resid\n",
      "/var/folders/g5/7q0ynznx5hs03d9_7j1h1qbc0000gn/T/ipykernel_5388/1251507463.py:6: PerformanceWarning: DataFrame is highly fragmented.  This is usually the result of calling `frame.insert` many times, which has poor performance.  Consider joining all columns at once using pd.concat(axis=1) instead. To get a de-fragmented frame, use `newframe = frame.copy()`\n",
      "  residuals[tick] = model.resid\n",
      "/var/folders/g5/7q0ynznx5hs03d9_7j1h1qbc0000gn/T/ipykernel_5388/1251507463.py:6: PerformanceWarning: DataFrame is highly fragmented.  This is usually the result of calling `frame.insert` many times, which has poor performance.  Consider joining all columns at once using pd.concat(axis=1) instead. To get a de-fragmented frame, use `newframe = frame.copy()`\n",
      "  residuals[tick] = model.resid\n",
      "/var/folders/g5/7q0ynznx5hs03d9_7j1h1qbc0000gn/T/ipykernel_5388/1251507463.py:6: PerformanceWarning: DataFrame is highly fragmented.  This is usually the result of calling `frame.insert` many times, which has poor performance.  Consider joining all columns at once using pd.concat(axis=1) instead. To get a de-fragmented frame, use `newframe = frame.copy()`\n",
      "  residuals[tick] = model.resid\n",
      "/var/folders/g5/7q0ynznx5hs03d9_7j1h1qbc0000gn/T/ipykernel_5388/1251507463.py:6: PerformanceWarning: DataFrame is highly fragmented.  This is usually the result of calling `frame.insert` many times, which has poor performance.  Consider joining all columns at once using pd.concat(axis=1) instead. To get a de-fragmented frame, use `newframe = frame.copy()`\n",
      "  residuals[tick] = model.resid\n",
      "/var/folders/g5/7q0ynznx5hs03d9_7j1h1qbc0000gn/T/ipykernel_5388/1251507463.py:6: PerformanceWarning: DataFrame is highly fragmented.  This is usually the result of calling `frame.insert` many times, which has poor performance.  Consider joining all columns at once using pd.concat(axis=1) instead. To get a de-fragmented frame, use `newframe = frame.copy()`\n",
      "  residuals[tick] = model.resid\n",
      "/var/folders/g5/7q0ynznx5hs03d9_7j1h1qbc0000gn/T/ipykernel_5388/1251507463.py:6: PerformanceWarning: DataFrame is highly fragmented.  This is usually the result of calling `frame.insert` many times, which has poor performance.  Consider joining all columns at once using pd.concat(axis=1) instead. To get a de-fragmented frame, use `newframe = frame.copy()`\n",
      "  residuals[tick] = model.resid\n",
      "/var/folders/g5/7q0ynznx5hs03d9_7j1h1qbc0000gn/T/ipykernel_5388/1251507463.py:6: PerformanceWarning: DataFrame is highly fragmented.  This is usually the result of calling `frame.insert` many times, which has poor performance.  Consider joining all columns at once using pd.concat(axis=1) instead. To get a de-fragmented frame, use `newframe = frame.copy()`\n",
      "  residuals[tick] = model.resid\n",
      "/var/folders/g5/7q0ynznx5hs03d9_7j1h1qbc0000gn/T/ipykernel_5388/1251507463.py:6: PerformanceWarning: DataFrame is highly fragmented.  This is usually the result of calling `frame.insert` many times, which has poor performance.  Consider joining all columns at once using pd.concat(axis=1) instead. To get a de-fragmented frame, use `newframe = frame.copy()`\n",
      "  residuals[tick] = model.resid\n",
      "/var/folders/g5/7q0ynznx5hs03d9_7j1h1qbc0000gn/T/ipykernel_5388/1251507463.py:6: PerformanceWarning: DataFrame is highly fragmented.  This is usually the result of calling `frame.insert` many times, which has poor performance.  Consider joining all columns at once using pd.concat(axis=1) instead. To get a de-fragmented frame, use `newframe = frame.copy()`\n",
      "  residuals[tick] = model.resid\n",
      "/var/folders/g5/7q0ynznx5hs03d9_7j1h1qbc0000gn/T/ipykernel_5388/1251507463.py:6: PerformanceWarning: DataFrame is highly fragmented.  This is usually the result of calling `frame.insert` many times, which has poor performance.  Consider joining all columns at once using pd.concat(axis=1) instead. To get a de-fragmented frame, use `newframe = frame.copy()`\n",
      "  residuals[tick] = model.resid\n",
      "/var/folders/g5/7q0ynznx5hs03d9_7j1h1qbc0000gn/T/ipykernel_5388/1251507463.py:6: PerformanceWarning: DataFrame is highly fragmented.  This is usually the result of calling `frame.insert` many times, which has poor performance.  Consider joining all columns at once using pd.concat(axis=1) instead. To get a de-fragmented frame, use `newframe = frame.copy()`\n",
      "  residuals[tick] = model.resid\n",
      "/var/folders/g5/7q0ynznx5hs03d9_7j1h1qbc0000gn/T/ipykernel_5388/1251507463.py:6: PerformanceWarning: DataFrame is highly fragmented.  This is usually the result of calling `frame.insert` many times, which has poor performance.  Consider joining all columns at once using pd.concat(axis=1) instead. To get a de-fragmented frame, use `newframe = frame.copy()`\n",
      "  residuals[tick] = model.resid\n",
      "/var/folders/g5/7q0ynznx5hs03d9_7j1h1qbc0000gn/T/ipykernel_5388/1251507463.py:6: PerformanceWarning: DataFrame is highly fragmented.  This is usually the result of calling `frame.insert` many times, which has poor performance.  Consider joining all columns at once using pd.concat(axis=1) instead. To get a de-fragmented frame, use `newframe = frame.copy()`\n",
      "  residuals[tick] = model.resid\n",
      "/var/folders/g5/7q0ynznx5hs03d9_7j1h1qbc0000gn/T/ipykernel_5388/1251507463.py:6: PerformanceWarning: DataFrame is highly fragmented.  This is usually the result of calling `frame.insert` many times, which has poor performance.  Consider joining all columns at once using pd.concat(axis=1) instead. To get a de-fragmented frame, use `newframe = frame.copy()`\n",
      "  residuals[tick] = model.resid\n",
      "/var/folders/g5/7q0ynznx5hs03d9_7j1h1qbc0000gn/T/ipykernel_5388/1251507463.py:6: PerformanceWarning: DataFrame is highly fragmented.  This is usually the result of calling `frame.insert` many times, which has poor performance.  Consider joining all columns at once using pd.concat(axis=1) instead. To get a de-fragmented frame, use `newframe = frame.copy()`\n",
      "  residuals[tick] = model.resid\n",
      "/var/folders/g5/7q0ynznx5hs03d9_7j1h1qbc0000gn/T/ipykernel_5388/1251507463.py:6: PerformanceWarning: DataFrame is highly fragmented.  This is usually the result of calling `frame.insert` many times, which has poor performance.  Consider joining all columns at once using pd.concat(axis=1) instead. To get a de-fragmented frame, use `newframe = frame.copy()`\n",
      "  residuals[tick] = model.resid\n",
      "/var/folders/g5/7q0ynznx5hs03d9_7j1h1qbc0000gn/T/ipykernel_5388/1251507463.py:6: PerformanceWarning: DataFrame is highly fragmented.  This is usually the result of calling `frame.insert` many times, which has poor performance.  Consider joining all columns at once using pd.concat(axis=1) instead. To get a de-fragmented frame, use `newframe = frame.copy()`\n",
      "  residuals[tick] = model.resid\n",
      "/var/folders/g5/7q0ynznx5hs03d9_7j1h1qbc0000gn/T/ipykernel_5388/1251507463.py:6: PerformanceWarning: DataFrame is highly fragmented.  This is usually the result of calling `frame.insert` many times, which has poor performance.  Consider joining all columns at once using pd.concat(axis=1) instead. To get a de-fragmented frame, use `newframe = frame.copy()`\n",
      "  residuals[tick] = model.resid\n",
      "/var/folders/g5/7q0ynznx5hs03d9_7j1h1qbc0000gn/T/ipykernel_5388/1251507463.py:6: PerformanceWarning: DataFrame is highly fragmented.  This is usually the result of calling `frame.insert` many times, which has poor performance.  Consider joining all columns at once using pd.concat(axis=1) instead. To get a de-fragmented frame, use `newframe = frame.copy()`\n",
      "  residuals[tick] = model.resid\n",
      "/var/folders/g5/7q0ynznx5hs03d9_7j1h1qbc0000gn/T/ipykernel_5388/1251507463.py:6: PerformanceWarning: DataFrame is highly fragmented.  This is usually the result of calling `frame.insert` many times, which has poor performance.  Consider joining all columns at once using pd.concat(axis=1) instead. To get a de-fragmented frame, use `newframe = frame.copy()`\n",
      "  residuals[tick] = model.resid\n",
      "/var/folders/g5/7q0ynznx5hs03d9_7j1h1qbc0000gn/T/ipykernel_5388/1251507463.py:6: PerformanceWarning: DataFrame is highly fragmented.  This is usually the result of calling `frame.insert` many times, which has poor performance.  Consider joining all columns at once using pd.concat(axis=1) instead. To get a de-fragmented frame, use `newframe = frame.copy()`\n",
      "  residuals[tick] = model.resid\n",
      "/var/folders/g5/7q0ynznx5hs03d9_7j1h1qbc0000gn/T/ipykernel_5388/1251507463.py:6: PerformanceWarning: DataFrame is highly fragmented.  This is usually the result of calling `frame.insert` many times, which has poor performance.  Consider joining all columns at once using pd.concat(axis=1) instead. To get a de-fragmented frame, use `newframe = frame.copy()`\n",
      "  residuals[tick] = model.resid\n",
      "/var/folders/g5/7q0ynznx5hs03d9_7j1h1qbc0000gn/T/ipykernel_5388/1251507463.py:6: PerformanceWarning: DataFrame is highly fragmented.  This is usually the result of calling `frame.insert` many times, which has poor performance.  Consider joining all columns at once using pd.concat(axis=1) instead. To get a de-fragmented frame, use `newframe = frame.copy()`\n",
      "  residuals[tick] = model.resid\n",
      "/var/folders/g5/7q0ynznx5hs03d9_7j1h1qbc0000gn/T/ipykernel_5388/1251507463.py:6: PerformanceWarning: DataFrame is highly fragmented.  This is usually the result of calling `frame.insert` many times, which has poor performance.  Consider joining all columns at once using pd.concat(axis=1) instead. To get a de-fragmented frame, use `newframe = frame.copy()`\n",
      "  residuals[tick] = model.resid\n",
      "/var/folders/g5/7q0ynznx5hs03d9_7j1h1qbc0000gn/T/ipykernel_5388/1251507463.py:6: PerformanceWarning: DataFrame is highly fragmented.  This is usually the result of calling `frame.insert` many times, which has poor performance.  Consider joining all columns at once using pd.concat(axis=1) instead. To get a de-fragmented frame, use `newframe = frame.copy()`\n",
      "  residuals[tick] = model.resid\n",
      "/var/folders/g5/7q0ynznx5hs03d9_7j1h1qbc0000gn/T/ipykernel_5388/1251507463.py:6: PerformanceWarning: DataFrame is highly fragmented.  This is usually the result of calling `frame.insert` many times, which has poor performance.  Consider joining all columns at once using pd.concat(axis=1) instead. To get a de-fragmented frame, use `newframe = frame.copy()`\n",
      "  residuals[tick] = model.resid\n",
      "/var/folders/g5/7q0ynznx5hs03d9_7j1h1qbc0000gn/T/ipykernel_5388/1251507463.py:6: PerformanceWarning: DataFrame is highly fragmented.  This is usually the result of calling `frame.insert` many times, which has poor performance.  Consider joining all columns at once using pd.concat(axis=1) instead. To get a de-fragmented frame, use `newframe = frame.copy()`\n",
      "  residuals[tick] = model.resid\n",
      "/var/folders/g5/7q0ynznx5hs03d9_7j1h1qbc0000gn/T/ipykernel_5388/1251507463.py:6: PerformanceWarning: DataFrame is highly fragmented.  This is usually the result of calling `frame.insert` many times, which has poor performance.  Consider joining all columns at once using pd.concat(axis=1) instead. To get a de-fragmented frame, use `newframe = frame.copy()`\n",
      "  residuals[tick] = model.resid\n",
      "/var/folders/g5/7q0ynznx5hs03d9_7j1h1qbc0000gn/T/ipykernel_5388/1251507463.py:6: PerformanceWarning: DataFrame is highly fragmented.  This is usually the result of calling `frame.insert` many times, which has poor performance.  Consider joining all columns at once using pd.concat(axis=1) instead. To get a de-fragmented frame, use `newframe = frame.copy()`\n",
      "  residuals[tick] = model.resid\n",
      "/var/folders/g5/7q0ynznx5hs03d9_7j1h1qbc0000gn/T/ipykernel_5388/1251507463.py:6: PerformanceWarning: DataFrame is highly fragmented.  This is usually the result of calling `frame.insert` many times, which has poor performance.  Consider joining all columns at once using pd.concat(axis=1) instead. To get a de-fragmented frame, use `newframe = frame.copy()`\n",
      "  residuals[tick] = model.resid\n",
      "/var/folders/g5/7q0ynznx5hs03d9_7j1h1qbc0000gn/T/ipykernel_5388/1251507463.py:6: PerformanceWarning: DataFrame is highly fragmented.  This is usually the result of calling `frame.insert` many times, which has poor performance.  Consider joining all columns at once using pd.concat(axis=1) instead. To get a de-fragmented frame, use `newframe = frame.copy()`\n",
      "  residuals[tick] = model.resid\n",
      "/var/folders/g5/7q0ynznx5hs03d9_7j1h1qbc0000gn/T/ipykernel_5388/1251507463.py:6: PerformanceWarning: DataFrame is highly fragmented.  This is usually the result of calling `frame.insert` many times, which has poor performance.  Consider joining all columns at once using pd.concat(axis=1) instead. To get a de-fragmented frame, use `newframe = frame.copy()`\n",
      "  residuals[tick] = model.resid\n",
      "/var/folders/g5/7q0ynznx5hs03d9_7j1h1qbc0000gn/T/ipykernel_5388/1251507463.py:6: PerformanceWarning: DataFrame is highly fragmented.  This is usually the result of calling `frame.insert` many times, which has poor performance.  Consider joining all columns at once using pd.concat(axis=1) instead. To get a de-fragmented frame, use `newframe = frame.copy()`\n",
      "  residuals[tick] = model.resid\n",
      "/var/folders/g5/7q0ynznx5hs03d9_7j1h1qbc0000gn/T/ipykernel_5388/1251507463.py:6: PerformanceWarning: DataFrame is highly fragmented.  This is usually the result of calling `frame.insert` many times, which has poor performance.  Consider joining all columns at once using pd.concat(axis=1) instead. To get a de-fragmented frame, use `newframe = frame.copy()`\n",
      "  residuals[tick] = model.resid\n",
      "/var/folders/g5/7q0ynznx5hs03d9_7j1h1qbc0000gn/T/ipykernel_5388/1251507463.py:6: PerformanceWarning: DataFrame is highly fragmented.  This is usually the result of calling `frame.insert` many times, which has poor performance.  Consider joining all columns at once using pd.concat(axis=1) instead. To get a de-fragmented frame, use `newframe = frame.copy()`\n",
      "  residuals[tick] = model.resid\n",
      "/var/folders/g5/7q0ynznx5hs03d9_7j1h1qbc0000gn/T/ipykernel_5388/1251507463.py:6: PerformanceWarning: DataFrame is highly fragmented.  This is usually the result of calling `frame.insert` many times, which has poor performance.  Consider joining all columns at once using pd.concat(axis=1) instead. To get a de-fragmented frame, use `newframe = frame.copy()`\n",
      "  residuals[tick] = model.resid\n",
      "/var/folders/g5/7q0ynznx5hs03d9_7j1h1qbc0000gn/T/ipykernel_5388/1251507463.py:6: PerformanceWarning: DataFrame is highly fragmented.  This is usually the result of calling `frame.insert` many times, which has poor performance.  Consider joining all columns at once using pd.concat(axis=1) instead. To get a de-fragmented frame, use `newframe = frame.copy()`\n",
      "  residuals[tick] = model.resid\n",
      "/var/folders/g5/7q0ynznx5hs03d9_7j1h1qbc0000gn/T/ipykernel_5388/1251507463.py:6: PerformanceWarning: DataFrame is highly fragmented.  This is usually the result of calling `frame.insert` many times, which has poor performance.  Consider joining all columns at once using pd.concat(axis=1) instead. To get a de-fragmented frame, use `newframe = frame.copy()`\n",
      "  residuals[tick] = model.resid\n",
      "/var/folders/g5/7q0ynznx5hs03d9_7j1h1qbc0000gn/T/ipykernel_5388/1251507463.py:6: PerformanceWarning: DataFrame is highly fragmented.  This is usually the result of calling `frame.insert` many times, which has poor performance.  Consider joining all columns at once using pd.concat(axis=1) instead. To get a de-fragmented frame, use `newframe = frame.copy()`\n",
      "  residuals[tick] = model.resid\n",
      "/var/folders/g5/7q0ynznx5hs03d9_7j1h1qbc0000gn/T/ipykernel_5388/1251507463.py:6: PerformanceWarning: DataFrame is highly fragmented.  This is usually the result of calling `frame.insert` many times, which has poor performance.  Consider joining all columns at once using pd.concat(axis=1) instead. To get a de-fragmented frame, use `newframe = frame.copy()`\n",
      "  residuals[tick] = model.resid\n",
      "/var/folders/g5/7q0ynznx5hs03d9_7j1h1qbc0000gn/T/ipykernel_5388/1251507463.py:6: PerformanceWarning: DataFrame is highly fragmented.  This is usually the result of calling `frame.insert` many times, which has poor performance.  Consider joining all columns at once using pd.concat(axis=1) instead. To get a de-fragmented frame, use `newframe = frame.copy()`\n",
      "  residuals[tick] = model.resid\n",
      "/var/folders/g5/7q0ynznx5hs03d9_7j1h1qbc0000gn/T/ipykernel_5388/1251507463.py:6: PerformanceWarning: DataFrame is highly fragmented.  This is usually the result of calling `frame.insert` many times, which has poor performance.  Consider joining all columns at once using pd.concat(axis=1) instead. To get a de-fragmented frame, use `newframe = frame.copy()`\n",
      "  residuals[tick] = model.resid\n",
      "/var/folders/g5/7q0ynznx5hs03d9_7j1h1qbc0000gn/T/ipykernel_5388/1251507463.py:6: PerformanceWarning: DataFrame is highly fragmented.  This is usually the result of calling `frame.insert` many times, which has poor performance.  Consider joining all columns at once using pd.concat(axis=1) instead. To get a de-fragmented frame, use `newframe = frame.copy()`\n",
      "  residuals[tick] = model.resid\n",
      "/var/folders/g5/7q0ynznx5hs03d9_7j1h1qbc0000gn/T/ipykernel_5388/1251507463.py:6: PerformanceWarning: DataFrame is highly fragmented.  This is usually the result of calling `frame.insert` many times, which has poor performance.  Consider joining all columns at once using pd.concat(axis=1) instead. To get a de-fragmented frame, use `newframe = frame.copy()`\n",
      "  residuals[tick] = model.resid\n",
      "/var/folders/g5/7q0ynznx5hs03d9_7j1h1qbc0000gn/T/ipykernel_5388/1251507463.py:6: PerformanceWarning: DataFrame is highly fragmented.  This is usually the result of calling `frame.insert` many times, which has poor performance.  Consider joining all columns at once using pd.concat(axis=1) instead. To get a de-fragmented frame, use `newframe = frame.copy()`\n",
      "  residuals[tick] = model.resid\n",
      "/var/folders/g5/7q0ynznx5hs03d9_7j1h1qbc0000gn/T/ipykernel_5388/1251507463.py:6: PerformanceWarning: DataFrame is highly fragmented.  This is usually the result of calling `frame.insert` many times, which has poor performance.  Consider joining all columns at once using pd.concat(axis=1) instead. To get a de-fragmented frame, use `newframe = frame.copy()`\n",
      "  residuals[tick] = model.resid\n",
      "/var/folders/g5/7q0ynznx5hs03d9_7j1h1qbc0000gn/T/ipykernel_5388/1251507463.py:6: PerformanceWarning: DataFrame is highly fragmented.  This is usually the result of calling `frame.insert` many times, which has poor performance.  Consider joining all columns at once using pd.concat(axis=1) instead. To get a de-fragmented frame, use `newframe = frame.copy()`\n",
      "  residuals[tick] = model.resid\n",
      "/var/folders/g5/7q0ynznx5hs03d9_7j1h1qbc0000gn/T/ipykernel_5388/1251507463.py:6: PerformanceWarning: DataFrame is highly fragmented.  This is usually the result of calling `frame.insert` many times, which has poor performance.  Consider joining all columns at once using pd.concat(axis=1) instead. To get a de-fragmented frame, use `newframe = frame.copy()`\n",
      "  residuals[tick] = model.resid\n",
      "/var/folders/g5/7q0ynznx5hs03d9_7j1h1qbc0000gn/T/ipykernel_5388/1251507463.py:6: PerformanceWarning: DataFrame is highly fragmented.  This is usually the result of calling `frame.insert` many times, which has poor performance.  Consider joining all columns at once using pd.concat(axis=1) instead. To get a de-fragmented frame, use `newframe = frame.copy()`\n",
      "  residuals[tick] = model.resid\n",
      "/var/folders/g5/7q0ynznx5hs03d9_7j1h1qbc0000gn/T/ipykernel_5388/1251507463.py:6: PerformanceWarning: DataFrame is highly fragmented.  This is usually the result of calling `frame.insert` many times, which has poor performance.  Consider joining all columns at once using pd.concat(axis=1) instead. To get a de-fragmented frame, use `newframe = frame.copy()`\n",
      "  residuals[tick] = model.resid\n",
      "/var/folders/g5/7q0ynznx5hs03d9_7j1h1qbc0000gn/T/ipykernel_5388/1251507463.py:6: PerformanceWarning: DataFrame is highly fragmented.  This is usually the result of calling `frame.insert` many times, which has poor performance.  Consider joining all columns at once using pd.concat(axis=1) instead. To get a de-fragmented frame, use `newframe = frame.copy()`\n",
      "  residuals[tick] = model.resid\n",
      "/var/folders/g5/7q0ynznx5hs03d9_7j1h1qbc0000gn/T/ipykernel_5388/1251507463.py:6: PerformanceWarning: DataFrame is highly fragmented.  This is usually the result of calling `frame.insert` many times, which has poor performance.  Consider joining all columns at once using pd.concat(axis=1) instead. To get a de-fragmented frame, use `newframe = frame.copy()`\n",
      "  residuals[tick] = model.resid\n",
      "/var/folders/g5/7q0ynznx5hs03d9_7j1h1qbc0000gn/T/ipykernel_5388/1251507463.py:6: PerformanceWarning: DataFrame is highly fragmented.  This is usually the result of calling `frame.insert` many times, which has poor performance.  Consider joining all columns at once using pd.concat(axis=1) instead. To get a de-fragmented frame, use `newframe = frame.copy()`\n",
      "  residuals[tick] = model.resid\n",
      "/var/folders/g5/7q0ynznx5hs03d9_7j1h1qbc0000gn/T/ipykernel_5388/1251507463.py:6: PerformanceWarning: DataFrame is highly fragmented.  This is usually the result of calling `frame.insert` many times, which has poor performance.  Consider joining all columns at once using pd.concat(axis=1) instead. To get a de-fragmented frame, use `newframe = frame.copy()`\n",
      "  residuals[tick] = model.resid\n",
      "/var/folders/g5/7q0ynznx5hs03d9_7j1h1qbc0000gn/T/ipykernel_5388/1251507463.py:6: PerformanceWarning: DataFrame is highly fragmented.  This is usually the result of calling `frame.insert` many times, which has poor performance.  Consider joining all columns at once using pd.concat(axis=1) instead. To get a de-fragmented frame, use `newframe = frame.copy()`\n",
      "  residuals[tick] = model.resid\n",
      "/var/folders/g5/7q0ynznx5hs03d9_7j1h1qbc0000gn/T/ipykernel_5388/1251507463.py:6: PerformanceWarning: DataFrame is highly fragmented.  This is usually the result of calling `frame.insert` many times, which has poor performance.  Consider joining all columns at once using pd.concat(axis=1) instead. To get a de-fragmented frame, use `newframe = frame.copy()`\n",
      "  residuals[tick] = model.resid\n",
      "/var/folders/g5/7q0ynznx5hs03d9_7j1h1qbc0000gn/T/ipykernel_5388/1251507463.py:6: PerformanceWarning: DataFrame is highly fragmented.  This is usually the result of calling `frame.insert` many times, which has poor performance.  Consider joining all columns at once using pd.concat(axis=1) instead. To get a de-fragmented frame, use `newframe = frame.copy()`\n",
      "  residuals[tick] = model.resid\n",
      "/var/folders/g5/7q0ynznx5hs03d9_7j1h1qbc0000gn/T/ipykernel_5388/1251507463.py:6: PerformanceWarning: DataFrame is highly fragmented.  This is usually the result of calling `frame.insert` many times, which has poor performance.  Consider joining all columns at once using pd.concat(axis=1) instead. To get a de-fragmented frame, use `newframe = frame.copy()`\n",
      "  residuals[tick] = model.resid\n",
      "/var/folders/g5/7q0ynznx5hs03d9_7j1h1qbc0000gn/T/ipykernel_5388/1251507463.py:6: PerformanceWarning: DataFrame is highly fragmented.  This is usually the result of calling `frame.insert` many times, which has poor performance.  Consider joining all columns at once using pd.concat(axis=1) instead. To get a de-fragmented frame, use `newframe = frame.copy()`\n",
      "  residuals[tick] = model.resid\n",
      "/var/folders/g5/7q0ynznx5hs03d9_7j1h1qbc0000gn/T/ipykernel_5388/1251507463.py:6: PerformanceWarning: DataFrame is highly fragmented.  This is usually the result of calling `frame.insert` many times, which has poor performance.  Consider joining all columns at once using pd.concat(axis=1) instead. To get a de-fragmented frame, use `newframe = frame.copy()`\n",
      "  residuals[tick] = model.resid\n",
      "/var/folders/g5/7q0ynznx5hs03d9_7j1h1qbc0000gn/T/ipykernel_5388/1251507463.py:6: PerformanceWarning: DataFrame is highly fragmented.  This is usually the result of calling `frame.insert` many times, which has poor performance.  Consider joining all columns at once using pd.concat(axis=1) instead. To get a de-fragmented frame, use `newframe = frame.copy()`\n",
      "  residuals[tick] = model.resid\n",
      "/var/folders/g5/7q0ynznx5hs03d9_7j1h1qbc0000gn/T/ipykernel_5388/1251507463.py:6: PerformanceWarning: DataFrame is highly fragmented.  This is usually the result of calling `frame.insert` many times, which has poor performance.  Consider joining all columns at once using pd.concat(axis=1) instead. To get a de-fragmented frame, use `newframe = frame.copy()`\n",
      "  residuals[tick] = model.resid\n",
      "/var/folders/g5/7q0ynznx5hs03d9_7j1h1qbc0000gn/T/ipykernel_5388/1251507463.py:6: PerformanceWarning: DataFrame is highly fragmented.  This is usually the result of calling `frame.insert` many times, which has poor performance.  Consider joining all columns at once using pd.concat(axis=1) instead. To get a de-fragmented frame, use `newframe = frame.copy()`\n",
      "  residuals[tick] = model.resid\n",
      "/var/folders/g5/7q0ynznx5hs03d9_7j1h1qbc0000gn/T/ipykernel_5388/1251507463.py:6: PerformanceWarning: DataFrame is highly fragmented.  This is usually the result of calling `frame.insert` many times, which has poor performance.  Consider joining all columns at once using pd.concat(axis=1) instead. To get a de-fragmented frame, use `newframe = frame.copy()`\n",
      "  residuals[tick] = model.resid\n",
      "/var/folders/g5/7q0ynznx5hs03d9_7j1h1qbc0000gn/T/ipykernel_5388/1251507463.py:6: PerformanceWarning: DataFrame is highly fragmented.  This is usually the result of calling `frame.insert` many times, which has poor performance.  Consider joining all columns at once using pd.concat(axis=1) instead. To get a de-fragmented frame, use `newframe = frame.copy()`\n",
      "  residuals[tick] = model.resid\n",
      "/var/folders/g5/7q0ynznx5hs03d9_7j1h1qbc0000gn/T/ipykernel_5388/1251507463.py:6: PerformanceWarning: DataFrame is highly fragmented.  This is usually the result of calling `frame.insert` many times, which has poor performance.  Consider joining all columns at once using pd.concat(axis=1) instead. To get a de-fragmented frame, use `newframe = frame.copy()`\n",
      "  residuals[tick] = model.resid\n",
      "/var/folders/g5/7q0ynznx5hs03d9_7j1h1qbc0000gn/T/ipykernel_5388/1251507463.py:6: PerformanceWarning: DataFrame is highly fragmented.  This is usually the result of calling `frame.insert` many times, which has poor performance.  Consider joining all columns at once using pd.concat(axis=1) instead. To get a de-fragmented frame, use `newframe = frame.copy()`\n",
      "  residuals[tick] = model.resid\n",
      "/var/folders/g5/7q0ynznx5hs03d9_7j1h1qbc0000gn/T/ipykernel_5388/1251507463.py:6: PerformanceWarning: DataFrame is highly fragmented.  This is usually the result of calling `frame.insert` many times, which has poor performance.  Consider joining all columns at once using pd.concat(axis=1) instead. To get a de-fragmented frame, use `newframe = frame.copy()`\n",
      "  residuals[tick] = model.resid\n",
      "/var/folders/g5/7q0ynznx5hs03d9_7j1h1qbc0000gn/T/ipykernel_5388/1251507463.py:6: PerformanceWarning: DataFrame is highly fragmented.  This is usually the result of calling `frame.insert` many times, which has poor performance.  Consider joining all columns at once using pd.concat(axis=1) instead. To get a de-fragmented frame, use `newframe = frame.copy()`\n",
      "  residuals[tick] = model.resid\n",
      "/var/folders/g5/7q0ynznx5hs03d9_7j1h1qbc0000gn/T/ipykernel_5388/1251507463.py:6: PerformanceWarning: DataFrame is highly fragmented.  This is usually the result of calling `frame.insert` many times, which has poor performance.  Consider joining all columns at once using pd.concat(axis=1) instead. To get a de-fragmented frame, use `newframe = frame.copy()`\n",
      "  residuals[tick] = model.resid\n",
      "/var/folders/g5/7q0ynznx5hs03d9_7j1h1qbc0000gn/T/ipykernel_5388/1251507463.py:6: PerformanceWarning: DataFrame is highly fragmented.  This is usually the result of calling `frame.insert` many times, which has poor performance.  Consider joining all columns at once using pd.concat(axis=1) instead. To get a de-fragmented frame, use `newframe = frame.copy()`\n",
      "  residuals[tick] = model.resid\n",
      "/var/folders/g5/7q0ynznx5hs03d9_7j1h1qbc0000gn/T/ipykernel_5388/1251507463.py:6: PerformanceWarning: DataFrame is highly fragmented.  This is usually the result of calling `frame.insert` many times, which has poor performance.  Consider joining all columns at once using pd.concat(axis=1) instead. To get a de-fragmented frame, use `newframe = frame.copy()`\n",
      "  residuals[tick] = model.resid\n",
      "/var/folders/g5/7q0ynznx5hs03d9_7j1h1qbc0000gn/T/ipykernel_5388/1251507463.py:6: PerformanceWarning: DataFrame is highly fragmented.  This is usually the result of calling `frame.insert` many times, which has poor performance.  Consider joining all columns at once using pd.concat(axis=1) instead. To get a de-fragmented frame, use `newframe = frame.copy()`\n",
      "  residuals[tick] = model.resid\n",
      "/var/folders/g5/7q0ynznx5hs03d9_7j1h1qbc0000gn/T/ipykernel_5388/1251507463.py:6: PerformanceWarning: DataFrame is highly fragmented.  This is usually the result of calling `frame.insert` many times, which has poor performance.  Consider joining all columns at once using pd.concat(axis=1) instead. To get a de-fragmented frame, use `newframe = frame.copy()`\n",
      "  residuals[tick] = model.resid\n",
      "/var/folders/g5/7q0ynznx5hs03d9_7j1h1qbc0000gn/T/ipykernel_5388/1251507463.py:6: PerformanceWarning: DataFrame is highly fragmented.  This is usually the result of calling `frame.insert` many times, which has poor performance.  Consider joining all columns at once using pd.concat(axis=1) instead. To get a de-fragmented frame, use `newframe = frame.copy()`\n",
      "  residuals[tick] = model.resid\n"
     ]
    },
    {
     "data": {
      "text/html": [
       "<div>\n",
       "<style scoped>\n",
       "    .dataframe tbody tr th:only-of-type {\n",
       "        vertical-align: middle;\n",
       "    }\n",
       "\n",
       "    .dataframe tbody tr th {\n",
       "        vertical-align: top;\n",
       "    }\n",
       "\n",
       "    .dataframe thead th {\n",
       "        text-align: right;\n",
       "    }\n",
       "</style>\n",
       "<table border=\"1\" class=\"dataframe\">\n",
       "  <thead>\n",
       "    <tr style=\"text-align: right;\">\n",
       "      <th></th>\n",
       "      <th>AAL</th>\n",
       "      <th>AAON</th>\n",
       "      <th>AAPL</th>\n",
       "      <th>ABAT</th>\n",
       "      <th>ABNB</th>\n",
       "      <th>ACDC</th>\n",
       "      <th>ACTG</th>\n",
       "      <th>ADBE</th>\n",
       "      <th>ADI</th>\n",
       "      <th>ADN</th>\n",
       "      <th>...</th>\n",
       "      <th>XPON</th>\n",
       "      <th>YORW</th>\n",
       "      <th>Z</th>\n",
       "      <th>ZBRA</th>\n",
       "      <th>ZD</th>\n",
       "      <th>ZEO</th>\n",
       "      <th>ZG</th>\n",
       "      <th>ZION</th>\n",
       "      <th>ZM</th>\n",
       "      <th>ZS</th>\n",
       "    </tr>\n",
       "  </thead>\n",
       "  <tbody>\n",
       "    <tr>\n",
       "      <th>AAL</th>\n",
       "      <td>1.000000</td>\n",
       "      <td>0.045487</td>\n",
       "      <td>0.013939</td>\n",
       "      <td>0.062087</td>\n",
       "      <td>0.166405</td>\n",
       "      <td>0.018780</td>\n",
       "      <td>0.112186</td>\n",
       "      <td>-0.015802</td>\n",
       "      <td>0.123420</td>\n",
       "      <td>-0.038666</td>\n",
       "      <td>...</td>\n",
       "      <td>-0.015179</td>\n",
       "      <td>-0.021215</td>\n",
       "      <td>0.030480</td>\n",
       "      <td>0.231893</td>\n",
       "      <td>0.111321</td>\n",
       "      <td>-0.093232</td>\n",
       "      <td>0.034995</td>\n",
       "      <td>0.206321</td>\n",
       "      <td>0.033978</td>\n",
       "      <td>-0.027073</td>\n",
       "    </tr>\n",
       "    <tr>\n",
       "      <th>AAON</th>\n",
       "      <td>0.045487</td>\n",
       "      <td>1.000000</td>\n",
       "      <td>-0.244485</td>\n",
       "      <td>0.006797</td>\n",
       "      <td>-0.100677</td>\n",
       "      <td>0.032723</td>\n",
       "      <td>0.121121</td>\n",
       "      <td>-0.064526</td>\n",
       "      <td>-0.042473</td>\n",
       "      <td>-0.002442</td>\n",
       "      <td>...</td>\n",
       "      <td>0.004189</td>\n",
       "      <td>0.018463</td>\n",
       "      <td>0.014138</td>\n",
       "      <td>0.128257</td>\n",
       "      <td>0.110078</td>\n",
       "      <td>0.001087</td>\n",
       "      <td>0.012347</td>\n",
       "      <td>0.072648</td>\n",
       "      <td>0.034495</td>\n",
       "      <td>0.071909</td>\n",
       "    </tr>\n",
       "    <tr>\n",
       "      <th>AAPL</th>\n",
       "      <td>0.013939</td>\n",
       "      <td>-0.244485</td>\n",
       "      <td>1.000000</td>\n",
       "      <td>0.022736</td>\n",
       "      <td>0.032831</td>\n",
       "      <td>0.009754</td>\n",
       "      <td>0.022072</td>\n",
       "      <td>-0.025251</td>\n",
       "      <td>0.022508</td>\n",
       "      <td>-0.025850</td>\n",
       "      <td>...</td>\n",
       "      <td>-0.020584</td>\n",
       "      <td>-0.009894</td>\n",
       "      <td>-0.016632</td>\n",
       "      <td>-0.035816</td>\n",
       "      <td>0.020581</td>\n",
       "      <td>0.079602</td>\n",
       "      <td>-0.017742</td>\n",
       "      <td>-0.110755</td>\n",
       "      <td>0.007773</td>\n",
       "      <td>0.002507</td>\n",
       "    </tr>\n",
       "    <tr>\n",
       "      <th>ABAT</th>\n",
       "      <td>0.062087</td>\n",
       "      <td>0.006797</td>\n",
       "      <td>0.022736</td>\n",
       "      <td>1.000000</td>\n",
       "      <td>0.026815</td>\n",
       "      <td>0.017245</td>\n",
       "      <td>-0.000058</td>\n",
       "      <td>-0.005761</td>\n",
       "      <td>0.006238</td>\n",
       "      <td>0.100489</td>\n",
       "      <td>...</td>\n",
       "      <td>-0.055443</td>\n",
       "      <td>-0.002327</td>\n",
       "      <td>0.016923</td>\n",
       "      <td>0.018469</td>\n",
       "      <td>0.041217</td>\n",
       "      <td>-0.000568</td>\n",
       "      <td>0.021040</td>\n",
       "      <td>-0.000368</td>\n",
       "      <td>0.097028</td>\n",
       "      <td>0.008665</td>\n",
       "    </tr>\n",
       "    <tr>\n",
       "      <th>ABNB</th>\n",
       "      <td>0.166405</td>\n",
       "      <td>-0.100677</td>\n",
       "      <td>0.032831</td>\n",
       "      <td>0.026815</td>\n",
       "      <td>1.000000</td>\n",
       "      <td>-0.030687</td>\n",
       "      <td>0.032206</td>\n",
       "      <td>0.068934</td>\n",
       "      <td>0.120943</td>\n",
       "      <td>0.024653</td>\n",
       "      <td>...</td>\n",
       "      <td>0.230475</td>\n",
       "      <td>-0.074383</td>\n",
       "      <td>0.092531</td>\n",
       "      <td>0.137449</td>\n",
       "      <td>-0.019965</td>\n",
       "      <td>0.051326</td>\n",
       "      <td>0.104024</td>\n",
       "      <td>0.036202</td>\n",
       "      <td>0.112238</td>\n",
       "      <td>-0.008373</td>\n",
       "    </tr>\n",
       "    <tr>\n",
       "      <th>...</th>\n",
       "      <td>...</td>\n",
       "      <td>...</td>\n",
       "      <td>...</td>\n",
       "      <td>...</td>\n",
       "      <td>...</td>\n",
       "      <td>...</td>\n",
       "      <td>...</td>\n",
       "      <td>...</td>\n",
       "      <td>...</td>\n",
       "      <td>...</td>\n",
       "      <td>...</td>\n",
       "      <td>...</td>\n",
       "      <td>...</td>\n",
       "      <td>...</td>\n",
       "      <td>...</td>\n",
       "      <td>...</td>\n",
       "      <td>...</td>\n",
       "      <td>...</td>\n",
       "      <td>...</td>\n",
       "      <td>...</td>\n",
       "      <td>...</td>\n",
       "    </tr>\n",
       "    <tr>\n",
       "      <th>ZEO</th>\n",
       "      <td>-0.093232</td>\n",
       "      <td>0.001087</td>\n",
       "      <td>0.079602</td>\n",
       "      <td>-0.000568</td>\n",
       "      <td>0.051326</td>\n",
       "      <td>0.000623</td>\n",
       "      <td>-0.008191</td>\n",
       "      <td>0.052408</td>\n",
       "      <td>0.087195</td>\n",
       "      <td>0.053508</td>\n",
       "      <td>...</td>\n",
       "      <td>0.074813</td>\n",
       "      <td>-0.019883</td>\n",
       "      <td>0.054418</td>\n",
       "      <td>0.010211</td>\n",
       "      <td>-0.028127</td>\n",
       "      <td>1.000000</td>\n",
       "      <td>0.043804</td>\n",
       "      <td>0.065110</td>\n",
       "      <td>0.001231</td>\n",
       "      <td>-0.009860</td>\n",
       "    </tr>\n",
       "    <tr>\n",
       "      <th>ZG</th>\n",
       "      <td>0.034995</td>\n",
       "      <td>0.012347</td>\n",
       "      <td>-0.017742</td>\n",
       "      <td>0.021040</td>\n",
       "      <td>0.104024</td>\n",
       "      <td>-0.063113</td>\n",
       "      <td>-0.023237</td>\n",
       "      <td>0.071467</td>\n",
       "      <td>-0.058644</td>\n",
       "      <td>0.162917</td>\n",
       "      <td>...</td>\n",
       "      <td>-0.016456</td>\n",
       "      <td>0.050418</td>\n",
       "      <td>0.994947</td>\n",
       "      <td>0.030787</td>\n",
       "      <td>0.131158</td>\n",
       "      <td>0.043804</td>\n",
       "      <td>1.000000</td>\n",
       "      <td>-0.016126</td>\n",
       "      <td>0.086628</td>\n",
       "      <td>0.050909</td>\n",
       "    </tr>\n",
       "    <tr>\n",
       "      <th>ZION</th>\n",
       "      <td>0.206321</td>\n",
       "      <td>0.072648</td>\n",
       "      <td>-0.110755</td>\n",
       "      <td>-0.000368</td>\n",
       "      <td>0.036202</td>\n",
       "      <td>0.201502</td>\n",
       "      <td>0.249320</td>\n",
       "      <td>-0.072213</td>\n",
       "      <td>0.061609</td>\n",
       "      <td>0.052685</td>\n",
       "      <td>...</td>\n",
       "      <td>-0.071120</td>\n",
       "      <td>0.188690</td>\n",
       "      <td>-0.010364</td>\n",
       "      <td>0.299802</td>\n",
       "      <td>0.265550</td>\n",
       "      <td>0.065110</td>\n",
       "      <td>-0.016126</td>\n",
       "      <td>1.000000</td>\n",
       "      <td>0.103131</td>\n",
       "      <td>0.085398</td>\n",
       "    </tr>\n",
       "    <tr>\n",
       "      <th>ZM</th>\n",
       "      <td>0.033978</td>\n",
       "      <td>0.034495</td>\n",
       "      <td>0.007773</td>\n",
       "      <td>0.097028</td>\n",
       "      <td>0.112238</td>\n",
       "      <td>0.072688</td>\n",
       "      <td>0.072347</td>\n",
       "      <td>0.096368</td>\n",
       "      <td>0.000774</td>\n",
       "      <td>0.082414</td>\n",
       "      <td>...</td>\n",
       "      <td>-0.004736</td>\n",
       "      <td>0.047405</td>\n",
       "      <td>0.082223</td>\n",
       "      <td>0.028048</td>\n",
       "      <td>0.214495</td>\n",
       "      <td>0.001231</td>\n",
       "      <td>0.086628</td>\n",
       "      <td>0.103131</td>\n",
       "      <td>1.000000</td>\n",
       "      <td>0.265072</td>\n",
       "    </tr>\n",
       "    <tr>\n",
       "      <th>ZS</th>\n",
       "      <td>-0.027073</td>\n",
       "      <td>0.071909</td>\n",
       "      <td>0.002507</td>\n",
       "      <td>0.008665</td>\n",
       "      <td>-0.008373</td>\n",
       "      <td>0.002680</td>\n",
       "      <td>0.033046</td>\n",
       "      <td>0.155010</td>\n",
       "      <td>-0.099809</td>\n",
       "      <td>0.098735</td>\n",
       "      <td>...</td>\n",
       "      <td>-0.054606</td>\n",
       "      <td>-0.028629</td>\n",
       "      <td>0.048048</td>\n",
       "      <td>-0.040395</td>\n",
       "      <td>0.078976</td>\n",
       "      <td>-0.009860</td>\n",
       "      <td>0.050909</td>\n",
       "      <td>0.085398</td>\n",
       "      <td>0.265072</td>\n",
       "      <td>1.000000</td>\n",
       "    </tr>\n",
       "  </tbody>\n",
       "</table>\n",
       "<p>499 rows × 499 columns</p>\n",
       "</div>"
      ],
      "text/plain": [
       "           AAL      AAON      AAPL      ABAT      ABNB      ACDC      ACTG  \\\n",
       "AAL   1.000000  0.045487  0.013939  0.062087  0.166405  0.018780  0.112186   \n",
       "AAON  0.045487  1.000000 -0.244485  0.006797 -0.100677  0.032723  0.121121   \n",
       "AAPL  0.013939 -0.244485  1.000000  0.022736  0.032831  0.009754  0.022072   \n",
       "ABAT  0.062087  0.006797  0.022736  1.000000  0.026815  0.017245 -0.000058   \n",
       "ABNB  0.166405 -0.100677  0.032831  0.026815  1.000000 -0.030687  0.032206   \n",
       "...        ...       ...       ...       ...       ...       ...       ...   \n",
       "ZEO  -0.093232  0.001087  0.079602 -0.000568  0.051326  0.000623 -0.008191   \n",
       "ZG    0.034995  0.012347 -0.017742  0.021040  0.104024 -0.063113 -0.023237   \n",
       "ZION  0.206321  0.072648 -0.110755 -0.000368  0.036202  0.201502  0.249320   \n",
       "ZM    0.033978  0.034495  0.007773  0.097028  0.112238  0.072688  0.072347   \n",
       "ZS   -0.027073  0.071909  0.002507  0.008665 -0.008373  0.002680  0.033046   \n",
       "\n",
       "          ADBE       ADI       ADN  ...      XPON      YORW         Z  \\\n",
       "AAL  -0.015802  0.123420 -0.038666  ... -0.015179 -0.021215  0.030480   \n",
       "AAON -0.064526 -0.042473 -0.002442  ...  0.004189  0.018463  0.014138   \n",
       "AAPL -0.025251  0.022508 -0.025850  ... -0.020584 -0.009894 -0.016632   \n",
       "ABAT -0.005761  0.006238  0.100489  ... -0.055443 -0.002327  0.016923   \n",
       "ABNB  0.068934  0.120943  0.024653  ...  0.230475 -0.074383  0.092531   \n",
       "...        ...       ...       ...  ...       ...       ...       ...   \n",
       "ZEO   0.052408  0.087195  0.053508  ...  0.074813 -0.019883  0.054418   \n",
       "ZG    0.071467 -0.058644  0.162917  ... -0.016456  0.050418  0.994947   \n",
       "ZION -0.072213  0.061609  0.052685  ... -0.071120  0.188690 -0.010364   \n",
       "ZM    0.096368  0.000774  0.082414  ... -0.004736  0.047405  0.082223   \n",
       "ZS    0.155010 -0.099809  0.098735  ... -0.054606 -0.028629  0.048048   \n",
       "\n",
       "          ZBRA        ZD       ZEO        ZG      ZION        ZM        ZS  \n",
       "AAL   0.231893  0.111321 -0.093232  0.034995  0.206321  0.033978 -0.027073  \n",
       "AAON  0.128257  0.110078  0.001087  0.012347  0.072648  0.034495  0.071909  \n",
       "AAPL -0.035816  0.020581  0.079602 -0.017742 -0.110755  0.007773  0.002507  \n",
       "ABAT  0.018469  0.041217 -0.000568  0.021040 -0.000368  0.097028  0.008665  \n",
       "ABNB  0.137449 -0.019965  0.051326  0.104024  0.036202  0.112238 -0.008373  \n",
       "...        ...       ...       ...       ...       ...       ...       ...  \n",
       "ZEO   0.010211 -0.028127  1.000000  0.043804  0.065110  0.001231 -0.009860  \n",
       "ZG    0.030787  0.131158  0.043804  1.000000 -0.016126  0.086628  0.050909  \n",
       "ZION  0.299802  0.265550  0.065110 -0.016126  1.000000  0.103131  0.085398  \n",
       "ZM    0.028048  0.214495  0.001231  0.086628  0.103131  1.000000  0.265072  \n",
       "ZS   -0.040395  0.078976 -0.009860  0.050909  0.085398  0.265072  1.000000  \n",
       "\n",
       "[499 rows x 499 columns]"
      ]
     },
     "execution_count": 7,
     "metadata": {},
     "output_type": "execute_result"
    }
   ],
   "source": [
    "residuals = pd.DataFrame(index=stock_returns.index)\n",
    "for tick in ticker:\n",
    "    Y = stock_returns[tick]\n",
    "    X = sm.add_constant(market_returns)\n",
    "    model = sm.OLS(Y, X).fit()\n",
    "    residuals[tick] = model.resid\n",
    "# calculating the residual return \n",
    "resid_corr = residuals.corr()\n",
    "resid_corr"
   ]
  },
  {
   "cell_type": "code",
   "execution_count": 8,
   "id": "98ae1f11",
   "metadata": {},
   "outputs": [],
   "source": [
    "threshold = 0.03\n",
    "n_component = 2\n",
    "\n",
    "\n",
    "tsne = TSNE(n_components=n_component, perplexity=15, init='random', random_state=42)\n",
    "embedding = tsne.fit_transform(resid_corr.values)"
   ]
  },
  {
   "cell_type": "code",
   "execution_count": 18,
   "id": "2daf2cec",
   "metadata": {},
   "outputs": [],
   "source": [
    "n_cluster = 12\n",
    "kmeans = KMeans(n_clusters=11, random_state=42)\n",
    "cluster_labels = kmeans.fit_predict(embedding)"
   ]
  },
  {
   "cell_type": "code",
   "execution_count": 19,
   "id": "c033f717",
   "metadata": {},
   "outputs": [
    {
     "data": {
      "text/html": [
       "<div>\n",
       "<style scoped>\n",
       "    .dataframe tbody tr th:only-of-type {\n",
       "        vertical-align: middle;\n",
       "    }\n",
       "\n",
       "    .dataframe tbody tr th {\n",
       "        vertical-align: top;\n",
       "    }\n",
       "\n",
       "    .dataframe thead th {\n",
       "        text-align: right;\n",
       "    }\n",
       "</style>\n",
       "<table border=\"1\" class=\"dataframe\">\n",
       "  <thead>\n",
       "    <tr style=\"text-align: right;\">\n",
       "      <th></th>\n",
       "      <th>Symbol</th>\n",
       "      <th>PC1</th>\n",
       "      <th>PC2</th>\n",
       "      <th>clusters</th>\n",
       "    </tr>\n",
       "  </thead>\n",
       "  <tbody>\n",
       "    <tr>\n",
       "      <th>0</th>\n",
       "      <td>AAL</td>\n",
       "      <td>-21.120728</td>\n",
       "      <td>15.491786</td>\n",
       "      <td>2</td>\n",
       "    </tr>\n",
       "    <tr>\n",
       "      <th>1</th>\n",
       "      <td>AAON</td>\n",
       "      <td>36.770336</td>\n",
       "      <td>22.869818</td>\n",
       "      <td>3</td>\n",
       "    </tr>\n",
       "    <tr>\n",
       "      <th>2</th>\n",
       "      <td>AAPL</td>\n",
       "      <td>17.274752</td>\n",
       "      <td>-6.224302</td>\n",
       "      <td>0</td>\n",
       "    </tr>\n",
       "    <tr>\n",
       "      <th>3</th>\n",
       "      <td>ABAT</td>\n",
       "      <td>24.165955</td>\n",
       "      <td>9.641623</td>\n",
       "      <td>10</td>\n",
       "    </tr>\n",
       "    <tr>\n",
       "      <th>4</th>\n",
       "      <td>ABNB</td>\n",
       "      <td>0.836618</td>\n",
       "      <td>9.948722</td>\n",
       "      <td>8</td>\n",
       "    </tr>\n",
       "    <tr>\n",
       "      <th>...</th>\n",
       "      <td>...</td>\n",
       "      <td>...</td>\n",
       "      <td>...</td>\n",
       "      <td>...</td>\n",
       "    </tr>\n",
       "    <tr>\n",
       "      <th>494</th>\n",
       "      <td>ZEO</td>\n",
       "      <td>14.657510</td>\n",
       "      <td>10.859323</td>\n",
       "      <td>8</td>\n",
       "    </tr>\n",
       "    <tr>\n",
       "      <th>495</th>\n",
       "      <td>ZG</td>\n",
       "      <td>15.845045</td>\n",
       "      <td>-20.435959</td>\n",
       "      <td>7</td>\n",
       "    </tr>\n",
       "    <tr>\n",
       "      <th>496</th>\n",
       "      <td>ZION</td>\n",
       "      <td>-48.787041</td>\n",
       "      <td>7.092076</td>\n",
       "      <td>5</td>\n",
       "    </tr>\n",
       "    <tr>\n",
       "      <th>497</th>\n",
       "      <td>ZM</td>\n",
       "      <td>-11.484532</td>\n",
       "      <td>2.957347</td>\n",
       "      <td>2</td>\n",
       "    </tr>\n",
       "    <tr>\n",
       "      <th>498</th>\n",
       "      <td>ZS</td>\n",
       "      <td>33.734108</td>\n",
       "      <td>5.887947</td>\n",
       "      <td>10</td>\n",
       "    </tr>\n",
       "  </tbody>\n",
       "</table>\n",
       "<p>499 rows × 4 columns</p>\n",
       "</div>"
      ],
      "text/plain": [
       "    Symbol        PC1        PC2  clusters\n",
       "0      AAL -21.120728  15.491786         2\n",
       "1     AAON  36.770336  22.869818         3\n",
       "2     AAPL  17.274752  -6.224302         0\n",
       "3     ABAT  24.165955   9.641623        10\n",
       "4     ABNB   0.836618   9.948722         8\n",
       "..     ...        ...        ...       ...\n",
       "494    ZEO  14.657510  10.859323         8\n",
       "495     ZG  15.845045 -20.435959         7\n",
       "496   ZION -48.787041   7.092076         5\n",
       "497     ZM -11.484532   2.957347         2\n",
       "498     ZS  33.734108   5.887947        10\n",
       "\n",
       "[499 rows x 4 columns]"
      ]
     },
     "execution_count": 19,
     "metadata": {},
     "output_type": "execute_result"
    }
   ],
   "source": [
    "df_tsne = pd.DataFrame({\n",
    "    'Symbol': ticker,\n",
    "    'PC1': embedding[:,0],\n",
    "    'PC2': embedding[:,1],\n",
    "    'clusters': cluster_labels\n",
    "})\n",
    "df_tsne"
   ]
  },
  {
   "cell_type": "code",
   "execution_count": 20,
   "id": "9df6ec3d",
   "metadata": {},
   "outputs": [
    {
     "data": {
      "text/html": [
       "<div>\n",
       "<style scoped>\n",
       "    .dataframe tbody tr th:only-of-type {\n",
       "        vertical-align: middle;\n",
       "    }\n",
       "\n",
       "    .dataframe tbody tr th {\n",
       "        vertical-align: top;\n",
       "    }\n",
       "\n",
       "    .dataframe thead th {\n",
       "        text-align: right;\n",
       "    }\n",
       "</style>\n",
       "<table border=\"1\" class=\"dataframe\">\n",
       "  <thead>\n",
       "    <tr style=\"text-align: right;\">\n",
       "      <th></th>\n",
       "      <th>Symbol</th>\n",
       "      <th>PC1</th>\n",
       "      <th>PC2</th>\n",
       "      <th>clusters</th>\n",
       "      <th>Sector</th>\n",
       "      <th>Name</th>\n",
       "    </tr>\n",
       "  </thead>\n",
       "  <tbody>\n",
       "    <tr>\n",
       "      <th>0</th>\n",
       "      <td>AAL</td>\n",
       "      <td>-21.120728</td>\n",
       "      <td>15.491786</td>\n",
       "      <td>2</td>\n",
       "      <td>Consumer Discretionary</td>\n",
       "      <td>American Airlines Group Inc. Common Stock</td>\n",
       "    </tr>\n",
       "    <tr>\n",
       "      <th>1</th>\n",
       "      <td>AAON</td>\n",
       "      <td>36.770336</td>\n",
       "      <td>22.869818</td>\n",
       "      <td>3</td>\n",
       "      <td>Industrials</td>\n",
       "      <td>AAON Inc. Common Stock</td>\n",
       "    </tr>\n",
       "    <tr>\n",
       "      <th>2</th>\n",
       "      <td>AAPL</td>\n",
       "      <td>17.274752</td>\n",
       "      <td>-6.224302</td>\n",
       "      <td>0</td>\n",
       "      <td>Technology</td>\n",
       "      <td>Apple Inc. Common Stock</td>\n",
       "    </tr>\n",
       "    <tr>\n",
       "      <th>3</th>\n",
       "      <td>ABAT</td>\n",
       "      <td>24.165955</td>\n",
       "      <td>9.641623</td>\n",
       "      <td>10</td>\n",
       "      <td>Basic Materials</td>\n",
       "      <td>American Battery Technology Company Common Stock</td>\n",
       "    </tr>\n",
       "    <tr>\n",
       "      <th>4</th>\n",
       "      <td>ABNB</td>\n",
       "      <td>0.836618</td>\n",
       "      <td>9.948722</td>\n",
       "      <td>8</td>\n",
       "      <td>Finance</td>\n",
       "      <td>Airbnb Inc. Class A Common Stock</td>\n",
       "    </tr>\n",
       "    <tr>\n",
       "      <th>...</th>\n",
       "      <td>...</td>\n",
       "      <td>...</td>\n",
       "      <td>...</td>\n",
       "      <td>...</td>\n",
       "      <td>...</td>\n",
       "      <td>...</td>\n",
       "    </tr>\n",
       "    <tr>\n",
       "      <th>494</th>\n",
       "      <td>ZEO</td>\n",
       "      <td>14.657510</td>\n",
       "      <td>10.859323</td>\n",
       "      <td>8</td>\n",
       "      <td>Miscellaneous</td>\n",
       "      <td>Zeo Energy Corporation Class A Common Stock</td>\n",
       "    </tr>\n",
       "    <tr>\n",
       "      <th>495</th>\n",
       "      <td>ZG</td>\n",
       "      <td>15.845045</td>\n",
       "      <td>-20.435959</td>\n",
       "      <td>7</td>\n",
       "      <td>Consumer Discretionary</td>\n",
       "      <td>Zillow Group Inc. Class A Common Stock</td>\n",
       "    </tr>\n",
       "    <tr>\n",
       "      <th>496</th>\n",
       "      <td>ZION</td>\n",
       "      <td>-48.787041</td>\n",
       "      <td>7.092076</td>\n",
       "      <td>5</td>\n",
       "      <td>Finance</td>\n",
       "      <td>Zions Bancorporation N.A. Common Stock</td>\n",
       "    </tr>\n",
       "    <tr>\n",
       "      <th>497</th>\n",
       "      <td>ZM</td>\n",
       "      <td>-11.484532</td>\n",
       "      <td>2.957347</td>\n",
       "      <td>2</td>\n",
       "      <td>Technology</td>\n",
       "      <td>Zoom Communications Inc. Class A Common Stock</td>\n",
       "    </tr>\n",
       "    <tr>\n",
       "      <th>498</th>\n",
       "      <td>ZS</td>\n",
       "      <td>33.734108</td>\n",
       "      <td>5.887947</td>\n",
       "      <td>10</td>\n",
       "      <td>Technology</td>\n",
       "      <td>Zscaler Inc. Common Stock</td>\n",
       "    </tr>\n",
       "  </tbody>\n",
       "</table>\n",
       "<p>499 rows × 6 columns</p>\n",
       "</div>"
      ],
      "text/plain": [
       "    Symbol        PC1        PC2  clusters                  Sector  \\\n",
       "0      AAL -21.120728  15.491786         2  Consumer Discretionary   \n",
       "1     AAON  36.770336  22.869818         3             Industrials   \n",
       "2     AAPL  17.274752  -6.224302         0              Technology   \n",
       "3     ABAT  24.165955   9.641623        10         Basic Materials   \n",
       "4     ABNB   0.836618   9.948722         8                 Finance   \n",
       "..     ...        ...        ...       ...                     ...   \n",
       "494    ZEO  14.657510  10.859323         8           Miscellaneous   \n",
       "495     ZG  15.845045 -20.435959         7  Consumer Discretionary   \n",
       "496   ZION -48.787041   7.092076         5                 Finance   \n",
       "497     ZM -11.484532   2.957347         2              Technology   \n",
       "498     ZS  33.734108   5.887947        10              Technology   \n",
       "\n",
       "                                                 Name  \n",
       "0           American Airlines Group Inc. Common Stock  \n",
       "1                              AAON Inc. Common Stock  \n",
       "2                             Apple Inc. Common Stock  \n",
       "3    American Battery Technology Company Common Stock  \n",
       "4                    Airbnb Inc. Class A Common Stock  \n",
       "..                                                ...  \n",
       "494       Zeo Energy Corporation Class A Common Stock  \n",
       "495            Zillow Group Inc. Class A Common Stock  \n",
       "496            Zions Bancorporation N.A. Common Stock  \n",
       "497     Zoom Communications Inc. Class A Common Stock  \n",
       "498                         Zscaler Inc. Common Stock  \n",
       "\n",
       "[499 rows x 6 columns]"
      ]
     },
     "execution_count": 20,
     "metadata": {},
     "output_type": "execute_result"
    }
   ],
   "source": [
    "merged_tsne = pd.merge(df_tsne, sector_stocks_cleaned_with_name, right_on = 'Symbol', left_on = 'Symbol')\n",
    "merged_tsne"
   ]
  },
  {
   "cell_type": "code",
   "execution_count": 21,
   "id": "811f9ecd",
   "metadata": {},
   "outputs": [
    {
     "data": {
      "application/vnd.plotly.v1+json": {
       "config": {
        "plotlyServerURL": "https://plot.ly"
       },
       "data": [
        {
         "customdata": [
          [
           "Consumer Discretionary",
           "American Airlines Group Inc. Common Stock"
          ],
          [
           "Industrials",
           "AAON Inc. Common Stock"
          ],
          [
           "Technology",
           "Apple Inc. Common Stock"
          ],
          [
           "Basic Materials",
           "American Battery Technology Company Common Stock"
          ],
          [
           "Finance",
           "Airbnb Inc. Class A Common Stock"
          ],
          [
           "Energy",
           "ProFrac Holding Corp. Class A Common Stock"
          ],
          [
           "Miscellaneous",
           "Acacia Research Corporation (Acacia Tech) Common Stock"
          ],
          [
           "Technology",
           "Adobe Inc. Common Stock"
          ],
          [
           "Technology",
           "Analog Devices Inc. Common Stock"
          ],
          [
           "Miscellaneous",
           "Advent Technologies Holdings Inc. Class A Common Stock"
          ],
          [
           "Technology",
           "Automatic Data Processing Inc. Common Stock"
          ],
          [
           "Technology",
           "Autodesk Inc. Common Stock"
          ],
          [
           "Utilities",
           "ADTRAN Holdings Inc. Common Stock"
          ],
          [
           "Utilities",
           "American Electric Power Company Inc. Common Stock"
          ],
          [
           "Finance",
           "Affirm Holdings Inc. Class A Common Stock"
          ],
          [
           "Consumer Staples",
           "Agrify Corporation Common Stock"
          ],
          [
           "Real Estate",
           "AGNC Investment Corp. Common Stock"
          ],
          [
           "Real Estate",
           "AGNC Investment Corp. Depositary Shares Each Representing a 1/1000th Interest in a Share of 7.75% Series G Fixed-Rate Reset Cumulative Redeemable Preferred Stock"
          ],
          [
           "Real Estate",
           "AGNC Investment Corp. Depositary Shares rep 6.875% Series D Fixed-to-Floating Cumulative Redeemable Preferred Stock"
          ],
          [
           "Real Estate",
           "AGNC Investment Corp. Depositary Shares Each Representing a 1/1000th Interest in a Share of 7.00% Series C Fixed-To-Floating Rate Cumulative Redeemable Preferred Stock"
          ],
          [
           "Real Estate",
           "AGNC Investment Corp. Depositary Shares each representing a 1/1000th interest in a share of 6.50% Series E Fixed-to-Floating Cumulative Redeemable Preferred Stock"
          ],
          [
           "Real Estate",
           "AGNC Investment Corp. Depositary Shares Each Representing a 1/1000th Interest in a Share of 6.125% Series F Fixed-to-Floating Rate Cumulative Redeemable Preferred Stock"
          ],
          [
           "Telecommunications",
           "PowerFleet Inc. Common Stock"
          ],
          [
           "Consumer Discretionary",
           "Akamai Technologies Inc. Common Stock"
          ],
          [
           "Utilities",
           "Alternus Clean Energy Inc. Class A Common Stock"
          ],
          [
           "Health Care",
           "Align Technology Inc. Common Stock"
          ],
          [
           "Health Care",
           "Alnylam Pharmaceuticals Inc. Common Stock"
          ],
          [
           "Technology",
           "Applied Materials Inc. Common Stock"
          ],
          [
           "Telecommunications",
           "AMC Networks Inc. Class A Common Stock"
          ],
          [
           "Technology",
           "Advanced Micro Devices Inc. Common Stock"
          ],
          [
           "Health Care",
           "Amgen Inc. Common Stock"
          ],
          [
           "Miscellaneous",
           "Alpha Modus Holdings Inc. Class A Common Stock"
          ],
          [
           "Telecommunications",
           "Amplitech Group Inc. Common Stock"
          ],
          [
           "Telecommunications",
           "Amplitech Group Inc. Warrants"
          ],
          [
           "Basic Materials",
           "American Woodmark Corporation Common Stock"
          ],
          [
           "Consumer Discretionary",
           "Amazon.com Inc. Common Stock"
          ],
          [
           "Energy",
           "AleAnna Inc. Class A Common Stock"
          ],
          [
           "Technology",
           "ANSYS Inc. Common Stock"
          ],
          [
           "Energy",
           "APA Corporation Common Stock"
          ],
          [
           "Real Estate",
           "American Public Education Inc. Common Stock"
          ],
          [
           "Technology",
           "Applovin Corporation Class A Common Stock"
          ],
          [
           "Miscellaneous",
           "Digital Turbine Inc. Common Stock"
          ],
          [
           "Finance",
           "Ares Capital Corporation Common Stock"
          ],
          [
           "Energy",
           "American Resources Corporation Class A Common Stock"
          ],
          [
           "Consumer Staples",
           "ARKO Corp. Common Stock"
          ],
          [
           "Energy",
           "Alliance Resource Partners L.P. Common Units representing Limited Partners Interests"
          ],
          [
           "Utilities",
           "Artesian Resources Corporation Class A Common Stock"
          ],
          [
           "Telecommunications",
           "Actelis Networks Inc. Common Stock"
          ],
          [
           "Consumer Discretionary",
           "AST SpaceMobile Inc. Class A Common Stock"
          ],
          [
           "Telecommunications",
           "Anterix Inc. Common Stock"
          ],
          [
           "Telecommunications",
           "ATN International Inc. Common Stock"
          ],
          [
           "Industrials",
           "AeroVironment Inc. Common Stock"
          ],
          [
           "Technology",
           "Broadcom Inc. Common Stock"
          ],
          [
           "Consumer Staples",
           "Mission Produce Inc. Common Stock"
          ],
          [
           "Industrials",
           "Axon Enterprise Inc. Common Stock"
          ],
          [
           "Health Care",
           "Axsome Therapeutics Inc. Common Stock"
          ],
          [
           "Health Care",
           "BridgeBio Pharma Inc. Common Stock"
          ],
          [
           "Industrials",
           "Balchem Corporation Common Stock"
          ],
          [
           "Health Care",
           "Biogen Inc. Common Stock"
          ],
          [
           "Consumer Discretionary",
           "Booking Holdings Inc. Common Stock"
          ],
          [
           "Industrials",
           "Baker Hughes Company Class A Common Stock"
          ],
          [
           "Health Care",
           "BioMarin Pharmaceutical Inc. Common Stock"
          ],
          [
           "Finance",
           "BOK Financial Corporation Common Stock"
          ],
          [
           "Health Care",
           "Blueprint Medicines Corporation Common Stock"
          ],
          [
           "Finance",
           "Popular Inc. Common Stock"
          ],
          [
           "Consumer Staples",
           "Barfresh Food Group Inc. Common Stock"
          ],
          [
           "Consumer Staples",
           "Bridgford Foods Corporation Common Stock"
          ],
          [
           "Industrials",
           "Bruker Corporation Common Stock"
          ],
          [
           "Energy",
           "Berry Corporation (bry) Common Stock"
          ],
          [
           "Telecommunications",
           "Broadwind Inc. Common Stock"
          ],
          [
           "Consumer Staples",
           "Beyond Meat Inc. Common Stock"
          ],
          [
           "Miscellaneous",
           "Byrna Technologies Inc. Common Stock"
          ],
          [
           "Finance",
           "Credit Acceptance Corporation Common Stock"
          ],
          [
           "Consumer Staples",
           "Cal-Maine Foods Inc. Common Stock"
          ],
          [
           "Consumer Discretionary",
           "Maplebear Inc. Common Stock"
          ],
          [
           "Consumer Discretionary",
           "Casey's General Stores Inc. Common Stock"
          ],
          [
           "Finance",
           "Commerce Bancshares Inc. Common Stock"
          ],
          [
           "Technology",
           "Cadence Design Systems Inc. Common Stock"
          ],
          [
           "Consumer Discretionary",
           "CDW Corporation Common Stock"
          ],
          [
           "Utilities",
           "CADIZ Inc. Common Stock"
          ],
          [
           "Utilities",
           "Cadiz Inc. Depositary Shares"
          ],
          [
           "Utilities",
           "Constellation Energy Corporation Common Stock "
          ],
          [
           "Consumer Staples",
           "Celsius Holdings Inc. Common Stock"
          ],
          [
           "Finance",
           "The Carlyle Group Inc. Common Stock"
          ],
          [
           "Finance",
           "The Carlyle Group Inc. 4.625% Subordinated Notes due 2061"
          ],
          [
           "Industrials",
           "Cognex Corporation Common Stock"
          ],
          [
           "Consumer Discretionary",
           "Churchill Downs Incorporated Common Stock"
          ],
          [
           "Energy",
           "Chord Energy Corporation Common Stock"
          ],
          [
           "Consumer Discretionary",
           "C.H. Robinson Worldwide Inc. Common Stock"
          ],
          [
           "Telecommunications",
           "Charter Communications Inc. Class A Common Stock New"
          ],
          [
           "Industrials",
           "ChampionX Corporation Common Stock "
          ],
          [
           "Finance",
           "Cincinnati Financial Corporation Common Stock"
          ],
          [
           "Utilities",
           "Clearfield Inc. Common Stock"
          ],
          [
           "Energy",
           "Calumet Inc. Common Stock"
          ],
          [
           "Utilities",
           "Clean Energy Fuels Corp. Common Stock"
          ],
          [
           "Utilities",
           "ClearOne Inc. (DE) Common Stock"
          ],
          [
           "Telecommunications",
           "Comcast Corporation Class A Common Stock"
          ],
          [
           "Finance",
           "CME Group Inc. Class A Common Stock"
          ],
          [
           "Consumer Staples",
           "The Vita Coco Company Inc. Common Stock"
          ],
          [
           "Finance",
           "Coinbase Global Inc. Class A Common Stock"
          ],
          [
           "Consumer Staples",
           "Coca-Cola Consolidated Inc. Common Stock"
          ],
          [
           "Health Care",
           "The Cooper Companies Inc. Common Stock"
          ],
          [
           "Finance",
           "Mr. Cooper Group Inc. Common Stock"
          ],
          [
           "Health Care",
           "Corcept Therapeutics Incorporated Common Stock"
          ],
          [
           "Consumer Discretionary",
           "Costco Wholesale Corporation Common Stock"
          ],
          [
           "Consumer Staples",
           "The Campbell's Company Common Stock"
          ],
          [
           "Consumer Discretionary",
           "Copart Inc. (DE) Common Stock"
          ],
          [
           "Technology",
           "CrowdStrike Holdings Inc. Class A Common Stock"
          ],
          [
           "Telecommunications",
           "Cisco Systems Inc. Common Stock (DE)"
          ],
          [
           "Consumer Discretionary",
           "CoStar Group Inc. Common Stock"
          ],
          [
           "Industrials",
           "CSW Industrials Inc. Common Stock"
          ],
          [
           "Industrials",
           "CSX Corporation Common Stock"
          ],
          [
           "Consumer Discretionary",
           "Cintas Corporation Common Stock"
          ],
          [
           "Miscellaneous",
           "Cantaloupe Inc. Common Stock"
          ],
          [
           "Technology",
           "Cognizant Technology Solutions Corporation Class A Common Stock"
          ],
          [
           "Utilities",
           "Casella Waste Systems Inc. Class A Common Stock"
          ],
          [
           "Telecommunications",
           "Crexendo Inc. Common Stock"
          ],
          [
           "Consumer Discretionary",
           "DoorDash Inc. Class A Common Stock"
          ],
          [
           "Telecommunications",
           "DatChat Inc. Common Stock"
          ],
          [
           "Telecommunications",
           "DatChat Inc. Series A Warrant"
          ],
          [
           "Technology",
           "Datadog Inc. Class A Common Stock"
          ],
          [
           "Miscellaneous",
           "Dragonfly Energy Holdings Corp. Common Stock (NV)"
          ],
          [
           "Telecommunications",
           "Digi International Inc. Common Stock"
          ],
          [
           "Real Estate",
           "Diversified Healthcare Trust Common Shares of Beneficial Interest"
          ],
          [
           "Real Estate",
           "Diversified Healthcare Trust 5.625% Senior Notes due 2042"
          ],
          [
           "Consumer Discretionary",
           "DraftKings Inc. Class A Common Stock"
          ],
          [
           "Consumer Discretionary",
           "Dollar Tree Inc. Common Stock"
          ],
          [
           "Energy",
           "Dorchester Minerals L.P. Common Units Representing Limited Partnership Interests"
          ],
          [
           "Consumer Staples",
           "Krispy Kreme Inc. Common Stock"
          ],
          [
           "Consumer Discretionary",
           "Domino's Pizza Inc Common Stock"
          ],
          [
           "Energy",
           "Dawson Geophysical Company Common Stock"
          ],
          [
           "Health Care",
           "DexCom Inc. Common Stock"
          ],
          [
           "Technology",
           "Electronic Arts Inc. Common Stock"
          ],
          [
           "Consumer Discretionary",
           "eBay Inc. Common Stock"
          ],
          [
           "Health Care",
           "The Ensign Group Inc. Common Stock"
          ],
          [
           "Industrials",
           "Entegris Inc. Common Stock"
          ],
          [
           "Miscellaneous",
           "Enovix Corporation Common Stock"
          ],
          [
           "Miscellaneous",
           "Eos Energy Enterprises Inc. Class A Common Stock"
          ],
          [
           "Miscellaneous",
           "Eos Energy Enterprises Inc. Warrant"
          ],
          [
           "Energy",
           "Epsilon Energy Ltd. Common Share"
          ],
          [
           "Real Estate",
           "Equinix Inc. Common Stock REIT"
          ],
          [
           "Finance",
           "Erie Indemnity Company Class A Common Stock"
          ],
          [
           "Basic Materials",
           "enCore Energy Corp. Common Shares"
          ],
          [
           "Utilities",
           "Evergy Inc. Common Stock"
          ],
          [
           "Finance",
           "East West Bancorp Inc. Common Stock"
          ],
          [
           "Health Care",
           "Exact Sciences Corporation Common Stock"
          ],
          [
           "Utilities",
           "Exelon Corporation Common Stock"
          ],
          [
           "Energy",
           "Expand Energy Corporation Common Stock"
          ],
          [
           "Energy",
           "Expand Energy Corporation Class C Warrants"
          ],
          [
           "Energy",
           "Expand Energy Corporation Class A Warrants"
          ],
          [
           "Energy",
           "Expand Energy Corporation Class B Warrants"
          ],
          [
           "Health Care",
           "Exelixis Inc. Common Stock"
          ],
          [
           "Consumer Discretionary",
           "Expedia Group Inc. Common Stock"
          ],
          [
           "Telecommunications",
           "Extreme Networks Inc. Common Stock"
          ],
          [
           "Energy",
           "Diamondback Energy Inc. Common Stock"
          ],
          [
           "Consumer Staples",
           "Farmer Brothers Company Common Stock"
          ],
          [
           "Consumer Discretionary",
           "Fastenal Company Common Stock"
          ],
          [
           "Energy",
           "FuelCell Energy Inc. Common Stock"
          ],
          [
           "Finance",
           "First Citizens BancShares Inc. Class A Common Stock"
          ],
          [
           "Telecommunications",
           "F5 Inc. Common Stock"
          ],
          [
           "Energy",
           "FTAI Infrastructure Inc. Common Stock "
          ],
          [
           "Finance",
           "Fifth Third Bancorp Common Stock"
          ],
          [
           "Finance",
           "Fifth Third Bancorp Depositary Shares"
          ],
          [
           "Finance",
           "Fifth Third Bancorp Depositary Shares each representing a 1/1000th ownership interest in a share of Non-Cumulative Perpetual Preferred Stock Series K"
          ],
          [
           "Finance",
           "Fifth Third Bancorp Depositary Shares each representing 1/40th share of Fifth Third 6.00% Non-Cumulative Perpetual Class B Preferred Stock Series A"
          ],
          [
           "Consumer Staples",
           "National Beverage Corp. Common Stock"
          ],
          [
           "Utilities",
           "Franklin Wireless Corp. Common Stock"
          ],
          [
           "Miscellaneous",
           "Fluence Energy Inc. Class A Common Stock"
          ],
          [
           "Miscellaneous",
           "Flux Power Holdings Inc. Common Stock"
          ],
          [
           "Industrials",
           "Fox Corporation Class B Common Stock"
          ],
          [
           "Industrials",
           "Fox Corporation Class A Common Stock"
          ],
          [
           "Telecommunications",
           "Foxx Development Holdings Inc. Common Stock"
          ],
          [
           "Consumer Staples",
           "Freshpet Inc. Common Stock"
          ],
          [
           "Industrials",
           "FTAI Aviation Ltd. Common Stock"
          ],
          [
           "Technology",
           "Fortinet Inc. Common Stock"
          ],
          [
           "Industrials",
           "Liberty Media Corporation Series A Liberty Formula One Common Stock"
          ],
          [
           "Industrials",
           "Liberty Media Corporation Series C Liberty Formula One Common Stock"
          ],
          [
           "Telecommunications",
           "Frontier Communications Parent Inc. Common Stock"
          ],
          [
           "Health Care",
           "GE HealthCare Technologies Inc. Common Stock "
          ],
          [
           "Technology",
           "GlobalFoundries Inc. Ordinary Shares"
          ],
          [
           "Health Care",
           "Guardant Health Inc. Common Stock"
          ],
          [
           "Health Care",
           "Gilead Sciences Inc. Common Stock"
          ],
          [
           "Real Estate",
           "Gaming and Leisure Properties Inc. Common Stock"
          ],
          [
           "Consumer Staples",
           "Genasys Inc. Common Stock"
          ],
          [
           "Consumer Staples",
           "Grocery Outlet Holding Corp. Common Stock"
          ],
          [
           "Real Estate",
           "Gladstone Commercial Corporation Real Estate Investment Trust"
          ],
          [
           "Real Estate",
           "Gladstone Commercial Corporation 6.625% Series E Cumulative Redeemable Preferred Stock"
          ],
          [
           "Real Estate",
           "Gladstone Commercial Corporation 6.00% Series G Cumulative Redeemable Preferred Stock par value $0.001 per share"
          ],
          [
           "Technology",
           "Alphabet Inc. Class C Capital Stock"
          ],
          [
           "Technology",
           "Alphabet Inc. Class A Common Stock"
          ],
          [
           "Consumer Discretionary",
           "Globalstar Inc. Common Stock"
          ],
          [
           "Utilities",
           "Global Water Resources Inc. Common Stock"
          ],
          [
           "Consumer Staples",
           "Hain Celestial Group Inc. (The) Common Stock"
          ],
          [
           "Health Care",
           "Halozyme Therapeutics Inc. Common Stock"
          ],
          [
           "Consumer Discretionary",
           "Hasbro Inc. Common Stock"
          ],
          [
           "Finance",
           "Huntington Bancshares Incorporated Common Stock"
          ],
          [
           "Finance",
           "Huntington Bancshares Incorporated Depositary Shares Each Representing a 1/40th Interest in a Share of 6.875% Series J Non-Cumulative Perpetual Preferred Stock"
          ],
          [
           "Finance",
           "Huntington Bancshares Incorporated Depositary Shares each representing a 1/1000th interest in a share of Huntington Series I Preferred Stock"
          ],
          [
           "Finance",
           "Huntington Bancshares Incorporated Depositary Shares 4.500% Series H Non-Cumulative Perpetual Preferred Stock"
          ],
          [
           "Industrials",
           "H&E Equipment Services Inc. Common Stock"
          ],
          [
           "Finance",
           "Hamilton Lane Incorporated Class A Common Stock"
          ],
          [
           "Energy",
           "Hallador Energy Company Common Stock"
          ],
          [
           "Health Care",
           "Hologic Inc. Common Stock"
          ],
          [
           "Industrials",
           "Honeywell International Inc. Common Stock"
          ],
          [
           "Finance",
           "Robinhood Markets Inc. Class A Common Stock"
          ],
          [
           "Energy",
           "HighPeak Energy Inc. Common Stock"
          ],
          [
           "Energy",
           "HighPeak Energy Inc. Warrant"
          ],
          [
           "Consumer Discretionary",
           "HealthEquity Inc. Common Stock"
          ],
          [
           "Health Care",
           "Henry Schein Inc. Common Stock"
          ],
          [
           "Real Estate",
           "Host Hotels & Resorts Inc. Common Stock"
          ],
          [
           "Basic Materials",
           "Hycroft Mining Holding Corporation Class A Common Stock"
          ],
          [
           "Basic Materials",
           "Hycroft Mining Holding Corporation Warrants"
          ],
          [
           "Finance",
           "Interactive Brokers Group Inc. Class A Common Stock"
          ],
          [
           "Miscellaneous",
           "InterDigital Inc. Common Stock"
          ],
          [
           "Health Care",
           "IDEXX Laboratories Inc. Common Stock"
          ],
          [
           "Industrials",
           "IES Holdings Inc. Common Stock"
          ],
          [
           "Health Care",
           "Illumina Inc. Common Stock"
          ],
          [
           "Consumer Staples",
           "Ingles Markets Incorporated Class A Common Stock"
          ],
          [
           "Health Care",
           "Incyte Corp. Common Stock"
          ],
          [
           "Telecommunications",
           "Inseego Corp. Common Stock"
          ],
          [
           "Health Care",
           "Insmed Incorporated Common Stock"
          ],
          [
           "Technology",
           "Intel Corporation Common Stock"
          ],
          [
           "Technology",
           "Intuit Inc. Common Stock"
          ],
          [
           "Telecommunications",
           "Intrusion Inc. Common Stock"
          ],
          [
           "Basic Materials",
           "IperionX Limited American Depositary Share"
          ],
          [
           "Telecommunications",
           "Iridium Communications Inc Common Stock"
          ],
          [
           "Health Care",
           "Intuitive Surgical Inc. Common Stock"
          ],
          [
           "Industrials",
           "Itron Inc. Common Stock"
          ],
          [
           "Industrials",
           "J.B. Hunt Transport Services Inc. Common Stock"
          ],
          [
           "Consumer Staples",
           "John B. Sanfilippo & Son Inc. Common Stock"
          ],
          [
           "Consumer Staples",
           "J & J Snack Foods Corp. Common Stock"
          ],
          [
           "Consumer Staples",
           "Coffee Holding Co. Inc. Common Stock"
          ],
          [
           "Miscellaneous",
           "The Joint Corp. Common Stock"
          ],
          [
           "Consumer Staples",
           "Keurig Dr Pepper Inc. Common Stock"
          ],
          [
           "Energy",
           "Kolibri Global Energy Inc. Common stock"
          ],
          [
           "Consumer Staples",
           "The Kraft Heinz Company Common Stock"
          ],
          [
           "Technology",
           "KLA Corporation Common Stock"
          ],
          [
           "Energy",
           "KLX Energy Services Holdings Inc. Common Stock"
          ],
          [
           "Consumer Staples",
           "Koss Corporation Common Stock"
          ],
          [
           "Telecommunications",
           "Knightscope Inc. Class A Common Stock"
          ],
          [
           "Industrials",
           "Kratos Defense & Security Solutions Inc. Common Stock"
          ],
          [
           "Real Estate",
           "Lamar Advertising Company Class A Common Stock"
          ],
          [
           "Consumer Staples",
           "Lancaster Colony Corporation Common Stock"
          ],
          [
           "Real Estate",
           "Gladstone Land Corporation Common Stock"
          ],
          [
           "Real Estate",
           "Gladstone Land Corporation 5.00% Series D Cumulative Term Preferred Stock"
          ],
          [
           "Real Estate",
           "Gladstone Land Corporation 6.00% Series B Cumulative Redeemable Preferred Stock"
          ],
          [
           "Real Estate",
           "Gladstone Land Corporation 6.00% Series C Cumulative Redeemable Preferred Stock"
          ],
          [
           "Miscellaneous",
           "Laser Photonics Corporation Common Stock"
          ],
          [
           "Real Estate",
           "Laureate Education Inc. Common Stock"
          ],
          [
           "Telecommunications",
           "Liberty Broadband Corporation Class A Common Stock"
          ],
          [
           "Telecommunications",
           "Liberty Broadband Corporation Class C Common Stock"
          ],
          [
           "Telecommunications",
           "Liberty Broadband Corporation Series A Cumulative Redeemable Preferred Stock"
          ],
          [
           "Industrials",
           "Lincoln Electric Holdings Inc. Common Shares"
          ],
          [
           "Health Care",
           "Legend Biotech Corporation American Depositary Shares"
          ],
          [
           "Energy",
           "Littelfuse Inc. Common Stock"
          ],
          [
           "Telecommunications",
           "Liberty Latin America Ltd. Class A Common Stock"
          ],
          [
           "Telecommunications",
           "Liberty Latin America Ltd. Class C Common Stock"
          ],
          [
           "Industrials",
           "Linde plc Ordinary Shares"
          ],
          [
           "Real Estate",
           "Lincoln Educational Services Corporation Common Stock"
          ],
          [
           "Telecommunications",
           "Lumentum Holdings Inc. Common Stock"
          ],
          [
           "Consumer Discretionary",
           "LKQ Corporation Common Stock"
          ],
          [
           "Industrials",
           "Liberty Media Corporation Series A Liberty Live Common Stock"
          ],
          [
           "Industrials",
           "Liberty Media Corporation Series C Liberty Live Common Stock"
          ],
          [
           "Consumer Staples",
           "Limoneira Co Common Stock"
          ],
          [
           "Utilities",
           "Alliant Energy Corporation Common Stock"
          ],
          [
           "Health Care",
           "Lantheus Holdings Inc. Common Stock"
          ],
          [
           "Real Estate",
           "Grand Canyon Education Inc. Common Stock"
          ],
          [
           "Finance",
           "LPL Financial Holdings Inc. Common Stock"
          ],
          [
           "Technology",
           "Lam Research Corporation Common Stock"
          ],
          [
           "Industrials",
           "Landstar System Inc. Common Stock"
          ],
          [
           "Telecommunications",
           "Lantronix Inc. Common Stock"
          ],
          [
           "Consumer Staples",
           "Lifeway Foods Inc. Common Stock"
          ],
          [
           "Consumer Staples",
           "Mama's Creations Inc. Common Stock"
          ],
          [
           "Consumer Discretionary",
           "Marriott International Class A Common Stock"
          ],
          [
           "Energy",
           "Marine Petroleum Trust Units of Beneficial Interest"
          ],
          [
           "Health Care",
           "Masimo Corporation Common Stock"
          ],
          [
           "Telecommunications",
           "Matthews International Corporation Class A Common Stock"
          ],
          [
           "Technology",
           "Microchip Technology Incorporated Common Stock"
          ],
          [
           "Technology",
           "MongoDB Inc. Class A Common Stock"
          ],
          [
           "Health Care",
           "Madrigal Pharmaceuticals Inc. Common Stock"
          ],
          [
           "Consumer Staples",
           "Mondelez International Inc. Class A Common Stock"
          ],
          [
           "Health Care",
           "Medpace Holdings Inc. Common Stock"
          ],
          [
           "Technology",
           "Meta Platforms Inc. Class A Common Stock"
          ],
          [
           "Energy",
           "Ramaco Resources Inc. Class A Common Stock"
          ],
          [
           "Energy",
           "Ramaco Resources Inc. Class B Common Stock"
          ],
          [
           "Energy",
           "Ramaco Resources Inc. 9.00% Senior Notes due 2026"
          ],
          [
           "Energy",
           "MGE Energy Inc"
          ],
          [
           "Consumer Staples",
           "MGP Ingredients Inc."
          ],
          [
           "Industrials",
           "Middleby Corporation (The) Common Stock"
          ],
          [
           "Industrials",
           "MKS Instruments Inc. Common Stock"
          ],
          [
           "Finance",
           "MarketAxess Holdings Inc. Common Stock"
          ],
          [
           "Energy",
           "Martin Midstream Partners L.P. Limited Partnership"
          ],
          [
           "Health Care",
           "Merit Medical Systems Inc. Common Stock"
          ],
          [
           "Consumer Staples",
           "Monster Beverage Corporation"
          ],
          [
           "Utilities",
           "Montauk Renewables Inc. Common Stock"
          ],
          [
           "Finance",
           "Morningstar Inc. Common Stock"
          ],
          [
           "Technology",
           "Monolithic Power Systems Inc. Common Stock"
          ],
          [
           "Health Care",
           "Moderna Inc. Common Stock"
          ],
          [
           "Technology",
           "Marvell Technology Inc. Common Stock"
          ],
          [
           "Utilities",
           "Middlesex Water Company Common Stock"
          ],
          [
           "Technology",
           "Microsoft Corporation Common Stock"
          ],
          [
           "Technology",
           "MicroStrategy Incorporated Common Stock Class A"
          ],
          [
           "Technology",
           "Micron Technology Inc. Common Stock"
          ],
          [
           "Miscellaneous",
           "Microvast Holdings Inc. Common Stock"
          ],
          [
           "Basic Materials",
           "NioCorp Developments Ltd. Common Stock"
          ],
          [
           "Health Care",
           "Neurocrine Biosciences Inc. Common Stock"
          ],
          [
           "Energy",
           "NCS Multistage Holdings Inc. Common Stock"
          ],
          [
           "Finance",
           "Nasdaq Inc. Common Stock"
          ],
          [
           "Industrials",
           "Nordson Corporation Common Stock"
          ],
          [
           "Energy",
           "New Era Helium Inc Common Stock"
          ],
          [
           "Miscellaneous",
           "NeoVolta Inc. Common Stock"
          ],
          [
           "Utilities",
           "NextDecade Corporation Common Stock"
          ],
          [
           "Utilities",
           "New Fortress Energy Inc. Class A Common Stock"
          ],
          [
           "Consumer Discretionary",
           "Netflix Inc. Common Stock"
          ],
          [
           "Real Estate",
           "National Healthcare Properties Inc. 7.375% Series A Cumulative Redeemable Perpetual Preferred Stock"
          ],
          [
           "Real Estate",
           "National Healthcare Properties Inc. 7.125% Series B Cumulative Redeemable Perpetual Preferred Stock"
          ],
          [
           "Miscellaneous",
           "Novanta Inc. Common Stock"
          ],
          [
           "Telecommunications",
           "NAPCO Security Technologies Inc. Common Stock"
          ],
          [
           "Technology",
           "NetApp Inc. Common Stock"
          ],
          [
           "Utilities",
           "NETGEAR Inc. Common Stock"
          ],
          [
           "Health Care",
           "Natera Inc. Common Stock"
          ],
          [
           "Finance",
           "Northern Trust Corporation Common Stock"
          ],
          [
           "Health Care",
           "Nuvalent Inc. Class A Common Stock"
          ],
          [
           "Technology",
           "NVIDIA Corporation Common Stock"
          ],
          [
           "Utilities",
           "NorthWestern Energy Group Inc. Common Stock"
          ],
          [
           "Industrials",
           "Newell Brands Inc. Common Stock"
          ],
          [
           "Consumer Discretionary",
           "News Corporation Class B Common Stock"
          ],
          [
           "Consumer Discretionary",
           "News Corporation Class A Common Stock"
          ],
          [
           "Telecommunications",
           "NextPlat Corp Common Stock"
          ],
          [
           "Industrials",
           "Nexstar Media Group Inc. Common Stock"
          ],
          [
           "Industrials",
           "Nextracker Inc. Class A Common Stock"
          ],
          [
           "Real Estate",
           "New York Mortgage Trust Inc. Common Stock"
          ],
          [
           "Real Estate",
           "New York Mortgage Trust Inc. 6.875% Series F Fixed-to-Floating Rate Cumulative Redeemable Preferred Stock $0.01 par value per share"
          ],
          [
           "Real Estate",
           "New York Mortgage Trust Inc. 7.875% Series E Fixed-to-Floating Rate Cumulative Redeemable Preferred Stock"
          ],
          [
           "Real Estate",
           "New York Mortgage Trust Inc. 8.00% Series D Fixed-to-Floating Rate Cumulative Redeemable Preferred Stock"
          ],
          [
           "Real Estate",
           "New York Mortgage Trust Inc. 7.000% Series G Cumulative Redeemable Preferred Stock $0.01 par value per share"
          ],
          [
           "Industrials",
           "Old Dominion Freight Line Inc. Common Stock"
          ],
          [
           "Technology",
           "ON Semiconductor Corporation Common Stock"
          ],
          [
           "Finance",
           "Old National Bancorp Common Stock"
          ],
          [
           "Finance",
           "Old National Bancorp Depositary Shares Each Representing a 1/40th Interest in a Share of Series C Preferred Stock"
          ],
          [
           "Finance",
           "Old National Bancorp Depositary Shares Each Representing a 1/40th Interest in a Share of Series A Preferred Stock"
          ],
          [
           "Utilities",
           "OPAL Fuels Inc. Class A Common Stock"
          ],
          [
           "Health Care",
           "Option Care Health Inc. Common Stock"
          ],
          [
           "Consumer Discretionary",
           "O'Reilly Automotive Inc. Common Stock"
          ],
          [
           "Utilities",
           "Otter Tail Corporation Common Stock"
          ],
          [
           "Energy",
           "Plains All American Pipeline L.P. Common Units representing Limited Partner Interests"
          ],
          [
           "Energy",
           "Plains GP Holdings L.P. Class A Units representing Limited Partner Interests"
          ],
          [
           "Technology",
           "Palo Alto Networks Inc. Common Stock"
          ],
          [
           "Industrials",
           "Paramount Global Class B Common Stock"
          ],
          [
           "Industrials",
           "Paramount Global Class A Common Stock"
          ],
          [
           "Consumer Discretionary",
           "Paychex Inc. Common Stock"
          ],
          [
           "Consumer Discretionary",
           "PACCAR Inc. Common Stock"
          ],
          [
           "Real Estate",
           "PotlatchDeltic Corporation Common Stock"
          ],
          [
           "Health Care",
           "Vaxcyte Inc. Common Stock"
          ],
          [
           "Utilities",
           "Pure Cycle Corporation Common Stock"
          ],
          [
           "Real Estate",
           "Phillips Edison & Company Inc. Common Stock"
          ],
          [
           "Consumer Staples",
           "PepsiCo Inc. Common Stock"
          ],
          [
           "Consumer Staples",
           "PetMed Express Inc. Common Stock"
          ],
          [
           "Finance",
           "Principal Financial Group Inc Common Stock"
          ],
          [
           "Technology",
           "Palantir Technologies Inc. Class A Common Stock"
          ],
          [
           "Energy",
           "Plug Power Inc. Common Stock"
          ],
          [
           "Finance",
           "Pinnacle Financial Partners Inc. Common Stock"
          ],
          [
           "Energy",
           "PrimeEnergy Resources Corporation Common Stock"
          ],
          [
           "Health Care",
           "Insulet Corporation Common Stock"
          ],
          [
           "Miscellaneous",
           "Polar Power Inc. Common Stock"
          ],
          [
           "Consumer Discretionary",
           "Pool Corporation Common Stock"
          ],
          [
           "Energy",
           "Powell Industries Inc. Common Stock"
          ],
          [
           "Consumer Staples",
           "Pilgrim's Pride Corporation Common Stock"
          ],
          [
           "Real Estate",
           "Perdoceo Education Corporation Common Stock"
          ],
          [
           "Energy",
           "Patterson-UTI Energy Inc. Common Stock"
          ],
          [
           "Consumer Discretionary",
           "PayPal Holdings Inc. Common Stock"
          ],
          [
           "Technology",
           "QUALCOMM Incorporated Common Stock"
          ],
          [
           "Utilities",
           "Quest Resource Holding Corporation Common Stock"
          ],
          [
           "Real Estate",
           "Chicago Atlantic Real Estate Finance Inc. Common Stock"
          ],
          [
           "Miscellaneous",
           "Research Frontiers Incorporated Common Stock"
          ],
          [
           "Real Estate",
           "Regency Centers Corporation Common Stock"
          ],
          [
           "Real Estate",
           "Regency Centers Corporation 5.875% Series B Cumulative Redeemable Preferred Stock"
          ],
          [
           "Real Estate",
           "Regency Centers Corporation 6.25% Series A Cumulative Redeemable Preferred Stock"
          ],
          [
           "Health Care",
           "Regeneron Pharmaceuticals Inc. Common Stock"
          ],
          [
           "Telecommunications",
           "Rekor Systems Inc. Common Stock"
          ],
          [
           "Utilities",
           "RGC Resources Inc. Common Stock"
          ],
          [
           "Health Care",
           "Repligen Corporation Common Stock"
          ],
          [
           "Industrials",
           "Royal Gold Inc. Common Stock"
          ],
          [
           "Consumer Staples",
           "Algorhythm Holdings Inc. Common Stock"
          ],
          [
           "Consumer Discretionary",
           "Rivian Automotive Inc. Class A Common Stock"
          ],
          [
           "Industrials",
           "Rocket Lab USA Inc. Common Stock"
          ],
          [
           "Miscellaneous",
           "Royalty Management Holding Corporation Class A Common Stock"
          ],
          [
           "Industrials",
           "Construction Partners Inc. Class A Common Stock"
          ],
          [
           "Telecommunications",
           "Roku Inc. Class A Common Stock"
          ],
          [
           "Industrials",
           "Roper Technologies Inc. Common Stock"
          ],
          [
           "Consumer Discretionary",
           "Ross Stores Inc. Common Stock"
          ],
          [
           "Health Care",
           "Royalty Pharma plc Class A Ordinary Shares "
          ],
          [
           "Miscellaneous",
           "Sunrun Inc. Common Stock"
          ],
          [
           "Health Care",
           "Revolution Medicines Inc. Common Stock"
          ],
          [
           "Industrials",
           "Saia Inc. Common Stock"
          ],
          [
           "Real Estate",
           "SBA Communications Corporation Class A Common Stock"
          ],
          [
           "Real Estate",
           "Sabra Health Care REIT Inc. Common Stock"
          ],
          [
           "Consumer Discretionary",
           "Starbucks Corporation Common Stock"
          ],
          [
           "Finance",
           "SEI Investments Company Common Stock"
          ],
          [
           "Consumer Staples",
           "Seneca Foods Corp. Class A Common Stock"
          ],
          [
           "Consumer Staples",
           "Seneca Foods Corp. Class B Common Stock"
          ],
          [
           "Consumer Staples",
           "Sprouts Farmers Market Inc. Common Stock"
          ],
          [
           "Telecommunications",
           "Shenandoah Telecommunications Co Common Stock"
          ],
          [
           "Telecommunications",
           "Sidus Space Inc. Class A Common Stock"
          ],
          [
           "Consumer Discretionary",
           "SiriusXM Holdings Inc. Common Stock"
          ],
          [
           "Utilities",
           "SJW Group Common Stock"
          ],
          [
           "Miscellaneous",
           "Solid Power Inc. Class A Common Stock"
          ],
          [
           "Finance",
           "SLM Corporation Common Stock"
          ],
          [
           "Finance",
           "SLM Corporation Floating Rate Non-Cumulative Preferred Stock Series B"
          ],
          [
           "Utilities",
           "Stabilis Solutions Inc. Common Stock"
          ],
          [
           "Technology",
           "Super Micro Computer Inc. Common Stock"
          ],
          [
           "Health Care",
           "Summit Therapeutics Inc. Common Stock "
          ],
          [
           "Technology",
           "Synopsys Inc. Common Stock"
          ],
          [
           "Finance",
           "SoFi Technologies Inc. Common Stock  "
          ],
          [
           "Real Estate",
           "Sotherly Hotels Inc. 8.0% Series B Cumulative Redeemable Perpetual Preferred Stock"
          ],
          [
           "Real Estate",
           "Sotherly Hotels Inc. 8.25% Series D Cumulative Redeemable Perpetual Preferred Stock"
          ],
          [
           "Real Estate",
           "Sotherly Hotels Inc. 7.875% Series C Cumulative Redeemable Perpetual Preferred Stock"
          ],
          [
           "Utilities",
           "Sonim Technologies Inc. Common Stock"
          ],
          [
           "Consumer Staples",
           "Sonos Inc. Common Stock"
          ],
          [
           "Consumer Staples",
           "Sow Good Inc. Common Stock"
          ],
          [
           "Telecommunications",
           "Spok Holdings Inc. Common Stock"
          ],
          [
           "Health Care",
           "Sarepta Therapeutics Inc. Common Stock (DE)"
          ],
          [
           "Technology",
           "SS&C Technologies Holdings Inc. Common Stock"
          ],
          [
           "Finance",
           "StepStone Group Inc. Class A Common Stock"
          ],
          [
           "Miscellaneous",
           "Solidion Technology Inc. Common Stock"
          ],
          [
           "Industrials",
           "Steel Dynamics Inc."
          ],
          [
           "Real Estate",
           "Strategic Education Inc. Common Stock"
          ],
          [
           "Industrials",
           "Sterling Infrastructure Inc. Common Stock"
          ],
          [
           "Utilities",
           "SUNation Energy Inc. Common Stock"
          ],
          [
           "Real Estate",
           "Service Properties Trust Common Stock"
          ],
          [
           "Industrials",
           "Symbotic Inc. Class A Common Stock"
          ],
          [
           "Telecommunications",
           "Turtle Beach Corporation Common Stock"
          ],
          [
           "Health Care",
           "Bio-Techne Corp Common Stock"
          ],
          [
           "Industrials",
           "Teradyne Inc. Common Stock"
          ],
          [
           "Utilities",
           "Talen Energy Corporation Common Stock"
          ],
          [
           "Telecommunications",
           "T-Mobile US Inc. Common Stock"
          ],
          [
           "Finance",
           "TPG Inc. Class A Common Stock"
          ],
          [
           "Industrials",
           "Trimble Inc. Common Stock"
          ],
          [
           "Finance",
           "T. Rowe Price Group Inc. Common Stock"
          ],
          [
           "Consumer Discretionary",
           "Tractor Supply Company Common Stock"
          ],
          [
           "Consumer Discretionary",
           "Tesla Inc. Common Stock"
          ],
          [
           "Technology",
           "The Trade Desk Inc. Class A Common Stock"
          ],
          [
           "Consumer Discretionary",
           "Tetra Tech Inc. Common Stock"
          ],
          [
           "Telecommunications",
           "TechTarget Inc. Common Stock"
          ],
          [
           "Technology",
           "Take-Two Interactive Software Inc. Common Stock"
          ],
          [
           "Energy",
           "Mammoth Energy Services Inc. Common Stock"
          ],
          [
           "Finance",
           "Tradeweb Markets Inc. Class A Common Stock"
          ],
          [
           "Technology",
           "Texas Instruments Incorporated Common Stock"
          ],
          [
           "Consumer Discretionary",
           "Texas Roadhouse Inc. Common Stock"
          ],
          [
           "Consumer Discretionary",
           "United Airlines Holdings Inc. Common Stock"
          ],
          [
           "Real Estate",
           "Udemy Inc. Common Stock"
          ],
          [
           "Consumer Staples",
           "Universal Electronics Inc. Common Stock"
          ],
          [
           "Basic Materials",
           "UFP Industries Inc. Common Stock"
          ],
          [
           "Miscellaneous",
           "Ultralife Corporation Common Stock"
          ],
          [
           "Consumer Discretionary",
           "Ulta Beauty Inc. Common Stock"
          ],
          [
           "Real Estate",
           "Uniti Group Inc. Common Stock"
          ],
          [
           "Finance",
           "Upstart Holdings Inc. Common stock"
          ],
          [
           "Basic Materials",
           "U.S. Gold Corp. Common Stock"
          ],
          [
           "Energy",
           "U.S. Energy Corp. Common Stock (DE)"
          ],
          [
           "Basic Materials",
           "U.S. GoldMining Inc. Common stock"
          ],
          [
           "Health Care",
           "United Therapeutics Corporation Common Stock"
          ],
          [
           "Utilities",
           "Via Renewables Inc. 8.75% Series A Fixed-to-Floating Rate Cumulative Redeemable Perpetual Preferred Stock"
          ],
          [
           "Consumer Staples",
           "Vital Farms Inc. Common Stock"
          ],
          [
           "Utilities",
           "Vivakor Inc. Common Stock"
          ],
          [
           "Consumer Staples",
           "Village Super Market Inc. Class A Common Stock"
          ],
          [
           "Finance",
           "Valley National Bancorp 5.50% Fixed-to-Floating Rate Non-Cumulative Perpetual Preferred Stock Series B"
          ],
          [
           "Finance",
           "Valley National Bancorp 6.25% Fixed-to-Floating Rate Non-Cumulative Perpetual Preferred Stock Series A"
          ],
          [
           "Energy",
           "Viper Energy Inc. Class A Common Stock"
          ],
          [
           "Technology",
           "Verisk Analytics Inc. Common Stock"
          ],
          [
           "Technology",
           "VeriSign Inc. Common Stock"
          ],
          [
           "Health Care",
           "Vertex Pharmaceuticals Incorporated Common Stock"
          ],
          [
           "Health Care",
           "Viatris Inc. Common Stock"
          ],
          [
           "Consumer Staples",
           "Walgreens Boots Alliance Inc. Common Stock"
          ],
          [
           "Telecommunications",
           "Warner Bros. Discovery Inc. Series A Common Stock "
          ],
          [
           "Technology",
           "Workday Inc. Class A Common Stock"
          ],
          [
           "Technology",
           "Western Digital Corporation Common Stock"
          ],
          [
           "Industrials",
           "WD-40 Company Common Stock"
          ],
          [
           "Consumer Staples",
           "Westrock Coffee Company Common Stock"
          ],
          [
           "Consumer Staples",
           "Weyco Group Inc. Common Stock"
          ],
          [
           "Industrials",
           "Weatherford International plc Ordinary Shares"
          ],
          [
           "Consumer Discretionary",
           "Wingstop Inc. Common Stock"
          ],
          [
           "Consumer Discretionary",
           "Warner Music Group Corp. Class A Common Stock"
          ],
          [
           "Industrials",
           "WillScot Holdings Corporation Class A Common Stock"
          ],
          [
           "Finance",
           "Wintrust Financial Corporation Common Stock"
          ],
          [
           "Consumer Staples",
           "Willamette Valley Vineyards Inc. Common Stock"
          ],
          [
           "Energy",
           "Woodward Inc. Common Stock"
          ],
          [
           "Consumer Discretionary",
           "Wynn Resorts Limited Common stock"
          ],
          [
           "Utilities",
           "Xcel Energy Inc. Common Stock"
          ],
          [
           "Miscellaneous",
           "Xcel Brands Inc. Common Stock"
          ],
          [
           "Miscellaneous",
           "Expion360 Inc. Common Stock"
          ],
          [
           "Utilities",
           "York Water Company (The) Common Stock"
          ],
          [
           "Consumer Discretionary",
           "Zillow Group Inc. Class C Capital Stock"
          ],
          [
           "Industrials",
           "Zebra Technologies Corporation Class A Common Stock"
          ],
          [
           "Telecommunications",
           "Ziff Davis Inc. Common Stock"
          ],
          [
           "Miscellaneous",
           "Zeo Energy Corporation Class A Common Stock"
          ],
          [
           "Consumer Discretionary",
           "Zillow Group Inc. Class A Common Stock"
          ],
          [
           "Finance",
           "Zions Bancorporation N.A. Common Stock"
          ],
          [
           "Technology",
           "Zoom Communications Inc. Class A Common Stock"
          ],
          [
           "Technology",
           "Zscaler Inc. Common Stock"
          ]
         ],
         "hovertemplate": "<b>%{hovertext}</b><br><br>PCA Component 1=%{x}<br>PCA Component 2=%{y}<br>Sector=%{customdata[0]}<br>Name=%{customdata[1]}<br>clusters=%{marker.color}<extra></extra>",
         "hovertext": [
          "AAL",
          "AAON",
          "AAPL",
          "ABAT",
          "ABNB",
          "ACDC",
          "ACTG",
          "ADBE",
          "ADI",
          "ADN",
          "ADP",
          "ADSK",
          "ADTN",
          "AEP",
          "AFRM",
          "AGFY",
          "AGNC",
          "AGNCL",
          "AGNCM",
          "AGNCN",
          "AGNCO",
          "AGNCP",
          "AIOT",
          "AKAM",
          "ALCE",
          "ALGN",
          "ALNY",
          "AMAT",
          "AMCX",
          "AMD",
          "AMGN",
          "AMOD",
          "AMPG",
          "AMPGW",
          "AMWD",
          "AMZN",
          "ANNA",
          "ANSS",
          "APA",
          "APEI",
          "APP",
          "APPS",
          "ARCC",
          "AREC",
          "ARKO",
          "ARLP",
          "ARTNA",
          "ASNS",
          "ASTS",
          "ATEX",
          "ATNI",
          "AVAV",
          "AVGO",
          "AVO",
          "AXON",
          "AXSM",
          "BBIO",
          "BCPC",
          "BIIB",
          "BKNG",
          "BKR",
          "BMRN",
          "BOKF",
          "BPMC",
          "BPOP",
          "BRFH",
          "BRID",
          "BRKR",
          "BRY",
          "BWEN",
          "BYND",
          "BYRN",
          "CACC",
          "CALM",
          "CART",
          "CASY",
          "CBSH",
          "CDNS",
          "CDW",
          "CDZI",
          "CDZIP",
          "CEG",
          "CELH",
          "CG",
          "CGABL",
          "CGNX",
          "CHDN",
          "CHRD",
          "CHRW",
          "CHTR",
          "CHX",
          "CINF",
          "CLFD",
          "CLMT",
          "CLNE",
          "CLRO",
          "CMCSA",
          "CME",
          "COCO",
          "COIN",
          "COKE",
          "COO",
          "COOP",
          "CORT",
          "COST",
          "CPB",
          "CPRT",
          "CRWD",
          "CSCO",
          "CSGP",
          "CSWI",
          "CSX",
          "CTAS",
          "CTLP",
          "CTSH",
          "CWST",
          "CXDO",
          "DASH",
          "DATS",
          "DATSW",
          "DDOG",
          "DFLI",
          "DGII",
          "DHC",
          "DHCNI",
          "DKNG",
          "DLTR",
          "DMLP",
          "DNUT",
          "DPZ",
          "DWSN",
          "DXCM",
          "EA",
          "EBAY",
          "ENSG",
          "ENTG",
          "ENVX",
          "EOSE",
          "EOSEW",
          "EPSN",
          "EQIX",
          "ERIE",
          "EU",
          "EVRG",
          "EWBC",
          "EXAS",
          "EXC",
          "EXE",
          "EXEEL",
          "EXEEW",
          "EXEEZ",
          "EXEL",
          "EXPE",
          "EXTR",
          "FANG",
          "FARM",
          "FAST",
          "FCEL",
          "FCNCA",
          "FFIV",
          "FIP",
          "FITB",
          "FITBI",
          "FITBO",
          "FITBP",
          "FIZZ",
          "FKWL",
          "FLNC",
          "FLUX",
          "FOX",
          "FOXA",
          "FOXX",
          "FRPT",
          "FTAI",
          "FTNT",
          "FWONA",
          "FWONK",
          "FYBR",
          "GEHC",
          "GFS",
          "GH",
          "GILD",
          "GLPI",
          "GNSS",
          "GO",
          "GOOD",
          "GOODN",
          "GOODO",
          "GOOG",
          "GOOGL",
          "GSAT",
          "GWRS",
          "HAIN",
          "HALO",
          "HAS",
          "HBAN",
          "HBANL",
          "HBANM",
          "HBANP",
          "HEES",
          "HLNE",
          "HNRG",
          "HOLX",
          "HON",
          "HOOD",
          "HPK",
          "HPKEW",
          "HQY",
          "HSIC",
          "HST",
          "HYMC",
          "HYMCL",
          "IBKR",
          "IDCC",
          "IDXX",
          "IESC",
          "ILMN",
          "IMKTA",
          "INCY",
          "INSG",
          "INSM",
          "INTC",
          "INTU",
          "INTZ",
          "IPX",
          "IRDM",
          "ISRG",
          "ITRI",
          "JBHT",
          "JBSS",
          "JJSF",
          "JVA",
          "JYNT",
          "KDP",
          "KGEI",
          "KHC",
          "KLAC",
          "KLXE",
          "KOSS",
          "KSCP",
          "KTOS",
          "LAMR",
          "LANC",
          "LAND",
          "LANDM",
          "LANDO",
          "LANDP",
          "LASE",
          "LAUR",
          "LBRDA",
          "LBRDK",
          "LBRDP",
          "LECO",
          "LEGN",
          "LFUS",
          "LILA",
          "LILAK",
          "LIN",
          "LINC",
          "LITE",
          "LKQ",
          "LLYVA",
          "LLYVK",
          "LMNR",
          "LNT",
          "LNTH",
          "LOPE",
          "LPLA",
          "LRCX",
          "LSTR",
          "LTRX",
          "LWAY",
          "MAMA",
          "MAR",
          "MARPS",
          "MASI",
          "MATW",
          "MCHP",
          "MDB",
          "MDGL",
          "MDLZ",
          "MEDP",
          "META",
          "METC",
          "METCB",
          "METCL",
          "MGEE",
          "MGPI",
          "MIDD",
          "MKSI",
          "MKTX",
          "MMLP",
          "MMSI",
          "MNST",
          "MNTK",
          "MORN",
          "MPWR",
          "MRNA",
          "MRVL",
          "MSEX",
          "MSFT",
          "MSTR",
          "MU",
          "MVST",
          "NB",
          "NBIX",
          "NCSM",
          "NDAQ",
          "NDSN",
          "NEHC",
          "NEOV",
          "NEXT",
          "NFE",
          "NFLX",
          "NHPAP",
          "NHPBP",
          "NOVT",
          "NSSC",
          "NTAP",
          "NTGR",
          "NTRA",
          "NTRS",
          "NUVL",
          "NVDA",
          "NWE",
          "NWL",
          "NWS",
          "NWSA",
          "NXPL",
          "NXST",
          "NXT",
          "NYMT",
          "NYMTL",
          "NYMTM",
          "NYMTN",
          "NYMTZ",
          "ODFL",
          "ON",
          "ONB",
          "ONBPO",
          "ONBPP",
          "OPAL",
          "OPCH",
          "ORLY",
          "OTTR",
          "PAA",
          "PAGP",
          "PANW",
          "PARA",
          "PARAA",
          "PAYX",
          "PCAR",
          "PCH",
          "PCVX",
          "PCYO",
          "PECO",
          "PEP",
          "PETS",
          "PFG",
          "PLTR",
          "PLUG",
          "PNFP",
          "PNRG",
          "PODD",
          "POLA",
          "POOL",
          "POWL",
          "PPC",
          "PRDO",
          "PTEN",
          "PYPL",
          "QCOM",
          "QRHC",
          "REFI",
          "REFR",
          "REG",
          "REGCO",
          "REGCP",
          "REGN",
          "REKR",
          "RGCO",
          "RGEN",
          "RGLD",
          "RIME",
          "RIVN",
          "RKLB",
          "RMCO",
          "ROAD",
          "ROKU",
          "ROP",
          "ROST",
          "RPRX",
          "RUN",
          "RVMD",
          "SAIA",
          "SBAC",
          "SBRA",
          "SBUX",
          "SEIC",
          "SENEA",
          "SENEB",
          "SFM",
          "SHEN",
          "SIDU",
          "SIRI",
          "SJW",
          "SLDP",
          "SLM",
          "SLMBP",
          "SLNG",
          "SMCI",
          "SMMT",
          "SNPS",
          "SOFI",
          "SOHOB",
          "SOHON",
          "SOHOO",
          "SONM",
          "SONO",
          "SOWG",
          "SPOK",
          "SRPT",
          "SSNC",
          "STEP",
          "STI",
          "STLD",
          "STRA",
          "STRL",
          "SUNE",
          "SVC",
          "SYM",
          "TBCH",
          "TECH",
          "TER",
          "TLN",
          "TMUS",
          "TPG",
          "TRMB",
          "TROW",
          "TSCO",
          "TSLA",
          "TTD",
          "TTEK",
          "TTGT",
          "TTWO",
          "TUSK",
          "TW",
          "TXN",
          "TXRH",
          "UAL",
          "UDMY",
          "UEIC",
          "UFPI",
          "ULBI",
          "ULTA",
          "UNIT",
          "UPST",
          "USAU",
          "USEG",
          "USGO",
          "UTHR",
          "VIASP",
          "VITL",
          "VIVK",
          "VLGEA",
          "VLYPO",
          "VLYPP",
          "VNOM",
          "VRSK",
          "VRSN",
          "VRTX",
          "VTRS",
          "WBA",
          "WBD",
          "WDAY",
          "WDC",
          "WDFC",
          "WEST",
          "WEYS",
          "WFRD",
          "WING",
          "WMG",
          "WSC",
          "WTFC",
          "WVVI",
          "WWD",
          "WYNN",
          "XEL",
          "XELB",
          "XPON",
          "YORW",
          "Z",
          "ZBRA",
          "ZD",
          "ZEO",
          "ZG",
          "ZION",
          "ZM",
          "ZS"
         ],
         "legendgroup": "",
         "marker": {
          "color": {
           "bdata": "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",
           "dtype": "i4"
          },
          "coloraxis": "coloraxis",
          "symbol": "circle"
         },
         "mode": "markers",
         "name": "",
         "orientation": "v",
         "showlegend": false,
         "type": "scatter",
         "x": {
          "bdata": "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",
          "dtype": "f4"
         },
         "xaxis": "x",
         "y": {
          "bdata": "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",
          "dtype": "f4"
         },
         "yaxis": "y"
        }
       ],
       "layout": {
        "coloraxis": {
         "colorbar": {
          "title": {
           "text": "clusters"
          }
         },
         "colorscale": [
          [
           0,
           "#0d0887"
          ],
          [
           0.1111111111111111,
           "#46039f"
          ],
          [
           0.2222222222222222,
           "#7201a8"
          ],
          [
           0.3333333333333333,
           "#9c179e"
          ],
          [
           0.4444444444444444,
           "#bd3786"
          ],
          [
           0.5555555555555556,
           "#d8576b"
          ],
          [
           0.6666666666666666,
           "#ed7953"
          ],
          [
           0.7777777777777778,
           "#fb9f3a"
          ],
          [
           0.8888888888888888,
           "#fdca26"
          ],
          [
           1,
           "#f0f921"
          ]
         ]
        },
        "legend": {
         "tracegroupgap": 0
        },
        "template": {
         "data": {
          "bar": [
           {
            "error_x": {
             "color": "#2a3f5f"
            },
            "error_y": {
             "color": "#2a3f5f"
            },
            "marker": {
             "line": {
              "color": "#E5ECF6",
              "width": 0.5
             },
             "pattern": {
              "fillmode": "overlay",
              "size": 10,
              "solidity": 0.2
             }
            },
            "type": "bar"
           }
          ],
          "barpolar": [
           {
            "marker": {
             "line": {
              "color": "#E5ECF6",
              "width": 0.5
             },
             "pattern": {
              "fillmode": "overlay",
              "size": 10,
              "solidity": 0.2
             }
            },
            "type": "barpolar"
           }
          ],
          "carpet": [
           {
            "aaxis": {
             "endlinecolor": "#2a3f5f",
             "gridcolor": "white",
             "linecolor": "white",
             "minorgridcolor": "white",
             "startlinecolor": "#2a3f5f"
            },
            "baxis": {
             "endlinecolor": "#2a3f5f",
             "gridcolor": "white",
             "linecolor": "white",
             "minorgridcolor": "white",
             "startlinecolor": "#2a3f5f"
            },
            "type": "carpet"
           }
          ],
          "choropleth": [
           {
            "colorbar": {
             "outlinewidth": 0,
             "ticks": ""
            },
            "type": "choropleth"
           }
          ],
          "contour": [
           {
            "colorbar": {
             "outlinewidth": 0,
             "ticks": ""
            },
            "colorscale": [
             [
              0,
              "#0d0887"
             ],
             [
              0.1111111111111111,
              "#46039f"
             ],
             [
              0.2222222222222222,
              "#7201a8"
             ],
             [
              0.3333333333333333,
              "#9c179e"
             ],
             [
              0.4444444444444444,
              "#bd3786"
             ],
             [
              0.5555555555555556,
              "#d8576b"
             ],
             [
              0.6666666666666666,
              "#ed7953"
             ],
             [
              0.7777777777777778,
              "#fb9f3a"
             ],
             [
              0.8888888888888888,
              "#fdca26"
             ],
             [
              1,
              "#f0f921"
             ]
            ],
            "type": "contour"
           }
          ],
          "contourcarpet": [
           {
            "colorbar": {
             "outlinewidth": 0,
             "ticks": ""
            },
            "type": "contourcarpet"
           }
          ],
          "heatmap": [
           {
            "colorbar": {
             "outlinewidth": 0,
             "ticks": ""
            },
            "colorscale": [
             [
              0,
              "#0d0887"
             ],
             [
              0.1111111111111111,
              "#46039f"
             ],
             [
              0.2222222222222222,
              "#7201a8"
             ],
             [
              0.3333333333333333,
              "#9c179e"
             ],
             [
              0.4444444444444444,
              "#bd3786"
             ],
             [
              0.5555555555555556,
              "#d8576b"
             ],
             [
              0.6666666666666666,
              "#ed7953"
             ],
             [
              0.7777777777777778,
              "#fb9f3a"
             ],
             [
              0.8888888888888888,
              "#fdca26"
             ],
             [
              1,
              "#f0f921"
             ]
            ],
            "type": "heatmap"
           }
          ],
          "histogram": [
           {
            "marker": {
             "pattern": {
              "fillmode": "overlay",
              "size": 10,
              "solidity": 0.2
             }
            },
            "type": "histogram"
           }
          ],
          "histogram2d": [
           {
            "colorbar": {
             "outlinewidth": 0,
             "ticks": ""
            },
            "colorscale": [
             [
              0,
              "#0d0887"
             ],
             [
              0.1111111111111111,
              "#46039f"
             ],
             [
              0.2222222222222222,
              "#7201a8"
             ],
             [
              0.3333333333333333,
              "#9c179e"
             ],
             [
              0.4444444444444444,
              "#bd3786"
             ],
             [
              0.5555555555555556,
              "#d8576b"
             ],
             [
              0.6666666666666666,
              "#ed7953"
             ],
             [
              0.7777777777777778,
              "#fb9f3a"
             ],
             [
              0.8888888888888888,
              "#fdca26"
             ],
             [
              1,
              "#f0f921"
             ]
            ],
            "type": "histogram2d"
           }
          ],
          "histogram2dcontour": [
           {
            "colorbar": {
             "outlinewidth": 0,
             "ticks": ""
            },
            "colorscale": [
             [
              0,
              "#0d0887"
             ],
             [
              0.1111111111111111,
              "#46039f"
             ],
             [
              0.2222222222222222,
              "#7201a8"
             ],
             [
              0.3333333333333333,
              "#9c179e"
             ],
             [
              0.4444444444444444,
              "#bd3786"
             ],
             [
              0.5555555555555556,
              "#d8576b"
             ],
             [
              0.6666666666666666,
              "#ed7953"
             ],
             [
              0.7777777777777778,
              "#fb9f3a"
             ],
             [
              0.8888888888888888,
              "#fdca26"
             ],
             [
              1,
              "#f0f921"
             ]
            ],
            "type": "histogram2dcontour"
           }
          ],
          "mesh3d": [
           {
            "colorbar": {
             "outlinewidth": 0,
             "ticks": ""
            },
            "type": "mesh3d"
           }
          ],
          "parcoords": [
           {
            "line": {
             "colorbar": {
              "outlinewidth": 0,
              "ticks": ""
             }
            },
            "type": "parcoords"
           }
          ],
          "pie": [
           {
            "automargin": true,
            "type": "pie"
           }
          ],
          "scatter": [
           {
            "fillpattern": {
             "fillmode": "overlay",
             "size": 10,
             "solidity": 0.2
            },
            "type": "scatter"
           }
          ],
          "scatter3d": [
           {
            "line": {
             "colorbar": {
              "outlinewidth": 0,
              "ticks": ""
             }
            },
            "marker": {
             "colorbar": {
              "outlinewidth": 0,
              "ticks": ""
             }
            },
            "type": "scatter3d"
           }
          ],
          "scattercarpet": [
           {
            "marker": {
             "colorbar": {
              "outlinewidth": 0,
              "ticks": ""
             }
            },
            "type": "scattercarpet"
           }
          ],
          "scattergeo": [
           {
            "marker": {
             "colorbar": {
              "outlinewidth": 0,
              "ticks": ""
             }
            },
            "type": "scattergeo"
           }
          ],
          "scattergl": [
           {
            "marker": {
             "colorbar": {
              "outlinewidth": 0,
              "ticks": ""
             }
            },
            "type": "scattergl"
           }
          ],
          "scattermap": [
           {
            "marker": {
             "colorbar": {
              "outlinewidth": 0,
              "ticks": ""
             }
            },
            "type": "scattermap"
           }
          ],
          "scattermapbox": [
           {
            "marker": {
             "colorbar": {
              "outlinewidth": 0,
              "ticks": ""
             }
            },
            "type": "scattermapbox"
           }
          ],
          "scatterpolar": [
           {
            "marker": {
             "colorbar": {
              "outlinewidth": 0,
              "ticks": ""
             }
            },
            "type": "scatterpolar"
           }
          ],
          "scatterpolargl": [
           {
            "marker": {
             "colorbar": {
              "outlinewidth": 0,
              "ticks": ""
             }
            },
            "type": "scatterpolargl"
           }
          ],
          "scatterternary": [
           {
            "marker": {
             "colorbar": {
              "outlinewidth": 0,
              "ticks": ""
             }
            },
            "type": "scatterternary"
           }
          ],
          "surface": [
           {
            "colorbar": {
             "outlinewidth": 0,
             "ticks": ""
            },
            "colorscale": [
             [
              0,
              "#0d0887"
             ],
             [
              0.1111111111111111,
              "#46039f"
             ],
             [
              0.2222222222222222,
              "#7201a8"
             ],
             [
              0.3333333333333333,
              "#9c179e"
             ],
             [
              0.4444444444444444,
              "#bd3786"
             ],
             [
              0.5555555555555556,
              "#d8576b"
             ],
             [
              0.6666666666666666,
              "#ed7953"
             ],
             [
              0.7777777777777778,
              "#fb9f3a"
             ],
             [
              0.8888888888888888,
              "#fdca26"
             ],
             [
              1,
              "#f0f921"
             ]
            ],
            "type": "surface"
           }
          ],
          "table": [
           {
            "cells": {
             "fill": {
              "color": "#EBF0F8"
             },
             "line": {
              "color": "white"
             }
            },
            "header": {
             "fill": {
              "color": "#C8D4E3"
             },
             "line": {
              "color": "white"
             }
            },
            "type": "table"
           }
          ]
         },
         "layout": {
          "annotationdefaults": {
           "arrowcolor": "#2a3f5f",
           "arrowhead": 0,
           "arrowwidth": 1
          },
          "autotypenumbers": "strict",
          "coloraxis": {
           "colorbar": {
            "outlinewidth": 0,
            "ticks": ""
           }
          },
          "colorscale": {
           "diverging": [
            [
             0,
             "#8e0152"
            ],
            [
             0.1,
             "#c51b7d"
            ],
            [
             0.2,
             "#de77ae"
            ],
            [
             0.3,
             "#f1b6da"
            ],
            [
             0.4,
             "#fde0ef"
            ],
            [
             0.5,
             "#f7f7f7"
            ],
            [
             0.6,
             "#e6f5d0"
            ],
            [
             0.7,
             "#b8e186"
            ],
            [
             0.8,
             "#7fbc41"
            ],
            [
             0.9,
             "#4d9221"
            ],
            [
             1,
             "#276419"
            ]
           ],
           "sequential": [
            [
             0,
             "#0d0887"
            ],
            [
             0.1111111111111111,
             "#46039f"
            ],
            [
             0.2222222222222222,
             "#7201a8"
            ],
            [
             0.3333333333333333,
             "#9c179e"
            ],
            [
             0.4444444444444444,
             "#bd3786"
            ],
            [
             0.5555555555555556,
             "#d8576b"
            ],
            [
             0.6666666666666666,
             "#ed7953"
            ],
            [
             0.7777777777777778,
             "#fb9f3a"
            ],
            [
             0.8888888888888888,
             "#fdca26"
            ],
            [
             1,
             "#f0f921"
            ]
           ],
           "sequentialminus": [
            [
             0,
             "#0d0887"
            ],
            [
             0.1111111111111111,
             "#46039f"
            ],
            [
             0.2222222222222222,
             "#7201a8"
            ],
            [
             0.3333333333333333,
             "#9c179e"
            ],
            [
             0.4444444444444444,
             "#bd3786"
            ],
            [
             0.5555555555555556,
             "#d8576b"
            ],
            [
             0.6666666666666666,
             "#ed7953"
            ],
            [
             0.7777777777777778,
             "#fb9f3a"
            ],
            [
             0.8888888888888888,
             "#fdca26"
            ],
            [
             1,
             "#f0f921"
            ]
           ]
          },
          "colorway": [
           "#636efa",
           "#EF553B",
           "#00cc96",
           "#ab63fa",
           "#FFA15A",
           "#19d3f3",
           "#FF6692",
           "#B6E880",
           "#FF97FF",
           "#FECB52"
          ],
          "font": {
           "color": "#2a3f5f"
          },
          "geo": {
           "bgcolor": "white",
           "lakecolor": "white",
           "landcolor": "#E5ECF6",
           "showlakes": true,
           "showland": true,
           "subunitcolor": "white"
          },
          "hoverlabel": {
           "align": "left"
          },
          "hovermode": "closest",
          "mapbox": {
           "style": "light"
          },
          "paper_bgcolor": "white",
          "plot_bgcolor": "#E5ECF6",
          "polar": {
           "angularaxis": {
            "gridcolor": "white",
            "linecolor": "white",
            "ticks": ""
           },
           "bgcolor": "#E5ECF6",
           "radialaxis": {
            "gridcolor": "white",
            "linecolor": "white",
            "ticks": ""
           }
          },
          "scene": {
           "xaxis": {
            "backgroundcolor": "#E5ECF6",
            "gridcolor": "white",
            "gridwidth": 2,
            "linecolor": "white",
            "showbackground": true,
            "ticks": "",
            "zerolinecolor": "white"
           },
           "yaxis": {
            "backgroundcolor": "#E5ECF6",
            "gridcolor": "white",
            "gridwidth": 2,
            "linecolor": "white",
            "showbackground": true,
            "ticks": "",
            "zerolinecolor": "white"
           },
           "zaxis": {
            "backgroundcolor": "#E5ECF6",
            "gridcolor": "white",
            "gridwidth": 2,
            "linecolor": "white",
            "showbackground": true,
            "ticks": "",
            "zerolinecolor": "white"
           }
          },
          "shapedefaults": {
           "line": {
            "color": "#2a3f5f"
           }
          },
          "ternary": {
           "aaxis": {
            "gridcolor": "white",
            "linecolor": "white",
            "ticks": ""
           },
           "baxis": {
            "gridcolor": "white",
            "linecolor": "white",
            "ticks": ""
           },
           "bgcolor": "#E5ECF6",
           "caxis": {
            "gridcolor": "white",
            "linecolor": "white",
            "ticks": ""
           }
          },
          "title": {
           "x": 0.05
          },
          "xaxis": {
           "automargin": true,
           "gridcolor": "white",
           "linecolor": "white",
           "ticks": "",
           "title": {
            "standoff": 15
           },
           "zerolinecolor": "white",
           "zerolinewidth": 2
          },
          "yaxis": {
           "automargin": true,
           "gridcolor": "white",
           "linecolor": "white",
           "ticks": "",
           "title": {
            "standoff": 15
           },
           "zerolinecolor": "white",
           "zerolinewidth": 2
          }
         }
        },
        "title": {
         "text": "Interactive t-SNE Clustering of Stocks"
        },
        "xaxis": {
         "anchor": "y",
         "domain": [
          0,
          1
         ],
         "title": {
          "text": "PCA Component 1"
         }
        },
        "yaxis": {
         "anchor": "x",
         "domain": [
          0,
          1
         ],
         "title": {
          "text": "PCA Component 2"
         }
        }
       }
      }
     },
     "metadata": {},
     "output_type": "display_data"
    }
   ],
   "source": [
    "fig = px.scatter(\n",
    "    merged_tsne,\n",
    "    x='PC1',\n",
    "    y='PC2',\n",
    "    color='clusters',\n",
    "    hover_name='Symbol',\n",
    "    hover_data=['Sector', 'Name'],\n",
    "    title='Interactive t-SNE Clustering of Stocks',\n",
    "    labels={'PC1': 'PCA Component 1', 'PC2': 'PCA Component 2', 'Name': 'Symbol', 'Sector': 'Sector', 'Name': 'Name'}\n",
    ")\n",
    "fig.show()"
   ]
  },
  {
   "cell_type": "code",
   "execution_count": null,
   "id": "19729768",
   "metadata": {},
   "outputs": [],
   "source": [
    "sector_list = merged_tsne.groupby(['clusters', 'Sector']).count()\n",
    "sector_list"
   ]
  },
  {
   "cell_type": "code",
   "execution_count": 23,
   "id": "1b63058f",
   "metadata": {},
   "outputs": [
    {
     "data": {
      "text/html": [
       "<div>\n",
       "<style scoped>\n",
       "    .dataframe tbody tr th:only-of-type {\n",
       "        vertical-align: middle;\n",
       "    }\n",
       "\n",
       "    .dataframe tbody tr th {\n",
       "        vertical-align: top;\n",
       "    }\n",
       "\n",
       "    .dataframe thead th {\n",
       "        text-align: right;\n",
       "    }\n",
       "</style>\n",
       "<table border=\"1\" class=\"dataframe\">\n",
       "  <thead>\n",
       "    <tr style=\"text-align: right;\">\n",
       "      <th></th>\n",
       "      <th>Symbol</th>\n",
       "      <th>PC1</th>\n",
       "      <th>PC2</th>\n",
       "      <th>clusters</th>\n",
       "    </tr>\n",
       "  </thead>\n",
       "  <tbody>\n",
       "    <tr>\n",
       "      <th>440</th>\n",
       "      <td>TSLA</td>\n",
       "      <td>28.988495</td>\n",
       "      <td>11.430099</td>\n",
       "      <td>10</td>\n",
       "    </tr>\n",
       "  </tbody>\n",
       "</table>\n",
       "</div>"
      ],
      "text/plain": [
       "    Symbol        PC1        PC2  clusters\n",
       "440   TSLA  28.988495  11.430099        10"
      ]
     },
     "execution_count": 23,
     "metadata": {},
     "output_type": "execute_result"
    }
   ],
   "source": [
    "df_tsne[df_tsne['Symbol'] == 'TSLA']"
   ]
  }
 ],
 "metadata": {
  "kernelspec": {
   "display_name": "Python 3",
   "language": "python",
   "name": "python3"
  },
  "language_info": {
   "codemirror_mode": {
    "name": "ipython",
    "version": 3
   },
   "file_extension": ".py",
   "mimetype": "text/x-python",
   "name": "python",
   "nbconvert_exporter": "python",
   "pygments_lexer": "ipython3",
   "version": "3.13.3"
  }
 },
 "nbformat": 4,
 "nbformat_minor": 5
}
