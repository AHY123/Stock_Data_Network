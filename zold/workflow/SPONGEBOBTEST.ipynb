{
 "cells": [
  {
   "cell_type": "code",
   "execution_count": 1,
   "id": "ad66fa88",
   "metadata": {},
   "outputs": [],
   "source": [
    "# Get the closing price for every data, calculate the residual return using the formula\n",
    "# Simulate a signed simularity matrix\n",
    "# Do the embedding work and put it in the formula using SPONGE"
   ]
  },
  {
   "cell_type": "code",
   "execution_count": 1,
   "id": "7b317612",
   "metadata": {},
   "outputs": [],
   "source": [
    "import numpy as np\n",
    "import matplotlib.pyplot as plt\n",
    "import pandas as pd\n",
    "import yfinance as yf\n",
    "import statsmodels.api as sm\n",
    "import plotly.express as px\n",
    "from sklearn.cluster import KMeans\n",
    "from sklearn.decomposition import PCA\n",
    "from pathlib import Path\n",
    "from sklearn.metrics import silhouette_score, davies_bouldin_score, calinski_harabasz_score"
   ]
  },
  {
   "cell_type": "code",
   "execution_count": 3,
   "id": "73e51efc",
   "metadata": {},
   "outputs": [],
   "source": [
    "# Initialize workflow parameters\n",
    "num_top = 50\n",
    "data_path = Path(f'../data/top_{num_top}_companies_by_sector.csv').resolve()\n",
    "analysis_start = \"2024-01-01\"\n",
    "analysis_end = \"2024-12-31\""
   ]
  },
  {
   "cell_type": "code",
   "execution_count": 4,
   "id": "2812f49a",
   "metadata": {},
   "outputs": [
    {
     "data": {
      "text/html": [
       "<div>\n",
       "<style scoped>\n",
       "    .dataframe tbody tr th:only-of-type {\n",
       "        vertical-align: middle;\n",
       "    }\n",
       "\n",
       "    .dataframe tbody tr th {\n",
       "        vertical-align: top;\n",
       "    }\n",
       "\n",
       "    .dataframe thead th {\n",
       "        text-align: right;\n",
       "    }\n",
       "</style>\n",
       "<table border=\"1\" class=\"dataframe\">\n",
       "  <thead>\n",
       "    <tr style=\"text-align: right;\">\n",
       "      <th></th>\n",
       "      <th>Symbol</th>\n",
       "      <th>Name</th>\n",
       "      <th>Last Sale</th>\n",
       "      <th>Net Change</th>\n",
       "      <th>% Change</th>\n",
       "      <th>Market Cap (B)</th>\n",
       "      <th>Country</th>\n",
       "      <th>IPO Year</th>\n",
       "      <th>Volume</th>\n",
       "      <th>Sector</th>\n",
       "      <th>Industry</th>\n",
       "    </tr>\n",
       "  </thead>\n",
       "  <tbody>\n",
       "    <tr>\n",
       "      <th>0</th>\n",
       "      <td>UFPI</td>\n",
       "      <td>UFP Industries Inc. Common Stock</td>\n",
       "      <td>$115.67</td>\n",
       "      <td>-0.7900</td>\n",
       "      <td>-0.678%</td>\n",
       "      <td>7.024022</td>\n",
       "      <td>United States</td>\n",
       "      <td>1993.0</td>\n",
       "      <td>223820</td>\n",
       "      <td>Basic Materials</td>\n",
       "      <td>Forest Products</td>\n",
       "    </tr>\n",
       "    <tr>\n",
       "      <th>1</th>\n",
       "      <td>AMWD</td>\n",
       "      <td>American Woodmark Corporation Common Stock</td>\n",
       "      <td>$77.01</td>\n",
       "      <td>0.4800</td>\n",
       "      <td>0.627%</td>\n",
       "      <td>1.159322</td>\n",
       "      <td>United States</td>\n",
       "      <td>1986.0</td>\n",
       "      <td>168642</td>\n",
       "      <td>Basic Materials</td>\n",
       "      <td>Forest Products</td>\n",
       "    </tr>\n",
       "    <tr>\n",
       "      <th>2</th>\n",
       "      <td>IPX</td>\n",
       "      <td>IperionX Limited American Depositary Share</td>\n",
       "      <td>$26.52</td>\n",
       "      <td>0.1200</td>\n",
       "      <td>0.455%</td>\n",
       "      <td>0.682213</td>\n",
       "      <td>United States</td>\n",
       "      <td>NaN</td>\n",
       "      <td>50560</td>\n",
       "      <td>Basic Materials</td>\n",
       "      <td>Other Metals and Minerals</td>\n",
       "    </tr>\n",
       "    <tr>\n",
       "      <th>3</th>\n",
       "      <td>EU</td>\n",
       "      <td>enCore Energy Corp. Common Shares</td>\n",
       "      <td>$2.91</td>\n",
       "      <td>0.0600</td>\n",
       "      <td>2.105%</td>\n",
       "      <td>0.541518</td>\n",
       "      <td>United States</td>\n",
       "      <td>NaN</td>\n",
       "      <td>1091464</td>\n",
       "      <td>Basic Materials</td>\n",
       "      <td>Other Metals and Minerals</td>\n",
       "    </tr>\n",
       "    <tr>\n",
       "      <th>4</th>\n",
       "      <td>USGO</td>\n",
       "      <td>U.S. GoldMining Inc. Common stock</td>\n",
       "      <td>$12.59</td>\n",
       "      <td>1.7800</td>\n",
       "      <td>16.466%</td>\n",
       "      <td>0.156678</td>\n",
       "      <td>United States</td>\n",
       "      <td>2023.0</td>\n",
       "      <td>225247</td>\n",
       "      <td>Basic Materials</td>\n",
       "      <td>Precious Metals</td>\n",
       "    </tr>\n",
       "    <tr>\n",
       "      <th>...</th>\n",
       "      <td>...</td>\n",
       "      <td>...</td>\n",
       "      <td>...</td>\n",
       "      <td>...</td>\n",
       "      <td>...</td>\n",
       "      <td>...</td>\n",
       "      <td>...</td>\n",
       "      <td>...</td>\n",
       "      <td>...</td>\n",
       "      <td>...</td>\n",
       "      <td>...</td>\n",
       "    </tr>\n",
       "    <tr>\n",
       "      <th>524</th>\n",
       "      <td>VIVK</td>\n",
       "      <td>Vivakor Inc. Common Stock</td>\n",
       "      <td>$0.845</td>\n",
       "      <td>-0.0248</td>\n",
       "      <td>-2.851%</td>\n",
       "      <td>0.028424</td>\n",
       "      <td>United States</td>\n",
       "      <td>NaN</td>\n",
       "      <td>42549</td>\n",
       "      <td>Utilities</td>\n",
       "      <td>Environmental Services</td>\n",
       "    </tr>\n",
       "    <tr>\n",
       "      <th>525</th>\n",
       "      <td>SONM</td>\n",
       "      <td>Sonim Technologies Inc. Common Stock</td>\n",
       "      <td>$2.55</td>\n",
       "      <td>-0.0800</td>\n",
       "      <td>-3.042%</td>\n",
       "      <td>0.012423</td>\n",
       "      <td>United States</td>\n",
       "      <td>2019.0</td>\n",
       "      <td>15396</td>\n",
       "      <td>Utilities</td>\n",
       "      <td>Telecommunications Equipment</td>\n",
       "    </tr>\n",
       "    <tr>\n",
       "      <th>526</th>\n",
       "      <td>CLRO</td>\n",
       "      <td>ClearOne Inc. (DE) Common Stock</td>\n",
       "      <td>$0.4926</td>\n",
       "      <td>-0.0072</td>\n",
       "      <td>-1.441%</td>\n",
       "      <td>0.011807</td>\n",
       "      <td>United States</td>\n",
       "      <td>NaN</td>\n",
       "      <td>87213</td>\n",
       "      <td>Utilities</td>\n",
       "      <td>Telecommunications Equipment</td>\n",
       "    </tr>\n",
       "    <tr>\n",
       "      <th>527</th>\n",
       "      <td>SUNE</td>\n",
       "      <td>SUNation Energy Inc. Common Stock</td>\n",
       "      <td>$1.225</td>\n",
       "      <td>-0.0950</td>\n",
       "      <td>-7.197%</td>\n",
       "      <td>0.002223</td>\n",
       "      <td>United States</td>\n",
       "      <td>NaN</td>\n",
       "      <td>87057</td>\n",
       "      <td>Utilities</td>\n",
       "      <td>Telecommunications Equipment</td>\n",
       "    </tr>\n",
       "    <tr>\n",
       "      <th>528</th>\n",
       "      <td>ALCE</td>\n",
       "      <td>Alternus Clean Energy Inc. Class A Common Stock</td>\n",
       "      <td>$0.226</td>\n",
       "      <td>-0.0588</td>\n",
       "      <td>-20.646%</td>\n",
       "      <td>0.000000</td>\n",
       "      <td>United States</td>\n",
       "      <td>2022.0</td>\n",
       "      <td>1508724</td>\n",
       "      <td>Utilities</td>\n",
       "      <td>Power Generation</td>\n",
       "    </tr>\n",
       "  </tbody>\n",
       "</table>\n",
       "<p>529 rows × 11 columns</p>\n",
       "</div>"
      ],
      "text/plain": [
       "    Symbol                                             Name Last Sale  \\\n",
       "0     UFPI                 UFP Industries Inc. Common Stock   $115.67   \n",
       "1     AMWD       American Woodmark Corporation Common Stock    $77.01   \n",
       "2      IPX       IperionX Limited American Depositary Share    $26.52   \n",
       "3       EU                enCore Energy Corp. Common Shares     $2.91   \n",
       "4     USGO                U.S. GoldMining Inc. Common stock    $12.59   \n",
       "..     ...                                              ...       ...   \n",
       "524   VIVK                        Vivakor Inc. Common Stock    $0.845   \n",
       "525   SONM             Sonim Technologies Inc. Common Stock     $2.55   \n",
       "526   CLRO                  ClearOne Inc. (DE) Common Stock   $0.4926   \n",
       "527   SUNE                SUNation Energy Inc. Common Stock    $1.225   \n",
       "528   ALCE  Alternus Clean Energy Inc. Class A Common Stock    $0.226   \n",
       "\n",
       "     Net Change  % Change  Market Cap (B)        Country  IPO Year   Volume  \\\n",
       "0       -0.7900   -0.678%        7.024022  United States    1993.0   223820   \n",
       "1        0.4800    0.627%        1.159322  United States    1986.0   168642   \n",
       "2        0.1200    0.455%        0.682213  United States       NaN    50560   \n",
       "3        0.0600    2.105%        0.541518  United States       NaN  1091464   \n",
       "4        1.7800   16.466%        0.156678  United States    2023.0   225247   \n",
       "..          ...       ...             ...            ...       ...      ...   \n",
       "524     -0.0248   -2.851%        0.028424  United States       NaN    42549   \n",
       "525     -0.0800   -3.042%        0.012423  United States    2019.0    15396   \n",
       "526     -0.0072   -1.441%        0.011807  United States       NaN    87213   \n",
       "527     -0.0950   -7.197%        0.002223  United States       NaN    87057   \n",
       "528     -0.0588  -20.646%        0.000000  United States    2022.0  1508724   \n",
       "\n",
       "              Sector                      Industry  \n",
       "0    Basic Materials               Forest Products  \n",
       "1    Basic Materials               Forest Products  \n",
       "2    Basic Materials     Other Metals and Minerals  \n",
       "3    Basic Materials     Other Metals and Minerals  \n",
       "4    Basic Materials               Precious Metals  \n",
       "..               ...                           ...  \n",
       "524        Utilities        Environmental Services  \n",
       "525        Utilities  Telecommunications Equipment  \n",
       "526        Utilities  Telecommunications Equipment  \n",
       "527        Utilities  Telecommunications Equipment  \n",
       "528        Utilities              Power Generation  \n",
       "\n",
       "[529 rows x 11 columns]"
      ]
     },
     "execution_count": 4,
     "metadata": {},
     "output_type": "execute_result"
    }
   ],
   "source": [
    "data = pd.read_csv(data_path)\n",
    "data"
   ]
  },
  {
   "cell_type": "code",
   "execution_count": 5,
   "id": "3e028e97",
   "metadata": {},
   "outputs": [
    {
     "data": {
      "text/plain": [
       "['UFPI',\n",
       " 'AMWD',\n",
       " 'IPX',\n",
       " 'EU',\n",
       " 'USGO',\n",
       " 'USAU',\n",
       " 'NB',\n",
       " 'ABAT',\n",
       " 'HYMC',\n",
       " 'USGOW',\n",
       " 'NIOBW',\n",
       " 'HYMCL',\n",
       " 'HYMCW',\n",
       " 'AMZN',\n",
       " 'TSLA',\n",
       " 'COST',\n",
       " 'NFLX',\n",
       " 'BKNG',\n",
       " 'SBUX',\n",
       " 'CTAS',\n",
       " 'DASH',\n",
       " 'MAR',\n",
       " 'ORLY',\n",
       " 'PYPL',\n",
       " 'CPRT',\n",
       " 'PCAR',\n",
       " 'PAYX',\n",
       " 'ROST',\n",
       " 'GSAT',\n",
       " 'FAST',\n",
       " 'UAL',\n",
       " 'EBAY',\n",
       " 'CSGP',\n",
       " 'TSCO',\n",
       " 'CDW',\n",
       " 'EXPE',\n",
       " 'DKNG',\n",
       " 'Z',\n",
       " 'ZG',\n",
       " 'NWS',\n",
       " 'WMG',\n",
       " 'ULTA',\n",
       " 'NWSA',\n",
       " 'DPZ',\n",
       " 'CASY',\n",
       " 'DLTR',\n",
       " 'AKAM',\n",
       " 'QRTEP',\n",
       " 'POOL',\n",
       " 'CART',\n",
       " 'RIVN',\n",
       " 'CHRW',\n",
       " 'TXRH',\n",
       " 'AAL',\n",
       " 'LKQ',\n",
       " 'HQY',\n",
       " 'CHDN',\n",
       " 'SIRI',\n",
       " 'WING',\n",
       " 'TTEK',\n",
       " 'WYNN',\n",
       " 'HAS',\n",
       " 'ASTS',\n",
       " 'PEP',\n",
       " 'MDLZ',\n",
       " 'MNST',\n",
       " 'KDP',\n",
       " 'KHC',\n",
       " 'SFM',\n",
       " 'PPC',\n",
       " 'COKE',\n",
       " 'CPB',\n",
       " 'SFD',\n",
       " 'WBA',\n",
       " 'FRPT',\n",
       " 'CALM',\n",
       " 'LANC',\n",
       " 'CELH',\n",
       " 'FIZZ',\n",
       " 'JJSF',\n",
       " 'COCO',\n",
       " 'GO',\n",
       " 'SONO',\n",
       " 'VITL',\n",
       " 'DNUT',\n",
       " 'IMKTA',\n",
       " 'JBSS',\n",
       " 'AVO',\n",
       " 'ARKO',\n",
       " 'MGPI',\n",
       " 'WEST',\n",
       " 'SENEB',\n",
       " 'SENEA',\n",
       " 'VLGEA',\n",
       " 'LMNR',\n",
       " 'HAIN',\n",
       " 'WEYS',\n",
       " 'LWAY',\n",
       " 'MAMA',\n",
       " 'BYND',\n",
       " 'GNSS',\n",
       " 'UEIC',\n",
       " 'PETS',\n",
       " 'BRID',\n",
       " 'KOSS',\n",
       " 'BRFH',\n",
       " 'ARKOW',\n",
       " 'FARM',\n",
       " 'RIME',\n",
       " 'AGFY',\n",
       " 'WVVI',\n",
       " 'JVA',\n",
       " 'SOWG',\n",
       " 'FANG',\n",
       " 'EXE',\n",
       " 'EXEEW',\n",
       " 'EXEEZ',\n",
       " 'EXEEL',\n",
       " 'PAA',\n",
       " 'WWD',\n",
       " 'VNOM',\n",
       " 'APA',\n",
       " 'CHRD',\n",
       " 'LFUS',\n",
       " 'PAGP',\n",
       " 'PTEN',\n",
       " 'ARLP',\n",
       " 'MGEE',\n",
       " 'POWL',\n",
       " 'HPK',\n",
       " 'DMLP',\n",
       " 'PLUG',\n",
       " 'METCL',\n",
       " 'CLMT',\n",
       " 'ACDC',\n",
       " 'NESR',\n",
       " 'FIP',\n",
       " 'METC',\n",
       " 'METCB',\n",
       " 'HNRG',\n",
       " 'HPKEW',\n",
       " 'BRY',\n",
       " 'PNRG',\n",
       " 'KGEI',\n",
       " 'FCEL',\n",
       " 'TUSK',\n",
       " 'MMLP',\n",
       " 'EPSN',\n",
       " 'KLXE',\n",
       " 'NCSM',\n",
       " 'ANNA',\n",
       " 'USEG',\n",
       " 'AREC',\n",
       " 'DWSN',\n",
       " 'NESRW',\n",
       " 'NEHC',\n",
       " 'MARPS',\n",
       " 'ANNAW',\n",
       " 'NEHCW',\n",
       " 'CME',\n",
       " 'ABNB',\n",
       " 'COIN',\n",
       " 'HOOD',\n",
       " 'NDAQ',\n",
       " 'HBANL',\n",
       " 'HBANM',\n",
       " 'FCNCA',\n",
       " 'FITB',\n",
       " 'LPLA',\n",
       " 'HBANP',\n",
       " 'AFRM',\n",
       " 'HBAN',\n",
       " 'TROW',\n",
       " 'IBKR',\n",
       " 'TPG',\n",
       " 'NTRS',\n",
       " 'CINF',\n",
       " 'PFG',\n",
       " 'ERIE',\n",
       " 'CG',\n",
       " 'FITBI',\n",
       " 'FITBP',\n",
       " 'SOFI',\n",
       " 'SLMBP',\n",
       " 'ARCC',\n",
       " 'FITBO',\n",
       " 'TW',\n",
       " 'MORN',\n",
       " 'EWBC',\n",
       " 'VLYPO',\n",
       " 'VLYPP',\n",
       " 'SEIC',\n",
       " 'PNFP',\n",
       " 'CBSH',\n",
       " 'WTFC',\n",
       " 'HLNE',\n",
       " 'ZION',\n",
       " 'ONBPP',\n",
       " 'ONBPO',\n",
       " 'ONB',\n",
       " 'BPOP',\n",
       " 'MKTX',\n",
       " 'BOKF',\n",
       " 'STEP',\n",
       " 'COOP',\n",
       " 'CGABL',\n",
       " 'SLM',\n",
       " 'CACC',\n",
       " 'UPST',\n",
       " 'ISRG',\n",
       " 'AMGN',\n",
       " 'GILD',\n",
       " 'VRTX',\n",
       " 'REGN',\n",
       " 'GEHC',\n",
       " 'IDXX',\n",
       " 'ALNY',\n",
       " 'DXCM',\n",
       " 'NTRA',\n",
       " 'BIIB',\n",
       " 'PODD',\n",
       " 'RPRX',\n",
       " 'COO',\n",
       " 'ILMN',\n",
       " 'UTHR',\n",
       " 'ALGN',\n",
       " 'HOLX',\n",
       " 'INSM',\n",
       " 'SMMT',\n",
       " 'ITCI',\n",
       " 'BTSGU',\n",
       " 'INCY',\n",
       " 'VTRS',\n",
       " 'BMRN',\n",
       " 'MRNA',\n",
       " 'NBIX',\n",
       " 'TECH',\n",
       " 'PCVX',\n",
       " 'SRPT',\n",
       " 'MEDP',\n",
       " 'HSIC',\n",
       " 'MASI',\n",
       " 'EXAS',\n",
       " 'EXEL',\n",
       " 'RGEN',\n",
       " 'ENSG',\n",
       " 'HALO',\n",
       " 'MDGL',\n",
       " 'CORT',\n",
       " 'RVMD',\n",
       " 'BPMC',\n",
       " 'AXSM',\n",
       " 'MMSI',\n",
       " 'LEGN',\n",
       " 'NUVL',\n",
       " 'BBIO',\n",
       " 'LNTH',\n",
       " 'GH',\n",
       " 'OPCH',\n",
       " 'LIN',\n",
       " 'HON',\n",
       " 'CSX',\n",
       " 'ROP',\n",
       " 'AXON',\n",
       " 'BKR',\n",
       " 'ODFL',\n",
       " 'FWONK',\n",
       " 'FOXA',\n",
       " 'FWONA',\n",
       " 'FOX',\n",
       " 'STLD',\n",
       " 'TER',\n",
       " 'ZBRA',\n",
       " 'TRMB',\n",
       " 'SYM',\n",
       " 'JBHT',\n",
       " 'ENTG',\n",
       " 'PARAA',\n",
       " 'RKLB',\n",
       " 'SAIA',\n",
       " 'NDSN',\n",
       " 'FTAI',\n",
       " 'LECO',\n",
       " 'RGLD',\n",
       " 'AAON',\n",
       " 'MIDD',\n",
       " 'BRKR',\n",
       " 'MKSI',\n",
       " 'PARA',\n",
       " 'LLYVK',\n",
       " 'WSC',\n",
       " 'LLYVA',\n",
       " 'CGNX',\n",
       " 'NXT',\n",
       " 'LSTR',\n",
       " 'CHX',\n",
       " 'CSWI',\n",
       " 'BCPC',\n",
       " 'AVAV',\n",
       " 'WFRD',\n",
       " 'KTOS',\n",
       " 'NXST',\n",
       " 'STRL',\n",
       " 'ITRI',\n",
       " 'IESC',\n",
       " 'ROAD',\n",
       " 'HEES',\n",
       " 'WDFC',\n",
       " 'NWL',\n",
       " 'IDCC',\n",
       " 'NOVT',\n",
       " 'ENVX',\n",
       " 'RUN',\n",
       " 'FLNC',\n",
       " 'EOSE',\n",
       " 'CTLP',\n",
       " 'BYRN',\n",
       " 'MVST',\n",
       " 'APPS',\n",
       " 'ACTG',\n",
       " 'SLDP',\n",
       " 'JYNT',\n",
       " 'EOSEW',\n",
       " 'ULBI',\n",
       " 'MVSTW',\n",
       " 'ZEO',\n",
       " 'NEOV',\n",
       " 'LASE',\n",
       " 'REFR',\n",
       " 'STI',\n",
       " 'NEOVW',\n",
       " 'SLDPW',\n",
       " 'FLUX',\n",
       " 'RMCO',\n",
       " 'DFLI',\n",
       " 'ADN',\n",
       " 'AMOD',\n",
       " 'XELB',\n",
       " 'POLA',\n",
       " 'ZEOWW',\n",
       " 'XPON',\n",
       " 'AMODW',\n",
       " 'RMCOW',\n",
       " 'DFLIW',\n",
       " 'ADNWW',\n",
       " 'SIMA',\n",
       " 'EQIX',\n",
       " 'AGNCN',\n",
       " 'SBAC',\n",
       " 'AGNCO',\n",
       " 'AGNCM',\n",
       " 'AGNCP',\n",
       " 'AGNCL',\n",
       " 'REG',\n",
       " 'GLPI',\n",
       " 'LINE',\n",
       " 'LAMR',\n",
       " 'HST',\n",
       " 'AGNC',\n",
       " 'LOPE',\n",
       " 'PECO',\n",
       " 'REGCP',\n",
       " 'REGCO',\n",
       " 'DHCNL',\n",
       " 'SBRA',\n",
       " 'DHCNI',\n",
       " 'PCH',\n",
       " 'LAUR',\n",
       " 'STRA',\n",
       " 'NYMTM',\n",
       " 'NYMTI',\n",
       " 'ROIC',\n",
       " 'NYMTN',\n",
       " 'NYMTL',\n",
       " 'PRDO',\n",
       " 'NYMTZ',\n",
       " 'UNIT',\n",
       " 'UDMY',\n",
       " 'GOODN',\n",
       " 'GOODO',\n",
       " 'LANDM',\n",
       " 'LANDO',\n",
       " 'LANDP',\n",
       " 'GOOD',\n",
       " 'DHC',\n",
       " 'NYMT',\n",
       " 'LINC',\n",
       " 'SVC',\n",
       " 'LAND',\n",
       " 'NHPAP',\n",
       " 'APEI',\n",
       " 'NHPBP',\n",
       " 'SOHON',\n",
       " 'SOHOB',\n",
       " 'SOHOO',\n",
       " 'REFI',\n",
       " 'AAPL',\n",
       " 'NVDA',\n",
       " 'MSFT',\n",
       " 'GOOG',\n",
       " 'GOOGL',\n",
       " 'META',\n",
       " 'AVGO',\n",
       " 'PLTR',\n",
       " 'ADBE',\n",
       " 'QCOM',\n",
       " 'AMD',\n",
       " 'INTU',\n",
       " 'TXN',\n",
       " 'AMAT',\n",
       " 'PANW',\n",
       " 'APP',\n",
       " 'ADP',\n",
       " 'LRCX',\n",
       " 'CRWD',\n",
       " 'MU',\n",
       " 'ADI',\n",
       " 'KLAC',\n",
       " 'MRVL',\n",
       " 'INTC',\n",
       " 'CDNS',\n",
       " 'FTNT',\n",
       " 'SNPS',\n",
       " 'MSTR',\n",
       " 'WDAY',\n",
       " 'ADSK',\n",
       " 'TTD',\n",
       " 'DDOG',\n",
       " 'CTSH',\n",
       " 'VRSK',\n",
       " 'TTWO',\n",
       " 'EA',\n",
       " 'MPWR',\n",
       " 'ZS',\n",
       " 'ANSS',\n",
       " 'MCHP',\n",
       " 'ZM',\n",
       " 'NTAP',\n",
       " 'WDC',\n",
       " 'SMCI',\n",
       " 'STRK',\n",
       " 'GFS',\n",
       " 'VRSN',\n",
       " 'SSNC',\n",
       " 'MDB',\n",
       " 'ON',\n",
       " 'TMUS',\n",
       " 'CSCO',\n",
       " 'CMCSA',\n",
       " 'CHTR',\n",
       " 'WBD',\n",
       " 'FFIV',\n",
       " 'ROKU',\n",
       " 'LBRDK',\n",
       " 'LBRDA',\n",
       " 'FYBR',\n",
       " 'LITE',\n",
       " 'LBRDP',\n",
       " 'IRDM',\n",
       " 'ZD',\n",
       " 'EXTR',\n",
       " 'LILA',\n",
       " 'LILAK',\n",
       " 'DGII',\n",
       " 'TTGT',\n",
       " 'AIOT',\n",
       " 'NSSC',\n",
       " 'MATW',\n",
       " 'ATEX',\n",
       " 'SHEN',\n",
       " 'AMCX',\n",
       " 'TBCH',\n",
       " 'SPOK',\n",
       " 'ATNI',\n",
       " 'REKR',\n",
       " 'INSG',\n",
       " 'CXDO',\n",
       " 'LTRX',\n",
       " 'BWEN',\n",
       " 'KSCP',\n",
       " 'FOXX',\n",
       " 'NXPL',\n",
       " 'AMPG',\n",
       " 'INTZ',\n",
       " 'SIDU',\n",
       " 'ASNS',\n",
       " 'AMPGW',\n",
       " 'DATS',\n",
       " 'NXPLW',\n",
       " 'FOXXW',\n",
       " 'DATSW',\n",
       " 'CEG',\n",
       " 'AEP',\n",
       " 'EXC',\n",
       " 'XEL',\n",
       " 'LNT',\n",
       " 'EVRG',\n",
       " 'TLN',\n",
       " 'CWST',\n",
       " 'NWE',\n",
       " 'OTTR',\n",
       " 'NFE',\n",
       " 'NEXT',\n",
       " 'SJW',\n",
       " 'INFN',\n",
       " 'CDZIP',\n",
       " 'NNE',\n",
       " 'MSEX',\n",
       " 'NTGR',\n",
       " 'ADTN',\n",
       " 'CLNE',\n",
       " 'MNTK',\n",
       " 'OPAL',\n",
       " 'CLFD',\n",
       " 'YORW',\n",
       " 'CDZI',\n",
       " 'ARTNA',\n",
       " 'PCYO',\n",
       " 'GWRS',\n",
       " 'RGCO',\n",
       " 'VIASP',\n",
       " 'SLNG',\n",
       " 'QRHC',\n",
       " 'FKWL',\n",
       " 'VIVK',\n",
       " 'SONM',\n",
       " 'CLRO',\n",
       " 'SUNE',\n",
       " 'ALCE',\n",
       " '^GSPC']"
      ]
     },
     "execution_count": 5,
     "metadata": {},
     "output_type": "execute_result"
    }
   ],
   "source": [
    "ticker = data['Symbol'].to_list()\n",
    "market_ticker = '^GSPC'\n",
    "ticker.append(market_ticker)\n",
    "ticker\n",
    "\n"
   ]
  },
  {
   "cell_type": "code",
   "execution_count": 6,
   "id": "2dfb29cc",
   "metadata": {},
   "outputs": [
    {
     "name": "stdout",
     "output_type": "stream",
     "text": [
      "YF.download() has changed argument auto_adjust default to True\n"
     ]
    },
    {
     "name": "stderr",
     "output_type": "stream",
     "text": [
      "[*********************100%***********************]  530 of 530 completed\n",
      "\n",
      "23 Failed downloads:\n",
      "['NXPLW', 'ARKOW', 'ADNWW', 'DFLIW', 'ANNAW', 'DHCNL', 'NESRW', 'NIOBW', 'MVSTW', 'HYMCW', 'ZEOWW', 'AMODW', 'RMCOW', 'NEHCW', 'FOXXW', 'USGOW', 'NEOVW', 'SLDPW']: YFPricesMissingError('possibly delisted; no price data found  (1d 2024-01-01 -> 2024-12-31)')\n",
      "['QRTEP', 'INFN']: HTTPError('HTTP Error 404: ')\n",
      "['SFD', 'STRK']: YFPricesMissingError('possibly delisted; no price data found  (1d 2024-01-01 -> 2024-12-31) (Yahoo error = \"Data doesn\\'t exist for startDate = 1704085200, endDate = 1735621200\")')\n",
      "['ROIC']: YFTzMissingError('possibly delisted; no timezone found')\n"
     ]
    },
    {
     "data": {
      "text/html": [
       "<div>\n",
       "<style scoped>\n",
       "    .dataframe tbody tr th:only-of-type {\n",
       "        vertical-align: middle;\n",
       "    }\n",
       "\n",
       "    .dataframe tbody tr th {\n",
       "        vertical-align: top;\n",
       "    }\n",
       "\n",
       "    .dataframe thead th {\n",
       "        text-align: right;\n",
       "    }\n",
       "</style>\n",
       "<table border=\"1\" class=\"dataframe\">\n",
       "  <thead>\n",
       "    <tr style=\"text-align: right;\">\n",
       "      <th>Ticker</th>\n",
       "      <th>AAL</th>\n",
       "      <th>AAON</th>\n",
       "      <th>AAPL</th>\n",
       "      <th>ABAT</th>\n",
       "      <th>ABNB</th>\n",
       "      <th>ACDC</th>\n",
       "      <th>ACTG</th>\n",
       "      <th>ADBE</th>\n",
       "      <th>ADI</th>\n",
       "      <th>ADN</th>\n",
       "      <th>...</th>\n",
       "      <th>Z</th>\n",
       "      <th>ZBRA</th>\n",
       "      <th>ZD</th>\n",
       "      <th>ZEO</th>\n",
       "      <th>ZEOWW</th>\n",
       "      <th>ZG</th>\n",
       "      <th>ZION</th>\n",
       "      <th>ZM</th>\n",
       "      <th>ZS</th>\n",
       "      <th>^GSPC</th>\n",
       "    </tr>\n",
       "    <tr>\n",
       "      <th>Date</th>\n",
       "      <th></th>\n",
       "      <th></th>\n",
       "      <th></th>\n",
       "      <th></th>\n",
       "      <th></th>\n",
       "      <th></th>\n",
       "      <th></th>\n",
       "      <th></th>\n",
       "      <th></th>\n",
       "      <th></th>\n",
       "      <th></th>\n",
       "      <th></th>\n",
       "      <th></th>\n",
       "      <th></th>\n",
       "      <th></th>\n",
       "      <th></th>\n",
       "      <th></th>\n",
       "      <th></th>\n",
       "      <th></th>\n",
       "      <th></th>\n",
       "      <th></th>\n",
       "    </tr>\n",
       "  </thead>\n",
       "  <tbody>\n",
       "    <tr>\n",
       "      <th>2024-01-02</th>\n",
       "      <td>13.440000</td>\n",
       "      <td>73.545914</td>\n",
       "      <td>184.290421</td>\n",
       "      <td>4.405</td>\n",
       "      <td>134.479996</td>\n",
       "      <td>7.98</td>\n",
       "      <td>3.92</td>\n",
       "      <td>580.070007</td>\n",
       "      <td>189.526337</td>\n",
       "      <td>6.60</td>\n",
       "      <td>...</td>\n",
       "      <td>57.250000</td>\n",
       "      <td>267.980011</td>\n",
       "      <td>67.309998</td>\n",
       "      <td>11.26</td>\n",
       "      <td>NaN</td>\n",
       "      <td>56.220001</td>\n",
       "      <td>41.883698</td>\n",
       "      <td>69.150002</td>\n",
       "      <td>212.369995</td>\n",
       "      <td>4742.830078</td>\n",
       "    </tr>\n",
       "    <tr>\n",
       "      <th>2024-01-03</th>\n",
       "      <td>12.950000</td>\n",
       "      <td>72.759689</td>\n",
       "      <td>182.910507</td>\n",
       "      <td>4.230</td>\n",
       "      <td>133.419998</td>\n",
       "      <td>7.95</td>\n",
       "      <td>3.89</td>\n",
       "      <td>571.789978</td>\n",
       "      <td>185.003098</td>\n",
       "      <td>6.15</td>\n",
       "      <td>...</td>\n",
       "      <td>55.230000</td>\n",
       "      <td>252.520004</td>\n",
       "      <td>65.860001</td>\n",
       "      <td>11.28</td>\n",
       "      <td>NaN</td>\n",
       "      <td>53.980000</td>\n",
       "      <td>39.853092</td>\n",
       "      <td>67.169998</td>\n",
       "      <td>210.240005</td>\n",
       "      <td>4704.810059</td>\n",
       "    </tr>\n",
       "    <tr>\n",
       "      <th>2024-01-04</th>\n",
       "      <td>13.090000</td>\n",
       "      <td>73.386681</td>\n",
       "      <td>180.587555</td>\n",
       "      <td>4.250</td>\n",
       "      <td>133.720001</td>\n",
       "      <td>7.64</td>\n",
       "      <td>3.82</td>\n",
       "      <td>567.049988</td>\n",
       "      <td>182.173630</td>\n",
       "      <td>6.00</td>\n",
       "      <td>...</td>\n",
       "      <td>54.160000</td>\n",
       "      <td>252.970001</td>\n",
       "      <td>65.570000</td>\n",
       "      <td>11.27</td>\n",
       "      <td>NaN</td>\n",
       "      <td>52.750000</td>\n",
       "      <td>40.460373</td>\n",
       "      <td>66.900002</td>\n",
       "      <td>210.330002</td>\n",
       "      <td>4688.680176</td>\n",
       "    </tr>\n",
       "    <tr>\n",
       "      <th>2024-01-05</th>\n",
       "      <td>13.600000</td>\n",
       "      <td>72.102852</td>\n",
       "      <td>179.862823</td>\n",
       "      <td>4.150</td>\n",
       "      <td>135.979996</td>\n",
       "      <td>8.00</td>\n",
       "      <td>3.84</td>\n",
       "      <td>564.599976</td>\n",
       "      <td>182.643570</td>\n",
       "      <td>5.91</td>\n",
       "      <td>...</td>\n",
       "      <td>53.709999</td>\n",
       "      <td>252.690002</td>\n",
       "      <td>65.160004</td>\n",
       "      <td>11.27</td>\n",
       "      <td>NaN</td>\n",
       "      <td>52.430000</td>\n",
       "      <td>41.798294</td>\n",
       "      <td>66.959999</td>\n",
       "      <td>209.809998</td>\n",
       "      <td>4697.240234</td>\n",
       "    </tr>\n",
       "    <tr>\n",
       "      <th>2024-01-08</th>\n",
       "      <td>14.580000</td>\n",
       "      <td>73.346870</td>\n",
       "      <td>184.210983</td>\n",
       "      <td>4.120</td>\n",
       "      <td>140.080002</td>\n",
       "      <td>7.95</td>\n",
       "      <td>3.89</td>\n",
       "      <td>580.549988</td>\n",
       "      <td>185.022675</td>\n",
       "      <td>5.94</td>\n",
       "      <td>...</td>\n",
       "      <td>55.669998</td>\n",
       "      <td>261.089996</td>\n",
       "      <td>66.650002</td>\n",
       "      <td>11.28</td>\n",
       "      <td>NaN</td>\n",
       "      <td>54.580002</td>\n",
       "      <td>42.263252</td>\n",
       "      <td>68.389999</td>\n",
       "      <td>218.100006</td>\n",
       "      <td>4763.540039</td>\n",
       "    </tr>\n",
       "    <tr>\n",
       "      <th>...</th>\n",
       "      <td>...</td>\n",
       "      <td>...</td>\n",
       "      <td>...</td>\n",
       "      <td>...</td>\n",
       "      <td>...</td>\n",
       "      <td>...</td>\n",
       "      <td>...</td>\n",
       "      <td>...</td>\n",
       "      <td>...</td>\n",
       "      <td>...</td>\n",
       "      <td>...</td>\n",
       "      <td>...</td>\n",
       "      <td>...</td>\n",
       "      <td>...</td>\n",
       "      <td>...</td>\n",
       "      <td>...</td>\n",
       "      <td>...</td>\n",
       "      <td>...</td>\n",
       "      <td>...</td>\n",
       "      <td>...</td>\n",
       "      <td>...</td>\n",
       "    </tr>\n",
       "    <tr>\n",
       "      <th>2024-12-23</th>\n",
       "      <td>17.250000</td>\n",
       "      <td>123.061127</td>\n",
       "      <td>254.655716</td>\n",
       "      <td>1.780</td>\n",
       "      <td>134.520004</td>\n",
       "      <td>7.18</td>\n",
       "      <td>4.45</td>\n",
       "      <td>446.739990</td>\n",
       "      <td>213.959091</td>\n",
       "      <td>4.39</td>\n",
       "      <td>...</td>\n",
       "      <td>76.690002</td>\n",
       "      <td>390.649994</td>\n",
       "      <td>55.549999</td>\n",
       "      <td>2.05</td>\n",
       "      <td>NaN</td>\n",
       "      <td>73.379997</td>\n",
       "      <td>53.490196</td>\n",
       "      <td>85.269997</td>\n",
       "      <td>185.940002</td>\n",
       "      <td>5974.069824</td>\n",
       "    </tr>\n",
       "    <tr>\n",
       "      <th>2024-12-24</th>\n",
       "      <td>17.350000</td>\n",
       "      <td>123.290848</td>\n",
       "      <td>257.578674</td>\n",
       "      <td>2.600</td>\n",
       "      <td>134.990005</td>\n",
       "      <td>7.35</td>\n",
       "      <td>4.51</td>\n",
       "      <td>447.940002</td>\n",
       "      <td>217.145233</td>\n",
       "      <td>5.02</td>\n",
       "      <td>...</td>\n",
       "      <td>77.209999</td>\n",
       "      <td>395.440002</td>\n",
       "      <td>56.360001</td>\n",
       "      <td>2.14</td>\n",
       "      <td>NaN</td>\n",
       "      <td>73.800003</td>\n",
       "      <td>54.070541</td>\n",
       "      <td>85.669998</td>\n",
       "      <td>187.259995</td>\n",
       "      <td>6040.040039</td>\n",
       "    </tr>\n",
       "    <tr>\n",
       "      <th>2024-12-26</th>\n",
       "      <td>17.350000</td>\n",
       "      <td>122.531769</td>\n",
       "      <td>258.396667</td>\n",
       "      <td>3.140</td>\n",
       "      <td>135.320007</td>\n",
       "      <td>7.44</td>\n",
       "      <td>4.44</td>\n",
       "      <td>450.160004</td>\n",
       "      <td>217.115356</td>\n",
       "      <td>5.05</td>\n",
       "      <td>...</td>\n",
       "      <td>76.989998</td>\n",
       "      <td>396.850006</td>\n",
       "      <td>56.480000</td>\n",
       "      <td>2.60</td>\n",
       "      <td>NaN</td>\n",
       "      <td>73.660004</td>\n",
       "      <td>54.444321</td>\n",
       "      <td>85.440002</td>\n",
       "      <td>187.630005</td>\n",
       "      <td>6037.589844</td>\n",
       "    </tr>\n",
       "    <tr>\n",
       "      <th>2024-12-27</th>\n",
       "      <td>17.350000</td>\n",
       "      <td>121.273285</td>\n",
       "      <td>254.974930</td>\n",
       "      <td>3.360</td>\n",
       "      <td>133.384995</td>\n",
       "      <td>7.33</td>\n",
       "      <td>4.37</td>\n",
       "      <td>446.480011</td>\n",
       "      <td>216.050003</td>\n",
       "      <td>5.15</td>\n",
       "      <td>...</td>\n",
       "      <td>76.180000</td>\n",
       "      <td>389.070007</td>\n",
       "      <td>55.360001</td>\n",
       "      <td>2.88</td>\n",
       "      <td>NaN</td>\n",
       "      <td>72.739998</td>\n",
       "      <td>53.785282</td>\n",
       "      <td>83.820000</td>\n",
       "      <td>184.559998</td>\n",
       "      <td>5970.839844</td>\n",
       "    </tr>\n",
       "    <tr>\n",
       "      <th>2024-12-30</th>\n",
       "      <td>17.620001</td>\n",
       "      <td>119.505424</td>\n",
       "      <td>251.593079</td>\n",
       "      <td>2.710</td>\n",
       "      <td>131.809998</td>\n",
       "      <td>7.86</td>\n",
       "      <td>4.33</td>\n",
       "      <td>445.799988</td>\n",
       "      <td>211.639191</td>\n",
       "      <td>5.29</td>\n",
       "      <td>...</td>\n",
       "      <td>74.610001</td>\n",
       "      <td>383.850006</td>\n",
       "      <td>54.560001</td>\n",
       "      <td>3.07</td>\n",
       "      <td>NaN</td>\n",
       "      <td>71.300003</td>\n",
       "      <td>53.431175</td>\n",
       "      <td>82.730003</td>\n",
       "      <td>183.130005</td>\n",
       "      <td>5906.939941</td>\n",
       "    </tr>\n",
       "  </tbody>\n",
       "</table>\n",
       "<p>251 rows × 530 columns</p>\n",
       "</div>"
      ],
      "text/plain": [
       "Ticker            AAL        AAON        AAPL   ABAT        ABNB  ACDC  ACTG  \\\n",
       "Date                                                                           \n",
       "2024-01-02  13.440000   73.545914  184.290421  4.405  134.479996  7.98  3.92   \n",
       "2024-01-03  12.950000   72.759689  182.910507  4.230  133.419998  7.95  3.89   \n",
       "2024-01-04  13.090000   73.386681  180.587555  4.250  133.720001  7.64  3.82   \n",
       "2024-01-05  13.600000   72.102852  179.862823  4.150  135.979996  8.00  3.84   \n",
       "2024-01-08  14.580000   73.346870  184.210983  4.120  140.080002  7.95  3.89   \n",
       "...               ...         ...         ...    ...         ...   ...   ...   \n",
       "2024-12-23  17.250000  123.061127  254.655716  1.780  134.520004  7.18  4.45   \n",
       "2024-12-24  17.350000  123.290848  257.578674  2.600  134.990005  7.35  4.51   \n",
       "2024-12-26  17.350000  122.531769  258.396667  3.140  135.320007  7.44  4.44   \n",
       "2024-12-27  17.350000  121.273285  254.974930  3.360  133.384995  7.33  4.37   \n",
       "2024-12-30  17.620001  119.505424  251.593079  2.710  131.809998  7.86  4.33   \n",
       "\n",
       "Ticker            ADBE         ADI   ADN  ...          Z        ZBRA  \\\n",
       "Date                                      ...                          \n",
       "2024-01-02  580.070007  189.526337  6.60  ...  57.250000  267.980011   \n",
       "2024-01-03  571.789978  185.003098  6.15  ...  55.230000  252.520004   \n",
       "2024-01-04  567.049988  182.173630  6.00  ...  54.160000  252.970001   \n",
       "2024-01-05  564.599976  182.643570  5.91  ...  53.709999  252.690002   \n",
       "2024-01-08  580.549988  185.022675  5.94  ...  55.669998  261.089996   \n",
       "...                ...         ...   ...  ...        ...         ...   \n",
       "2024-12-23  446.739990  213.959091  4.39  ...  76.690002  390.649994   \n",
       "2024-12-24  447.940002  217.145233  5.02  ...  77.209999  395.440002   \n",
       "2024-12-26  450.160004  217.115356  5.05  ...  76.989998  396.850006   \n",
       "2024-12-27  446.480011  216.050003  5.15  ...  76.180000  389.070007   \n",
       "2024-12-30  445.799988  211.639191  5.29  ...  74.610001  383.850006   \n",
       "\n",
       "Ticker             ZD    ZEO  ZEOWW         ZG       ZION         ZM  \\\n",
       "Date                                                                   \n",
       "2024-01-02  67.309998  11.26    NaN  56.220001  41.883698  69.150002   \n",
       "2024-01-03  65.860001  11.28    NaN  53.980000  39.853092  67.169998   \n",
       "2024-01-04  65.570000  11.27    NaN  52.750000  40.460373  66.900002   \n",
       "2024-01-05  65.160004  11.27    NaN  52.430000  41.798294  66.959999   \n",
       "2024-01-08  66.650002  11.28    NaN  54.580002  42.263252  68.389999   \n",
       "...               ...    ...    ...        ...        ...        ...   \n",
       "2024-12-23  55.549999   2.05    NaN  73.379997  53.490196  85.269997   \n",
       "2024-12-24  56.360001   2.14    NaN  73.800003  54.070541  85.669998   \n",
       "2024-12-26  56.480000   2.60    NaN  73.660004  54.444321  85.440002   \n",
       "2024-12-27  55.360001   2.88    NaN  72.739998  53.785282  83.820000   \n",
       "2024-12-30  54.560001   3.07    NaN  71.300003  53.431175  82.730003   \n",
       "\n",
       "Ticker              ZS        ^GSPC  \n",
       "Date                                 \n",
       "2024-01-02  212.369995  4742.830078  \n",
       "2024-01-03  210.240005  4704.810059  \n",
       "2024-01-04  210.330002  4688.680176  \n",
       "2024-01-05  209.809998  4697.240234  \n",
       "2024-01-08  218.100006  4763.540039  \n",
       "...                ...          ...  \n",
       "2024-12-23  185.940002  5974.069824  \n",
       "2024-12-24  187.259995  6040.040039  \n",
       "2024-12-26  187.630005  6037.589844  \n",
       "2024-12-27  184.559998  5970.839844  \n",
       "2024-12-30  183.130005  5906.939941  \n",
       "\n",
       "[251 rows x 530 columns]"
      ]
     },
     "execution_count": 6,
     "metadata": {},
     "output_type": "execute_result"
    }
   ],
   "source": [
    "# calculate the rate of return\n",
    "# align data in the dataframe as well as putting it in a matrix\n",
    "# run CAPM regression\n",
    "# compute residual returns\n",
    "# use SPONGE clustering\n",
    "# convert this into plotly\n",
    "stock_price = yf.download(tickers=ticker, start = analysis_start, end = analysis_end)['Close']\n",
    "stock_price"
   ]
  },
  {
   "cell_type": "code",
   "execution_count": 7,
   "id": "fa3d8ae3",
   "metadata": {},
   "outputs": [
    {
     "data": {
      "text/html": [
       "<div>\n",
       "<style scoped>\n",
       "    .dataframe tbody tr th:only-of-type {\n",
       "        vertical-align: middle;\n",
       "    }\n",
       "\n",
       "    .dataframe tbody tr th {\n",
       "        vertical-align: top;\n",
       "    }\n",
       "\n",
       "    .dataframe thead th {\n",
       "        text-align: right;\n",
       "    }\n",
       "</style>\n",
       "<table border=\"1\" class=\"dataframe\">\n",
       "  <thead>\n",
       "    <tr style=\"text-align: right;\">\n",
       "      <th>Ticker</th>\n",
       "      <th>AAL</th>\n",
       "      <th>AAON</th>\n",
       "      <th>AAPL</th>\n",
       "      <th>ABAT</th>\n",
       "      <th>ABNB</th>\n",
       "      <th>ACDC</th>\n",
       "      <th>ACTG</th>\n",
       "      <th>ADBE</th>\n",
       "      <th>ADI</th>\n",
       "      <th>ADN</th>\n",
       "      <th>...</th>\n",
       "      <th>YORW</th>\n",
       "      <th>Z</th>\n",
       "      <th>ZBRA</th>\n",
       "      <th>ZD</th>\n",
       "      <th>ZEO</th>\n",
       "      <th>ZG</th>\n",
       "      <th>ZION</th>\n",
       "      <th>ZM</th>\n",
       "      <th>ZS</th>\n",
       "      <th>^GSPC</th>\n",
       "    </tr>\n",
       "    <tr>\n",
       "      <th>Date</th>\n",
       "      <th></th>\n",
       "      <th></th>\n",
       "      <th></th>\n",
       "      <th></th>\n",
       "      <th></th>\n",
       "      <th></th>\n",
       "      <th></th>\n",
       "      <th></th>\n",
       "      <th></th>\n",
       "      <th></th>\n",
       "      <th></th>\n",
       "      <th></th>\n",
       "      <th></th>\n",
       "      <th></th>\n",
       "      <th></th>\n",
       "      <th></th>\n",
       "      <th></th>\n",
       "      <th></th>\n",
       "      <th></th>\n",
       "      <th></th>\n",
       "      <th></th>\n",
       "    </tr>\n",
       "  </thead>\n",
       "  <tbody>\n",
       "    <tr>\n",
       "      <th>2024-01-02</th>\n",
       "      <td>13.440000</td>\n",
       "      <td>73.545914</td>\n",
       "      <td>184.290421</td>\n",
       "      <td>4.405</td>\n",
       "      <td>134.479996</td>\n",
       "      <td>7.98</td>\n",
       "      <td>3.92</td>\n",
       "      <td>580.070007</td>\n",
       "      <td>189.526337</td>\n",
       "      <td>6.60</td>\n",
       "      <td>...</td>\n",
       "      <td>37.200626</td>\n",
       "      <td>57.250000</td>\n",
       "      <td>267.980011</td>\n",
       "      <td>67.309998</td>\n",
       "      <td>11.26</td>\n",
       "      <td>56.220001</td>\n",
       "      <td>41.883698</td>\n",
       "      <td>69.150002</td>\n",
       "      <td>212.369995</td>\n",
       "      <td>4742.830078</td>\n",
       "    </tr>\n",
       "    <tr>\n",
       "      <th>2024-01-03</th>\n",
       "      <td>12.950000</td>\n",
       "      <td>72.759689</td>\n",
       "      <td>182.910507</td>\n",
       "      <td>4.230</td>\n",
       "      <td>133.419998</td>\n",
       "      <td>7.95</td>\n",
       "      <td>3.89</td>\n",
       "      <td>571.789978</td>\n",
       "      <td>185.003098</td>\n",
       "      <td>6.15</td>\n",
       "      <td>...</td>\n",
       "      <td>36.628452</td>\n",
       "      <td>55.230000</td>\n",
       "      <td>252.520004</td>\n",
       "      <td>65.860001</td>\n",
       "      <td>11.28</td>\n",
       "      <td>53.980000</td>\n",
       "      <td>39.853092</td>\n",
       "      <td>67.169998</td>\n",
       "      <td>210.240005</td>\n",
       "      <td>4704.810059</td>\n",
       "    </tr>\n",
       "    <tr>\n",
       "      <th>2024-01-04</th>\n",
       "      <td>13.090000</td>\n",
       "      <td>73.386681</td>\n",
       "      <td>180.587555</td>\n",
       "      <td>4.250</td>\n",
       "      <td>133.720001</td>\n",
       "      <td>7.64</td>\n",
       "      <td>3.82</td>\n",
       "      <td>567.049988</td>\n",
       "      <td>182.173630</td>\n",
       "      <td>6.00</td>\n",
       "      <td>...</td>\n",
       "      <td>36.250240</td>\n",
       "      <td>54.160000</td>\n",
       "      <td>252.970001</td>\n",
       "      <td>65.570000</td>\n",
       "      <td>11.27</td>\n",
       "      <td>52.750000</td>\n",
       "      <td>40.460373</td>\n",
       "      <td>66.900002</td>\n",
       "      <td>210.330002</td>\n",
       "      <td>4688.680176</td>\n",
       "    </tr>\n",
       "    <tr>\n",
       "      <th>2024-01-05</th>\n",
       "      <td>13.600000</td>\n",
       "      <td>72.102852</td>\n",
       "      <td>179.862823</td>\n",
       "      <td>4.150</td>\n",
       "      <td>135.979996</td>\n",
       "      <td>8.00</td>\n",
       "      <td>3.84</td>\n",
       "      <td>564.599976</td>\n",
       "      <td>182.643570</td>\n",
       "      <td>5.91</td>\n",
       "      <td>...</td>\n",
       "      <td>35.901123</td>\n",
       "      <td>53.709999</td>\n",
       "      <td>252.690002</td>\n",
       "      <td>65.160004</td>\n",
       "      <td>11.27</td>\n",
       "      <td>52.430000</td>\n",
       "      <td>41.798294</td>\n",
       "      <td>66.959999</td>\n",
       "      <td>209.809998</td>\n",
       "      <td>4697.240234</td>\n",
       "    </tr>\n",
       "    <tr>\n",
       "      <th>2024-01-08</th>\n",
       "      <td>14.580000</td>\n",
       "      <td>73.346870</td>\n",
       "      <td>184.210983</td>\n",
       "      <td>4.120</td>\n",
       "      <td>140.080002</td>\n",
       "      <td>7.95</td>\n",
       "      <td>3.89</td>\n",
       "      <td>580.549988</td>\n",
       "      <td>185.022675</td>\n",
       "      <td>5.94</td>\n",
       "      <td>...</td>\n",
       "      <td>36.153263</td>\n",
       "      <td>55.669998</td>\n",
       "      <td>261.089996</td>\n",
       "      <td>66.650002</td>\n",
       "      <td>11.28</td>\n",
       "      <td>54.580002</td>\n",
       "      <td>42.263252</td>\n",
       "      <td>68.389999</td>\n",
       "      <td>218.100006</td>\n",
       "      <td>4763.540039</td>\n",
       "    </tr>\n",
       "    <tr>\n",
       "      <th>...</th>\n",
       "      <td>...</td>\n",
       "      <td>...</td>\n",
       "      <td>...</td>\n",
       "      <td>...</td>\n",
       "      <td>...</td>\n",
       "      <td>...</td>\n",
       "      <td>...</td>\n",
       "      <td>...</td>\n",
       "      <td>...</td>\n",
       "      <td>...</td>\n",
       "      <td>...</td>\n",
       "      <td>...</td>\n",
       "      <td>...</td>\n",
       "      <td>...</td>\n",
       "      <td>...</td>\n",
       "      <td>...</td>\n",
       "      <td>...</td>\n",
       "      <td>...</td>\n",
       "      <td>...</td>\n",
       "      <td>...</td>\n",
       "      <td>...</td>\n",
       "    </tr>\n",
       "    <tr>\n",
       "      <th>2024-12-23</th>\n",
       "      <td>17.250000</td>\n",
       "      <td>123.061127</td>\n",
       "      <td>254.655716</td>\n",
       "      <td>1.780</td>\n",
       "      <td>134.520004</td>\n",
       "      <td>7.18</td>\n",
       "      <td>4.45</td>\n",
       "      <td>446.739990</td>\n",
       "      <td>213.959091</td>\n",
       "      <td>4.39</td>\n",
       "      <td>...</td>\n",
       "      <td>32.668262</td>\n",
       "      <td>76.690002</td>\n",
       "      <td>390.649994</td>\n",
       "      <td>55.549999</td>\n",
       "      <td>2.05</td>\n",
       "      <td>73.379997</td>\n",
       "      <td>53.490196</td>\n",
       "      <td>85.269997</td>\n",
       "      <td>185.940002</td>\n",
       "      <td>5974.069824</td>\n",
       "    </tr>\n",
       "    <tr>\n",
       "      <th>2024-12-24</th>\n",
       "      <td>17.350000</td>\n",
       "      <td>123.290848</td>\n",
       "      <td>257.578674</td>\n",
       "      <td>2.600</td>\n",
       "      <td>134.990005</td>\n",
       "      <td>7.35</td>\n",
       "      <td>4.51</td>\n",
       "      <td>447.940002</td>\n",
       "      <td>217.145233</td>\n",
       "      <td>5.02</td>\n",
       "      <td>...</td>\n",
       "      <td>32.559731</td>\n",
       "      <td>77.209999</td>\n",
       "      <td>395.440002</td>\n",
       "      <td>56.360001</td>\n",
       "      <td>2.14</td>\n",
       "      <td>73.800003</td>\n",
       "      <td>54.070541</td>\n",
       "      <td>85.669998</td>\n",
       "      <td>187.259995</td>\n",
       "      <td>6040.040039</td>\n",
       "    </tr>\n",
       "    <tr>\n",
       "      <th>2024-12-26</th>\n",
       "      <td>17.350000</td>\n",
       "      <td>122.531769</td>\n",
       "      <td>258.396667</td>\n",
       "      <td>3.140</td>\n",
       "      <td>135.320007</td>\n",
       "      <td>7.44</td>\n",
       "      <td>4.44</td>\n",
       "      <td>450.160004</td>\n",
       "      <td>217.115356</td>\n",
       "      <td>5.05</td>\n",
       "      <td>...</td>\n",
       "      <td>32.885330</td>\n",
       "      <td>76.989998</td>\n",
       "      <td>396.850006</td>\n",
       "      <td>56.480000</td>\n",
       "      <td>2.60</td>\n",
       "      <td>73.660004</td>\n",
       "      <td>54.444321</td>\n",
       "      <td>85.440002</td>\n",
       "      <td>187.630005</td>\n",
       "      <td>6037.589844</td>\n",
       "    </tr>\n",
       "    <tr>\n",
       "      <th>2024-12-27</th>\n",
       "      <td>17.350000</td>\n",
       "      <td>121.273285</td>\n",
       "      <td>254.974930</td>\n",
       "      <td>3.360</td>\n",
       "      <td>133.384995</td>\n",
       "      <td>7.33</td>\n",
       "      <td>4.37</td>\n",
       "      <td>446.480011</td>\n",
       "      <td>216.050003</td>\n",
       "      <td>5.15</td>\n",
       "      <td>...</td>\n",
       "      <td>32.510395</td>\n",
       "      <td>76.180000</td>\n",
       "      <td>389.070007</td>\n",
       "      <td>55.360001</td>\n",
       "      <td>2.88</td>\n",
       "      <td>72.739998</td>\n",
       "      <td>53.785282</td>\n",
       "      <td>83.820000</td>\n",
       "      <td>184.559998</td>\n",
       "      <td>5970.839844</td>\n",
       "    </tr>\n",
       "    <tr>\n",
       "      <th>2024-12-30</th>\n",
       "      <td>17.620001</td>\n",
       "      <td>119.505424</td>\n",
       "      <td>251.593079</td>\n",
       "      <td>2.710</td>\n",
       "      <td>131.809998</td>\n",
       "      <td>7.86</td>\n",
       "      <td>4.33</td>\n",
       "      <td>445.799988</td>\n",
       "      <td>211.639191</td>\n",
       "      <td>5.29</td>\n",
       "      <td>...</td>\n",
       "      <td>32.687996</td>\n",
       "      <td>74.610001</td>\n",
       "      <td>383.850006</td>\n",
       "      <td>54.560001</td>\n",
       "      <td>3.07</td>\n",
       "      <td>71.300003</td>\n",
       "      <td>53.431175</td>\n",
       "      <td>82.730003</td>\n",
       "      <td>183.130005</td>\n",
       "      <td>5906.939941</td>\n",
       "    </tr>\n",
       "  </tbody>\n",
       "</table>\n",
       "<p>251 rows × 501 columns</p>\n",
       "</div>"
      ],
      "text/plain": [
       "Ticker            AAL        AAON        AAPL   ABAT        ABNB  ACDC  ACTG  \\\n",
       "Date                                                                           \n",
       "2024-01-02  13.440000   73.545914  184.290421  4.405  134.479996  7.98  3.92   \n",
       "2024-01-03  12.950000   72.759689  182.910507  4.230  133.419998  7.95  3.89   \n",
       "2024-01-04  13.090000   73.386681  180.587555  4.250  133.720001  7.64  3.82   \n",
       "2024-01-05  13.600000   72.102852  179.862823  4.150  135.979996  8.00  3.84   \n",
       "2024-01-08  14.580000   73.346870  184.210983  4.120  140.080002  7.95  3.89   \n",
       "...               ...         ...         ...    ...         ...   ...   ...   \n",
       "2024-12-23  17.250000  123.061127  254.655716  1.780  134.520004  7.18  4.45   \n",
       "2024-12-24  17.350000  123.290848  257.578674  2.600  134.990005  7.35  4.51   \n",
       "2024-12-26  17.350000  122.531769  258.396667  3.140  135.320007  7.44  4.44   \n",
       "2024-12-27  17.350000  121.273285  254.974930  3.360  133.384995  7.33  4.37   \n",
       "2024-12-30  17.620001  119.505424  251.593079  2.710  131.809998  7.86  4.33   \n",
       "\n",
       "Ticker            ADBE         ADI   ADN  ...       YORW          Z  \\\n",
       "Date                                      ...                         \n",
       "2024-01-02  580.070007  189.526337  6.60  ...  37.200626  57.250000   \n",
       "2024-01-03  571.789978  185.003098  6.15  ...  36.628452  55.230000   \n",
       "2024-01-04  567.049988  182.173630  6.00  ...  36.250240  54.160000   \n",
       "2024-01-05  564.599976  182.643570  5.91  ...  35.901123  53.709999   \n",
       "2024-01-08  580.549988  185.022675  5.94  ...  36.153263  55.669998   \n",
       "...                ...         ...   ...  ...        ...        ...   \n",
       "2024-12-23  446.739990  213.959091  4.39  ...  32.668262  76.690002   \n",
       "2024-12-24  447.940002  217.145233  5.02  ...  32.559731  77.209999   \n",
       "2024-12-26  450.160004  217.115356  5.05  ...  32.885330  76.989998   \n",
       "2024-12-27  446.480011  216.050003  5.15  ...  32.510395  76.180000   \n",
       "2024-12-30  445.799988  211.639191  5.29  ...  32.687996  74.610001   \n",
       "\n",
       "Ticker            ZBRA         ZD    ZEO         ZG       ZION         ZM  \\\n",
       "Date                                                                        \n",
       "2024-01-02  267.980011  67.309998  11.26  56.220001  41.883698  69.150002   \n",
       "2024-01-03  252.520004  65.860001  11.28  53.980000  39.853092  67.169998   \n",
       "2024-01-04  252.970001  65.570000  11.27  52.750000  40.460373  66.900002   \n",
       "2024-01-05  252.690002  65.160004  11.27  52.430000  41.798294  66.959999   \n",
       "2024-01-08  261.089996  66.650002  11.28  54.580002  42.263252  68.389999   \n",
       "...                ...        ...    ...        ...        ...        ...   \n",
       "2024-12-23  390.649994  55.549999   2.05  73.379997  53.490196  85.269997   \n",
       "2024-12-24  395.440002  56.360001   2.14  73.800003  54.070541  85.669998   \n",
       "2024-12-26  396.850006  56.480000   2.60  73.660004  54.444321  85.440002   \n",
       "2024-12-27  389.070007  55.360001   2.88  72.739998  53.785282  83.820000   \n",
       "2024-12-30  383.850006  54.560001   3.07  71.300003  53.431175  82.730003   \n",
       "\n",
       "Ticker              ZS        ^GSPC  \n",
       "Date                                 \n",
       "2024-01-02  212.369995  4742.830078  \n",
       "2024-01-03  210.240005  4704.810059  \n",
       "2024-01-04  210.330002  4688.680176  \n",
       "2024-01-05  209.809998  4697.240234  \n",
       "2024-01-08  218.100006  4763.540039  \n",
       "...                ...          ...  \n",
       "2024-12-23  185.940002  5974.069824  \n",
       "2024-12-24  187.259995  6040.040039  \n",
       "2024-12-26  187.630005  6037.589844  \n",
       "2024-12-27  184.559998  5970.839844  \n",
       "2024-12-30  183.130005  5906.939941  \n",
       "\n",
       "[251 rows x 501 columns]"
      ]
     },
     "execution_count": 7,
     "metadata": {},
     "output_type": "execute_result"
    }
   ],
   "source": [
    "stock_price = stock_price.dropna(axis=1)\n",
    "stock_price"
   ]
  },
  {
   "cell_type": "code",
   "execution_count": 8,
   "id": "daa8a6d2",
   "metadata": {},
   "outputs": [
    {
     "data": {
      "text/html": [
       "<div>\n",
       "<style scoped>\n",
       "    .dataframe tbody tr th:only-of-type {\n",
       "        vertical-align: middle;\n",
       "    }\n",
       "\n",
       "    .dataframe tbody tr th {\n",
       "        vertical-align: top;\n",
       "    }\n",
       "\n",
       "    .dataframe thead th {\n",
       "        text-align: right;\n",
       "    }\n",
       "</style>\n",
       "<table border=\"1\" class=\"dataframe\">\n",
       "  <thead>\n",
       "    <tr style=\"text-align: right;\">\n",
       "      <th></th>\n",
       "      <th>Symbol</th>\n",
       "      <th>Sector</th>\n",
       "    </tr>\n",
       "  </thead>\n",
       "  <tbody>\n",
       "    <tr>\n",
       "      <th>160</th>\n",
       "      <td>ABNB</td>\n",
       "      <td>Finance</td>\n",
       "    </tr>\n",
       "  </tbody>\n",
       "</table>\n",
       "</div>"
      ],
      "text/plain": [
       "    Symbol   Sector\n",
       "160   ABNB  Finance"
      ]
     },
     "execution_count": 8,
     "metadata": {},
     "output_type": "execute_result"
    }
   ],
   "source": [
    "returns = stock_price.pct_change().dropna()\n",
    "ticker = [col for col in stock_price.columns if col != market_ticker]\n",
    "stock_returns = returns[ticker]\n",
    "market_returns = returns[market_ticker]\n",
    "stock_returns\n",
    "\n",
    "PCA_df = data[['Symbol', 'Sector']]\n",
    "PCA_df[PCA_df['Symbol'].apply(lambda x: x in ticker)]\n",
    "PCA_df[PCA_df['Symbol'] == 'ABNB']"
   ]
  },
  {
   "cell_type": "code",
   "execution_count": 9,
   "id": "20540482",
   "metadata": {},
   "outputs": [
    {
     "name": "stderr",
     "output_type": "stream",
     "text": [
      "/var/folders/g5/7q0ynznx5hs03d9_7j1h1qbc0000gn/T/ipykernel_4282/3373143136.py:6: PerformanceWarning: DataFrame is highly fragmented.  This is usually the result of calling `frame.insert` many times, which has poor performance.  Consider joining all columns at once using pd.concat(axis=1) instead. To get a de-fragmented frame, use `newframe = frame.copy()`\n",
      "  residuals[tick] = model.resid\n",
      "/var/folders/g5/7q0ynznx5hs03d9_7j1h1qbc0000gn/T/ipykernel_4282/3373143136.py:6: PerformanceWarning: DataFrame is highly fragmented.  This is usually the result of calling `frame.insert` many times, which has poor performance.  Consider joining all columns at once using pd.concat(axis=1) instead. To get a de-fragmented frame, use `newframe = frame.copy()`\n",
      "  residuals[tick] = model.resid\n",
      "/var/folders/g5/7q0ynznx5hs03d9_7j1h1qbc0000gn/T/ipykernel_4282/3373143136.py:6: PerformanceWarning: DataFrame is highly fragmented.  This is usually the result of calling `frame.insert` many times, which has poor performance.  Consider joining all columns at once using pd.concat(axis=1) instead. To get a de-fragmented frame, use `newframe = frame.copy()`\n",
      "  residuals[tick] = model.resid\n",
      "/var/folders/g5/7q0ynznx5hs03d9_7j1h1qbc0000gn/T/ipykernel_4282/3373143136.py:6: PerformanceWarning: DataFrame is highly fragmented.  This is usually the result of calling `frame.insert` many times, which has poor performance.  Consider joining all columns at once using pd.concat(axis=1) instead. To get a de-fragmented frame, use `newframe = frame.copy()`\n",
      "  residuals[tick] = model.resid\n",
      "/var/folders/g5/7q0ynznx5hs03d9_7j1h1qbc0000gn/T/ipykernel_4282/3373143136.py:6: PerformanceWarning: DataFrame is highly fragmented.  This is usually the result of calling `frame.insert` many times, which has poor performance.  Consider joining all columns at once using pd.concat(axis=1) instead. To get a de-fragmented frame, use `newframe = frame.copy()`\n",
      "  residuals[tick] = model.resid\n",
      "/var/folders/g5/7q0ynznx5hs03d9_7j1h1qbc0000gn/T/ipykernel_4282/3373143136.py:6: PerformanceWarning: DataFrame is highly fragmented.  This is usually the result of calling `frame.insert` many times, which has poor performance.  Consider joining all columns at once using pd.concat(axis=1) instead. To get a de-fragmented frame, use `newframe = frame.copy()`\n",
      "  residuals[tick] = model.resid\n",
      "/var/folders/g5/7q0ynznx5hs03d9_7j1h1qbc0000gn/T/ipykernel_4282/3373143136.py:6: PerformanceWarning: DataFrame is highly fragmented.  This is usually the result of calling `frame.insert` many times, which has poor performance.  Consider joining all columns at once using pd.concat(axis=1) instead. To get a de-fragmented frame, use `newframe = frame.copy()`\n",
      "  residuals[tick] = model.resid\n",
      "/var/folders/g5/7q0ynznx5hs03d9_7j1h1qbc0000gn/T/ipykernel_4282/3373143136.py:6: PerformanceWarning: DataFrame is highly fragmented.  This is usually the result of calling `frame.insert` many times, which has poor performance.  Consider joining all columns at once using pd.concat(axis=1) instead. To get a de-fragmented frame, use `newframe = frame.copy()`\n",
      "  residuals[tick] = model.resid\n",
      "/var/folders/g5/7q0ynznx5hs03d9_7j1h1qbc0000gn/T/ipykernel_4282/3373143136.py:6: PerformanceWarning: DataFrame is highly fragmented.  This is usually the result of calling `frame.insert` many times, which has poor performance.  Consider joining all columns at once using pd.concat(axis=1) instead. To get a de-fragmented frame, use `newframe = frame.copy()`\n",
      "  residuals[tick] = model.resid\n",
      "/var/folders/g5/7q0ynznx5hs03d9_7j1h1qbc0000gn/T/ipykernel_4282/3373143136.py:6: PerformanceWarning: DataFrame is highly fragmented.  This is usually the result of calling `frame.insert` many times, which has poor performance.  Consider joining all columns at once using pd.concat(axis=1) instead. To get a de-fragmented frame, use `newframe = frame.copy()`\n",
      "  residuals[tick] = model.resid\n",
      "/var/folders/g5/7q0ynznx5hs03d9_7j1h1qbc0000gn/T/ipykernel_4282/3373143136.py:6: PerformanceWarning: DataFrame is highly fragmented.  This is usually the result of calling `frame.insert` many times, which has poor performance.  Consider joining all columns at once using pd.concat(axis=1) instead. To get a de-fragmented frame, use `newframe = frame.copy()`\n",
      "  residuals[tick] = model.resid\n",
      "/var/folders/g5/7q0ynznx5hs03d9_7j1h1qbc0000gn/T/ipykernel_4282/3373143136.py:6: PerformanceWarning: DataFrame is highly fragmented.  This is usually the result of calling `frame.insert` many times, which has poor performance.  Consider joining all columns at once using pd.concat(axis=1) instead. To get a de-fragmented frame, use `newframe = frame.copy()`\n",
      "  residuals[tick] = model.resid\n",
      "/var/folders/g5/7q0ynznx5hs03d9_7j1h1qbc0000gn/T/ipykernel_4282/3373143136.py:6: PerformanceWarning: DataFrame is highly fragmented.  This is usually the result of calling `frame.insert` many times, which has poor performance.  Consider joining all columns at once using pd.concat(axis=1) instead. To get a de-fragmented frame, use `newframe = frame.copy()`\n",
      "  residuals[tick] = model.resid\n",
      "/var/folders/g5/7q0ynznx5hs03d9_7j1h1qbc0000gn/T/ipykernel_4282/3373143136.py:6: PerformanceWarning: DataFrame is highly fragmented.  This is usually the result of calling `frame.insert` many times, which has poor performance.  Consider joining all columns at once using pd.concat(axis=1) instead. To get a de-fragmented frame, use `newframe = frame.copy()`\n",
      "  residuals[tick] = model.resid\n",
      "/var/folders/g5/7q0ynznx5hs03d9_7j1h1qbc0000gn/T/ipykernel_4282/3373143136.py:6: PerformanceWarning: DataFrame is highly fragmented.  This is usually the result of calling `frame.insert` many times, which has poor performance.  Consider joining all columns at once using pd.concat(axis=1) instead. To get a de-fragmented frame, use `newframe = frame.copy()`\n",
      "  residuals[tick] = model.resid\n",
      "/var/folders/g5/7q0ynznx5hs03d9_7j1h1qbc0000gn/T/ipykernel_4282/3373143136.py:6: PerformanceWarning: DataFrame is highly fragmented.  This is usually the result of calling `frame.insert` many times, which has poor performance.  Consider joining all columns at once using pd.concat(axis=1) instead. To get a de-fragmented frame, use `newframe = frame.copy()`\n",
      "  residuals[tick] = model.resid\n",
      "/var/folders/g5/7q0ynznx5hs03d9_7j1h1qbc0000gn/T/ipykernel_4282/3373143136.py:6: PerformanceWarning: DataFrame is highly fragmented.  This is usually the result of calling `frame.insert` many times, which has poor performance.  Consider joining all columns at once using pd.concat(axis=1) instead. To get a de-fragmented frame, use `newframe = frame.copy()`\n",
      "  residuals[tick] = model.resid\n",
      "/var/folders/g5/7q0ynznx5hs03d9_7j1h1qbc0000gn/T/ipykernel_4282/3373143136.py:6: PerformanceWarning: DataFrame is highly fragmented.  This is usually the result of calling `frame.insert` many times, which has poor performance.  Consider joining all columns at once using pd.concat(axis=1) instead. To get a de-fragmented frame, use `newframe = frame.copy()`\n",
      "  residuals[tick] = model.resid\n",
      "/var/folders/g5/7q0ynznx5hs03d9_7j1h1qbc0000gn/T/ipykernel_4282/3373143136.py:6: PerformanceWarning: DataFrame is highly fragmented.  This is usually the result of calling `frame.insert` many times, which has poor performance.  Consider joining all columns at once using pd.concat(axis=1) instead. To get a de-fragmented frame, use `newframe = frame.copy()`\n",
      "  residuals[tick] = model.resid\n",
      "/var/folders/g5/7q0ynznx5hs03d9_7j1h1qbc0000gn/T/ipykernel_4282/3373143136.py:6: PerformanceWarning: DataFrame is highly fragmented.  This is usually the result of calling `frame.insert` many times, which has poor performance.  Consider joining all columns at once using pd.concat(axis=1) instead. To get a de-fragmented frame, use `newframe = frame.copy()`\n",
      "  residuals[tick] = model.resid\n",
      "/var/folders/g5/7q0ynznx5hs03d9_7j1h1qbc0000gn/T/ipykernel_4282/3373143136.py:6: PerformanceWarning: DataFrame is highly fragmented.  This is usually the result of calling `frame.insert` many times, which has poor performance.  Consider joining all columns at once using pd.concat(axis=1) instead. To get a de-fragmented frame, use `newframe = frame.copy()`\n",
      "  residuals[tick] = model.resid\n",
      "/var/folders/g5/7q0ynznx5hs03d9_7j1h1qbc0000gn/T/ipykernel_4282/3373143136.py:6: PerformanceWarning: DataFrame is highly fragmented.  This is usually the result of calling `frame.insert` many times, which has poor performance.  Consider joining all columns at once using pd.concat(axis=1) instead. To get a de-fragmented frame, use `newframe = frame.copy()`\n",
      "  residuals[tick] = model.resid\n",
      "/var/folders/g5/7q0ynznx5hs03d9_7j1h1qbc0000gn/T/ipykernel_4282/3373143136.py:6: PerformanceWarning: DataFrame is highly fragmented.  This is usually the result of calling `frame.insert` many times, which has poor performance.  Consider joining all columns at once using pd.concat(axis=1) instead. To get a de-fragmented frame, use `newframe = frame.copy()`\n",
      "  residuals[tick] = model.resid\n",
      "/var/folders/g5/7q0ynznx5hs03d9_7j1h1qbc0000gn/T/ipykernel_4282/3373143136.py:6: PerformanceWarning: DataFrame is highly fragmented.  This is usually the result of calling `frame.insert` many times, which has poor performance.  Consider joining all columns at once using pd.concat(axis=1) instead. To get a de-fragmented frame, use `newframe = frame.copy()`\n",
      "  residuals[tick] = model.resid\n",
      "/var/folders/g5/7q0ynznx5hs03d9_7j1h1qbc0000gn/T/ipykernel_4282/3373143136.py:6: PerformanceWarning: DataFrame is highly fragmented.  This is usually the result of calling `frame.insert` many times, which has poor performance.  Consider joining all columns at once using pd.concat(axis=1) instead. To get a de-fragmented frame, use `newframe = frame.copy()`\n",
      "  residuals[tick] = model.resid\n",
      "/var/folders/g5/7q0ynznx5hs03d9_7j1h1qbc0000gn/T/ipykernel_4282/3373143136.py:6: PerformanceWarning: DataFrame is highly fragmented.  This is usually the result of calling `frame.insert` many times, which has poor performance.  Consider joining all columns at once using pd.concat(axis=1) instead. To get a de-fragmented frame, use `newframe = frame.copy()`\n",
      "  residuals[tick] = model.resid\n",
      "/var/folders/g5/7q0ynznx5hs03d9_7j1h1qbc0000gn/T/ipykernel_4282/3373143136.py:6: PerformanceWarning: DataFrame is highly fragmented.  This is usually the result of calling `frame.insert` many times, which has poor performance.  Consider joining all columns at once using pd.concat(axis=1) instead. To get a de-fragmented frame, use `newframe = frame.copy()`\n",
      "  residuals[tick] = model.resid\n",
      "/var/folders/g5/7q0ynznx5hs03d9_7j1h1qbc0000gn/T/ipykernel_4282/3373143136.py:6: PerformanceWarning: DataFrame is highly fragmented.  This is usually the result of calling `frame.insert` many times, which has poor performance.  Consider joining all columns at once using pd.concat(axis=1) instead. To get a de-fragmented frame, use `newframe = frame.copy()`\n",
      "  residuals[tick] = model.resid\n",
      "/var/folders/g5/7q0ynznx5hs03d9_7j1h1qbc0000gn/T/ipykernel_4282/3373143136.py:6: PerformanceWarning: DataFrame is highly fragmented.  This is usually the result of calling `frame.insert` many times, which has poor performance.  Consider joining all columns at once using pd.concat(axis=1) instead. To get a de-fragmented frame, use `newframe = frame.copy()`\n",
      "  residuals[tick] = model.resid\n",
      "/var/folders/g5/7q0ynznx5hs03d9_7j1h1qbc0000gn/T/ipykernel_4282/3373143136.py:6: PerformanceWarning: DataFrame is highly fragmented.  This is usually the result of calling `frame.insert` many times, which has poor performance.  Consider joining all columns at once using pd.concat(axis=1) instead. To get a de-fragmented frame, use `newframe = frame.copy()`\n",
      "  residuals[tick] = model.resid\n",
      "/var/folders/g5/7q0ynznx5hs03d9_7j1h1qbc0000gn/T/ipykernel_4282/3373143136.py:6: PerformanceWarning: DataFrame is highly fragmented.  This is usually the result of calling `frame.insert` many times, which has poor performance.  Consider joining all columns at once using pd.concat(axis=1) instead. To get a de-fragmented frame, use `newframe = frame.copy()`\n",
      "  residuals[tick] = model.resid\n",
      "/var/folders/g5/7q0ynznx5hs03d9_7j1h1qbc0000gn/T/ipykernel_4282/3373143136.py:6: PerformanceWarning: DataFrame is highly fragmented.  This is usually the result of calling `frame.insert` many times, which has poor performance.  Consider joining all columns at once using pd.concat(axis=1) instead. To get a de-fragmented frame, use `newframe = frame.copy()`\n",
      "  residuals[tick] = model.resid\n",
      "/var/folders/g5/7q0ynznx5hs03d9_7j1h1qbc0000gn/T/ipykernel_4282/3373143136.py:6: PerformanceWarning: DataFrame is highly fragmented.  This is usually the result of calling `frame.insert` many times, which has poor performance.  Consider joining all columns at once using pd.concat(axis=1) instead. To get a de-fragmented frame, use `newframe = frame.copy()`\n",
      "  residuals[tick] = model.resid\n",
      "/var/folders/g5/7q0ynznx5hs03d9_7j1h1qbc0000gn/T/ipykernel_4282/3373143136.py:6: PerformanceWarning: DataFrame is highly fragmented.  This is usually the result of calling `frame.insert` many times, which has poor performance.  Consider joining all columns at once using pd.concat(axis=1) instead. To get a de-fragmented frame, use `newframe = frame.copy()`\n",
      "  residuals[tick] = model.resid\n",
      "/var/folders/g5/7q0ynznx5hs03d9_7j1h1qbc0000gn/T/ipykernel_4282/3373143136.py:6: PerformanceWarning: DataFrame is highly fragmented.  This is usually the result of calling `frame.insert` many times, which has poor performance.  Consider joining all columns at once using pd.concat(axis=1) instead. To get a de-fragmented frame, use `newframe = frame.copy()`\n",
      "  residuals[tick] = model.resid\n",
      "/var/folders/g5/7q0ynznx5hs03d9_7j1h1qbc0000gn/T/ipykernel_4282/3373143136.py:6: PerformanceWarning: DataFrame is highly fragmented.  This is usually the result of calling `frame.insert` many times, which has poor performance.  Consider joining all columns at once using pd.concat(axis=1) instead. To get a de-fragmented frame, use `newframe = frame.copy()`\n",
      "  residuals[tick] = model.resid\n",
      "/var/folders/g5/7q0ynznx5hs03d9_7j1h1qbc0000gn/T/ipykernel_4282/3373143136.py:6: PerformanceWarning: DataFrame is highly fragmented.  This is usually the result of calling `frame.insert` many times, which has poor performance.  Consider joining all columns at once using pd.concat(axis=1) instead. To get a de-fragmented frame, use `newframe = frame.copy()`\n",
      "  residuals[tick] = model.resid\n",
      "/var/folders/g5/7q0ynznx5hs03d9_7j1h1qbc0000gn/T/ipykernel_4282/3373143136.py:6: PerformanceWarning: DataFrame is highly fragmented.  This is usually the result of calling `frame.insert` many times, which has poor performance.  Consider joining all columns at once using pd.concat(axis=1) instead. To get a de-fragmented frame, use `newframe = frame.copy()`\n",
      "  residuals[tick] = model.resid\n",
      "/var/folders/g5/7q0ynznx5hs03d9_7j1h1qbc0000gn/T/ipykernel_4282/3373143136.py:6: PerformanceWarning: DataFrame is highly fragmented.  This is usually the result of calling `frame.insert` many times, which has poor performance.  Consider joining all columns at once using pd.concat(axis=1) instead. To get a de-fragmented frame, use `newframe = frame.copy()`\n",
      "  residuals[tick] = model.resid\n",
      "/var/folders/g5/7q0ynznx5hs03d9_7j1h1qbc0000gn/T/ipykernel_4282/3373143136.py:6: PerformanceWarning: DataFrame is highly fragmented.  This is usually the result of calling `frame.insert` many times, which has poor performance.  Consider joining all columns at once using pd.concat(axis=1) instead. To get a de-fragmented frame, use `newframe = frame.copy()`\n",
      "  residuals[tick] = model.resid\n",
      "/var/folders/g5/7q0ynznx5hs03d9_7j1h1qbc0000gn/T/ipykernel_4282/3373143136.py:6: PerformanceWarning: DataFrame is highly fragmented.  This is usually the result of calling `frame.insert` many times, which has poor performance.  Consider joining all columns at once using pd.concat(axis=1) instead. To get a de-fragmented frame, use `newframe = frame.copy()`\n",
      "  residuals[tick] = model.resid\n",
      "/var/folders/g5/7q0ynznx5hs03d9_7j1h1qbc0000gn/T/ipykernel_4282/3373143136.py:6: PerformanceWarning: DataFrame is highly fragmented.  This is usually the result of calling `frame.insert` many times, which has poor performance.  Consider joining all columns at once using pd.concat(axis=1) instead. To get a de-fragmented frame, use `newframe = frame.copy()`\n",
      "  residuals[tick] = model.resid\n",
      "/var/folders/g5/7q0ynznx5hs03d9_7j1h1qbc0000gn/T/ipykernel_4282/3373143136.py:6: PerformanceWarning: DataFrame is highly fragmented.  This is usually the result of calling `frame.insert` many times, which has poor performance.  Consider joining all columns at once using pd.concat(axis=1) instead. To get a de-fragmented frame, use `newframe = frame.copy()`\n",
      "  residuals[tick] = model.resid\n",
      "/var/folders/g5/7q0ynznx5hs03d9_7j1h1qbc0000gn/T/ipykernel_4282/3373143136.py:6: PerformanceWarning: DataFrame is highly fragmented.  This is usually the result of calling `frame.insert` many times, which has poor performance.  Consider joining all columns at once using pd.concat(axis=1) instead. To get a de-fragmented frame, use `newframe = frame.copy()`\n",
      "  residuals[tick] = model.resid\n",
      "/var/folders/g5/7q0ynznx5hs03d9_7j1h1qbc0000gn/T/ipykernel_4282/3373143136.py:6: PerformanceWarning: DataFrame is highly fragmented.  This is usually the result of calling `frame.insert` many times, which has poor performance.  Consider joining all columns at once using pd.concat(axis=1) instead. To get a de-fragmented frame, use `newframe = frame.copy()`\n",
      "  residuals[tick] = model.resid\n",
      "/var/folders/g5/7q0ynznx5hs03d9_7j1h1qbc0000gn/T/ipykernel_4282/3373143136.py:6: PerformanceWarning: DataFrame is highly fragmented.  This is usually the result of calling `frame.insert` many times, which has poor performance.  Consider joining all columns at once using pd.concat(axis=1) instead. To get a de-fragmented frame, use `newframe = frame.copy()`\n",
      "  residuals[tick] = model.resid\n",
      "/var/folders/g5/7q0ynznx5hs03d9_7j1h1qbc0000gn/T/ipykernel_4282/3373143136.py:6: PerformanceWarning: DataFrame is highly fragmented.  This is usually the result of calling `frame.insert` many times, which has poor performance.  Consider joining all columns at once using pd.concat(axis=1) instead. To get a de-fragmented frame, use `newframe = frame.copy()`\n",
      "  residuals[tick] = model.resid\n",
      "/var/folders/g5/7q0ynznx5hs03d9_7j1h1qbc0000gn/T/ipykernel_4282/3373143136.py:6: PerformanceWarning: DataFrame is highly fragmented.  This is usually the result of calling `frame.insert` many times, which has poor performance.  Consider joining all columns at once using pd.concat(axis=1) instead. To get a de-fragmented frame, use `newframe = frame.copy()`\n",
      "  residuals[tick] = model.resid\n",
      "/var/folders/g5/7q0ynznx5hs03d9_7j1h1qbc0000gn/T/ipykernel_4282/3373143136.py:6: PerformanceWarning: DataFrame is highly fragmented.  This is usually the result of calling `frame.insert` many times, which has poor performance.  Consider joining all columns at once using pd.concat(axis=1) instead. To get a de-fragmented frame, use `newframe = frame.copy()`\n",
      "  residuals[tick] = model.resid\n",
      "/var/folders/g5/7q0ynznx5hs03d9_7j1h1qbc0000gn/T/ipykernel_4282/3373143136.py:6: PerformanceWarning: DataFrame is highly fragmented.  This is usually the result of calling `frame.insert` many times, which has poor performance.  Consider joining all columns at once using pd.concat(axis=1) instead. To get a de-fragmented frame, use `newframe = frame.copy()`\n",
      "  residuals[tick] = model.resid\n",
      "/var/folders/g5/7q0ynznx5hs03d9_7j1h1qbc0000gn/T/ipykernel_4282/3373143136.py:6: PerformanceWarning: DataFrame is highly fragmented.  This is usually the result of calling `frame.insert` many times, which has poor performance.  Consider joining all columns at once using pd.concat(axis=1) instead. To get a de-fragmented frame, use `newframe = frame.copy()`\n",
      "  residuals[tick] = model.resid\n",
      "/var/folders/g5/7q0ynznx5hs03d9_7j1h1qbc0000gn/T/ipykernel_4282/3373143136.py:6: PerformanceWarning: DataFrame is highly fragmented.  This is usually the result of calling `frame.insert` many times, which has poor performance.  Consider joining all columns at once using pd.concat(axis=1) instead. To get a de-fragmented frame, use `newframe = frame.copy()`\n",
      "  residuals[tick] = model.resid\n",
      "/var/folders/g5/7q0ynznx5hs03d9_7j1h1qbc0000gn/T/ipykernel_4282/3373143136.py:6: PerformanceWarning: DataFrame is highly fragmented.  This is usually the result of calling `frame.insert` many times, which has poor performance.  Consider joining all columns at once using pd.concat(axis=1) instead. To get a de-fragmented frame, use `newframe = frame.copy()`\n",
      "  residuals[tick] = model.resid\n",
      "/var/folders/g5/7q0ynznx5hs03d9_7j1h1qbc0000gn/T/ipykernel_4282/3373143136.py:6: PerformanceWarning: DataFrame is highly fragmented.  This is usually the result of calling `frame.insert` many times, which has poor performance.  Consider joining all columns at once using pd.concat(axis=1) instead. To get a de-fragmented frame, use `newframe = frame.copy()`\n",
      "  residuals[tick] = model.resid\n",
      "/var/folders/g5/7q0ynznx5hs03d9_7j1h1qbc0000gn/T/ipykernel_4282/3373143136.py:6: PerformanceWarning: DataFrame is highly fragmented.  This is usually the result of calling `frame.insert` many times, which has poor performance.  Consider joining all columns at once using pd.concat(axis=1) instead. To get a de-fragmented frame, use `newframe = frame.copy()`\n",
      "  residuals[tick] = model.resid\n",
      "/var/folders/g5/7q0ynznx5hs03d9_7j1h1qbc0000gn/T/ipykernel_4282/3373143136.py:6: PerformanceWarning: DataFrame is highly fragmented.  This is usually the result of calling `frame.insert` many times, which has poor performance.  Consider joining all columns at once using pd.concat(axis=1) instead. To get a de-fragmented frame, use `newframe = frame.copy()`\n",
      "  residuals[tick] = model.resid\n",
      "/var/folders/g5/7q0ynznx5hs03d9_7j1h1qbc0000gn/T/ipykernel_4282/3373143136.py:6: PerformanceWarning: DataFrame is highly fragmented.  This is usually the result of calling `frame.insert` many times, which has poor performance.  Consider joining all columns at once using pd.concat(axis=1) instead. To get a de-fragmented frame, use `newframe = frame.copy()`\n",
      "  residuals[tick] = model.resid\n",
      "/var/folders/g5/7q0ynznx5hs03d9_7j1h1qbc0000gn/T/ipykernel_4282/3373143136.py:6: PerformanceWarning: DataFrame is highly fragmented.  This is usually the result of calling `frame.insert` many times, which has poor performance.  Consider joining all columns at once using pd.concat(axis=1) instead. To get a de-fragmented frame, use `newframe = frame.copy()`\n",
      "  residuals[tick] = model.resid\n",
      "/var/folders/g5/7q0ynznx5hs03d9_7j1h1qbc0000gn/T/ipykernel_4282/3373143136.py:6: PerformanceWarning: DataFrame is highly fragmented.  This is usually the result of calling `frame.insert` many times, which has poor performance.  Consider joining all columns at once using pd.concat(axis=1) instead. To get a de-fragmented frame, use `newframe = frame.copy()`\n",
      "  residuals[tick] = model.resid\n",
      "/var/folders/g5/7q0ynznx5hs03d9_7j1h1qbc0000gn/T/ipykernel_4282/3373143136.py:6: PerformanceWarning: DataFrame is highly fragmented.  This is usually the result of calling `frame.insert` many times, which has poor performance.  Consider joining all columns at once using pd.concat(axis=1) instead. To get a de-fragmented frame, use `newframe = frame.copy()`\n",
      "  residuals[tick] = model.resid\n",
      "/var/folders/g5/7q0ynznx5hs03d9_7j1h1qbc0000gn/T/ipykernel_4282/3373143136.py:6: PerformanceWarning: DataFrame is highly fragmented.  This is usually the result of calling `frame.insert` many times, which has poor performance.  Consider joining all columns at once using pd.concat(axis=1) instead. To get a de-fragmented frame, use `newframe = frame.copy()`\n",
      "  residuals[tick] = model.resid\n",
      "/var/folders/g5/7q0ynznx5hs03d9_7j1h1qbc0000gn/T/ipykernel_4282/3373143136.py:6: PerformanceWarning: DataFrame is highly fragmented.  This is usually the result of calling `frame.insert` many times, which has poor performance.  Consider joining all columns at once using pd.concat(axis=1) instead. To get a de-fragmented frame, use `newframe = frame.copy()`\n",
      "  residuals[tick] = model.resid\n",
      "/var/folders/g5/7q0ynznx5hs03d9_7j1h1qbc0000gn/T/ipykernel_4282/3373143136.py:6: PerformanceWarning: DataFrame is highly fragmented.  This is usually the result of calling `frame.insert` many times, which has poor performance.  Consider joining all columns at once using pd.concat(axis=1) instead. To get a de-fragmented frame, use `newframe = frame.copy()`\n",
      "  residuals[tick] = model.resid\n",
      "/var/folders/g5/7q0ynznx5hs03d9_7j1h1qbc0000gn/T/ipykernel_4282/3373143136.py:6: PerformanceWarning: DataFrame is highly fragmented.  This is usually the result of calling `frame.insert` many times, which has poor performance.  Consider joining all columns at once using pd.concat(axis=1) instead. To get a de-fragmented frame, use `newframe = frame.copy()`\n",
      "  residuals[tick] = model.resid\n",
      "/var/folders/g5/7q0ynznx5hs03d9_7j1h1qbc0000gn/T/ipykernel_4282/3373143136.py:6: PerformanceWarning: DataFrame is highly fragmented.  This is usually the result of calling `frame.insert` many times, which has poor performance.  Consider joining all columns at once using pd.concat(axis=1) instead. To get a de-fragmented frame, use `newframe = frame.copy()`\n",
      "  residuals[tick] = model.resid\n",
      "/var/folders/g5/7q0ynznx5hs03d9_7j1h1qbc0000gn/T/ipykernel_4282/3373143136.py:6: PerformanceWarning: DataFrame is highly fragmented.  This is usually the result of calling `frame.insert` many times, which has poor performance.  Consider joining all columns at once using pd.concat(axis=1) instead. To get a de-fragmented frame, use `newframe = frame.copy()`\n",
      "  residuals[tick] = model.resid\n",
      "/var/folders/g5/7q0ynznx5hs03d9_7j1h1qbc0000gn/T/ipykernel_4282/3373143136.py:6: PerformanceWarning: DataFrame is highly fragmented.  This is usually the result of calling `frame.insert` many times, which has poor performance.  Consider joining all columns at once using pd.concat(axis=1) instead. To get a de-fragmented frame, use `newframe = frame.copy()`\n",
      "  residuals[tick] = model.resid\n",
      "/var/folders/g5/7q0ynznx5hs03d9_7j1h1qbc0000gn/T/ipykernel_4282/3373143136.py:6: PerformanceWarning: DataFrame is highly fragmented.  This is usually the result of calling `frame.insert` many times, which has poor performance.  Consider joining all columns at once using pd.concat(axis=1) instead. To get a de-fragmented frame, use `newframe = frame.copy()`\n",
      "  residuals[tick] = model.resid\n",
      "/var/folders/g5/7q0ynznx5hs03d9_7j1h1qbc0000gn/T/ipykernel_4282/3373143136.py:6: PerformanceWarning: DataFrame is highly fragmented.  This is usually the result of calling `frame.insert` many times, which has poor performance.  Consider joining all columns at once using pd.concat(axis=1) instead. To get a de-fragmented frame, use `newframe = frame.copy()`\n",
      "  residuals[tick] = model.resid\n",
      "/var/folders/g5/7q0ynznx5hs03d9_7j1h1qbc0000gn/T/ipykernel_4282/3373143136.py:6: PerformanceWarning: DataFrame is highly fragmented.  This is usually the result of calling `frame.insert` many times, which has poor performance.  Consider joining all columns at once using pd.concat(axis=1) instead. To get a de-fragmented frame, use `newframe = frame.copy()`\n",
      "  residuals[tick] = model.resid\n",
      "/var/folders/g5/7q0ynznx5hs03d9_7j1h1qbc0000gn/T/ipykernel_4282/3373143136.py:6: PerformanceWarning: DataFrame is highly fragmented.  This is usually the result of calling `frame.insert` many times, which has poor performance.  Consider joining all columns at once using pd.concat(axis=1) instead. To get a de-fragmented frame, use `newframe = frame.copy()`\n",
      "  residuals[tick] = model.resid\n",
      "/var/folders/g5/7q0ynznx5hs03d9_7j1h1qbc0000gn/T/ipykernel_4282/3373143136.py:6: PerformanceWarning: DataFrame is highly fragmented.  This is usually the result of calling `frame.insert` many times, which has poor performance.  Consider joining all columns at once using pd.concat(axis=1) instead. To get a de-fragmented frame, use `newframe = frame.copy()`\n",
      "  residuals[tick] = model.resid\n",
      "/var/folders/g5/7q0ynznx5hs03d9_7j1h1qbc0000gn/T/ipykernel_4282/3373143136.py:6: PerformanceWarning: DataFrame is highly fragmented.  This is usually the result of calling `frame.insert` many times, which has poor performance.  Consider joining all columns at once using pd.concat(axis=1) instead. To get a de-fragmented frame, use `newframe = frame.copy()`\n",
      "  residuals[tick] = model.resid\n",
      "/var/folders/g5/7q0ynznx5hs03d9_7j1h1qbc0000gn/T/ipykernel_4282/3373143136.py:6: PerformanceWarning: DataFrame is highly fragmented.  This is usually the result of calling `frame.insert` many times, which has poor performance.  Consider joining all columns at once using pd.concat(axis=1) instead. To get a de-fragmented frame, use `newframe = frame.copy()`\n",
      "  residuals[tick] = model.resid\n",
      "/var/folders/g5/7q0ynznx5hs03d9_7j1h1qbc0000gn/T/ipykernel_4282/3373143136.py:6: PerformanceWarning: DataFrame is highly fragmented.  This is usually the result of calling `frame.insert` many times, which has poor performance.  Consider joining all columns at once using pd.concat(axis=1) instead. To get a de-fragmented frame, use `newframe = frame.copy()`\n",
      "  residuals[tick] = model.resid\n",
      "/var/folders/g5/7q0ynznx5hs03d9_7j1h1qbc0000gn/T/ipykernel_4282/3373143136.py:6: PerformanceWarning: DataFrame is highly fragmented.  This is usually the result of calling `frame.insert` many times, which has poor performance.  Consider joining all columns at once using pd.concat(axis=1) instead. To get a de-fragmented frame, use `newframe = frame.copy()`\n",
      "  residuals[tick] = model.resid\n",
      "/var/folders/g5/7q0ynznx5hs03d9_7j1h1qbc0000gn/T/ipykernel_4282/3373143136.py:6: PerformanceWarning: DataFrame is highly fragmented.  This is usually the result of calling `frame.insert` many times, which has poor performance.  Consider joining all columns at once using pd.concat(axis=1) instead. To get a de-fragmented frame, use `newframe = frame.copy()`\n",
      "  residuals[tick] = model.resid\n",
      "/var/folders/g5/7q0ynznx5hs03d9_7j1h1qbc0000gn/T/ipykernel_4282/3373143136.py:6: PerformanceWarning: DataFrame is highly fragmented.  This is usually the result of calling `frame.insert` many times, which has poor performance.  Consider joining all columns at once using pd.concat(axis=1) instead. To get a de-fragmented frame, use `newframe = frame.copy()`\n",
      "  residuals[tick] = model.resid\n",
      "/var/folders/g5/7q0ynznx5hs03d9_7j1h1qbc0000gn/T/ipykernel_4282/3373143136.py:6: PerformanceWarning: DataFrame is highly fragmented.  This is usually the result of calling `frame.insert` many times, which has poor performance.  Consider joining all columns at once using pd.concat(axis=1) instead. To get a de-fragmented frame, use `newframe = frame.copy()`\n",
      "  residuals[tick] = model.resid\n",
      "/var/folders/g5/7q0ynznx5hs03d9_7j1h1qbc0000gn/T/ipykernel_4282/3373143136.py:6: PerformanceWarning: DataFrame is highly fragmented.  This is usually the result of calling `frame.insert` many times, which has poor performance.  Consider joining all columns at once using pd.concat(axis=1) instead. To get a de-fragmented frame, use `newframe = frame.copy()`\n",
      "  residuals[tick] = model.resid\n",
      "/var/folders/g5/7q0ynznx5hs03d9_7j1h1qbc0000gn/T/ipykernel_4282/3373143136.py:6: PerformanceWarning: DataFrame is highly fragmented.  This is usually the result of calling `frame.insert` many times, which has poor performance.  Consider joining all columns at once using pd.concat(axis=1) instead. To get a de-fragmented frame, use `newframe = frame.copy()`\n",
      "  residuals[tick] = model.resid\n",
      "/var/folders/g5/7q0ynznx5hs03d9_7j1h1qbc0000gn/T/ipykernel_4282/3373143136.py:6: PerformanceWarning: DataFrame is highly fragmented.  This is usually the result of calling `frame.insert` many times, which has poor performance.  Consider joining all columns at once using pd.concat(axis=1) instead. To get a de-fragmented frame, use `newframe = frame.copy()`\n",
      "  residuals[tick] = model.resid\n",
      "/var/folders/g5/7q0ynznx5hs03d9_7j1h1qbc0000gn/T/ipykernel_4282/3373143136.py:6: PerformanceWarning: DataFrame is highly fragmented.  This is usually the result of calling `frame.insert` many times, which has poor performance.  Consider joining all columns at once using pd.concat(axis=1) instead. To get a de-fragmented frame, use `newframe = frame.copy()`\n",
      "  residuals[tick] = model.resid\n",
      "/var/folders/g5/7q0ynznx5hs03d9_7j1h1qbc0000gn/T/ipykernel_4282/3373143136.py:6: PerformanceWarning: DataFrame is highly fragmented.  This is usually the result of calling `frame.insert` many times, which has poor performance.  Consider joining all columns at once using pd.concat(axis=1) instead. To get a de-fragmented frame, use `newframe = frame.copy()`\n",
      "  residuals[tick] = model.resid\n",
      "/var/folders/g5/7q0ynznx5hs03d9_7j1h1qbc0000gn/T/ipykernel_4282/3373143136.py:6: PerformanceWarning: DataFrame is highly fragmented.  This is usually the result of calling `frame.insert` many times, which has poor performance.  Consider joining all columns at once using pd.concat(axis=1) instead. To get a de-fragmented frame, use `newframe = frame.copy()`\n",
      "  residuals[tick] = model.resid\n",
      "/var/folders/g5/7q0ynznx5hs03d9_7j1h1qbc0000gn/T/ipykernel_4282/3373143136.py:6: PerformanceWarning: DataFrame is highly fragmented.  This is usually the result of calling `frame.insert` many times, which has poor performance.  Consider joining all columns at once using pd.concat(axis=1) instead. To get a de-fragmented frame, use `newframe = frame.copy()`\n",
      "  residuals[tick] = model.resid\n",
      "/var/folders/g5/7q0ynznx5hs03d9_7j1h1qbc0000gn/T/ipykernel_4282/3373143136.py:6: PerformanceWarning: DataFrame is highly fragmented.  This is usually the result of calling `frame.insert` many times, which has poor performance.  Consider joining all columns at once using pd.concat(axis=1) instead. To get a de-fragmented frame, use `newframe = frame.copy()`\n",
      "  residuals[tick] = model.resid\n",
      "/var/folders/g5/7q0ynznx5hs03d9_7j1h1qbc0000gn/T/ipykernel_4282/3373143136.py:6: PerformanceWarning: DataFrame is highly fragmented.  This is usually the result of calling `frame.insert` many times, which has poor performance.  Consider joining all columns at once using pd.concat(axis=1) instead. To get a de-fragmented frame, use `newframe = frame.copy()`\n",
      "  residuals[tick] = model.resid\n",
      "/var/folders/g5/7q0ynznx5hs03d9_7j1h1qbc0000gn/T/ipykernel_4282/3373143136.py:6: PerformanceWarning: DataFrame is highly fragmented.  This is usually the result of calling `frame.insert` many times, which has poor performance.  Consider joining all columns at once using pd.concat(axis=1) instead. To get a de-fragmented frame, use `newframe = frame.copy()`\n",
      "  residuals[tick] = model.resid\n",
      "/var/folders/g5/7q0ynznx5hs03d9_7j1h1qbc0000gn/T/ipykernel_4282/3373143136.py:6: PerformanceWarning: DataFrame is highly fragmented.  This is usually the result of calling `frame.insert` many times, which has poor performance.  Consider joining all columns at once using pd.concat(axis=1) instead. To get a de-fragmented frame, use `newframe = frame.copy()`\n",
      "  residuals[tick] = model.resid\n",
      "/var/folders/g5/7q0ynznx5hs03d9_7j1h1qbc0000gn/T/ipykernel_4282/3373143136.py:6: PerformanceWarning: DataFrame is highly fragmented.  This is usually the result of calling `frame.insert` many times, which has poor performance.  Consider joining all columns at once using pd.concat(axis=1) instead. To get a de-fragmented frame, use `newframe = frame.copy()`\n",
      "  residuals[tick] = model.resid\n",
      "/var/folders/g5/7q0ynznx5hs03d9_7j1h1qbc0000gn/T/ipykernel_4282/3373143136.py:6: PerformanceWarning: DataFrame is highly fragmented.  This is usually the result of calling `frame.insert` many times, which has poor performance.  Consider joining all columns at once using pd.concat(axis=1) instead. To get a de-fragmented frame, use `newframe = frame.copy()`\n",
      "  residuals[tick] = model.resid\n",
      "/var/folders/g5/7q0ynznx5hs03d9_7j1h1qbc0000gn/T/ipykernel_4282/3373143136.py:6: PerformanceWarning: DataFrame is highly fragmented.  This is usually the result of calling `frame.insert` many times, which has poor performance.  Consider joining all columns at once using pd.concat(axis=1) instead. To get a de-fragmented frame, use `newframe = frame.copy()`\n",
      "  residuals[tick] = model.resid\n",
      "/var/folders/g5/7q0ynznx5hs03d9_7j1h1qbc0000gn/T/ipykernel_4282/3373143136.py:6: PerformanceWarning: DataFrame is highly fragmented.  This is usually the result of calling `frame.insert` many times, which has poor performance.  Consider joining all columns at once using pd.concat(axis=1) instead. To get a de-fragmented frame, use `newframe = frame.copy()`\n",
      "  residuals[tick] = model.resid\n",
      "/var/folders/g5/7q0ynznx5hs03d9_7j1h1qbc0000gn/T/ipykernel_4282/3373143136.py:6: PerformanceWarning: DataFrame is highly fragmented.  This is usually the result of calling `frame.insert` many times, which has poor performance.  Consider joining all columns at once using pd.concat(axis=1) instead. To get a de-fragmented frame, use `newframe = frame.copy()`\n",
      "  residuals[tick] = model.resid\n",
      "/var/folders/g5/7q0ynznx5hs03d9_7j1h1qbc0000gn/T/ipykernel_4282/3373143136.py:6: PerformanceWarning: DataFrame is highly fragmented.  This is usually the result of calling `frame.insert` many times, which has poor performance.  Consider joining all columns at once using pd.concat(axis=1) instead. To get a de-fragmented frame, use `newframe = frame.copy()`\n",
      "  residuals[tick] = model.resid\n",
      "/var/folders/g5/7q0ynznx5hs03d9_7j1h1qbc0000gn/T/ipykernel_4282/3373143136.py:6: PerformanceWarning: DataFrame is highly fragmented.  This is usually the result of calling `frame.insert` many times, which has poor performance.  Consider joining all columns at once using pd.concat(axis=1) instead. To get a de-fragmented frame, use `newframe = frame.copy()`\n",
      "  residuals[tick] = model.resid\n",
      "/var/folders/g5/7q0ynznx5hs03d9_7j1h1qbc0000gn/T/ipykernel_4282/3373143136.py:6: PerformanceWarning: DataFrame is highly fragmented.  This is usually the result of calling `frame.insert` many times, which has poor performance.  Consider joining all columns at once using pd.concat(axis=1) instead. To get a de-fragmented frame, use `newframe = frame.copy()`\n",
      "  residuals[tick] = model.resid\n",
      "/var/folders/g5/7q0ynznx5hs03d9_7j1h1qbc0000gn/T/ipykernel_4282/3373143136.py:6: PerformanceWarning: DataFrame is highly fragmented.  This is usually the result of calling `frame.insert` many times, which has poor performance.  Consider joining all columns at once using pd.concat(axis=1) instead. To get a de-fragmented frame, use `newframe = frame.copy()`\n",
      "  residuals[tick] = model.resid\n",
      "/var/folders/g5/7q0ynznx5hs03d9_7j1h1qbc0000gn/T/ipykernel_4282/3373143136.py:6: PerformanceWarning: DataFrame is highly fragmented.  This is usually the result of calling `frame.insert` many times, which has poor performance.  Consider joining all columns at once using pd.concat(axis=1) instead. To get a de-fragmented frame, use `newframe = frame.copy()`\n",
      "  residuals[tick] = model.resid\n",
      "/var/folders/g5/7q0ynznx5hs03d9_7j1h1qbc0000gn/T/ipykernel_4282/3373143136.py:6: PerformanceWarning: DataFrame is highly fragmented.  This is usually the result of calling `frame.insert` many times, which has poor performance.  Consider joining all columns at once using pd.concat(axis=1) instead. To get a de-fragmented frame, use `newframe = frame.copy()`\n",
      "  residuals[tick] = model.resid\n",
      "/var/folders/g5/7q0ynznx5hs03d9_7j1h1qbc0000gn/T/ipykernel_4282/3373143136.py:6: PerformanceWarning: DataFrame is highly fragmented.  This is usually the result of calling `frame.insert` many times, which has poor performance.  Consider joining all columns at once using pd.concat(axis=1) instead. To get a de-fragmented frame, use `newframe = frame.copy()`\n",
      "  residuals[tick] = model.resid\n",
      "/var/folders/g5/7q0ynznx5hs03d9_7j1h1qbc0000gn/T/ipykernel_4282/3373143136.py:6: PerformanceWarning: DataFrame is highly fragmented.  This is usually the result of calling `frame.insert` many times, which has poor performance.  Consider joining all columns at once using pd.concat(axis=1) instead. To get a de-fragmented frame, use `newframe = frame.copy()`\n",
      "  residuals[tick] = model.resid\n",
      "/var/folders/g5/7q0ynznx5hs03d9_7j1h1qbc0000gn/T/ipykernel_4282/3373143136.py:6: PerformanceWarning: DataFrame is highly fragmented.  This is usually the result of calling `frame.insert` many times, which has poor performance.  Consider joining all columns at once using pd.concat(axis=1) instead. To get a de-fragmented frame, use `newframe = frame.copy()`\n",
      "  residuals[tick] = model.resid\n",
      "/var/folders/g5/7q0ynznx5hs03d9_7j1h1qbc0000gn/T/ipykernel_4282/3373143136.py:6: PerformanceWarning: DataFrame is highly fragmented.  This is usually the result of calling `frame.insert` many times, which has poor performance.  Consider joining all columns at once using pd.concat(axis=1) instead. To get a de-fragmented frame, use `newframe = frame.copy()`\n",
      "  residuals[tick] = model.resid\n",
      "/var/folders/g5/7q0ynznx5hs03d9_7j1h1qbc0000gn/T/ipykernel_4282/3373143136.py:6: PerformanceWarning: DataFrame is highly fragmented.  This is usually the result of calling `frame.insert` many times, which has poor performance.  Consider joining all columns at once using pd.concat(axis=1) instead. To get a de-fragmented frame, use `newframe = frame.copy()`\n",
      "  residuals[tick] = model.resid\n",
      "/var/folders/g5/7q0ynznx5hs03d9_7j1h1qbc0000gn/T/ipykernel_4282/3373143136.py:6: PerformanceWarning: DataFrame is highly fragmented.  This is usually the result of calling `frame.insert` many times, which has poor performance.  Consider joining all columns at once using pd.concat(axis=1) instead. To get a de-fragmented frame, use `newframe = frame.copy()`\n",
      "  residuals[tick] = model.resid\n",
      "/var/folders/g5/7q0ynznx5hs03d9_7j1h1qbc0000gn/T/ipykernel_4282/3373143136.py:6: PerformanceWarning: DataFrame is highly fragmented.  This is usually the result of calling `frame.insert` many times, which has poor performance.  Consider joining all columns at once using pd.concat(axis=1) instead. To get a de-fragmented frame, use `newframe = frame.copy()`\n",
      "  residuals[tick] = model.resid\n",
      "/var/folders/g5/7q0ynznx5hs03d9_7j1h1qbc0000gn/T/ipykernel_4282/3373143136.py:6: PerformanceWarning: DataFrame is highly fragmented.  This is usually the result of calling `frame.insert` many times, which has poor performance.  Consider joining all columns at once using pd.concat(axis=1) instead. To get a de-fragmented frame, use `newframe = frame.copy()`\n",
      "  residuals[tick] = model.resid\n",
      "/var/folders/g5/7q0ynznx5hs03d9_7j1h1qbc0000gn/T/ipykernel_4282/3373143136.py:6: PerformanceWarning: DataFrame is highly fragmented.  This is usually the result of calling `frame.insert` many times, which has poor performance.  Consider joining all columns at once using pd.concat(axis=1) instead. To get a de-fragmented frame, use `newframe = frame.copy()`\n",
      "  residuals[tick] = model.resid\n",
      "/var/folders/g5/7q0ynznx5hs03d9_7j1h1qbc0000gn/T/ipykernel_4282/3373143136.py:6: PerformanceWarning: DataFrame is highly fragmented.  This is usually the result of calling `frame.insert` many times, which has poor performance.  Consider joining all columns at once using pd.concat(axis=1) instead. To get a de-fragmented frame, use `newframe = frame.copy()`\n",
      "  residuals[tick] = model.resid\n",
      "/var/folders/g5/7q0ynznx5hs03d9_7j1h1qbc0000gn/T/ipykernel_4282/3373143136.py:6: PerformanceWarning: DataFrame is highly fragmented.  This is usually the result of calling `frame.insert` many times, which has poor performance.  Consider joining all columns at once using pd.concat(axis=1) instead. To get a de-fragmented frame, use `newframe = frame.copy()`\n",
      "  residuals[tick] = model.resid\n",
      "/var/folders/g5/7q0ynznx5hs03d9_7j1h1qbc0000gn/T/ipykernel_4282/3373143136.py:6: PerformanceWarning: DataFrame is highly fragmented.  This is usually the result of calling `frame.insert` many times, which has poor performance.  Consider joining all columns at once using pd.concat(axis=1) instead. To get a de-fragmented frame, use `newframe = frame.copy()`\n",
      "  residuals[tick] = model.resid\n",
      "/var/folders/g5/7q0ynznx5hs03d9_7j1h1qbc0000gn/T/ipykernel_4282/3373143136.py:6: PerformanceWarning: DataFrame is highly fragmented.  This is usually the result of calling `frame.insert` many times, which has poor performance.  Consider joining all columns at once using pd.concat(axis=1) instead. To get a de-fragmented frame, use `newframe = frame.copy()`\n",
      "  residuals[tick] = model.resid\n",
      "/var/folders/g5/7q0ynznx5hs03d9_7j1h1qbc0000gn/T/ipykernel_4282/3373143136.py:6: PerformanceWarning: DataFrame is highly fragmented.  This is usually the result of calling `frame.insert` many times, which has poor performance.  Consider joining all columns at once using pd.concat(axis=1) instead. To get a de-fragmented frame, use `newframe = frame.copy()`\n",
      "  residuals[tick] = model.resid\n",
      "/var/folders/g5/7q0ynznx5hs03d9_7j1h1qbc0000gn/T/ipykernel_4282/3373143136.py:6: PerformanceWarning: DataFrame is highly fragmented.  This is usually the result of calling `frame.insert` many times, which has poor performance.  Consider joining all columns at once using pd.concat(axis=1) instead. To get a de-fragmented frame, use `newframe = frame.copy()`\n",
      "  residuals[tick] = model.resid\n",
      "/var/folders/g5/7q0ynznx5hs03d9_7j1h1qbc0000gn/T/ipykernel_4282/3373143136.py:6: PerformanceWarning: DataFrame is highly fragmented.  This is usually the result of calling `frame.insert` many times, which has poor performance.  Consider joining all columns at once using pd.concat(axis=1) instead. To get a de-fragmented frame, use `newframe = frame.copy()`\n",
      "  residuals[tick] = model.resid\n",
      "/var/folders/g5/7q0ynznx5hs03d9_7j1h1qbc0000gn/T/ipykernel_4282/3373143136.py:6: PerformanceWarning: DataFrame is highly fragmented.  This is usually the result of calling `frame.insert` many times, which has poor performance.  Consider joining all columns at once using pd.concat(axis=1) instead. To get a de-fragmented frame, use `newframe = frame.copy()`\n",
      "  residuals[tick] = model.resid\n",
      "/var/folders/g5/7q0ynznx5hs03d9_7j1h1qbc0000gn/T/ipykernel_4282/3373143136.py:6: PerformanceWarning: DataFrame is highly fragmented.  This is usually the result of calling `frame.insert` many times, which has poor performance.  Consider joining all columns at once using pd.concat(axis=1) instead. To get a de-fragmented frame, use `newframe = frame.copy()`\n",
      "  residuals[tick] = model.resid\n",
      "/var/folders/g5/7q0ynznx5hs03d9_7j1h1qbc0000gn/T/ipykernel_4282/3373143136.py:6: PerformanceWarning: DataFrame is highly fragmented.  This is usually the result of calling `frame.insert` many times, which has poor performance.  Consider joining all columns at once using pd.concat(axis=1) instead. To get a de-fragmented frame, use `newframe = frame.copy()`\n",
      "  residuals[tick] = model.resid\n",
      "/var/folders/g5/7q0ynznx5hs03d9_7j1h1qbc0000gn/T/ipykernel_4282/3373143136.py:6: PerformanceWarning: DataFrame is highly fragmented.  This is usually the result of calling `frame.insert` many times, which has poor performance.  Consider joining all columns at once using pd.concat(axis=1) instead. To get a de-fragmented frame, use `newframe = frame.copy()`\n",
      "  residuals[tick] = model.resid\n",
      "/var/folders/g5/7q0ynznx5hs03d9_7j1h1qbc0000gn/T/ipykernel_4282/3373143136.py:6: PerformanceWarning: DataFrame is highly fragmented.  This is usually the result of calling `frame.insert` many times, which has poor performance.  Consider joining all columns at once using pd.concat(axis=1) instead. To get a de-fragmented frame, use `newframe = frame.copy()`\n",
      "  residuals[tick] = model.resid\n",
      "/var/folders/g5/7q0ynznx5hs03d9_7j1h1qbc0000gn/T/ipykernel_4282/3373143136.py:6: PerformanceWarning: DataFrame is highly fragmented.  This is usually the result of calling `frame.insert` many times, which has poor performance.  Consider joining all columns at once using pd.concat(axis=1) instead. To get a de-fragmented frame, use `newframe = frame.copy()`\n",
      "  residuals[tick] = model.resid\n",
      "/var/folders/g5/7q0ynznx5hs03d9_7j1h1qbc0000gn/T/ipykernel_4282/3373143136.py:6: PerformanceWarning: DataFrame is highly fragmented.  This is usually the result of calling `frame.insert` many times, which has poor performance.  Consider joining all columns at once using pd.concat(axis=1) instead. To get a de-fragmented frame, use `newframe = frame.copy()`\n",
      "  residuals[tick] = model.resid\n",
      "/var/folders/g5/7q0ynznx5hs03d9_7j1h1qbc0000gn/T/ipykernel_4282/3373143136.py:6: PerformanceWarning: DataFrame is highly fragmented.  This is usually the result of calling `frame.insert` many times, which has poor performance.  Consider joining all columns at once using pd.concat(axis=1) instead. To get a de-fragmented frame, use `newframe = frame.copy()`\n",
      "  residuals[tick] = model.resid\n",
      "/var/folders/g5/7q0ynznx5hs03d9_7j1h1qbc0000gn/T/ipykernel_4282/3373143136.py:6: PerformanceWarning: DataFrame is highly fragmented.  This is usually the result of calling `frame.insert` many times, which has poor performance.  Consider joining all columns at once using pd.concat(axis=1) instead. To get a de-fragmented frame, use `newframe = frame.copy()`\n",
      "  residuals[tick] = model.resid\n",
      "/var/folders/g5/7q0ynznx5hs03d9_7j1h1qbc0000gn/T/ipykernel_4282/3373143136.py:6: PerformanceWarning: DataFrame is highly fragmented.  This is usually the result of calling `frame.insert` many times, which has poor performance.  Consider joining all columns at once using pd.concat(axis=1) instead. To get a de-fragmented frame, use `newframe = frame.copy()`\n",
      "  residuals[tick] = model.resid\n",
      "/var/folders/g5/7q0ynznx5hs03d9_7j1h1qbc0000gn/T/ipykernel_4282/3373143136.py:6: PerformanceWarning: DataFrame is highly fragmented.  This is usually the result of calling `frame.insert` many times, which has poor performance.  Consider joining all columns at once using pd.concat(axis=1) instead. To get a de-fragmented frame, use `newframe = frame.copy()`\n",
      "  residuals[tick] = model.resid\n",
      "/var/folders/g5/7q0ynznx5hs03d9_7j1h1qbc0000gn/T/ipykernel_4282/3373143136.py:6: PerformanceWarning: DataFrame is highly fragmented.  This is usually the result of calling `frame.insert` many times, which has poor performance.  Consider joining all columns at once using pd.concat(axis=1) instead. To get a de-fragmented frame, use `newframe = frame.copy()`\n",
      "  residuals[tick] = model.resid\n",
      "/var/folders/g5/7q0ynznx5hs03d9_7j1h1qbc0000gn/T/ipykernel_4282/3373143136.py:6: PerformanceWarning: DataFrame is highly fragmented.  This is usually the result of calling `frame.insert` many times, which has poor performance.  Consider joining all columns at once using pd.concat(axis=1) instead. To get a de-fragmented frame, use `newframe = frame.copy()`\n",
      "  residuals[tick] = model.resid\n",
      "/var/folders/g5/7q0ynznx5hs03d9_7j1h1qbc0000gn/T/ipykernel_4282/3373143136.py:6: PerformanceWarning: DataFrame is highly fragmented.  This is usually the result of calling `frame.insert` many times, which has poor performance.  Consider joining all columns at once using pd.concat(axis=1) instead. To get a de-fragmented frame, use `newframe = frame.copy()`\n",
      "  residuals[tick] = model.resid\n",
      "/var/folders/g5/7q0ynznx5hs03d9_7j1h1qbc0000gn/T/ipykernel_4282/3373143136.py:6: PerformanceWarning: DataFrame is highly fragmented.  This is usually the result of calling `frame.insert` many times, which has poor performance.  Consider joining all columns at once using pd.concat(axis=1) instead. To get a de-fragmented frame, use `newframe = frame.copy()`\n",
      "  residuals[tick] = model.resid\n",
      "/var/folders/g5/7q0ynznx5hs03d9_7j1h1qbc0000gn/T/ipykernel_4282/3373143136.py:6: PerformanceWarning: DataFrame is highly fragmented.  This is usually the result of calling `frame.insert` many times, which has poor performance.  Consider joining all columns at once using pd.concat(axis=1) instead. To get a de-fragmented frame, use `newframe = frame.copy()`\n",
      "  residuals[tick] = model.resid\n",
      "/var/folders/g5/7q0ynznx5hs03d9_7j1h1qbc0000gn/T/ipykernel_4282/3373143136.py:6: PerformanceWarning: DataFrame is highly fragmented.  This is usually the result of calling `frame.insert` many times, which has poor performance.  Consider joining all columns at once using pd.concat(axis=1) instead. To get a de-fragmented frame, use `newframe = frame.copy()`\n",
      "  residuals[tick] = model.resid\n",
      "/var/folders/g5/7q0ynznx5hs03d9_7j1h1qbc0000gn/T/ipykernel_4282/3373143136.py:6: PerformanceWarning: DataFrame is highly fragmented.  This is usually the result of calling `frame.insert` many times, which has poor performance.  Consider joining all columns at once using pd.concat(axis=1) instead. To get a de-fragmented frame, use `newframe = frame.copy()`\n",
      "  residuals[tick] = model.resid\n",
      "/var/folders/g5/7q0ynznx5hs03d9_7j1h1qbc0000gn/T/ipykernel_4282/3373143136.py:6: PerformanceWarning: DataFrame is highly fragmented.  This is usually the result of calling `frame.insert` many times, which has poor performance.  Consider joining all columns at once using pd.concat(axis=1) instead. To get a de-fragmented frame, use `newframe = frame.copy()`\n",
      "  residuals[tick] = model.resid\n",
      "/var/folders/g5/7q0ynznx5hs03d9_7j1h1qbc0000gn/T/ipykernel_4282/3373143136.py:6: PerformanceWarning: DataFrame is highly fragmented.  This is usually the result of calling `frame.insert` many times, which has poor performance.  Consider joining all columns at once using pd.concat(axis=1) instead. To get a de-fragmented frame, use `newframe = frame.copy()`\n",
      "  residuals[tick] = model.resid\n",
      "/var/folders/g5/7q0ynznx5hs03d9_7j1h1qbc0000gn/T/ipykernel_4282/3373143136.py:6: PerformanceWarning: DataFrame is highly fragmented.  This is usually the result of calling `frame.insert` many times, which has poor performance.  Consider joining all columns at once using pd.concat(axis=1) instead. To get a de-fragmented frame, use `newframe = frame.copy()`\n",
      "  residuals[tick] = model.resid\n",
      "/var/folders/g5/7q0ynznx5hs03d9_7j1h1qbc0000gn/T/ipykernel_4282/3373143136.py:6: PerformanceWarning: DataFrame is highly fragmented.  This is usually the result of calling `frame.insert` many times, which has poor performance.  Consider joining all columns at once using pd.concat(axis=1) instead. To get a de-fragmented frame, use `newframe = frame.copy()`\n",
      "  residuals[tick] = model.resid\n",
      "/var/folders/g5/7q0ynznx5hs03d9_7j1h1qbc0000gn/T/ipykernel_4282/3373143136.py:6: PerformanceWarning: DataFrame is highly fragmented.  This is usually the result of calling `frame.insert` many times, which has poor performance.  Consider joining all columns at once using pd.concat(axis=1) instead. To get a de-fragmented frame, use `newframe = frame.copy()`\n",
      "  residuals[tick] = model.resid\n",
      "/var/folders/g5/7q0ynznx5hs03d9_7j1h1qbc0000gn/T/ipykernel_4282/3373143136.py:6: PerformanceWarning: DataFrame is highly fragmented.  This is usually the result of calling `frame.insert` many times, which has poor performance.  Consider joining all columns at once using pd.concat(axis=1) instead. To get a de-fragmented frame, use `newframe = frame.copy()`\n",
      "  residuals[tick] = model.resid\n",
      "/var/folders/g5/7q0ynznx5hs03d9_7j1h1qbc0000gn/T/ipykernel_4282/3373143136.py:6: PerformanceWarning: DataFrame is highly fragmented.  This is usually the result of calling `frame.insert` many times, which has poor performance.  Consider joining all columns at once using pd.concat(axis=1) instead. To get a de-fragmented frame, use `newframe = frame.copy()`\n",
      "  residuals[tick] = model.resid\n",
      "/var/folders/g5/7q0ynznx5hs03d9_7j1h1qbc0000gn/T/ipykernel_4282/3373143136.py:6: PerformanceWarning: DataFrame is highly fragmented.  This is usually the result of calling `frame.insert` many times, which has poor performance.  Consider joining all columns at once using pd.concat(axis=1) instead. To get a de-fragmented frame, use `newframe = frame.copy()`\n",
      "  residuals[tick] = model.resid\n",
      "/var/folders/g5/7q0ynznx5hs03d9_7j1h1qbc0000gn/T/ipykernel_4282/3373143136.py:6: PerformanceWarning: DataFrame is highly fragmented.  This is usually the result of calling `frame.insert` many times, which has poor performance.  Consider joining all columns at once using pd.concat(axis=1) instead. To get a de-fragmented frame, use `newframe = frame.copy()`\n",
      "  residuals[tick] = model.resid\n",
      "/var/folders/g5/7q0ynznx5hs03d9_7j1h1qbc0000gn/T/ipykernel_4282/3373143136.py:6: PerformanceWarning: DataFrame is highly fragmented.  This is usually the result of calling `frame.insert` many times, which has poor performance.  Consider joining all columns at once using pd.concat(axis=1) instead. To get a de-fragmented frame, use `newframe = frame.copy()`\n",
      "  residuals[tick] = model.resid\n",
      "/var/folders/g5/7q0ynznx5hs03d9_7j1h1qbc0000gn/T/ipykernel_4282/3373143136.py:6: PerformanceWarning: DataFrame is highly fragmented.  This is usually the result of calling `frame.insert` many times, which has poor performance.  Consider joining all columns at once using pd.concat(axis=1) instead. To get a de-fragmented frame, use `newframe = frame.copy()`\n",
      "  residuals[tick] = model.resid\n",
      "/var/folders/g5/7q0ynznx5hs03d9_7j1h1qbc0000gn/T/ipykernel_4282/3373143136.py:6: PerformanceWarning: DataFrame is highly fragmented.  This is usually the result of calling `frame.insert` many times, which has poor performance.  Consider joining all columns at once using pd.concat(axis=1) instead. To get a de-fragmented frame, use `newframe = frame.copy()`\n",
      "  residuals[tick] = model.resid\n",
      "/var/folders/g5/7q0ynznx5hs03d9_7j1h1qbc0000gn/T/ipykernel_4282/3373143136.py:6: PerformanceWarning: DataFrame is highly fragmented.  This is usually the result of calling `frame.insert` many times, which has poor performance.  Consider joining all columns at once using pd.concat(axis=1) instead. To get a de-fragmented frame, use `newframe = frame.copy()`\n",
      "  residuals[tick] = model.resid\n",
      "/var/folders/g5/7q0ynznx5hs03d9_7j1h1qbc0000gn/T/ipykernel_4282/3373143136.py:6: PerformanceWarning: DataFrame is highly fragmented.  This is usually the result of calling `frame.insert` many times, which has poor performance.  Consider joining all columns at once using pd.concat(axis=1) instead. To get a de-fragmented frame, use `newframe = frame.copy()`\n",
      "  residuals[tick] = model.resid\n",
      "/var/folders/g5/7q0ynznx5hs03d9_7j1h1qbc0000gn/T/ipykernel_4282/3373143136.py:6: PerformanceWarning: DataFrame is highly fragmented.  This is usually the result of calling `frame.insert` many times, which has poor performance.  Consider joining all columns at once using pd.concat(axis=1) instead. To get a de-fragmented frame, use `newframe = frame.copy()`\n",
      "  residuals[tick] = model.resid\n",
      "/var/folders/g5/7q0ynznx5hs03d9_7j1h1qbc0000gn/T/ipykernel_4282/3373143136.py:6: PerformanceWarning: DataFrame is highly fragmented.  This is usually the result of calling `frame.insert` many times, which has poor performance.  Consider joining all columns at once using pd.concat(axis=1) instead. To get a de-fragmented frame, use `newframe = frame.copy()`\n",
      "  residuals[tick] = model.resid\n",
      "/var/folders/g5/7q0ynznx5hs03d9_7j1h1qbc0000gn/T/ipykernel_4282/3373143136.py:6: PerformanceWarning: DataFrame is highly fragmented.  This is usually the result of calling `frame.insert` many times, which has poor performance.  Consider joining all columns at once using pd.concat(axis=1) instead. To get a de-fragmented frame, use `newframe = frame.copy()`\n",
      "  residuals[tick] = model.resid\n",
      "/var/folders/g5/7q0ynznx5hs03d9_7j1h1qbc0000gn/T/ipykernel_4282/3373143136.py:6: PerformanceWarning: DataFrame is highly fragmented.  This is usually the result of calling `frame.insert` many times, which has poor performance.  Consider joining all columns at once using pd.concat(axis=1) instead. To get a de-fragmented frame, use `newframe = frame.copy()`\n",
      "  residuals[tick] = model.resid\n",
      "/var/folders/g5/7q0ynznx5hs03d9_7j1h1qbc0000gn/T/ipykernel_4282/3373143136.py:6: PerformanceWarning: DataFrame is highly fragmented.  This is usually the result of calling `frame.insert` many times, which has poor performance.  Consider joining all columns at once using pd.concat(axis=1) instead. To get a de-fragmented frame, use `newframe = frame.copy()`\n",
      "  residuals[tick] = model.resid\n",
      "/var/folders/g5/7q0ynznx5hs03d9_7j1h1qbc0000gn/T/ipykernel_4282/3373143136.py:6: PerformanceWarning: DataFrame is highly fragmented.  This is usually the result of calling `frame.insert` many times, which has poor performance.  Consider joining all columns at once using pd.concat(axis=1) instead. To get a de-fragmented frame, use `newframe = frame.copy()`\n",
      "  residuals[tick] = model.resid\n",
      "/var/folders/g5/7q0ynznx5hs03d9_7j1h1qbc0000gn/T/ipykernel_4282/3373143136.py:6: PerformanceWarning: DataFrame is highly fragmented.  This is usually the result of calling `frame.insert` many times, which has poor performance.  Consider joining all columns at once using pd.concat(axis=1) instead. To get a de-fragmented frame, use `newframe = frame.copy()`\n",
      "  residuals[tick] = model.resid\n",
      "/var/folders/g5/7q0ynznx5hs03d9_7j1h1qbc0000gn/T/ipykernel_4282/3373143136.py:6: PerformanceWarning: DataFrame is highly fragmented.  This is usually the result of calling `frame.insert` many times, which has poor performance.  Consider joining all columns at once using pd.concat(axis=1) instead. To get a de-fragmented frame, use `newframe = frame.copy()`\n",
      "  residuals[tick] = model.resid\n",
      "/var/folders/g5/7q0ynznx5hs03d9_7j1h1qbc0000gn/T/ipykernel_4282/3373143136.py:6: PerformanceWarning: DataFrame is highly fragmented.  This is usually the result of calling `frame.insert` many times, which has poor performance.  Consider joining all columns at once using pd.concat(axis=1) instead. To get a de-fragmented frame, use `newframe = frame.copy()`\n",
      "  residuals[tick] = model.resid\n",
      "/var/folders/g5/7q0ynznx5hs03d9_7j1h1qbc0000gn/T/ipykernel_4282/3373143136.py:6: PerformanceWarning: DataFrame is highly fragmented.  This is usually the result of calling `frame.insert` many times, which has poor performance.  Consider joining all columns at once using pd.concat(axis=1) instead. To get a de-fragmented frame, use `newframe = frame.copy()`\n",
      "  residuals[tick] = model.resid\n",
      "/var/folders/g5/7q0ynznx5hs03d9_7j1h1qbc0000gn/T/ipykernel_4282/3373143136.py:6: PerformanceWarning: DataFrame is highly fragmented.  This is usually the result of calling `frame.insert` many times, which has poor performance.  Consider joining all columns at once using pd.concat(axis=1) instead. To get a de-fragmented frame, use `newframe = frame.copy()`\n",
      "  residuals[tick] = model.resid\n",
      "/var/folders/g5/7q0ynznx5hs03d9_7j1h1qbc0000gn/T/ipykernel_4282/3373143136.py:6: PerformanceWarning: DataFrame is highly fragmented.  This is usually the result of calling `frame.insert` many times, which has poor performance.  Consider joining all columns at once using pd.concat(axis=1) instead. To get a de-fragmented frame, use `newframe = frame.copy()`\n",
      "  residuals[tick] = model.resid\n",
      "/var/folders/g5/7q0ynznx5hs03d9_7j1h1qbc0000gn/T/ipykernel_4282/3373143136.py:6: PerformanceWarning: DataFrame is highly fragmented.  This is usually the result of calling `frame.insert` many times, which has poor performance.  Consider joining all columns at once using pd.concat(axis=1) instead. To get a de-fragmented frame, use `newframe = frame.copy()`\n",
      "  residuals[tick] = model.resid\n",
      "/var/folders/g5/7q0ynznx5hs03d9_7j1h1qbc0000gn/T/ipykernel_4282/3373143136.py:6: PerformanceWarning: DataFrame is highly fragmented.  This is usually the result of calling `frame.insert` many times, which has poor performance.  Consider joining all columns at once using pd.concat(axis=1) instead. To get a de-fragmented frame, use `newframe = frame.copy()`\n",
      "  residuals[tick] = model.resid\n",
      "/var/folders/g5/7q0ynznx5hs03d9_7j1h1qbc0000gn/T/ipykernel_4282/3373143136.py:6: PerformanceWarning: DataFrame is highly fragmented.  This is usually the result of calling `frame.insert` many times, which has poor performance.  Consider joining all columns at once using pd.concat(axis=1) instead. To get a de-fragmented frame, use `newframe = frame.copy()`\n",
      "  residuals[tick] = model.resid\n",
      "/var/folders/g5/7q0ynznx5hs03d9_7j1h1qbc0000gn/T/ipykernel_4282/3373143136.py:6: PerformanceWarning: DataFrame is highly fragmented.  This is usually the result of calling `frame.insert` many times, which has poor performance.  Consider joining all columns at once using pd.concat(axis=1) instead. To get a de-fragmented frame, use `newframe = frame.copy()`\n",
      "  residuals[tick] = model.resid\n",
      "/var/folders/g5/7q0ynznx5hs03d9_7j1h1qbc0000gn/T/ipykernel_4282/3373143136.py:6: PerformanceWarning: DataFrame is highly fragmented.  This is usually the result of calling `frame.insert` many times, which has poor performance.  Consider joining all columns at once using pd.concat(axis=1) instead. To get a de-fragmented frame, use `newframe = frame.copy()`\n",
      "  residuals[tick] = model.resid\n",
      "/var/folders/g5/7q0ynznx5hs03d9_7j1h1qbc0000gn/T/ipykernel_4282/3373143136.py:6: PerformanceWarning: DataFrame is highly fragmented.  This is usually the result of calling `frame.insert` many times, which has poor performance.  Consider joining all columns at once using pd.concat(axis=1) instead. To get a de-fragmented frame, use `newframe = frame.copy()`\n",
      "  residuals[tick] = model.resid\n",
      "/var/folders/g5/7q0ynznx5hs03d9_7j1h1qbc0000gn/T/ipykernel_4282/3373143136.py:6: PerformanceWarning: DataFrame is highly fragmented.  This is usually the result of calling `frame.insert` many times, which has poor performance.  Consider joining all columns at once using pd.concat(axis=1) instead. To get a de-fragmented frame, use `newframe = frame.copy()`\n",
      "  residuals[tick] = model.resid\n",
      "/var/folders/g5/7q0ynznx5hs03d9_7j1h1qbc0000gn/T/ipykernel_4282/3373143136.py:6: PerformanceWarning: DataFrame is highly fragmented.  This is usually the result of calling `frame.insert` many times, which has poor performance.  Consider joining all columns at once using pd.concat(axis=1) instead. To get a de-fragmented frame, use `newframe = frame.copy()`\n",
      "  residuals[tick] = model.resid\n",
      "/var/folders/g5/7q0ynznx5hs03d9_7j1h1qbc0000gn/T/ipykernel_4282/3373143136.py:6: PerformanceWarning: DataFrame is highly fragmented.  This is usually the result of calling `frame.insert` many times, which has poor performance.  Consider joining all columns at once using pd.concat(axis=1) instead. To get a de-fragmented frame, use `newframe = frame.copy()`\n",
      "  residuals[tick] = model.resid\n",
      "/var/folders/g5/7q0ynznx5hs03d9_7j1h1qbc0000gn/T/ipykernel_4282/3373143136.py:6: PerformanceWarning: DataFrame is highly fragmented.  This is usually the result of calling `frame.insert` many times, which has poor performance.  Consider joining all columns at once using pd.concat(axis=1) instead. To get a de-fragmented frame, use `newframe = frame.copy()`\n",
      "  residuals[tick] = model.resid\n",
      "/var/folders/g5/7q0ynznx5hs03d9_7j1h1qbc0000gn/T/ipykernel_4282/3373143136.py:6: PerformanceWarning: DataFrame is highly fragmented.  This is usually the result of calling `frame.insert` many times, which has poor performance.  Consider joining all columns at once using pd.concat(axis=1) instead. To get a de-fragmented frame, use `newframe = frame.copy()`\n",
      "  residuals[tick] = model.resid\n",
      "/var/folders/g5/7q0ynznx5hs03d9_7j1h1qbc0000gn/T/ipykernel_4282/3373143136.py:6: PerformanceWarning: DataFrame is highly fragmented.  This is usually the result of calling `frame.insert` many times, which has poor performance.  Consider joining all columns at once using pd.concat(axis=1) instead. To get a de-fragmented frame, use `newframe = frame.copy()`\n",
      "  residuals[tick] = model.resid\n",
      "/var/folders/g5/7q0ynznx5hs03d9_7j1h1qbc0000gn/T/ipykernel_4282/3373143136.py:6: PerformanceWarning: DataFrame is highly fragmented.  This is usually the result of calling `frame.insert` many times, which has poor performance.  Consider joining all columns at once using pd.concat(axis=1) instead. To get a de-fragmented frame, use `newframe = frame.copy()`\n",
      "  residuals[tick] = model.resid\n",
      "/var/folders/g5/7q0ynznx5hs03d9_7j1h1qbc0000gn/T/ipykernel_4282/3373143136.py:6: PerformanceWarning: DataFrame is highly fragmented.  This is usually the result of calling `frame.insert` many times, which has poor performance.  Consider joining all columns at once using pd.concat(axis=1) instead. To get a de-fragmented frame, use `newframe = frame.copy()`\n",
      "  residuals[tick] = model.resid\n",
      "/var/folders/g5/7q0ynznx5hs03d9_7j1h1qbc0000gn/T/ipykernel_4282/3373143136.py:6: PerformanceWarning: DataFrame is highly fragmented.  This is usually the result of calling `frame.insert` many times, which has poor performance.  Consider joining all columns at once using pd.concat(axis=1) instead. To get a de-fragmented frame, use `newframe = frame.copy()`\n",
      "  residuals[tick] = model.resid\n",
      "/var/folders/g5/7q0ynznx5hs03d9_7j1h1qbc0000gn/T/ipykernel_4282/3373143136.py:6: PerformanceWarning: DataFrame is highly fragmented.  This is usually the result of calling `frame.insert` many times, which has poor performance.  Consider joining all columns at once using pd.concat(axis=1) instead. To get a de-fragmented frame, use `newframe = frame.copy()`\n",
      "  residuals[tick] = model.resid\n",
      "/var/folders/g5/7q0ynznx5hs03d9_7j1h1qbc0000gn/T/ipykernel_4282/3373143136.py:6: PerformanceWarning: DataFrame is highly fragmented.  This is usually the result of calling `frame.insert` many times, which has poor performance.  Consider joining all columns at once using pd.concat(axis=1) instead. To get a de-fragmented frame, use `newframe = frame.copy()`\n",
      "  residuals[tick] = model.resid\n",
      "/var/folders/g5/7q0ynznx5hs03d9_7j1h1qbc0000gn/T/ipykernel_4282/3373143136.py:6: PerformanceWarning: DataFrame is highly fragmented.  This is usually the result of calling `frame.insert` many times, which has poor performance.  Consider joining all columns at once using pd.concat(axis=1) instead. To get a de-fragmented frame, use `newframe = frame.copy()`\n",
      "  residuals[tick] = model.resid\n",
      "/var/folders/g5/7q0ynznx5hs03d9_7j1h1qbc0000gn/T/ipykernel_4282/3373143136.py:6: PerformanceWarning: DataFrame is highly fragmented.  This is usually the result of calling `frame.insert` many times, which has poor performance.  Consider joining all columns at once using pd.concat(axis=1) instead. To get a de-fragmented frame, use `newframe = frame.copy()`\n",
      "  residuals[tick] = model.resid\n",
      "/var/folders/g5/7q0ynznx5hs03d9_7j1h1qbc0000gn/T/ipykernel_4282/3373143136.py:6: PerformanceWarning: DataFrame is highly fragmented.  This is usually the result of calling `frame.insert` many times, which has poor performance.  Consider joining all columns at once using pd.concat(axis=1) instead. To get a de-fragmented frame, use `newframe = frame.copy()`\n",
      "  residuals[tick] = model.resid\n",
      "/var/folders/g5/7q0ynznx5hs03d9_7j1h1qbc0000gn/T/ipykernel_4282/3373143136.py:6: PerformanceWarning: DataFrame is highly fragmented.  This is usually the result of calling `frame.insert` many times, which has poor performance.  Consider joining all columns at once using pd.concat(axis=1) instead. To get a de-fragmented frame, use `newframe = frame.copy()`\n",
      "  residuals[tick] = model.resid\n",
      "/var/folders/g5/7q0ynznx5hs03d9_7j1h1qbc0000gn/T/ipykernel_4282/3373143136.py:6: PerformanceWarning: DataFrame is highly fragmented.  This is usually the result of calling `frame.insert` many times, which has poor performance.  Consider joining all columns at once using pd.concat(axis=1) instead. To get a de-fragmented frame, use `newframe = frame.copy()`\n",
      "  residuals[tick] = model.resid\n",
      "/var/folders/g5/7q0ynznx5hs03d9_7j1h1qbc0000gn/T/ipykernel_4282/3373143136.py:6: PerformanceWarning: DataFrame is highly fragmented.  This is usually the result of calling `frame.insert` many times, which has poor performance.  Consider joining all columns at once using pd.concat(axis=1) instead. To get a de-fragmented frame, use `newframe = frame.copy()`\n",
      "  residuals[tick] = model.resid\n",
      "/var/folders/g5/7q0ynznx5hs03d9_7j1h1qbc0000gn/T/ipykernel_4282/3373143136.py:6: PerformanceWarning: DataFrame is highly fragmented.  This is usually the result of calling `frame.insert` many times, which has poor performance.  Consider joining all columns at once using pd.concat(axis=1) instead. To get a de-fragmented frame, use `newframe = frame.copy()`\n",
      "  residuals[tick] = model.resid\n",
      "/var/folders/g5/7q0ynznx5hs03d9_7j1h1qbc0000gn/T/ipykernel_4282/3373143136.py:6: PerformanceWarning: DataFrame is highly fragmented.  This is usually the result of calling `frame.insert` many times, which has poor performance.  Consider joining all columns at once using pd.concat(axis=1) instead. To get a de-fragmented frame, use `newframe = frame.copy()`\n",
      "  residuals[tick] = model.resid\n",
      "/var/folders/g5/7q0ynznx5hs03d9_7j1h1qbc0000gn/T/ipykernel_4282/3373143136.py:6: PerformanceWarning: DataFrame is highly fragmented.  This is usually the result of calling `frame.insert` many times, which has poor performance.  Consider joining all columns at once using pd.concat(axis=1) instead. To get a de-fragmented frame, use `newframe = frame.copy()`\n",
      "  residuals[tick] = model.resid\n",
      "/var/folders/g5/7q0ynznx5hs03d9_7j1h1qbc0000gn/T/ipykernel_4282/3373143136.py:6: PerformanceWarning: DataFrame is highly fragmented.  This is usually the result of calling `frame.insert` many times, which has poor performance.  Consider joining all columns at once using pd.concat(axis=1) instead. To get a de-fragmented frame, use `newframe = frame.copy()`\n",
      "  residuals[tick] = model.resid\n",
      "/var/folders/g5/7q0ynznx5hs03d9_7j1h1qbc0000gn/T/ipykernel_4282/3373143136.py:6: PerformanceWarning: DataFrame is highly fragmented.  This is usually the result of calling `frame.insert` many times, which has poor performance.  Consider joining all columns at once using pd.concat(axis=1) instead. To get a de-fragmented frame, use `newframe = frame.copy()`\n",
      "  residuals[tick] = model.resid\n",
      "/var/folders/g5/7q0ynznx5hs03d9_7j1h1qbc0000gn/T/ipykernel_4282/3373143136.py:6: PerformanceWarning: DataFrame is highly fragmented.  This is usually the result of calling `frame.insert` many times, which has poor performance.  Consider joining all columns at once using pd.concat(axis=1) instead. To get a de-fragmented frame, use `newframe = frame.copy()`\n",
      "  residuals[tick] = model.resid\n",
      "/var/folders/g5/7q0ynznx5hs03d9_7j1h1qbc0000gn/T/ipykernel_4282/3373143136.py:6: PerformanceWarning: DataFrame is highly fragmented.  This is usually the result of calling `frame.insert` many times, which has poor performance.  Consider joining all columns at once using pd.concat(axis=1) instead. To get a de-fragmented frame, use `newframe = frame.copy()`\n",
      "  residuals[tick] = model.resid\n",
      "/var/folders/g5/7q0ynznx5hs03d9_7j1h1qbc0000gn/T/ipykernel_4282/3373143136.py:6: PerformanceWarning: DataFrame is highly fragmented.  This is usually the result of calling `frame.insert` many times, which has poor performance.  Consider joining all columns at once using pd.concat(axis=1) instead. To get a de-fragmented frame, use `newframe = frame.copy()`\n",
      "  residuals[tick] = model.resid\n",
      "/var/folders/g5/7q0ynznx5hs03d9_7j1h1qbc0000gn/T/ipykernel_4282/3373143136.py:6: PerformanceWarning: DataFrame is highly fragmented.  This is usually the result of calling `frame.insert` many times, which has poor performance.  Consider joining all columns at once using pd.concat(axis=1) instead. To get a de-fragmented frame, use `newframe = frame.copy()`\n",
      "  residuals[tick] = model.resid\n",
      "/var/folders/g5/7q0ynznx5hs03d9_7j1h1qbc0000gn/T/ipykernel_4282/3373143136.py:6: PerformanceWarning: DataFrame is highly fragmented.  This is usually the result of calling `frame.insert` many times, which has poor performance.  Consider joining all columns at once using pd.concat(axis=1) instead. To get a de-fragmented frame, use `newframe = frame.copy()`\n",
      "  residuals[tick] = model.resid\n",
      "/var/folders/g5/7q0ynznx5hs03d9_7j1h1qbc0000gn/T/ipykernel_4282/3373143136.py:6: PerformanceWarning: DataFrame is highly fragmented.  This is usually the result of calling `frame.insert` many times, which has poor performance.  Consider joining all columns at once using pd.concat(axis=1) instead. To get a de-fragmented frame, use `newframe = frame.copy()`\n",
      "  residuals[tick] = model.resid\n",
      "/var/folders/g5/7q0ynznx5hs03d9_7j1h1qbc0000gn/T/ipykernel_4282/3373143136.py:6: PerformanceWarning: DataFrame is highly fragmented.  This is usually the result of calling `frame.insert` many times, which has poor performance.  Consider joining all columns at once using pd.concat(axis=1) instead. To get a de-fragmented frame, use `newframe = frame.copy()`\n",
      "  residuals[tick] = model.resid\n",
      "/var/folders/g5/7q0ynznx5hs03d9_7j1h1qbc0000gn/T/ipykernel_4282/3373143136.py:6: PerformanceWarning: DataFrame is highly fragmented.  This is usually the result of calling `frame.insert` many times, which has poor performance.  Consider joining all columns at once using pd.concat(axis=1) instead. To get a de-fragmented frame, use `newframe = frame.copy()`\n",
      "  residuals[tick] = model.resid\n",
      "/var/folders/g5/7q0ynznx5hs03d9_7j1h1qbc0000gn/T/ipykernel_4282/3373143136.py:6: PerformanceWarning: DataFrame is highly fragmented.  This is usually the result of calling `frame.insert` many times, which has poor performance.  Consider joining all columns at once using pd.concat(axis=1) instead. To get a de-fragmented frame, use `newframe = frame.copy()`\n",
      "  residuals[tick] = model.resid\n",
      "/var/folders/g5/7q0ynznx5hs03d9_7j1h1qbc0000gn/T/ipykernel_4282/3373143136.py:6: PerformanceWarning: DataFrame is highly fragmented.  This is usually the result of calling `frame.insert` many times, which has poor performance.  Consider joining all columns at once using pd.concat(axis=1) instead. To get a de-fragmented frame, use `newframe = frame.copy()`\n",
      "  residuals[tick] = model.resid\n",
      "/var/folders/g5/7q0ynznx5hs03d9_7j1h1qbc0000gn/T/ipykernel_4282/3373143136.py:6: PerformanceWarning: DataFrame is highly fragmented.  This is usually the result of calling `frame.insert` many times, which has poor performance.  Consider joining all columns at once using pd.concat(axis=1) instead. To get a de-fragmented frame, use `newframe = frame.copy()`\n",
      "  residuals[tick] = model.resid\n",
      "/var/folders/g5/7q0ynznx5hs03d9_7j1h1qbc0000gn/T/ipykernel_4282/3373143136.py:6: PerformanceWarning: DataFrame is highly fragmented.  This is usually the result of calling `frame.insert` many times, which has poor performance.  Consider joining all columns at once using pd.concat(axis=1) instead. To get a de-fragmented frame, use `newframe = frame.copy()`\n",
      "  residuals[tick] = model.resid\n",
      "/var/folders/g5/7q0ynznx5hs03d9_7j1h1qbc0000gn/T/ipykernel_4282/3373143136.py:6: PerformanceWarning: DataFrame is highly fragmented.  This is usually the result of calling `frame.insert` many times, which has poor performance.  Consider joining all columns at once using pd.concat(axis=1) instead. To get a de-fragmented frame, use `newframe = frame.copy()`\n",
      "  residuals[tick] = model.resid\n",
      "/var/folders/g5/7q0ynznx5hs03d9_7j1h1qbc0000gn/T/ipykernel_4282/3373143136.py:6: PerformanceWarning: DataFrame is highly fragmented.  This is usually the result of calling `frame.insert` many times, which has poor performance.  Consider joining all columns at once using pd.concat(axis=1) instead. To get a de-fragmented frame, use `newframe = frame.copy()`\n",
      "  residuals[tick] = model.resid\n",
      "/var/folders/g5/7q0ynznx5hs03d9_7j1h1qbc0000gn/T/ipykernel_4282/3373143136.py:6: PerformanceWarning: DataFrame is highly fragmented.  This is usually the result of calling `frame.insert` many times, which has poor performance.  Consider joining all columns at once using pd.concat(axis=1) instead. To get a de-fragmented frame, use `newframe = frame.copy()`\n",
      "  residuals[tick] = model.resid\n",
      "/var/folders/g5/7q0ynznx5hs03d9_7j1h1qbc0000gn/T/ipykernel_4282/3373143136.py:6: PerformanceWarning: DataFrame is highly fragmented.  This is usually the result of calling `frame.insert` many times, which has poor performance.  Consider joining all columns at once using pd.concat(axis=1) instead. To get a de-fragmented frame, use `newframe = frame.copy()`\n",
      "  residuals[tick] = model.resid\n",
      "/var/folders/g5/7q0ynznx5hs03d9_7j1h1qbc0000gn/T/ipykernel_4282/3373143136.py:6: PerformanceWarning: DataFrame is highly fragmented.  This is usually the result of calling `frame.insert` many times, which has poor performance.  Consider joining all columns at once using pd.concat(axis=1) instead. To get a de-fragmented frame, use `newframe = frame.copy()`\n",
      "  residuals[tick] = model.resid\n",
      "/var/folders/g5/7q0ynznx5hs03d9_7j1h1qbc0000gn/T/ipykernel_4282/3373143136.py:6: PerformanceWarning: DataFrame is highly fragmented.  This is usually the result of calling `frame.insert` many times, which has poor performance.  Consider joining all columns at once using pd.concat(axis=1) instead. To get a de-fragmented frame, use `newframe = frame.copy()`\n",
      "  residuals[tick] = model.resid\n",
      "/var/folders/g5/7q0ynznx5hs03d9_7j1h1qbc0000gn/T/ipykernel_4282/3373143136.py:6: PerformanceWarning: DataFrame is highly fragmented.  This is usually the result of calling `frame.insert` many times, which has poor performance.  Consider joining all columns at once using pd.concat(axis=1) instead. To get a de-fragmented frame, use `newframe = frame.copy()`\n",
      "  residuals[tick] = model.resid\n",
      "/var/folders/g5/7q0ynznx5hs03d9_7j1h1qbc0000gn/T/ipykernel_4282/3373143136.py:6: PerformanceWarning: DataFrame is highly fragmented.  This is usually the result of calling `frame.insert` many times, which has poor performance.  Consider joining all columns at once using pd.concat(axis=1) instead. To get a de-fragmented frame, use `newframe = frame.copy()`\n",
      "  residuals[tick] = model.resid\n",
      "/var/folders/g5/7q0ynznx5hs03d9_7j1h1qbc0000gn/T/ipykernel_4282/3373143136.py:6: PerformanceWarning: DataFrame is highly fragmented.  This is usually the result of calling `frame.insert` many times, which has poor performance.  Consider joining all columns at once using pd.concat(axis=1) instead. To get a de-fragmented frame, use `newframe = frame.copy()`\n",
      "  residuals[tick] = model.resid\n",
      "/var/folders/g5/7q0ynznx5hs03d9_7j1h1qbc0000gn/T/ipykernel_4282/3373143136.py:6: PerformanceWarning: DataFrame is highly fragmented.  This is usually the result of calling `frame.insert` many times, which has poor performance.  Consider joining all columns at once using pd.concat(axis=1) instead. To get a de-fragmented frame, use `newframe = frame.copy()`\n",
      "  residuals[tick] = model.resid\n",
      "/var/folders/g5/7q0ynznx5hs03d9_7j1h1qbc0000gn/T/ipykernel_4282/3373143136.py:6: PerformanceWarning: DataFrame is highly fragmented.  This is usually the result of calling `frame.insert` many times, which has poor performance.  Consider joining all columns at once using pd.concat(axis=1) instead. To get a de-fragmented frame, use `newframe = frame.copy()`\n",
      "  residuals[tick] = model.resid\n",
      "/var/folders/g5/7q0ynznx5hs03d9_7j1h1qbc0000gn/T/ipykernel_4282/3373143136.py:6: PerformanceWarning: DataFrame is highly fragmented.  This is usually the result of calling `frame.insert` many times, which has poor performance.  Consider joining all columns at once using pd.concat(axis=1) instead. To get a de-fragmented frame, use `newframe = frame.copy()`\n",
      "  residuals[tick] = model.resid\n",
      "/var/folders/g5/7q0ynznx5hs03d9_7j1h1qbc0000gn/T/ipykernel_4282/3373143136.py:6: PerformanceWarning: DataFrame is highly fragmented.  This is usually the result of calling `frame.insert` many times, which has poor performance.  Consider joining all columns at once using pd.concat(axis=1) instead. To get a de-fragmented frame, use `newframe = frame.copy()`\n",
      "  residuals[tick] = model.resid\n",
      "/var/folders/g5/7q0ynznx5hs03d9_7j1h1qbc0000gn/T/ipykernel_4282/3373143136.py:6: PerformanceWarning: DataFrame is highly fragmented.  This is usually the result of calling `frame.insert` many times, which has poor performance.  Consider joining all columns at once using pd.concat(axis=1) instead. To get a de-fragmented frame, use `newframe = frame.copy()`\n",
      "  residuals[tick] = model.resid\n",
      "/var/folders/g5/7q0ynznx5hs03d9_7j1h1qbc0000gn/T/ipykernel_4282/3373143136.py:6: PerformanceWarning: DataFrame is highly fragmented.  This is usually the result of calling `frame.insert` many times, which has poor performance.  Consider joining all columns at once using pd.concat(axis=1) instead. To get a de-fragmented frame, use `newframe = frame.copy()`\n",
      "  residuals[tick] = model.resid\n",
      "/var/folders/g5/7q0ynznx5hs03d9_7j1h1qbc0000gn/T/ipykernel_4282/3373143136.py:6: PerformanceWarning: DataFrame is highly fragmented.  This is usually the result of calling `frame.insert` many times, which has poor performance.  Consider joining all columns at once using pd.concat(axis=1) instead. To get a de-fragmented frame, use `newframe = frame.copy()`\n",
      "  residuals[tick] = model.resid\n",
      "/var/folders/g5/7q0ynznx5hs03d9_7j1h1qbc0000gn/T/ipykernel_4282/3373143136.py:6: PerformanceWarning: DataFrame is highly fragmented.  This is usually the result of calling `frame.insert` many times, which has poor performance.  Consider joining all columns at once using pd.concat(axis=1) instead. To get a de-fragmented frame, use `newframe = frame.copy()`\n",
      "  residuals[tick] = model.resid\n",
      "/var/folders/g5/7q0ynznx5hs03d9_7j1h1qbc0000gn/T/ipykernel_4282/3373143136.py:6: PerformanceWarning: DataFrame is highly fragmented.  This is usually the result of calling `frame.insert` many times, which has poor performance.  Consider joining all columns at once using pd.concat(axis=1) instead. To get a de-fragmented frame, use `newframe = frame.copy()`\n",
      "  residuals[tick] = model.resid\n",
      "/var/folders/g5/7q0ynznx5hs03d9_7j1h1qbc0000gn/T/ipykernel_4282/3373143136.py:6: PerformanceWarning: DataFrame is highly fragmented.  This is usually the result of calling `frame.insert` many times, which has poor performance.  Consider joining all columns at once using pd.concat(axis=1) instead. To get a de-fragmented frame, use `newframe = frame.copy()`\n",
      "  residuals[tick] = model.resid\n",
      "/var/folders/g5/7q0ynznx5hs03d9_7j1h1qbc0000gn/T/ipykernel_4282/3373143136.py:6: PerformanceWarning: DataFrame is highly fragmented.  This is usually the result of calling `frame.insert` many times, which has poor performance.  Consider joining all columns at once using pd.concat(axis=1) instead. To get a de-fragmented frame, use `newframe = frame.copy()`\n",
      "  residuals[tick] = model.resid\n",
      "/var/folders/g5/7q0ynznx5hs03d9_7j1h1qbc0000gn/T/ipykernel_4282/3373143136.py:6: PerformanceWarning: DataFrame is highly fragmented.  This is usually the result of calling `frame.insert` many times, which has poor performance.  Consider joining all columns at once using pd.concat(axis=1) instead. To get a de-fragmented frame, use `newframe = frame.copy()`\n",
      "  residuals[tick] = model.resid\n",
      "/var/folders/g5/7q0ynznx5hs03d9_7j1h1qbc0000gn/T/ipykernel_4282/3373143136.py:6: PerformanceWarning: DataFrame is highly fragmented.  This is usually the result of calling `frame.insert` many times, which has poor performance.  Consider joining all columns at once using pd.concat(axis=1) instead. To get a de-fragmented frame, use `newframe = frame.copy()`\n",
      "  residuals[tick] = model.resid\n",
      "/var/folders/g5/7q0ynznx5hs03d9_7j1h1qbc0000gn/T/ipykernel_4282/3373143136.py:6: PerformanceWarning: DataFrame is highly fragmented.  This is usually the result of calling `frame.insert` many times, which has poor performance.  Consider joining all columns at once using pd.concat(axis=1) instead. To get a de-fragmented frame, use `newframe = frame.copy()`\n",
      "  residuals[tick] = model.resid\n",
      "/var/folders/g5/7q0ynznx5hs03d9_7j1h1qbc0000gn/T/ipykernel_4282/3373143136.py:6: PerformanceWarning: DataFrame is highly fragmented.  This is usually the result of calling `frame.insert` many times, which has poor performance.  Consider joining all columns at once using pd.concat(axis=1) instead. To get a de-fragmented frame, use `newframe = frame.copy()`\n",
      "  residuals[tick] = model.resid\n",
      "/var/folders/g5/7q0ynznx5hs03d9_7j1h1qbc0000gn/T/ipykernel_4282/3373143136.py:6: PerformanceWarning: DataFrame is highly fragmented.  This is usually the result of calling `frame.insert` many times, which has poor performance.  Consider joining all columns at once using pd.concat(axis=1) instead. To get a de-fragmented frame, use `newframe = frame.copy()`\n",
      "  residuals[tick] = model.resid\n",
      "/var/folders/g5/7q0ynznx5hs03d9_7j1h1qbc0000gn/T/ipykernel_4282/3373143136.py:6: PerformanceWarning: DataFrame is highly fragmented.  This is usually the result of calling `frame.insert` many times, which has poor performance.  Consider joining all columns at once using pd.concat(axis=1) instead. To get a de-fragmented frame, use `newframe = frame.copy()`\n",
      "  residuals[tick] = model.resid\n",
      "/var/folders/g5/7q0ynznx5hs03d9_7j1h1qbc0000gn/T/ipykernel_4282/3373143136.py:6: PerformanceWarning: DataFrame is highly fragmented.  This is usually the result of calling `frame.insert` many times, which has poor performance.  Consider joining all columns at once using pd.concat(axis=1) instead. To get a de-fragmented frame, use `newframe = frame.copy()`\n",
      "  residuals[tick] = model.resid\n",
      "/var/folders/g5/7q0ynznx5hs03d9_7j1h1qbc0000gn/T/ipykernel_4282/3373143136.py:6: PerformanceWarning: DataFrame is highly fragmented.  This is usually the result of calling `frame.insert` many times, which has poor performance.  Consider joining all columns at once using pd.concat(axis=1) instead. To get a de-fragmented frame, use `newframe = frame.copy()`\n",
      "  residuals[tick] = model.resid\n",
      "/var/folders/g5/7q0ynznx5hs03d9_7j1h1qbc0000gn/T/ipykernel_4282/3373143136.py:6: PerformanceWarning: DataFrame is highly fragmented.  This is usually the result of calling `frame.insert` many times, which has poor performance.  Consider joining all columns at once using pd.concat(axis=1) instead. To get a de-fragmented frame, use `newframe = frame.copy()`\n",
      "  residuals[tick] = model.resid\n",
      "/var/folders/g5/7q0ynznx5hs03d9_7j1h1qbc0000gn/T/ipykernel_4282/3373143136.py:6: PerformanceWarning: DataFrame is highly fragmented.  This is usually the result of calling `frame.insert` many times, which has poor performance.  Consider joining all columns at once using pd.concat(axis=1) instead. To get a de-fragmented frame, use `newframe = frame.copy()`\n",
      "  residuals[tick] = model.resid\n",
      "/var/folders/g5/7q0ynznx5hs03d9_7j1h1qbc0000gn/T/ipykernel_4282/3373143136.py:6: PerformanceWarning: DataFrame is highly fragmented.  This is usually the result of calling `frame.insert` many times, which has poor performance.  Consider joining all columns at once using pd.concat(axis=1) instead. To get a de-fragmented frame, use `newframe = frame.copy()`\n",
      "  residuals[tick] = model.resid\n",
      "/var/folders/g5/7q0ynznx5hs03d9_7j1h1qbc0000gn/T/ipykernel_4282/3373143136.py:6: PerformanceWarning: DataFrame is highly fragmented.  This is usually the result of calling `frame.insert` many times, which has poor performance.  Consider joining all columns at once using pd.concat(axis=1) instead. To get a de-fragmented frame, use `newframe = frame.copy()`\n",
      "  residuals[tick] = model.resid\n",
      "/var/folders/g5/7q0ynznx5hs03d9_7j1h1qbc0000gn/T/ipykernel_4282/3373143136.py:6: PerformanceWarning: DataFrame is highly fragmented.  This is usually the result of calling `frame.insert` many times, which has poor performance.  Consider joining all columns at once using pd.concat(axis=1) instead. To get a de-fragmented frame, use `newframe = frame.copy()`\n",
      "  residuals[tick] = model.resid\n",
      "/var/folders/g5/7q0ynznx5hs03d9_7j1h1qbc0000gn/T/ipykernel_4282/3373143136.py:6: PerformanceWarning: DataFrame is highly fragmented.  This is usually the result of calling `frame.insert` many times, which has poor performance.  Consider joining all columns at once using pd.concat(axis=1) instead. To get a de-fragmented frame, use `newframe = frame.copy()`\n",
      "  residuals[tick] = model.resid\n",
      "/var/folders/g5/7q0ynznx5hs03d9_7j1h1qbc0000gn/T/ipykernel_4282/3373143136.py:6: PerformanceWarning: DataFrame is highly fragmented.  This is usually the result of calling `frame.insert` many times, which has poor performance.  Consider joining all columns at once using pd.concat(axis=1) instead. To get a de-fragmented frame, use `newframe = frame.copy()`\n",
      "  residuals[tick] = model.resid\n",
      "/var/folders/g5/7q0ynznx5hs03d9_7j1h1qbc0000gn/T/ipykernel_4282/3373143136.py:6: PerformanceWarning: DataFrame is highly fragmented.  This is usually the result of calling `frame.insert` many times, which has poor performance.  Consider joining all columns at once using pd.concat(axis=1) instead. To get a de-fragmented frame, use `newframe = frame.copy()`\n",
      "  residuals[tick] = model.resid\n",
      "/var/folders/g5/7q0ynznx5hs03d9_7j1h1qbc0000gn/T/ipykernel_4282/3373143136.py:6: PerformanceWarning: DataFrame is highly fragmented.  This is usually the result of calling `frame.insert` many times, which has poor performance.  Consider joining all columns at once using pd.concat(axis=1) instead. To get a de-fragmented frame, use `newframe = frame.copy()`\n",
      "  residuals[tick] = model.resid\n",
      "/var/folders/g5/7q0ynznx5hs03d9_7j1h1qbc0000gn/T/ipykernel_4282/3373143136.py:6: PerformanceWarning: DataFrame is highly fragmented.  This is usually the result of calling `frame.insert` many times, which has poor performance.  Consider joining all columns at once using pd.concat(axis=1) instead. To get a de-fragmented frame, use `newframe = frame.copy()`\n",
      "  residuals[tick] = model.resid\n",
      "/var/folders/g5/7q0ynznx5hs03d9_7j1h1qbc0000gn/T/ipykernel_4282/3373143136.py:6: PerformanceWarning: DataFrame is highly fragmented.  This is usually the result of calling `frame.insert` many times, which has poor performance.  Consider joining all columns at once using pd.concat(axis=1) instead. To get a de-fragmented frame, use `newframe = frame.copy()`\n",
      "  residuals[tick] = model.resid\n",
      "/var/folders/g5/7q0ynznx5hs03d9_7j1h1qbc0000gn/T/ipykernel_4282/3373143136.py:6: PerformanceWarning: DataFrame is highly fragmented.  This is usually the result of calling `frame.insert` many times, which has poor performance.  Consider joining all columns at once using pd.concat(axis=1) instead. To get a de-fragmented frame, use `newframe = frame.copy()`\n",
      "  residuals[tick] = model.resid\n",
      "/var/folders/g5/7q0ynznx5hs03d9_7j1h1qbc0000gn/T/ipykernel_4282/3373143136.py:6: PerformanceWarning: DataFrame is highly fragmented.  This is usually the result of calling `frame.insert` many times, which has poor performance.  Consider joining all columns at once using pd.concat(axis=1) instead. To get a de-fragmented frame, use `newframe = frame.copy()`\n",
      "  residuals[tick] = model.resid\n",
      "/var/folders/g5/7q0ynznx5hs03d9_7j1h1qbc0000gn/T/ipykernel_4282/3373143136.py:6: PerformanceWarning: DataFrame is highly fragmented.  This is usually the result of calling `frame.insert` many times, which has poor performance.  Consider joining all columns at once using pd.concat(axis=1) instead. To get a de-fragmented frame, use `newframe = frame.copy()`\n",
      "  residuals[tick] = model.resid\n",
      "/var/folders/g5/7q0ynznx5hs03d9_7j1h1qbc0000gn/T/ipykernel_4282/3373143136.py:6: PerformanceWarning: DataFrame is highly fragmented.  This is usually the result of calling `frame.insert` many times, which has poor performance.  Consider joining all columns at once using pd.concat(axis=1) instead. To get a de-fragmented frame, use `newframe = frame.copy()`\n",
      "  residuals[tick] = model.resid\n",
      "/var/folders/g5/7q0ynznx5hs03d9_7j1h1qbc0000gn/T/ipykernel_4282/3373143136.py:6: PerformanceWarning: DataFrame is highly fragmented.  This is usually the result of calling `frame.insert` many times, which has poor performance.  Consider joining all columns at once using pd.concat(axis=1) instead. To get a de-fragmented frame, use `newframe = frame.copy()`\n",
      "  residuals[tick] = model.resid\n",
      "/var/folders/g5/7q0ynznx5hs03d9_7j1h1qbc0000gn/T/ipykernel_4282/3373143136.py:6: PerformanceWarning: DataFrame is highly fragmented.  This is usually the result of calling `frame.insert` many times, which has poor performance.  Consider joining all columns at once using pd.concat(axis=1) instead. To get a de-fragmented frame, use `newframe = frame.copy()`\n",
      "  residuals[tick] = model.resid\n",
      "/var/folders/g5/7q0ynznx5hs03d9_7j1h1qbc0000gn/T/ipykernel_4282/3373143136.py:6: PerformanceWarning: DataFrame is highly fragmented.  This is usually the result of calling `frame.insert` many times, which has poor performance.  Consider joining all columns at once using pd.concat(axis=1) instead. To get a de-fragmented frame, use `newframe = frame.copy()`\n",
      "  residuals[tick] = model.resid\n",
      "/var/folders/g5/7q0ynznx5hs03d9_7j1h1qbc0000gn/T/ipykernel_4282/3373143136.py:6: PerformanceWarning: DataFrame is highly fragmented.  This is usually the result of calling `frame.insert` many times, which has poor performance.  Consider joining all columns at once using pd.concat(axis=1) instead. To get a de-fragmented frame, use `newframe = frame.copy()`\n",
      "  residuals[tick] = model.resid\n",
      "/var/folders/g5/7q0ynznx5hs03d9_7j1h1qbc0000gn/T/ipykernel_4282/3373143136.py:6: PerformanceWarning: DataFrame is highly fragmented.  This is usually the result of calling `frame.insert` many times, which has poor performance.  Consider joining all columns at once using pd.concat(axis=1) instead. To get a de-fragmented frame, use `newframe = frame.copy()`\n",
      "  residuals[tick] = model.resid\n",
      "/var/folders/g5/7q0ynznx5hs03d9_7j1h1qbc0000gn/T/ipykernel_4282/3373143136.py:6: PerformanceWarning: DataFrame is highly fragmented.  This is usually the result of calling `frame.insert` many times, which has poor performance.  Consider joining all columns at once using pd.concat(axis=1) instead. To get a de-fragmented frame, use `newframe = frame.copy()`\n",
      "  residuals[tick] = model.resid\n",
      "/var/folders/g5/7q0ynznx5hs03d9_7j1h1qbc0000gn/T/ipykernel_4282/3373143136.py:6: PerformanceWarning: DataFrame is highly fragmented.  This is usually the result of calling `frame.insert` many times, which has poor performance.  Consider joining all columns at once using pd.concat(axis=1) instead. To get a de-fragmented frame, use `newframe = frame.copy()`\n",
      "  residuals[tick] = model.resid\n",
      "/var/folders/g5/7q0ynznx5hs03d9_7j1h1qbc0000gn/T/ipykernel_4282/3373143136.py:6: PerformanceWarning: DataFrame is highly fragmented.  This is usually the result of calling `frame.insert` many times, which has poor performance.  Consider joining all columns at once using pd.concat(axis=1) instead. To get a de-fragmented frame, use `newframe = frame.copy()`\n",
      "  residuals[tick] = model.resid\n",
      "/var/folders/g5/7q0ynznx5hs03d9_7j1h1qbc0000gn/T/ipykernel_4282/3373143136.py:6: PerformanceWarning: DataFrame is highly fragmented.  This is usually the result of calling `frame.insert` many times, which has poor performance.  Consider joining all columns at once using pd.concat(axis=1) instead. To get a de-fragmented frame, use `newframe = frame.copy()`\n",
      "  residuals[tick] = model.resid\n",
      "/var/folders/g5/7q0ynznx5hs03d9_7j1h1qbc0000gn/T/ipykernel_4282/3373143136.py:6: PerformanceWarning: DataFrame is highly fragmented.  This is usually the result of calling `frame.insert` many times, which has poor performance.  Consider joining all columns at once using pd.concat(axis=1) instead. To get a de-fragmented frame, use `newframe = frame.copy()`\n",
      "  residuals[tick] = model.resid\n",
      "/var/folders/g5/7q0ynznx5hs03d9_7j1h1qbc0000gn/T/ipykernel_4282/3373143136.py:6: PerformanceWarning: DataFrame is highly fragmented.  This is usually the result of calling `frame.insert` many times, which has poor performance.  Consider joining all columns at once using pd.concat(axis=1) instead. To get a de-fragmented frame, use `newframe = frame.copy()`\n",
      "  residuals[tick] = model.resid\n",
      "/var/folders/g5/7q0ynznx5hs03d9_7j1h1qbc0000gn/T/ipykernel_4282/3373143136.py:6: PerformanceWarning: DataFrame is highly fragmented.  This is usually the result of calling `frame.insert` many times, which has poor performance.  Consider joining all columns at once using pd.concat(axis=1) instead. To get a de-fragmented frame, use `newframe = frame.copy()`\n",
      "  residuals[tick] = model.resid\n",
      "/var/folders/g5/7q0ynznx5hs03d9_7j1h1qbc0000gn/T/ipykernel_4282/3373143136.py:6: PerformanceWarning: DataFrame is highly fragmented.  This is usually the result of calling `frame.insert` many times, which has poor performance.  Consider joining all columns at once using pd.concat(axis=1) instead. To get a de-fragmented frame, use `newframe = frame.copy()`\n",
      "  residuals[tick] = model.resid\n",
      "/var/folders/g5/7q0ynznx5hs03d9_7j1h1qbc0000gn/T/ipykernel_4282/3373143136.py:6: PerformanceWarning: DataFrame is highly fragmented.  This is usually the result of calling `frame.insert` many times, which has poor performance.  Consider joining all columns at once using pd.concat(axis=1) instead. To get a de-fragmented frame, use `newframe = frame.copy()`\n",
      "  residuals[tick] = model.resid\n",
      "/var/folders/g5/7q0ynznx5hs03d9_7j1h1qbc0000gn/T/ipykernel_4282/3373143136.py:6: PerformanceWarning: DataFrame is highly fragmented.  This is usually the result of calling `frame.insert` many times, which has poor performance.  Consider joining all columns at once using pd.concat(axis=1) instead. To get a de-fragmented frame, use `newframe = frame.copy()`\n",
      "  residuals[tick] = model.resid\n",
      "/var/folders/g5/7q0ynznx5hs03d9_7j1h1qbc0000gn/T/ipykernel_4282/3373143136.py:6: PerformanceWarning: DataFrame is highly fragmented.  This is usually the result of calling `frame.insert` many times, which has poor performance.  Consider joining all columns at once using pd.concat(axis=1) instead. To get a de-fragmented frame, use `newframe = frame.copy()`\n",
      "  residuals[tick] = model.resid\n",
      "/var/folders/g5/7q0ynznx5hs03d9_7j1h1qbc0000gn/T/ipykernel_4282/3373143136.py:6: PerformanceWarning: DataFrame is highly fragmented.  This is usually the result of calling `frame.insert` many times, which has poor performance.  Consider joining all columns at once using pd.concat(axis=1) instead. To get a de-fragmented frame, use `newframe = frame.copy()`\n",
      "  residuals[tick] = model.resid\n",
      "/var/folders/g5/7q0ynznx5hs03d9_7j1h1qbc0000gn/T/ipykernel_4282/3373143136.py:6: PerformanceWarning: DataFrame is highly fragmented.  This is usually the result of calling `frame.insert` many times, which has poor performance.  Consider joining all columns at once using pd.concat(axis=1) instead. To get a de-fragmented frame, use `newframe = frame.copy()`\n",
      "  residuals[tick] = model.resid\n",
      "/var/folders/g5/7q0ynznx5hs03d9_7j1h1qbc0000gn/T/ipykernel_4282/3373143136.py:6: PerformanceWarning: DataFrame is highly fragmented.  This is usually the result of calling `frame.insert` many times, which has poor performance.  Consider joining all columns at once using pd.concat(axis=1) instead. To get a de-fragmented frame, use `newframe = frame.copy()`\n",
      "  residuals[tick] = model.resid\n",
      "/var/folders/g5/7q0ynznx5hs03d9_7j1h1qbc0000gn/T/ipykernel_4282/3373143136.py:6: PerformanceWarning: DataFrame is highly fragmented.  This is usually the result of calling `frame.insert` many times, which has poor performance.  Consider joining all columns at once using pd.concat(axis=1) instead. To get a de-fragmented frame, use `newframe = frame.copy()`\n",
      "  residuals[tick] = model.resid\n",
      "/var/folders/g5/7q0ynznx5hs03d9_7j1h1qbc0000gn/T/ipykernel_4282/3373143136.py:6: PerformanceWarning: DataFrame is highly fragmented.  This is usually the result of calling `frame.insert` many times, which has poor performance.  Consider joining all columns at once using pd.concat(axis=1) instead. To get a de-fragmented frame, use `newframe = frame.copy()`\n",
      "  residuals[tick] = model.resid\n",
      "/var/folders/g5/7q0ynznx5hs03d9_7j1h1qbc0000gn/T/ipykernel_4282/3373143136.py:6: PerformanceWarning: DataFrame is highly fragmented.  This is usually the result of calling `frame.insert` many times, which has poor performance.  Consider joining all columns at once using pd.concat(axis=1) instead. To get a de-fragmented frame, use `newframe = frame.copy()`\n",
      "  residuals[tick] = model.resid\n",
      "/var/folders/g5/7q0ynznx5hs03d9_7j1h1qbc0000gn/T/ipykernel_4282/3373143136.py:6: PerformanceWarning: DataFrame is highly fragmented.  This is usually the result of calling `frame.insert` many times, which has poor performance.  Consider joining all columns at once using pd.concat(axis=1) instead. To get a de-fragmented frame, use `newframe = frame.copy()`\n",
      "  residuals[tick] = model.resid\n",
      "/var/folders/g5/7q0ynznx5hs03d9_7j1h1qbc0000gn/T/ipykernel_4282/3373143136.py:6: PerformanceWarning: DataFrame is highly fragmented.  This is usually the result of calling `frame.insert` many times, which has poor performance.  Consider joining all columns at once using pd.concat(axis=1) instead. To get a de-fragmented frame, use `newframe = frame.copy()`\n",
      "  residuals[tick] = model.resid\n",
      "/var/folders/g5/7q0ynznx5hs03d9_7j1h1qbc0000gn/T/ipykernel_4282/3373143136.py:6: PerformanceWarning: DataFrame is highly fragmented.  This is usually the result of calling `frame.insert` many times, which has poor performance.  Consider joining all columns at once using pd.concat(axis=1) instead. To get a de-fragmented frame, use `newframe = frame.copy()`\n",
      "  residuals[tick] = model.resid\n",
      "/var/folders/g5/7q0ynznx5hs03d9_7j1h1qbc0000gn/T/ipykernel_4282/3373143136.py:6: PerformanceWarning: DataFrame is highly fragmented.  This is usually the result of calling `frame.insert` many times, which has poor performance.  Consider joining all columns at once using pd.concat(axis=1) instead. To get a de-fragmented frame, use `newframe = frame.copy()`\n",
      "  residuals[tick] = model.resid\n",
      "/var/folders/g5/7q0ynznx5hs03d9_7j1h1qbc0000gn/T/ipykernel_4282/3373143136.py:6: PerformanceWarning: DataFrame is highly fragmented.  This is usually the result of calling `frame.insert` many times, which has poor performance.  Consider joining all columns at once using pd.concat(axis=1) instead. To get a de-fragmented frame, use `newframe = frame.copy()`\n",
      "  residuals[tick] = model.resid\n",
      "/var/folders/g5/7q0ynznx5hs03d9_7j1h1qbc0000gn/T/ipykernel_4282/3373143136.py:6: PerformanceWarning: DataFrame is highly fragmented.  This is usually the result of calling `frame.insert` many times, which has poor performance.  Consider joining all columns at once using pd.concat(axis=1) instead. To get a de-fragmented frame, use `newframe = frame.copy()`\n",
      "  residuals[tick] = model.resid\n",
      "/var/folders/g5/7q0ynznx5hs03d9_7j1h1qbc0000gn/T/ipykernel_4282/3373143136.py:6: PerformanceWarning: DataFrame is highly fragmented.  This is usually the result of calling `frame.insert` many times, which has poor performance.  Consider joining all columns at once using pd.concat(axis=1) instead. To get a de-fragmented frame, use `newframe = frame.copy()`\n",
      "  residuals[tick] = model.resid\n",
      "/var/folders/g5/7q0ynznx5hs03d9_7j1h1qbc0000gn/T/ipykernel_4282/3373143136.py:6: PerformanceWarning: DataFrame is highly fragmented.  This is usually the result of calling `frame.insert` many times, which has poor performance.  Consider joining all columns at once using pd.concat(axis=1) instead. To get a de-fragmented frame, use `newframe = frame.copy()`\n",
      "  residuals[tick] = model.resid\n",
      "/var/folders/g5/7q0ynznx5hs03d9_7j1h1qbc0000gn/T/ipykernel_4282/3373143136.py:6: PerformanceWarning: DataFrame is highly fragmented.  This is usually the result of calling `frame.insert` many times, which has poor performance.  Consider joining all columns at once using pd.concat(axis=1) instead. To get a de-fragmented frame, use `newframe = frame.copy()`\n",
      "  residuals[tick] = model.resid\n",
      "/var/folders/g5/7q0ynznx5hs03d9_7j1h1qbc0000gn/T/ipykernel_4282/3373143136.py:6: PerformanceWarning: DataFrame is highly fragmented.  This is usually the result of calling `frame.insert` many times, which has poor performance.  Consider joining all columns at once using pd.concat(axis=1) instead. To get a de-fragmented frame, use `newframe = frame.copy()`\n",
      "  residuals[tick] = model.resid\n",
      "/var/folders/g5/7q0ynznx5hs03d9_7j1h1qbc0000gn/T/ipykernel_4282/3373143136.py:6: PerformanceWarning: DataFrame is highly fragmented.  This is usually the result of calling `frame.insert` many times, which has poor performance.  Consider joining all columns at once using pd.concat(axis=1) instead. To get a de-fragmented frame, use `newframe = frame.copy()`\n",
      "  residuals[tick] = model.resid\n",
      "/var/folders/g5/7q0ynznx5hs03d9_7j1h1qbc0000gn/T/ipykernel_4282/3373143136.py:6: PerformanceWarning: DataFrame is highly fragmented.  This is usually the result of calling `frame.insert` many times, which has poor performance.  Consider joining all columns at once using pd.concat(axis=1) instead. To get a de-fragmented frame, use `newframe = frame.copy()`\n",
      "  residuals[tick] = model.resid\n",
      "/var/folders/g5/7q0ynznx5hs03d9_7j1h1qbc0000gn/T/ipykernel_4282/3373143136.py:6: PerformanceWarning: DataFrame is highly fragmented.  This is usually the result of calling `frame.insert` many times, which has poor performance.  Consider joining all columns at once using pd.concat(axis=1) instead. To get a de-fragmented frame, use `newframe = frame.copy()`\n",
      "  residuals[tick] = model.resid\n",
      "/var/folders/g5/7q0ynznx5hs03d9_7j1h1qbc0000gn/T/ipykernel_4282/3373143136.py:6: PerformanceWarning: DataFrame is highly fragmented.  This is usually the result of calling `frame.insert` many times, which has poor performance.  Consider joining all columns at once using pd.concat(axis=1) instead. To get a de-fragmented frame, use `newframe = frame.copy()`\n",
      "  residuals[tick] = model.resid\n",
      "/var/folders/g5/7q0ynznx5hs03d9_7j1h1qbc0000gn/T/ipykernel_4282/3373143136.py:6: PerformanceWarning: DataFrame is highly fragmented.  This is usually the result of calling `frame.insert` many times, which has poor performance.  Consider joining all columns at once using pd.concat(axis=1) instead. To get a de-fragmented frame, use `newframe = frame.copy()`\n",
      "  residuals[tick] = model.resid\n",
      "/var/folders/g5/7q0ynznx5hs03d9_7j1h1qbc0000gn/T/ipykernel_4282/3373143136.py:6: PerformanceWarning: DataFrame is highly fragmented.  This is usually the result of calling `frame.insert` many times, which has poor performance.  Consider joining all columns at once using pd.concat(axis=1) instead. To get a de-fragmented frame, use `newframe = frame.copy()`\n",
      "  residuals[tick] = model.resid\n",
      "/var/folders/g5/7q0ynznx5hs03d9_7j1h1qbc0000gn/T/ipykernel_4282/3373143136.py:6: PerformanceWarning: DataFrame is highly fragmented.  This is usually the result of calling `frame.insert` many times, which has poor performance.  Consider joining all columns at once using pd.concat(axis=1) instead. To get a de-fragmented frame, use `newframe = frame.copy()`\n",
      "  residuals[tick] = model.resid\n",
      "/var/folders/g5/7q0ynznx5hs03d9_7j1h1qbc0000gn/T/ipykernel_4282/3373143136.py:6: PerformanceWarning: DataFrame is highly fragmented.  This is usually the result of calling `frame.insert` many times, which has poor performance.  Consider joining all columns at once using pd.concat(axis=1) instead. To get a de-fragmented frame, use `newframe = frame.copy()`\n",
      "  residuals[tick] = model.resid\n",
      "/var/folders/g5/7q0ynznx5hs03d9_7j1h1qbc0000gn/T/ipykernel_4282/3373143136.py:6: PerformanceWarning: DataFrame is highly fragmented.  This is usually the result of calling `frame.insert` many times, which has poor performance.  Consider joining all columns at once using pd.concat(axis=1) instead. To get a de-fragmented frame, use `newframe = frame.copy()`\n",
      "  residuals[tick] = model.resid\n",
      "/var/folders/g5/7q0ynznx5hs03d9_7j1h1qbc0000gn/T/ipykernel_4282/3373143136.py:6: PerformanceWarning: DataFrame is highly fragmented.  This is usually the result of calling `frame.insert` many times, which has poor performance.  Consider joining all columns at once using pd.concat(axis=1) instead. To get a de-fragmented frame, use `newframe = frame.copy()`\n",
      "  residuals[tick] = model.resid\n",
      "/var/folders/g5/7q0ynznx5hs03d9_7j1h1qbc0000gn/T/ipykernel_4282/3373143136.py:6: PerformanceWarning: DataFrame is highly fragmented.  This is usually the result of calling `frame.insert` many times, which has poor performance.  Consider joining all columns at once using pd.concat(axis=1) instead. To get a de-fragmented frame, use `newframe = frame.copy()`\n",
      "  residuals[tick] = model.resid\n",
      "/var/folders/g5/7q0ynznx5hs03d9_7j1h1qbc0000gn/T/ipykernel_4282/3373143136.py:6: PerformanceWarning: DataFrame is highly fragmented.  This is usually the result of calling `frame.insert` many times, which has poor performance.  Consider joining all columns at once using pd.concat(axis=1) instead. To get a de-fragmented frame, use `newframe = frame.copy()`\n",
      "  residuals[tick] = model.resid\n",
      "/var/folders/g5/7q0ynznx5hs03d9_7j1h1qbc0000gn/T/ipykernel_4282/3373143136.py:6: PerformanceWarning: DataFrame is highly fragmented.  This is usually the result of calling `frame.insert` many times, which has poor performance.  Consider joining all columns at once using pd.concat(axis=1) instead. To get a de-fragmented frame, use `newframe = frame.copy()`\n",
      "  residuals[tick] = model.resid\n",
      "/var/folders/g5/7q0ynznx5hs03d9_7j1h1qbc0000gn/T/ipykernel_4282/3373143136.py:6: PerformanceWarning: DataFrame is highly fragmented.  This is usually the result of calling `frame.insert` many times, which has poor performance.  Consider joining all columns at once using pd.concat(axis=1) instead. To get a de-fragmented frame, use `newframe = frame.copy()`\n",
      "  residuals[tick] = model.resid\n",
      "/var/folders/g5/7q0ynznx5hs03d9_7j1h1qbc0000gn/T/ipykernel_4282/3373143136.py:6: PerformanceWarning: DataFrame is highly fragmented.  This is usually the result of calling `frame.insert` many times, which has poor performance.  Consider joining all columns at once using pd.concat(axis=1) instead. To get a de-fragmented frame, use `newframe = frame.copy()`\n",
      "  residuals[tick] = model.resid\n",
      "/var/folders/g5/7q0ynznx5hs03d9_7j1h1qbc0000gn/T/ipykernel_4282/3373143136.py:6: PerformanceWarning: DataFrame is highly fragmented.  This is usually the result of calling `frame.insert` many times, which has poor performance.  Consider joining all columns at once using pd.concat(axis=1) instead. To get a de-fragmented frame, use `newframe = frame.copy()`\n",
      "  residuals[tick] = model.resid\n",
      "/var/folders/g5/7q0ynznx5hs03d9_7j1h1qbc0000gn/T/ipykernel_4282/3373143136.py:6: PerformanceWarning: DataFrame is highly fragmented.  This is usually the result of calling `frame.insert` many times, which has poor performance.  Consider joining all columns at once using pd.concat(axis=1) instead. To get a de-fragmented frame, use `newframe = frame.copy()`\n",
      "  residuals[tick] = model.resid\n",
      "/var/folders/g5/7q0ynznx5hs03d9_7j1h1qbc0000gn/T/ipykernel_4282/3373143136.py:6: PerformanceWarning: DataFrame is highly fragmented.  This is usually the result of calling `frame.insert` many times, which has poor performance.  Consider joining all columns at once using pd.concat(axis=1) instead. To get a de-fragmented frame, use `newframe = frame.copy()`\n",
      "  residuals[tick] = model.resid\n",
      "/var/folders/g5/7q0ynznx5hs03d9_7j1h1qbc0000gn/T/ipykernel_4282/3373143136.py:6: PerformanceWarning: DataFrame is highly fragmented.  This is usually the result of calling `frame.insert` many times, which has poor performance.  Consider joining all columns at once using pd.concat(axis=1) instead. To get a de-fragmented frame, use `newframe = frame.copy()`\n",
      "  residuals[tick] = model.resid\n",
      "/var/folders/g5/7q0ynznx5hs03d9_7j1h1qbc0000gn/T/ipykernel_4282/3373143136.py:6: PerformanceWarning: DataFrame is highly fragmented.  This is usually the result of calling `frame.insert` many times, which has poor performance.  Consider joining all columns at once using pd.concat(axis=1) instead. To get a de-fragmented frame, use `newframe = frame.copy()`\n",
      "  residuals[tick] = model.resid\n",
      "/var/folders/g5/7q0ynznx5hs03d9_7j1h1qbc0000gn/T/ipykernel_4282/3373143136.py:6: PerformanceWarning: DataFrame is highly fragmented.  This is usually the result of calling `frame.insert` many times, which has poor performance.  Consider joining all columns at once using pd.concat(axis=1) instead. To get a de-fragmented frame, use `newframe = frame.copy()`\n",
      "  residuals[tick] = model.resid\n",
      "/var/folders/g5/7q0ynznx5hs03d9_7j1h1qbc0000gn/T/ipykernel_4282/3373143136.py:6: PerformanceWarning: DataFrame is highly fragmented.  This is usually the result of calling `frame.insert` many times, which has poor performance.  Consider joining all columns at once using pd.concat(axis=1) instead. To get a de-fragmented frame, use `newframe = frame.copy()`\n",
      "  residuals[tick] = model.resid\n",
      "/var/folders/g5/7q0ynznx5hs03d9_7j1h1qbc0000gn/T/ipykernel_4282/3373143136.py:6: PerformanceWarning: DataFrame is highly fragmented.  This is usually the result of calling `frame.insert` many times, which has poor performance.  Consider joining all columns at once using pd.concat(axis=1) instead. To get a de-fragmented frame, use `newframe = frame.copy()`\n",
      "  residuals[tick] = model.resid\n",
      "/var/folders/g5/7q0ynznx5hs03d9_7j1h1qbc0000gn/T/ipykernel_4282/3373143136.py:6: PerformanceWarning: DataFrame is highly fragmented.  This is usually the result of calling `frame.insert` many times, which has poor performance.  Consider joining all columns at once using pd.concat(axis=1) instead. To get a de-fragmented frame, use `newframe = frame.copy()`\n",
      "  residuals[tick] = model.resid\n",
      "/var/folders/g5/7q0ynznx5hs03d9_7j1h1qbc0000gn/T/ipykernel_4282/3373143136.py:6: PerformanceWarning: DataFrame is highly fragmented.  This is usually the result of calling `frame.insert` many times, which has poor performance.  Consider joining all columns at once using pd.concat(axis=1) instead. To get a de-fragmented frame, use `newframe = frame.copy()`\n",
      "  residuals[tick] = model.resid\n",
      "/var/folders/g5/7q0ynznx5hs03d9_7j1h1qbc0000gn/T/ipykernel_4282/3373143136.py:6: PerformanceWarning: DataFrame is highly fragmented.  This is usually the result of calling `frame.insert` many times, which has poor performance.  Consider joining all columns at once using pd.concat(axis=1) instead. To get a de-fragmented frame, use `newframe = frame.copy()`\n",
      "  residuals[tick] = model.resid\n",
      "/var/folders/g5/7q0ynznx5hs03d9_7j1h1qbc0000gn/T/ipykernel_4282/3373143136.py:6: PerformanceWarning: DataFrame is highly fragmented.  This is usually the result of calling `frame.insert` many times, which has poor performance.  Consider joining all columns at once using pd.concat(axis=1) instead. To get a de-fragmented frame, use `newframe = frame.copy()`\n",
      "  residuals[tick] = model.resid\n",
      "/var/folders/g5/7q0ynznx5hs03d9_7j1h1qbc0000gn/T/ipykernel_4282/3373143136.py:6: PerformanceWarning: DataFrame is highly fragmented.  This is usually the result of calling `frame.insert` many times, which has poor performance.  Consider joining all columns at once using pd.concat(axis=1) instead. To get a de-fragmented frame, use `newframe = frame.copy()`\n",
      "  residuals[tick] = model.resid\n",
      "/var/folders/g5/7q0ynznx5hs03d9_7j1h1qbc0000gn/T/ipykernel_4282/3373143136.py:6: PerformanceWarning: DataFrame is highly fragmented.  This is usually the result of calling `frame.insert` many times, which has poor performance.  Consider joining all columns at once using pd.concat(axis=1) instead. To get a de-fragmented frame, use `newframe = frame.copy()`\n",
      "  residuals[tick] = model.resid\n",
      "/var/folders/g5/7q0ynznx5hs03d9_7j1h1qbc0000gn/T/ipykernel_4282/3373143136.py:6: PerformanceWarning: DataFrame is highly fragmented.  This is usually the result of calling `frame.insert` many times, which has poor performance.  Consider joining all columns at once using pd.concat(axis=1) instead. To get a de-fragmented frame, use `newframe = frame.copy()`\n",
      "  residuals[tick] = model.resid\n",
      "/var/folders/g5/7q0ynznx5hs03d9_7j1h1qbc0000gn/T/ipykernel_4282/3373143136.py:6: PerformanceWarning: DataFrame is highly fragmented.  This is usually the result of calling `frame.insert` many times, which has poor performance.  Consider joining all columns at once using pd.concat(axis=1) instead. To get a de-fragmented frame, use `newframe = frame.copy()`\n",
      "  residuals[tick] = model.resid\n",
      "/var/folders/g5/7q0ynznx5hs03d9_7j1h1qbc0000gn/T/ipykernel_4282/3373143136.py:6: PerformanceWarning: DataFrame is highly fragmented.  This is usually the result of calling `frame.insert` many times, which has poor performance.  Consider joining all columns at once using pd.concat(axis=1) instead. To get a de-fragmented frame, use `newframe = frame.copy()`\n",
      "  residuals[tick] = model.resid\n",
      "/var/folders/g5/7q0ynznx5hs03d9_7j1h1qbc0000gn/T/ipykernel_4282/3373143136.py:6: PerformanceWarning: DataFrame is highly fragmented.  This is usually the result of calling `frame.insert` many times, which has poor performance.  Consider joining all columns at once using pd.concat(axis=1) instead. To get a de-fragmented frame, use `newframe = frame.copy()`\n",
      "  residuals[tick] = model.resid\n",
      "/var/folders/g5/7q0ynznx5hs03d9_7j1h1qbc0000gn/T/ipykernel_4282/3373143136.py:6: PerformanceWarning: DataFrame is highly fragmented.  This is usually the result of calling `frame.insert` many times, which has poor performance.  Consider joining all columns at once using pd.concat(axis=1) instead. To get a de-fragmented frame, use `newframe = frame.copy()`\n",
      "  residuals[tick] = model.resid\n",
      "/var/folders/g5/7q0ynznx5hs03d9_7j1h1qbc0000gn/T/ipykernel_4282/3373143136.py:6: PerformanceWarning: DataFrame is highly fragmented.  This is usually the result of calling `frame.insert` many times, which has poor performance.  Consider joining all columns at once using pd.concat(axis=1) instead. To get a de-fragmented frame, use `newframe = frame.copy()`\n",
      "  residuals[tick] = model.resid\n",
      "/var/folders/g5/7q0ynznx5hs03d9_7j1h1qbc0000gn/T/ipykernel_4282/3373143136.py:6: PerformanceWarning: DataFrame is highly fragmented.  This is usually the result of calling `frame.insert` many times, which has poor performance.  Consider joining all columns at once using pd.concat(axis=1) instead. To get a de-fragmented frame, use `newframe = frame.copy()`\n",
      "  residuals[tick] = model.resid\n",
      "/var/folders/g5/7q0ynznx5hs03d9_7j1h1qbc0000gn/T/ipykernel_4282/3373143136.py:6: PerformanceWarning: DataFrame is highly fragmented.  This is usually the result of calling `frame.insert` many times, which has poor performance.  Consider joining all columns at once using pd.concat(axis=1) instead. To get a de-fragmented frame, use `newframe = frame.copy()`\n",
      "  residuals[tick] = model.resid\n",
      "/var/folders/g5/7q0ynznx5hs03d9_7j1h1qbc0000gn/T/ipykernel_4282/3373143136.py:6: PerformanceWarning: DataFrame is highly fragmented.  This is usually the result of calling `frame.insert` many times, which has poor performance.  Consider joining all columns at once using pd.concat(axis=1) instead. To get a de-fragmented frame, use `newframe = frame.copy()`\n",
      "  residuals[tick] = model.resid\n",
      "/var/folders/g5/7q0ynznx5hs03d9_7j1h1qbc0000gn/T/ipykernel_4282/3373143136.py:6: PerformanceWarning: DataFrame is highly fragmented.  This is usually the result of calling `frame.insert` many times, which has poor performance.  Consider joining all columns at once using pd.concat(axis=1) instead. To get a de-fragmented frame, use `newframe = frame.copy()`\n",
      "  residuals[tick] = model.resid\n",
      "/var/folders/g5/7q0ynznx5hs03d9_7j1h1qbc0000gn/T/ipykernel_4282/3373143136.py:6: PerformanceWarning: DataFrame is highly fragmented.  This is usually the result of calling `frame.insert` many times, which has poor performance.  Consider joining all columns at once using pd.concat(axis=1) instead. To get a de-fragmented frame, use `newframe = frame.copy()`\n",
      "  residuals[tick] = model.resid\n",
      "/var/folders/g5/7q0ynznx5hs03d9_7j1h1qbc0000gn/T/ipykernel_4282/3373143136.py:6: PerformanceWarning: DataFrame is highly fragmented.  This is usually the result of calling `frame.insert` many times, which has poor performance.  Consider joining all columns at once using pd.concat(axis=1) instead. To get a de-fragmented frame, use `newframe = frame.copy()`\n",
      "  residuals[tick] = model.resid\n",
      "/var/folders/g5/7q0ynznx5hs03d9_7j1h1qbc0000gn/T/ipykernel_4282/3373143136.py:6: PerformanceWarning: DataFrame is highly fragmented.  This is usually the result of calling `frame.insert` many times, which has poor performance.  Consider joining all columns at once using pd.concat(axis=1) instead. To get a de-fragmented frame, use `newframe = frame.copy()`\n",
      "  residuals[tick] = model.resid\n",
      "/var/folders/g5/7q0ynznx5hs03d9_7j1h1qbc0000gn/T/ipykernel_4282/3373143136.py:6: PerformanceWarning: DataFrame is highly fragmented.  This is usually the result of calling `frame.insert` many times, which has poor performance.  Consider joining all columns at once using pd.concat(axis=1) instead. To get a de-fragmented frame, use `newframe = frame.copy()`\n",
      "  residuals[tick] = model.resid\n",
      "/var/folders/g5/7q0ynznx5hs03d9_7j1h1qbc0000gn/T/ipykernel_4282/3373143136.py:6: PerformanceWarning: DataFrame is highly fragmented.  This is usually the result of calling `frame.insert` many times, which has poor performance.  Consider joining all columns at once using pd.concat(axis=1) instead. To get a de-fragmented frame, use `newframe = frame.copy()`\n",
      "  residuals[tick] = model.resid\n",
      "/var/folders/g5/7q0ynznx5hs03d9_7j1h1qbc0000gn/T/ipykernel_4282/3373143136.py:6: PerformanceWarning: DataFrame is highly fragmented.  This is usually the result of calling `frame.insert` many times, which has poor performance.  Consider joining all columns at once using pd.concat(axis=1) instead. To get a de-fragmented frame, use `newframe = frame.copy()`\n",
      "  residuals[tick] = model.resid\n",
      "/var/folders/g5/7q0ynznx5hs03d9_7j1h1qbc0000gn/T/ipykernel_4282/3373143136.py:6: PerformanceWarning: DataFrame is highly fragmented.  This is usually the result of calling `frame.insert` many times, which has poor performance.  Consider joining all columns at once using pd.concat(axis=1) instead. To get a de-fragmented frame, use `newframe = frame.copy()`\n",
      "  residuals[tick] = model.resid\n",
      "/var/folders/g5/7q0ynznx5hs03d9_7j1h1qbc0000gn/T/ipykernel_4282/3373143136.py:6: PerformanceWarning: DataFrame is highly fragmented.  This is usually the result of calling `frame.insert` many times, which has poor performance.  Consider joining all columns at once using pd.concat(axis=1) instead. To get a de-fragmented frame, use `newframe = frame.copy()`\n",
      "  residuals[tick] = model.resid\n",
      "/var/folders/g5/7q0ynznx5hs03d9_7j1h1qbc0000gn/T/ipykernel_4282/3373143136.py:6: PerformanceWarning: DataFrame is highly fragmented.  This is usually the result of calling `frame.insert` many times, which has poor performance.  Consider joining all columns at once using pd.concat(axis=1) instead. To get a de-fragmented frame, use `newframe = frame.copy()`\n",
      "  residuals[tick] = model.resid\n",
      "/var/folders/g5/7q0ynznx5hs03d9_7j1h1qbc0000gn/T/ipykernel_4282/3373143136.py:6: PerformanceWarning: DataFrame is highly fragmented.  This is usually the result of calling `frame.insert` many times, which has poor performance.  Consider joining all columns at once using pd.concat(axis=1) instead. To get a de-fragmented frame, use `newframe = frame.copy()`\n",
      "  residuals[tick] = model.resid\n",
      "/var/folders/g5/7q0ynznx5hs03d9_7j1h1qbc0000gn/T/ipykernel_4282/3373143136.py:6: PerformanceWarning: DataFrame is highly fragmented.  This is usually the result of calling `frame.insert` many times, which has poor performance.  Consider joining all columns at once using pd.concat(axis=1) instead. To get a de-fragmented frame, use `newframe = frame.copy()`\n",
      "  residuals[tick] = model.resid\n",
      "/var/folders/g5/7q0ynznx5hs03d9_7j1h1qbc0000gn/T/ipykernel_4282/3373143136.py:6: PerformanceWarning: DataFrame is highly fragmented.  This is usually the result of calling `frame.insert` many times, which has poor performance.  Consider joining all columns at once using pd.concat(axis=1) instead. To get a de-fragmented frame, use `newframe = frame.copy()`\n",
      "  residuals[tick] = model.resid\n",
      "/var/folders/g5/7q0ynznx5hs03d9_7j1h1qbc0000gn/T/ipykernel_4282/3373143136.py:6: PerformanceWarning: DataFrame is highly fragmented.  This is usually the result of calling `frame.insert` many times, which has poor performance.  Consider joining all columns at once using pd.concat(axis=1) instead. To get a de-fragmented frame, use `newframe = frame.copy()`\n",
      "  residuals[tick] = model.resid\n",
      "/var/folders/g5/7q0ynznx5hs03d9_7j1h1qbc0000gn/T/ipykernel_4282/3373143136.py:6: PerformanceWarning: DataFrame is highly fragmented.  This is usually the result of calling `frame.insert` many times, which has poor performance.  Consider joining all columns at once using pd.concat(axis=1) instead. To get a de-fragmented frame, use `newframe = frame.copy()`\n",
      "  residuals[tick] = model.resid\n",
      "/var/folders/g5/7q0ynznx5hs03d9_7j1h1qbc0000gn/T/ipykernel_4282/3373143136.py:6: PerformanceWarning: DataFrame is highly fragmented.  This is usually the result of calling `frame.insert` many times, which has poor performance.  Consider joining all columns at once using pd.concat(axis=1) instead. To get a de-fragmented frame, use `newframe = frame.copy()`\n",
      "  residuals[tick] = model.resid\n",
      "/var/folders/g5/7q0ynznx5hs03d9_7j1h1qbc0000gn/T/ipykernel_4282/3373143136.py:6: PerformanceWarning: DataFrame is highly fragmented.  This is usually the result of calling `frame.insert` many times, which has poor performance.  Consider joining all columns at once using pd.concat(axis=1) instead. To get a de-fragmented frame, use `newframe = frame.copy()`\n",
      "  residuals[tick] = model.resid\n",
      "/var/folders/g5/7q0ynznx5hs03d9_7j1h1qbc0000gn/T/ipykernel_4282/3373143136.py:6: PerformanceWarning: DataFrame is highly fragmented.  This is usually the result of calling `frame.insert` many times, which has poor performance.  Consider joining all columns at once using pd.concat(axis=1) instead. To get a de-fragmented frame, use `newframe = frame.copy()`\n",
      "  residuals[tick] = model.resid\n",
      "/var/folders/g5/7q0ynznx5hs03d9_7j1h1qbc0000gn/T/ipykernel_4282/3373143136.py:6: PerformanceWarning: DataFrame is highly fragmented.  This is usually the result of calling `frame.insert` many times, which has poor performance.  Consider joining all columns at once using pd.concat(axis=1) instead. To get a de-fragmented frame, use `newframe = frame.copy()`\n",
      "  residuals[tick] = model.resid\n",
      "/var/folders/g5/7q0ynznx5hs03d9_7j1h1qbc0000gn/T/ipykernel_4282/3373143136.py:6: PerformanceWarning: DataFrame is highly fragmented.  This is usually the result of calling `frame.insert` many times, which has poor performance.  Consider joining all columns at once using pd.concat(axis=1) instead. To get a de-fragmented frame, use `newframe = frame.copy()`\n",
      "  residuals[tick] = model.resid\n",
      "/var/folders/g5/7q0ynznx5hs03d9_7j1h1qbc0000gn/T/ipykernel_4282/3373143136.py:6: PerformanceWarning: DataFrame is highly fragmented.  This is usually the result of calling `frame.insert` many times, which has poor performance.  Consider joining all columns at once using pd.concat(axis=1) instead. To get a de-fragmented frame, use `newframe = frame.copy()`\n",
      "  residuals[tick] = model.resid\n",
      "/var/folders/g5/7q0ynznx5hs03d9_7j1h1qbc0000gn/T/ipykernel_4282/3373143136.py:6: PerformanceWarning: DataFrame is highly fragmented.  This is usually the result of calling `frame.insert` many times, which has poor performance.  Consider joining all columns at once using pd.concat(axis=1) instead. To get a de-fragmented frame, use `newframe = frame.copy()`\n",
      "  residuals[tick] = model.resid\n",
      "/var/folders/g5/7q0ynznx5hs03d9_7j1h1qbc0000gn/T/ipykernel_4282/3373143136.py:6: PerformanceWarning: DataFrame is highly fragmented.  This is usually the result of calling `frame.insert` many times, which has poor performance.  Consider joining all columns at once using pd.concat(axis=1) instead. To get a de-fragmented frame, use `newframe = frame.copy()`\n",
      "  residuals[tick] = model.resid\n",
      "/var/folders/g5/7q0ynznx5hs03d9_7j1h1qbc0000gn/T/ipykernel_4282/3373143136.py:6: PerformanceWarning: DataFrame is highly fragmented.  This is usually the result of calling `frame.insert` many times, which has poor performance.  Consider joining all columns at once using pd.concat(axis=1) instead. To get a de-fragmented frame, use `newframe = frame.copy()`\n",
      "  residuals[tick] = model.resid\n",
      "/var/folders/g5/7q0ynznx5hs03d9_7j1h1qbc0000gn/T/ipykernel_4282/3373143136.py:6: PerformanceWarning: DataFrame is highly fragmented.  This is usually the result of calling `frame.insert` many times, which has poor performance.  Consider joining all columns at once using pd.concat(axis=1) instead. To get a de-fragmented frame, use `newframe = frame.copy()`\n",
      "  residuals[tick] = model.resid\n",
      "/var/folders/g5/7q0ynznx5hs03d9_7j1h1qbc0000gn/T/ipykernel_4282/3373143136.py:6: PerformanceWarning: DataFrame is highly fragmented.  This is usually the result of calling `frame.insert` many times, which has poor performance.  Consider joining all columns at once using pd.concat(axis=1) instead. To get a de-fragmented frame, use `newframe = frame.copy()`\n",
      "  residuals[tick] = model.resid\n",
      "/var/folders/g5/7q0ynznx5hs03d9_7j1h1qbc0000gn/T/ipykernel_4282/3373143136.py:6: PerformanceWarning: DataFrame is highly fragmented.  This is usually the result of calling `frame.insert` many times, which has poor performance.  Consider joining all columns at once using pd.concat(axis=1) instead. To get a de-fragmented frame, use `newframe = frame.copy()`\n",
      "  residuals[tick] = model.resid\n",
      "/var/folders/g5/7q0ynznx5hs03d9_7j1h1qbc0000gn/T/ipykernel_4282/3373143136.py:6: PerformanceWarning: DataFrame is highly fragmented.  This is usually the result of calling `frame.insert` many times, which has poor performance.  Consider joining all columns at once using pd.concat(axis=1) instead. To get a de-fragmented frame, use `newframe = frame.copy()`\n",
      "  residuals[tick] = model.resid\n",
      "/var/folders/g5/7q0ynznx5hs03d9_7j1h1qbc0000gn/T/ipykernel_4282/3373143136.py:6: PerformanceWarning: DataFrame is highly fragmented.  This is usually the result of calling `frame.insert` many times, which has poor performance.  Consider joining all columns at once using pd.concat(axis=1) instead. To get a de-fragmented frame, use `newframe = frame.copy()`\n",
      "  residuals[tick] = model.resid\n",
      "/var/folders/g5/7q0ynznx5hs03d9_7j1h1qbc0000gn/T/ipykernel_4282/3373143136.py:6: PerformanceWarning: DataFrame is highly fragmented.  This is usually the result of calling `frame.insert` many times, which has poor performance.  Consider joining all columns at once using pd.concat(axis=1) instead. To get a de-fragmented frame, use `newframe = frame.copy()`\n",
      "  residuals[tick] = model.resid\n",
      "/var/folders/g5/7q0ynznx5hs03d9_7j1h1qbc0000gn/T/ipykernel_4282/3373143136.py:6: PerformanceWarning: DataFrame is highly fragmented.  This is usually the result of calling `frame.insert` many times, which has poor performance.  Consider joining all columns at once using pd.concat(axis=1) instead. To get a de-fragmented frame, use `newframe = frame.copy()`\n",
      "  residuals[tick] = model.resid\n",
      "/var/folders/g5/7q0ynznx5hs03d9_7j1h1qbc0000gn/T/ipykernel_4282/3373143136.py:6: PerformanceWarning: DataFrame is highly fragmented.  This is usually the result of calling `frame.insert` many times, which has poor performance.  Consider joining all columns at once using pd.concat(axis=1) instead. To get a de-fragmented frame, use `newframe = frame.copy()`\n",
      "  residuals[tick] = model.resid\n",
      "/var/folders/g5/7q0ynznx5hs03d9_7j1h1qbc0000gn/T/ipykernel_4282/3373143136.py:6: PerformanceWarning: DataFrame is highly fragmented.  This is usually the result of calling `frame.insert` many times, which has poor performance.  Consider joining all columns at once using pd.concat(axis=1) instead. To get a de-fragmented frame, use `newframe = frame.copy()`\n",
      "  residuals[tick] = model.resid\n",
      "/var/folders/g5/7q0ynznx5hs03d9_7j1h1qbc0000gn/T/ipykernel_4282/3373143136.py:6: PerformanceWarning: DataFrame is highly fragmented.  This is usually the result of calling `frame.insert` many times, which has poor performance.  Consider joining all columns at once using pd.concat(axis=1) instead. To get a de-fragmented frame, use `newframe = frame.copy()`\n",
      "  residuals[tick] = model.resid\n",
      "/var/folders/g5/7q0ynznx5hs03d9_7j1h1qbc0000gn/T/ipykernel_4282/3373143136.py:6: PerformanceWarning: DataFrame is highly fragmented.  This is usually the result of calling `frame.insert` many times, which has poor performance.  Consider joining all columns at once using pd.concat(axis=1) instead. To get a de-fragmented frame, use `newframe = frame.copy()`\n",
      "  residuals[tick] = model.resid\n",
      "/var/folders/g5/7q0ynznx5hs03d9_7j1h1qbc0000gn/T/ipykernel_4282/3373143136.py:6: PerformanceWarning: DataFrame is highly fragmented.  This is usually the result of calling `frame.insert` many times, which has poor performance.  Consider joining all columns at once using pd.concat(axis=1) instead. To get a de-fragmented frame, use `newframe = frame.copy()`\n",
      "  residuals[tick] = model.resid\n",
      "/var/folders/g5/7q0ynznx5hs03d9_7j1h1qbc0000gn/T/ipykernel_4282/3373143136.py:6: PerformanceWarning: DataFrame is highly fragmented.  This is usually the result of calling `frame.insert` many times, which has poor performance.  Consider joining all columns at once using pd.concat(axis=1) instead. To get a de-fragmented frame, use `newframe = frame.copy()`\n",
      "  residuals[tick] = model.resid\n",
      "/var/folders/g5/7q0ynznx5hs03d9_7j1h1qbc0000gn/T/ipykernel_4282/3373143136.py:6: PerformanceWarning: DataFrame is highly fragmented.  This is usually the result of calling `frame.insert` many times, which has poor performance.  Consider joining all columns at once using pd.concat(axis=1) instead. To get a de-fragmented frame, use `newframe = frame.copy()`\n",
      "  residuals[tick] = model.resid\n",
      "/var/folders/g5/7q0ynznx5hs03d9_7j1h1qbc0000gn/T/ipykernel_4282/3373143136.py:6: PerformanceWarning: DataFrame is highly fragmented.  This is usually the result of calling `frame.insert` many times, which has poor performance.  Consider joining all columns at once using pd.concat(axis=1) instead. To get a de-fragmented frame, use `newframe = frame.copy()`\n",
      "  residuals[tick] = model.resid\n",
      "/var/folders/g5/7q0ynznx5hs03d9_7j1h1qbc0000gn/T/ipykernel_4282/3373143136.py:6: PerformanceWarning: DataFrame is highly fragmented.  This is usually the result of calling `frame.insert` many times, which has poor performance.  Consider joining all columns at once using pd.concat(axis=1) instead. To get a de-fragmented frame, use `newframe = frame.copy()`\n",
      "  residuals[tick] = model.resid\n",
      "/var/folders/g5/7q0ynznx5hs03d9_7j1h1qbc0000gn/T/ipykernel_4282/3373143136.py:6: PerformanceWarning: DataFrame is highly fragmented.  This is usually the result of calling `frame.insert` many times, which has poor performance.  Consider joining all columns at once using pd.concat(axis=1) instead. To get a de-fragmented frame, use `newframe = frame.copy()`\n",
      "  residuals[tick] = model.resid\n",
      "/var/folders/g5/7q0ynznx5hs03d9_7j1h1qbc0000gn/T/ipykernel_4282/3373143136.py:6: PerformanceWarning: DataFrame is highly fragmented.  This is usually the result of calling `frame.insert` many times, which has poor performance.  Consider joining all columns at once using pd.concat(axis=1) instead. To get a de-fragmented frame, use `newframe = frame.copy()`\n",
      "  residuals[tick] = model.resid\n",
      "/var/folders/g5/7q0ynznx5hs03d9_7j1h1qbc0000gn/T/ipykernel_4282/3373143136.py:6: PerformanceWarning: DataFrame is highly fragmented.  This is usually the result of calling `frame.insert` many times, which has poor performance.  Consider joining all columns at once using pd.concat(axis=1) instead. To get a de-fragmented frame, use `newframe = frame.copy()`\n",
      "  residuals[tick] = model.resid\n",
      "/var/folders/g5/7q0ynznx5hs03d9_7j1h1qbc0000gn/T/ipykernel_4282/3373143136.py:6: PerformanceWarning: DataFrame is highly fragmented.  This is usually the result of calling `frame.insert` many times, which has poor performance.  Consider joining all columns at once using pd.concat(axis=1) instead. To get a de-fragmented frame, use `newframe = frame.copy()`\n",
      "  residuals[tick] = model.resid\n",
      "/var/folders/g5/7q0ynznx5hs03d9_7j1h1qbc0000gn/T/ipykernel_4282/3373143136.py:6: PerformanceWarning: DataFrame is highly fragmented.  This is usually the result of calling `frame.insert` many times, which has poor performance.  Consider joining all columns at once using pd.concat(axis=1) instead. To get a de-fragmented frame, use `newframe = frame.copy()`\n",
      "  residuals[tick] = model.resid\n",
      "/var/folders/g5/7q0ynznx5hs03d9_7j1h1qbc0000gn/T/ipykernel_4282/3373143136.py:6: PerformanceWarning: DataFrame is highly fragmented.  This is usually the result of calling `frame.insert` many times, which has poor performance.  Consider joining all columns at once using pd.concat(axis=1) instead. To get a de-fragmented frame, use `newframe = frame.copy()`\n",
      "  residuals[tick] = model.resid\n",
      "/var/folders/g5/7q0ynznx5hs03d9_7j1h1qbc0000gn/T/ipykernel_4282/3373143136.py:6: PerformanceWarning: DataFrame is highly fragmented.  This is usually the result of calling `frame.insert` many times, which has poor performance.  Consider joining all columns at once using pd.concat(axis=1) instead. To get a de-fragmented frame, use `newframe = frame.copy()`\n",
      "  residuals[tick] = model.resid\n",
      "/var/folders/g5/7q0ynznx5hs03d9_7j1h1qbc0000gn/T/ipykernel_4282/3373143136.py:6: PerformanceWarning: DataFrame is highly fragmented.  This is usually the result of calling `frame.insert` many times, which has poor performance.  Consider joining all columns at once using pd.concat(axis=1) instead. To get a de-fragmented frame, use `newframe = frame.copy()`\n",
      "  residuals[tick] = model.resid\n",
      "/var/folders/g5/7q0ynznx5hs03d9_7j1h1qbc0000gn/T/ipykernel_4282/3373143136.py:6: PerformanceWarning: DataFrame is highly fragmented.  This is usually the result of calling `frame.insert` many times, which has poor performance.  Consider joining all columns at once using pd.concat(axis=1) instead. To get a de-fragmented frame, use `newframe = frame.copy()`\n",
      "  residuals[tick] = model.resid\n",
      "/var/folders/g5/7q0ynznx5hs03d9_7j1h1qbc0000gn/T/ipykernel_4282/3373143136.py:6: PerformanceWarning: DataFrame is highly fragmented.  This is usually the result of calling `frame.insert` many times, which has poor performance.  Consider joining all columns at once using pd.concat(axis=1) instead. To get a de-fragmented frame, use `newframe = frame.copy()`\n",
      "  residuals[tick] = model.resid\n",
      "/var/folders/g5/7q0ynznx5hs03d9_7j1h1qbc0000gn/T/ipykernel_4282/3373143136.py:6: PerformanceWarning: DataFrame is highly fragmented.  This is usually the result of calling `frame.insert` many times, which has poor performance.  Consider joining all columns at once using pd.concat(axis=1) instead. To get a de-fragmented frame, use `newframe = frame.copy()`\n",
      "  residuals[tick] = model.resid\n",
      "/var/folders/g5/7q0ynznx5hs03d9_7j1h1qbc0000gn/T/ipykernel_4282/3373143136.py:6: PerformanceWarning: DataFrame is highly fragmented.  This is usually the result of calling `frame.insert` many times, which has poor performance.  Consider joining all columns at once using pd.concat(axis=1) instead. To get a de-fragmented frame, use `newframe = frame.copy()`\n",
      "  residuals[tick] = model.resid\n",
      "/var/folders/g5/7q0ynznx5hs03d9_7j1h1qbc0000gn/T/ipykernel_4282/3373143136.py:6: PerformanceWarning: DataFrame is highly fragmented.  This is usually the result of calling `frame.insert` many times, which has poor performance.  Consider joining all columns at once using pd.concat(axis=1) instead. To get a de-fragmented frame, use `newframe = frame.copy()`\n",
      "  residuals[tick] = model.resid\n",
      "/var/folders/g5/7q0ynznx5hs03d9_7j1h1qbc0000gn/T/ipykernel_4282/3373143136.py:6: PerformanceWarning: DataFrame is highly fragmented.  This is usually the result of calling `frame.insert` many times, which has poor performance.  Consider joining all columns at once using pd.concat(axis=1) instead. To get a de-fragmented frame, use `newframe = frame.copy()`\n",
      "  residuals[tick] = model.resid\n",
      "/var/folders/g5/7q0ynznx5hs03d9_7j1h1qbc0000gn/T/ipykernel_4282/3373143136.py:6: PerformanceWarning: DataFrame is highly fragmented.  This is usually the result of calling `frame.insert` many times, which has poor performance.  Consider joining all columns at once using pd.concat(axis=1) instead. To get a de-fragmented frame, use `newframe = frame.copy()`\n",
      "  residuals[tick] = model.resid\n",
      "/var/folders/g5/7q0ynznx5hs03d9_7j1h1qbc0000gn/T/ipykernel_4282/3373143136.py:6: PerformanceWarning: DataFrame is highly fragmented.  This is usually the result of calling `frame.insert` many times, which has poor performance.  Consider joining all columns at once using pd.concat(axis=1) instead. To get a de-fragmented frame, use `newframe = frame.copy()`\n",
      "  residuals[tick] = model.resid\n",
      "/var/folders/g5/7q0ynznx5hs03d9_7j1h1qbc0000gn/T/ipykernel_4282/3373143136.py:6: PerformanceWarning: DataFrame is highly fragmented.  This is usually the result of calling `frame.insert` many times, which has poor performance.  Consider joining all columns at once using pd.concat(axis=1) instead. To get a de-fragmented frame, use `newframe = frame.copy()`\n",
      "  residuals[tick] = model.resid\n",
      "/var/folders/g5/7q0ynznx5hs03d9_7j1h1qbc0000gn/T/ipykernel_4282/3373143136.py:6: PerformanceWarning: DataFrame is highly fragmented.  This is usually the result of calling `frame.insert` many times, which has poor performance.  Consider joining all columns at once using pd.concat(axis=1) instead. To get a de-fragmented frame, use `newframe = frame.copy()`\n",
      "  residuals[tick] = model.resid\n",
      "/var/folders/g5/7q0ynznx5hs03d9_7j1h1qbc0000gn/T/ipykernel_4282/3373143136.py:6: PerformanceWarning: DataFrame is highly fragmented.  This is usually the result of calling `frame.insert` many times, which has poor performance.  Consider joining all columns at once using pd.concat(axis=1) instead. To get a de-fragmented frame, use `newframe = frame.copy()`\n",
      "  residuals[tick] = model.resid\n",
      "/var/folders/g5/7q0ynznx5hs03d9_7j1h1qbc0000gn/T/ipykernel_4282/3373143136.py:6: PerformanceWarning: DataFrame is highly fragmented.  This is usually the result of calling `frame.insert` many times, which has poor performance.  Consider joining all columns at once using pd.concat(axis=1) instead. To get a de-fragmented frame, use `newframe = frame.copy()`\n",
      "  residuals[tick] = model.resid\n",
      "/var/folders/g5/7q0ynznx5hs03d9_7j1h1qbc0000gn/T/ipykernel_4282/3373143136.py:6: PerformanceWarning: DataFrame is highly fragmented.  This is usually the result of calling `frame.insert` many times, which has poor performance.  Consider joining all columns at once using pd.concat(axis=1) instead. To get a de-fragmented frame, use `newframe = frame.copy()`\n",
      "  residuals[tick] = model.resid\n",
      "/var/folders/g5/7q0ynznx5hs03d9_7j1h1qbc0000gn/T/ipykernel_4282/3373143136.py:6: PerformanceWarning: DataFrame is highly fragmented.  This is usually the result of calling `frame.insert` many times, which has poor performance.  Consider joining all columns at once using pd.concat(axis=1) instead. To get a de-fragmented frame, use `newframe = frame.copy()`\n",
      "  residuals[tick] = model.resid\n",
      "/var/folders/g5/7q0ynznx5hs03d9_7j1h1qbc0000gn/T/ipykernel_4282/3373143136.py:6: PerformanceWarning: DataFrame is highly fragmented.  This is usually the result of calling `frame.insert` many times, which has poor performance.  Consider joining all columns at once using pd.concat(axis=1) instead. To get a de-fragmented frame, use `newframe = frame.copy()`\n",
      "  residuals[tick] = model.resid\n",
      "/var/folders/g5/7q0ynznx5hs03d9_7j1h1qbc0000gn/T/ipykernel_4282/3373143136.py:6: PerformanceWarning: DataFrame is highly fragmented.  This is usually the result of calling `frame.insert` many times, which has poor performance.  Consider joining all columns at once using pd.concat(axis=1) instead. To get a de-fragmented frame, use `newframe = frame.copy()`\n",
      "  residuals[tick] = model.resid\n",
      "/var/folders/g5/7q0ynznx5hs03d9_7j1h1qbc0000gn/T/ipykernel_4282/3373143136.py:6: PerformanceWarning: DataFrame is highly fragmented.  This is usually the result of calling `frame.insert` many times, which has poor performance.  Consider joining all columns at once using pd.concat(axis=1) instead. To get a de-fragmented frame, use `newframe = frame.copy()`\n",
      "  residuals[tick] = model.resid\n",
      "/var/folders/g5/7q0ynznx5hs03d9_7j1h1qbc0000gn/T/ipykernel_4282/3373143136.py:6: PerformanceWarning: DataFrame is highly fragmented.  This is usually the result of calling `frame.insert` many times, which has poor performance.  Consider joining all columns at once using pd.concat(axis=1) instead. To get a de-fragmented frame, use `newframe = frame.copy()`\n",
      "  residuals[tick] = model.resid\n",
      "/var/folders/g5/7q0ynznx5hs03d9_7j1h1qbc0000gn/T/ipykernel_4282/3373143136.py:6: PerformanceWarning: DataFrame is highly fragmented.  This is usually the result of calling `frame.insert` many times, which has poor performance.  Consider joining all columns at once using pd.concat(axis=1) instead. To get a de-fragmented frame, use `newframe = frame.copy()`\n",
      "  residuals[tick] = model.resid\n",
      "/var/folders/g5/7q0ynznx5hs03d9_7j1h1qbc0000gn/T/ipykernel_4282/3373143136.py:6: PerformanceWarning: DataFrame is highly fragmented.  This is usually the result of calling `frame.insert` many times, which has poor performance.  Consider joining all columns at once using pd.concat(axis=1) instead. To get a de-fragmented frame, use `newframe = frame.copy()`\n",
      "  residuals[tick] = model.resid\n",
      "/var/folders/g5/7q0ynznx5hs03d9_7j1h1qbc0000gn/T/ipykernel_4282/3373143136.py:6: PerformanceWarning: DataFrame is highly fragmented.  This is usually the result of calling `frame.insert` many times, which has poor performance.  Consider joining all columns at once using pd.concat(axis=1) instead. To get a de-fragmented frame, use `newframe = frame.copy()`\n",
      "  residuals[tick] = model.resid\n",
      "/var/folders/g5/7q0ynznx5hs03d9_7j1h1qbc0000gn/T/ipykernel_4282/3373143136.py:6: PerformanceWarning: DataFrame is highly fragmented.  This is usually the result of calling `frame.insert` many times, which has poor performance.  Consider joining all columns at once using pd.concat(axis=1) instead. To get a de-fragmented frame, use `newframe = frame.copy()`\n",
      "  residuals[tick] = model.resid\n",
      "/var/folders/g5/7q0ynznx5hs03d9_7j1h1qbc0000gn/T/ipykernel_4282/3373143136.py:6: PerformanceWarning: DataFrame is highly fragmented.  This is usually the result of calling `frame.insert` many times, which has poor performance.  Consider joining all columns at once using pd.concat(axis=1) instead. To get a de-fragmented frame, use `newframe = frame.copy()`\n",
      "  residuals[tick] = model.resid\n",
      "/var/folders/g5/7q0ynznx5hs03d9_7j1h1qbc0000gn/T/ipykernel_4282/3373143136.py:6: PerformanceWarning: DataFrame is highly fragmented.  This is usually the result of calling `frame.insert` many times, which has poor performance.  Consider joining all columns at once using pd.concat(axis=1) instead. To get a de-fragmented frame, use `newframe = frame.copy()`\n",
      "  residuals[tick] = model.resid\n",
      "/var/folders/g5/7q0ynznx5hs03d9_7j1h1qbc0000gn/T/ipykernel_4282/3373143136.py:6: PerformanceWarning: DataFrame is highly fragmented.  This is usually the result of calling `frame.insert` many times, which has poor performance.  Consider joining all columns at once using pd.concat(axis=1) instead. To get a de-fragmented frame, use `newframe = frame.copy()`\n",
      "  residuals[tick] = model.resid\n",
      "/var/folders/g5/7q0ynznx5hs03d9_7j1h1qbc0000gn/T/ipykernel_4282/3373143136.py:6: PerformanceWarning: DataFrame is highly fragmented.  This is usually the result of calling `frame.insert` many times, which has poor performance.  Consider joining all columns at once using pd.concat(axis=1) instead. To get a de-fragmented frame, use `newframe = frame.copy()`\n",
      "  residuals[tick] = model.resid\n",
      "/var/folders/g5/7q0ynznx5hs03d9_7j1h1qbc0000gn/T/ipykernel_4282/3373143136.py:6: PerformanceWarning: DataFrame is highly fragmented.  This is usually the result of calling `frame.insert` many times, which has poor performance.  Consider joining all columns at once using pd.concat(axis=1) instead. To get a de-fragmented frame, use `newframe = frame.copy()`\n",
      "  residuals[tick] = model.resid\n",
      "/var/folders/g5/7q0ynznx5hs03d9_7j1h1qbc0000gn/T/ipykernel_4282/3373143136.py:6: PerformanceWarning: DataFrame is highly fragmented.  This is usually the result of calling `frame.insert` many times, which has poor performance.  Consider joining all columns at once using pd.concat(axis=1) instead. To get a de-fragmented frame, use `newframe = frame.copy()`\n",
      "  residuals[tick] = model.resid\n",
      "/var/folders/g5/7q0ynznx5hs03d9_7j1h1qbc0000gn/T/ipykernel_4282/3373143136.py:6: PerformanceWarning: DataFrame is highly fragmented.  This is usually the result of calling `frame.insert` many times, which has poor performance.  Consider joining all columns at once using pd.concat(axis=1) instead. To get a de-fragmented frame, use `newframe = frame.copy()`\n",
      "  residuals[tick] = model.resid\n",
      "/var/folders/g5/7q0ynznx5hs03d9_7j1h1qbc0000gn/T/ipykernel_4282/3373143136.py:6: PerformanceWarning: DataFrame is highly fragmented.  This is usually the result of calling `frame.insert` many times, which has poor performance.  Consider joining all columns at once using pd.concat(axis=1) instead. To get a de-fragmented frame, use `newframe = frame.copy()`\n",
      "  residuals[tick] = model.resid\n",
      "/var/folders/g5/7q0ynznx5hs03d9_7j1h1qbc0000gn/T/ipykernel_4282/3373143136.py:6: PerformanceWarning: DataFrame is highly fragmented.  This is usually the result of calling `frame.insert` many times, which has poor performance.  Consider joining all columns at once using pd.concat(axis=1) instead. To get a de-fragmented frame, use `newframe = frame.copy()`\n",
      "  residuals[tick] = model.resid\n",
      "/var/folders/g5/7q0ynznx5hs03d9_7j1h1qbc0000gn/T/ipykernel_4282/3373143136.py:6: PerformanceWarning: DataFrame is highly fragmented.  This is usually the result of calling `frame.insert` many times, which has poor performance.  Consider joining all columns at once using pd.concat(axis=1) instead. To get a de-fragmented frame, use `newframe = frame.copy()`\n",
      "  residuals[tick] = model.resid\n",
      "/var/folders/g5/7q0ynznx5hs03d9_7j1h1qbc0000gn/T/ipykernel_4282/3373143136.py:6: PerformanceWarning: DataFrame is highly fragmented.  This is usually the result of calling `frame.insert` many times, which has poor performance.  Consider joining all columns at once using pd.concat(axis=1) instead. To get a de-fragmented frame, use `newframe = frame.copy()`\n",
      "  residuals[tick] = model.resid\n",
      "/var/folders/g5/7q0ynznx5hs03d9_7j1h1qbc0000gn/T/ipykernel_4282/3373143136.py:6: PerformanceWarning: DataFrame is highly fragmented.  This is usually the result of calling `frame.insert` many times, which has poor performance.  Consider joining all columns at once using pd.concat(axis=1) instead. To get a de-fragmented frame, use `newframe = frame.copy()`\n",
      "  residuals[tick] = model.resid\n",
      "/var/folders/g5/7q0ynznx5hs03d9_7j1h1qbc0000gn/T/ipykernel_4282/3373143136.py:6: PerformanceWarning: DataFrame is highly fragmented.  This is usually the result of calling `frame.insert` many times, which has poor performance.  Consider joining all columns at once using pd.concat(axis=1) instead. To get a de-fragmented frame, use `newframe = frame.copy()`\n",
      "  residuals[tick] = model.resid\n",
      "/var/folders/g5/7q0ynznx5hs03d9_7j1h1qbc0000gn/T/ipykernel_4282/3373143136.py:6: PerformanceWarning: DataFrame is highly fragmented.  This is usually the result of calling `frame.insert` many times, which has poor performance.  Consider joining all columns at once using pd.concat(axis=1) instead. To get a de-fragmented frame, use `newframe = frame.copy()`\n",
      "  residuals[tick] = model.resid\n",
      "/var/folders/g5/7q0ynznx5hs03d9_7j1h1qbc0000gn/T/ipykernel_4282/3373143136.py:6: PerformanceWarning: DataFrame is highly fragmented.  This is usually the result of calling `frame.insert` many times, which has poor performance.  Consider joining all columns at once using pd.concat(axis=1) instead. To get a de-fragmented frame, use `newframe = frame.copy()`\n",
      "  residuals[tick] = model.resid\n",
      "/var/folders/g5/7q0ynznx5hs03d9_7j1h1qbc0000gn/T/ipykernel_4282/3373143136.py:6: PerformanceWarning: DataFrame is highly fragmented.  This is usually the result of calling `frame.insert` many times, which has poor performance.  Consider joining all columns at once using pd.concat(axis=1) instead. To get a de-fragmented frame, use `newframe = frame.copy()`\n",
      "  residuals[tick] = model.resid\n"
     ]
    },
    {
     "data": {
      "text/html": [
       "<div>\n",
       "<style scoped>\n",
       "    .dataframe tbody tr th:only-of-type {\n",
       "        vertical-align: middle;\n",
       "    }\n",
       "\n",
       "    .dataframe tbody tr th {\n",
       "        vertical-align: top;\n",
       "    }\n",
       "\n",
       "    .dataframe thead th {\n",
       "        text-align: right;\n",
       "    }\n",
       "</style>\n",
       "<table border=\"1\" class=\"dataframe\">\n",
       "  <thead>\n",
       "    <tr style=\"text-align: right;\">\n",
       "      <th></th>\n",
       "      <th>AAL</th>\n",
       "      <th>AAON</th>\n",
       "      <th>AAPL</th>\n",
       "      <th>ABAT</th>\n",
       "      <th>ABNB</th>\n",
       "      <th>ACDC</th>\n",
       "      <th>ACTG</th>\n",
       "      <th>ADBE</th>\n",
       "      <th>ADI</th>\n",
       "      <th>ADN</th>\n",
       "      <th>...</th>\n",
       "      <th>XPON</th>\n",
       "      <th>YORW</th>\n",
       "      <th>Z</th>\n",
       "      <th>ZBRA</th>\n",
       "      <th>ZD</th>\n",
       "      <th>ZEO</th>\n",
       "      <th>ZG</th>\n",
       "      <th>ZION</th>\n",
       "      <th>ZM</th>\n",
       "      <th>ZS</th>\n",
       "    </tr>\n",
       "  </thead>\n",
       "  <tbody>\n",
       "    <tr>\n",
       "      <th>AAL</th>\n",
       "      <td>1.000000</td>\n",
       "      <td>0.008218</td>\n",
       "      <td>-0.040227</td>\n",
       "      <td>0.080345</td>\n",
       "      <td>0.107116</td>\n",
       "      <td>0.041009</td>\n",
       "      <td>0.147996</td>\n",
       "      <td>0.004550</td>\n",
       "      <td>0.054490</td>\n",
       "      <td>-0.036818</td>\n",
       "      <td>...</td>\n",
       "      <td>-0.018808</td>\n",
       "      <td>0.096531</td>\n",
       "      <td>0.003977</td>\n",
       "      <td>0.162913</td>\n",
       "      <td>0.109707</td>\n",
       "      <td>-0.088779</td>\n",
       "      <td>0.008027</td>\n",
       "      <td>0.215022</td>\n",
       "      <td>0.056764</td>\n",
       "      <td>-0.023573</td>\n",
       "    </tr>\n",
       "    <tr>\n",
       "      <th>AAON</th>\n",
       "      <td>0.008218</td>\n",
       "      <td>1.000000</td>\n",
       "      <td>-0.211300</td>\n",
       "      <td>-0.036403</td>\n",
       "      <td>-0.130973</td>\n",
       "      <td>0.046388</td>\n",
       "      <td>0.098689</td>\n",
       "      <td>-0.091258</td>\n",
       "      <td>-0.058163</td>\n",
       "      <td>-0.040599</td>\n",
       "      <td>...</td>\n",
       "      <td>-0.017580</td>\n",
       "      <td>0.064156</td>\n",
       "      <td>0.004408</td>\n",
       "      <td>0.175756</td>\n",
       "      <td>0.192160</td>\n",
       "      <td>-0.023249</td>\n",
       "      <td>0.003195</td>\n",
       "      <td>0.138933</td>\n",
       "      <td>0.077197</td>\n",
       "      <td>0.072692</td>\n",
       "    </tr>\n",
       "    <tr>\n",
       "      <th>AAPL</th>\n",
       "      <td>-0.040227</td>\n",
       "      <td>-0.211300</td>\n",
       "      <td>1.000000</td>\n",
       "      <td>0.032671</td>\n",
       "      <td>-0.036943</td>\n",
       "      <td>-0.052206</td>\n",
       "      <td>0.006946</td>\n",
       "      <td>-0.045360</td>\n",
       "      <td>-0.007313</td>\n",
       "      <td>0.025294</td>\n",
       "      <td>...</td>\n",
       "      <td>-0.040010</td>\n",
       "      <td>-0.010602</td>\n",
       "      <td>0.029177</td>\n",
       "      <td>-0.112041</td>\n",
       "      <td>-0.041576</td>\n",
       "      <td>0.183881</td>\n",
       "      <td>0.023616</td>\n",
       "      <td>-0.141289</td>\n",
       "      <td>-0.021825</td>\n",
       "      <td>0.029866</td>\n",
       "    </tr>\n",
       "    <tr>\n",
       "      <th>ABAT</th>\n",
       "      <td>0.080345</td>\n",
       "      <td>-0.036403</td>\n",
       "      <td>0.032671</td>\n",
       "      <td>1.000000</td>\n",
       "      <td>-0.009265</td>\n",
       "      <td>0.070661</td>\n",
       "      <td>-0.035219</td>\n",
       "      <td>-0.023195</td>\n",
       "      <td>0.063784</td>\n",
       "      <td>0.084002</td>\n",
       "      <td>...</td>\n",
       "      <td>-0.098413</td>\n",
       "      <td>-0.048803</td>\n",
       "      <td>-0.010763</td>\n",
       "      <td>0.066339</td>\n",
       "      <td>0.063867</td>\n",
       "      <td>-0.011289</td>\n",
       "      <td>-0.006432</td>\n",
       "      <td>-0.000195</td>\n",
       "      <td>0.067173</td>\n",
       "      <td>-0.064684</td>\n",
       "    </tr>\n",
       "    <tr>\n",
       "      <th>ABNB</th>\n",
       "      <td>0.107116</td>\n",
       "      <td>-0.130973</td>\n",
       "      <td>-0.036943</td>\n",
       "      <td>-0.009265</td>\n",
       "      <td>1.000000</td>\n",
       "      <td>-0.061361</td>\n",
       "      <td>-0.006446</td>\n",
       "      <td>0.019969</td>\n",
       "      <td>0.068949</td>\n",
       "      <td>0.085854</td>\n",
       "      <td>...</td>\n",
       "      <td>0.273743</td>\n",
       "      <td>-0.081445</td>\n",
       "      <td>0.096203</td>\n",
       "      <td>0.190444</td>\n",
       "      <td>-0.096002</td>\n",
       "      <td>0.048272</td>\n",
       "      <td>0.108852</td>\n",
       "      <td>0.036190</td>\n",
       "      <td>0.111242</td>\n",
       "      <td>-0.022429</td>\n",
       "    </tr>\n",
       "    <tr>\n",
       "      <th>...</th>\n",
       "      <td>...</td>\n",
       "      <td>...</td>\n",
       "      <td>...</td>\n",
       "      <td>...</td>\n",
       "      <td>...</td>\n",
       "      <td>...</td>\n",
       "      <td>...</td>\n",
       "      <td>...</td>\n",
       "      <td>...</td>\n",
       "      <td>...</td>\n",
       "      <td>...</td>\n",
       "      <td>...</td>\n",
       "      <td>...</td>\n",
       "      <td>...</td>\n",
       "      <td>...</td>\n",
       "      <td>...</td>\n",
       "      <td>...</td>\n",
       "      <td>...</td>\n",
       "      <td>...</td>\n",
       "      <td>...</td>\n",
       "      <td>...</td>\n",
       "    </tr>\n",
       "    <tr>\n",
       "      <th>ZEO</th>\n",
       "      <td>-0.088779</td>\n",
       "      <td>-0.023249</td>\n",
       "      <td>0.183881</td>\n",
       "      <td>-0.011289</td>\n",
       "      <td>0.048272</td>\n",
       "      <td>-0.007125</td>\n",
       "      <td>-0.025684</td>\n",
       "      <td>0.071118</td>\n",
       "      <td>0.097794</td>\n",
       "      <td>0.088807</td>\n",
       "      <td>...</td>\n",
       "      <td>0.066382</td>\n",
       "      <td>-0.031448</td>\n",
       "      <td>0.051795</td>\n",
       "      <td>0.016147</td>\n",
       "      <td>-0.032012</td>\n",
       "      <td>1.000000</td>\n",
       "      <td>0.039967</td>\n",
       "      <td>0.064286</td>\n",
       "      <td>0.027858</td>\n",
       "      <td>-0.014552</td>\n",
       "    </tr>\n",
       "    <tr>\n",
       "      <th>ZG</th>\n",
       "      <td>0.008027</td>\n",
       "      <td>0.003195</td>\n",
       "      <td>0.023616</td>\n",
       "      <td>-0.006432</td>\n",
       "      <td>0.108852</td>\n",
       "      <td>-0.041656</td>\n",
       "      <td>-0.097565</td>\n",
       "      <td>0.029914</td>\n",
       "      <td>-0.023126</td>\n",
       "      <td>0.207925</td>\n",
       "      <td>...</td>\n",
       "      <td>-0.010701</td>\n",
       "      <td>0.002318</td>\n",
       "      <td>0.995487</td>\n",
       "      <td>0.038855</td>\n",
       "      <td>0.118910</td>\n",
       "      <td>0.039967</td>\n",
       "      <td>1.000000</td>\n",
       "      <td>-0.048907</td>\n",
       "      <td>0.092714</td>\n",
       "      <td>0.034340</td>\n",
       "    </tr>\n",
       "    <tr>\n",
       "      <th>ZION</th>\n",
       "      <td>0.215022</td>\n",
       "      <td>0.138933</td>\n",
       "      <td>-0.141289</td>\n",
       "      <td>-0.000195</td>\n",
       "      <td>0.036190</td>\n",
       "      <td>0.259138</td>\n",
       "      <td>0.242575</td>\n",
       "      <td>-0.096019</td>\n",
       "      <td>0.033845</td>\n",
       "      <td>0.006709</td>\n",
       "      <td>...</td>\n",
       "      <td>-0.081114</td>\n",
       "      <td>0.337676</td>\n",
       "      <td>-0.038888</td>\n",
       "      <td>0.245504</td>\n",
       "      <td>0.263426</td>\n",
       "      <td>0.064286</td>\n",
       "      <td>-0.048907</td>\n",
       "      <td>1.000000</td>\n",
       "      <td>0.159444</td>\n",
       "      <td>0.102118</td>\n",
       "    </tr>\n",
       "    <tr>\n",
       "      <th>ZM</th>\n",
       "      <td>0.056764</td>\n",
       "      <td>0.077197</td>\n",
       "      <td>-0.021825</td>\n",
       "      <td>0.067173</td>\n",
       "      <td>0.111242</td>\n",
       "      <td>0.093687</td>\n",
       "      <td>0.076153</td>\n",
       "      <td>0.102224</td>\n",
       "      <td>0.029176</td>\n",
       "      <td>0.099881</td>\n",
       "      <td>...</td>\n",
       "      <td>-0.011829</td>\n",
       "      <td>0.074634</td>\n",
       "      <td>0.089043</td>\n",
       "      <td>0.092726</td>\n",
       "      <td>0.271347</td>\n",
       "      <td>0.027858</td>\n",
       "      <td>0.092714</td>\n",
       "      <td>0.159444</td>\n",
       "      <td>1.000000</td>\n",
       "      <td>0.224461</td>\n",
       "    </tr>\n",
       "    <tr>\n",
       "      <th>ZS</th>\n",
       "      <td>-0.023573</td>\n",
       "      <td>0.072692</td>\n",
       "      <td>0.029866</td>\n",
       "      <td>-0.064684</td>\n",
       "      <td>-0.022429</td>\n",
       "      <td>0.026767</td>\n",
       "      <td>-0.002297</td>\n",
       "      <td>0.135179</td>\n",
       "      <td>-0.109709</td>\n",
       "      <td>0.068874</td>\n",
       "      <td>...</td>\n",
       "      <td>-0.054275</td>\n",
       "      <td>-0.041170</td>\n",
       "      <td>0.034917</td>\n",
       "      <td>-0.028617</td>\n",
       "      <td>0.080732</td>\n",
       "      <td>-0.014552</td>\n",
       "      <td>0.034340</td>\n",
       "      <td>0.102118</td>\n",
       "      <td>0.224461</td>\n",
       "      <td>1.000000</td>\n",
       "    </tr>\n",
       "  </tbody>\n",
       "</table>\n",
       "<p>500 rows × 500 columns</p>\n",
       "</div>"
      ],
      "text/plain": [
       "           AAL      AAON      AAPL      ABAT      ABNB      ACDC      ACTG  \\\n",
       "AAL   1.000000  0.008218 -0.040227  0.080345  0.107116  0.041009  0.147996   \n",
       "AAON  0.008218  1.000000 -0.211300 -0.036403 -0.130973  0.046388  0.098689   \n",
       "AAPL -0.040227 -0.211300  1.000000  0.032671 -0.036943 -0.052206  0.006946   \n",
       "ABAT  0.080345 -0.036403  0.032671  1.000000 -0.009265  0.070661 -0.035219   \n",
       "ABNB  0.107116 -0.130973 -0.036943 -0.009265  1.000000 -0.061361 -0.006446   \n",
       "...        ...       ...       ...       ...       ...       ...       ...   \n",
       "ZEO  -0.088779 -0.023249  0.183881 -0.011289  0.048272 -0.007125 -0.025684   \n",
       "ZG    0.008027  0.003195  0.023616 -0.006432  0.108852 -0.041656 -0.097565   \n",
       "ZION  0.215022  0.138933 -0.141289 -0.000195  0.036190  0.259138  0.242575   \n",
       "ZM    0.056764  0.077197 -0.021825  0.067173  0.111242  0.093687  0.076153   \n",
       "ZS   -0.023573  0.072692  0.029866 -0.064684 -0.022429  0.026767 -0.002297   \n",
       "\n",
       "          ADBE       ADI       ADN  ...      XPON      YORW         Z  \\\n",
       "AAL   0.004550  0.054490 -0.036818  ... -0.018808  0.096531  0.003977   \n",
       "AAON -0.091258 -0.058163 -0.040599  ... -0.017580  0.064156  0.004408   \n",
       "AAPL -0.045360 -0.007313  0.025294  ... -0.040010 -0.010602  0.029177   \n",
       "ABAT -0.023195  0.063784  0.084002  ... -0.098413 -0.048803 -0.010763   \n",
       "ABNB  0.019969  0.068949  0.085854  ...  0.273743 -0.081445  0.096203   \n",
       "...        ...       ...       ...  ...       ...       ...       ...   \n",
       "ZEO   0.071118  0.097794  0.088807  ...  0.066382 -0.031448  0.051795   \n",
       "ZG    0.029914 -0.023126  0.207925  ... -0.010701  0.002318  0.995487   \n",
       "ZION -0.096019  0.033845  0.006709  ... -0.081114  0.337676 -0.038888   \n",
       "ZM    0.102224  0.029176  0.099881  ... -0.011829  0.074634  0.089043   \n",
       "ZS    0.135179 -0.109709  0.068874  ... -0.054275 -0.041170  0.034917   \n",
       "\n",
       "          ZBRA        ZD       ZEO        ZG      ZION        ZM        ZS  \n",
       "AAL   0.162913  0.109707 -0.088779  0.008027  0.215022  0.056764 -0.023573  \n",
       "AAON  0.175756  0.192160 -0.023249  0.003195  0.138933  0.077197  0.072692  \n",
       "AAPL -0.112041 -0.041576  0.183881  0.023616 -0.141289 -0.021825  0.029866  \n",
       "ABAT  0.066339  0.063867 -0.011289 -0.006432 -0.000195  0.067173 -0.064684  \n",
       "ABNB  0.190444 -0.096002  0.048272  0.108852  0.036190  0.111242 -0.022429  \n",
       "...        ...       ...       ...       ...       ...       ...       ...  \n",
       "ZEO   0.016147 -0.032012  1.000000  0.039967  0.064286  0.027858 -0.014552  \n",
       "ZG    0.038855  0.118910  0.039967  1.000000 -0.048907  0.092714  0.034340  \n",
       "ZION  0.245504  0.263426  0.064286 -0.048907  1.000000  0.159444  0.102118  \n",
       "ZM    0.092726  0.271347  0.027858  0.092714  0.159444  1.000000  0.224461  \n",
       "ZS   -0.028617  0.080732 -0.014552  0.034340  0.102118  0.224461  1.000000  \n",
       "\n",
       "[500 rows x 500 columns]"
      ]
     },
     "execution_count": 9,
     "metadata": {},
     "output_type": "execute_result"
    }
   ],
   "source": [
    "residuals = pd.DataFrame(index=stock_returns.index)\n",
    "for tick in ticker:\n",
    "    Y = stock_returns[tick]\n",
    "    X = sm.add_constant(market_returns)\n",
    "    model = sm.OLS(Y, X).fit()\n",
    "    residuals[tick] = model.resid\n",
    "\n",
    "resid_corr = residuals.corr()\n",
    "resid_corr"
   ]
  },
  {
   "cell_type": "code",
   "execution_count": 10,
   "id": "48ae8e59",
   "metadata": {},
   "outputs": [],
   "source": [
    "threshold = 0.03\n",
    "n_component = 2\n",
    "\n",
    "\n",
    "resid_corr_thresh = resid_corr.copy()\n",
    "resid_corr_thresh[np.abs(resid_corr_thresh) < threshold] = 0\n",
    "\n",
    "pca = PCA(n_components= n_component)\n",
    "\n",
    "embedding = pca.fit_transform(resid_corr)\n",
    "\n",
    "embedding_thresh = pca.fit_transform(resid_corr_thresh)\n",
    "\n"
   ]
  },
  {
   "cell_type": "code",
   "execution_count": 11,
   "id": "a553c340",
   "metadata": {},
   "outputs": [],
   "source": [
    "n_clusters = 11\n",
    "\n",
    "\n",
    "kmeans = KMeans(n_clusters=n_clusters, random_state=42)\n",
    "labels = kmeans.fit_predict(embedding)\n",
    "\n",
    "kmeans_thresh = KMeans(n_clusters=n_clusters, random_state=42)\n",
    "labels_thresh = kmeans_thresh.fit_predict(embedding_thresh)"
   ]
  },
  {
   "cell_type": "code",
   "execution_count": 12,
   "id": "f6a2e4ed",
   "metadata": {},
   "outputs": [
    {
     "name": "stdout",
     "output_type": "stream",
     "text": [
      "           PC1       PC2\n",
      "AAL   0.333686 -0.135116\n",
      "AAON -0.131069 -0.706494\n",
      "AAPL -2.048046  1.033026\n",
      "ABAT -1.325479  0.076906\n",
      "ABNB -1.185291 -0.380022\n",
      "...        ...       ...\n",
      "ZEO  -1.072002 -0.006411\n",
      "ZG   -0.571358  1.060491\n",
      "ZION  2.897718 -1.475746\n",
      "ZM    0.637101  0.234795\n",
      "ZS   -1.171258  0.087624\n",
      "\n",
      "[500 rows x 2 columns]\n"
     ]
    },
    {
     "data": {
      "text/html": [
       "<div>\n",
       "<style scoped>\n",
       "    .dataframe tbody tr th:only-of-type {\n",
       "        vertical-align: middle;\n",
       "    }\n",
       "\n",
       "    .dataframe tbody tr th {\n",
       "        vertical-align: top;\n",
       "    }\n",
       "\n",
       "    .dataframe thead th {\n",
       "        text-align: right;\n",
       "    }\n",
       "</style>\n",
       "<table border=\"1\" class=\"dataframe\">\n",
       "  <thead>\n",
       "    <tr style=\"text-align: right;\">\n",
       "      <th></th>\n",
       "      <th>PC1</th>\n",
       "      <th>PC2</th>\n",
       "      <th>Sector</th>\n",
       "    </tr>\n",
       "    <tr>\n",
       "      <th>Symbol</th>\n",
       "      <th></th>\n",
       "      <th></th>\n",
       "      <th></th>\n",
       "    </tr>\n",
       "  </thead>\n",
       "  <tbody>\n",
       "    <tr>\n",
       "      <th>AAL</th>\n",
       "      <td>0.333686</td>\n",
       "      <td>-0.135116</td>\n",
       "      <td>Consumer Discretionary</td>\n",
       "    </tr>\n",
       "    <tr>\n",
       "      <th>AAON</th>\n",
       "      <td>-0.131069</td>\n",
       "      <td>-0.706494</td>\n",
       "      <td>Industrials</td>\n",
       "    </tr>\n",
       "    <tr>\n",
       "      <th>AAPL</th>\n",
       "      <td>-2.048046</td>\n",
       "      <td>1.033026</td>\n",
       "      <td>Technology</td>\n",
       "    </tr>\n",
       "    <tr>\n",
       "      <th>ABAT</th>\n",
       "      <td>-1.325479</td>\n",
       "      <td>0.076906</td>\n",
       "      <td>Basic Materials</td>\n",
       "    </tr>\n",
       "    <tr>\n",
       "      <th>ABNB</th>\n",
       "      <td>-1.185291</td>\n",
       "      <td>-0.380022</td>\n",
       "      <td>Finance</td>\n",
       "    </tr>\n",
       "    <tr>\n",
       "      <th>...</th>\n",
       "      <td>...</td>\n",
       "      <td>...</td>\n",
       "      <td>...</td>\n",
       "    </tr>\n",
       "    <tr>\n",
       "      <th>ZEO</th>\n",
       "      <td>-1.072002</td>\n",
       "      <td>-0.006411</td>\n",
       "      <td>Miscellaneous</td>\n",
       "    </tr>\n",
       "    <tr>\n",
       "      <th>ZG</th>\n",
       "      <td>-0.571358</td>\n",
       "      <td>1.060491</td>\n",
       "      <td>Consumer Discretionary</td>\n",
       "    </tr>\n",
       "    <tr>\n",
       "      <th>ZION</th>\n",
       "      <td>2.897718</td>\n",
       "      <td>-1.475746</td>\n",
       "      <td>Finance</td>\n",
       "    </tr>\n",
       "    <tr>\n",
       "      <th>ZM</th>\n",
       "      <td>0.637101</td>\n",
       "      <td>0.234795</td>\n",
       "      <td>Technology</td>\n",
       "    </tr>\n",
       "    <tr>\n",
       "      <th>ZS</th>\n",
       "      <td>-1.171258</td>\n",
       "      <td>0.087624</td>\n",
       "      <td>Technology</td>\n",
       "    </tr>\n",
       "  </tbody>\n",
       "</table>\n",
       "<p>500 rows × 3 columns</p>\n",
       "</div>"
      ],
      "text/plain": [
       "             PC1       PC2                  Sector\n",
       "Symbol                                            \n",
       "AAL     0.333686 -0.135116  Consumer Discretionary\n",
       "AAON   -0.131069 -0.706494             Industrials\n",
       "AAPL   -2.048046  1.033026              Technology\n",
       "ABAT   -1.325479  0.076906         Basic Materials\n",
       "ABNB   -1.185291 -0.380022                 Finance\n",
       "...          ...       ...                     ...\n",
       "ZEO    -1.072002 -0.006411           Miscellaneous\n",
       "ZG     -0.571358  1.060491  Consumer Discretionary\n",
       "ZION    2.897718 -1.475746                 Finance\n",
       "ZM      0.637101  0.234795              Technology\n",
       "ZS     -1.171258  0.087624              Technology\n",
       "\n",
       "[500 rows x 3 columns]"
      ]
     },
     "execution_count": 12,
     "metadata": {},
     "output_type": "execute_result"
    }
   ],
   "source": [
    "pca_df = pd.DataFrame(\n",
    "    embedding,\n",
    "    index = resid_corr.index,             # your tickers\n",
    "    columns = ['PC1','PC2']\n",
    ")\n",
    "print(pca_df)\n",
    "pca_df_merged = pd.merge(pca_df, PCA_df, right_on = 'Symbol', left_index=True).set_index('Symbol')\n",
    "pca_df_merged"
   ]
  },
  {
   "cell_type": "code",
   "execution_count": 13,
   "id": "e70b2727",
   "metadata": {},
   "outputs": [
    {
     "data": {
      "image/png": "[encoded data removed]",
      "text/plain": [
       "<Figure size 800x600 with 1 Axes>"
      ]
     },
     "metadata": {},
     "output_type": "display_data"
    }
   ],
   "source": [
    "plt.figure(figsize=(8, 6))\n",
    "plt.show\n",
    "for i in range(n_clusters):\n",
    "    plt.scatter(embedding[labels == i, 0], embedding[labels == i, 1], label=f'Cluster {i+1}')\n",
    "for i, ticker in enumerate(ticker):\n",
    "    plt.text(embedding[i, 0], embedding[i, 1], ticker, fontsize=9, ha='right')\n",
    "plt.title(\"SPONGE-style Clustering of Stocks by Residual Correlation\")\n",
    "plt.xlabel(\"PCA Component 1\")\n",
    "plt.ylabel(\"PCA Component 2\")\n",
    "plt.legend()\n",
    "plt.grid(True)\n",
    "plt.tight_layout()\n",
    "plt.show()"
   ]
  },
  {
   "cell_type": "code",
   "execution_count": 14,
   "id": "9479c05a",
   "metadata": {},
   "outputs": [
    {
     "data": {
      "image/png": "[encoded data removed]",
      "text/plain": [
       "<Figure size 800x600 with 1 Axes>"
      ]
     },
     "metadata": {},
     "output_type": "display_data"
    }
   ],
   "source": [
    "plt.figure(figsize=(8, 6))\n",
    "plt.show\n",
    "for i in range(n_clusters):\n",
    "    plt.scatter(embedding_thresh[labels == i, 0], embedding_thresh[labels == i, 1], label=f'Cluster {i+1}')\n",
    "for i, ticker in enumerate(ticker):\n",
    "    plt.text(embedding_thresh[i, 0], embedding_thresh[i, 1], ticker, fontsize=9, ha='right')\n",
    "plt.title(\"SPONGE-style Clustering of Stocks by Residual Correlation\")\n",
    "plt.xlabel(\"PCA Component 1\")\n",
    "plt.ylabel(\"PCA Component 2\")\n",
    "plt.legend()\n",
    "plt.grid(True)\n",
    "plt.tight_layout()\n",
    "plt.show()"
   ]
  },
  {
   "cell_type": "code",
   "execution_count": 15,
   "id": "2419072d",
   "metadata": {},
   "outputs": [],
   "source": [
    "pca_df_merged.reset_index()\n",
    "pca_df_merged = pca_df_merged.assign(Clusters = labels.astype(str))\n",
    "pca_df_merged = pca_df_merged.reset_index()"
   ]
  },
  {
   "cell_type": "code",
   "execution_count": 16,
   "id": "2a23160a",
   "metadata": {},
   "outputs": [
    {
     "data": {
      "application/vnd.plotly.v1+json": {
       "config": {
        "plotlyServerURL": "https://plot.ly"
       },
       "data": [
        {
         "customdata": [
          [
           "Consumer Discretionary"
          ],
          [
           "Industrials"
          ],
          [
           "Telecommunications"
          ],
          [
           "Consumer Discretionary"
          ],
          [
           "Real Estate"
          ],
          [
           "Energy"
          ],
          [
           "Health Care"
          ],
          [
           "Health Care"
          ],
          [
           "Consumer Staples"
          ],
          [
           "Consumer Discretionary"
          ],
          [
           "Consumer Discretionary"
          ],
          [
           "Utilities"
          ],
          [
           "Consumer Discretionary"
          ],
          [
           "Health Care"
          ],
          [
           "Consumer Discretionary"
          ],
          [
           "Telecommunications"
          ],
          [
           "Miscellaneous"
          ],
          [
           "Energy"
          ],
          [
           "Consumer Staples"
          ],
          [
           "Consumer Discretionary"
          ],
          [
           "Miscellaneous"
          ],
          [
           "Energy"
          ],
          [
           "Finance"
          ],
          [
           "Energy"
          ],
          [
           "Consumer Discretionary"
          ],
          [
           "Telecommunications"
          ],
          [
           "Energy"
          ],
          [
           "Telecommunications"
          ],
          [
           "Utilities"
          ],
          [
           "Miscellaneous"
          ],
          [
           "Miscellaneous"
          ],
          [
           "Industrials"
          ],
          [
           "Industrials"
          ],
          [
           "Telecommunications"
          ],
          [
           "Technology"
          ],
          [
           "Consumer Staples"
          ],
          [
           "Consumer Discretionary"
          ],
          [
           "Energy"
          ],
          [
           "Consumer Discretionary"
          ],
          [
           "Finance"
          ],
          [
           "Miscellaneous"
          ],
          [
           "Telecommunications"
          ],
          [
           "Telecommunications"
          ],
          [
           "Industrials"
          ],
          [
           "Consumer Staples"
          ],
          [
           "Finance"
          ],
          [
           "Consumer Staples"
          ],
          [
           "Health Care"
          ],
          [
           "Health Care"
          ],
          [
           "Energy"
          ],
          [
           "Health Care"
          ],
          [
           "Technology"
          ],
          [
           "Energy"
          ],
          [
           "Real Estate"
          ],
          [
           "Health Care"
          ],
          [
           "Utilities"
          ],
          [
           "Consumer Discretionary"
          ],
          [
           "Energy"
          ],
          [
           "Consumer Staples"
          ],
          [
           "Utilities"
          ],
          [
           "Telecommunications"
          ],
          [
           "Health Care"
          ],
          [
           "Industrials"
          ],
          [
           "Telecommunications"
          ],
          [
           "Health Care"
          ],
          [
           "Industrials"
          ],
          [
           "Consumer Staples"
          ],
          [
           "Health Care"
          ],
          [
           "Consumer Staples"
          ],
          [
           "Industrials"
          ],
          [
           "Telecommunications"
          ],
          [
           "Consumer Discretionary"
          ],
          [
           "Technology"
          ],
          [
           "Consumer Discretionary"
          ],
          [
           "Real Estate"
          ],
          [
           "Consumer Staples"
          ],
          [
           "Miscellaneous"
          ],
          [
           "Utilities"
          ],
          [
           "Consumer Staples"
          ],
          [
           "Energy"
          ],
          [
           "Consumer Discretionary"
          ]
         ],
         "hovertemplate": "<b>%{hovertext}</b><br><br>Clusters=10<br>PCA Component 1=%{x}<br>PCA Component 2=%{y}<br>Sector=%{customdata[0]}<extra></extra>",
         "hovertext": [
          "AAL",
          "AAON",
          "AIOT",
          "AKAM",
          "APEI",
          "ARLP",
          "AXSM",
          "BBIO",
          "BYND",
          "CASY",
          "CDW",
          "CDZI",
          "CHDN",
          "CORT",
          "CPRT",
          "DATS",
          "DFLI",
          "DMLP",
          "DNUT",
          "DPZ",
          "ENVX",
          "EPSN",
          "ERIE",
          "EXEEL",
          "EXPE",
          "EXTR",
          "FCEL",
          "FFIV",
          "FKWL",
          "FLNC",
          "FLUX",
          "FTAI",
          "FWONK",
          "FYBR",
          "GFS",
          "GO",
          "GSAT",
          "HNRG",
          "HQY",
          "IBKR",
          "IDCC",
          "INSG",
          "IRDM",
          "ITRI",
          "JVA",
          "LPLA",
          "MAMA",
          "MASI",
          "MEDP",
          "METC",
          "MRNA",
          "MSTR",
          "NCSM",
          "NHPBP",
          "NUVL",
          "OPAL",
          "ORLY",
          "PAGP",
          "PPC",
          "QRHC",
          "REKR",
          "RGEN",
          "RKLB",
          "ROKU",
          "RVMD",
          "SAIA",
          "SFM",
          "SMMT",
          "SONO",
          "STRL",
          "TBCH",
          "TSCO",
          "TXN",
          "TXRH",
          "UDMY",
          "UEIC",
          "ULBI",
          "VIASP",
          "VITL",
          "VNOM",
          "WYNN"
         ],
         "legendgroup": "10",
         "marker": {
          "color": "#636efa",
          "line": {
           "color": "DarkSlateGrey",
           "width": 1
          },
          "size": 10,
          "symbol": "circle"
         },
         "mode": "markers",
         "name": "10",
         "orientation": "v",
         "showlegend": true,
         "type": "scatter",
         "x": {
          "bdata": "ht3kbx1b1T/4zrFc2sbAvwznpXsi/Mq/KxLXZswi2L9syfvthXbMv3a13MsKidy/ECti/bqO0T8SVTHgztewP+SFquu7ctE/RR2YBgDN0r/X0OqN8gWrPxX90TwyRNI/h6dE3JgJwD8AzWW6NdPHv0E6v+5pi7Y/Y3ut4cck4r/iLRAPUBPNv97XMzTIo7Q/xTF7SswRwb++Ud2C7z7hv4HajQvWBeC/mIaQXF+c4L9bVpIK1rLTP+1U8fUncMK/n0/mh9rV27+1rEVouA/bP6262DjqYdE/Aux6ljf9ub+P5bUEOpe7P0OHscCJydW/ijaciciA179fcN7i/wXTv+OwroSrESi/N6YnHTs6wr+gXVqbB0bgv/wktc/4288/+guRiwV/0D+yDJZOQgC+vwqJh6f098W/0mw0y5Mb5r/SZxcQbul9v7imsvC89tO/9fxJ5mbN2D9kYCmQXj+rv45X7ldSesm/2tyPNVWK7b+oVcXhBqbDv/45ZIFTWsS/LH9qmBgy4b+DS5VKTCDZv3q5b8JkBc2/x7Pa+XOh17+xWZ3/hq/ivwzRAr7l292/V+c7/Jyzr797w29SXivSP2Z/t6cm+ag/6OpwsP+f2j/dWZ+/5ZvRv2hSqOy92cS/uUiM3dJp3L9EKNqPdn2wPx/A3n9h8LY/T7Cf2D/Hsz+EbIar/MTGv5ZAObp1X6W/1hfpZoRr1D9yJwkQ41LWv0Iilh7UrMk/Pcxg3Bc/4b+1IgKCk1zGv4BRO9lgQtc/VhRr9Mx71r/EgOkxin/XvyyjxtqSoda/UPLpcuVnx7/lv/8IMFXYvyxkZtNPDlG/Cl0tGAZd1b8R6pUt+bO/v43zOFr0Ldy/",
          "dtype": "f8"
         },
         "xaxis": "x",
         "y": {
          "bdata": "Zk+YPX1Lwb+ZEfGLmJvmv3Y4lRIqqMu/03Yh5vIZtb+gSSi4mcfav46e3zeVnOO/QpeMIBUHvD/A6YFeF7bXP1jZD3ZDna4/Ay8Pdr/D1L8l/8/QrXLlv9ndhRNxk3S/cTOSnlbo5L9GV6SuFSq6PyzOHBK8Kru/vaQD5WdW5b/Z/68w006VvzOw79ITVdu/F2R0YV1WZz+IIVElr96+v4xOMCaVX9i//T7zPEmT178CJQVDrAnFv9MbON8zd66/pxS1TznewL9QoH5/9jXKv8mlf8L5UdK/+bqjGOwgs79JBsW4HHHHP5DUTAxp26I/OoNpc8BksL9sEsB/xibovxZEqBYuLrQ/S44oj4a/sz+5EBY0VmvtvwC8SuT/H74/+e3quwo+ur93+Igd5rngv1kscPW/j/G/1JHSxhgY9r832yZpV62vP+Myz46US8G/c06beeNaqr9qVBK+99vjvyPYtPjPds4/74o+AB/89b/8Xu1+S0C3v744GsQhYbK/itgGSOl7vb+zLpzO4Wbqv9iWGmh688S/jxyXGAjz4r8tXOd0G2rTv0ihe8g0BMM/sLPo+AL2xT8aHwDQmi2dv6DOtj8BPtI/RVN0K1So0r8Rt9+huHWSPwgf0RXuseK/D+IkaW4Swb+rg13k1pDRP2L6NhgmpdC/iiuYtI6o0T/17gxdHLGtvwzRtEXjBuq/Za6Rwl4ivL9ZuuvkrsTFP95LetEde7g//H7DN6/l8b9XKhgDcLvYvxzW3Gatusa/gXV516gK9L8KWQAe8ITev3trBop4K+O/iO16O5s4sj86ZXLj6WHsv1ABIPbpLtQ/Oza/tC0Qxr/Y0Qsv0Nbuvydd+7cu+ba/",
          "dtype": "f8"
         },
         "yaxis": "y"
        },
        {
         "customdata": [
          [
           "Technology"
          ],
          [
           "Technology"
          ],
          [
           "Consumer Discretionary"
          ],
          [
           "Technology"
          ],
          [
           "Consumer Discretionary"
          ],
          [
           "Energy"
          ],
          [
           "Miscellaneous"
          ],
          [
           "Technology"
          ],
          [
           "Technology"
          ],
          [
           "Health Care"
          ],
          [
           "Real Estate"
          ],
          [
           "Technology"
          ],
          [
           "Technology"
          ],
          [
           "Consumer Discretionary"
          ],
          [
           "Health Care"
          ],
          [
           "Technology"
          ],
          [
           "Technology"
          ]
         ],
         "hovertemplate": "<b>%{hovertext}</b><br><br>Clusters=7<br>PCA Component 1=%{x}<br>PCA Component 2=%{y}<br>Sector=%{customdata[0]}<extra></extra>",
         "hovertext": [
          "AAPL",
          "ADBE",
          "AMZN",
          "APP",
          "COST",
          "DWSN",
          "EOSEW",
          "GOOG",
          "GOOGL",
          "ISRG",
          "LANDM",
          "META",
          "MSFT",
          "NFLX",
          "NTRA",
          "PANW",
          "SMCI"
         ],
         "legendgroup": "7",
         "marker": {
          "color": "#EF553B",
          "line": {
           "color": "DarkSlateGrey",
           "width": 1
          },
          "size": 10,
          "symbol": "circle"
         },
         "mode": "markers",
         "name": "7",
         "orientation": "v",
         "showlegend": true,
         "type": "scatter",
         "x": {
          "bdata": "D5wH2mViAMDYRxGH+PMCwMIuGp98VAfAkc8vCSxXAsD0SNj8C3EHwFcocvXQn/2/kranp9qS/r934EB9XBECwHN/mge4zALApnUwVokJA8D6dOhjfmcAwCJxNAN4bgzAQfMtJAmnDcCGdTfESScJwBjgSsaznP+/FUx3MErJ/r/FTjEJkHAFwA==",
          "dtype": "f8"
         },
         "xaxis": "x",
         "y": {
          "bdata": "S/At70WH8D+R/t947+HgP3sDtxRo08E/K4JYhMDE0T/0mPxXv/vmP7i//jao1sM/xvbtmEMb4D/Kn0nAuETgP2NKkhk+KOE/i4sqZF3r7T9moRQharnTP59It5Wdnec/bBGrWg0v7j879rX8y7JvP+V+MUfy/dI/WwEpK1i4kT8Y1athotW5Pw==",
          "dtype": "f8"
         },
         "yaxis": "y"
        },
        {
         "customdata": [
          [
           "Basic Materials"
          ],
          [
           "Finance"
          ],
          [
           "Technology"
          ],
          [
           "Miscellaneous"
          ],
          [
           "Technology"
          ],
          [
           "Consumer Staples"
          ],
          [
           "Utilities"
          ],
          [
           "Miscellaneous"
          ],
          [
           "Telecommunications"
          ],
          [
           "Telecommunications"
          ],
          [
           "Energy"
          ],
          [
           "Energy"
          ],
          [
           "Telecommunications"
          ],
          [
           "Consumer Discretionary"
          ],
          [
           "Industrials"
          ],
          [
           "Industrials"
          ],
          [
           "Consumer Discretionary"
          ],
          [
           "Consumer Staples"
          ],
          [
           "Consumer Staples"
          ],
          [
           "Telecommunications"
          ],
          [
           "Miscellaneous"
          ],
          [
           "Consumer Discretionary"
          ],
          [
           "Utilities"
          ],
          [
           "Consumer Staples"
          ],
          [
           "Energy"
          ],
          [
           "Utilities"
          ],
          [
           "Consumer Staples"
          ],
          [
           "Telecommunications"
          ],
          [
           "Consumer Discretionary"
          ],
          [
           "Telecommunications"
          ],
          [
           "Consumer Discretionary"
          ],
          [
           "Health Care"
          ],
          [
           "Miscellaneous"
          ],
          [
           "Basic Materials"
          ],
          [
           "Energy"
          ],
          [
           "Energy"
          ],
          [
           "Telecommunications"
          ],
          [
           "Consumer Staples"
          ],
          [
           "Technology"
          ],
          [
           "Consumer Staples"
          ],
          [
           "Real Estate"
          ],
          [
           "Energy"
          ],
          [
           "Basic Materials"
          ],
          [
           "Basic Materials"
          ],
          [
           "Industrials"
          ],
          [
           "Health Care"
          ],
          [
           "Technology"
          ],
          [
           "Technology"
          ],
          [
           "Telecommunications"
          ],
          [
           "Basic Materials"
          ],
          [
           "Health Care"
          ],
          [
           "Energy"
          ],
          [
           "Consumer Staples"
          ],
          [
           "Telecommunications"
          ],
          [
           "Real Estate"
          ],
          [
           "Miscellaneous"
          ],
          [
           "Health Care"
          ],
          [
           "Telecommunications"
          ],
          [
           "Telecommunications"
          ],
          [
           "Consumer Staples"
          ],
          [
           "Energy"
          ],
          [
           "Technology"
          ],
          [
           "Technology"
          ],
          [
           "Health Care"
          ],
          [
           "Energy"
          ],
          [
           "Miscellaneous"
          ],
          [
           "Health Care"
          ],
          [
           "Energy"
          ],
          [
           "Miscellaneous"
          ],
          [
           "Real Estate"
          ],
          [
           "Telecommunications"
          ],
          [
           "Telecommunications"
          ],
          [
           "Industrials"
          ],
          [
           "Finance"
          ],
          [
           "Technology"
          ],
          [
           "Miscellaneous"
          ],
          [
           "Miscellaneous"
          ],
          [
           "Consumer Staples"
          ],
          [
           "Miscellaneous"
          ],
          [
           "Consumer Discretionary"
          ],
          [
           "Consumer Staples"
          ],
          [
           "Telecommunications"
          ],
          [
           "Consumer Discretionary"
          ],
          [
           "Finance"
          ],
          [
           "Utilities"
          ],
          [
           "Real Estate"
          ],
          [
           "Real Estate"
          ],
          [
           "Utilities"
          ],
          [
           "Consumer Staples"
          ],
          [
           "Miscellaneous"
          ],
          [
           "Utilities"
          ],
          [
           "Industrials"
          ],
          [
           "Consumer Discretionary"
          ],
          [
           "Technology"
          ],
          [
           "Technology"
          ],
          [
           "Finance"
          ],
          [
           "Energy"
          ],
          [
           "Basic Materials"
          ],
          [
           "Utilities"
          ],
          [
           "Technology"
          ],
          [
           "Consumer Discretionary"
          ],
          [
           "Consumer Staples"
          ],
          [
           "Energy"
          ],
          [
           "Miscellaneous"
          ],
          [
           "Miscellaneous"
          ],
          [
           "Miscellaneous"
          ],
          [
           "Technology"
          ]
         ],
         "hovertemplate": "<b>%{hovertext}</b><br><br>Clusters=5<br>PCA Component 1=%{x}<br>PCA Component 2=%{y}<br>Sector=%{customdata[0]}<extra></extra>",
         "hovertext": [
          "ABAT",
          "ABNB",
          "ADI",
          "ADN",
          "ADSK",
          "AGFY",
          "ALCE",
          "AMOD",
          "AMPG",
          "AMPGW",
          "ANNA",
          "AREC",
          "ASNS",
          "ASTS",
          "AVAV",
          "AXON",
          "BKNG",
          "BRFH",
          "BRID",
          "BWEN",
          "BYRN",
          "CART",
          "CDZIP",
          "CELH",
          "CLMT",
          "CLRO",
          "COCO",
          "CXDO",
          "DASH",
          "DATSW",
          "DKNG",
          "DXCM",
          "EOSE",
          "EU",
          "EXEEW",
          "EXEEZ",
          "FOXX",
          "FRPT",
          "FTNT",
          "GNSS",
          "GOODN",
          "HPKEW",
          "HYMC",
          "HYMCL",
          "IESC",
          "INSM",
          "INTC",
          "INTU",
          "INTZ",
          "IPX",
          "ITCI",
          "KGEI",
          "KOSS",
          "KSCP",
          "LANDO",
          "LASE",
          "LEGN",
          "LITE",
          "LTRX",
          "LWAY",
          "MARPS",
          "MCHP",
          "MDB",
          "MDGL",
          "METCL",
          "MVST",
          "NBIX",
          "NEHC",
          "NEOV",
          "NHPAP",
          "NSSC",
          "NXPL",
          "NXT",
          "ONBPP",
          "PLTR",
          "POLA",
          "REFR",
          "RIME",
          "RMCO",
          "SBUX",
          "SENEB",
          "SIDU",
          "SIRI",
          "SLMBP",
          "SLNG",
          "SOHOB",
          "SOHOO",
          "SONM",
          "SOWG",
          "STI",
          "SUNE",
          "SYM",
          "TSLA",
          "TTD",
          "TTWO",
          "TW",
          "USEG",
          "USGO",
          "VIVK",
          "WDAY",
          "WMG",
          "WVVI",
          "WWD",
          "XELB",
          "XPON",
          "ZEO",
          "ZS"
         ],
         "legendgroup": "5",
         "marker": {
          "color": "#00cc96",
          "line": {
           "color": "DarkSlateGrey",
           "width": 1
          },
          "size": 10,
          "symbol": "circle"
         },
         "mode": "markers",
         "name": "5",
         "orientation": "v",
         "showlegend": true,
         "type": "scatter",
         "x": {
          "bdata": "xOMuFCk19b8Ad2dl8/byv3caPHsxD+6/rTItdg9q8L+jXc9vMdLkv1VBa4N5HfC/ahdqYkSE77+jtrrAmLDyv8mIEBzAiPO/g3TJ+p5+8r+pfwyKqIzpv5DQadDLMfK/cDI5S4Eq+b8WNsw8cibovwmXY2mOIfC/iuVbHPjD8r/XPeOHuDP2v+iXVTj8vvK/bI/ctAW96r/7MLukOfrpv5BU6895T/C/jkUF4EIR6b+4zREpL4vnv1ptKiKyz+6/APkfpm2S6b9rumZafdn5v4KecSlZ5uy/unUWkh2W5L+PWlTFnGL4vwkVcDmwovm/gh/FCLyq87+gp4lIN4r3v+pjXBnpQ/W/h3h1nNKu8r9/nU0eihTiv32lXbwocfe/pVJL470Y8b9cDT8dL0zpv9dw/fznsfO/Cftgn6ZN9b9QHRKlpwLqvyZQjLKw+/i/huRUWhrj6b8Ck8WvC8LxvwssmVJ3O/C/8J0Ou0rY9r+XeiI2hVTtvyNNkVuoBPa/zw06eyHC8r8zY2TLRfTkvwdqpRWf2+2/8Lyr68jM8b+AXJ7KLhzvv3vE9XWygfC/rYHXOl/N9L8/D73+FvHsv+GVKYcm0vK/gLMcgXVg8r/rHoHeawvyv6FMIQLZ/+6/FpHhMs5q978Y0cRSm9L1v5T/IW8N7vm/ZaiuZMxc478Zp6a/C+zzv+PBQ1zYoPC/fW3h9xmi778RkDp93nLtv6hwQgoQCvm/o/MWwzRf9L8P28SqP9vvv6K6YY9nnuu/JF662oWR5L9Z7CcBJsPpv03P5W9ZwvC/TbzNne8L8b/iTvizxyruv9wF/QqqEPa/6u6hIw/J6r+sKJ58uJLtv9E0AiClB+W/UkmsIEHc+L9FecgM76Pjv6L27mYkQfC/YgmHaZlB879R/5gSzxj1v2to3UvcY+O//qNRL4kt6L/uXU/SA7v6v+CJe1ahJuq/AkzCRH7v9b+9bh2tAkbuv1lUn4o84/C/ZBqWqohy+L9iZZzClUf0v2A185TsO/e/0DKo8CEy6b+9WI2qKhT1vwLMrqr9VPC/GZjB+CyG7r+e0wHupWflv6AWT+ktjvC/O67NF+vQ7r/gsQ2sIP/wv4q5CR8hOvi/t4HInusm8b9TUp9leb3yvw==",
          "dtype": "f8"
         },
         "xaxis": "x",
         "y": {
          "bdata": "Sb9OuSCwsz+ZYXDHSFLYvwdzHL0eYvC/X/y7UGC/pj/rH2cKrAG9v1uMyswJqN4/oSDOmJaC2T9l5S1+ew/dP/Gb0oP5iMu/K2GQK5Scyr/61S2LsvTFP9IO3pchI6I/Ja6zy1/5sb+HSxuQZl6lP0e9s0xSec2/b/Cd2AB3xD/aWkJfRgjiv6C/9tCjQL+/eoCOd+fDpL8mnQcGvk+zv79uZlpA19A/68JAiyPk378ml1nE7NnWP0KGzx8eNM4/f6mlMn5+uT+QJ7icinfbP59klzuN4tE/AfW7lwvsyL/yhk+GH6Siv+jUBMqrNKe/7sm+rQx55L94J7NwQ8jSP3pWe2PM090/6XuO2UQ037/zQwtve+bDP2ha8p14kMq/VGqRPVel2T9U19kI0zLEv3W0lwg9DN4/XrbQw/Ch2T+wRFm0byLNv3Cp6SNbg8m/4Zi5vZwuhz836PVtZjPFP9T9muAHO+u/kIIOdXQ0wb8Px3lR3sHovzy16czyK9M/E2Nh1wQWwL+237LOCQ66P6qIXDWJscE/dLaHNxEyvb86EM8/UvHYP01geRJ+cdY/kx5X666U3D9qZgMRXZLgP4QhpA398Ng/XxhklKRj5b86siWJc5a+P+Ge7E6DUdi/31OlESLO6L9TNj7exjjqv1UaaqUv/Ma/Oh6NYnIl0D+2LW4kFC7oP6iG/1jujtg/XY93AfOm3T/0UhE2OPq+PwFga+g5Bri/mLb83YM32z8U9ELnd9bov/K81QUxKdc/B3LTTT/fwD9Tvb7nigjOP/n5Tc1MmKw/CJVLua0XwL+i61MyXYTAP1FC382y9MA/UAvZctxexL+Q/DjWBl3YP7kMErJMesE/bbg0yidis79oaW+qEHDBP44VgRFmxMU/HQut9gkazD9Oo/VVLTXVP33xWVXwYL8/88UXRQJFt79sXmFNIRbXPy9u+MuKF8k/MfPPDXdQub+MlvyGBZXhv0EZBnk7rNi/kNLTjuAE37+pFefZ3r6qP0mbbe7+9eM/CKEMocfZ2b9VKhhv/2LCP4GvflqOJOE/5RJNIoQ+wT8eSMHblx7JP921gKv5ctk/6Ntzw7UB3r+tTXraJK2bP0UFueSknKG/5Mbvit5Cer89R8O8hm62Pw==",
          "dtype": "f8"
         },
         "yaxis": "y"
        },
        {
         "customdata": [
          [
           "Energy"
          ],
          [
           "Miscellaneous"
          ],
          [
           "Finance"
          ],
          [
           "Health Care"
          ],
          [
           "Energy"
          ],
          [
           "Miscellaneous"
          ],
          [
           "Health Care"
          ],
          [
           "Energy"
          ],
          [
           "Industrials"
          ],
          [
           "Energy"
          ],
          [
           "Industrials"
          ],
          [
           "Finance"
          ],
          [
           "Industrials"
          ],
          [
           "Telecommunications"
          ],
          [
           "Energy"
          ],
          [
           "Energy"
          ],
          [
           "Consumer Discretionary"
          ],
          [
           "Finance"
          ],
          [
           "Energy"
          ],
          [
           "Finance"
          ],
          [
           "Energy"
          ],
          [
           "Industrials"
          ],
          [
           "Real Estate"
          ],
          [
           "Energy"
          ],
          [
           "Real Estate"
          ],
          [
           "Industrials"
          ],
          [
           "Industrials"
          ],
          [
           "Real Estate"
          ],
          [
           "Consumer Discretionary"
          ],
          [
           "Energy"
          ],
          [
           "Utilities"
          ],
          [
           "Utilities"
          ],
          [
           "Utilities"
          ],
          [
           "Consumer Discretionary"
          ],
          [
           "Consumer Discretionary"
          ],
          [
           "Industrials"
          ],
          [
           "Energy"
          ],
          [
           "Consumer Discretionary"
          ],
          [
           "Energy"
          ],
          [
           "Real Estate"
          ],
          [
           "Industrials"
          ],
          [
           "Consumer Staples"
          ],
          [
           "Finance"
          ],
          [
           "Telecommunications"
          ],
          [
           "Finance"
          ],
          [
           "Industrials"
          ],
          [
           "Real Estate"
          ],
          [
           "Finance"
          ],
          [
           "Industrials"
          ],
          [
           "Energy"
          ],
          [
           "Consumer Discretionary"
          ],
          [
           "Industrials"
          ],
          [
           "Industrials"
          ],
          [
           "Industrials"
          ]
         ],
         "hovertemplate": "<b>%{hovertext}</b><br><br>Clusters=3<br>PCA Component 1=%{x}<br>PCA Component 2=%{y}<br>Sector=%{customdata[0]}<extra></extra>",
         "hovertext": [
          "ACDC",
          "ACTG",
          "AFRM",
          "ALGN",
          "APA",
          "APPS",
          "BPMC",
          "BRY",
          "CGNX",
          "CHRD",
          "CHX",
          "COIN",
          "CSWI",
          "DGII",
          "EXE",
          "FANG",
          "FAST",
          "FCNCA",
          "FIP",
          "HOOD",
          "HPK",
          "KTOS",
          "LAUR",
          "LFUS",
          "LINC",
          "LLYVA",
          "LLYVK",
          "LOPE",
          "MAR",
          "METCB",
          "MNTK",
          "NEXT",
          "NFE",
          "NWS",
          "NWSA",
          "ODFL",
          "PAA",
          "PCAR",
          "PNRG",
          "PRDO",
          "ROAD",
          "SENEA",
          "SOFI",
          "SPOK",
          "STEP",
          "STLD",
          "STRA",
          "TPG",
          "TRMB",
          "TUSK",
          "UAL",
          "WFRD",
          "WSC",
          "ZBRA"
         ],
         "legendgroup": "3",
         "marker": {
          "color": "#ab63fa",
          "line": {
           "color": "DarkSlateGrey",
           "width": 1
          },
          "size": 10,
          "symbol": "circle"
         },
         "mode": "markers",
         "name": "3",
         "orientation": "v",
         "showlegend": true,
         "type": "scatter",
         "x": {
          "bdata": "ew4txXEj8j+41UbBp5jrPwJPcfDqtu4/nV6ORasY6j+CjNPugW7xP9yM9m4GSeY//7jjZKl74j+91TIMGA7tP+ZYOxtqJuA/YmYISpWp5j809OArpWvwP81TSNu4DMg/icsKN7by2j8UpV9A/5DuPzr7W0B169A/xqrh0nZy2T+JKQZWcE7tP+z0KQol8/A/4XWVyRKx2T8I+ZeRbQrBP9361jJgNtg/I7+3gE5S4j+WXgK5PgXvP7h5FxjGjPE/JcFoFU4F9T+HFS9oDnjlP6DbynXO/uQ/iquYfcnw6T97I7wybWrqP8Do9ICN+ds/1lrlwUDV8T+duk1qKjrdPxGrPyMzJuA/LK8TsfPw5j+o3rGc8QbsPyJpITtlPew/wu5Ud6T24z8mkU5+gnHgP6dlDWnVQNo/Y/gQKvKF5T+WO+5AiirJvwlFWIPQxe4/Ca/EA7Ef8T9cIkiY6ZLnPyx36R0DX+s/pFwATPgp8T+X/lIGTvnjP8LiA0NdHvY/zFspj6559T+Gddot2gLxP87lfrxbreE/Q6wLWa8owb/ufT5foE3hP47t6FKm4OA/",
          "dtype": "f8"
         },
         "xaxis": "x",
         "y": {
          "bdata": "SUlRBjXP6r+NAgQKHUfjv7cFFmHizty/n52rvwiA07/O4gE37uPxvy3Cg6TFHtO/hcz54RwIzL8i7XnFSaXyv/8I0so2LPW/ipYWTibd9r93nVwAKcb4v3mUg5wk8PK/PbyrEb3M6L/mJ92jqrjiv2a8NzvrLe6/PPo1+ycu9L/aonZyRojjv8iT21wSBPi/+SRpZwx53L9CoTdNiknwvwwsMY9UtuW/MGSDquMB2b/Ij9EMxjvdv21AOPC4XvC/DInvI8aZ7L+kFna/Wwnbvwv6YoklBt2//MuRQ0sj7r/6/DonvybpvznnMrPkAeC/ino1dPcQ3L/wyQKtMb3Tv6u8k8GYDtK/spMS0RJi17/eHDwdDVrZv8lSRhiAaOy/qsQf+woB2L8LHVAcpIPpv2632OvKHuS/P1/rv3N54L83b/M6VXn4v8HyDDSANdq/uCyLDUPc0b+uiLrNf6DVv7qxhVGKO+y/H87jOJ/L/r//YUJEtcDqv9YKO1UK+Pa/8lAnwIIA+L8SqyqOw6rgv2Vbl0f8BNa/5jDqmNcN+b+QYnsflRHav+UO+b4MVeu/",
          "dtype": "f8"
         },
         "yaxis": "y"
        },
        {
         "customdata": [
          [
           "Technology"
          ],
          [
           "Utilities"
          ],
          [
           "Real Estate"
          ],
          [
           "Telecommunications"
          ],
          [
           "Health Care"
          ],
          [
           "Finance"
          ],
          [
           "Telecommunications"
          ],
          [
           "Consumer Staples"
          ],
          [
           "Health Care"
          ],
          [
           "Consumer Staples"
          ],
          [
           "Finance"
          ],
          [
           "Telecommunications"
          ],
          [
           "Utilities"
          ],
          [
           "Health Care"
          ],
          [
           "Consumer Staples"
          ],
          [
           "Telecommunications"
          ],
          [
           "Consumer Discretionary"
          ],
          [
           "Miscellaneous"
          ],
          [
           "Technology"
          ],
          [
           "Utilities"
          ],
          [
           "Real Estate"
          ],
          [
           "Consumer Discretionary"
          ],
          [
           "Health Care"
          ],
          [
           "Finance"
          ],
          [
           "Consumer Staples"
          ],
          [
           "Industrials"
          ],
          [
           "Health Care"
          ],
          [
           "Health Care"
          ],
          [
           "Consumer Staples"
          ],
          [
           "Consumer Discretionary"
          ],
          [
           "Finance"
          ],
          [
           "Health Care"
          ],
          [
           "Industrials"
          ],
          [
           "Health Care"
          ],
          [
           "Health Care"
          ],
          [
           "Health Care"
          ],
          [
           "Consumer Staples"
          ],
          [
           "Consumer Staples"
          ],
          [
           "Consumer Staples"
          ],
          [
           "Real Estate"
          ],
          [
           "Consumer Staples"
          ],
          [
           "Telecommunications"
          ],
          [
           "Telecommunications"
          ],
          [
           "Industrials"
          ],
          [
           "Consumer Discretionary"
          ],
          [
           "Consumer Staples"
          ],
          [
           "Finance"
          ],
          [
           "Energy"
          ],
          [
           "Health Care"
          ],
          [
           "Finance"
          ],
          [
           "Finance"
          ],
          [
           "Utilities"
          ],
          [
           "Industrials"
          ],
          [
           "Real Estate"
          ],
          [
           "Health Care"
          ],
          [
           "Industrials"
          ],
          [
           "Industrials"
          ],
          [
           "Consumer Discretionary"
          ],
          [
           "Consumer Discretionary"
          ],
          [
           "Industrials"
          ],
          [
           "Industrials"
          ],
          [
           "Health Care"
          ],
          [
           "Miscellaneous"
          ],
          [
           "Real Estate"
          ],
          [
           "Miscellaneous"
          ],
          [
           "Health Care"
          ],
          [
           "Telecommunications"
          ],
          [
           "Real Estate"
          ],
          [
           "Finance"
          ],
          [
           "Technology"
          ],
          [
           "Health Care"
          ],
          [
           "Consumer Staples"
          ],
          [
           "Telecommunications"
          ],
          [
           "Industrials"
          ],
          [
           "Consumer Staples"
          ],
          [
           "Technology"
          ]
         ],
         "hovertemplate": "<b>%{hovertext}</b><br><br>Clusters=4<br>PCA Component 1=%{x}<br>PCA Component 2=%{y}<br>Sector=%{customdata[0]}<extra></extra>",
         "hovertext": [
          "ADP",
          "ADTN",
          "AGNCL",
          "AMCX",
          "AMGN",
          "ARCC",
          "ATEX",
          "AVO",
          "BIIB",
          "CALM",
          "CGABL",
          "CHTR",
          "CLFD",
          "COO",
          "CPB",
          "CSCO",
          "CSGP",
          "CTLP",
          "CTSH",
          "CWST",
          "DHC",
          "EBAY",
          "EXEL",
          "FITBO",
          "FIZZ",
          "FWONA",
          "GH",
          "GILD",
          "HAIN",
          "HAS",
          "HBANP",
          "HOLX",
          "HON",
          "HSIC",
          "ILMN",
          "INCY",
          "JJSF",
          "KDP",
          "KHC",
          "LAMR",
          "LANC",
          "LBRDA",
          "LBRDK",
          "LIN",
          "LKQ",
          "MGPI",
          "MKTX",
          "MMLP",
          "MMSI",
          "MORN",
          "NDAQ",
          "NTGR",
          "NWL",
          "NYMTL",
          "OPCH",
          "PARA",
          "PARAA",
          "PAYX",
          "PYPL",
          "RGLD",
          "ROP",
          "RPRX",
          "RUN",
          "SBRA",
          "SLDP",
          "TECH",
          "TTGT",
          "UNIT",
          "UPST",
          "VRSN",
          "VTRS",
          "WBA",
          "WBD",
          "WDFC",
          "WEST",
          "ZM"
         ],
         "legendgroup": "4",
         "marker": {
          "color": "#FFA15A",
          "line": {
           "color": "DarkSlateGrey",
           "width": 1
          },
          "size": 10,
          "symbol": "circle"
         },
         "mode": "markers",
         "name": "4",
         "orientation": "v",
         "showlegend": true,
         "type": "scatter",
         "x": {
          "bdata": "dIhapQGq7z+4BORT6XXjP3YVuvDEZNc/2MnrM7k34j9kagjghsjhP10OhWiEqvA/EztSjacR8j+6g7+xuGDoP9iDpVDmZ+Y/Yv45mGaZ6D9TriPc3tPhP6dOj8GWDu8/I6cKUz1d4D+LE/xCGF3iPwI9xKMA1ek/Krf9+swG6T9Nlyji02zsP0VEXH+lX+g/2YUmiEAL8j97jgfucsrxPxxIfmSJk/M/kJYDZ2TL3j+cR8Hjc2XePwHEYCqQ9e4/AvMKNvM65j8a8wrwjbrbP0C6B/o3+tU/Xun3IulD2j/CXp0npcD5P3b2ZPMqqtY/g/kuvI4o5j+co1HjoaH2P9TwRhsNNeQ/VzijUhDL8T/NG4x5RbjhP9WOolJxvco/tH5Pnttv6D+LPcN7L6jYP5A5DxzBR+o/fRUOGvvZ7z9vTgLsbmXxP/ZvUrEWwu0/fx8lZD1O8D9NOU4/krnYP2aeyvhs8OQ/CR+LJpux9D/HMbU55+7TP4LNQyebXdo/rDiSClM+4z+4coNaT7PzPxMdY4j3me4/8/ZM7ILKxD+HMzzD4QbhP8hSUTfv8Mc/Y9bCpT9O4z+q0oRTaGfoP8gYu+w+seM/xT8zEMn29D+QoMrhkYbXP6vInAC9wtA/5FIdfMEO1z+++/5fDxH0P2yd9GHtneE/Z8w2UpCH6j/ItG9HFH/hP5vNoh9Pt/A/d8wvs3nD7D8di9PoNTLtPzJ4rCr2JNQ/di6I6PkQ4D+ksUDgVmXhP8hP72ZgtPI/OOjOWYSm8z9h82+n2+nyP7Pb1jcbYfI/oFp2TiJj5D8=",
          "dtype": "f8"
         },
         "xaxis": "x",
         "y": {
          "bdata": "WX9z6Aub2T8BpcBUQoC6P+uvNycXWcg/FksjfzmY5D8JuWStoAjpPwQXOq8ym7E/2wizMMTFgz9RneBs+GbQP1M6I2Qqbuo/tYRxwpmNvb9HF38Gn6zwP0BNOuzAeNY/9WyHDTeDZD/1XbUc9WbyPwjg/NecMfY/TMqrI+Du4T83VCI6ST/lP3CJZdwjhri/hT/De8KD1z+JB/DwhxexP/Y1/lJo6bM/6g+yNfUE6T/fPiri3AXjP0gOAuvzzPI/n1GlQ0Fy1j9yv0xt7w2KP4t1rmDDE8Q/atjzZg8g8z/W2WMNXx7cP12PjF76CeQ/HFygMhIP9j+OI2Z0BALqPwwfB9zGsdc/cUbAGliE0z/vIcEV9GDgP4Dz+zGdv+A/Xf2WGoAmsz9MoVZjyxHxP24RZpS/6+8/iNUYUDt23z9gwfXriJPXP3JXvtmYML0/st4SQ7t2sz8rEyqg6knvPzYXGkr3mao/kXQX0jbw0z/ySxv/A7XsP0myVybPa9I/AIRrzIQa2D8Jw5wDDz7nP2LYQPVLg/A/rkRION9m2j9+iFf5CgDGP4MXjFRPiuE/rOX+TqcXuD8lUDV+v9bBP4Fha6eb9ro/g5DXzNqC0j/DxBO0iZLIPwtNDUJne+0/cpk+2JVS3j/+r31FHaPzPyl/kOgU/+w/Thli6R758T+Uu0H/QU3IP/xqJXPYCOY/ucvwz4o0ur/oYL2k9i/DP+PBEyx6mr0/UtmRviRJ7D/YYdx5OvHjP0knUc40FOo/QUqdH1zf4T/+agAT42PZP0X6NT/76qA/BHwlT8ANzj8=",
          "dtype": "f8"
         },
         "yaxis": "y"
        },
        {
         "customdata": [
          [
           "Utilities"
          ],
          [
           "Real Estate"
          ],
          [
           "Utilities"
          ],
          [
           "Utilities"
          ],
          [
           "Utilities"
          ],
          [
           "Real Estate"
          ],
          [
           "Real Estate"
          ],
          [
           "Real Estate"
          ],
          [
           "Utilities"
          ],
          [
           "Utilities"
          ],
          [
           "Utilities"
          ],
          [
           "Real Estate"
          ],
          [
           "Real Estate"
          ],
          [
           "Real Estate"
          ],
          [
           "Real Estate"
          ],
          [
           "Real Estate"
          ],
          [
           "Real Estate"
          ],
          [
           "Utilities"
          ],
          [
           "Technology"
          ],
          [
           "Utilities"
          ],
          [
           "Utilities"
          ]
         ],
         "hovertemplate": "<b>%{hovertext}</b><br><br>Clusters=6<br>PCA Component 1=%{x}<br>PCA Component 2=%{y}<br>Sector=%{customdata[0]}<extra></extra>",
         "hovertext": [
          "AEP",
          "AGNC",
          "ARTNA",
          "EVRG",
          "EXC",
          "GLPI",
          "GOOD",
          "LAND",
          "LNT",
          "MSEX",
          "NWE",
          "NYMT",
          "PCH",
          "PECO",
          "REFI",
          "REG",
          "SBAC",
          "SJW",
          "SSNC",
          "XEL",
          "YORW"
         ],
         "legendgroup": "6",
         "marker": {
          "color": "#19d3f3",
          "line": {
           "color": "DarkSlateGrey",
           "width": 1
          },
          "size": 10,
          "symbol": "circle"
         },
         "mode": "markers",
         "name": "6",
         "orientation": "v",
         "showlegend": true,
         "type": "scatter",
         "x": {
          "bdata": "Y0Nt/Kcg9z/ay53Qlbf5P1R9cJ9wbABAcmjwG+wIAUCRUjCt4Ez7Px40KJUV6/k/b+yvGnP5AUDlfLcT4fgCQByMR6N7GwNAs0QpNEx3BkC6WWNoE1MJQBO4px1RUwJAUzJZ+xVsAkDLgPFLkxoGQM9upaKFZAFAcJTOwixq+j9kwCNy5GP5PwfGxnwt6wZAg+BmMnERAUDw+VtGmLn1P82Q/wOjMwpA",
          "dtype": "f8"
         },
         "xaxis": "x",
         "y": {
          "bdata": "Q2KTIVr7AUBSNumgRir6P4Wdkto1afA/ArT18st5AEBzRbOKaDb7P5/P+jbrmPg/FWmK0eso8D/ZU+Qtl0jhP0/ip+ir+vw/n+GyDdMp8D9OROkWBljsP8toi3WHveQ/8vS74GyS5D8lyjUaqy/zP3OO+9MFUNc/e5pbLBcfAED2z3Bp61D9P3vYJzcCWPA/yip11woQ4D9cMUab39z3P5hEU21JnOg/",
          "dtype": "f8"
         },
         "yaxis": "y"
        },
        {
         "customdata": [
          [
           "Real Estate"
          ],
          [
           "Real Estate"
          ],
          [
           "Real Estate"
          ],
          [
           "Real Estate"
          ],
          [
           "Health Care"
          ],
          [
           "Health Care"
          ],
          [
           "Industrials"
          ],
          [
           "Consumer Discretionary"
          ],
          [
           "Finance"
          ],
          [
           "Consumer Staples"
          ],
          [
           "Consumer Discretionary"
          ],
          [
           "Real Estate"
          ],
          [
           "Consumer Discretionary"
          ],
          [
           "Technology"
          ],
          [
           "Health Care"
          ],
          [
           "Real Estate"
          ],
          [
           "Health Care"
          ],
          [
           "Consumer Staples"
          ],
          [
           "Finance"
          ],
          [
           "Finance"
          ],
          [
           "Health Care"
          ],
          [
           "Real Estate"
          ],
          [
           "Health Care"
          ],
          [
           "Finance"
          ],
          [
           "Finance"
          ],
          [
           "Health Care"
          ],
          [
           "Real Estate"
          ],
          [
           "Telecommunications"
          ],
          [
           "Health Care"
          ],
          [
           "Consumer Staples"
          ],
          [
           "Consumer Staples"
          ],
          [
           "Basic Materials"
          ],
          [
           "Real Estate"
          ],
          [
           "Real Estate"
          ],
          [
           "Real Estate"
          ],
          [
           "Finance"
          ],
          [
           "Health Care"
          ],
          [
           "Consumer Staples"
          ],
          [
           "Consumer Staples"
          ],
          [
           "Energy"
          ],
          [
           "Health Care"
          ],
          [
           "Real Estate"
          ],
          [
           "Real Estate"
          ],
          [
           "Health Care"
          ],
          [
           "Consumer Discretionary"
          ],
          [
           "Consumer Discretionary"
          ],
          [
           "Real Estate"
          ],
          [
           "Health Care"
          ],
          [
           "Telecommunications"
          ],
          [
           "Consumer Discretionary"
          ],
          [
           "Consumer Discretionary"
          ],
          [
           "Basic Materials"
          ],
          [
           "Health Care"
          ],
          [
           "Finance"
          ],
          [
           "Finance"
          ],
          [
           "Technology"
          ],
          [
           "Health Care"
          ],
          [
           "Consumer Discretionary"
          ],
          [
           "Consumer Discretionary"
          ]
         ],
         "hovertemplate": "<b>%{hovertext}</b><br><br>Clusters=0<br>PCA Component 1=%{x}<br>PCA Component 2=%{y}<br>Sector=%{customdata[0]}<extra></extra>",
         "hovertext": [
          "AGNCM",
          "AGNCN",
          "AGNCO",
          "AGNCP",
          "ALNY",
          "BMRN",
          "BRKR",
          "CHRW",
          "CME",
          "COKE",
          "CTAS",
          "DHCNI",
          "DLTR",
          "EA",
          "ENSG",
          "EQIX",
          "EXAS",
          "FARM",
          "FITBI",
          "FITBP",
          "GEHC",
          "GOODO",
          "HALO",
          "HBANL",
          "HBANM",
          "IDXX",
          "LANDP",
          "LBRDP",
          "LNTH",
          "MDLZ",
          "MNST",
          "NB",
          "NYMTM",
          "NYMTN",
          "NYMTZ",
          "ONBPO",
          "PCVX",
          "PEP",
          "PETS",
          "PLUG",
          "PODD",
          "REGCO",
          "REGCP",
          "REGN",
          "RIVN",
          "ROST",
          "SOHON",
          "SRPT",
          "TMUS",
          "TTEK",
          "ULTA",
          "USAU",
          "UTHR",
          "VLYPO",
          "VLYPP",
          "VRSK",
          "VRTX",
          "Z",
          "ZG"
         ],
         "legendgroup": "0",
         "marker": {
          "color": "#FF6692",
          "line": {
           "color": "DarkSlateGrey",
           "width": 1
          },
          "size": 10,
          "symbol": "circle"
         },
         "mode": "markers",
         "name": "0",
         "orientation": "v",
         "showlegend": true,
         "type": "scatter",
         "x": {
          "bdata": "gVhwBD4F4r//4i6XdT/Zv+RizKsZvuy/mHM9sSsF8r+ZN8D26bvmv0gBS7CKJ+m/YS2jPHy85L8QZAsP7s20vyLxUeSKSuG/rBbU4R8nxL/P3BcIoObTv7WYn8ectum/3xn0CHhz4b9tv/voEtvav6aatDIVN8+/+bg9j4H1yL9TjS9mpSr4v8eqHS2M4sS/LS+gUbpV3b/oE7KTgLyLvyS8182DKLW/1KXk5Pvq2r8FuhltzFDBvxRmbT5zY7Q/wTQ8SQG3xz8s08+R1Hjdvzafkcj0jri/5uGPYFTo37+neE1Kk+Hjv3VvXvg9Hcw/mvlP8f3hvz9UJf21xY/mv31sahrNtNy/hdt8lQ8R4b/9r//a1p7gv4OlgtxW2eS/17MHOm5K07+WF3j+2MrXP1riU5ANDeC/q850o0PL0b82qXKs/h/Uvw+8vSRnssC/r65QjgaO6r9+/8E7C7bnv5YiK8ump7a/uhNChwh6179pyE9BecHwv8YN+SFFYOG/NJsocxv45L/nXWbJzWfwv28pQkCrXuC/yXDArZuR2797BbGNNFzDv0Obmwa8EeK/sIcCNDpq1r87KRo7KLzCvzmgTE9WBOC/9IE6mIDV4L85ZF0HkUjivw==",
          "dtype": "f8"
         },
         "xaxis": "x",
         "y": {
          "bdata": "IrzFtFS58j/7phhy9TTpPw6V1t+Gvek/jIJp85Y58D+iJGnqtWvpP1S+ZpTinOo/QItiaTMd4T+QdM48uuHhP+1s6AdDb/I/qLL4YJn78D8JEIUOJq3lPzhwbz3gzvI/OHR+umBr4D+RuirmrAbhP+sWQuklpPU/PJyNq+g3+T9h5cEOW2b7P8hqMlpU4uY/fQUTi3u97D+J21ytwKjxP6EYrALtk+k/lMKTH4Ry2j8qrnDbAQrfP166zcnGrfY/j0fEHuTO9j/glbXtrvbfPzkdzXZTpOA/DW1M4P5Q7D9ETBTyCgToP5477qd/2QBArStJwiYi8T8b3y7xccDfP6p/Umd3wdc/VyZPjWBQ5z/X4hveYvjTP8QBQYlcXeE/oBAc4JaE8T/75Ir1R/v/Py/lD6MAbew/+KjF6p7Z4j+UfFj4bmDwPzjRNYRU1+M/u9Ta1MY47z9N64EdJVTzP6CEm05Rk9o/DfJmRHgu8T+vahsO4YnlPwXKhPTts+A/ZgnfHSzk5j9M8eMW7LX0P82ytXw8F9M/6kXPNemb3D+GXY1Cd67jP4XMtl/ZFtw/IdixP4tl5T/KaouyoqH4P3zm0Y7LC/M/Jva3qJuL8D/1EjUexffwPw==",
          "dtype": "f8"
         },
         "yaxis": "y"
        },
        {
         "customdata": [
          [
           "Technology"
          ],
          [
           "Technology"
          ],
          [
           "Technology"
          ],
          [
           "Technology"
          ],
          [
           "Technology"
          ],
          [
           "Technology"
          ],
          [
           "Technology"
          ]
         ],
         "hovertemplate": "<b>%{hovertext}</b><br><br>Clusters=8<br>PCA Component 1=%{x}<br>PCA Component 2=%{y}<br>Sector=%{customdata[0]}<extra></extra>",
         "hovertext": [
          "AMAT",
          "AVGO",
          "CDNS",
          "KLAC",
          "LRCX",
          "NVDA",
          "SNPS"
         ],
         "legendgroup": "8",
         "marker": {
          "color": "#B6E880",
          "line": {
           "color": "DarkSlateGrey",
           "width": 1
          },
          "size": 10,
          "symbol": "circle"
         },
         "mode": "markers",
         "name": "8",
         "orientation": "v",
         "showlegend": true,
         "type": "scatter",
         "x": {
          "bdata": "02Cxu7T4DsCHTZB6t6cPwHu9eWB9UQzAOxY1JNhYDsDOheD/X/EPwAAAIYRY6RTAM78j0j19CsA=",
          "dtype": "f8"
         },
         "xaxis": "x",
         "y": {
          "bdata": "KSxhjF5i+r+wtdM4On7pvyNDs4c6seW/SLA3t8mJ+79G3/D7r5X6v0zvpwa8MOi/V2MEDQnA8b8=",
          "dtype": "f8"
         },
         "yaxis": "y"
        },
        {
         "customdata": [
          [
           "Technology"
          ],
          [
           "Technology"
          ],
          [
           "Utilities"
          ],
          [
           "Technology"
          ],
          [
           "Technology"
          ],
          [
           "Industrials"
          ],
          [
           "Industrials"
          ],
          [
           "Technology"
          ],
          [
           "Technology"
          ],
          [
           "Technology"
          ],
          [
           "Technology"
          ],
          [
           "Technology"
          ],
          [
           "Energy"
          ],
          [
           "Technology"
          ],
          [
           "Industrials"
          ],
          [
           "Utilities"
          ],
          [
           "Technology"
          ],
          [
           "Consumer Discretionary"
          ]
         ],
         "hovertemplate": "<b>%{hovertext}</b><br><br>Clusters=2<br>PCA Component 1=%{x}<br>PCA Component 2=%{y}<br>Sector=%{customdata[0]}<extra></extra>",
         "hovertext": [
          "AMD",
          "ANSS",
          "CEG",
          "CRWD",
          "DDOG",
          "ENTG",
          "MKSI",
          "MPWR",
          "MRVL",
          "MU",
          "NTAP",
          "ON",
          "POWL",
          "QCOM",
          "TER",
          "TLN",
          "WDC",
          "WING"
         ],
         "legendgroup": "2",
         "marker": {
          "color": "#FF97FF",
          "line": {
           "color": "DarkSlateGrey",
           "width": 1
          },
          "size": 10,
          "symbol": "circle"
         },
         "mode": "markers",
         "name": "2",
         "orientation": "v",
         "showlegend": true,
         "type": "scatter",
         "x": {
          "bdata": "H8vSVwbACMAyOlhmW6oDwL+BBvr9JQPAtErJzC9vB8ASzqSFFNIAwBKu2dz4PAHAEM6uOVjXAcBgyGHjfGYFwG1c32v3agbAZYUzh9kBBcAbMHhGOBgAwKfNSmwKSfi/19ScwIHm9L+rJWLI6RkGwBeXay37ewPA4+EH7ZwoAMD+CPCxG6cEwF8IBFXdEQPA",
          "dtype": "f8"
         },
         "xaxis": "x",
         "y": {
          "bdata": "9QlMXi6E679tWPSHpV7Tv6a4qDdYO9q//9bgPDkm2b8JPlXMDBjmvwO/8hw3DPe/MRvkAjKO9r9pdI7p/Fvxv825CPsyLPC/GJKijkge9b/p+OjVm97gv/SrmstjBvC/BcR+JM/I8r9dbobBO4z5v2RfvdTgePO/5G6Ujyey078qyw5se2Tzv5xZTdFYu9e/",
          "dtype": "f8"
         },
         "yaxis": "y"
        },
        {
         "customdata": [
          [
           "Basic Materials"
          ],
          [
           "Consumer Staples"
          ],
          [
           "Telecommunications"
          ],
          [
           "Industrials"
          ],
          [
           "Industrials"
          ],
          [
           "Finance"
          ],
          [
           "Finance"
          ],
          [
           "Finance"
          ],
          [
           "Utilities"
          ],
          [
           "Telecommunications"
          ],
          [
           "Finance"
          ],
          [
           "Industrials"
          ],
          [
           "Industrials"
          ],
          [
           "Industrials"
          ],
          [
           "Utilities"
          ],
          [
           "Industrials"
          ],
          [
           "Finance"
          ],
          [
           "Real Estate"
          ],
          [
           "Consumer Staples"
          ],
          [
           "Industrials"
          ],
          [
           "Consumer Staples"
          ],
          [
           "Miscellaneous"
          ],
          [
           "Energy"
          ],
          [
           "Industrials"
          ],
          [
           "Telecommunications"
          ],
          [
           "Telecommunications"
          ],
          [
           "Consumer Staples"
          ],
          [
           "Industrials"
          ],
          [
           "Energy"
          ],
          [
           "Industrials"
          ],
          [
           "Industrials"
          ],
          [
           "Miscellaneous"
          ],
          [
           "Finance"
          ],
          [
           "Industrials"
          ],
          [
           "Utilities"
          ],
          [
           "Utilities"
          ],
          [
           "Finance"
          ],
          [
           "Consumer Discretionary"
          ],
          [
           "Energy"
          ],
          [
           "Finance"
          ],
          [
           "Telecommunications"
          ],
          [
           "Real Estate"
          ],
          [
           "Finance"
          ],
          [
           "Consumer Staples"
          ],
          [
           "Consumer Staples"
          ],
          [
           "Telecommunications"
          ]
         ],
         "hovertemplate": "<b>%{hovertext}</b><br><br>Clusters=1<br>PCA Component 1=%{x}<br>PCA Component 2=%{y}<br>Sector=%{customdata[0]}<extra></extra>",
         "hovertext": [
          "AMWD",
          "ARKO",
          "ATNI",
          "BCPC",
          "BKR",
          "CACC",
          "CG",
          "CINF",
          "CLNE",
          "CMCSA",
          "COOP",
          "CSX",
          "FOX",
          "FOXA",
          "GWRS",
          "HEES",
          "HLNE",
          "HST",
          "IMKTA",
          "JBHT",
          "JBSS",
          "JYNT",
          "KLXE",
          "LECO",
          "LILA",
          "LILAK",
          "LMNR",
          "LSTR",
          "MGEE",
          "MIDD",
          "NDSN",
          "NOVT",
          "NTRS",
          "NXST",
          "OTTR",
          "PCYO",
          "PFG",
          "POOL",
          "PTEN",
          "SEIC",
          "SHEN",
          "SVC",
          "TROW",
          "VLGEA",
          "WEYS",
          "ZD"
         ],
         "legendgroup": "1",
         "marker": {
          "color": "#FECB52",
          "line": {
           "color": "DarkSlateGrey",
           "width": 1
          },
          "size": 10,
          "symbol": "circle"
         },
         "mode": "markers",
         "name": "1",
         "orientation": "v",
         "showlegend": true,
         "type": "scatter",
         "x": {
          "bdata": "qKu8KQZ7AkD0HpA4bu34PwOdcAGY5vY/5jfbffuK/z+r+G2uhn/4P+4AQo4nT/k/IhhuMnbE+D8RhaFsj839P2MLurYbDPk/WyKWaEmp9z/i6+eLjn8BQMpoliMr5P0/cPgqXR+X+z/8T6CsAA76P9LDtNJEzP0/npKiuYxF/T/MP/jba/H2PxP8FRVDGfs/MWtY1qQS/z+jRpPT+lnzP0jUPqpch/c/YMI/Kc8b9D8WgdtdGQD4P1KnuNO8jQFAVfojxNPm+T/PxmDiSnL5Py9W2Ou9fwBAKInn4Vw6/j+riFQ5QeX9P3awLrsrVwFABJUkEKCC+j8dw/znGx/9P1ib5gRbVABAG1P6m+MT/z+kcAV63LUCQP0U2GAw8/0/fFoQlLb3AUCNabFYxCUAQM9m96hvRPo/F5jbz69P/j+N4XAPiM0AQK/9zxU+U/s/vCipMlzK+z/w2ge1bPj9P3Ed/geCQPs/R7yzOIor+j8=",
          "dtype": "f8"
         },
         "xaxis": "x",
         "y": {
          "bdata": "+9OH/lUw4r+ahfe45J3Qv8jH+W/grLA/ZhVcqUsi2r+kW24iqzj1vyH3VQtnB+u/xgpJPgeg9b/0DPNQDpu7v/TLrWZ1Ps6/yk4vjIsljz/ME1P6SknWv25eX98E7ta/hXpYr5Hdtz80H88kgY21P1pgDfSUWs+/D4D+vjxn9r/KieafV6nuv5neja1AD6M/0vzd1EFUbL937XQQofPcv0sW4V+nBcM/DMpzZ/oiqb93Jj4lmQDwv9sI9Qua1uu/HzP8hCwl5L/iIPxM7+bivyvOG3ep1tK/c5a5xFMV5r8RwnVG2qzTP/vgr240z7g/Wu7BT23q0L8XUE6NuOTxv5QvciQJYNy/MFiprmijzb9wD4e8hk/mv9Dg2KCgaeS/3EllcP7j2b8P3tqJSRqcv9bkIGbJjvK/eTVFZr2Kvb9KPNIVyg7evyPS19IIatC/hZzKCG2u4b8eI5e1YPHuv9OMNrU+G/W/ocR9P4MntL8=",
          "dtype": "f8"
         },
         "yaxis": "y"
        },
        {
         "customdata": [
          [
           "Finance"
          ],
          [
           "Finance"
          ],
          [
           "Finance"
          ],
          [
           "Finance"
          ],
          [
           "Finance"
          ],
          [
           "Finance"
          ],
          [
           "Telecommunications"
          ],
          [
           "Finance"
          ],
          [
           "Finance"
          ],
          [
           "Utilities"
          ],
          [
           "Finance"
          ],
          [
           "Basic Materials"
          ],
          [
           "Finance"
          ],
          [
           "Finance"
          ]
         ],
         "hovertemplate": "<b>%{hovertext}</b><br><br>Clusters=9<br>PCA Component 1=%{x}<br>PCA Component 2=%{y}<br>Sector=%{customdata[0]}<extra></extra>",
         "hovertext": [
          "BOKF",
          "BPOP",
          "CBSH",
          "EWBC",
          "FITB",
          "HBAN",
          "MATW",
          "ONB",
          "PNFP",
          "RGCO",
          "SLM",
          "UFPI",
          "WTFC",
          "ZION"
         ],
         "legendgroup": "9",
         "marker": {
          "color": "#636efa",
          "line": {
           "color": "DarkSlateGrey",
           "width": 1
          },
          "size": 10,
          "symbol": "circle"
         },
         "mode": "markers",
         "name": "9",
         "orientation": "v",
         "showlegend": true,
         "type": "scatter",
         "x": {
          "bdata": "Qo6hDJmSCkAiKan0uAgEQDojA5p8FQdA+cyCDddICEB3rxaxcv8JQOlCrbkVWAdAvN3NKB/7BUDCs0uy3ekLQF6qifrREwpAXUuZ5cd6BEDwy+jr8KQBQOm5S8HwcAlAX1NMb8Y0CUA1G+Tehi4HQA==",
          "dtype": "f8"
         },
         "xaxis": "x",
         "y": {
          "bdata": "3kXiK5n08b/W5b3huy3xvylzXfK+VfO/TlRu548197/8Cmyj/5Htv+MieIaO3/O/aK69R/G41b8xU8KRC6n0v1CAvKCVH/a/Zka5j8na7L8Bk1s/sbD2v2dZDXRFfuq/UYk9Zoc9+L8AabaSp5z3vw==",
          "dtype": "f8"
         },
         "yaxis": "y"
        }
       ],
       "layout": {
        "legend": {
         "title": {
          "text": "Cluster"
         },
         "tracegroupgap": 0
        },
        "template": {
         "data": {
          "bar": [
           {
            "error_x": {
             "color": "#2a3f5f"
            },
            "error_y": {
             "color": "#2a3f5f"
            },
            "marker": {
             "line": {
              "color": "#E5ECF6",
              "width": 0.5
             },
             "pattern": {
              "fillmode": "overlay",
              "size": 10,
              "solidity": 0.2
             }
            },
            "type": "bar"
           }
          ],
          "barpolar": [
           {
            "marker": {
             "line": {
              "color": "#E5ECF6",
              "width": 0.5
             },
             "pattern": {
              "fillmode": "overlay",
              "size": 10,
              "solidity": 0.2
             }
            },
            "type": "barpolar"
           }
          ],
          "carpet": [
           {
            "aaxis": {
             "endlinecolor": "#2a3f5f",
             "gridcolor": "white",
             "linecolor": "white",
             "minorgridcolor": "white",
             "startlinecolor": "#2a3f5f"
            },
            "baxis": {
             "endlinecolor": "#2a3f5f",
             "gridcolor": "white",
             "linecolor": "white",
             "minorgridcolor": "white",
             "startlinecolor": "#2a3f5f"
            },
            "type": "carpet"
           }
          ],
          "choropleth": [
           {
            "colorbar": {
             "outlinewidth": 0,
             "ticks": ""
            },
            "type": "choropleth"
           }
          ],
          "contour": [
           {
            "colorbar": {
             "outlinewidth": 0,
             "ticks": ""
            },
            "colorscale": [
             [
              0,
              "#0d0887"
             ],
             [
              0.1111111111111111,
              "#46039f"
             ],
             [
              0.2222222222222222,
              "#7201a8"
             ],
             [
              0.3333333333333333,
              "#9c179e"
             ],
             [
              0.4444444444444444,
              "#bd3786"
             ],
             [
              0.5555555555555556,
              "#d8576b"
             ],
             [
              0.6666666666666666,
              "#ed7953"
             ],
             [
              0.7777777777777778,
              "#fb9f3a"
             ],
             [
              0.8888888888888888,
              "#fdca26"
             ],
             [
              1,
              "#f0f921"
             ]
            ],
            "type": "contour"
           }
          ],
          "contourcarpet": [
           {
            "colorbar": {
             "outlinewidth": 0,
             "ticks": ""
            },
            "type": "contourcarpet"
           }
          ],
          "heatmap": [
           {
            "colorbar": {
             "outlinewidth": 0,
             "ticks": ""
            },
            "colorscale": [
             [
              0,
              "#0d0887"
             ],
             [
              0.1111111111111111,
              "#46039f"
             ],
             [
              0.2222222222222222,
              "#7201a8"
             ],
             [
              0.3333333333333333,
              "#9c179e"
             ],
             [
              0.4444444444444444,
              "#bd3786"
             ],
             [
              0.5555555555555556,
              "#d8576b"
             ],
             [
              0.6666666666666666,
              "#ed7953"
             ],
             [
              0.7777777777777778,
              "#fb9f3a"
             ],
             [
              0.8888888888888888,
              "#fdca26"
             ],
             [
              1,
              "#f0f921"
             ]
            ],
            "type": "heatmap"
           }
          ],
          "histogram": [
           {
            "marker": {
             "pattern": {
              "fillmode": "overlay",
              "size": 10,
              "solidity": 0.2
             }
            },
            "type": "histogram"
           }
          ],
          "histogram2d": [
           {
            "colorbar": {
             "outlinewidth": 0,
             "ticks": ""
            },
            "colorscale": [
             [
              0,
              "#0d0887"
             ],
             [
              0.1111111111111111,
              "#46039f"
             ],
             [
              0.2222222222222222,
              "#7201a8"
             ],
             [
              0.3333333333333333,
              "#9c179e"
             ],
             [
              0.4444444444444444,
              "#bd3786"
             ],
             [
              0.5555555555555556,
              "#d8576b"
             ],
             [
              0.6666666666666666,
              "#ed7953"
             ],
             [
              0.7777777777777778,
              "#fb9f3a"
             ],
             [
              0.8888888888888888,
              "#fdca26"
             ],
             [
              1,
              "#f0f921"
             ]
            ],
            "type": "histogram2d"
           }
          ],
          "histogram2dcontour": [
           {
            "colorbar": {
             "outlinewidth": 0,
             "ticks": ""
            },
            "colorscale": [
             [
              0,
              "#0d0887"
             ],
             [
              0.1111111111111111,
              "#46039f"
             ],
             [
              0.2222222222222222,
              "#7201a8"
             ],
             [
              0.3333333333333333,
              "#9c179e"
             ],
             [
              0.4444444444444444,
              "#bd3786"
             ],
             [
              0.5555555555555556,
              "#d8576b"
             ],
             [
              0.6666666666666666,
              "#ed7953"
             ],
             [
              0.7777777777777778,
              "#fb9f3a"
             ],
             [
              0.8888888888888888,
              "#fdca26"
             ],
             [
              1,
              "#f0f921"
             ]
            ],
            "type": "histogram2dcontour"
           }
          ],
          "mesh3d": [
           {
            "colorbar": {
             "outlinewidth": 0,
             "ticks": ""
            },
            "type": "mesh3d"
           }
          ],
          "parcoords": [
           {
            "line": {
             "colorbar": {
              "outlinewidth": 0,
              "ticks": ""
             }
            },
            "type": "parcoords"
           }
          ],
          "pie": [
           {
            "automargin": true,
            "type": "pie"
           }
          ],
          "scatter": [
           {
            "fillpattern": {
             "fillmode": "overlay",
             "size": 10,
             "solidity": 0.2
            },
            "type": "scatter"
           }
          ],
          "scatter3d": [
           {
            "line": {
             "colorbar": {
              "outlinewidth": 0,
              "ticks": ""
             }
            },
            "marker": {
             "colorbar": {
              "outlinewidth": 0,
              "ticks": ""
             }
            },
            "type": "scatter3d"
           }
          ],
          "scattercarpet": [
           {
            "marker": {
             "colorbar": {
              "outlinewidth": 0,
              "ticks": ""
             }
            },
            "type": "scattercarpet"
           }
          ],
          "scattergeo": [
           {
            "marker": {
             "colorbar": {
              "outlinewidth": 0,
              "ticks": ""
             }
            },
            "type": "scattergeo"
           }
          ],
          "scattergl": [
           {
            "marker": {
             "colorbar": {
              "outlinewidth": 0,
              "ticks": ""
             }
            },
            "type": "scattergl"
           }
          ],
          "scattermap": [
           {
            "marker": {
             "colorbar": {
              "outlinewidth": 0,
              "ticks": ""
             }
            },
            "type": "scattermap"
           }
          ],
          "scattermapbox": [
           {
            "marker": {
             "colorbar": {
              "outlinewidth": 0,
              "ticks": ""
             }
            },
            "type": "scattermapbox"
           }
          ],
          "scatterpolar": [
           {
            "marker": {
             "colorbar": {
              "outlinewidth": 0,
              "ticks": ""
             }
            },
            "type": "scatterpolar"
           }
          ],
          "scatterpolargl": [
           {
            "marker": {
             "colorbar": {
              "outlinewidth": 0,
              "ticks": ""
             }
            },
            "type": "scatterpolargl"
           }
          ],
          "scatterternary": [
           {
            "marker": {
             "colorbar": {
              "outlinewidth": 0,
              "ticks": ""
             }
            },
            "type": "scatterternary"
           }
          ],
          "surface": [
           {
            "colorbar": {
             "outlinewidth": 0,
             "ticks": ""
            },
            "colorscale": [
             [
              0,
              "#0d0887"
             ],
             [
              0.1111111111111111,
              "#46039f"
             ],
             [
              0.2222222222222222,
              "#7201a8"
             ],
             [
              0.3333333333333333,
              "#9c179e"
             ],
             [
              0.4444444444444444,
              "#bd3786"
             ],
             [
              0.5555555555555556,
              "#d8576b"
             ],
             [
              0.6666666666666666,
              "#ed7953"
             ],
             [
              0.7777777777777778,
              "#fb9f3a"
             ],
             [
              0.8888888888888888,
              "#fdca26"
             ],
             [
              1,
              "#f0f921"
             ]
            ],
            "type": "surface"
           }
          ],
          "table": [
           {
            "cells": {
             "fill": {
              "color": "#EBF0F8"
             },
             "line": {
              "color": "white"
             }
            },
            "header": {
             "fill": {
              "color": "#C8D4E3"
             },
             "line": {
              "color": "white"
             }
            },
            "type": "table"
           }
          ]
         },
         "layout": {
          "annotationdefaults": {
           "arrowcolor": "#2a3f5f",
           "arrowhead": 0,
           "arrowwidth": 1
          },
          "autotypenumbers": "strict",
          "coloraxis": {
           "colorbar": {
            "outlinewidth": 0,
            "ticks": ""
           }
          },
          "colorscale": {
           "diverging": [
            [
             0,
             "#8e0152"
            ],
            [
             0.1,
             "#c51b7d"
            ],
            [
             0.2,
             "#de77ae"
            ],
            [
             0.3,
             "#f1b6da"
            ],
            [
             0.4,
             "#fde0ef"
            ],
            [
             0.5,
             "#f7f7f7"
            ],
            [
             0.6,
             "#e6f5d0"
            ],
            [
             0.7,
             "#b8e186"
            ],
            [
             0.8,
             "#7fbc41"
            ],
            [
             0.9,
             "#4d9221"
            ],
            [
             1,
             "#276419"
            ]
           ],
           "sequential": [
            [
             0,
             "#0d0887"
            ],
            [
             0.1111111111111111,
             "#46039f"
            ],
            [
             0.2222222222222222,
             "#7201a8"
            ],
            [
             0.3333333333333333,
             "#9c179e"
            ],
            [
             0.4444444444444444,
             "#bd3786"
            ],
            [
             0.5555555555555556,
             "#d8576b"
            ],
            [
             0.6666666666666666,
             "#ed7953"
            ],
            [
             0.7777777777777778,
             "#fb9f3a"
            ],
            [
             0.8888888888888888,
             "#fdca26"
            ],
            [
             1,
             "#f0f921"
            ]
           ],
           "sequentialminus": [
            [
             0,
             "#0d0887"
            ],
            [
             0.1111111111111111,
             "#46039f"
            ],
            [
             0.2222222222222222,
             "#7201a8"
            ],
            [
             0.3333333333333333,
             "#9c179e"
            ],
            [
             0.4444444444444444,
             "#bd3786"
            ],
            [
             0.5555555555555556,
             "#d8576b"
            ],
            [
             0.6666666666666666,
             "#ed7953"
            ],
            [
             0.7777777777777778,
             "#fb9f3a"
            ],
            [
             0.8888888888888888,
             "#fdca26"
            ],
            [
             1,
             "#f0f921"
            ]
           ]
          },
          "colorway": [
           "#636efa",
           "#EF553B",
           "#00cc96",
           "#ab63fa",
           "#FFA15A",
           "#19d3f3",
           "#FF6692",
           "#B6E880",
           "#FF97FF",
           "#FECB52"
          ],
          "font": {
           "color": "#2a3f5f"
          },
          "geo": {
           "bgcolor": "white",
           "lakecolor": "white",
           "landcolor": "#E5ECF6",
           "showlakes": true,
           "showland": true,
           "subunitcolor": "white"
          },
          "hoverlabel": {
           "align": "left"
          },
          "hovermode": "closest",
          "mapbox": {
           "style": "light"
          },
          "paper_bgcolor": "white",
          "plot_bgcolor": "#E5ECF6",
          "polar": {
           "angularaxis": {
            "gridcolor": "white",
            "linecolor": "white",
            "ticks": ""
           },
           "bgcolor": "#E5ECF6",
           "radialaxis": {
            "gridcolor": "white",
            "linecolor": "white",
            "ticks": ""
           }
          },
          "scene": {
           "xaxis": {
            "backgroundcolor": "#E5ECF6",
            "gridcolor": "white",
            "gridwidth": 2,
            "linecolor": "white",
            "showbackground": true,
            "ticks": "",
            "zerolinecolor": "white"
           },
           "yaxis": {
            "backgroundcolor": "#E5ECF6",
            "gridcolor": "white",
            "gridwidth": 2,
            "linecolor": "white",
            "showbackground": true,
            "ticks": "",
            "zerolinecolor": "white"
           },
           "zaxis": {
            "backgroundcolor": "#E5ECF6",
            "gridcolor": "white",
            "gridwidth": 2,
            "linecolor": "white",
            "showbackground": true,
            "ticks": "",
            "zerolinecolor": "white"
           }
          },
          "shapedefaults": {
           "line": {
            "color": "#2a3f5f"
           }
          },
          "ternary": {
           "aaxis": {
            "gridcolor": "white",
            "linecolor": "white",
            "ticks": ""
           },
           "baxis": {
            "gridcolor": "white",
            "linecolor": "white",
            "ticks": ""
           },
           "bgcolor": "#E5ECF6",
           "caxis": {
            "gridcolor": "white",
            "linecolor": "white",
            "ticks": ""
           }
          },
          "title": {
           "x": 0.05
          },
          "xaxis": {
           "automargin": true,
           "gridcolor": "white",
           "linecolor": "white",
           "ticks": "",
           "title": {
            "standoff": 15
           },
           "zerolinecolor": "white",
           "zerolinewidth": 2
          },
          "yaxis": {
           "automargin": true,
           "gridcolor": "white",
           "linecolor": "white",
           "ticks": "",
           "title": {
            "standoff": 15
           },
           "zerolinecolor": "white",
           "zerolinewidth": 2
          }
         }
        },
        "title": {
         "text": "Interactive SPONGE-style Clustering of Stocks"
        },
        "xaxis": {
         "anchor": "y",
         "domain": [
          0,
          1
         ],
         "title": {
          "text": "PCA Component 1"
         }
        },
        "yaxis": {
         "anchor": "x",
         "domain": [
          0,
          1
         ],
         "title": {
          "text": "PCA Component 2"
         }
        }
       }
      }
     },
     "metadata": {},
     "output_type": "display_data"
    }
   ],
   "source": [
    "# 2) Plot with Plotly\n",
    "fig = px.scatter(\n",
    "    pca_df_merged,\n",
    "    x='PC1',\n",
    "    y='PC2',\n",
    "    color='Clusters',\n",
    "    hover_name='Symbol',\n",
    "    hover_data=['Sector'],\n",
    "    title='Interactive SPONGE-style Clustering of Stocks',\n",
    "    labels={'PC1': 'PCA Component 1', 'PC2': 'PCA Component 2', 'Name': 'Symbol', 'Sector': 'Sector'}\n",
    ")\n",
    "\n",
    "fig.update_traces(marker=dict(size=10, line=dict(width=1, color='DarkSlateGrey')))\n",
    "fig.update_layout(legend_title_text='Cluster')\n",
    "fig.show()"
   ]
  },
  {
   "cell_type": "code",
   "execution_count": 17,
   "id": "5234ce26",
   "metadata": {},
   "outputs": [
    {
     "data": {
      "text/html": [
       "<div>\n",
       "<style scoped>\n",
       "    .dataframe tbody tr th:only-of-type {\n",
       "        vertical-align: middle;\n",
       "    }\n",
       "\n",
       "    .dataframe tbody tr th {\n",
       "        vertical-align: top;\n",
       "    }\n",
       "\n",
       "    .dataframe thead th {\n",
       "        text-align: right;\n",
       "    }\n",
       "</style>\n",
       "<table border=\"1\" class=\"dataframe\">\n",
       "  <thead>\n",
       "    <tr style=\"text-align: right;\">\n",
       "      <th></th>\n",
       "      <th>Symbol</th>\n",
       "      <th>PC1</th>\n",
       "      <th>PC2</th>\n",
       "      <th>PC3</th>\n",
       "      <th>Cluster</th>\n",
       "    </tr>\n",
       "  </thead>\n",
       "  <tbody>\n",
       "    <tr>\n",
       "      <th>0</th>\n",
       "      <td>AAL</td>\n",
       "      <td>0.333686</td>\n",
       "      <td>-0.135116</td>\n",
       "      <td>-0.149934</td>\n",
       "      <td>10</td>\n",
       "    </tr>\n",
       "    <tr>\n",
       "      <th>1</th>\n",
       "      <td>AAON</td>\n",
       "      <td>-0.131069</td>\n",
       "      <td>-0.706494</td>\n",
       "      <td>-0.739863</td>\n",
       "      <td>10</td>\n",
       "    </tr>\n",
       "    <tr>\n",
       "      <th>2</th>\n",
       "      <td>AAPL</td>\n",
       "      <td>-2.048046</td>\n",
       "      <td>1.033026</td>\n",
       "      <td>0.083485</td>\n",
       "      <td>7</td>\n",
       "    </tr>\n",
       "    <tr>\n",
       "      <th>3</th>\n",
       "      <td>ABAT</td>\n",
       "      <td>-1.325479</td>\n",
       "      <td>0.076906</td>\n",
       "      <td>0.070119</td>\n",
       "      <td>5</td>\n",
       "    </tr>\n",
       "    <tr>\n",
       "      <th>4</th>\n",
       "      <td>ABNB</td>\n",
       "      <td>-1.185291</td>\n",
       "      <td>-0.380022</td>\n",
       "      <td>0.309862</td>\n",
       "      <td>5</td>\n",
       "    </tr>\n",
       "    <tr>\n",
       "      <th>...</th>\n",
       "      <td>...</td>\n",
       "      <td>...</td>\n",
       "      <td>...</td>\n",
       "      <td>...</td>\n",
       "      <td>...</td>\n",
       "    </tr>\n",
       "    <tr>\n",
       "      <th>495</th>\n",
       "      <td>ZEO</td>\n",
       "      <td>-1.072002</td>\n",
       "      <td>-0.006411</td>\n",
       "      <td>0.045507</td>\n",
       "      <td>5</td>\n",
       "    </tr>\n",
       "    <tr>\n",
       "      <th>496</th>\n",
       "      <td>ZG</td>\n",
       "      <td>-0.571358</td>\n",
       "      <td>1.060491</td>\n",
       "      <td>0.972231</td>\n",
       "      <td>0</td>\n",
       "    </tr>\n",
       "    <tr>\n",
       "      <th>497</th>\n",
       "      <td>ZION</td>\n",
       "      <td>2.897718</td>\n",
       "      <td>-1.475746</td>\n",
       "      <td>-0.483628</td>\n",
       "      <td>9</td>\n",
       "    </tr>\n",
       "    <tr>\n",
       "      <th>498</th>\n",
       "      <td>ZM</td>\n",
       "      <td>0.637101</td>\n",
       "      <td>0.234795</td>\n",
       "      <td>-0.119871</td>\n",
       "      <td>4</td>\n",
       "    </tr>\n",
       "    <tr>\n",
       "      <th>499</th>\n",
       "      <td>ZS</td>\n",
       "      <td>-1.171258</td>\n",
       "      <td>0.087624</td>\n",
       "      <td>-0.520527</td>\n",
       "      <td>5</td>\n",
       "    </tr>\n",
       "  </tbody>\n",
       "</table>\n",
       "<p>500 rows × 5 columns</p>\n",
       "</div>"
      ],
      "text/plain": [
       "    Symbol       PC1       PC2       PC3 Cluster\n",
       "0      AAL  0.333686 -0.135116 -0.149934      10\n",
       "1     AAON -0.131069 -0.706494 -0.739863      10\n",
       "2     AAPL -2.048046  1.033026  0.083485       7\n",
       "3     ABAT -1.325479  0.076906  0.070119       5\n",
       "4     ABNB -1.185291 -0.380022  0.309862       5\n",
       "..     ...       ...       ...       ...     ...\n",
       "495    ZEO -1.072002 -0.006411  0.045507       5\n",
       "496     ZG -0.571358  1.060491  0.972231       0\n",
       "497   ZION  2.897718 -1.475746 -0.483628       9\n",
       "498     ZM  0.637101  0.234795 -0.119871       4\n",
       "499     ZS -1.171258  0.087624 -0.520527       5\n",
       "\n",
       "[500 rows x 5 columns]"
      ]
     },
     "execution_count": 17,
     "metadata": {},
     "output_type": "execute_result"
    }
   ],
   "source": [
    "# Making more components ~3 to check for clusters and visualize on plotly\n",
    "pca3 = PCA(n_components=3)\n",
    "coords3 = pca3.fit_transform(resid_corr)\n",
    "coords3\n",
    "df3 = pd.DataFrame(\n",
    "    coords3,\n",
    "    index = resid_corr.index,             # your tickers\n",
    "    columns = ['PC1','PC2','PC3']\n",
    ").reset_index().rename(columns={'index':'Symbol'})\n",
    "df3['Cluster'] = labels.astype(str)\n",
    "df3"
   ]
  },
  {
   "cell_type": "code",
   "execution_count": 18,
   "id": "7ffa51d9",
   "metadata": {},
   "outputs": [
    {
     "data": {
      "text/html": [
       "<div>\n",
       "<style scoped>\n",
       "    .dataframe tbody tr th:only-of-type {\n",
       "        vertical-align: middle;\n",
       "    }\n",
       "\n",
       "    .dataframe tbody tr th {\n",
       "        vertical-align: top;\n",
       "    }\n",
       "\n",
       "    .dataframe thead th {\n",
       "        text-align: right;\n",
       "    }\n",
       "</style>\n",
       "<table border=\"1\" class=\"dataframe\">\n",
       "  <thead>\n",
       "    <tr style=\"text-align: right;\">\n",
       "      <th></th>\n",
       "      <th>Symbol</th>\n",
       "      <th>Sector</th>\n",
       "    </tr>\n",
       "  </thead>\n",
       "  <tbody>\n",
       "    <tr>\n",
       "      <th>0</th>\n",
       "      <td>UFPI</td>\n",
       "      <td>Basic Materials</td>\n",
       "    </tr>\n",
       "    <tr>\n",
       "      <th>1</th>\n",
       "      <td>AMWD</td>\n",
       "      <td>Basic Materials</td>\n",
       "    </tr>\n",
       "    <tr>\n",
       "      <th>2</th>\n",
       "      <td>IPX</td>\n",
       "      <td>Basic Materials</td>\n",
       "    </tr>\n",
       "    <tr>\n",
       "      <th>3</th>\n",
       "      <td>EU</td>\n",
       "      <td>Basic Materials</td>\n",
       "    </tr>\n",
       "    <tr>\n",
       "      <th>4</th>\n",
       "      <td>USGO</td>\n",
       "      <td>Basic Materials</td>\n",
       "    </tr>\n",
       "    <tr>\n",
       "      <th>...</th>\n",
       "      <td>...</td>\n",
       "      <td>...</td>\n",
       "    </tr>\n",
       "    <tr>\n",
       "      <th>524</th>\n",
       "      <td>VIVK</td>\n",
       "      <td>Utilities</td>\n",
       "    </tr>\n",
       "    <tr>\n",
       "      <th>525</th>\n",
       "      <td>SONM</td>\n",
       "      <td>Utilities</td>\n",
       "    </tr>\n",
       "    <tr>\n",
       "      <th>526</th>\n",
       "      <td>CLRO</td>\n",
       "      <td>Utilities</td>\n",
       "    </tr>\n",
       "    <tr>\n",
       "      <th>527</th>\n",
       "      <td>SUNE</td>\n",
       "      <td>Utilities</td>\n",
       "    </tr>\n",
       "    <tr>\n",
       "      <th>528</th>\n",
       "      <td>ALCE</td>\n",
       "      <td>Utilities</td>\n",
       "    </tr>\n",
       "  </tbody>\n",
       "</table>\n",
       "<p>529 rows × 2 columns</p>\n",
       "</div>"
      ],
      "text/plain": [
       "    Symbol           Sector\n",
       "0     UFPI  Basic Materials\n",
       "1     AMWD  Basic Materials\n",
       "2      IPX  Basic Materials\n",
       "3       EU  Basic Materials\n",
       "4     USGO  Basic Materials\n",
       "..     ...              ...\n",
       "524   VIVK        Utilities\n",
       "525   SONM        Utilities\n",
       "526   CLRO        Utilities\n",
       "527   SUNE        Utilities\n",
       "528   ALCE        Utilities\n",
       "\n",
       "[529 rows x 2 columns]"
      ]
     },
     "execution_count": 18,
     "metadata": {},
     "output_type": "execute_result"
    }
   ],
   "source": [
    "PCA_df"
   ]
  },
  {
   "cell_type": "code",
   "execution_count": 19,
   "id": "b671b31f",
   "metadata": {},
   "outputs": [
    {
     "data": {
      "text/html": [
       "<div>\n",
       "<style scoped>\n",
       "    .dataframe tbody tr th:only-of-type {\n",
       "        vertical-align: middle;\n",
       "    }\n",
       "\n",
       "    .dataframe tbody tr th {\n",
       "        vertical-align: top;\n",
       "    }\n",
       "\n",
       "    .dataframe thead th {\n",
       "        text-align: right;\n",
       "    }\n",
       "</style>\n",
       "<table border=\"1\" class=\"dataframe\">\n",
       "  <thead>\n",
       "    <tr style=\"text-align: right;\">\n",
       "      <th></th>\n",
       "      <th>Symbol</th>\n",
       "      <th>PC1</th>\n",
       "      <th>PC2</th>\n",
       "      <th>PC3</th>\n",
       "      <th>Cluster</th>\n",
       "      <th>Sector</th>\n",
       "    </tr>\n",
       "  </thead>\n",
       "  <tbody>\n",
       "    <tr>\n",
       "      <th>0</th>\n",
       "      <td>AAL</td>\n",
       "      <td>0.333686</td>\n",
       "      <td>-0.135116</td>\n",
       "      <td>-0.149934</td>\n",
       "      <td>10</td>\n",
       "      <td>Consumer Discretionary</td>\n",
       "    </tr>\n",
       "    <tr>\n",
       "      <th>1</th>\n",
       "      <td>AAON</td>\n",
       "      <td>-0.131069</td>\n",
       "      <td>-0.706494</td>\n",
       "      <td>-0.739863</td>\n",
       "      <td>10</td>\n",
       "      <td>Industrials</td>\n",
       "    </tr>\n",
       "    <tr>\n",
       "      <th>2</th>\n",
       "      <td>AAPL</td>\n",
       "      <td>-2.048046</td>\n",
       "      <td>1.033026</td>\n",
       "      <td>0.083485</td>\n",
       "      <td>7</td>\n",
       "      <td>Technology</td>\n",
       "    </tr>\n",
       "    <tr>\n",
       "      <th>3</th>\n",
       "      <td>ABAT</td>\n",
       "      <td>-1.325479</td>\n",
       "      <td>0.076906</td>\n",
       "      <td>0.070119</td>\n",
       "      <td>5</td>\n",
       "      <td>Basic Materials</td>\n",
       "    </tr>\n",
       "    <tr>\n",
       "      <th>4</th>\n",
       "      <td>ABNB</td>\n",
       "      <td>-1.185291</td>\n",
       "      <td>-0.380022</td>\n",
       "      <td>0.309862</td>\n",
       "      <td>5</td>\n",
       "      <td>Finance</td>\n",
       "    </tr>\n",
       "    <tr>\n",
       "      <th>...</th>\n",
       "      <td>...</td>\n",
       "      <td>...</td>\n",
       "      <td>...</td>\n",
       "      <td>...</td>\n",
       "      <td>...</td>\n",
       "      <td>...</td>\n",
       "    </tr>\n",
       "    <tr>\n",
       "      <th>495</th>\n",
       "      <td>ZEO</td>\n",
       "      <td>-1.072002</td>\n",
       "      <td>-0.006411</td>\n",
       "      <td>0.045507</td>\n",
       "      <td>5</td>\n",
       "      <td>Miscellaneous</td>\n",
       "    </tr>\n",
       "    <tr>\n",
       "      <th>496</th>\n",
       "      <td>ZG</td>\n",
       "      <td>-0.571358</td>\n",
       "      <td>1.060491</td>\n",
       "      <td>0.972231</td>\n",
       "      <td>0</td>\n",
       "      <td>Consumer Discretionary</td>\n",
       "    </tr>\n",
       "    <tr>\n",
       "      <th>497</th>\n",
       "      <td>ZION</td>\n",
       "      <td>2.897718</td>\n",
       "      <td>-1.475746</td>\n",
       "      <td>-0.483628</td>\n",
       "      <td>9</td>\n",
       "      <td>Finance</td>\n",
       "    </tr>\n",
       "    <tr>\n",
       "      <th>498</th>\n",
       "      <td>ZM</td>\n",
       "      <td>0.637101</td>\n",
       "      <td>0.234795</td>\n",
       "      <td>-0.119871</td>\n",
       "      <td>4</td>\n",
       "      <td>Technology</td>\n",
       "    </tr>\n",
       "    <tr>\n",
       "      <th>499</th>\n",
       "      <td>ZS</td>\n",
       "      <td>-1.171258</td>\n",
       "      <td>0.087624</td>\n",
       "      <td>-0.520527</td>\n",
       "      <td>5</td>\n",
       "      <td>Technology</td>\n",
       "    </tr>\n",
       "  </tbody>\n",
       "</table>\n",
       "<p>500 rows × 6 columns</p>\n",
       "</div>"
      ],
      "text/plain": [
       "    Symbol       PC1       PC2       PC3 Cluster                  Sector\n",
       "0      AAL  0.333686 -0.135116 -0.149934      10  Consumer Discretionary\n",
       "1     AAON -0.131069 -0.706494 -0.739863      10             Industrials\n",
       "2     AAPL -2.048046  1.033026  0.083485       7              Technology\n",
       "3     ABAT -1.325479  0.076906  0.070119       5         Basic Materials\n",
       "4     ABNB -1.185291 -0.380022  0.309862       5                 Finance\n",
       "..     ...       ...       ...       ...     ...                     ...\n",
       "495    ZEO -1.072002 -0.006411  0.045507       5           Miscellaneous\n",
       "496     ZG -0.571358  1.060491  0.972231       0  Consumer Discretionary\n",
       "497   ZION  2.897718 -1.475746 -0.483628       9                 Finance\n",
       "498     ZM  0.637101  0.234795 -0.119871       4              Technology\n",
       "499     ZS -1.171258  0.087624 -0.520527       5              Technology\n",
       "\n",
       "[500 rows x 6 columns]"
      ]
     },
     "execution_count": 19,
     "metadata": {},
     "output_type": "execute_result"
    }
   ],
   "source": [
    "pca_df3_merged = pd.merge(df3, PCA_df, right_on = 'Symbol', left_on = 'Symbol')\n",
    "pca_df3_merged"
   ]
  },
  {
   "cell_type": "code",
   "execution_count": 20,
   "id": "89fd724c",
   "metadata": {},
   "outputs": [
    {
     "data": {
      "application/vnd.plotly.v1+json": {
       "config": {
        "plotlyServerURL": "https://plot.ly"
       },
       "data": [
        {
         "customdata": [
          [
           "Consumer Discretionary"
          ],
          [
           "Industrials"
          ],
          [
           "Telecommunications"
          ],
          [
           "Consumer Discretionary"
          ],
          [
           "Real Estate"
          ],
          [
           "Energy"
          ],
          [
           "Health Care"
          ],
          [
           "Health Care"
          ],
          [
           "Consumer Staples"
          ],
          [
           "Consumer Discretionary"
          ],
          [
           "Consumer Discretionary"
          ],
          [
           "Utilities"
          ],
          [
           "Consumer Discretionary"
          ],
          [
           "Health Care"
          ],
          [
           "Consumer Discretionary"
          ],
          [
           "Telecommunications"
          ],
          [
           "Miscellaneous"
          ],
          [
           "Energy"
          ],
          [
           "Consumer Staples"
          ],
          [
           "Consumer Discretionary"
          ],
          [
           "Miscellaneous"
          ],
          [
           "Energy"
          ],
          [
           "Finance"
          ],
          [
           "Energy"
          ],
          [
           "Consumer Discretionary"
          ],
          [
           "Telecommunications"
          ],
          [
           "Energy"
          ],
          [
           "Telecommunications"
          ],
          [
           "Utilities"
          ],
          [
           "Miscellaneous"
          ],
          [
           "Miscellaneous"
          ],
          [
           "Industrials"
          ],
          [
           "Industrials"
          ],
          [
           "Telecommunications"
          ],
          [
           "Technology"
          ],
          [
           "Consumer Staples"
          ],
          [
           "Consumer Discretionary"
          ],
          [
           "Energy"
          ],
          [
           "Consumer Discretionary"
          ],
          [
           "Finance"
          ],
          [
           "Miscellaneous"
          ],
          [
           "Telecommunications"
          ],
          [
           "Telecommunications"
          ],
          [
           "Industrials"
          ],
          [
           "Consumer Staples"
          ],
          [
           "Finance"
          ],
          [
           "Consumer Staples"
          ],
          [
           "Health Care"
          ],
          [
           "Health Care"
          ],
          [
           "Energy"
          ],
          [
           "Health Care"
          ],
          [
           "Technology"
          ],
          [
           "Energy"
          ],
          [
           "Real Estate"
          ],
          [
           "Health Care"
          ],
          [
           "Utilities"
          ],
          [
           "Consumer Discretionary"
          ],
          [
           "Energy"
          ],
          [
           "Consumer Staples"
          ],
          [
           "Utilities"
          ],
          [
           "Telecommunications"
          ],
          [
           "Health Care"
          ],
          [
           "Industrials"
          ],
          [
           "Telecommunications"
          ],
          [
           "Health Care"
          ],
          [
           "Industrials"
          ],
          [
           "Consumer Staples"
          ],
          [
           "Health Care"
          ],
          [
           "Consumer Staples"
          ],
          [
           "Industrials"
          ],
          [
           "Telecommunications"
          ],
          [
           "Consumer Discretionary"
          ],
          [
           "Technology"
          ],
          [
           "Consumer Discretionary"
          ],
          [
           "Real Estate"
          ],
          [
           "Consumer Staples"
          ],
          [
           "Miscellaneous"
          ],
          [
           "Utilities"
          ],
          [
           "Consumer Staples"
          ],
          [
           "Energy"
          ],
          [
           "Consumer Discretionary"
          ]
         ],
         "hovertemplate": "<b>%{hovertext}</b><br><br>Cluster=10<br>PC1=%{x}<br>PC2=%{y}<br>PC3=%{z}<br>Sector=%{customdata[0]}<extra></extra>",
         "hovertext": [
          "AAL",
          "AAON",
          "AIOT",
          "AKAM",
          "APEI",
          "ARLP",
          "AXSM",
          "BBIO",
          "BYND",
          "CASY",
          "CDW",
          "CDZI",
          "CHDN",
          "CORT",
          "CPRT",
          "DATS",
          "DFLI",
          "DMLP",
          "DNUT",
          "DPZ",
          "ENVX",
          "EPSN",
          "ERIE",
          "EXEEL",
          "EXPE",
          "EXTR",
          "FCEL",
          "FFIV",
          "FKWL",
          "FLNC",
          "FLUX",
          "FTAI",
          "FWONK",
          "FYBR",
          "GFS",
          "GO",
          "GSAT",
          "HNRG",
          "HQY",
          "IBKR",
          "IDCC",
          "INSG",
          "IRDM",
          "ITRI",
          "JVA",
          "LPLA",
          "MAMA",
          "MASI",
          "MEDP",
          "METC",
          "MRNA",
          "MSTR",
          "NCSM",
          "NHPBP",
          "NUVL",
          "OPAL",
          "ORLY",
          "PAGP",
          "PPC",
          "QRHC",
          "REKR",
          "RGEN",
          "RKLB",
          "ROKU",
          "RVMD",
          "SAIA",
          "SFM",
          "SMMT",
          "SONO",
          "STRL",
          "TBCH",
          "TSCO",
          "TXN",
          "TXRH",
          "UDMY",
          "UEIC",
          "ULBI",
          "VIASP",
          "VITL",
          "VNOM",
          "WYNN"
         ],
         "legendgroup": "10",
         "marker": {
          "color": "#636efa",
          "line": {
           "color": "DarkSlateGrey",
           "width": 1
          },
          "size": 5,
          "symbol": "circle"
         },
         "mode": "markers",
         "name": "10",
         "scene": "scene",
         "showlegend": true,
         "type": "scatter3d",
         "x": {
          "bdata": "ht3kbx1b1T/4zrFc2sbAvwznpXsi/Mq/KxLXZswi2L9syfvthXbMv3a13MsKidy/ECti/bqO0T8SVTHgztewP+SFquu7ctE/RR2YBgDN0r/X0OqN8gWrPxX90TwyRNI/h6dE3JgJwD8AzWW6NdPHv0E6v+5pi7Y/Y3ut4cck4r/iLRAPUBPNv97XMzTIo7Q/xTF7SswRwb++Ud2C7z7hv4HajQvWBeC/mIaQXF+c4L9bVpIK1rLTP+1U8fUncMK/n0/mh9rV27+1rEVouA/bP6262DjqYdE/Aux6ljf9ub+P5bUEOpe7P0OHscCJydW/ijaciciA179fcN7i/wXTv+OwroSrESi/N6YnHTs6wr+gXVqbB0bgv/wktc/4288/+guRiwV/0D+yDJZOQgC+vwqJh6f098W/0mw0y5Mb5r/SZxcQbul9v7imsvC89tO/9fxJ5mbN2D9kYCmQXj+rv45X7ldSesm/2tyPNVWK7b+oVcXhBqbDv/45ZIFTWsS/LH9qmBgy4b+DS5VKTCDZv3q5b8JkBc2/x7Pa+XOh17+xWZ3/hq/ivwzRAr7l292/V+c7/Jyzr797w29SXivSP2Z/t6cm+ag/6OpwsP+f2j/dWZ+/5ZvRv2hSqOy92cS/uUiM3dJp3L9EKNqPdn2wPx/A3n9h8LY/T7Cf2D/Hsz+EbIar/MTGv5ZAObp1X6W/1hfpZoRr1D9yJwkQ41LWv0Iilh7UrMk/Pcxg3Bc/4b+1IgKCk1zGv4BRO9lgQtc/VhRr9Mx71r/EgOkxin/XvyyjxtqSoda/UPLpcuVnx7/lv/8IMFXYvyxkZtNPDlG/Cl0tGAZd1b8R6pUt+bO/v43zOFr0Ldy/",
          "dtype": "f8"
         },
         "y": {
          "bdata": "Zk+YPX1Lwb+ZEfGLmJvmv3Y4lRIqqMu/03Yh5vIZtb+gSSi4mcfav46e3zeVnOO/QpeMIBUHvD/A6YFeF7bXP1jZD3ZDna4/Ay8Pdr/D1L8l/8/QrXLlv9ndhRNxk3S/cTOSnlbo5L9GV6SuFSq6PyzOHBK8Kru/vaQD5WdW5b/Z/68w006VvzOw79ITVdu/F2R0YV1WZz+IIVElr96+v4xOMCaVX9i//T7zPEmT178CJQVDrAnFv9MbON8zd66/pxS1TznewL9QoH5/9jXKv8mlf8L5UdK/+bqjGOwgs79JBsW4HHHHP5DUTAxp26I/OoNpc8BksL9sEsB/xibovxZEqBYuLrQ/S44oj4a/sz+5EBY0VmvtvwC8SuT/H74/+e3quwo+ur93+Igd5rngv1kscPW/j/G/1JHSxhgY9r832yZpV62vP+Myz46US8G/c06beeNaqr9qVBK+99vjvyPYtPjPds4/74o+AB/89b/8Xu1+S0C3v744GsQhYbK/itgGSOl7vb+zLpzO4Wbqv9iWGmh688S/jxyXGAjz4r8tXOd0G2rTv0ihe8g0BMM/sLPo+AL2xT8aHwDQmi2dv6DOtj8BPtI/RVN0K1So0r8Rt9+huHWSPwgf0RXuseK/D+IkaW4Swb+rg13k1pDRP2L6NhgmpdC/iiuYtI6o0T/17gxdHLGtvwzRtEXjBuq/Za6Rwl4ivL9ZuuvkrsTFP95LetEde7g//H7DN6/l8b9XKhgDcLvYvxzW3Gatusa/gXV516gK9L8KWQAe8ITev3trBop4K+O/iO16O5s4sj86ZXLj6WHsv1ABIPbpLtQ/Oza/tC0Qxr/Y0Qsv0Nbuvydd+7cu+ba/",
          "dtype": "f8"
         },
         "z": {
          "bdata": "ao71dgoxw78Zifua9aznv4TxcWNNBqS/bhbfiwa7hz/9OktFRWLLP2Gel4TMstm/cHaiKB/a2T81YcbTwHnrPyR/tj9hUt0/E8ftzD5jjT801ArN61vRPw9VxZZZ9M0/2AHu/HW+3b/gYQmN9D3QP4Jk6dGQF9u/FI53kmnf1r+JDp+o+uetvxRvMV1E2s+/JkrcYOR1tL8Ue9sYrjapP17ezblFePE/QMURUr5Iub/wojYDQQrlv5TmLMlMzvG/hWnYd1z11r8NekmpXz29v9/D7O5Uf/k/8olYX2C4w78VCa5kQHrKvxAKVjHCiwBAzKRPqQimuD/BDzvPliniv/sXY+jfBda/+V9nxIAO4j+tHyErQ5/YP7rTm/nE5+m/Yj9fN4jr1j8YI9bZLe7Vv44qfippC++/I1A+kFXC/7+3POKVolDJvy8PuCw/Jts/BtFuVMH80j8ULa1OD4DmP0eFpkWl4+C/xG/UyzRv+b+yz2+QMsnXv4Rojs/pwOS//GwUZvYkyr+470f3ZAulvzW/+X03ZvA/wm69RckirD8ApQ+0xl3Hv44EmboMSqI/8xLP+7iv2D8dmDv+eyTkP90r2dXNgfu/teXgr4465L8mcViNXIHWvygRJr4ClN0/VRde0PB13j+960GUc//mP3bTg2ZAamw/sl0nUwa91T/hO0D3h8ioP/3pvVk8/uG/LY1+9t7M5L92CI2AW2KzPxfFnFktauY/XO1UjL7GyL+WS2Qw9pbWPxQdCysTB8M/+/qLACTl8T+fiwgPV4TZvwilIIySWt0/lZUTEVaX1D9jzGMgqijhP+lNYHaZlba/G+BbKGbAzr85AyKGHCHtv/QWlC/2Ees/",
          "dtype": "f8"
         }
        },
        {
         "customdata": [
          [
           "Technology"
          ],
          [
           "Technology"
          ],
          [
           "Consumer Discretionary"
          ],
          [
           "Technology"
          ],
          [
           "Consumer Discretionary"
          ],
          [
           "Energy"
          ],
          [
           "Miscellaneous"
          ],
          [
           "Technology"
          ],
          [
           "Technology"
          ],
          [
           "Health Care"
          ],
          [
           "Real Estate"
          ],
          [
           "Technology"
          ],
          [
           "Technology"
          ],
          [
           "Consumer Discretionary"
          ],
          [
           "Health Care"
          ],
          [
           "Technology"
          ],
          [
           "Technology"
          ]
         ],
         "hovertemplate": "<b>%{hovertext}</b><br><br>Cluster=7<br>PC1=%{x}<br>PC2=%{y}<br>PC3=%{z}<br>Sector=%{customdata[0]}<extra></extra>",
         "hovertext": [
          "AAPL",
          "ADBE",
          "AMZN",
          "APP",
          "COST",
          "DWSN",
          "EOSEW",
          "GOOG",
          "GOOGL",
          "ISRG",
          "LANDM",
          "META",
          "MSFT",
          "NFLX",
          "NTRA",
          "PANW",
          "SMCI"
         ],
         "legendgroup": "7",
         "marker": {
          "color": "#EF553B",
          "line": {
           "color": "DarkSlateGrey",
           "width": 1
          },
          "size": 5,
          "symbol": "circle"
         },
         "mode": "markers",
         "name": "7",
         "scene": "scene",
         "showlegend": true,
         "type": "scatter3d",
         "x": {
          "bdata": "D5wH2mViAMDYRxGH+PMCwMIuGp98VAfAkc8vCSxXAsD0SNj8C3EHwFcocvXQn/2/kranp9qS/r934EB9XBECwHN/mge4zALApnUwVokJA8D6dOhjfmcAwCJxNAN4bgzAQfMtJAmnDcCGdTfESScJwBjgSsaznP+/FUx3MErJ/r/FTjEJkHAFwA==",
          "dtype": "f8"
         },
         "y": {
          "bdata": "S/At70WH8D+R/t947+HgP3sDtxRo08E/K4JYhMDE0T/0mPxXv/vmP7i//jao1sM/xvbtmEMb4D/Kn0nAuETgP2NKkhk+KOE/i4sqZF3r7T9moRQharnTP59It5Wdnec/bBGrWg0v7j879rX8y7JvP+V+MUfy/dI/WwEpK1i4kT8Y1athotW5Pw==",
          "dtype": "f8"
         },
         "z": {
          "bdata": "9FVIKkdftT85GdzzDKnwvynx/233F+u/7JOzh3t0zL82VeHwoVLuv5Ep7+2Ms+K/RrnYz/6V5D83g7XxDbntv3UMoaYs2e2/XKZqjXRa0r9sxn9G0ifsvygQc02/9uq/nyVUKTdU77+eEKEogy3qv1jCKdft8bK/SxJ/GSvx7L92JjRBLcDmPw==",
          "dtype": "f8"
         }
        },
        {
         "customdata": [
          [
           "Basic Materials"
          ],
          [
           "Finance"
          ],
          [
           "Technology"
          ],
          [
           "Miscellaneous"
          ],
          [
           "Technology"
          ],
          [
           "Consumer Staples"
          ],
          [
           "Utilities"
          ],
          [
           "Miscellaneous"
          ],
          [
           "Telecommunications"
          ],
          [
           "Telecommunications"
          ],
          [
           "Energy"
          ],
          [
           "Energy"
          ],
          [
           "Telecommunications"
          ],
          [
           "Consumer Discretionary"
          ],
          [
           "Industrials"
          ],
          [
           "Industrials"
          ],
          [
           "Consumer Discretionary"
          ],
          [
           "Consumer Staples"
          ],
          [
           "Consumer Staples"
          ],
          [
           "Telecommunications"
          ],
          [
           "Miscellaneous"
          ],
          [
           "Consumer Discretionary"
          ],
          [
           "Utilities"
          ],
          [
           "Consumer Staples"
          ],
          [
           "Energy"
          ],
          [
           "Utilities"
          ],
          [
           "Consumer Staples"
          ],
          [
           "Telecommunications"
          ],
          [
           "Consumer Discretionary"
          ],
          [
           "Telecommunications"
          ],
          [
           "Consumer Discretionary"
          ],
          [
           "Health Care"
          ],
          [
           "Miscellaneous"
          ],
          [
           "Basic Materials"
          ],
          [
           "Energy"
          ],
          [
           "Energy"
          ],
          [
           "Telecommunications"
          ],
          [
           "Consumer Staples"
          ],
          [
           "Technology"
          ],
          [
           "Consumer Staples"
          ],
          [
           "Real Estate"
          ],
          [
           "Energy"
          ],
          [
           "Basic Materials"
          ],
          [
           "Basic Materials"
          ],
          [
           "Industrials"
          ],
          [
           "Health Care"
          ],
          [
           "Technology"
          ],
          [
           "Technology"
          ],
          [
           "Telecommunications"
          ],
          [
           "Basic Materials"
          ],
          [
           "Health Care"
          ],
          [
           "Energy"
          ],
          [
           "Consumer Staples"
          ],
          [
           "Telecommunications"
          ],
          [
           "Real Estate"
          ],
          [
           "Miscellaneous"
          ],
          [
           "Health Care"
          ],
          [
           "Telecommunications"
          ],
          [
           "Telecommunications"
          ],
          [
           "Consumer Staples"
          ],
          [
           "Energy"
          ],
          [
           "Technology"
          ],
          [
           "Technology"
          ],
          [
           "Health Care"
          ],
          [
           "Energy"
          ],
          [
           "Miscellaneous"
          ],
          [
           "Health Care"
          ],
          [
           "Energy"
          ],
          [
           "Miscellaneous"
          ],
          [
           "Real Estate"
          ],
          [
           "Telecommunications"
          ],
          [
           "Telecommunications"
          ],
          [
           "Industrials"
          ],
          [
           "Finance"
          ],
          [
           "Technology"
          ],
          [
           "Miscellaneous"
          ],
          [
           "Miscellaneous"
          ],
          [
           "Consumer Staples"
          ],
          [
           "Miscellaneous"
          ],
          [
           "Consumer Discretionary"
          ],
          [
           "Consumer Staples"
          ],
          [
           "Telecommunications"
          ],
          [
           "Consumer Discretionary"
          ],
          [
           "Finance"
          ],
          [
           "Utilities"
          ],
          [
           "Real Estate"
          ],
          [
           "Real Estate"
          ],
          [
           "Utilities"
          ],
          [
           "Consumer Staples"
          ],
          [
           "Miscellaneous"
          ],
          [
           "Utilities"
          ],
          [
           "Industrials"
          ],
          [
           "Consumer Discretionary"
          ],
          [
           "Technology"
          ],
          [
           "Technology"
          ],
          [
           "Finance"
          ],
          [
           "Energy"
          ],
          [
           "Basic Materials"
          ],
          [
           "Utilities"
          ],
          [
           "Technology"
          ],
          [
           "Consumer Discretionary"
          ],
          [
           "Consumer Staples"
          ],
          [
           "Energy"
          ],
          [
           "Miscellaneous"
          ],
          [
           "Miscellaneous"
          ],
          [
           "Miscellaneous"
          ],
          [
           "Technology"
          ]
         ],
         "hovertemplate": "<b>%{hovertext}</b><br><br>Cluster=5<br>PC1=%{x}<br>PC2=%{y}<br>PC3=%{z}<br>Sector=%{customdata[0]}<extra></extra>",
         "hovertext": [
          "ABAT",
          "ABNB",
          "ADI",
          "ADN",
          "ADSK",
          "AGFY",
          "ALCE",
          "AMOD",
          "AMPG",
          "AMPGW",
          "ANNA",
          "AREC",
          "ASNS",
          "ASTS",
          "AVAV",
          "AXON",
          "BKNG",
          "BRFH",
          "BRID",
          "BWEN",
          "BYRN",
          "CART",
          "CDZIP",
          "CELH",
          "CLMT",
          "CLRO",
          "COCO",
          "CXDO",
          "DASH",
          "DATSW",
          "DKNG",
          "DXCM",
          "EOSE",
          "EU",
          "EXEEW",
          "EXEEZ",
          "FOXX",
          "FRPT",
          "FTNT",
          "GNSS",
          "GOODN",
          "HPKEW",
          "HYMC",
          "HYMCL",
          "IESC",
          "INSM",
          "INTC",
          "INTU",
          "INTZ",
          "IPX",
          "ITCI",
          "KGEI",
          "KOSS",
          "KSCP",
          "LANDO",
          "LASE",
          "LEGN",
          "LITE",
          "LTRX",
          "LWAY",
          "MARPS",
          "MCHP",
          "MDB",
          "MDGL",
          "METCL",
          "MVST",
          "NBIX",
          "NEHC",
          "NEOV",
          "NHPAP",
          "NSSC",
          "NXPL",
          "NXT",
          "ONBPP",
          "PLTR",
          "POLA",
          "REFR",
          "RIME",
          "RMCO",
          "SBUX",
          "SENEB",
          "SIDU",
          "SIRI",
          "SLMBP",
          "SLNG",
          "SOHOB",
          "SOHOO",
          "SONM",
          "SOWG",
          "STI",
          "SUNE",
          "SYM",
          "TSLA",
          "TTD",
          "TTWO",
          "TW",
          "USEG",
          "USGO",
          "VIVK",
          "WDAY",
          "WMG",
          "WVVI",
          "WWD",
          "XELB",
          "XPON",
          "ZEO",
          "ZS"
         ],
         "legendgroup": "5",
         "marker": {
          "color": "#00cc96",
          "line": {
           "color": "DarkSlateGrey",
           "width": 1
          },
          "size": 5,
          "symbol": "circle"
         },
         "mode": "markers",
         "name": "5",
         "scene": "scene",
         "showlegend": true,
         "type": "scatter3d",
         "x": {
          "bdata": "xOMuFCk19b8Ad2dl8/byv3caPHsxD+6/rTItdg9q8L+jXc9vMdLkv1VBa4N5HfC/ahdqYkSE77+jtrrAmLDyv8mIEBzAiPO/g3TJ+p5+8r+pfwyKqIzpv5DQadDLMfK/cDI5S4Eq+b8WNsw8cibovwmXY2mOIfC/iuVbHPjD8r/XPeOHuDP2v+iXVTj8vvK/bI/ctAW96r/7MLukOfrpv5BU6895T/C/jkUF4EIR6b+4zREpL4vnv1ptKiKyz+6/APkfpm2S6b9rumZafdn5v4KecSlZ5uy/unUWkh2W5L+PWlTFnGL4vwkVcDmwovm/gh/FCLyq87+gp4lIN4r3v+pjXBnpQ/W/h3h1nNKu8r9/nU0eihTiv32lXbwocfe/pVJL470Y8b9cDT8dL0zpv9dw/fznsfO/Cftgn6ZN9b9QHRKlpwLqvyZQjLKw+/i/huRUWhrj6b8Ck8WvC8LxvwssmVJ3O/C/8J0Ou0rY9r+XeiI2hVTtvyNNkVuoBPa/zw06eyHC8r8zY2TLRfTkvwdqpRWf2+2/8Lyr68jM8b+AXJ7KLhzvv3vE9XWygfC/rYHXOl/N9L8/D73+FvHsv+GVKYcm0vK/gLMcgXVg8r/rHoHeawvyv6FMIQLZ/+6/FpHhMs5q978Y0cRSm9L1v5T/IW8N7vm/ZaiuZMxc478Zp6a/C+zzv+PBQ1zYoPC/fW3h9xmi778RkDp93nLtv6hwQgoQCvm/o/MWwzRf9L8P28SqP9vvv6K6YY9nnuu/JF662oWR5L9Z7CcBJsPpv03P5W9ZwvC/TbzNne8L8b/iTvizxyruv9wF/QqqEPa/6u6hIw/J6r+sKJ58uJLtv9E0AiClB+W/UkmsIEHc+L9FecgM76Pjv6L27mYkQfC/YgmHaZlB879R/5gSzxj1v2to3UvcY+O//qNRL4kt6L/uXU/SA7v6v+CJe1ahJuq/AkzCRH7v9b+9bh2tAkbuv1lUn4o84/C/ZBqWqohy+L9iZZzClUf0v2A185TsO/e/0DKo8CEy6b+9WI2qKhT1vwLMrqr9VPC/GZjB+CyG7r+e0wHupWflv6AWT+ktjvC/O67NF+vQ7r/gsQ2sIP/wv4q5CR8hOvi/t4HInusm8b9TUp9leb3yvw==",
          "dtype": "f8"
         },
         "y": {
          "bdata": "Sb9OuSCwsz+ZYXDHSFLYvwdzHL0eYvC/X/y7UGC/pj/rH2cKrAG9v1uMyswJqN4/oSDOmJaC2T9l5S1+ew/dP/Gb0oP5iMu/K2GQK5Scyr/61S2LsvTFP9IO3pchI6I/Ja6zy1/5sb+HSxuQZl6lP0e9s0xSec2/b/Cd2AB3xD/aWkJfRgjiv6C/9tCjQL+/eoCOd+fDpL8mnQcGvk+zv79uZlpA19A/68JAiyPk378ml1nE7NnWP0KGzx8eNM4/f6mlMn5+uT+QJ7icinfbP59klzuN4tE/AfW7lwvsyL/yhk+GH6Siv+jUBMqrNKe/7sm+rQx55L94J7NwQ8jSP3pWe2PM090/6XuO2UQ037/zQwtve+bDP2ha8p14kMq/VGqRPVel2T9U19kI0zLEv3W0lwg9DN4/XrbQw/Ch2T+wRFm0byLNv3Cp6SNbg8m/4Zi5vZwuhz836PVtZjPFP9T9muAHO+u/kIIOdXQ0wb8Px3lR3sHovzy16czyK9M/E2Nh1wQWwL+237LOCQ66P6qIXDWJscE/dLaHNxEyvb86EM8/UvHYP01geRJ+cdY/kx5X666U3D9qZgMRXZLgP4QhpA398Ng/XxhklKRj5b86siWJc5a+P+Ge7E6DUdi/31OlESLO6L9TNj7exjjqv1UaaqUv/Ma/Oh6NYnIl0D+2LW4kFC7oP6iG/1jujtg/XY93AfOm3T/0UhE2OPq+PwFga+g5Bri/mLb83YM32z8U9ELnd9bov/K81QUxKdc/B3LTTT/fwD9Tvb7nigjOP/n5Tc1MmKw/CJVLua0XwL+i61MyXYTAP1FC382y9MA/UAvZctxexL+Q/DjWBl3YP7kMErJMesE/bbg0yidis79oaW+qEHDBP44VgRFmxMU/HQut9gkazD9Oo/VVLTXVP33xWVXwYL8/88UXRQJFt79sXmFNIRbXPy9u+MuKF8k/MfPPDXdQub+MlvyGBZXhv0EZBnk7rNi/kNLTjuAE37+pFefZ3r6qP0mbbe7+9eM/CKEMocfZ2b9VKhhv/2LCP4GvflqOJOE/5RJNIoQ+wT8eSMHblx7JP921gKv5ctk/6Ntzw7UB3r+tTXraJK2bP0UFueSknKG/5Mbvit5Cer89R8O8hm62Pw==",
          "dtype": "f8"
         },
         "z": {
          "bdata": "A4CoQljzsT//y5d6x9TTPya2NIOynvg/k7rZ9ajwvz+jy0SUdVC7v3qeNriNmeO/8RdHCUBOpr+NgoGplSHhv5zd3Tm1gN6/yz23noKm2L96fm1raXXTv38LMTNNMtC/9Hu8mqj1q7/HQJPHRVDWPwl4jHtL7bE/C0d2vg1Z87/Lk/EwFeHSvyS9nUuGAtS/KZ2rgKMt4r8ipoApyhvzP7mPHsrEOKq/IGjzja8U1b/tVYSZsrvKv1v14Mdhnt4/d0/465WzWz+nZjGHq03dv0+Bji0nT7U/5rgZB27Eqj9e82L9Lfrdv6wta7K/M+y/uBd/IIiH0L+DaH/Em6jBv9vi4EWC2e0/dXI2m7Qvwj/FbgORWF2RP5vWkW/u/su/nk6DYWhQ8r+HOoRLMbvPvyEefZCnVPW/S+BmBXRCp7+Dj1S4fIDCP126rYy5OpQ/bySyGQjU4z9+2NPyOBG4v7m0pG2Z9bo/4U8SK0+Fv7/iO1WGmjjYP4kovdcndea/YRu1HTskmr/DkL0XblPTv4LA5FjMJNM/xjjlt2oftT/1kmRPxhjPP3OhqqzOcNG/hsH/nflSl7+7OopEJ53ev+FJUe0y6ug/OVNicvozwb/tMdvg41/UP13QN84GJMm/5/yZfRl03b9+Dz93itX+PzGyHuuwP7I/0Yo5aLxN2j/4R88xD4Hbvy8xs/mEr8+/FuBpfFoG078yDf7W9pebv4CK87FVJNe/125nOuPisb/WbkAo80ynvxgnOAm3EcE/yM5Eo+MM9D+qcZa5pAjFPxgP/ZufZOG/B/LkSjOO1D/90CtT6wi8v/MRZYiFwK8/+5yRHi+607/PLA1//KCvP9NjlX83ALm/h6QOX/3Lyb+nfgsQpM/SP5s65JWbXqw/hSY2LYW64L/QUeiQ9SjFv98PGwTRGbK/ndjd9VA82r/O1wbZLADlv571HYOQ0c2/rqPHFKLLpb+SJAmoWO7CP4efLvxwM92/j0Nqwl+bsD95friKNC3DPwg5VumgF++/H13lIlFr4b/DWM1mZYa4P20wRa3ufOq/Nehn3iWd4b/2r713p7mlv6H8BG9kpdG/Q/jyRcOhsz+jE7HiR068PyfM3DdYP7a/ELdQxcFMpz+smNl3J6jgvw==",
          "dtype": "f8"
         }
        },
        {
         "customdata": [
          [
           "Energy"
          ],
          [
           "Miscellaneous"
          ],
          [
           "Finance"
          ],
          [
           "Health Care"
          ],
          [
           "Energy"
          ],
          [
           "Miscellaneous"
          ],
          [
           "Health Care"
          ],
          [
           "Energy"
          ],
          [
           "Industrials"
          ],
          [
           "Energy"
          ],
          [
           "Industrials"
          ],
          [
           "Finance"
          ],
          [
           "Industrials"
          ],
          [
           "Telecommunications"
          ],
          [
           "Energy"
          ],
          [
           "Energy"
          ],
          [
           "Consumer Discretionary"
          ],
          [
           "Finance"
          ],
          [
           "Energy"
          ],
          [
           "Finance"
          ],
          [
           "Energy"
          ],
          [
           "Industrials"
          ],
          [
           "Real Estate"
          ],
          [
           "Energy"
          ],
          [
           "Real Estate"
          ],
          [
           "Industrials"
          ],
          [
           "Industrials"
          ],
          [
           "Real Estate"
          ],
          [
           "Consumer Discretionary"
          ],
          [
           "Energy"
          ],
          [
           "Utilities"
          ],
          [
           "Utilities"
          ],
          [
           "Utilities"
          ],
          [
           "Consumer Discretionary"
          ],
          [
           "Consumer Discretionary"
          ],
          [
           "Industrials"
          ],
          [
           "Energy"
          ],
          [
           "Consumer Discretionary"
          ],
          [
           "Energy"
          ],
          [
           "Real Estate"
          ],
          [
           "Industrials"
          ],
          [
           "Consumer Staples"
          ],
          [
           "Finance"
          ],
          [
           "Telecommunications"
          ],
          [
           "Finance"
          ],
          [
           "Industrials"
          ],
          [
           "Real Estate"
          ],
          [
           "Finance"
          ],
          [
           "Industrials"
          ],
          [
           "Energy"
          ],
          [
           "Consumer Discretionary"
          ],
          [
           "Industrials"
          ],
          [
           "Industrials"
          ],
          [
           "Industrials"
          ]
         ],
         "hovertemplate": "<b>%{hovertext}</b><br><br>Cluster=3<br>PC1=%{x}<br>PC2=%{y}<br>PC3=%{z}<br>Sector=%{customdata[0]}<extra></extra>",
         "hovertext": [
          "ACDC",
          "ACTG",
          "AFRM",
          "ALGN",
          "APA",
          "APPS",
          "BPMC",
          "BRY",
          "CGNX",
          "CHRD",
          "CHX",
          "COIN",
          "CSWI",
          "DGII",
          "EXE",
          "FANG",
          "FAST",
          "FCNCA",
          "FIP",
          "HOOD",
          "HPK",
          "KTOS",
          "LAUR",
          "LFUS",
          "LINC",
          "LLYVA",
          "LLYVK",
          "LOPE",
          "MAR",
          "METCB",
          "MNTK",
          "NEXT",
          "NFE",
          "NWS",
          "NWSA",
          "ODFL",
          "PAA",
          "PCAR",
          "PNRG",
          "PRDO",
          "ROAD",
          "SENEA",
          "SOFI",
          "SPOK",
          "STEP",
          "STLD",
          "STRA",
          "TPG",
          "TRMB",
          "TUSK",
          "UAL",
          "WFRD",
          "WSC",
          "ZBRA"
         ],
         "legendgroup": "3",
         "marker": {
          "color": "#ab63fa",
          "line": {
           "color": "DarkSlateGrey",
           "width": 1
          },
          "size": 5,
          "symbol": "circle"
         },
         "mode": "markers",
         "name": "3",
         "scene": "scene",
         "showlegend": true,
         "type": "scatter3d",
         "x": {
          "bdata": "ew4txXEj8j+41UbBp5jrPwJPcfDqtu4/nV6ORasY6j+CjNPugW7xP9yM9m4GSeY//7jjZKl74j+91TIMGA7tP+ZYOxtqJuA/YmYISpWp5j809OArpWvwP81TSNu4DMg/icsKN7by2j8UpV9A/5DuPzr7W0B169A/xqrh0nZy2T+JKQZWcE7tP+z0KQol8/A/4XWVyRKx2T8I+ZeRbQrBP9361jJgNtg/I7+3gE5S4j+WXgK5PgXvP7h5FxjGjPE/JcFoFU4F9T+HFS9oDnjlP6DbynXO/uQ/iquYfcnw6T97I7wybWrqP8Do9ICN+ds/1lrlwUDV8T+duk1qKjrdPxGrPyMzJuA/LK8TsfPw5j+o3rGc8QbsPyJpITtlPew/wu5Ud6T24z8mkU5+gnHgP6dlDWnVQNo/Y/gQKvKF5T+WO+5AiirJvwlFWIPQxe4/Ca/EA7Ef8T9cIkiY6ZLnPyx36R0DX+s/pFwATPgp8T+X/lIGTvnjP8LiA0NdHvY/zFspj6559T+Gddot2gLxP87lfrxbreE/Q6wLWa8owb/ufT5foE3hP47t6FKm4OA/",
          "dtype": "f8"
         },
         "y": {
          "bdata": "SUlRBjXP6r+NAgQKHUfjv7cFFmHizty/n52rvwiA07/O4gE37uPxvy3Cg6TFHtO/hcz54RwIzL8i7XnFSaXyv/8I0so2LPW/ipYWTibd9r93nVwAKcb4v3mUg5wk8PK/PbyrEb3M6L/mJ92jqrjiv2a8NzvrLe6/PPo1+ycu9L/aonZyRojjv8iT21wSBPi/+SRpZwx53L9CoTdNiknwvwwsMY9UtuW/MGSDquMB2b/Ij9EMxjvdv21AOPC4XvC/DInvI8aZ7L+kFna/Wwnbvwv6YoklBt2//MuRQ0sj7r/6/DonvybpvznnMrPkAeC/ino1dPcQ3L/wyQKtMb3Tv6u8k8GYDtK/spMS0RJi17/eHDwdDVrZv8lSRhiAaOy/qsQf+woB2L8LHVAcpIPpv2632OvKHuS/P1/rv3N54L83b/M6VXn4v8HyDDSANdq/uCyLDUPc0b+uiLrNf6DVv7qxhVGKO+y/H87jOJ/L/r//YUJEtcDqv9YKO1UK+Pa/8lAnwIIA+L8SqyqOw6rgv2Vbl0f8BNa/5jDqmNcN+b+QYnsflRHav+UO+b4MVeu/",
          "dtype": "f8"
         },
         "z": {
          "bdata": "ecnKqs9ExL/r/tXrK1fUP5Y1lbzDBcE/IPlcq9kc6j/Qx7QkOiXavxj+B87iouY/NUJ2Nxu97T8uZFLHiUS6v7tfzVHvke8/1m8pmT8uyb+bJ2AUrl3kvw6zlxdg49q/MD7kDJFUSz/k78KutezTPwbfBbHSU+K/q5pYXr4R2r8gL5jsNhflv1hFes1qu/e/11puJxECzT89QLQeq2PXv7bB8sFesLk/hnMHWxSiWj9YmWHV6P7QPwN9ILJJlfY/PbHNgljjoD+KImpCj7Dcv38vkCGkrNu/iFh+gzES8r+OAjFGzHnov9b4NdlSCsm/NIwAHm4K7T/EUdPlHmvIvzWvbMKpy4U/p0qpUZc5zz+gU0AqfqXPP7uL6jO/9OG/t24oIgNk5L8k6loTApjhv8VDSRYfytO/A3LlCropzL8t4235Zr20v0ykEaACVt+/Ev5eQGYt4T9GjYlKMVlMvwGQUj4dzeC/SD9RLW392L8V0wqLuYHMv3gw1dxb3uS/g7p0bj636r8JrKJrelrTPy7FOkiUB+G/EJnYgkdqzb+5Ed2Wh/fTP235ipRuquk/",
          "dtype": "f8"
         }
        },
        {
         "customdata": [
          [
           "Technology"
          ],
          [
           "Utilities"
          ],
          [
           "Real Estate"
          ],
          [
           "Telecommunications"
          ],
          [
           "Health Care"
          ],
          [
           "Finance"
          ],
          [
           "Telecommunications"
          ],
          [
           "Consumer Staples"
          ],
          [
           "Health Care"
          ],
          [
           "Consumer Staples"
          ],
          [
           "Finance"
          ],
          [
           "Telecommunications"
          ],
          [
           "Utilities"
          ],
          [
           "Health Care"
          ],
          [
           "Consumer Staples"
          ],
          [
           "Telecommunications"
          ],
          [
           "Consumer Discretionary"
          ],
          [
           "Miscellaneous"
          ],
          [
           "Technology"
          ],
          [
           "Utilities"
          ],
          [
           "Real Estate"
          ],
          [
           "Consumer Discretionary"
          ],
          [
           "Health Care"
          ],
          [
           "Finance"
          ],
          [
           "Consumer Staples"
          ],
          [
           "Industrials"
          ],
          [
           "Health Care"
          ],
          [
           "Health Care"
          ],
          [
           "Consumer Staples"
          ],
          [
           "Consumer Discretionary"
          ],
          [
           "Finance"
          ],
          [
           "Health Care"
          ],
          [
           "Industrials"
          ],
          [
           "Health Care"
          ],
          [
           "Health Care"
          ],
          [
           "Health Care"
          ],
          [
           "Consumer Staples"
          ],
          [
           "Consumer Staples"
          ],
          [
           "Consumer Staples"
          ],
          [
           "Real Estate"
          ],
          [
           "Consumer Staples"
          ],
          [
           "Telecommunications"
          ],
          [
           "Telecommunications"
          ],
          [
           "Industrials"
          ],
          [
           "Consumer Discretionary"
          ],
          [
           "Consumer Staples"
          ],
          [
           "Finance"
          ],
          [
           "Energy"
          ],
          [
           "Health Care"
          ],
          [
           "Finance"
          ],
          [
           "Finance"
          ],
          [
           "Utilities"
          ],
          [
           "Industrials"
          ],
          [
           "Real Estate"
          ],
          [
           "Health Care"
          ],
          [
           "Industrials"
          ],
          [
           "Industrials"
          ],
          [
           "Consumer Discretionary"
          ],
          [
           "Consumer Discretionary"
          ],
          [
           "Industrials"
          ],
          [
           "Industrials"
          ],
          [
           "Health Care"
          ],
          [
           "Miscellaneous"
          ],
          [
           "Real Estate"
          ],
          [
           "Miscellaneous"
          ],
          [
           "Health Care"
          ],
          [
           "Telecommunications"
          ],
          [
           "Real Estate"
          ],
          [
           "Finance"
          ],
          [
           "Technology"
          ],
          [
           "Health Care"
          ],
          [
           "Consumer Staples"
          ],
          [
           "Telecommunications"
          ],
          [
           "Industrials"
          ],
          [
           "Consumer Staples"
          ],
          [
           "Technology"
          ]
         ],
         "hovertemplate": "<b>%{hovertext}</b><br><br>Cluster=4<br>PC1=%{x}<br>PC2=%{y}<br>PC3=%{z}<br>Sector=%{customdata[0]}<extra></extra>",
         "hovertext": [
          "ADP",
          "ADTN",
          "AGNCL",
          "AMCX",
          "AMGN",
          "ARCC",
          "ATEX",
          "AVO",
          "BIIB",
          "CALM",
          "CGABL",
          "CHTR",
          "CLFD",
          "COO",
          "CPB",
          "CSCO",
          "CSGP",
          "CTLP",
          "CTSH",
          "CWST",
          "DHC",
          "EBAY",
          "EXEL",
          "FITBO",
          "FIZZ",
          "FWONA",
          "GH",
          "GILD",
          "HAIN",
          "HAS",
          "HBANP",
          "HOLX",
          "HON",
          "HSIC",
          "ILMN",
          "INCY",
          "JJSF",
          "KDP",
          "KHC",
          "LAMR",
          "LANC",
          "LBRDA",
          "LBRDK",
          "LIN",
          "LKQ",
          "MGPI",
          "MKTX",
          "MMLP",
          "MMSI",
          "MORN",
          "NDAQ",
          "NTGR",
          "NWL",
          "NYMTL",
          "OPCH",
          "PARA",
          "PARAA",
          "PAYX",
          "PYPL",
          "RGLD",
          "ROP",
          "RPRX",
          "RUN",
          "SBRA",
          "SLDP",
          "TECH",
          "TTGT",
          "UNIT",
          "UPST",
          "VRSN",
          "VTRS",
          "WBA",
          "WBD",
          "WDFC",
          "WEST",
          "ZM"
         ],
         "legendgroup": "4",
         "marker": {
          "color": "#FFA15A",
          "line": {
           "color": "DarkSlateGrey",
           "width": 1
          },
          "size": 5,
          "symbol": "circle"
         },
         "mode": "markers",
         "name": "4",
         "scene": "scene",
         "showlegend": true,
         "type": "scatter3d",
         "x": {
          "bdata": "dIhapQGq7z+4BORT6XXjP3YVuvDEZNc/2MnrM7k34j9kagjghsjhP10OhWiEqvA/EztSjacR8j+6g7+xuGDoP9iDpVDmZ+Y/Yv45mGaZ6D9TriPc3tPhP6dOj8GWDu8/I6cKUz1d4D+LE/xCGF3iPwI9xKMA1ek/Krf9+swG6T9Nlyji02zsP0VEXH+lX+g/2YUmiEAL8j97jgfucsrxPxxIfmSJk/M/kJYDZ2TL3j+cR8Hjc2XePwHEYCqQ9e4/AvMKNvM65j8a8wrwjbrbP0C6B/o3+tU/Xun3IulD2j/CXp0npcD5P3b2ZPMqqtY/g/kuvI4o5j+co1HjoaH2P9TwRhsNNeQ/VzijUhDL8T/NG4x5RbjhP9WOolJxvco/tH5Pnttv6D+LPcN7L6jYP5A5DxzBR+o/fRUOGvvZ7z9vTgLsbmXxP/ZvUrEWwu0/fx8lZD1O8D9NOU4/krnYP2aeyvhs8OQ/CR+LJpux9D/HMbU55+7TP4LNQyebXdo/rDiSClM+4z+4coNaT7PzPxMdY4j3me4/8/ZM7ILKxD+HMzzD4QbhP8hSUTfv8Mc/Y9bCpT9O4z+q0oRTaGfoP8gYu+w+seM/xT8zEMn29D+QoMrhkYbXP6vInAC9wtA/5FIdfMEO1z+++/5fDxH0P2yd9GHtneE/Z8w2UpCH6j/ItG9HFH/hP5vNoh9Pt/A/d8wvs3nD7D8di9PoNTLtPzJ4rCr2JNQ/di6I6PkQ4D+ksUDgVmXhP8hP72ZgtPI/OOjOWYSm8z9h82+n2+nyP7Pb1jcbYfI/oFp2TiJj5D8=",
          "dtype": "f8"
         },
         "y": {
          "bdata": "WX9z6Aub2T8BpcBUQoC6P+uvNycXWcg/FksjfzmY5D8JuWStoAjpPwQXOq8ym7E/2wizMMTFgz9RneBs+GbQP1M6I2Qqbuo/tYRxwpmNvb9HF38Gn6zwP0BNOuzAeNY/9WyHDTeDZD/1XbUc9WbyPwjg/NecMfY/TMqrI+Du4T83VCI6ST/lP3CJZdwjhri/hT/De8KD1z+JB/DwhxexP/Y1/lJo6bM/6g+yNfUE6T/fPiri3AXjP0gOAuvzzPI/n1GlQ0Fy1j9yv0xt7w2KP4t1rmDDE8Q/atjzZg8g8z/W2WMNXx7cP12PjF76CeQ/HFygMhIP9j+OI2Z0BALqPwwfB9zGsdc/cUbAGliE0z/vIcEV9GDgP4Dz+zGdv+A/Xf2WGoAmsz9MoVZjyxHxP24RZpS/6+8/iNUYUDt23z9gwfXriJPXP3JXvtmYML0/st4SQ7t2sz8rEyqg6knvPzYXGkr3mao/kXQX0jbw0z/ySxv/A7XsP0myVybPa9I/AIRrzIQa2D8Jw5wDDz7nP2LYQPVLg/A/rkRION9m2j9+iFf5CgDGP4MXjFRPiuE/rOX+TqcXuD8lUDV+v9bBP4Fha6eb9ro/g5DXzNqC0j/DxBO0iZLIPwtNDUJne+0/cpk+2JVS3j/+r31FHaPzPyl/kOgU/+w/Thli6R758T+Uu0H/QU3IP/xqJXPYCOY/ucvwz4o0ur/oYL2k9i/DP+PBEyx6mr0/UtmRviRJ7D/YYdx5OvHjP0knUc40FOo/QUqdH1zf4T/+agAT42PZP0X6NT/76qA/BHwlT8ANzj8=",
          "dtype": "f8"
         },
         "z": {
          "bdata": "3SK0Dm8S9r8jTCMNkavsP9+2DJ69e9g/mjq2cO8U5j/8Ea93Z+XcP3Ww6czn7OO/fg2AjU4cxD+9YS0FBTWSvwEGNfxa/+8/rd5uCZ0C5r9vfY2O/UK5v/AVlQm0POa/9UweXl369D+m9wW1E9XfP3SfUUmWyNS/xMFCEWMA478Q9L6PQn3jP7sP65gxic0/0KFX7Boy4r9Ril6HZMbUv7GPjgY7RuA/QDNpVCm+2T+NqizJ29bcv5g9J2x5m8o/A3Kg/oCStb97kaHLWWbJv+J6kHnvJdo/bi8IHw+g2b967AadJbDkP6WWQHZKdOU/AqL9MPNLvz9z5wM0Uh/Mv22Z75Uivua/AQl2QuGQwT+tldGLin7wP/phgW4cUte/Se12NnFq1L9RqrTUTNfSv8v+5Yip476/pqX8bFBs4T8JUI+FK4KwvxcEWMopmdq/vk337wsO27+ONqeIFk3gvxyzTtkcLNs/21otbkM6xD8QYcIcTA2iv2WvBE9lNoQ/tLp5K4Qemz9BZPEjf8fjv2nc+F1Slea/UzJg5cl01L+2NUR4ki7tP6nVG4Mr6ac/zMefPuB5gj+7W2kI3arSP+qjQ6Y/ocY/Uu/YXzeR8r88Acsqb0DTv6IEI2a6+eQ/OS5/Mwqz6L9ytyxm6EbgP39mzLDuGwFAH2Do/4v+pz/agj8TQ5n3P/e2wDTij/Q/0U8jgBtRxz+2Cq9ci+7DP9CQypBJWaI/7Mod10hQ279NIl7FyH3gP6s6x59c+tw/12MSv5he4D9gDtNtGvDEv5Q8tg+xMcA/Vs4pQdmvvr8=",
          "dtype": "f8"
         }
        },
        {
         "customdata": [
          [
           "Utilities"
          ],
          [
           "Real Estate"
          ],
          [
           "Utilities"
          ],
          [
           "Utilities"
          ],
          [
           "Utilities"
          ],
          [
           "Real Estate"
          ],
          [
           "Real Estate"
          ],
          [
           "Real Estate"
          ],
          [
           "Utilities"
          ],
          [
           "Utilities"
          ],
          [
           "Utilities"
          ],
          [
           "Real Estate"
          ],
          [
           "Real Estate"
          ],
          [
           "Real Estate"
          ],
          [
           "Real Estate"
          ],
          [
           "Real Estate"
          ],
          [
           "Real Estate"
          ],
          [
           "Utilities"
          ],
          [
           "Technology"
          ],
          [
           "Utilities"
          ],
          [
           "Utilities"
          ]
         ],
         "hovertemplate": "<b>%{hovertext}</b><br><br>Cluster=6<br>PC1=%{x}<br>PC2=%{y}<br>PC3=%{z}<br>Sector=%{customdata[0]}<extra></extra>",
         "hovertext": [
          "AEP",
          "AGNC",
          "ARTNA",
          "EVRG",
          "EXC",
          "GLPI",
          "GOOD",
          "LAND",
          "LNT",
          "MSEX",
          "NWE",
          "NYMT",
          "PCH",
          "PECO",
          "REFI",
          "REG",
          "SBAC",
          "SJW",
          "SSNC",
          "XEL",
          "YORW"
         ],
         "legendgroup": "6",
         "marker": {
          "color": "#19d3f3",
          "line": {
           "color": "DarkSlateGrey",
           "width": 1
          },
          "size": 5,
          "symbol": "circle"
         },
         "mode": "markers",
         "name": "6",
         "scene": "scene",
         "showlegend": true,
         "type": "scatter3d",
         "x": {
          "bdata": "Y0Nt/Kcg9z/ay53Qlbf5P1R9cJ9wbABAcmjwG+wIAUCRUjCt4Ez7Px40KJUV6/k/b+yvGnP5AUDlfLcT4fgCQByMR6N7GwNAs0QpNEx3BkC6WWNoE1MJQBO4px1RUwJAUzJZ+xVsAkDLgPFLkxoGQM9upaKFZAFAcJTOwixq+j9kwCNy5GP5PwfGxnwt6wZAg+BmMnERAUDw+VtGmLn1P82Q/wOjMwpA",
          "dtype": "f8"
         },
         "y": {
          "bdata": "Q2KTIVr7AUBSNumgRir6P4Wdkto1afA/ArT18st5AEBzRbOKaDb7P5/P+jbrmPg/FWmK0eso8D/ZU+Qtl0jhP0/ip+ir+vw/n+GyDdMp8D9OROkWBljsP8toi3WHveQ/8vS74GyS5D8lyjUaqy/zP3OO+9MFUNc/e5pbLBcfAED2z3Bp61D9P3vYJzcCWPA/yip11woQ4D9cMUab39z3P5hEU21JnOg/",
          "dtype": "f8"
         },
         "z": {
          "bdata": "fgZmKkRQsL9xbSGnxtTqPwW+BASCOto/UgOPCVxh2r/PmwoKUAHjv398CX2iR+c/jqrfP0b31z+xcMQobVXqP1X4S/u1Lcq/dxuQZ+TL4T+AFm7/LTqdP5K16o0/A+Y/YqrcAgCo7T9W/sDSlFaRv9G/mX2RNdw/c97Sejcdsb9abRNALDvqP/vpHjBGScs/BjJkpaw81L8FaD41w5Pgv5tGThcyfso/",
          "dtype": "f8"
         }
        },
        {
         "customdata": [
          [
           "Real Estate"
          ],
          [
           "Real Estate"
          ],
          [
           "Real Estate"
          ],
          [
           "Real Estate"
          ],
          [
           "Health Care"
          ],
          [
           "Health Care"
          ],
          [
           "Industrials"
          ],
          [
           "Consumer Discretionary"
          ],
          [
           "Finance"
          ],
          [
           "Consumer Staples"
          ],
          [
           "Consumer Discretionary"
          ],
          [
           "Real Estate"
          ],
          [
           "Consumer Discretionary"
          ],
          [
           "Technology"
          ],
          [
           "Health Care"
          ],
          [
           "Real Estate"
          ],
          [
           "Health Care"
          ],
          [
           "Consumer Staples"
          ],
          [
           "Finance"
          ],
          [
           "Finance"
          ],
          [
           "Health Care"
          ],
          [
           "Real Estate"
          ],
          [
           "Health Care"
          ],
          [
           "Finance"
          ],
          [
           "Finance"
          ],
          [
           "Health Care"
          ],
          [
           "Real Estate"
          ],
          [
           "Telecommunications"
          ],
          [
           "Health Care"
          ],
          [
           "Consumer Staples"
          ],
          [
           "Consumer Staples"
          ],
          [
           "Basic Materials"
          ],
          [
           "Real Estate"
          ],
          [
           "Real Estate"
          ],
          [
           "Real Estate"
          ],
          [
           "Finance"
          ],
          [
           "Health Care"
          ],
          [
           "Consumer Staples"
          ],
          [
           "Consumer Staples"
          ],
          [
           "Energy"
          ],
          [
           "Health Care"
          ],
          [
           "Real Estate"
          ],
          [
           "Real Estate"
          ],
          [
           "Health Care"
          ],
          [
           "Consumer Discretionary"
          ],
          [
           "Consumer Discretionary"
          ],
          [
           "Real Estate"
          ],
          [
           "Health Care"
          ],
          [
           "Telecommunications"
          ],
          [
           "Consumer Discretionary"
          ],
          [
           "Consumer Discretionary"
          ],
          [
           "Basic Materials"
          ],
          [
           "Health Care"
          ],
          [
           "Finance"
          ],
          [
           "Finance"
          ],
          [
           "Technology"
          ],
          [
           "Health Care"
          ],
          [
           "Consumer Discretionary"
          ],
          [
           "Consumer Discretionary"
          ]
         ],
         "hovertemplate": "<b>%{hovertext}</b><br><br>Cluster=0<br>PC1=%{x}<br>PC2=%{y}<br>PC3=%{z}<br>Sector=%{customdata[0]}<extra></extra>",
         "hovertext": [
          "AGNCM",
          "AGNCN",
          "AGNCO",
          "AGNCP",
          "ALNY",
          "BMRN",
          "BRKR",
          "CHRW",
          "CME",
          "COKE",
          "CTAS",
          "DHCNI",
          "DLTR",
          "EA",
          "ENSG",
          "EQIX",
          "EXAS",
          "FARM",
          "FITBI",
          "FITBP",
          "GEHC",
          "GOODO",
          "HALO",
          "HBANL",
          "HBANM",
          "IDXX",
          "LANDP",
          "LBRDP",
          "LNTH",
          "MDLZ",
          "MNST",
          "NB",
          "NYMTM",
          "NYMTN",
          "NYMTZ",
          "ONBPO",
          "PCVX",
          "PEP",
          "PETS",
          "PLUG",
          "PODD",
          "REGCO",
          "REGCP",
          "REGN",
          "RIVN",
          "ROST",
          "SOHON",
          "SRPT",
          "TMUS",
          "TTEK",
          "ULTA",
          "USAU",
          "UTHR",
          "VLYPO",
          "VLYPP",
          "VRSK",
          "VRTX",
          "Z",
          "ZG"
         ],
         "legendgroup": "0",
         "marker": {
          "color": "#FF6692",
          "line": {
           "color": "DarkSlateGrey",
           "width": 1
          },
          "size": 5,
          "symbol": "circle"
         },
         "mode": "markers",
         "name": "0",
         "scene": "scene",
         "showlegend": true,
         "type": "scatter3d",
         "x": {
          "bdata": "gVhwBD4F4r//4i6XdT/Zv+RizKsZvuy/mHM9sSsF8r+ZN8D26bvmv0gBS7CKJ+m/YS2jPHy85L8QZAsP7s20vyLxUeSKSuG/rBbU4R8nxL/P3BcIoObTv7WYn8ectum/3xn0CHhz4b9tv/voEtvav6aatDIVN8+/+bg9j4H1yL9TjS9mpSr4v8eqHS2M4sS/LS+gUbpV3b/oE7KTgLyLvyS8182DKLW/1KXk5Pvq2r8FuhltzFDBvxRmbT5zY7Q/wTQ8SQG3xz8s08+R1Hjdvzafkcj0jri/5uGPYFTo37+neE1Kk+Hjv3VvXvg9Hcw/mvlP8f3hvz9UJf21xY/mv31sahrNtNy/hdt8lQ8R4b/9r//a1p7gv4OlgtxW2eS/17MHOm5K07+WF3j+2MrXP1riU5ANDeC/q850o0PL0b82qXKs/h/Uvw+8vSRnssC/r65QjgaO6r9+/8E7C7bnv5YiK8ump7a/uhNChwh6179pyE9BecHwv8YN+SFFYOG/NJsocxv45L/nXWbJzWfwv28pQkCrXuC/yXDArZuR2797BbGNNFzDv0Obmwa8EeK/sIcCNDpq1r87KRo7KLzCvzmgTE9WBOC/9IE6mIDV4L85ZF0HkUjivw==",
          "dtype": "f8"
         },
         "y": {
          "bdata": "IrzFtFS58j/7phhy9TTpPw6V1t+Gvek/jIJp85Y58D+iJGnqtWvpP1S+ZpTinOo/QItiaTMd4T+QdM48uuHhP+1s6AdDb/I/qLL4YJn78D8JEIUOJq3lPzhwbz3gzvI/OHR+umBr4D+RuirmrAbhP+sWQuklpPU/PJyNq+g3+T9h5cEOW2b7P8hqMlpU4uY/fQUTi3u97D+J21ytwKjxP6EYrALtk+k/lMKTH4Ry2j8qrnDbAQrfP166zcnGrfY/j0fEHuTO9j/glbXtrvbfPzkdzXZTpOA/DW1M4P5Q7D9ETBTyCgToP5477qd/2QBArStJwiYi8T8b3y7xccDfP6p/Umd3wdc/VyZPjWBQ5z/X4hveYvjTP8QBQYlcXeE/oBAc4JaE8T/75Ir1R/v/Py/lD6MAbew/+KjF6p7Z4j+UfFj4bmDwPzjRNYRU1+M/u9Ta1MY47z9N64EdJVTzP6CEm05Rk9o/DfJmRHgu8T+vahsO4YnlPwXKhPTts+A/ZgnfHSzk5j9M8eMW7LX0P82ytXw8F9M/6kXPNemb3D+GXY1Cd67jP4XMtl/ZFtw/IdixP4tl5T/KaouyoqH4P3zm0Y7LC/M/Jva3qJuL8D/1EjUexffwPw==",
          "dtype": "f8"
         },
         "z": {
          "bdata": "3f6aNE8s2r/Ria2ctPrXv1sQKZ8Isb6/SyVd8nay47835NEBD+nZv4wdjz14pcC/4n6TYUUH7D+qB7u67nXUv8+k635OQfG/qiDnPZc55L+mgKxmWSDsv35UE2cQnsS/SQeM0uzL1j/GmTNHaqGgv7PcBcnId9w/I9ss4lrkxT+ONU8wPwPeP6X65GMKc8e/H3c19in5y7+CsF3U3OvAP9Io+nfbQ94/1fSaPxbT0z99s6sBwEajv3r4wq9mJtq/t5QjOR1s5D9ciVIcO3zmP6Agjlhw69k/LbwbRG+Ws78xnq2LvJTrPzIMuZODIry/UScvilg22L+CoYqvPeTSPy3eGN75us+/JBBaSrn91L/zfK/sDQ3Yv5QOtIxaZsy/nsU8sskwpD/HBs8+UVzav+iHJa40eeU/j4OvlFsI/D/C6pPFZKHXPwVQx5y41c2//muMTQCb0L8dM3RfioXUPz+RvhntqPQ/UA/IeaX35D+L/1Bx5hS0P2ju4MTmhsy/Prr1KL6f97+qnOlkn+PMP6BAS5cPMdE/kQoMB0v23T+YE0AfmW/nv/Hgx+BRoNe/u05hAaU4xr8W3g2kVbjnv1ydrcLSU2w/2lMvtH5M7T+onBKggxzvPw==",
          "dtype": "f8"
         }
        },
        {
         "customdata": [
          [
           "Technology"
          ],
          [
           "Technology"
          ],
          [
           "Technology"
          ],
          [
           "Technology"
          ],
          [
           "Technology"
          ],
          [
           "Technology"
          ],
          [
           "Technology"
          ]
         ],
         "hovertemplate": "<b>%{hovertext}</b><br><br>Cluster=8<br>PC1=%{x}<br>PC2=%{y}<br>PC3=%{z}<br>Sector=%{customdata[0]}<extra></extra>",
         "hovertext": [
          "AMAT",
          "AVGO",
          "CDNS",
          "KLAC",
          "LRCX",
          "NVDA",
          "SNPS"
         ],
         "legendgroup": "8",
         "marker": {
          "color": "#B6E880",
          "line": {
           "color": "DarkSlateGrey",
           "width": 1
          },
          "size": 5,
          "symbol": "circle"
         },
         "mode": "markers",
         "name": "8",
         "scene": "scene",
         "showlegend": true,
         "type": "scatter3d",
         "x": {
          "bdata": "02Cxu7T4DsCHTZB6t6cPwHu9eWB9UQzAOxY1JNhYDsDOheD/X/EPwAAAIYRY6RTAM78j0j19CsA=",
          "dtype": "f8"
         },
         "y": {
          "bdata": "KSxhjF5i+r+wtdM4On7pvyNDs4c6seW/SLA3t8mJ+79G3/D7r5X6v0zvpwa8MOi/V2MEDQnA8b8=",
          "dtype": "f8"
         },
         "z": {
          "bdata": "bioHURtc8j9z1W66a9KrPwopKTT/S9k/BDL4dp+a9D9raPNEk8HzPypikBMTxNm/AYeotgYzxD8=",
          "dtype": "f8"
         }
        },
        {
         "customdata": [
          [
           "Technology"
          ],
          [
           "Technology"
          ],
          [
           "Utilities"
          ],
          [
           "Technology"
          ],
          [
           "Technology"
          ],
          [
           "Industrials"
          ],
          [
           "Industrials"
          ],
          [
           "Technology"
          ],
          [
           "Technology"
          ],
          [
           "Technology"
          ],
          [
           "Technology"
          ],
          [
           "Technology"
          ],
          [
           "Energy"
          ],
          [
           "Technology"
          ],
          [
           "Industrials"
          ],
          [
           "Utilities"
          ],
          [
           "Technology"
          ],
          [
           "Consumer Discretionary"
          ]
         ],
         "hovertemplate": "<b>%{hovertext}</b><br><br>Cluster=2<br>PC1=%{x}<br>PC2=%{y}<br>PC3=%{z}<br>Sector=%{customdata[0]}<extra></extra>",
         "hovertext": [
          "AMD",
          "ANSS",
          "CEG",
          "CRWD",
          "DDOG",
          "ENTG",
          "MKSI",
          "MPWR",
          "MRVL",
          "MU",
          "NTAP",
          "ON",
          "POWL",
          "QCOM",
          "TER",
          "TLN",
          "WDC",
          "WING"
         ],
         "legendgroup": "2",
         "marker": {
          "color": "#FF97FF",
          "line": {
           "color": "DarkSlateGrey",
           "width": 1
          },
          "size": 5,
          "symbol": "circle"
         },
         "mode": "markers",
         "name": "2",
         "scene": "scene",
         "showlegend": true,
         "type": "scatter3d",
         "x": {
          "bdata": "H8vSVwbACMAyOlhmW6oDwL+BBvr9JQPAtErJzC9vB8ASzqSFFNIAwBKu2dz4PAHAEM6uOVjXAcBgyGHjfGYFwG1c32v3agbAZYUzh9kBBcAbMHhGOBgAwKfNSmwKSfi/19ScwIHm9L+rJWLI6RkGwBeXay37ewPA4+EH7ZwoAMD+CPCxG6cEwF8IBFXdEQPA",
          "dtype": "f8"
         },
         "y": {
          "bdata": "9QlMXi6E679tWPSHpV7Tv6a4qDdYO9q//9bgPDkm2b8JPlXMDBjmvwO/8hw3DPe/MRvkAjKO9r9pdI7p/Fvxv825CPsyLPC/GJKijkge9b/p+OjVm97gv/SrmstjBvC/BcR+JM/I8r9dbobBO4z5v2RfvdTgePO/5G6Ujyey078qyw5se2Tzv5xZTdFYu9e/",
          "dtype": "f8"
         },
         "z": {
          "bdata": "cAOWI50h3T9twky86EvYP53UB5nVztO/k2NbJ94S5r+in57dgKCKv0XO4T/HYPk/EAbE2hP4/j98DUY7z/bzP7HqRp78s9g/Q5ri7eGW5j9tMwSakhyivzzrk7uBQfg/tFgcFVNyyL+YTm5ik6LxP89guxupNvc/EW742jbH1b/cZ2J+NzPmP6HoqVnY6ru/",
          "dtype": "f8"
         }
        },
        {
         "customdata": [
          [
           "Basic Materials"
          ],
          [
           "Consumer Staples"
          ],
          [
           "Telecommunications"
          ],
          [
           "Industrials"
          ],
          [
           "Industrials"
          ],
          [
           "Finance"
          ],
          [
           "Finance"
          ],
          [
           "Finance"
          ],
          [
           "Utilities"
          ],
          [
           "Telecommunications"
          ],
          [
           "Finance"
          ],
          [
           "Industrials"
          ],
          [
           "Industrials"
          ],
          [
           "Industrials"
          ],
          [
           "Utilities"
          ],
          [
           "Industrials"
          ],
          [
           "Finance"
          ],
          [
           "Real Estate"
          ],
          [
           "Consumer Staples"
          ],
          [
           "Industrials"
          ],
          [
           "Consumer Staples"
          ],
          [
           "Miscellaneous"
          ],
          [
           "Energy"
          ],
          [
           "Industrials"
          ],
          [
           "Telecommunications"
          ],
          [
           "Telecommunications"
          ],
          [
           "Consumer Staples"
          ],
          [
           "Industrials"
          ],
          [
           "Energy"
          ],
          [
           "Industrials"
          ],
          [
           "Industrials"
          ],
          [
           "Miscellaneous"
          ],
          [
           "Finance"
          ],
          [
           "Industrials"
          ],
          [
           "Utilities"
          ],
          [
           "Utilities"
          ],
          [
           "Finance"
          ],
          [
           "Consumer Discretionary"
          ],
          [
           "Energy"
          ],
          [
           "Finance"
          ],
          [
           "Telecommunications"
          ],
          [
           "Real Estate"
          ],
          [
           "Finance"
          ],
          [
           "Consumer Staples"
          ],
          [
           "Consumer Staples"
          ],
          [
           "Telecommunications"
          ]
         ],
         "hovertemplate": "<b>%{hovertext}</b><br><br>Cluster=1<br>PC1=%{x}<br>PC2=%{y}<br>PC3=%{z}<br>Sector=%{customdata[0]}<extra></extra>",
         "hovertext": [
          "AMWD",
          "ARKO",
          "ATNI",
          "BCPC",
          "BKR",
          "CACC",
          "CG",
          "CINF",
          "CLNE",
          "CMCSA",
          "COOP",
          "CSX",
          "FOX",
          "FOXA",
          "GWRS",
          "HEES",
          "HLNE",
          "HST",
          "IMKTA",
          "JBHT",
          "JBSS",
          "JYNT",
          "KLXE",
          "LECO",
          "LILA",
          "LILAK",
          "LMNR",
          "LSTR",
          "MGEE",
          "MIDD",
          "NDSN",
          "NOVT",
          "NTRS",
          "NXST",
          "OTTR",
          "PCYO",
          "PFG",
          "POOL",
          "PTEN",
          "SEIC",
          "SHEN",
          "SVC",
          "TROW",
          "VLGEA",
          "WEYS",
          "ZD"
         ],
         "legendgroup": "1",
         "marker": {
          "color": "#FECB52",
          "line": {
           "color": "DarkSlateGrey",
           "width": 1
          },
          "size": 5,
          "symbol": "circle"
         },
         "mode": "markers",
         "name": "1",
         "scene": "scene",
         "showlegend": true,
         "type": "scatter3d",
         "x": {
          "bdata": "qKu8KQZ7AkD0HpA4bu34PwOdcAGY5vY/5jfbffuK/z+r+G2uhn/4P+4AQo4nT/k/IhhuMnbE+D8RhaFsj839P2MLurYbDPk/WyKWaEmp9z/i6+eLjn8BQMpoliMr5P0/cPgqXR+X+z/8T6CsAA76P9LDtNJEzP0/npKiuYxF/T/MP/jba/H2PxP8FRVDGfs/MWtY1qQS/z+jRpPT+lnzP0jUPqpch/c/YMI/Kc8b9D8WgdtdGQD4P1KnuNO8jQFAVfojxNPm+T/PxmDiSnL5Py9W2Ou9fwBAKInn4Vw6/j+riFQ5QeX9P3awLrsrVwFABJUkEKCC+j8dw/znGx/9P1ib5gRbVABAG1P6m+MT/z+kcAV63LUCQP0U2GAw8/0/fFoQlLb3AUCNabFYxCUAQM9m96hvRPo/F5jbz69P/j+N4XAPiM0AQK/9zxU+U/s/vCipMlzK+z/w2ge1bPj9P3Ed/geCQPs/R7yzOIor+j8=",
          "dtype": "f8"
         },
         "y": {
          "bdata": "+9OH/lUw4r+ahfe45J3Qv8jH+W/grLA/ZhVcqUsi2r+kW24iqzj1vyH3VQtnB+u/xgpJPgeg9b/0DPNQDpu7v/TLrWZ1Ps6/yk4vjIsljz/ME1P6SknWv25eX98E7ta/hXpYr5Hdtz80H88kgY21P1pgDfSUWs+/D4D+vjxn9r/KieafV6nuv5neja1AD6M/0vzd1EFUbL937XQQofPcv0sW4V+nBcM/DMpzZ/oiqb93Jj4lmQDwv9sI9Qua1uu/HzP8hCwl5L/iIPxM7+bivyvOG3ep1tK/c5a5xFMV5r8RwnVG2qzTP/vgr240z7g/Wu7BT23q0L8XUE6NuOTxv5QvciQJYNy/MFiprmijzb9wD4e8hk/mv9Dg2KCgaeS/3EllcP7j2b8P3tqJSRqcv9bkIGbJjvK/eTVFZr2Kvb9KPNIVyg7evyPS19IIatC/hZzKCG2u4b8eI5e1YPHuv9OMNrU+G/W/ocR9P4MntL8=",
          "dtype": "f8"
         },
         "z": {
          "bdata": "CKekhgRy6D82G2yqvmLbP8X4x2ztDs2/HiZHn6pSzT99DNsFFJPqv68MygJ0v9s/Ul0sS3ZKx79zxzONEszzv0LezddJT/U/vBnF+SI87b/1dkoTrBzNPzgxwGUpx+m/senYswxB2r/k8ncIckDZv4UijcbMmM0/WMp18W0CxD9Ze6v4H1bKv1SUFv8/stU/jZ7Ml/ou0r9c/7YTEcmSv06dGXrsy8Q/ooZGhNQa5z9JQHH79yzLv7/yBrrLGcM/roITNAEV5D/JxWI7cMLkP0tgCjUEHMY/Y81ma+bbsj+i41PFPgfiv0DAaaSzddY/qhBpKxQO0T+QMxaB433sP7ge9cR869G/1SI3gTQD4D9HOOS4RgngP1JA/whyI+I/oiKOwlZ+5b8mRgJyL2XxP5jdTK5oyti/Zz62FkBy1b9oB2owZZvRP2aJAf+RA7E/p/aWejGrsj9ryUtUAXDgv2Voo6mrrdW/t/PI0aNa0T8=",
          "dtype": "f8"
         }
        },
        {
         "customdata": [
          [
           "Finance"
          ],
          [
           "Finance"
          ],
          [
           "Finance"
          ],
          [
           "Finance"
          ],
          [
           "Finance"
          ],
          [
           "Finance"
          ],
          [
           "Telecommunications"
          ],
          [
           "Finance"
          ],
          [
           "Finance"
          ],
          [
           "Utilities"
          ],
          [
           "Finance"
          ],
          [
           "Basic Materials"
          ],
          [
           "Finance"
          ],
          [
           "Finance"
          ]
         ],
         "hovertemplate": "<b>%{hovertext}</b><br><br>Cluster=9<br>PC1=%{x}<br>PC2=%{y}<br>PC3=%{z}<br>Sector=%{customdata[0]}<extra></extra>",
         "hovertext": [
          "BOKF",
          "BPOP",
          "CBSH",
          "EWBC",
          "FITB",
          "HBAN",
          "MATW",
          "ONB",
          "PNFP",
          "RGCO",
          "SLM",
          "UFPI",
          "WTFC",
          "ZION"
         ],
         "legendgroup": "9",
         "marker": {
          "color": "#636efa",
          "line": {
           "color": "DarkSlateGrey",
           "width": 1
          },
          "size": 5,
          "symbol": "circle"
         },
         "mode": "markers",
         "name": "9",
         "scene": "scene",
         "showlegend": true,
         "type": "scatter3d",
         "x": {
          "bdata": "Qo6hDJmSCkAiKan0uAgEQDojA5p8FQdA+cyCDddICEB3rxaxcv8JQOlCrbkVWAdAvN3NKB/7BUDCs0uy3ekLQF6qifrREwpAXUuZ5cd6BEDwy+jr8KQBQOm5S8HwcAlAX1NMb8Y0CUA1G+Tehi4HQA==",
          "dtype": "f8"
         },
         "y": {
          "bdata": "3kXiK5n08b/W5b3huy3xvylzXfK+VfO/TlRu548197/8Cmyj/5Htv+MieIaO3/O/aK69R/G41b8xU8KRC6n0v1CAvKCVH/a/Zka5j8na7L8Bk1s/sbD2v2dZDXRFfuq/UYk9Zoc9+L8AabaSp5z3vw==",
          "dtype": "f8"
         },
         "z": {
          "bdata": "fjk2LUwo4b9Q1pquWufjv/dEsQ6s/+m/yU4Zc1aM1b8AvwgGIsvWv/yB5+jWtuu/YwH1E9vI4z/K+aeWLJzgvxsADCyLk+W/dhGdjuu8zT9Jf+4OV7nlvzB5f7xlHeI/bFgVI/FN7L/4EvvUw/Pevw==",
          "dtype": "f8"
         }
        }
       ],
       "layout": {
        "legend": {
         "title": {
          "text": "Cluster"
         },
         "tracegroupgap": 0
        },
        "scene": {
         "domain": {
          "x": [
           0,
           1
          ],
          "y": [
           0,
           1
          ]
         },
         "xaxis": {
          "title": {
           "text": "PC1"
          }
         },
         "yaxis": {
          "title": {
           "text": "PC2"
          }
         },
         "zaxis": {
          "title": {
           "text": "PC3"
          }
         }
        },
        "template": {
         "data": {
          "bar": [
           {
            "error_x": {
             "color": "#2a3f5f"
            },
            "error_y": {
             "color": "#2a3f5f"
            },
            "marker": {
             "line": {
              "color": "#E5ECF6",
              "width": 0.5
             },
             "pattern": {
              "fillmode": "overlay",
              "size": 10,
              "solidity": 0.2
             }
            },
            "type": "bar"
           }
          ],
          "barpolar": [
           {
            "marker": {
             "line": {
              "color": "#E5ECF6",
              "width": 0.5
             },
             "pattern": {
              "fillmode": "overlay",
              "size": 10,
              "solidity": 0.2
             }
            },
            "type": "barpolar"
           }
          ],
          "carpet": [
           {
            "aaxis": {
             "endlinecolor": "#2a3f5f",
             "gridcolor": "white",
             "linecolor": "white",
             "minorgridcolor": "white",
             "startlinecolor": "#2a3f5f"
            },
            "baxis": {
             "endlinecolor": "#2a3f5f",
             "gridcolor": "white",
             "linecolor": "white",
             "minorgridcolor": "white",
             "startlinecolor": "#2a3f5f"
            },
            "type": "carpet"
           }
          ],
          "choropleth": [
           {
            "colorbar": {
             "outlinewidth": 0,
             "ticks": ""
            },
            "type": "choropleth"
           }
          ],
          "contour": [
           {
            "colorbar": {
             "outlinewidth": 0,
             "ticks": ""
            },
            "colorscale": [
             [
              0,
              "#0d0887"
             ],
             [
              0.1111111111111111,
              "#46039f"
             ],
             [
              0.2222222222222222,
              "#7201a8"
             ],
             [
              0.3333333333333333,
              "#9c179e"
             ],
             [
              0.4444444444444444,
              "#bd3786"
             ],
             [
              0.5555555555555556,
              "#d8576b"
             ],
             [
              0.6666666666666666,
              "#ed7953"
             ],
             [
              0.7777777777777778,
              "#fb9f3a"
             ],
             [
              0.8888888888888888,
              "#fdca26"
             ],
             [
              1,
              "#f0f921"
             ]
            ],
            "type": "contour"
           }
          ],
          "contourcarpet": [
           {
            "colorbar": {
             "outlinewidth": 0,
             "ticks": ""
            },
            "type": "contourcarpet"
           }
          ],
          "heatmap": [
           {
            "colorbar": {
             "outlinewidth": 0,
             "ticks": ""
            },
            "colorscale": [
             [
              0,
              "#0d0887"
             ],
             [
              0.1111111111111111,
              "#46039f"
             ],
             [
              0.2222222222222222,
              "#7201a8"
             ],
             [
              0.3333333333333333,
              "#9c179e"
             ],
             [
              0.4444444444444444,
              "#bd3786"
             ],
             [
              0.5555555555555556,
              "#d8576b"
             ],
             [
              0.6666666666666666,
              "#ed7953"
             ],
             [
              0.7777777777777778,
              "#fb9f3a"
             ],
             [
              0.8888888888888888,
              "#fdca26"
             ],
             [
              1,
              "#f0f921"
             ]
            ],
            "type": "heatmap"
           }
          ],
          "histogram": [
           {
            "marker": {
             "pattern": {
              "fillmode": "overlay",
              "size": 10,
              "solidity": 0.2
             }
            },
            "type": "histogram"
           }
          ],
          "histogram2d": [
           {
            "colorbar": {
             "outlinewidth": 0,
             "ticks": ""
            },
            "colorscale": [
             [
              0,
              "#0d0887"
             ],
             [
              0.1111111111111111,
              "#46039f"
             ],
             [
              0.2222222222222222,
              "#7201a8"
             ],
             [
              0.3333333333333333,
              "#9c179e"
             ],
             [
              0.4444444444444444,
              "#bd3786"
             ],
             [
              0.5555555555555556,
              "#d8576b"
             ],
             [
              0.6666666666666666,
              "#ed7953"
             ],
             [
              0.7777777777777778,
              "#fb9f3a"
             ],
             [
              0.8888888888888888,
              "#fdca26"
             ],
             [
              1,
              "#f0f921"
             ]
            ],
            "type": "histogram2d"
           }
          ],
          "histogram2dcontour": [
           {
            "colorbar": {
             "outlinewidth": 0,
             "ticks": ""
            },
            "colorscale": [
             [
              0,
              "#0d0887"
             ],
             [
              0.1111111111111111,
              "#46039f"
             ],
             [
              0.2222222222222222,
              "#7201a8"
             ],
             [
              0.3333333333333333,
              "#9c179e"
             ],
             [
              0.4444444444444444,
              "#bd3786"
             ],
             [
              0.5555555555555556,
              "#d8576b"
             ],
             [
              0.6666666666666666,
              "#ed7953"
             ],
             [
              0.7777777777777778,
              "#fb9f3a"
             ],
             [
              0.8888888888888888,
              "#fdca26"
             ],
             [
              1,
              "#f0f921"
             ]
            ],
            "type": "histogram2dcontour"
           }
          ],
          "mesh3d": [
           {
            "colorbar": {
             "outlinewidth": 0,
             "ticks": ""
            },
            "type": "mesh3d"
           }
          ],
          "parcoords": [
           {
            "line": {
             "colorbar": {
              "outlinewidth": 0,
              "ticks": ""
             }
            },
            "type": "parcoords"
           }
          ],
          "pie": [
           {
            "automargin": true,
            "type": "pie"
           }
          ],
          "scatter": [
           {
            "fillpattern": {
             "fillmode": "overlay",
             "size": 10,
             "solidity": 0.2
            },
            "type": "scatter"
           }
          ],
          "scatter3d": [
           {
            "line": {
             "colorbar": {
              "outlinewidth": 0,
              "ticks": ""
             }
            },
            "marker": {
             "colorbar": {
              "outlinewidth": 0,
              "ticks": ""
             }
            },
            "type": "scatter3d"
           }
          ],
          "scattercarpet": [
           {
            "marker": {
             "colorbar": {
              "outlinewidth": 0,
              "ticks": ""
             }
            },
            "type": "scattercarpet"
           }
          ],
          "scattergeo": [
           {
            "marker": {
             "colorbar": {
              "outlinewidth": 0,
              "ticks": ""
             }
            },
            "type": "scattergeo"
           }
          ],
          "scattergl": [
           {
            "marker": {
             "colorbar": {
              "outlinewidth": 0,
              "ticks": ""
             }
            },
            "type": "scattergl"
           }
          ],
          "scattermap": [
           {
            "marker": {
             "colorbar": {
              "outlinewidth": 0,
              "ticks": ""
             }
            },
            "type": "scattermap"
           }
          ],
          "scattermapbox": [
           {
            "marker": {
             "colorbar": {
              "outlinewidth": 0,
              "ticks": ""
             }
            },
            "type": "scattermapbox"
           }
          ],
          "scatterpolar": [
           {
            "marker": {
             "colorbar": {
              "outlinewidth": 0,
              "ticks": ""
             }
            },
            "type": "scatterpolar"
           }
          ],
          "scatterpolargl": [
           {
            "marker": {
             "colorbar": {
              "outlinewidth": 0,
              "ticks": ""
             }
            },
            "type": "scatterpolargl"
           }
          ],
          "scatterternary": [
           {
            "marker": {
             "colorbar": {
              "outlinewidth": 0,
              "ticks": ""
             }
            },
            "type": "scatterternary"
           }
          ],
          "surface": [
           {
            "colorbar": {
             "outlinewidth": 0,
             "ticks": ""
            },
            "colorscale": [
             [
              0,
              "#0d0887"
             ],
             [
              0.1111111111111111,
              "#46039f"
             ],
             [
              0.2222222222222222,
              "#7201a8"
             ],
             [
              0.3333333333333333,
              "#9c179e"
             ],
             [
              0.4444444444444444,
              "#bd3786"
             ],
             [
              0.5555555555555556,
              "#d8576b"
             ],
             [
              0.6666666666666666,
              "#ed7953"
             ],
             [
              0.7777777777777778,
              "#fb9f3a"
             ],
             [
              0.8888888888888888,
              "#fdca26"
             ],
             [
              1,
              "#f0f921"
             ]
            ],
            "type": "surface"
           }
          ],
          "table": [
           {
            "cells": {
             "fill": {
              "color": "#EBF0F8"
             },
             "line": {
              "color": "white"
             }
            },
            "header": {
             "fill": {
              "color": "#C8D4E3"
             },
             "line": {
              "color": "white"
             }
            },
            "type": "table"
           }
          ]
         },
         "layout": {
          "annotationdefaults": {
           "arrowcolor": "#2a3f5f",
           "arrowhead": 0,
           "arrowwidth": 1
          },
          "autotypenumbers": "strict",
          "coloraxis": {
           "colorbar": {
            "outlinewidth": 0,
            "ticks": ""
           }
          },
          "colorscale": {
           "diverging": [
            [
             0,
             "#8e0152"
            ],
            [
             0.1,
             "#c51b7d"
            ],
            [
             0.2,
             "#de77ae"
            ],
            [
             0.3,
             "#f1b6da"
            ],
            [
             0.4,
             "#fde0ef"
            ],
            [
             0.5,
             "#f7f7f7"
            ],
            [
             0.6,
             "#e6f5d0"
            ],
            [
             0.7,
             "#b8e186"
            ],
            [
             0.8,
             "#7fbc41"
            ],
            [
             0.9,
             "#4d9221"
            ],
            [
             1,
             "#276419"
            ]
           ],
           "sequential": [
            [
             0,
             "#0d0887"
            ],
            [
             0.1111111111111111,
             "#46039f"
            ],
            [
             0.2222222222222222,
             "#7201a8"
            ],
            [
             0.3333333333333333,
             "#9c179e"
            ],
            [
             0.4444444444444444,
             "#bd3786"
            ],
            [
             0.5555555555555556,
             "#d8576b"
            ],
            [
             0.6666666666666666,
             "#ed7953"
            ],
            [
             0.7777777777777778,
             "#fb9f3a"
            ],
            [
             0.8888888888888888,
             "#fdca26"
            ],
            [
             1,
             "#f0f921"
            ]
           ],
           "sequentialminus": [
            [
             0,
             "#0d0887"
            ],
            [
             0.1111111111111111,
             "#46039f"
            ],
            [
             0.2222222222222222,
             "#7201a8"
            ],
            [
             0.3333333333333333,
             "#9c179e"
            ],
            [
             0.4444444444444444,
             "#bd3786"
            ],
            [
             0.5555555555555556,
             "#d8576b"
            ],
            [
             0.6666666666666666,
             "#ed7953"
            ],
            [
             0.7777777777777778,
             "#fb9f3a"
            ],
            [
             0.8888888888888888,
             "#fdca26"
            ],
            [
             1,
             "#f0f921"
            ]
           ]
          },
          "colorway": [
           "#636efa",
           "#EF553B",
           "#00cc96",
           "#ab63fa",
           "#FFA15A",
           "#19d3f3",
           "#FF6692",
           "#B6E880",
           "#FF97FF",
           "#FECB52"
          ],
          "font": {
           "color": "#2a3f5f"
          },
          "geo": {
           "bgcolor": "white",
           "lakecolor": "white",
           "landcolor": "#E5ECF6",
           "showlakes": true,
           "showland": true,
           "subunitcolor": "white"
          },
          "hoverlabel": {
           "align": "left"
          },
          "hovermode": "closest",
          "mapbox": {
           "style": "light"
          },
          "paper_bgcolor": "white",
          "plot_bgcolor": "#E5ECF6",
          "polar": {
           "angularaxis": {
            "gridcolor": "white",
            "linecolor": "white",
            "ticks": ""
           },
           "bgcolor": "#E5ECF6",
           "radialaxis": {
            "gridcolor": "white",
            "linecolor": "white",
            "ticks": ""
           }
          },
          "scene": {
           "xaxis": {
            "backgroundcolor": "#E5ECF6",
            "gridcolor": "white",
            "gridwidth": 2,
            "linecolor": "white",
            "showbackground": true,
            "ticks": "",
            "zerolinecolor": "white"
           },
           "yaxis": {
            "backgroundcolor": "#E5ECF6",
            "gridcolor": "white",
            "gridwidth": 2,
            "linecolor": "white",
            "showbackground": true,
            "ticks": "",
            "zerolinecolor": "white"
           },
           "zaxis": {
            "backgroundcolor": "#E5ECF6",
            "gridcolor": "white",
            "gridwidth": 2,
            "linecolor": "white",
            "showbackground": true,
            "ticks": "",
            "zerolinecolor": "white"
           }
          },
          "shapedefaults": {
           "line": {
            "color": "#2a3f5f"
           }
          },
          "ternary": {
           "aaxis": {
            "gridcolor": "white",
            "linecolor": "white",
            "ticks": ""
           },
           "baxis": {
            "gridcolor": "white",
            "linecolor": "white",
            "ticks": ""
           },
           "bgcolor": "#E5ECF6",
           "caxis": {
            "gridcolor": "white",
            "linecolor": "white",
            "ticks": ""
           }
          },
          "title": {
           "x": 0.05
          },
          "xaxis": {
           "automargin": true,
           "gridcolor": "white",
           "linecolor": "white",
           "ticks": "",
           "title": {
            "standoff": 15
           },
           "zerolinecolor": "white",
           "zerolinewidth": 2
          },
          "yaxis": {
           "automargin": true,
           "gridcolor": "white",
           "linecolor": "white",
           "ticks": "",
           "title": {
            "standoff": 15
           },
           "zerolinecolor": "white",
           "zerolinewidth": 2
          }
         }
        },
        "title": {
         "text": "3D PCA of Stock Residuals"
        }
       }
      }
     },
     "metadata": {},
     "output_type": "display_data"
    }
   ],
   "source": [
    "# plot this on 3D plotly and do the same thing\n",
    "fig = px.scatter_3d(\n",
    "    pca_df3_merged,\n",
    "    x='PC1', y='PC2', z='PC3',\n",
    "    color='Cluster',\n",
    "    hover_name='Symbol',\n",
    "    hover_data=['Sector'],\n",
    "    title='3D PCA of Stock Residuals'\n",
    ")\n",
    "fig.update_traces(marker=dict(size=5, line=dict(width=1, color='DarkSlateGrey')))\n",
    "fig.show()"
   ]
  },
  {
   "cell_type": "code",
   "execution_count": 21,
   "id": "ac670e6d",
   "metadata": {},
   "outputs": [
    {
     "data": {
      "text/html": [
       "<div>\n",
       "<style scoped>\n",
       "    .dataframe tbody tr th:only-of-type {\n",
       "        vertical-align: middle;\n",
       "    }\n",
       "\n",
       "    .dataframe tbody tr th {\n",
       "        vertical-align: top;\n",
       "    }\n",
       "\n",
       "    .dataframe thead th {\n",
       "        text-align: right;\n",
       "    }\n",
       "</style>\n",
       "<table border=\"1\" class=\"dataframe\">\n",
       "  <thead>\n",
       "    <tr style=\"text-align: right;\">\n",
       "      <th></th>\n",
       "      <th></th>\n",
       "      <th>Symbol</th>\n",
       "      <th>PC1</th>\n",
       "      <th>PC2</th>\n",
       "    </tr>\n",
       "    <tr>\n",
       "      <th>Clusters</th>\n",
       "      <th>Sector</th>\n",
       "      <th></th>\n",
       "      <th></th>\n",
       "      <th></th>\n",
       "    </tr>\n",
       "  </thead>\n",
       "  <tbody>\n",
       "    <tr>\n",
       "      <th rowspan=\"5\" valign=\"top\">0</th>\n",
       "      <th>Basic Materials</th>\n",
       "      <td>2</td>\n",
       "      <td>2</td>\n",
       "      <td>2</td>\n",
       "    </tr>\n",
       "    <tr>\n",
       "      <th>Consumer Discretionary</th>\n",
       "      <td>9</td>\n",
       "      <td>9</td>\n",
       "      <td>9</td>\n",
       "    </tr>\n",
       "    <tr>\n",
       "      <th>Consumer Staples</th>\n",
       "      <td>6</td>\n",
       "      <td>6</td>\n",
       "      <td>6</td>\n",
       "    </tr>\n",
       "    <tr>\n",
       "      <th>Energy</th>\n",
       "      <td>1</td>\n",
       "      <td>1</td>\n",
       "      <td>1</td>\n",
       "    </tr>\n",
       "    <tr>\n",
       "      <th>Finance</th>\n",
       "      <td>8</td>\n",
       "      <td>8</td>\n",
       "      <td>8</td>\n",
       "    </tr>\n",
       "    <tr>\n",
       "      <th>...</th>\n",
       "      <th>...</th>\n",
       "      <td>...</td>\n",
       "      <td>...</td>\n",
       "      <td>...</td>\n",
       "    </tr>\n",
       "    <tr>\n",
       "      <th>8</th>\n",
       "      <th>Technology</th>\n",
       "      <td>7</td>\n",
       "      <td>7</td>\n",
       "      <td>7</td>\n",
       "    </tr>\n",
       "    <tr>\n",
       "      <th rowspan=\"4\" valign=\"top\">9</th>\n",
       "      <th>Basic Materials</th>\n",
       "      <td>1</td>\n",
       "      <td>1</td>\n",
       "      <td>1</td>\n",
       "    </tr>\n",
       "    <tr>\n",
       "      <th>Finance</th>\n",
       "      <td>11</td>\n",
       "      <td>11</td>\n",
       "      <td>11</td>\n",
       "    </tr>\n",
       "    <tr>\n",
       "      <th>Telecommunications</th>\n",
       "      <td>1</td>\n",
       "      <td>1</td>\n",
       "      <td>1</td>\n",
       "    </tr>\n",
       "    <tr>\n",
       "      <th>Utilities</th>\n",
       "      <td>1</td>\n",
       "      <td>1</td>\n",
       "      <td>1</td>\n",
       "    </tr>\n",
       "  </tbody>\n",
       "</table>\n",
       "<p>83 rows × 3 columns</p>\n",
       "</div>"
      ],
      "text/plain": [
       "                                 Symbol  PC1  PC2\n",
       "Clusters Sector                                  \n",
       "0        Basic Materials              2    2    2\n",
       "         Consumer Discretionary       9    9    9\n",
       "         Consumer Staples             6    6    6\n",
       "         Energy                       1    1    1\n",
       "         Finance                      8    8    8\n",
       "...                                 ...  ...  ...\n",
       "8        Technology                   7    7    7\n",
       "9        Basic Materials              1    1    1\n",
       "         Finance                     11   11   11\n",
       "         Telecommunications           1    1    1\n",
       "         Utilities                    1    1    1\n",
       "\n",
       "[83 rows x 3 columns]"
      ]
     },
     "execution_count": 21,
     "metadata": {},
     "output_type": "execute_result"
    }
   ],
   "source": [
    "Sorted_pca = pca_df_merged.groupby(['Clusters', 'Sector']).count()\n",
    "Sorted_pca\n",
    "\n",
    "# TSNE plotting "
   ]
  },
  {
   "cell_type": "code",
   "execution_count": 24,
   "id": "458de8a3",
   "metadata": {},
   "outputs": [
    {
     "data": {
      "text/html": [
       "<div>\n",
       "<style scoped>\n",
       "    .dataframe tbody tr th:only-of-type {\n",
       "        vertical-align: middle;\n",
       "    }\n",
       "\n",
       "    .dataframe tbody tr th {\n",
       "        vertical-align: top;\n",
       "    }\n",
       "\n",
       "    .dataframe thead th {\n",
       "        text-align: right;\n",
       "    }\n",
       "</style>\n",
       "<table border=\"1\" class=\"dataframe\">\n",
       "  <thead>\n",
       "    <tr style=\"text-align: right;\">\n",
       "      <th></th>\n",
       "      <th></th>\n",
       "      <th>Symbol</th>\n",
       "      <th>PC1</th>\n",
       "      <th>PC2</th>\n",
       "      <th>PC3</th>\n",
       "    </tr>\n",
       "    <tr>\n",
       "      <th>Cluster</th>\n",
       "      <th>Sector</th>\n",
       "      <th></th>\n",
       "      <th></th>\n",
       "      <th></th>\n",
       "      <th></th>\n",
       "    </tr>\n",
       "  </thead>\n",
       "  <tbody>\n",
       "    <tr>\n",
       "      <th rowspan=\"5\" valign=\"top\">0</th>\n",
       "      <th>Basic Materials</th>\n",
       "      <td>2</td>\n",
       "      <td>2</td>\n",
       "      <td>2</td>\n",
       "      <td>2</td>\n",
       "    </tr>\n",
       "    <tr>\n",
       "      <th>Consumer Discretionary</th>\n",
       "      <td>9</td>\n",
       "      <td>9</td>\n",
       "      <td>9</td>\n",
       "      <td>9</td>\n",
       "    </tr>\n",
       "    <tr>\n",
       "      <th>Consumer Staples</th>\n",
       "      <td>6</td>\n",
       "      <td>6</td>\n",
       "      <td>6</td>\n",
       "      <td>6</td>\n",
       "    </tr>\n",
       "    <tr>\n",
       "      <th>Energy</th>\n",
       "      <td>1</td>\n",
       "      <td>1</td>\n",
       "      <td>1</td>\n",
       "      <td>1</td>\n",
       "    </tr>\n",
       "    <tr>\n",
       "      <th>Finance</th>\n",
       "      <td>8</td>\n",
       "      <td>8</td>\n",
       "      <td>8</td>\n",
       "      <td>8</td>\n",
       "    </tr>\n",
       "    <tr>\n",
       "      <th>...</th>\n",
       "      <th>...</th>\n",
       "      <td>...</td>\n",
       "      <td>...</td>\n",
       "      <td>...</td>\n",
       "      <td>...</td>\n",
       "    </tr>\n",
       "    <tr>\n",
       "      <th>8</th>\n",
       "      <th>Technology</th>\n",
       "      <td>7</td>\n",
       "      <td>7</td>\n",
       "      <td>7</td>\n",
       "      <td>7</td>\n",
       "    </tr>\n",
       "    <tr>\n",
       "      <th rowspan=\"4\" valign=\"top\">9</th>\n",
       "      <th>Basic Materials</th>\n",
       "      <td>1</td>\n",
       "      <td>1</td>\n",
       "      <td>1</td>\n",
       "      <td>1</td>\n",
       "    </tr>\n",
       "    <tr>\n",
       "      <th>Finance</th>\n",
       "      <td>11</td>\n",
       "      <td>11</td>\n",
       "      <td>11</td>\n",
       "      <td>11</td>\n",
       "    </tr>\n",
       "    <tr>\n",
       "      <th>Telecommunications</th>\n",
       "      <td>1</td>\n",
       "      <td>1</td>\n",
       "      <td>1</td>\n",
       "      <td>1</td>\n",
       "    </tr>\n",
       "    <tr>\n",
       "      <th>Utilities</th>\n",
       "      <td>1</td>\n",
       "      <td>1</td>\n",
       "      <td>1</td>\n",
       "      <td>1</td>\n",
       "    </tr>\n",
       "  </tbody>\n",
       "</table>\n",
       "<p>83 rows × 4 columns</p>\n",
       "</div>"
      ],
      "text/plain": [
       "                                Symbol  PC1  PC2  PC3\n",
       "Cluster Sector                                       \n",
       "0       Basic Materials              2    2    2    2\n",
       "        Consumer Discretionary       9    9    9    9\n",
       "        Consumer Staples             6    6    6    6\n",
       "        Energy                       1    1    1    1\n",
       "        Finance                      8    8    8    8\n",
       "...                                ...  ...  ...  ...\n",
       "8       Technology                   7    7    7    7\n",
       "9       Basic Materials              1    1    1    1\n",
       "        Finance                     11   11   11   11\n",
       "        Telecommunications           1    1    1    1\n",
       "        Utilities                    1    1    1    1\n",
       "\n",
       "[83 rows x 4 columns]"
      ]
     },
     "execution_count": 24,
     "metadata": {},
     "output_type": "execute_result"
    }
   ],
   "source": [
    "sorted_pca_3 = pca_df3_merged.groupby(['Cluster', 'Sector']).count()\n",
    "sorted_pca_3"
   ]
  },
  {
   "cell_type": "code",
   "execution_count": null,
   "id": "a603d21c",
   "metadata": {},
   "outputs": [],
   "source": []
  }
 ],
 "metadata": {
  "kernelspec": {
   "display_name": "Python 3",
   "language": "python",
   "name": "python3"
  },
  "language_info": {
   "codemirror_mode": {
    "name": "ipython",
    "version": 3
   },
   "file_extension": ".py",
   "mimetype": "text/x-python",
   "name": "python",
   "nbconvert_exporter": "python",
   "pygments_lexer": "ipython3",
   "version": "3.13.3"
  }
 },
 "nbformat": 4,
 "nbformat_minor": 5
}
