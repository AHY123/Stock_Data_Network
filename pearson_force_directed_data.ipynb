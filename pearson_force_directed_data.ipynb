{
 "cells": [
  {
   "cell_type": "code",
   "execution_count": 1,
   "metadata": {},
   "outputs": [],
   "source": [
    "import pandas as pd\n",
    "import numpy as np\n",
    "import plotly.express as px"
   ]
  },
  {
   "cell_type": "code",
   "execution_count": 2,
   "metadata": {},
   "outputs": [
    {
     "data": {
      "text/html": [
       "<div>\n",
       "<style scoped>\n",
       "    .dataframe tbody tr th:only-of-type {\n",
       "        vertical-align: middle;\n",
       "    }\n",
       "\n",
       "    .dataframe tbody tr th {\n",
       "        vertical-align: top;\n",
       "    }\n",
       "\n",
       "    .dataframe thead th {\n",
       "        text-align: right;\n",
       "    }\n",
       "</style>\n",
       "<table border=\"1\" class=\"dataframe\">\n",
       "  <thead>\n",
       "    <tr style=\"text-align: right;\">\n",
       "      <th></th>\n",
       "      <th>UFPI</th>\n",
       "      <th>HYMC</th>\n",
       "      <th>ABAT</th>\n",
       "      <th>HYMCL</th>\n",
       "      <th>USAU</th>\n",
       "      <th>USGO</th>\n",
       "      <th>EU</th>\n",
       "      <th>IPX</th>\n",
       "      <th>AMWD</th>\n",
       "      <th>NB</th>\n",
       "      <th>...</th>\n",
       "      <th>TLN</th>\n",
       "      <th>OTTR</th>\n",
       "      <th>NFE</th>\n",
       "      <th>NEXT</th>\n",
       "      <th>SJW</th>\n",
       "      <th>INFN</th>\n",
       "      <th>CDZIP</th>\n",
       "      <th>NNE</th>\n",
       "      <th>NWE</th>\n",
       "      <th>ALCE</th>\n",
       "    </tr>\n",
       "    <tr>\n",
       "      <th>Ticker</th>\n",
       "      <th></th>\n",
       "      <th></th>\n",
       "      <th></th>\n",
       "      <th></th>\n",
       "      <th></th>\n",
       "      <th></th>\n",
       "      <th></th>\n",
       "      <th></th>\n",
       "      <th></th>\n",
       "      <th></th>\n",
       "      <th></th>\n",
       "      <th></th>\n",
       "      <th></th>\n",
       "      <th></th>\n",
       "      <th></th>\n",
       "      <th></th>\n",
       "      <th></th>\n",
       "      <th></th>\n",
       "      <th></th>\n",
       "      <th></th>\n",
       "      <th></th>\n",
       "    </tr>\n",
       "  </thead>\n",
       "  <tbody>\n",
       "    <tr>\n",
       "      <th>UFPI</th>\n",
       "      <td>1.000000</td>\n",
       "      <td>0.276080</td>\n",
       "      <td>0.174083</td>\n",
       "      <td>0.085249</td>\n",
       "      <td>0.227197</td>\n",
       "      <td>0.177281</td>\n",
       "      <td>0.224328</td>\n",
       "      <td>0.022708</td>\n",
       "      <td>0.721342</td>\n",
       "      <td>0.138928</td>\n",
       "      <td>...</td>\n",
       "      <td>0.276280</td>\n",
       "      <td>0.537765</td>\n",
       "      <td>0.270071</td>\n",
       "      <td>0.267073</td>\n",
       "      <td>0.338355</td>\n",
       "      <td>0.302005</td>\n",
       "      <td>0.103602</td>\n",
       "      <td>NaN</td>\n",
       "      <td>0.451092</td>\n",
       "      <td>0.060193</td>\n",
       "    </tr>\n",
       "    <tr>\n",
       "      <th>HYMC</th>\n",
       "      <td>0.276080</td>\n",
       "      <td>1.000000</td>\n",
       "      <td>0.083090</td>\n",
       "      <td>-0.005893</td>\n",
       "      <td>0.395763</td>\n",
       "      <td>0.221370</td>\n",
       "      <td>0.253970</td>\n",
       "      <td>0.018191</td>\n",
       "      <td>0.190664</td>\n",
       "      <td>0.108390</td>\n",
       "      <td>...</td>\n",
       "      <td>0.089374</td>\n",
       "      <td>0.185726</td>\n",
       "      <td>0.178155</td>\n",
       "      <td>0.231937</td>\n",
       "      <td>0.133157</td>\n",
       "      <td>0.275507</td>\n",
       "      <td>0.056519</td>\n",
       "      <td>NaN</td>\n",
       "      <td>0.193117</td>\n",
       "      <td>0.121040</td>\n",
       "    </tr>\n",
       "    <tr>\n",
       "      <th>ABAT</th>\n",
       "      <td>0.174083</td>\n",
       "      <td>0.083090</td>\n",
       "      <td>1.000000</td>\n",
       "      <td>0.144244</td>\n",
       "      <td>0.102481</td>\n",
       "      <td>0.085672</td>\n",
       "      <td>0.075980</td>\n",
       "      <td>0.049578</td>\n",
       "      <td>0.202218</td>\n",
       "      <td>0.089839</td>\n",
       "      <td>...</td>\n",
       "      <td>-0.023538</td>\n",
       "      <td>0.077462</td>\n",
       "      <td>-0.023517</td>\n",
       "      <td>0.054093</td>\n",
       "      <td>0.062329</td>\n",
       "      <td>0.176765</td>\n",
       "      <td>0.020386</td>\n",
       "      <td>NaN</td>\n",
       "      <td>0.063528</td>\n",
       "      <td>0.033935</td>\n",
       "    </tr>\n",
       "    <tr>\n",
       "      <th>HYMCL</th>\n",
       "      <td>0.085249</td>\n",
       "      <td>-0.005893</td>\n",
       "      <td>0.144244</td>\n",
       "      <td>1.000000</td>\n",
       "      <td>-0.012104</td>\n",
       "      <td>0.111547</td>\n",
       "      <td>-0.002272</td>\n",
       "      <td>-0.087344</td>\n",
       "      <td>0.039080</td>\n",
       "      <td>-0.012179</td>\n",
       "      <td>...</td>\n",
       "      <td>-0.009708</td>\n",
       "      <td>-0.006485</td>\n",
       "      <td>-0.036845</td>\n",
       "      <td>0.218882</td>\n",
       "      <td>0.041197</td>\n",
       "      <td>0.075511</td>\n",
       "      <td>-0.066864</td>\n",
       "      <td>NaN</td>\n",
       "      <td>0.040052</td>\n",
       "      <td>-0.111810</td>\n",
       "    </tr>\n",
       "    <tr>\n",
       "      <th>USAU</th>\n",
       "      <td>0.227197</td>\n",
       "      <td>0.395763</td>\n",
       "      <td>0.102481</td>\n",
       "      <td>-0.012104</td>\n",
       "      <td>1.000000</td>\n",
       "      <td>0.197453</td>\n",
       "      <td>0.290732</td>\n",
       "      <td>0.088652</td>\n",
       "      <td>0.091158</td>\n",
       "      <td>0.078014</td>\n",
       "      <td>...</td>\n",
       "      <td>0.150170</td>\n",
       "      <td>0.105648</td>\n",
       "      <td>0.154083</td>\n",
       "      <td>0.125537</td>\n",
       "      <td>0.186197</td>\n",
       "      <td>0.206021</td>\n",
       "      <td>0.008318</td>\n",
       "      <td>NaN</td>\n",
       "      <td>0.185522</td>\n",
       "      <td>0.098932</td>\n",
       "    </tr>\n",
       "    <tr>\n",
       "      <th>...</th>\n",
       "      <td>...</td>\n",
       "      <td>...</td>\n",
       "      <td>...</td>\n",
       "      <td>...</td>\n",
       "      <td>...</td>\n",
       "      <td>...</td>\n",
       "      <td>...</td>\n",
       "      <td>...</td>\n",
       "      <td>...</td>\n",
       "      <td>...</td>\n",
       "      <td>...</td>\n",
       "      <td>...</td>\n",
       "      <td>...</td>\n",
       "      <td>...</td>\n",
       "      <td>...</td>\n",
       "      <td>...</td>\n",
       "      <td>...</td>\n",
       "      <td>...</td>\n",
       "      <td>...</td>\n",
       "      <td>...</td>\n",
       "      <td>...</td>\n",
       "    </tr>\n",
       "    <tr>\n",
       "      <th>INFN</th>\n",
       "      <td>0.302005</td>\n",
       "      <td>0.275507</td>\n",
       "      <td>0.176765</td>\n",
       "      <td>0.075511</td>\n",
       "      <td>0.206021</td>\n",
       "      <td>0.116514</td>\n",
       "      <td>0.345201</td>\n",
       "      <td>0.101086</td>\n",
       "      <td>0.229472</td>\n",
       "      <td>0.038991</td>\n",
       "      <td>...</td>\n",
       "      <td>0.138298</td>\n",
       "      <td>0.155662</td>\n",
       "      <td>0.107629</td>\n",
       "      <td>0.141406</td>\n",
       "      <td>0.093484</td>\n",
       "      <td>1.000000</td>\n",
       "      <td>-0.052503</td>\n",
       "      <td>NaN</td>\n",
       "      <td>0.149209</td>\n",
       "      <td>0.011942</td>\n",
       "    </tr>\n",
       "    <tr>\n",
       "      <th>CDZIP</th>\n",
       "      <td>0.103602</td>\n",
       "      <td>0.056519</td>\n",
       "      <td>0.020386</td>\n",
       "      <td>-0.066864</td>\n",
       "      <td>0.008318</td>\n",
       "      <td>-0.054313</td>\n",
       "      <td>-0.028409</td>\n",
       "      <td>-0.047706</td>\n",
       "      <td>0.095630</td>\n",
       "      <td>-0.051520</td>\n",
       "      <td>...</td>\n",
       "      <td>0.067164</td>\n",
       "      <td>0.162116</td>\n",
       "      <td>0.192285</td>\n",
       "      <td>0.136278</td>\n",
       "      <td>0.027864</td>\n",
       "      <td>-0.052503</td>\n",
       "      <td>1.000000</td>\n",
       "      <td>NaN</td>\n",
       "      <td>0.162962</td>\n",
       "      <td>0.055130</td>\n",
       "    </tr>\n",
       "    <tr>\n",
       "      <th>NNE</th>\n",
       "      <td>NaN</td>\n",
       "      <td>NaN</td>\n",
       "      <td>NaN</td>\n",
       "      <td>NaN</td>\n",
       "      <td>NaN</td>\n",
       "      <td>NaN</td>\n",
       "      <td>NaN</td>\n",
       "      <td>NaN</td>\n",
       "      <td>NaN</td>\n",
       "      <td>NaN</td>\n",
       "      <td>...</td>\n",
       "      <td>NaN</td>\n",
       "      <td>NaN</td>\n",
       "      <td>NaN</td>\n",
       "      <td>NaN</td>\n",
       "      <td>NaN</td>\n",
       "      <td>NaN</td>\n",
       "      <td>NaN</td>\n",
       "      <td>1.0</td>\n",
       "      <td>NaN</td>\n",
       "      <td>NaN</td>\n",
       "    </tr>\n",
       "    <tr>\n",
       "      <th>NWE</th>\n",
       "      <td>0.451092</td>\n",
       "      <td>0.193117</td>\n",
       "      <td>0.063528</td>\n",
       "      <td>0.040052</td>\n",
       "      <td>0.185522</td>\n",
       "      <td>0.014874</td>\n",
       "      <td>0.161448</td>\n",
       "      <td>0.055550</td>\n",
       "      <td>0.389195</td>\n",
       "      <td>0.175399</td>\n",
       "      <td>...</td>\n",
       "      <td>0.116409</td>\n",
       "      <td>0.407993</td>\n",
       "      <td>0.264774</td>\n",
       "      <td>0.271475</td>\n",
       "      <td>0.632774</td>\n",
       "      <td>0.149209</td>\n",
       "      <td>0.162962</td>\n",
       "      <td>NaN</td>\n",
       "      <td>1.000000</td>\n",
       "      <td>0.009295</td>\n",
       "    </tr>\n",
       "    <tr>\n",
       "      <th>ALCE</th>\n",
       "      <td>0.060193</td>\n",
       "      <td>0.121040</td>\n",
       "      <td>0.033935</td>\n",
       "      <td>-0.111810</td>\n",
       "      <td>0.098932</td>\n",
       "      <td>0.066760</td>\n",
       "      <td>0.033684</td>\n",
       "      <td>0.019737</td>\n",
       "      <td>0.017658</td>\n",
       "      <td>-0.023486</td>\n",
       "      <td>...</td>\n",
       "      <td>0.043928</td>\n",
       "      <td>0.024058</td>\n",
       "      <td>0.009725</td>\n",
       "      <td>-0.046141</td>\n",
       "      <td>-0.000905</td>\n",
       "      <td>0.011942</td>\n",
       "      <td>0.055130</td>\n",
       "      <td>NaN</td>\n",
       "      <td>0.009295</td>\n",
       "      <td>1.000000</td>\n",
       "    </tr>\n",
       "  </tbody>\n",
       "</table>\n",
       "<p>509 rows × 509 columns</p>\n",
       "</div>"
      ],
      "text/plain": [
       "            UFPI      HYMC      ABAT     HYMCL      USAU      USGO        EU  \\\n",
       "Ticker                                                                         \n",
       "UFPI    1.000000  0.276080  0.174083  0.085249  0.227197  0.177281  0.224328   \n",
       "HYMC    0.276080  1.000000  0.083090 -0.005893  0.395763  0.221370  0.253970   \n",
       "ABAT    0.174083  0.083090  1.000000  0.144244  0.102481  0.085672  0.075980   \n",
       "HYMCL   0.085249 -0.005893  0.144244  1.000000 -0.012104  0.111547 -0.002272   \n",
       "USAU    0.227197  0.395763  0.102481 -0.012104  1.000000  0.197453  0.290732   \n",
       "...          ...       ...       ...       ...       ...       ...       ...   \n",
       "INFN    0.302005  0.275507  0.176765  0.075511  0.206021  0.116514  0.345201   \n",
       "CDZIP   0.103602  0.056519  0.020386 -0.066864  0.008318 -0.054313 -0.028409   \n",
       "NNE          NaN       NaN       NaN       NaN       NaN       NaN       NaN   \n",
       "NWE     0.451092  0.193117  0.063528  0.040052  0.185522  0.014874  0.161448   \n",
       "ALCE    0.060193  0.121040  0.033935 -0.111810  0.098932  0.066760  0.033684   \n",
       "\n",
       "             IPX      AMWD        NB  ...       TLN      OTTR       NFE  \\\n",
       "Ticker                                ...                                 \n",
       "UFPI    0.022708  0.721342  0.138928  ...  0.276280  0.537765  0.270071   \n",
       "HYMC    0.018191  0.190664  0.108390  ...  0.089374  0.185726  0.178155   \n",
       "ABAT    0.049578  0.202218  0.089839  ... -0.023538  0.077462 -0.023517   \n",
       "HYMCL  -0.087344  0.039080 -0.012179  ... -0.009708 -0.006485 -0.036845   \n",
       "USAU    0.088652  0.091158  0.078014  ...  0.150170  0.105648  0.154083   \n",
       "...          ...       ...       ...  ...       ...       ...       ...   \n",
       "INFN    0.101086  0.229472  0.038991  ...  0.138298  0.155662  0.107629   \n",
       "CDZIP  -0.047706  0.095630 -0.051520  ...  0.067164  0.162116  0.192285   \n",
       "NNE          NaN       NaN       NaN  ...       NaN       NaN       NaN   \n",
       "NWE     0.055550  0.389195  0.175399  ...  0.116409  0.407993  0.264774   \n",
       "ALCE    0.019737  0.017658 -0.023486  ...  0.043928  0.024058  0.009725   \n",
       "\n",
       "            NEXT       SJW      INFN     CDZIP  NNE       NWE      ALCE  \n",
       "Ticker                                                                   \n",
       "UFPI    0.267073  0.338355  0.302005  0.103602  NaN  0.451092  0.060193  \n",
       "HYMC    0.231937  0.133157  0.275507  0.056519  NaN  0.193117  0.121040  \n",
       "ABAT    0.054093  0.062329  0.176765  0.020386  NaN  0.063528  0.033935  \n",
       "HYMCL   0.218882  0.041197  0.075511 -0.066864  NaN  0.040052 -0.111810  \n",
       "USAU    0.125537  0.186197  0.206021  0.008318  NaN  0.185522  0.098932  \n",
       "...          ...       ...       ...       ...  ...       ...       ...  \n",
       "INFN    0.141406  0.093484  1.000000 -0.052503  NaN  0.149209  0.011942  \n",
       "CDZIP   0.136278  0.027864 -0.052503  1.000000  NaN  0.162962  0.055130  \n",
       "NNE          NaN       NaN       NaN       NaN  1.0       NaN       NaN  \n",
       "NWE     0.271475  0.632774  0.149209  0.162962  NaN  1.000000  0.009295  \n",
       "ALCE   -0.046141 -0.000905  0.011942  0.055130  NaN  0.009295  1.000000  \n",
       "\n",
       "[509 rows x 509 columns]"
      ]
     },
     "execution_count": 2,
     "metadata": {},
     "output_type": "execute_result"
    }
   ],
   "source": [
    "matrix = pd.read_csv('data/pearson_matrix_2024-01-01_2025-01-01_top50.csv').set_index('Ticker')\n",
    "matrix"
   ]
  },
  {
   "cell_type": "code",
   "execution_count": 3,
   "metadata": {},
   "outputs": [
    {
     "data": {
      "text/html": [
       "<div>\n",
       "<style scoped>\n",
       "    .dataframe tbody tr th:only-of-type {\n",
       "        vertical-align: middle;\n",
       "    }\n",
       "\n",
       "    .dataframe tbody tr th {\n",
       "        vertical-align: top;\n",
       "    }\n",
       "\n",
       "    .dataframe thead th {\n",
       "        text-align: right;\n",
       "    }\n",
       "</style>\n",
       "<table border=\"1\" class=\"dataframe\">\n",
       "  <thead>\n",
       "    <tr style=\"text-align: right;\">\n",
       "      <th></th>\n",
       "      <th>Symbol</th>\n",
       "      <th>Name</th>\n",
       "      <th>Last Sale</th>\n",
       "      <th>Net Change</th>\n",
       "      <th>% Change</th>\n",
       "      <th>Market Cap (B)</th>\n",
       "      <th>Country</th>\n",
       "      <th>IPO Year</th>\n",
       "      <th>Volume</th>\n",
       "      <th>Sector</th>\n",
       "      <th>Industry</th>\n",
       "    </tr>\n",
       "  </thead>\n",
       "  <tbody>\n",
       "    <tr>\n",
       "      <th>0</th>\n",
       "      <td>UFPI</td>\n",
       "      <td>UFP Industries Inc. Common Stock</td>\n",
       "      <td>$115.67</td>\n",
       "      <td>-0.7900</td>\n",
       "      <td>-0.678%</td>\n",
       "      <td>7.024022</td>\n",
       "      <td>United States</td>\n",
       "      <td>1993.0</td>\n",
       "      <td>223820</td>\n",
       "      <td>Basic Materials</td>\n",
       "      <td>Forest Products</td>\n",
       "    </tr>\n",
       "    <tr>\n",
       "      <th>1</th>\n",
       "      <td>AMWD</td>\n",
       "      <td>American Woodmark Corporation Common Stock</td>\n",
       "      <td>$77.01</td>\n",
       "      <td>0.4800</td>\n",
       "      <td>0.627%</td>\n",
       "      <td>1.159322</td>\n",
       "      <td>United States</td>\n",
       "      <td>1986.0</td>\n",
       "      <td>168642</td>\n",
       "      <td>Basic Materials</td>\n",
       "      <td>Forest Products</td>\n",
       "    </tr>\n",
       "    <tr>\n",
       "      <th>2</th>\n",
       "      <td>IPX</td>\n",
       "      <td>IperionX Limited American Depositary Share</td>\n",
       "      <td>$26.52</td>\n",
       "      <td>0.1200</td>\n",
       "      <td>0.455%</td>\n",
       "      <td>0.682213</td>\n",
       "      <td>United States</td>\n",
       "      <td>NaN</td>\n",
       "      <td>50560</td>\n",
       "      <td>Basic Materials</td>\n",
       "      <td>Other Metals and Minerals</td>\n",
       "    </tr>\n",
       "    <tr>\n",
       "      <th>3</th>\n",
       "      <td>EU</td>\n",
       "      <td>enCore Energy Corp. Common Shares</td>\n",
       "      <td>$2.91</td>\n",
       "      <td>0.0600</td>\n",
       "      <td>2.105%</td>\n",
       "      <td>0.541518</td>\n",
       "      <td>United States</td>\n",
       "      <td>NaN</td>\n",
       "      <td>1091464</td>\n",
       "      <td>Basic Materials</td>\n",
       "      <td>Other Metals and Minerals</td>\n",
       "    </tr>\n",
       "    <tr>\n",
       "      <th>4</th>\n",
       "      <td>USGO</td>\n",
       "      <td>U.S. GoldMining Inc. Common stock</td>\n",
       "      <td>$12.59</td>\n",
       "      <td>1.7800</td>\n",
       "      <td>16.466%</td>\n",
       "      <td>0.156678</td>\n",
       "      <td>United States</td>\n",
       "      <td>2023.0</td>\n",
       "      <td>225247</td>\n",
       "      <td>Basic Materials</td>\n",
       "      <td>Precious Metals</td>\n",
       "    </tr>\n",
       "    <tr>\n",
       "      <th>...</th>\n",
       "      <td>...</td>\n",
       "      <td>...</td>\n",
       "      <td>...</td>\n",
       "      <td>...</td>\n",
       "      <td>...</td>\n",
       "      <td>...</td>\n",
       "      <td>...</td>\n",
       "      <td>...</td>\n",
       "      <td>...</td>\n",
       "      <td>...</td>\n",
       "      <td>...</td>\n",
       "    </tr>\n",
       "    <tr>\n",
       "      <th>524</th>\n",
       "      <td>VIVK</td>\n",
       "      <td>Vivakor Inc. Common Stock</td>\n",
       "      <td>$0.845</td>\n",
       "      <td>-0.0248</td>\n",
       "      <td>-2.851%</td>\n",
       "      <td>0.028424</td>\n",
       "      <td>United States</td>\n",
       "      <td>NaN</td>\n",
       "      <td>42549</td>\n",
       "      <td>Utilities</td>\n",
       "      <td>Environmental Services</td>\n",
       "    </tr>\n",
       "    <tr>\n",
       "      <th>525</th>\n",
       "      <td>SONM</td>\n",
       "      <td>Sonim Technologies Inc. Common Stock</td>\n",
       "      <td>$2.55</td>\n",
       "      <td>-0.0800</td>\n",
       "      <td>-3.042%</td>\n",
       "      <td>0.012423</td>\n",
       "      <td>United States</td>\n",
       "      <td>2019.0</td>\n",
       "      <td>15396</td>\n",
       "      <td>Utilities</td>\n",
       "      <td>Telecommunications Equipment</td>\n",
       "    </tr>\n",
       "    <tr>\n",
       "      <th>526</th>\n",
       "      <td>CLRO</td>\n",
       "      <td>ClearOne Inc. (DE) Common Stock</td>\n",
       "      <td>$0.4926</td>\n",
       "      <td>-0.0072</td>\n",
       "      <td>-1.441%</td>\n",
       "      <td>0.011807</td>\n",
       "      <td>United States</td>\n",
       "      <td>NaN</td>\n",
       "      <td>87213</td>\n",
       "      <td>Utilities</td>\n",
       "      <td>Telecommunications Equipment</td>\n",
       "    </tr>\n",
       "    <tr>\n",
       "      <th>527</th>\n",
       "      <td>SUNE</td>\n",
       "      <td>SUNation Energy Inc. Common Stock</td>\n",
       "      <td>$1.225</td>\n",
       "      <td>-0.0950</td>\n",
       "      <td>-7.197%</td>\n",
       "      <td>0.002223</td>\n",
       "      <td>United States</td>\n",
       "      <td>NaN</td>\n",
       "      <td>87057</td>\n",
       "      <td>Utilities</td>\n",
       "      <td>Telecommunications Equipment</td>\n",
       "    </tr>\n",
       "    <tr>\n",
       "      <th>528</th>\n",
       "      <td>ALCE</td>\n",
       "      <td>Alternus Clean Energy Inc. Class A Common Stock</td>\n",
       "      <td>$0.226</td>\n",
       "      <td>-0.0588</td>\n",
       "      <td>-20.646%</td>\n",
       "      <td>0.000000</td>\n",
       "      <td>United States</td>\n",
       "      <td>2022.0</td>\n",
       "      <td>1508724</td>\n",
       "      <td>Utilities</td>\n",
       "      <td>Power Generation</td>\n",
       "    </tr>\n",
       "  </tbody>\n",
       "</table>\n",
       "<p>529 rows × 11 columns</p>\n",
       "</div>"
      ],
      "text/plain": [
       "    Symbol                                             Name Last Sale  \\\n",
       "0     UFPI                 UFP Industries Inc. Common Stock   $115.67   \n",
       "1     AMWD       American Woodmark Corporation Common Stock    $77.01   \n",
       "2      IPX       IperionX Limited American Depositary Share    $26.52   \n",
       "3       EU                enCore Energy Corp. Common Shares     $2.91   \n",
       "4     USGO                U.S. GoldMining Inc. Common stock    $12.59   \n",
       "..     ...                                              ...       ...   \n",
       "524   VIVK                        Vivakor Inc. Common Stock    $0.845   \n",
       "525   SONM             Sonim Technologies Inc. Common Stock     $2.55   \n",
       "526   CLRO                  ClearOne Inc. (DE) Common Stock   $0.4926   \n",
       "527   SUNE                SUNation Energy Inc. Common Stock    $1.225   \n",
       "528   ALCE  Alternus Clean Energy Inc. Class A Common Stock    $0.226   \n",
       "\n",
       "     Net Change  % Change  Market Cap (B)        Country  IPO Year   Volume  \\\n",
       "0       -0.7900   -0.678%        7.024022  United States    1993.0   223820   \n",
       "1        0.4800    0.627%        1.159322  United States    1986.0   168642   \n",
       "2        0.1200    0.455%        0.682213  United States       NaN    50560   \n",
       "3        0.0600    2.105%        0.541518  United States       NaN  1091464   \n",
       "4        1.7800   16.466%        0.156678  United States    2023.0   225247   \n",
       "..          ...       ...             ...            ...       ...      ...   \n",
       "524     -0.0248   -2.851%        0.028424  United States       NaN    42549   \n",
       "525     -0.0800   -3.042%        0.012423  United States    2019.0    15396   \n",
       "526     -0.0072   -1.441%        0.011807  United States       NaN    87213   \n",
       "527     -0.0950   -7.197%        0.002223  United States       NaN    87057   \n",
       "528     -0.0588  -20.646%        0.000000  United States    2022.0  1508724   \n",
       "\n",
       "              Sector                      Industry  \n",
       "0    Basic Materials               Forest Products  \n",
       "1    Basic Materials               Forest Products  \n",
       "2    Basic Materials     Other Metals and Minerals  \n",
       "3    Basic Materials     Other Metals and Minerals  \n",
       "4    Basic Materials               Precious Metals  \n",
       "..               ...                           ...  \n",
       "524        Utilities        Environmental Services  \n",
       "525        Utilities  Telecommunications Equipment  \n",
       "526        Utilities  Telecommunications Equipment  \n",
       "527        Utilities  Telecommunications Equipment  \n",
       "528        Utilities              Power Generation  \n",
       "\n",
       "[529 rows x 11 columns]"
      ]
     },
     "execution_count": 3,
     "metadata": {},
     "output_type": "execute_result"
    }
   ],
   "source": [
    "labels = pd.read_csv('data/top_50_companies_by_sector.csv')\n",
    "labels\n"
   ]
  },
  {
   "cell_type": "code",
   "execution_count": 4,
   "metadata": {},
   "outputs": [
    {
     "data": {
      "application/vnd.plotly.v1+json": {
       "config": {
        "plotlyServerURL": "https://plot.ly"
       },
       "data": [
        {
         "hovertemplate": "x=%{x}<br>y=%{y}<extra></extra>",
         "legendgroup": "",
         "line": {
          "color": "#636efa",
          "dash": "solid"
         },
         "marker": {
          "symbol": "circle"
         },
         "mode": "lines",
         "name": "",
         "orientation": "v",
         "showlegend": false,
         "type": "scatter",
         "x": [
          0,
          0.01,
          0.02,
          0.03,
          0.04,
          0.05,
          0.06,
          0.07,
          0.08,
          0.09,
          0.1,
          0.11,
          0.12,
          0.13,
          0.14,
          0.15,
          0.16,
          0.17,
          0.18,
          0.19,
          0.2,
          0.21,
          0.22,
          0.23,
          0.24,
          0.25,
          0.26,
          0.27,
          0.28,
          0.29,
          0.3,
          0.31,
          0.32,
          0.33,
          0.34,
          0.35000000000000003,
          0.36,
          0.37,
          0.38,
          0.39,
          0.4,
          0.41000000000000003,
          0.42,
          0.43,
          0.44,
          0.45,
          0.46,
          0.47000000000000003,
          0.48,
          0.49,
          0.5,
          0.51,
          0.52,
          0.53,
          0.54,
          0.55,
          0.56,
          0.5700000000000001,
          0.58,
          0.59,
          0.6,
          0.61,
          0.62,
          0.63,
          0.64,
          0.65,
          0.66,
          0.67,
          0.68,
          0.6900000000000001,
          0.7000000000000001,
          0.71,
          0.72,
          0.73,
          0.74,
          0.75,
          0.76,
          0.77,
          0.78,
          0.79,
          0.8,
          0.81,
          0.8200000000000001,
          0.8300000000000001,
          0.84,
          0.85,
          0.86,
          0.87,
          0.88,
          0.89,
          0.9,
          0.91,
          0.92,
          0.93,
          0.9400000000000001,
          0.9500000000000001,
          0.96,
          0.97,
          0.98,
          0.99,
          1
         ],
         "xaxis": "x",
         "y": [
          113889,
          111521,
          108987,
          105998,
          102947,
          99666,
          96216,
          92614,
          88964,
          85209,
          81353,
          77482,
          73730,
          69881,
          66105,
          62484,
          58744,
          55011,
          51351,
          47915,
          44619,
          41312,
          37989,
          34938,
          32025,
          29302,
          26612,
          24129,
          21829,
          19699,
          17673,
          15795,
          14119,
          12547,
          11049,
          9703,
          8436,
          7395,
          6381,
          5533,
          4773,
          4110,
          3563,
          3055,
          2593,
          2236,
          1925,
          1622,
          1400,
          1197,
          1029,
          906,
          809,
          707,
          621,
          542,
          476,
          425,
          380,
          329,
          294,
          271,
          248,
          227,
          209,
          195,
          177,
          160,
          147,
          135,
          121,
          111,
          104,
          98,
          87,
          78,
          69,
          60,
          49,
          44,
          40,
          36,
          29,
          24,
          23,
          17,
          14,
          14,
          12,
          12,
          11,
          11,
          10,
          9,
          9,
          9,
          6,
          6,
          4,
          4,
          0
         ],
         "yaxis": "y"
        }
       ],
       "layout": {
        "legend": {
         "tracegroupgap": 0
        },
        "template": {
         "data": {
          "bar": [
           {
            "error_x": {
             "color": "#2a3f5f"
            },
            "error_y": {
             "color": "#2a3f5f"
            },
            "marker": {
             "line": {
              "color": "#E5ECF6",
              "width": 0.5
             },
             "pattern": {
              "fillmode": "overlay",
              "size": 10,
              "solidity": 0.2
             }
            },
            "type": "bar"
           }
          ],
          "barpolar": [
           {
            "marker": {
             "line": {
              "color": "#E5ECF6",
              "width": 0.5
             },
             "pattern": {
              "fillmode": "overlay",
              "size": 10,
              "solidity": 0.2
             }
            },
            "type": "barpolar"
           }
          ],
          "carpet": [
           {
            "aaxis": {
             "endlinecolor": "#2a3f5f",
             "gridcolor": "white",
             "linecolor": "white",
             "minorgridcolor": "white",
             "startlinecolor": "#2a3f5f"
            },
            "baxis": {
             "endlinecolor": "#2a3f5f",
             "gridcolor": "white",
             "linecolor": "white",
             "minorgridcolor": "white",
             "startlinecolor": "#2a3f5f"
            },
            "type": "carpet"
           }
          ],
          "choropleth": [
           {
            "colorbar": {
             "outlinewidth": 0,
             "ticks": ""
            },
            "type": "choropleth"
           }
          ],
          "contour": [
           {
            "colorbar": {
             "outlinewidth": 0,
             "ticks": ""
            },
            "colorscale": [
             [
              0,
              "#0d0887"
             ],
             [
              0.1111111111111111,
              "#46039f"
             ],
             [
              0.2222222222222222,
              "#7201a8"
             ],
             [
              0.3333333333333333,
              "#9c179e"
             ],
             [
              0.4444444444444444,
              "#bd3786"
             ],
             [
              0.5555555555555556,
              "#d8576b"
             ],
             [
              0.6666666666666666,
              "#ed7953"
             ],
             [
              0.7777777777777778,
              "#fb9f3a"
             ],
             [
              0.8888888888888888,
              "#fdca26"
             ],
             [
              1,
              "#f0f921"
             ]
            ],
            "type": "contour"
           }
          ],
          "contourcarpet": [
           {
            "colorbar": {
             "outlinewidth": 0,
             "ticks": ""
            },
            "type": "contourcarpet"
           }
          ],
          "heatmap": [
           {
            "colorbar": {
             "outlinewidth": 0,
             "ticks": ""
            },
            "colorscale": [
             [
              0,
              "#0d0887"
             ],
             [
              0.1111111111111111,
              "#46039f"
             ],
             [
              0.2222222222222222,
              "#7201a8"
             ],
             [
              0.3333333333333333,
              "#9c179e"
             ],
             [
              0.4444444444444444,
              "#bd3786"
             ],
             [
              0.5555555555555556,
              "#d8576b"
             ],
             [
              0.6666666666666666,
              "#ed7953"
             ],
             [
              0.7777777777777778,
              "#fb9f3a"
             ],
             [
              0.8888888888888888,
              "#fdca26"
             ],
             [
              1,
              "#f0f921"
             ]
            ],
            "type": "heatmap"
           }
          ],
          "heatmapgl": [
           {
            "colorbar": {
             "outlinewidth": 0,
             "ticks": ""
            },
            "colorscale": [
             [
              0,
              "#0d0887"
             ],
             [
              0.1111111111111111,
              "#46039f"
             ],
             [
              0.2222222222222222,
              "#7201a8"
             ],
             [
              0.3333333333333333,
              "#9c179e"
             ],
             [
              0.4444444444444444,
              "#bd3786"
             ],
             [
              0.5555555555555556,
              "#d8576b"
             ],
             [
              0.6666666666666666,
              "#ed7953"
             ],
             [
              0.7777777777777778,
              "#fb9f3a"
             ],
             [
              0.8888888888888888,
              "#fdca26"
             ],
             [
              1,
              "#f0f921"
             ]
            ],
            "type": "heatmapgl"
           }
          ],
          "histogram": [
           {
            "marker": {
             "pattern": {
              "fillmode": "overlay",
              "size": 10,
              "solidity": 0.2
             }
            },
            "type": "histogram"
           }
          ],
          "histogram2d": [
           {
            "colorbar": {
             "outlinewidth": 0,
             "ticks": ""
            },
            "colorscale": [
             [
              0,
              "#0d0887"
             ],
             [
              0.1111111111111111,
              "#46039f"
             ],
             [
              0.2222222222222222,
              "#7201a8"
             ],
             [
              0.3333333333333333,
              "#9c179e"
             ],
             [
              0.4444444444444444,
              "#bd3786"
             ],
             [
              0.5555555555555556,
              "#d8576b"
             ],
             [
              0.6666666666666666,
              "#ed7953"
             ],
             [
              0.7777777777777778,
              "#fb9f3a"
             ],
             [
              0.8888888888888888,
              "#fdca26"
             ],
             [
              1,
              "#f0f921"
             ]
            ],
            "type": "histogram2d"
           }
          ],
          "histogram2dcontour": [
           {
            "colorbar": {
             "outlinewidth": 0,
             "ticks": ""
            },
            "colorscale": [
             [
              0,
              "#0d0887"
             ],
             [
              0.1111111111111111,
              "#46039f"
             ],
             [
              0.2222222222222222,
              "#7201a8"
             ],
             [
              0.3333333333333333,
              "#9c179e"
             ],
             [
              0.4444444444444444,
              "#bd3786"
             ],
             [
              0.5555555555555556,
              "#d8576b"
             ],
             [
              0.6666666666666666,
              "#ed7953"
             ],
             [
              0.7777777777777778,
              "#fb9f3a"
             ],
             [
              0.8888888888888888,
              "#fdca26"
             ],
             [
              1,
              "#f0f921"
             ]
            ],
            "type": "histogram2dcontour"
           }
          ],
          "mesh3d": [
           {
            "colorbar": {
             "outlinewidth": 0,
             "ticks": ""
            },
            "type": "mesh3d"
           }
          ],
          "parcoords": [
           {
            "line": {
             "colorbar": {
              "outlinewidth": 0,
              "ticks": ""
             }
            },
            "type": "parcoords"
           }
          ],
          "pie": [
           {
            "automargin": true,
            "type": "pie"
           }
          ],
          "scatter": [
           {
            "fillpattern": {
             "fillmode": "overlay",
             "size": 10,
             "solidity": 0.2
            },
            "type": "scatter"
           }
          ],
          "scatter3d": [
           {
            "line": {
             "colorbar": {
              "outlinewidth": 0,
              "ticks": ""
             }
            },
            "marker": {
             "colorbar": {
              "outlinewidth": 0,
              "ticks": ""
             }
            },
            "type": "scatter3d"
           }
          ],
          "scattercarpet": [
           {
            "marker": {
             "colorbar": {
              "outlinewidth": 0,
              "ticks": ""
             }
            },
            "type": "scattercarpet"
           }
          ],
          "scattergeo": [
           {
            "marker": {
             "colorbar": {
              "outlinewidth": 0,
              "ticks": ""
             }
            },
            "type": "scattergeo"
           }
          ],
          "scattergl": [
           {
            "marker": {
             "colorbar": {
              "outlinewidth": 0,
              "ticks": ""
             }
            },
            "type": "scattergl"
           }
          ],
          "scattermapbox": [
           {
            "marker": {
             "colorbar": {
              "outlinewidth": 0,
              "ticks": ""
             }
            },
            "type": "scattermapbox"
           }
          ],
          "scatterpolar": [
           {
            "marker": {
             "colorbar": {
              "outlinewidth": 0,
              "ticks": ""
             }
            },
            "type": "scatterpolar"
           }
          ],
          "scatterpolargl": [
           {
            "marker": {
             "colorbar": {
              "outlinewidth": 0,
              "ticks": ""
             }
            },
            "type": "scatterpolargl"
           }
          ],
          "scatterternary": [
           {
            "marker": {
             "colorbar": {
              "outlinewidth": 0,
              "ticks": ""
             }
            },
            "type": "scatterternary"
           }
          ],
          "surface": [
           {
            "colorbar": {
             "outlinewidth": 0,
             "ticks": ""
            },
            "colorscale": [
             [
              0,
              "#0d0887"
             ],
             [
              0.1111111111111111,
              "#46039f"
             ],
             [
              0.2222222222222222,
              "#7201a8"
             ],
             [
              0.3333333333333333,
              "#9c179e"
             ],
             [
              0.4444444444444444,
              "#bd3786"
             ],
             [
              0.5555555555555556,
              "#d8576b"
             ],
             [
              0.6666666666666666,
              "#ed7953"
             ],
             [
              0.7777777777777778,
              "#fb9f3a"
             ],
             [
              0.8888888888888888,
              "#fdca26"
             ],
             [
              1,
              "#f0f921"
             ]
            ],
            "type": "surface"
           }
          ],
          "table": [
           {
            "cells": {
             "fill": {
              "color": "#EBF0F8"
             },
             "line": {
              "color": "white"
             }
            },
            "header": {
             "fill": {
              "color": "#C8D4E3"
             },
             "line": {
              "color": "white"
             }
            },
            "type": "table"
           }
          ]
         },
         "layout": {
          "annotationdefaults": {
           "arrowcolor": "#2a3f5f",
           "arrowhead": 0,
           "arrowwidth": 1
          },
          "autotypenumbers": "strict",
          "coloraxis": {
           "colorbar": {
            "outlinewidth": 0,
            "ticks": ""
           }
          },
          "colorscale": {
           "diverging": [
            [
             0,
             "#8e0152"
            ],
            [
             0.1,
             "#c51b7d"
            ],
            [
             0.2,
             "#de77ae"
            ],
            [
             0.3,
             "#f1b6da"
            ],
            [
             0.4,
             "#fde0ef"
            ],
            [
             0.5,
             "#f7f7f7"
            ],
            [
             0.6,
             "#e6f5d0"
            ],
            [
             0.7,
             "#b8e186"
            ],
            [
             0.8,
             "#7fbc41"
            ],
            [
             0.9,
             "#4d9221"
            ],
            [
             1,
             "#276419"
            ]
           ],
           "sequential": [
            [
             0,
             "#0d0887"
            ],
            [
             0.1111111111111111,
             "#46039f"
            ],
            [
             0.2222222222222222,
             "#7201a8"
            ],
            [
             0.3333333333333333,
             "#9c179e"
            ],
            [
             0.4444444444444444,
             "#bd3786"
            ],
            [
             0.5555555555555556,
             "#d8576b"
            ],
            [
             0.6666666666666666,
             "#ed7953"
            ],
            [
             0.7777777777777778,
             "#fb9f3a"
            ],
            [
             0.8888888888888888,
             "#fdca26"
            ],
            [
             1,
             "#f0f921"
            ]
           ],
           "sequentialminus": [
            [
             0,
             "#0d0887"
            ],
            [
             0.1111111111111111,
             "#46039f"
            ],
            [
             0.2222222222222222,
             "#7201a8"
            ],
            [
             0.3333333333333333,
             "#9c179e"
            ],
            [
             0.4444444444444444,
             "#bd3786"
            ],
            [
             0.5555555555555556,
             "#d8576b"
            ],
            [
             0.6666666666666666,
             "#ed7953"
            ],
            [
             0.7777777777777778,
             "#fb9f3a"
            ],
            [
             0.8888888888888888,
             "#fdca26"
            ],
            [
             1,
             "#f0f921"
            ]
           ]
          },
          "colorway": [
           "#636efa",
           "#EF553B",
           "#00cc96",
           "#ab63fa",
           "#FFA15A",
           "#19d3f3",
           "#FF6692",
           "#B6E880",
           "#FF97FF",
           "#FECB52"
          ],
          "font": {
           "color": "#2a3f5f"
          },
          "geo": {
           "bgcolor": "white",
           "lakecolor": "white",
           "landcolor": "#E5ECF6",
           "showlakes": true,
           "showland": true,
           "subunitcolor": "white"
          },
          "hoverlabel": {
           "align": "left"
          },
          "hovermode": "closest",
          "mapbox": {
           "style": "light"
          },
          "paper_bgcolor": "white",
          "plot_bgcolor": "#E5ECF6",
          "polar": {
           "angularaxis": {
            "gridcolor": "white",
            "linecolor": "white",
            "ticks": ""
           },
           "bgcolor": "#E5ECF6",
           "radialaxis": {
            "gridcolor": "white",
            "linecolor": "white",
            "ticks": ""
           }
          },
          "scene": {
           "xaxis": {
            "backgroundcolor": "#E5ECF6",
            "gridcolor": "white",
            "gridwidth": 2,
            "linecolor": "white",
            "showbackground": true,
            "ticks": "",
            "zerolinecolor": "white"
           },
           "yaxis": {
            "backgroundcolor": "#E5ECF6",
            "gridcolor": "white",
            "gridwidth": 2,
            "linecolor": "white",
            "showbackground": true,
            "ticks": "",
            "zerolinecolor": "white"
           },
           "zaxis": {
            "backgroundcolor": "#E5ECF6",
            "gridcolor": "white",
            "gridwidth": 2,
            "linecolor": "white",
            "showbackground": true,
            "ticks": "",
            "zerolinecolor": "white"
           }
          },
          "shapedefaults": {
           "line": {
            "color": "#2a3f5f"
           }
          },
          "ternary": {
           "aaxis": {
            "gridcolor": "white",
            "linecolor": "white",
            "ticks": ""
           },
           "baxis": {
            "gridcolor": "white",
            "linecolor": "white",
            "ticks": ""
           },
           "bgcolor": "#E5ECF6",
           "caxis": {
            "gridcolor": "white",
            "linecolor": "white",
            "ticks": ""
           }
          },
          "title": {
           "x": 0.05
          },
          "xaxis": {
           "automargin": true,
           "gridcolor": "white",
           "linecolor": "white",
           "ticks": "",
           "title": {
            "standoff": 15
           },
           "zerolinecolor": "white",
           "zerolinewidth": 2
          },
          "yaxis": {
           "automargin": true,
           "gridcolor": "white",
           "linecolor": "white",
           "ticks": "",
           "title": {
            "standoff": 15
           },
           "zerolinecolor": "white",
           "zerolinewidth": 2
          }
         }
        },
        "title": {
         "text": "Number of Edges vs Threshold"
        },
        "xaxis": {
         "anchor": "y",
         "domain": [
          0,
          1
         ],
         "title": {
          "text": "x"
         }
        },
        "yaxis": {
         "anchor": "x",
         "domain": [
          0,
          1
         ],
         "title": {
          "text": "y"
         }
        }
       }
      }
     },
     "metadata": {},
     "output_type": "display_data"
    }
   ],
   "source": [
    "upper_triangle = np.triu(matrix, k=1)\n",
    "num_edges = []\n",
    "for r in np.linspace(0, 1, 101):\n",
    "    row_indices, col_indices = np.where(upper_triangle > r)\n",
    "    num_edges.append(len(row_indices))\n",
    "px.line(x=np.linspace(0, 1, 101), y=num_edges, title='Number of Edges vs Threshold')\n"
   ]
  },
  {
   "cell_type": "code",
   "execution_count": 5,
   "metadata": {},
   "outputs": [
    {
     "name": "stdout",
     "output_type": "stream",
     "text": [
      "1029\n"
     ]
    },
    {
     "data": {
      "text/html": [
       "<div>\n",
       "<style scoped>\n",
       "    .dataframe tbody tr th:only-of-type {\n",
       "        vertical-align: middle;\n",
       "    }\n",
       "\n",
       "    .dataframe tbody tr th {\n",
       "        vertical-align: top;\n",
       "    }\n",
       "\n",
       "    .dataframe thead th {\n",
       "        text-align: right;\n",
       "    }\n",
       "</style>\n",
       "<table border=\"1\" class=\"dataframe\">\n",
       "  <thead>\n",
       "    <tr style=\"text-align: right;\">\n",
       "      <th></th>\n",
       "      <th>source</th>\n",
       "      <th>target</th>\n",
       "      <th>value</th>\n",
       "    </tr>\n",
       "  </thead>\n",
       "  <tbody>\n",
       "    <tr>\n",
       "      <th>0</th>\n",
       "      <td>AMWD</td>\n",
       "      <td>UFPI</td>\n",
       "      <td>0.721342</td>\n",
       "    </tr>\n",
       "    <tr>\n",
       "      <th>1</th>\n",
       "      <td>POOL</td>\n",
       "      <td>UFPI</td>\n",
       "      <td>0.688887</td>\n",
       "    </tr>\n",
       "    <tr>\n",
       "      <th>2</th>\n",
       "      <td>LKQ</td>\n",
       "      <td>UFPI</td>\n",
       "      <td>0.563399</td>\n",
       "    </tr>\n",
       "    <tr>\n",
       "      <th>3</th>\n",
       "      <td>ZG</td>\n",
       "      <td>UFPI</td>\n",
       "      <td>0.567638</td>\n",
       "    </tr>\n",
       "    <tr>\n",
       "      <th>4</th>\n",
       "      <td>Z</td>\n",
       "      <td>UFPI</td>\n",
       "      <td>0.551970</td>\n",
       "    </tr>\n",
       "    <tr>\n",
       "      <th>...</th>\n",
       "      <td>...</td>\n",
       "      <td>...</td>\n",
       "      <td>...</td>\n",
       "    </tr>\n",
       "    <tr>\n",
       "      <th>1024</th>\n",
       "      <td>SJW</td>\n",
       "      <td>LNT</td>\n",
       "      <td>0.575326</td>\n",
       "    </tr>\n",
       "    <tr>\n",
       "      <th>1025</th>\n",
       "      <td>NWE</td>\n",
       "      <td>LNT</td>\n",
       "      <td>0.681833</td>\n",
       "    </tr>\n",
       "    <tr>\n",
       "      <th>1026</th>\n",
       "      <td>SJW</td>\n",
       "      <td>EVRG</td>\n",
       "      <td>0.509256</td>\n",
       "    </tr>\n",
       "    <tr>\n",
       "      <th>1027</th>\n",
       "      <td>NWE</td>\n",
       "      <td>EVRG</td>\n",
       "      <td>0.668620</td>\n",
       "    </tr>\n",
       "    <tr>\n",
       "      <th>1028</th>\n",
       "      <td>NWE</td>\n",
       "      <td>SJW</td>\n",
       "      <td>0.632774</td>\n",
       "    </tr>\n",
       "  </tbody>\n",
       "</table>\n",
       "<p>1029 rows × 3 columns</p>\n",
       "</div>"
      ],
      "text/plain": [
       "     source target     value\n",
       "0      AMWD   UFPI  0.721342\n",
       "1      POOL   UFPI  0.688887\n",
       "2       LKQ   UFPI  0.563399\n",
       "3        ZG   UFPI  0.567638\n",
       "4         Z   UFPI  0.551970\n",
       "...     ...    ...       ...\n",
       "1024    SJW    LNT  0.575326\n",
       "1025    NWE    LNT  0.681833\n",
       "1026    SJW   EVRG  0.509256\n",
       "1027    NWE   EVRG  0.668620\n",
       "1028    NWE    SJW  0.632774\n",
       "\n",
       "[1029 rows x 3 columns]"
      ]
     },
     "execution_count": 5,
     "metadata": {},
     "output_type": "execute_result"
    }
   ],
   "source": [
    "upper_triangle = np.triu(matrix, k=1)\n",
    "row_indices, col_indices = np.where(upper_triangle > 0.5)\n",
    "print(len(row_indices))\n",
    "links = pd.DataFrame({\n",
    "    'source': matrix.columns[col_indices],\n",
    "    'target': matrix.columns[row_indices],\n",
    "    'value': upper_triangle[row_indices, col_indices]\n",
    "})\n",
    "links"
   ]
  },
  {
   "cell_type": "code",
   "execution_count": 6,
   "metadata": {},
   "outputs": [
    {
     "data": {
      "text/html": [
       "<div>\n",
       "<style scoped>\n",
       "    .dataframe tbody tr th:only-of-type {\n",
       "        vertical-align: middle;\n",
       "    }\n",
       "\n",
       "    .dataframe tbody tr th {\n",
       "        vertical-align: top;\n",
       "    }\n",
       "\n",
       "    .dataframe thead th {\n",
       "        text-align: right;\n",
       "    }\n",
       "</style>\n",
       "<table border=\"1\" class=\"dataframe\">\n",
       "  <thead>\n",
       "    <tr style=\"text-align: right;\">\n",
       "      <th></th>\n",
       "      <th>id</th>\n",
       "      <th>group</th>\n",
       "      <th>marketCap</th>\n",
       "      <th>price</th>\n",
       "    </tr>\n",
       "  </thead>\n",
       "  <tbody>\n",
       "    <tr>\n",
       "      <th>0</th>\n",
       "      <td>UFPI</td>\n",
       "      <td>Basic Materials</td>\n",
       "      <td>7.024022</td>\n",
       "      <td>$115.67</td>\n",
       "    </tr>\n",
       "    <tr>\n",
       "      <th>1</th>\n",
       "      <td>AMWD</td>\n",
       "      <td>Basic Materials</td>\n",
       "      <td>1.159322</td>\n",
       "      <td>$77.01</td>\n",
       "    </tr>\n",
       "    <tr>\n",
       "      <th>13</th>\n",
       "      <td>AMZN</td>\n",
       "      <td>Consumer Discretionary</td>\n",
       "      <td>2466.727484</td>\n",
       "      <td>$232.76</td>\n",
       "    </tr>\n",
       "    <tr>\n",
       "      <th>15</th>\n",
       "      <td>COST</td>\n",
       "      <td>Consumer Discretionary</td>\n",
       "      <td>469.795930</td>\n",
       "      <td>$1058.34</td>\n",
       "    </tr>\n",
       "    <tr>\n",
       "      <th>16</th>\n",
       "      <td>NFLX</td>\n",
       "      <td>Consumer Discretionary</td>\n",
       "      <td>431.213377</td>\n",
       "      <td>$1008.08</td>\n",
       "    </tr>\n",
       "    <tr>\n",
       "      <th>...</th>\n",
       "      <td>...</td>\n",
       "      <td>...</td>\n",
       "      <td>...</td>\n",
       "      <td>...</td>\n",
       "    </tr>\n",
       "    <tr>\n",
       "      <th>513</th>\n",
       "      <td>CLFD</td>\n",
       "      <td>Utilities</td>\n",
       "      <td>0.482309</td>\n",
       "      <td>$34.13</td>\n",
       "    </tr>\n",
       "    <tr>\n",
       "      <th>514</th>\n",
       "      <td>YORW</td>\n",
       "      <td>Utilities</td>\n",
       "      <td>0.462704</td>\n",
       "      <td>$32.19</td>\n",
       "    </tr>\n",
       "    <tr>\n",
       "      <th>516</th>\n",
       "      <td>ARTNA</td>\n",
       "      <td>Utilities</td>\n",
       "      <td>0.316662</td>\n",
       "      <td>$30.75</td>\n",
       "    </tr>\n",
       "    <tr>\n",
       "      <th>517</th>\n",
       "      <td>PCYO</td>\n",
       "      <td>Utilities</td>\n",
       "      <td>0.280255</td>\n",
       "      <td>$11.64</td>\n",
       "    </tr>\n",
       "    <tr>\n",
       "      <th>519</th>\n",
       "      <td>RGCO</td>\n",
       "      <td>Utilities</td>\n",
       "      <td>0.219632</td>\n",
       "      <td>$21.40</td>\n",
       "    </tr>\n",
       "  </tbody>\n",
       "</table>\n",
       "<p>230 rows × 4 columns</p>\n",
       "</div>"
      ],
      "text/plain": [
       "        id                   group    marketCap     price\n",
       "0     UFPI         Basic Materials     7.024022   $115.67\n",
       "1     AMWD         Basic Materials     1.159322    $77.01\n",
       "13    AMZN  Consumer Discretionary  2466.727484   $232.76\n",
       "15    COST  Consumer Discretionary   469.795930  $1058.34\n",
       "16    NFLX  Consumer Discretionary   431.213377  $1008.08\n",
       "..     ...                     ...          ...       ...\n",
       "513   CLFD               Utilities     0.482309    $34.13\n",
       "514   YORW               Utilities     0.462704    $32.19\n",
       "516  ARTNA               Utilities     0.316662    $30.75\n",
       "517   PCYO               Utilities     0.280255    $11.64\n",
       "519   RGCO               Utilities     0.219632    $21.40\n",
       "\n",
       "[230 rows x 4 columns]"
      ]
     },
     "execution_count": 6,
     "metadata": {},
     "output_type": "execute_result"
    }
   ],
   "source": [
    "relevant_nodes = set(links['source'].unique()) | set(links['target'].unique())\n",
    "nodes = (labels[labels['Symbol']\n",
    "        .isin(relevant_nodes)]\n",
    "        [['Symbol', 'Sector', 'Market Cap (B)', 'Last Sale']]\n",
    "        .rename(columns={\n",
    "            'Symbol': 'id',\n",
    "            'Sector': 'group',\n",
    "            'Market Cap (B)': 'marketCap',\n",
    "            'Last Sale': 'price'\n",
    "            })\n",
    "        )\n",
    "nodes"
   ]
  },
  {
   "cell_type": "code",
   "execution_count": 7,
   "metadata": {},
   "outputs": [],
   "source": [
    "nodes.to_json('stock_visualization/data/nodes.json', orient='records')\n",
    "links.to_json('stock_visualization/data/links.json', orient='records')"
   ]
  },
  {
   "cell_type": "code",
   "execution_count": 8,
   "metadata": {},
   "outputs": [],
   "source": [
    "json_data = {\n",
    "    'nodes': nodes.to_dict(orient='records'),\n",
    "    'links': links.to_dict(orient='records')\n",
    "}\n",
    "\n",
    "file_path = 'stock_visualization/data/pearson_stock_graph.json'\n",
    "\n",
    "import json\n",
    "with open(file_path, 'w') as json_file:\n",
    "    json.dump(json_data, json_file, indent=4)"
   ]
  }
 ],
 "metadata": {
  "kernelspec": {
   "display_name": "DR",
   "language": "python",
   "name": "python3"
  },
  "language_info": {
   "codemirror_mode": {
    "name": "ipython",
    "version": 3
   },
   "file_extension": ".py",
   "mimetype": "text/x-python",
   "name": "python",
   "nbconvert_exporter": "python",
   "pygments_lexer": "ipython3",
   "version": "3.12.4"
  }
 },
 "nbformat": 4,
 "nbformat_minor": 2
}
