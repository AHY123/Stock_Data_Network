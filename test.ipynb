{
 "cells": [
  {
   "cell_type": "code",
   "execution_count": 1,
   "metadata": {},
   "outputs": [],
   "source": [
    "import pandas as pd\n",
    "import numpy as np\n",
    "import scipy as sp\n",
    "import statsmodels as sm\n",
    "from pathlib import Path\n",
    "import yfinance as yf\n",
    "import matplotlib.pyplot as plt"
   ]
  },
  {
   "cell_type": "code",
   "execution_count": 2,
   "metadata": {},
   "outputs": [
    {
     "data": {
      "text/html": [
       "<div>\n",
       "<style scoped>\n",
       "    .dataframe tbody tr th:only-of-type {\n",
       "        vertical-align: middle;\n",
       "    }\n",
       "\n",
       "    .dataframe tbody tr th {\n",
       "        vertical-align: top;\n",
       "    }\n",
       "\n",
       "    .dataframe thead th {\n",
       "        text-align: right;\n",
       "    }\n",
       "</style>\n",
       "<table border=\"1\" class=\"dataframe\">\n",
       "  <thead>\n",
       "    <tr style=\"text-align: right;\">\n",
       "      <th></th>\n",
       "      <th>Symbol</th>\n",
       "      <th>Name</th>\n",
       "      <th>Last Sale</th>\n",
       "      <th>Net Change</th>\n",
       "      <th>% Change</th>\n",
       "      <th>Market Cap (B)</th>\n",
       "      <th>Country</th>\n",
       "      <th>IPO Year</th>\n",
       "      <th>Volume</th>\n",
       "      <th>Sector</th>\n",
       "      <th>Industry</th>\n",
       "    </tr>\n",
       "  </thead>\n",
       "  <tbody>\n",
       "    <tr>\n",
       "      <th>50</th>\n",
       "      <td>ISRG</td>\n",
       "      <td>Intuitive Surgical Inc. Common Stock</td>\n",
       "      <td>$591.65</td>\n",
       "      <td>-4.05</td>\n",
       "      <td>-0.68%</td>\n",
       "      <td>211.016093</td>\n",
       "      <td>United States</td>\n",
       "      <td>2000.0</td>\n",
       "      <td>837053</td>\n",
       "      <td>Health Care</td>\n",
       "      <td>Industrial Specialties</td>\n",
       "    </tr>\n",
       "    <tr>\n",
       "      <th>96</th>\n",
       "      <td>AVGO</td>\n",
       "      <td>Broadcom Inc. Common Stock</td>\n",
       "      <td>$235.04</td>\n",
       "      <td>0.00</td>\n",
       "      <td>0.00%</td>\n",
       "      <td>1101.716191</td>\n",
       "      <td>United States</td>\n",
       "      <td>2009.0</td>\n",
       "      <td>18461539</td>\n",
       "      <td>Technology</td>\n",
       "      <td>Semiconductors</td>\n",
       "    </tr>\n",
       "    <tr>\n",
       "      <th>110</th>\n",
       "      <td>CEG</td>\n",
       "      <td>Constellation Energy Corporation Common Stock</td>\n",
       "      <td>$313.58</td>\n",
       "      <td>-8.25</td>\n",
       "      <td>-2.563%</td>\n",
       "      <td>98.077350</td>\n",
       "      <td>United States</td>\n",
       "      <td>NaN</td>\n",
       "      <td>2642336</td>\n",
       "      <td>Utilities</td>\n",
       "      <td>Electric Utilities: Central</td>\n",
       "    </tr>\n",
       "    <tr>\n",
       "      <th>2</th>\n",
       "      <td>IPX</td>\n",
       "      <td>IperionX Limited American Depositary Share</td>\n",
       "      <td>$26.52</td>\n",
       "      <td>0.12</td>\n",
       "      <td>0.455%</td>\n",
       "      <td>0.682213</td>\n",
       "      <td>United States</td>\n",
       "      <td>NaN</td>\n",
       "      <td>50560</td>\n",
       "      <td>Basic Materials</td>\n",
       "      <td>Other Metals and Minerals</td>\n",
       "    </tr>\n",
       "    <tr>\n",
       "      <th>92</th>\n",
       "      <td>MSFT</td>\n",
       "      <td>Microsoft Corporation Common Stock</td>\n",
       "      <td>$411.44</td>\n",
       "      <td>-0.78</td>\n",
       "      <td>-0.189%</td>\n",
       "      <td>3058.637651</td>\n",
       "      <td>United States</td>\n",
       "      <td>1986.0</td>\n",
       "      <td>18122243</td>\n",
       "      <td>Technology</td>\n",
       "      <td>Computer Software: Prepackaged Software</td>\n",
       "    </tr>\n",
       "    <tr>\n",
       "      <th>78</th>\n",
       "      <td>MVST</td>\n",
       "      <td>Microvast Holdings Inc. Common Stock</td>\n",
       "      <td>$1.79</td>\n",
       "      <td>0.11</td>\n",
       "      <td>6.548%</td>\n",
       "      <td>0.579629</td>\n",
       "      <td>United States</td>\n",
       "      <td>2019.0</td>\n",
       "      <td>9350708</td>\n",
       "      <td>Miscellaneous</td>\n",
       "      <td>Industrial Machinery/Components</td>\n",
       "    </tr>\n",
       "    <tr>\n",
       "      <th>113</th>\n",
       "      <td>XEL</td>\n",
       "      <td>Xcel Energy Inc. Common Stock</td>\n",
       "      <td>$67.19</td>\n",
       "      <td>0.31</td>\n",
       "      <td>0.464%</td>\n",
       "      <td>38.583303</td>\n",
       "      <td>United States</td>\n",
       "      <td>NaN</td>\n",
       "      <td>2284291</td>\n",
       "      <td>Utilities</td>\n",
       "      <td>Power Generation</td>\n",
       "    </tr>\n",
       "    <tr>\n",
       "      <th>103</th>\n",
       "      <td>CHTR</td>\n",
       "      <td>Charter Communications Inc. Class A Common Sto...</td>\n",
       "      <td>$350.92</td>\n",
       "      <td>7.19</td>\n",
       "      <td>2.092%</td>\n",
       "      <td>49.811840</td>\n",
       "      <td>United States</td>\n",
       "      <td>NaN</td>\n",
       "      <td>612957</td>\n",
       "      <td>Telecommunications</td>\n",
       "      <td>Cable &amp; Other Pay Television Services</td>\n",
       "    </tr>\n",
       "    <tr>\n",
       "      <th>44</th>\n",
       "      <td>NDAQ</td>\n",
       "      <td>Nasdaq Inc. Common Stock</td>\n",
       "      <td>$80.29</td>\n",
       "      <td>-0.92</td>\n",
       "      <td>-1.133%</td>\n",
       "      <td>46.147288</td>\n",
       "      <td>United States</td>\n",
       "      <td>NaN</td>\n",
       "      <td>2497954</td>\n",
       "      <td>Finance</td>\n",
       "      <td>Investment Bankers/Brokers/Service</td>\n",
       "    </tr>\n",
       "    <tr>\n",
       "      <th>82</th>\n",
       "      <td>SBAC</td>\n",
       "      <td>SBA Communications Corporation Class A Common ...</td>\n",
       "      <td>$209.24</td>\n",
       "      <td>2.93</td>\n",
       "      <td>1.42%</td>\n",
       "      <td>22.498032</td>\n",
       "      <td>United States</td>\n",
       "      <td>1999.0</td>\n",
       "      <td>526293</td>\n",
       "      <td>Real Estate</td>\n",
       "      <td>Real Estate Investment Trusts</td>\n",
       "    </tr>\n",
       "  </tbody>\n",
       "</table>\n",
       "</div>"
      ],
      "text/plain": [
       "    Symbol                                               Name Last Sale  \\\n",
       "50    ISRG               Intuitive Surgical Inc. Common Stock   $591.65   \n",
       "96    AVGO                         Broadcom Inc. Common Stock   $235.04   \n",
       "110    CEG     Constellation Energy Corporation Common Stock    $313.58   \n",
       "2      IPX         IperionX Limited American Depositary Share    $26.52   \n",
       "92    MSFT                 Microsoft Corporation Common Stock   $411.44   \n",
       "78    MVST               Microvast Holdings Inc. Common Stock     $1.79   \n",
       "113    XEL                      Xcel Energy Inc. Common Stock    $67.19   \n",
       "103   CHTR  Charter Communications Inc. Class A Common Sto...   $350.92   \n",
       "44    NDAQ                           Nasdaq Inc. Common Stock    $80.29   \n",
       "82    SBAC  SBA Communications Corporation Class A Common ...   $209.24   \n",
       "\n",
       "     Net Change % Change  Market Cap (B)        Country  IPO Year    Volume  \\\n",
       "50        -4.05   -0.68%      211.016093  United States    2000.0    837053   \n",
       "96         0.00    0.00%     1101.716191  United States    2009.0  18461539   \n",
       "110       -8.25  -2.563%       98.077350  United States       NaN   2642336   \n",
       "2          0.12   0.455%        0.682213  United States       NaN     50560   \n",
       "92        -0.78  -0.189%     3058.637651  United States    1986.0  18122243   \n",
       "78         0.11   6.548%        0.579629  United States    2019.0   9350708   \n",
       "113        0.31   0.464%       38.583303  United States       NaN   2284291   \n",
       "103        7.19   2.092%       49.811840  United States       NaN    612957   \n",
       "44        -0.92  -1.133%       46.147288  United States       NaN   2497954   \n",
       "82         2.93    1.42%       22.498032  United States    1999.0    526293   \n",
       "\n",
       "                 Sector                                 Industry  \n",
       "50          Health Care                   Industrial Specialties  \n",
       "96           Technology                           Semiconductors  \n",
       "110           Utilities              Electric Utilities: Central  \n",
       "2       Basic Materials                Other Metals and Minerals  \n",
       "92           Technology  Computer Software: Prepackaged Software  \n",
       "78        Miscellaneous          Industrial Machinery/Components  \n",
       "113           Utilities                         Power Generation  \n",
       "103  Telecommunications    Cable & Other Pay Television Services  \n",
       "44              Finance       Investment Bankers/Brokers/Service  \n",
       "82          Real Estate            Real Estate Investment Trusts  "
      ]
     },
     "execution_count": 2,
     "metadata": {},
     "output_type": "execute_result"
    }
   ],
   "source": [
    "# Initialize workflow parameters\n",
    "data_path = Path('data/top_10_companies_by_sector.csv').resolve()\n",
    "market_ticker = '^GSPC'\n",
    "analysis_start = pd.Timestamp(2024, 1, 1, tz='America/Los_Angeles')\n",
    "analysis_end = None\n",
    "\n",
    "\n",
    "\n",
    "# Import data\n",
    "data = pd.read_csv(data_path).sample(10, replace=False)\n",
    "data"
   ]
  },
  {
   "cell_type": "code",
   "execution_count": 3,
   "metadata": {},
   "outputs": [],
   "source": [
    "def standardize(X):\n",
    "    return (X - np.mean(X)) / np.std(X)\n",
    "\n",
    "def pct_change(X):\n",
    "    return np.diff(X) / X[:-1] * 100"
   ]
  },
  {
   "cell_type": "code",
   "execution_count": 4,
   "metadata": {},
   "outputs": [
    {
     "name": "stdout",
     "output_type": "stream",
     "text": [
      "YF.download() has changed argument auto_adjust default to True\n"
     ]
    },
    {
     "name": "stderr",
     "output_type": "stream",
     "text": [
      "[*********************100%***********************]  1 of 1 completed\n",
      "[*********************100%***********************]  1 of 1 completed\n"
     ]
    },
    {
     "data": {
      "text/plain": [
       "array([-0.58480121, -0.94354879, -0.34567114,  1.59439826, -0.22524429,\n",
       "        0.32088188, -0.2912545 ,  0.05291421, -0.91718924, -0.4255424 ,\n",
       "        2.17224767,  0.99961286,  0.76769091,  0.38845579, -0.30924576,\n",
       "       -0.18624204, -0.68977305, -0.31625956, -1.39406402, -1.40176889,\n",
       "        0.84870733, -0.44147187,  0.60824282,  0.52463166, -0.02946719,\n",
       "       -0.46554656,  0.21231457, -0.68901915, -0.845442  , -0.40048758,\n",
       "       -0.1778481 , -0.64968437, -0.35260835,  0.21864423,  0.70441272,\n",
       "       -0.7600681 , -0.58229945,  0.48901694, -0.5254685 , -0.32363731,\n",
       "       -0.48451419, -1.81634174, -2.02694763, -0.4740282 , -0.11830129,\n",
       "        0.63508534,  0.7448648 ,  0.12177431, -0.90380673,  0.6826224 ,\n",
       "       -0.22064814,  0.36913082,  0.86554384,  0.94291745, -2.88151697,\n",
       "        0.29601145, -0.64074079, -0.52871056,  1.39052082, -0.79620095,\n",
       "       -0.65144208, -0.55116228,  0.2607352 , -0.40618577,  0.24037985,\n",
       "       -0.52808062,  0.42900342, -0.83613274,  2.90870059,  0.5242767 ,\n",
       "       -1.57423654, -1.38866431, -0.63021345, -0.46275958, -0.91000744,\n",
       "        0.28092819,  0.37044913,  0.80479093,  0.28479911, -0.30847942,\n",
       "        1.63797715, -1.32696819, -0.48566493,  1.44690168,  4.04745321,\n",
       "       -0.69624501,  0.19188077,  0.05884105,  0.61977571, -0.54368008,\n",
       "        1.14499625,  0.35543026,  0.77145945, -0.02593375, -0.05858782,\n",
       "        0.35465562,  0.40249422, -0.58830099, -1.51880693,  1.07223554,\n",
       "       -0.0658396 ,  0.03921709,  0.29223117,  0.27594651,  0.56778078,\n",
       "        0.04405224,  0.46881649, -0.55788832,  0.78343254, -1.38732262,\n",
       "        4.93068236,  1.89747098,  0.30847586, -0.63166072,  1.28444457,\n",
       "       -0.82548017, -1.55010267, -0.7883127 ,  0.14614971,  0.23806631,\n",
       "        1.30659194,  0.204874  , -1.18817247,  1.93369165,  1.04827035,\n",
       "        0.33048906,  1.41857856,  0.38058289,  0.19034483,  1.22471257,\n",
       "       -1.66765516,  0.82877666,  1.08291365,  0.05386181, -1.81048112,\n",
       "       -1.48278951, -0.0295506 , -0.1768498 ,  0.25322103, -2.04850817,\n",
       "       -0.40013721,  0.07927391,  0.01895206,  0.1071484 ,  0.96229342,\n",
       "       -1.22234896,  0.40333215, -3.38459946, -0.74039057,  0.790745  ,\n",
       "        1.07533877,  0.87592675,  0.42126077,  1.11386807,  0.07050875,\n",
       "        0.86179222,  0.33788572, -0.11818294,  0.11944924, -0.10288481,\n",
       "       -0.63794807,  0.63863206,  0.03369712,  0.188056  , -0.53427821,\n",
       "        0.93334549, -0.30608085, -1.94188477, -0.66265636,  0.40734998,\n",
       "       -0.55227847, -0.04140658, -0.31871302,  0.72790083, -0.03546024,\n",
       "       -0.15288476, -1.98111646,  0.08007091,  1.16870506,  2.48161007,\n",
       "       -0.27094575, -0.59123436,  0.2040559 , -0.37216571,  0.28018709,\n",
       "        0.01221088,  1.50472287, -2.07516075,  0.10396266, -0.40633678,\n",
       "        0.27517589, -1.62016695,  1.19721317,  1.07982163, -0.21938734,\n",
       "       -0.51719724,  1.06478137,  0.68932087, -0.67869866,  0.0404079 ,\n",
       "        0.77548592,  0.36399425, -0.24990799, -1.55768634, -0.12612819,\n",
       "        0.18127983,  0.52240306,  0.01015784, -1.12097795, -1.3227465 ,\n",
       "       -0.98344302, -0.34735181,  0.37695888, -0.29431138,  1.40149382,\n",
       "       -0.15124076, -0.89733884, -0.06946149,  0.20371832,  0.87830403,\n",
       "       -1.04054382,  0.85433865,  0.00901437,  0.14761656, -0.21372212,\n",
       "        0.33713122,  0.82877557,  0.57780347, -0.10752425,  0.63365272,\n",
       "        0.58593773,  0.80957136,  0.03264974, -0.06096446, -0.12609987,\n",
       "        1.03871732,  0.21504567, -0.42502212,  0.34100168, -0.02227855,\n",
       "        0.73770882,  0.59949594, -1.54383499,  0.41333116,  1.22555865,\n",
       "        0.14148707,  0.72052728,  0.149108  , -0.98086337, -0.98232935,\n",
       "       -0.5552276 , -1.87517094, -0.20776524,  0.39435567, -0.85323176,\n",
       "        0.06977004, -1.72842813, -0.78140451, -0.39832396,  1.28475327,\n",
       "       -2.85004344,  0.44915979, -2.26609809,  0.29840895, -0.12173098,\n",
       "       -0.34026324,  2.11784155,  2.44571357,  0.24829701, -0.57841297,\n",
       "       -0.53005499])"
      ]
     },
     "execution_count": 4,
     "metadata": {},
     "output_type": "execute_result"
    }
   ],
   "source": [
    "ticker1 = standardize(pct_change(yf.download(\"AAPL\", start=\"2024-01-01\", end=\"2025-02-01\")['Close'].to_numpy().flatten()))\n",
    "ticker2 = standardize(pct_change(yf.download(\"FSLR\", start=\"2024-01-01\", end=\"2025-02-01\")['Close'].to_numpy().flatten()))\n",
    "ticker1\n"
   ]
  },
  {
   "cell_type": "code",
   "execution_count": 5,
   "metadata": {},
   "outputs": [
    {
     "name": "stdout",
     "output_type": "stream",
     "text": [
      "Original length: 271\n",
      "After removing outliers: 264\n",
      "\n",
      "Correlation after removing outliers: 0.093\n",
      "P-value after removing outliers: 0.130\n"
     ]
    }
   ],
   "source": [
    "def remove_outliers(X, Y, threshold=3):\n",
    "    \"\"\"\n",
    "    Remove outliers from paired arrays X and Y.\n",
    "    If a value is an outlier in either X or Y, both corresponding values are removed.\n",
    "    \n",
    "    Args:\n",
    "        X, Y: numpy arrays of same length\n",
    "        threshold: number of standard deviations to consider a point an outlier\n",
    "    \n",
    "    Returns:\n",
    "        X_clean, Y_clean: numpy arrays with outliers removed\n",
    "    \"\"\"\n",
    "    # Convert to numpy arrays if not already\n",
    "    X = np.array(X)\n",
    "    Y = np.array(Y)\n",
    "    \n",
    "    # Calculate z-scores for both arrays\n",
    "    z_scores_X = np.abs((X - np.mean(X)) / np.std(X))\n",
    "    z_scores_Y = np.abs((Y - np.mean(Y)) / np.std(Y))\n",
    "    \n",
    "    # Create mask for values to keep (not outliers in either array)\n",
    "    mask = (z_scores_X < threshold) & (z_scores_Y < threshold)\n",
    "    \n",
    "    # Return filtered arrays\n",
    "    return X[mask], Y[mask]\n",
    "\n",
    "# Example usage:\n",
    "ticker1_clean, ticker2_clean = remove_outliers(ticker1, ticker2, threshold=3)\n",
    "print(f\"Original length: {len(ticker1)}\")\n",
    "print(f\"After removing outliers: {len(ticker1_clean)}\")\n",
    "\n",
    "# Recalculate correlation with clean data\n",
    "pearson_corr_clean = sp.stats.pearsonr(ticker1_clean, ticker2_clean)\n",
    "print(f\"\\nCorrelation after removing outliers: {pearson_corr_clean.statistic:.3f}\")\n",
    "print(f\"P-value after removing outliers: {pearson_corr_clean.pvalue:.3f}\")"
   ]
  },
  {
   "cell_type": "code",
   "execution_count": 6,
   "metadata": {},
   "outputs": [
    {
     "data": {
      "text/plain": [
       "PearsonRResult(statistic=0.15468777942442616, pvalue=0.01076985632920873)"
      ]
     },
     "execution_count": 6,
     "metadata": {},
     "output_type": "execute_result"
    }
   ],
   "source": [
    "# Pearson\n",
    "pearson_corr = sp.stats.pearsonr(ticker1, ticker2)\n",
    "pearson_corr"
   ]
  },
  {
   "cell_type": "code",
   "execution_count": 7,
   "metadata": {},
   "outputs": [
    {
     "data": {
      "text/plain": [
       "<matplotlib.collections.PathCollection at 0x14fa1bb30>"
      ]
     },
     "execution_count": 7,
     "metadata": {},
     "output_type": "execute_result"
    },
    {
     "data": {
      "image/png": "[encoded data removed]",
      "text/plain": [
       "<Figure size 640x480 with 1 Axes>"
      ]
     },
     "metadata": {},
     "output_type": "display_data"
    }
   ],
   "source": [
    "plt.scatter(ticker1_clean, ticker2_clean)"
   ]
  },
  {
   "cell_type": "code",
   "execution_count": 8,
   "metadata": {},
   "outputs": [],
   "source": [
    "def rolling_beta(stock_returns, market_returns, window):\n",
    "    \"\"\"\n",
    "    Compute rolling beta of a stock relative to the market.\n",
    "    \n",
    "    Parameters:\n",
    "    - stock_returns: numpy array of stock returns\n",
    "    - market_returns: numpy array of market returns\n",
    "    - window: rolling window size (e.g., 30 for 30-day rolling beta)\n",
    "    \n",
    "    Returns:\n",
    "    - numpy array of rolling beta values (NaN for the first (window-1) values)\n",
    "    \"\"\"\n",
    "    betas = np.full(len(stock_returns), np.nan)  # Initialize with NaNs\n",
    "\n",
    "    for i in range(window, len(stock_returns)):\n",
    "        # Extract rolling window slices\n",
    "        r_s = stock_returns[i-window:i]  # Stock returns for window\n",
    "        r_m = market_returns[i-window:i]  # Market returns for window\n",
    "        \n",
    "        # Compute covariance and variance\n",
    "        cov_matrix = np.cov(r_s, r_m)\n",
    "        cov_stock_market = cov_matrix[0, 1]\n",
    "        var_market = cov_matrix[1, 1]\n",
    "        \n",
    "        # Compute beta\n",
    "        betas[i] = cov_stock_market / var_market if var_market != 0 else np.nan  # Avoid division by zero\n",
    "\n",
    "    return betas\n"
   ]
  },
  {
   "cell_type": "code",
   "execution_count": 14,
   "metadata": {},
   "outputs": [
    {
     "name": "stderr",
     "output_type": "stream",
     "text": [
      "[*********************100%***********************]  1 of 1 completed\n"
     ]
    },
    {
     "data": {
      "text/plain": [
       "0.6199468224573534"
      ]
     },
     "execution_count": 14,
     "metadata": {},
     "output_type": "execute_result"
    }
   ],
   "source": [
    "market_returns = standardize(pct_change(yf.download(market_ticker, start=\"2024-01-01\", end=\"2025-02-01\")['Close'].to_numpy().flatten()))\n",
    "rolling_b1 = rolling_beta(ticker1, market_returns, 60)[60:]\n",
    "rolling_b2 = rolling_beta(ticker2, market_returns, 60)[60:]\n",
    "np.corrcoef(rolling_b1, rolling_b2)[0, 1]\n"
   ]
  },
  {
   "cell_type": "code",
   "execution_count": 10,
   "metadata": {},
   "outputs": [
    {
     "data": {
      "image/png": "[encoded data removed]",
      "text/plain": [
       "<Figure size 640x480 with 1 Axes>"
      ]
     },
     "metadata": {},
     "output_type": "display_data"
    }
   ],
   "source": [
    "plt.plot(rolling_b1)\n",
    "plt.plot(rolling_b2)\n",
    "plt.legend(['AAPL', 'TSLA'])\n",
    "plt.show()"
   ]
  },
  {
   "cell_type": "code",
   "execution_count": 13,
   "metadata": {},
   "outputs": [
    {
     "data": {
      "text/plain": [
       "0.00873493016362239"
      ]
     },
     "execution_count": 13,
     "metadata": {},
     "output_type": "execute_result"
    }
   ],
   "source": [
    "def compute_r_squared(stock_returns_1, stock_returns_2):\n",
    "    \"\"\"\n",
    "    Compute R^2 between two stocks based on their daily returns.\n",
    "    \n",
    "    Parameters:\n",
    "    - stock_returns_1: numpy array of first stock's returns\n",
    "    - stock_returns_2: numpy array of second stock's returns\n",
    "    \n",
    "    Returns:\n",
    "    - R^2 value\n",
    "    \"\"\"\n",
    "    # Compute Pearson correlation coefficient\n",
    "    correlation_matrix = np.corrcoef(stock_returns_1, stock_returns_2)\n",
    "    correlation = correlation_matrix[0, 1]  # Extract correlation value\n",
    "    \n",
    "    # Compute R^2\n",
    "    r_squared = correlation ** 2\n",
    "    return r_squared\n",
    "\n",
    "r_squared = compute_r_squared(ticker1_clean, ticker2_clean)\n",
    "r_squared"
   ]
  },
  {
   "cell_type": "code",
   "execution_count": null,
   "metadata": {},
   "outputs": [],
   "source": []
  }
 ],
 "metadata": {
  "kernelspec": {
   "display_name": "DR",
   "language": "python",
   "name": "python3"
  },
  "language_info": {
   "codemirror_mode": {
    "name": "ipython",
    "version": 3
   },
   "file_extension": ".py",
   "mimetype": "text/x-python",
   "name": "python",
   "nbconvert_exporter": "python",
   "pygments_lexer": "ipython3",
   "version": "3.12.4"
  }
 },
 "nbformat": 4,
 "nbformat_minor": 2
}
