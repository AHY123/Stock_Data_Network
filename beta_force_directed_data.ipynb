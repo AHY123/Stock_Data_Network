{
 "cells": [
  {
   "cell_type": "code",
   "execution_count": 1,
   "metadata": {},
   "outputs": [],
   "source": [
    "import pandas as pd\n",
    "import numpy as np\n",
    "import plotly.express as px"
   ]
  },
  {
   "cell_type": "code",
   "execution_count": 2,
   "metadata": {},
   "outputs": [
    {
     "data": {
      "text/html": [
       "<div>\n",
       "<style scoped>\n",
       "    .dataframe tbody tr th:only-of-type {\n",
       "        vertical-align: middle;\n",
       "    }\n",
       "\n",
       "    .dataframe tbody tr th {\n",
       "        vertical-align: top;\n",
       "    }\n",
       "\n",
       "    .dataframe thead th {\n",
       "        text-align: right;\n",
       "    }\n",
       "</style>\n",
       "<table border=\"1\" class=\"dataframe\">\n",
       "  <thead>\n",
       "    <tr style=\"text-align: right;\">\n",
       "      <th></th>\n",
       "      <th>UFPI</th>\n",
       "      <th>HYMC</th>\n",
       "      <th>ABAT</th>\n",
       "      <th>HYMCL</th>\n",
       "      <th>USAU</th>\n",
       "      <th>USGO</th>\n",
       "      <th>EU</th>\n",
       "      <th>IPX</th>\n",
       "      <th>AMWD</th>\n",
       "      <th>NB</th>\n",
       "      <th>...</th>\n",
       "      <th>TLN</th>\n",
       "      <th>OTTR</th>\n",
       "      <th>NFE</th>\n",
       "      <th>NEXT</th>\n",
       "      <th>SJW</th>\n",
       "      <th>INFN</th>\n",
       "      <th>CDZIP</th>\n",
       "      <th>NNE</th>\n",
       "      <th>NWE</th>\n",
       "      <th>ALCE</th>\n",
       "    </tr>\n",
       "    <tr>\n",
       "      <th>Ticker</th>\n",
       "      <th></th>\n",
       "      <th></th>\n",
       "      <th></th>\n",
       "      <th></th>\n",
       "      <th></th>\n",
       "      <th></th>\n",
       "      <th></th>\n",
       "      <th></th>\n",
       "      <th></th>\n",
       "      <th></th>\n",
       "      <th></th>\n",
       "      <th></th>\n",
       "      <th></th>\n",
       "      <th></th>\n",
       "      <th></th>\n",
       "      <th></th>\n",
       "      <th></th>\n",
       "      <th></th>\n",
       "      <th></th>\n",
       "      <th></th>\n",
       "      <th></th>\n",
       "    </tr>\n",
       "  </thead>\n",
       "  <tbody>\n",
       "    <tr>\n",
       "      <th>UFPI</th>\n",
       "      <td>1.000000</td>\n",
       "      <td>0.400641</td>\n",
       "      <td>0.069862</td>\n",
       "      <td>0.289755</td>\n",
       "      <td>0.746092</td>\n",
       "      <td>-0.464907</td>\n",
       "      <td>0.231779</td>\n",
       "      <td>0.041877</td>\n",
       "      <td>0.891955</td>\n",
       "      <td>0.575252</td>\n",
       "      <td>...</td>\n",
       "      <td>0.433951</td>\n",
       "      <td>0.520609</td>\n",
       "      <td>0.263500</td>\n",
       "      <td>0.552863</td>\n",
       "      <td>0.540858</td>\n",
       "      <td>0.704196</td>\n",
       "      <td>-0.497301</td>\n",
       "      <td>NaN</td>\n",
       "      <td>0.745554</td>\n",
       "      <td>-0.324495</td>\n",
       "    </tr>\n",
       "    <tr>\n",
       "      <th>HYMC</th>\n",
       "      <td>0.400641</td>\n",
       "      <td>1.000000</td>\n",
       "      <td>0.142288</td>\n",
       "      <td>0.183576</td>\n",
       "      <td>0.303395</td>\n",
       "      <td>0.602544</td>\n",
       "      <td>0.541550</td>\n",
       "      <td>-0.344446</td>\n",
       "      <td>0.328951</td>\n",
       "      <td>0.158555</td>\n",
       "      <td>...</td>\n",
       "      <td>0.247765</td>\n",
       "      <td>0.650708</td>\n",
       "      <td>0.681506</td>\n",
       "      <td>0.691727</td>\n",
       "      <td>0.168833</td>\n",
       "      <td>0.830058</td>\n",
       "      <td>-0.046983</td>\n",
       "      <td>NaN</td>\n",
       "      <td>-0.264505</td>\n",
       "      <td>-0.395644</td>\n",
       "    </tr>\n",
       "    <tr>\n",
       "      <th>ABAT</th>\n",
       "      <td>0.069862</td>\n",
       "      <td>0.142288</td>\n",
       "      <td>1.000000</td>\n",
       "      <td>-0.839743</td>\n",
       "      <td>-0.480638</td>\n",
       "      <td>-0.188233</td>\n",
       "      <td>0.668402</td>\n",
       "      <td>0.457811</td>\n",
       "      <td>0.175705</td>\n",
       "      <td>0.530757</td>\n",
       "      <td>...</td>\n",
       "      <td>0.337088</td>\n",
       "      <td>0.047634</td>\n",
       "      <td>0.170640</td>\n",
       "      <td>0.277047</td>\n",
       "      <td>0.698178</td>\n",
       "      <td>0.775765</td>\n",
       "      <td>0.189429</td>\n",
       "      <td>NaN</td>\n",
       "      <td>0.126654</td>\n",
       "      <td>-0.228034</td>\n",
       "    </tr>\n",
       "    <tr>\n",
       "      <th>HYMCL</th>\n",
       "      <td>0.289755</td>\n",
       "      <td>0.183576</td>\n",
       "      <td>-0.839743</td>\n",
       "      <td>1.000000</td>\n",
       "      <td>-0.586419</td>\n",
       "      <td>-0.257207</td>\n",
       "      <td>-0.183246</td>\n",
       "      <td>-0.755363</td>\n",
       "      <td>-0.071777</td>\n",
       "      <td>0.062766</td>\n",
       "      <td>...</td>\n",
       "      <td>-0.124098</td>\n",
       "      <td>0.023760</td>\n",
       "      <td>-0.350026</td>\n",
       "      <td>0.321602</td>\n",
       "      <td>0.030585</td>\n",
       "      <td>0.310486</td>\n",
       "      <td>0.076734</td>\n",
       "      <td>NaN</td>\n",
       "      <td>0.242429</td>\n",
       "      <td>0.374013</td>\n",
       "    </tr>\n",
       "    <tr>\n",
       "      <th>USAU</th>\n",
       "      <td>0.746092</td>\n",
       "      <td>0.303395</td>\n",
       "      <td>-0.480638</td>\n",
       "      <td>-0.586419</td>\n",
       "      <td>1.000000</td>\n",
       "      <td>0.559888</td>\n",
       "      <td>0.819386</td>\n",
       "      <td>0.010906</td>\n",
       "      <td>0.282621</td>\n",
       "      <td>0.549037</td>\n",
       "      <td>...</td>\n",
       "      <td>0.265188</td>\n",
       "      <td>0.373202</td>\n",
       "      <td>-0.129888</td>\n",
       "      <td>0.860991</td>\n",
       "      <td>0.076294</td>\n",
       "      <td>0.144757</td>\n",
       "      <td>0.042192</td>\n",
       "      <td>NaN</td>\n",
       "      <td>-0.177526</td>\n",
       "      <td>0.592777</td>\n",
       "    </tr>\n",
       "    <tr>\n",
       "      <th>...</th>\n",
       "      <td>...</td>\n",
       "      <td>...</td>\n",
       "      <td>...</td>\n",
       "      <td>...</td>\n",
       "      <td>...</td>\n",
       "      <td>...</td>\n",
       "      <td>...</td>\n",
       "      <td>...</td>\n",
       "      <td>...</td>\n",
       "      <td>...</td>\n",
       "      <td>...</td>\n",
       "      <td>...</td>\n",
       "      <td>...</td>\n",
       "      <td>...</td>\n",
       "      <td>...</td>\n",
       "      <td>...</td>\n",
       "      <td>...</td>\n",
       "      <td>...</td>\n",
       "      <td>...</td>\n",
       "      <td>...</td>\n",
       "      <td>...</td>\n",
       "    </tr>\n",
       "    <tr>\n",
       "      <th>INFN</th>\n",
       "      <td>0.704196</td>\n",
       "      <td>0.830058</td>\n",
       "      <td>0.775765</td>\n",
       "      <td>0.310486</td>\n",
       "      <td>0.144757</td>\n",
       "      <td>-0.379417</td>\n",
       "      <td>0.891028</td>\n",
       "      <td>0.564666</td>\n",
       "      <td>0.137195</td>\n",
       "      <td>0.745489</td>\n",
       "      <td>...</td>\n",
       "      <td>0.336555</td>\n",
       "      <td>-0.044225</td>\n",
       "      <td>0.149974</td>\n",
       "      <td>0.858507</td>\n",
       "      <td>0.640518</td>\n",
       "      <td>1.000000</td>\n",
       "      <td>0.654822</td>\n",
       "      <td>NaN</td>\n",
       "      <td>-0.076239</td>\n",
       "      <td>-0.044663</td>\n",
       "    </tr>\n",
       "    <tr>\n",
       "      <th>CDZIP</th>\n",
       "      <td>-0.497301</td>\n",
       "      <td>-0.046983</td>\n",
       "      <td>0.189429</td>\n",
       "      <td>0.076734</td>\n",
       "      <td>0.042192</td>\n",
       "      <td>0.369749</td>\n",
       "      <td>0.318166</td>\n",
       "      <td>-0.508290</td>\n",
       "      <td>0.172624</td>\n",
       "      <td>-0.086296</td>\n",
       "      <td>...</td>\n",
       "      <td>-0.443698</td>\n",
       "      <td>0.117140</td>\n",
       "      <td>-0.016626</td>\n",
       "      <td>0.011739</td>\n",
       "      <td>-0.182719</td>\n",
       "      <td>0.654822</td>\n",
       "      <td>1.000000</td>\n",
       "      <td>NaN</td>\n",
       "      <td>0.385010</td>\n",
       "      <td>0.581557</td>\n",
       "    </tr>\n",
       "    <tr>\n",
       "      <th>NNE</th>\n",
       "      <td>NaN</td>\n",
       "      <td>NaN</td>\n",
       "      <td>NaN</td>\n",
       "      <td>NaN</td>\n",
       "      <td>NaN</td>\n",
       "      <td>NaN</td>\n",
       "      <td>NaN</td>\n",
       "      <td>NaN</td>\n",
       "      <td>NaN</td>\n",
       "      <td>NaN</td>\n",
       "      <td>...</td>\n",
       "      <td>NaN</td>\n",
       "      <td>NaN</td>\n",
       "      <td>NaN</td>\n",
       "      <td>NaN</td>\n",
       "      <td>NaN</td>\n",
       "      <td>NaN</td>\n",
       "      <td>NaN</td>\n",
       "      <td>1.0</td>\n",
       "      <td>NaN</td>\n",
       "      <td>NaN</td>\n",
       "    </tr>\n",
       "    <tr>\n",
       "      <th>NWE</th>\n",
       "      <td>0.745554</td>\n",
       "      <td>-0.264505</td>\n",
       "      <td>0.126654</td>\n",
       "      <td>0.242429</td>\n",
       "      <td>-0.177526</td>\n",
       "      <td>-0.687845</td>\n",
       "      <td>-0.317478</td>\n",
       "      <td>0.569097</td>\n",
       "      <td>0.734547</td>\n",
       "      <td>0.517790</td>\n",
       "      <td>...</td>\n",
       "      <td>-0.239027</td>\n",
       "      <td>0.621783</td>\n",
       "      <td>0.116149</td>\n",
       "      <td>0.154167</td>\n",
       "      <td>0.091080</td>\n",
       "      <td>-0.076239</td>\n",
       "      <td>0.385010</td>\n",
       "      <td>NaN</td>\n",
       "      <td>1.000000</td>\n",
       "      <td>-0.057054</td>\n",
       "    </tr>\n",
       "    <tr>\n",
       "      <th>ALCE</th>\n",
       "      <td>-0.324495</td>\n",
       "      <td>-0.395644</td>\n",
       "      <td>-0.228034</td>\n",
       "      <td>0.374013</td>\n",
       "      <td>0.592777</td>\n",
       "      <td>0.683092</td>\n",
       "      <td>0.252523</td>\n",
       "      <td>-0.403530</td>\n",
       "      <td>0.119522</td>\n",
       "      <td>0.148318</td>\n",
       "      <td>...</td>\n",
       "      <td>0.701357</td>\n",
       "      <td>-0.622910</td>\n",
       "      <td>0.295628</td>\n",
       "      <td>0.414054</td>\n",
       "      <td>-0.508748</td>\n",
       "      <td>-0.044663</td>\n",
       "      <td>0.581557</td>\n",
       "      <td>NaN</td>\n",
       "      <td>-0.057054</td>\n",
       "      <td>1.000000</td>\n",
       "    </tr>\n",
       "  </tbody>\n",
       "</table>\n",
       "<p>509 rows × 509 columns</p>\n",
       "</div>"
      ],
      "text/plain": [
       "            UFPI      HYMC      ABAT     HYMCL      USAU      USGO        EU  \\\n",
       "Ticker                                                                         \n",
       "UFPI    1.000000  0.400641  0.069862  0.289755  0.746092 -0.464907  0.231779   \n",
       "HYMC    0.400641  1.000000  0.142288  0.183576  0.303395  0.602544  0.541550   \n",
       "ABAT    0.069862  0.142288  1.000000 -0.839743 -0.480638 -0.188233  0.668402   \n",
       "HYMCL   0.289755  0.183576 -0.839743  1.000000 -0.586419 -0.257207 -0.183246   \n",
       "USAU    0.746092  0.303395 -0.480638 -0.586419  1.000000  0.559888  0.819386   \n",
       "...          ...       ...       ...       ...       ...       ...       ...   \n",
       "INFN    0.704196  0.830058  0.775765  0.310486  0.144757 -0.379417  0.891028   \n",
       "CDZIP  -0.497301 -0.046983  0.189429  0.076734  0.042192  0.369749  0.318166   \n",
       "NNE          NaN       NaN       NaN       NaN       NaN       NaN       NaN   \n",
       "NWE     0.745554 -0.264505  0.126654  0.242429 -0.177526 -0.687845 -0.317478   \n",
       "ALCE   -0.324495 -0.395644 -0.228034  0.374013  0.592777  0.683092  0.252523   \n",
       "\n",
       "             IPX      AMWD        NB  ...       TLN      OTTR       NFE  \\\n",
       "Ticker                                ...                                 \n",
       "UFPI    0.041877  0.891955  0.575252  ...  0.433951  0.520609  0.263500   \n",
       "HYMC   -0.344446  0.328951  0.158555  ...  0.247765  0.650708  0.681506   \n",
       "ABAT    0.457811  0.175705  0.530757  ...  0.337088  0.047634  0.170640   \n",
       "HYMCL  -0.755363 -0.071777  0.062766  ... -0.124098  0.023760 -0.350026   \n",
       "USAU    0.010906  0.282621  0.549037  ...  0.265188  0.373202 -0.129888   \n",
       "...          ...       ...       ...  ...       ...       ...       ...   \n",
       "INFN    0.564666  0.137195  0.745489  ...  0.336555 -0.044225  0.149974   \n",
       "CDZIP  -0.508290  0.172624 -0.086296  ... -0.443698  0.117140 -0.016626   \n",
       "NNE          NaN       NaN       NaN  ...       NaN       NaN       NaN   \n",
       "NWE     0.569097  0.734547  0.517790  ... -0.239027  0.621783  0.116149   \n",
       "ALCE   -0.403530  0.119522  0.148318  ...  0.701357 -0.622910  0.295628   \n",
       "\n",
       "            NEXT       SJW      INFN     CDZIP  NNE       NWE      ALCE  \n",
       "Ticker                                                                   \n",
       "UFPI    0.552863  0.540858  0.704196 -0.497301  NaN  0.745554 -0.324495  \n",
       "HYMC    0.691727  0.168833  0.830058 -0.046983  NaN -0.264505 -0.395644  \n",
       "ABAT    0.277047  0.698178  0.775765  0.189429  NaN  0.126654 -0.228034  \n",
       "HYMCL   0.321602  0.030585  0.310486  0.076734  NaN  0.242429  0.374013  \n",
       "USAU    0.860991  0.076294  0.144757  0.042192  NaN -0.177526  0.592777  \n",
       "...          ...       ...       ...       ...  ...       ...       ...  \n",
       "INFN    0.858507  0.640518  1.000000  0.654822  NaN -0.076239 -0.044663  \n",
       "CDZIP   0.011739 -0.182719  0.654822  1.000000  NaN  0.385010  0.581557  \n",
       "NNE          NaN       NaN       NaN       NaN  1.0       NaN       NaN  \n",
       "NWE     0.154167  0.091080 -0.076239  0.385010  NaN  1.000000 -0.057054  \n",
       "ALCE    0.414054 -0.508748 -0.044663  0.581557  NaN -0.057054  1.000000  \n",
       "\n",
       "[509 rows x 509 columns]"
      ]
     },
     "execution_count": 2,
     "metadata": {},
     "output_type": "execute_result"
    }
   ],
   "source": [
    "matrix = pd.read_csv('data/beta_matrix_2024-01-01_2025-01-01_top50.csv').set_index('Ticker')\n",
    "matrix"
   ]
  },
  {
   "cell_type": "code",
   "execution_count": 3,
   "metadata": {},
   "outputs": [],
   "source": [
    "# import matplotlib.pyplot as plt\n",
    "# import seaborn as sns\n",
    "# # Create a figure with a larger size\n",
    "# plt.figure(figsize=(120, 100))\n",
    "\n",
    "# # Create heatmap\n",
    "# sns.heatmap(matrix, \n",
    "#             annot=True,  # Show correlation values\n",
    "#             cmap='RdBu',  # Red-Blue diverging colormap\n",
    "#             vmin=-1, vmax=1,  # Fix scale from -1 to 1\n",
    "#             center=0,  # Center colormap at 0\n",
    "#             fmt='.2f',  # Show 2 decimal places\n",
    "#             square=True,  # Make cells square\n",
    "#             xticklabels=matrix.columns,  # Show x-axis labels\n",
    "#             yticklabels=matrix.columns\n",
    "#             )  # Show y-axis labels\n",
    "\n",
    "# # Customize the plot\n",
    "# plt.title('Beta Correlation Heatmap of Stock Returns', pad=20)\n",
    "# plt.xlabel('Stock Symbols')\n",
    "# plt.ylabel('Stock Symbols')\n",
    "\n",
    "# # Rotate x-axis labels for better readability\n",
    "# plt.xticks(rotation=45, ha='right')\n",
    "# plt.yticks(rotation=0)\n",
    "\n",
    "# # Adjust layout to prevent label cutoff\n",
    "# plt.tight_layout()\n",
    "\n",
    "# # Show the plot\n",
    "# plt.show()"
   ]
  },
  {
   "cell_type": "code",
   "execution_count": 4,
   "metadata": {},
   "outputs": [
    {
     "data": {
      "text/html": [
       "<div>\n",
       "<style scoped>\n",
       "    .dataframe tbody tr th:only-of-type {\n",
       "        vertical-align: middle;\n",
       "    }\n",
       "\n",
       "    .dataframe tbody tr th {\n",
       "        vertical-align: top;\n",
       "    }\n",
       "\n",
       "    .dataframe thead th {\n",
       "        text-align: right;\n",
       "    }\n",
       "</style>\n",
       "<table border=\"1\" class=\"dataframe\">\n",
       "  <thead>\n",
       "    <tr style=\"text-align: right;\">\n",
       "      <th></th>\n",
       "      <th>Symbol</th>\n",
       "      <th>Name</th>\n",
       "      <th>Last Sale</th>\n",
       "      <th>Net Change</th>\n",
       "      <th>% Change</th>\n",
       "      <th>Market Cap (B)</th>\n",
       "      <th>Country</th>\n",
       "      <th>IPO Year</th>\n",
       "      <th>Volume</th>\n",
       "      <th>Sector</th>\n",
       "      <th>Industry</th>\n",
       "    </tr>\n",
       "  </thead>\n",
       "  <tbody>\n",
       "    <tr>\n",
       "      <th>0</th>\n",
       "      <td>UFPI</td>\n",
       "      <td>UFP Industries Inc. Common Stock</td>\n",
       "      <td>$115.67</td>\n",
       "      <td>-0.7900</td>\n",
       "      <td>-0.678%</td>\n",
       "      <td>7.024022</td>\n",
       "      <td>United States</td>\n",
       "      <td>1993.0</td>\n",
       "      <td>223820</td>\n",
       "      <td>Basic Materials</td>\n",
       "      <td>Forest Products</td>\n",
       "    </tr>\n",
       "    <tr>\n",
       "      <th>1</th>\n",
       "      <td>AMWD</td>\n",
       "      <td>American Woodmark Corporation Common Stock</td>\n",
       "      <td>$77.01</td>\n",
       "      <td>0.4800</td>\n",
       "      <td>0.627%</td>\n",
       "      <td>1.159322</td>\n",
       "      <td>United States</td>\n",
       "      <td>1986.0</td>\n",
       "      <td>168642</td>\n",
       "      <td>Basic Materials</td>\n",
       "      <td>Forest Products</td>\n",
       "    </tr>\n",
       "    <tr>\n",
       "      <th>2</th>\n",
       "      <td>IPX</td>\n",
       "      <td>IperionX Limited American Depositary Share</td>\n",
       "      <td>$26.52</td>\n",
       "      <td>0.1200</td>\n",
       "      <td>0.455%</td>\n",
       "      <td>0.682213</td>\n",
       "      <td>United States</td>\n",
       "      <td>NaN</td>\n",
       "      <td>50560</td>\n",
       "      <td>Basic Materials</td>\n",
       "      <td>Other Metals and Minerals</td>\n",
       "    </tr>\n",
       "    <tr>\n",
       "      <th>3</th>\n",
       "      <td>EU</td>\n",
       "      <td>enCore Energy Corp. Common Shares</td>\n",
       "      <td>$2.91</td>\n",
       "      <td>0.0600</td>\n",
       "      <td>2.105%</td>\n",
       "      <td>0.541518</td>\n",
       "      <td>United States</td>\n",
       "      <td>NaN</td>\n",
       "      <td>1091464</td>\n",
       "      <td>Basic Materials</td>\n",
       "      <td>Other Metals and Minerals</td>\n",
       "    </tr>\n",
       "    <tr>\n",
       "      <th>4</th>\n",
       "      <td>USGO</td>\n",
       "      <td>U.S. GoldMining Inc. Common stock</td>\n",
       "      <td>$12.59</td>\n",
       "      <td>1.7800</td>\n",
       "      <td>16.466%</td>\n",
       "      <td>0.156678</td>\n",
       "      <td>United States</td>\n",
       "      <td>2023.0</td>\n",
       "      <td>225247</td>\n",
       "      <td>Basic Materials</td>\n",
       "      <td>Precious Metals</td>\n",
       "    </tr>\n",
       "    <tr>\n",
       "      <th>...</th>\n",
       "      <td>...</td>\n",
       "      <td>...</td>\n",
       "      <td>...</td>\n",
       "      <td>...</td>\n",
       "      <td>...</td>\n",
       "      <td>...</td>\n",
       "      <td>...</td>\n",
       "      <td>...</td>\n",
       "      <td>...</td>\n",
       "      <td>...</td>\n",
       "      <td>...</td>\n",
       "    </tr>\n",
       "    <tr>\n",
       "      <th>524</th>\n",
       "      <td>VIVK</td>\n",
       "      <td>Vivakor Inc. Common Stock</td>\n",
       "      <td>$0.845</td>\n",
       "      <td>-0.0248</td>\n",
       "      <td>-2.851%</td>\n",
       "      <td>0.028424</td>\n",
       "      <td>United States</td>\n",
       "      <td>NaN</td>\n",
       "      <td>42549</td>\n",
       "      <td>Utilities</td>\n",
       "      <td>Environmental Services</td>\n",
       "    </tr>\n",
       "    <tr>\n",
       "      <th>525</th>\n",
       "      <td>SONM</td>\n",
       "      <td>Sonim Technologies Inc. Common Stock</td>\n",
       "      <td>$2.55</td>\n",
       "      <td>-0.0800</td>\n",
       "      <td>-3.042%</td>\n",
       "      <td>0.012423</td>\n",
       "      <td>United States</td>\n",
       "      <td>2019.0</td>\n",
       "      <td>15396</td>\n",
       "      <td>Utilities</td>\n",
       "      <td>Telecommunications Equipment</td>\n",
       "    </tr>\n",
       "    <tr>\n",
       "      <th>526</th>\n",
       "      <td>CLRO</td>\n",
       "      <td>ClearOne Inc. (DE) Common Stock</td>\n",
       "      <td>$0.4926</td>\n",
       "      <td>-0.0072</td>\n",
       "      <td>-1.441%</td>\n",
       "      <td>0.011807</td>\n",
       "      <td>United States</td>\n",
       "      <td>NaN</td>\n",
       "      <td>87213</td>\n",
       "      <td>Utilities</td>\n",
       "      <td>Telecommunications Equipment</td>\n",
       "    </tr>\n",
       "    <tr>\n",
       "      <th>527</th>\n",
       "      <td>SUNE</td>\n",
       "      <td>SUNation Energy Inc. Common Stock</td>\n",
       "      <td>$1.225</td>\n",
       "      <td>-0.0950</td>\n",
       "      <td>-7.197%</td>\n",
       "      <td>0.002223</td>\n",
       "      <td>United States</td>\n",
       "      <td>NaN</td>\n",
       "      <td>87057</td>\n",
       "      <td>Utilities</td>\n",
       "      <td>Telecommunications Equipment</td>\n",
       "    </tr>\n",
       "    <tr>\n",
       "      <th>528</th>\n",
       "      <td>ALCE</td>\n",
       "      <td>Alternus Clean Energy Inc. Class A Common Stock</td>\n",
       "      <td>$0.226</td>\n",
       "      <td>-0.0588</td>\n",
       "      <td>-20.646%</td>\n",
       "      <td>0.000000</td>\n",
       "      <td>United States</td>\n",
       "      <td>2022.0</td>\n",
       "      <td>1508724</td>\n",
       "      <td>Utilities</td>\n",
       "      <td>Power Generation</td>\n",
       "    </tr>\n",
       "  </tbody>\n",
       "</table>\n",
       "<p>529 rows × 11 columns</p>\n",
       "</div>"
      ],
      "text/plain": [
       "    Symbol                                             Name Last Sale  \\\n",
       "0     UFPI                 UFP Industries Inc. Common Stock   $115.67   \n",
       "1     AMWD       American Woodmark Corporation Common Stock    $77.01   \n",
       "2      IPX       IperionX Limited American Depositary Share    $26.52   \n",
       "3       EU                enCore Energy Corp. Common Shares     $2.91   \n",
       "4     USGO                U.S. GoldMining Inc. Common stock    $12.59   \n",
       "..     ...                                              ...       ...   \n",
       "524   VIVK                        Vivakor Inc. Common Stock    $0.845   \n",
       "525   SONM             Sonim Technologies Inc. Common Stock     $2.55   \n",
       "526   CLRO                  ClearOne Inc. (DE) Common Stock   $0.4926   \n",
       "527   SUNE                SUNation Energy Inc. Common Stock    $1.225   \n",
       "528   ALCE  Alternus Clean Energy Inc. Class A Common Stock    $0.226   \n",
       "\n",
       "     Net Change  % Change  Market Cap (B)        Country  IPO Year   Volume  \\\n",
       "0       -0.7900   -0.678%        7.024022  United States    1993.0   223820   \n",
       "1        0.4800    0.627%        1.159322  United States    1986.0   168642   \n",
       "2        0.1200    0.455%        0.682213  United States       NaN    50560   \n",
       "3        0.0600    2.105%        0.541518  United States       NaN  1091464   \n",
       "4        1.7800   16.466%        0.156678  United States    2023.0   225247   \n",
       "..          ...       ...             ...            ...       ...      ...   \n",
       "524     -0.0248   -2.851%        0.028424  United States       NaN    42549   \n",
       "525     -0.0800   -3.042%        0.012423  United States    2019.0    15396   \n",
       "526     -0.0072   -1.441%        0.011807  United States       NaN    87213   \n",
       "527     -0.0950   -7.197%        0.002223  United States       NaN    87057   \n",
       "528     -0.0588  -20.646%        0.000000  United States    2022.0  1508724   \n",
       "\n",
       "              Sector                      Industry  \n",
       "0    Basic Materials               Forest Products  \n",
       "1    Basic Materials               Forest Products  \n",
       "2    Basic Materials     Other Metals and Minerals  \n",
       "3    Basic Materials     Other Metals and Minerals  \n",
       "4    Basic Materials               Precious Metals  \n",
       "..               ...                           ...  \n",
       "524        Utilities        Environmental Services  \n",
       "525        Utilities  Telecommunications Equipment  \n",
       "526        Utilities  Telecommunications Equipment  \n",
       "527        Utilities  Telecommunications Equipment  \n",
       "528        Utilities              Power Generation  \n",
       "\n",
       "[529 rows x 11 columns]"
      ]
     },
     "execution_count": 4,
     "metadata": {},
     "output_type": "execute_result"
    }
   ],
   "source": [
    "labels = pd.read_csv('data/top_50_companies_by_sector.csv')\n",
    "labels\n"
   ]
  },
  {
   "cell_type": "code",
   "execution_count": 17,
   "metadata": {},
   "outputs": [
    {
     "data": {
      "application/vnd.plotly.v1+json": {
       "config": {
        "plotlyServerURL": "https://plot.ly"
       },
       "data": [
        {
         "hovertemplate": "x=%{x}<br>y=%{y}<extra></extra>",
         "legendgroup": "",
         "line": {
          "color": "#636efa",
          "dash": "solid"
         },
         "marker": {
          "symbol": "circle"
         },
         "mode": "lines",
         "name": "",
         "orientation": "v",
         "showlegend": false,
         "type": "scatter",
         "x": [
          0,
          0.01,
          0.02,
          0.03,
          0.04,
          0.05,
          0.06,
          0.07,
          0.08,
          0.09,
          0.1,
          0.11,
          0.12,
          0.13,
          0.14,
          0.15,
          0.16,
          0.17,
          0.18,
          0.19,
          0.2,
          0.21,
          0.22,
          0.23,
          0.24,
          0.25,
          0.26,
          0.27,
          0.28,
          0.29,
          0.3,
          0.31,
          0.32,
          0.33,
          0.34,
          0.35000000000000003,
          0.36,
          0.37,
          0.38,
          0.39,
          0.4,
          0.41000000000000003,
          0.42,
          0.43,
          0.44,
          0.45,
          0.46,
          0.47000000000000003,
          0.48,
          0.49,
          0.5,
          0.51,
          0.52,
          0.53,
          0.54,
          0.55,
          0.56,
          0.5700000000000001,
          0.58,
          0.59,
          0.6,
          0.61,
          0.62,
          0.63,
          0.64,
          0.65,
          0.66,
          0.67,
          0.68,
          0.6900000000000001,
          0.7000000000000001,
          0.71,
          0.72,
          0.73,
          0.74,
          0.75,
          0.76,
          0.77,
          0.78,
          0.79,
          0.8,
          0.81,
          0.8200000000000001,
          0.8300000000000001,
          0.84,
          0.85,
          0.86,
          0.87,
          0.88,
          0.89,
          0.9,
          0.91,
          0.92,
          0.93,
          0.9400000000000001,
          0.9500000000000001,
          0.96,
          0.97,
          0.98,
          0.99,
          1
         ],
         "xaxis": "x",
         "y": [
          126253,
          124738,
          123170,
          121640,
          120161,
          118605,
          117082,
          115618,
          114112,
          112531,
          110957,
          109414,
          107917,
          106413,
          104915,
          103368,
          101848,
          100258,
          98695,
          97160,
          95632,
          94105,
          92570,
          91085,
          89553,
          88042,
          86493,
          84956,
          83413,
          81934,
          80424,
          78891,
          77333,
          75768,
          74226,
          72790,
          71213,
          69686,
          68168,
          66728,
          65182,
          63712,
          62219,
          60702,
          59183,
          57678,
          56178,
          54681,
          53190,
          51803,
          50414,
          49012,
          47525,
          46078,
          44642,
          43240,
          41852,
          40464,
          39054,
          37694,
          36323,
          34953,
          33584,
          32258,
          30868,
          29548,
          28246,
          26994,
          25662,
          24409,
          23213,
          22039,
          20791,
          19601,
          18399,
          17231,
          16144,
          15055,
          13990,
          12918,
          11905,
          10913,
          9940,
          9006,
          8101,
          7215,
          6360,
          5554,
          4782,
          4099,
          3465,
          2839,
          2255,
          1766,
          1283,
          892,
          552,
          283,
          104,
          22,
          0
         ],
         "yaxis": "y"
        }
       ],
       "layout": {
        "legend": {
         "tracegroupgap": 0
        },
        "template": {
         "data": {
          "bar": [
           {
            "error_x": {
             "color": "#2a3f5f"
            },
            "error_y": {
             "color": "#2a3f5f"
            },
            "marker": {
             "line": {
              "color": "#E5ECF6",
              "width": 0.5
             },
             "pattern": {
              "fillmode": "overlay",
              "size": 10,
              "solidity": 0.2
             }
            },
            "type": "bar"
           }
          ],
          "barpolar": [
           {
            "marker": {
             "line": {
              "color": "#E5ECF6",
              "width": 0.5
             },
             "pattern": {
              "fillmode": "overlay",
              "size": 10,
              "solidity": 0.2
             }
            },
            "type": "barpolar"
           }
          ],
          "carpet": [
           {
            "aaxis": {
             "endlinecolor": "#2a3f5f",
             "gridcolor": "white",
             "linecolor": "white",
             "minorgridcolor": "white",
             "startlinecolor": "#2a3f5f"
            },
            "baxis": {
             "endlinecolor": "#2a3f5f",
             "gridcolor": "white",
             "linecolor": "white",
             "minorgridcolor": "white",
             "startlinecolor": "#2a3f5f"
            },
            "type": "carpet"
           }
          ],
          "choropleth": [
           {
            "colorbar": {
             "outlinewidth": 0,
             "ticks": ""
            },
            "type": "choropleth"
           }
          ],
          "contour": [
           {
            "colorbar": {
             "outlinewidth": 0,
             "ticks": ""
            },
            "colorscale": [
             [
              0,
              "#0d0887"
             ],
             [
              0.1111111111111111,
              "#46039f"
             ],
             [
              0.2222222222222222,
              "#7201a8"
             ],
             [
              0.3333333333333333,
              "#9c179e"
             ],
             [
              0.4444444444444444,
              "#bd3786"
             ],
             [
              0.5555555555555556,
              "#d8576b"
             ],
             [
              0.6666666666666666,
              "#ed7953"
             ],
             [
              0.7777777777777778,
              "#fb9f3a"
             ],
             [
              0.8888888888888888,
              "#fdca26"
             ],
             [
              1,
              "#f0f921"
             ]
            ],
            "type": "contour"
           }
          ],
          "contourcarpet": [
           {
            "colorbar": {
             "outlinewidth": 0,
             "ticks": ""
            },
            "type": "contourcarpet"
           }
          ],
          "heatmap": [
           {
            "colorbar": {
             "outlinewidth": 0,
             "ticks": ""
            },
            "colorscale": [
             [
              0,
              "#0d0887"
             ],
             [
              0.1111111111111111,
              "#46039f"
             ],
             [
              0.2222222222222222,
              "#7201a8"
             ],
             [
              0.3333333333333333,
              "#9c179e"
             ],
             [
              0.4444444444444444,
              "#bd3786"
             ],
             [
              0.5555555555555556,
              "#d8576b"
             ],
             [
              0.6666666666666666,
              "#ed7953"
             ],
             [
              0.7777777777777778,
              "#fb9f3a"
             ],
             [
              0.8888888888888888,
              "#fdca26"
             ],
             [
              1,
              "#f0f921"
             ]
            ],
            "type": "heatmap"
           }
          ],
          "heatmapgl": [
           {
            "colorbar": {
             "outlinewidth": 0,
             "ticks": ""
            },
            "colorscale": [
             [
              0,
              "#0d0887"
             ],
             [
              0.1111111111111111,
              "#46039f"
             ],
             [
              0.2222222222222222,
              "#7201a8"
             ],
             [
              0.3333333333333333,
              "#9c179e"
             ],
             [
              0.4444444444444444,
              "#bd3786"
             ],
             [
              0.5555555555555556,
              "#d8576b"
             ],
             [
              0.6666666666666666,
              "#ed7953"
             ],
             [
              0.7777777777777778,
              "#fb9f3a"
             ],
             [
              0.8888888888888888,
              "#fdca26"
             ],
             [
              1,
              "#f0f921"
             ]
            ],
            "type": "heatmapgl"
           }
          ],
          "histogram": [
           {
            "marker": {
             "pattern": {
              "fillmode": "overlay",
              "size": 10,
              "solidity": 0.2
             }
            },
            "type": "histogram"
           }
          ],
          "histogram2d": [
           {
            "colorbar": {
             "outlinewidth": 0,
             "ticks": ""
            },
            "colorscale": [
             [
              0,
              "#0d0887"
             ],
             [
              0.1111111111111111,
              "#46039f"
             ],
             [
              0.2222222222222222,
              "#7201a8"
             ],
             [
              0.3333333333333333,
              "#9c179e"
             ],
             [
              0.4444444444444444,
              "#bd3786"
             ],
             [
              0.5555555555555556,
              "#d8576b"
             ],
             [
              0.6666666666666666,
              "#ed7953"
             ],
             [
              0.7777777777777778,
              "#fb9f3a"
             ],
             [
              0.8888888888888888,
              "#fdca26"
             ],
             [
              1,
              "#f0f921"
             ]
            ],
            "type": "histogram2d"
           }
          ],
          "histogram2dcontour": [
           {
            "colorbar": {
             "outlinewidth": 0,
             "ticks": ""
            },
            "colorscale": [
             [
              0,
              "#0d0887"
             ],
             [
              0.1111111111111111,
              "#46039f"
             ],
             [
              0.2222222222222222,
              "#7201a8"
             ],
             [
              0.3333333333333333,
              "#9c179e"
             ],
             [
              0.4444444444444444,
              "#bd3786"
             ],
             [
              0.5555555555555556,
              "#d8576b"
             ],
             [
              0.6666666666666666,
              "#ed7953"
             ],
             [
              0.7777777777777778,
              "#fb9f3a"
             ],
             [
              0.8888888888888888,
              "#fdca26"
             ],
             [
              1,
              "#f0f921"
             ]
            ],
            "type": "histogram2dcontour"
           }
          ],
          "mesh3d": [
           {
            "colorbar": {
             "outlinewidth": 0,
             "ticks": ""
            },
            "type": "mesh3d"
           }
          ],
          "parcoords": [
           {
            "line": {
             "colorbar": {
              "outlinewidth": 0,
              "ticks": ""
             }
            },
            "type": "parcoords"
           }
          ],
          "pie": [
           {
            "automargin": true,
            "type": "pie"
           }
          ],
          "scatter": [
           {
            "fillpattern": {
             "fillmode": "overlay",
             "size": 10,
             "solidity": 0.2
            },
            "type": "scatter"
           }
          ],
          "scatter3d": [
           {
            "line": {
             "colorbar": {
              "outlinewidth": 0,
              "ticks": ""
             }
            },
            "marker": {
             "colorbar": {
              "outlinewidth": 0,
              "ticks": ""
             }
            },
            "type": "scatter3d"
           }
          ],
          "scattercarpet": [
           {
            "marker": {
             "colorbar": {
              "outlinewidth": 0,
              "ticks": ""
             }
            },
            "type": "scattercarpet"
           }
          ],
          "scattergeo": [
           {
            "marker": {
             "colorbar": {
              "outlinewidth": 0,
              "ticks": ""
             }
            },
            "type": "scattergeo"
           }
          ],
          "scattergl": [
           {
            "marker": {
             "colorbar": {
              "outlinewidth": 0,
              "ticks": ""
             }
            },
            "type": "scattergl"
           }
          ],
          "scattermapbox": [
           {
            "marker": {
             "colorbar": {
              "outlinewidth": 0,
              "ticks": ""
             }
            },
            "type": "scattermapbox"
           }
          ],
          "scatterpolar": [
           {
            "marker": {
             "colorbar": {
              "outlinewidth": 0,
              "ticks": ""
             }
            },
            "type": "scatterpolar"
           }
          ],
          "scatterpolargl": [
           {
            "marker": {
             "colorbar": {
              "outlinewidth": 0,
              "ticks": ""
             }
            },
            "type": "scatterpolargl"
           }
          ],
          "scatterternary": [
           {
            "marker": {
             "colorbar": {
              "outlinewidth": 0,
              "ticks": ""
             }
            },
            "type": "scatterternary"
           }
          ],
          "surface": [
           {
            "colorbar": {
             "outlinewidth": 0,
             "ticks": ""
            },
            "colorscale": [
             [
              0,
              "#0d0887"
             ],
             [
              0.1111111111111111,
              "#46039f"
             ],
             [
              0.2222222222222222,
              "#7201a8"
             ],
             [
              0.3333333333333333,
              "#9c179e"
             ],
             [
              0.4444444444444444,
              "#bd3786"
             ],
             [
              0.5555555555555556,
              "#d8576b"
             ],
             [
              0.6666666666666666,
              "#ed7953"
             ],
             [
              0.7777777777777778,
              "#fb9f3a"
             ],
             [
              0.8888888888888888,
              "#fdca26"
             ],
             [
              1,
              "#f0f921"
             ]
            ],
            "type": "surface"
           }
          ],
          "table": [
           {
            "cells": {
             "fill": {
              "color": "#EBF0F8"
             },
             "line": {
              "color": "white"
             }
            },
            "header": {
             "fill": {
              "color": "#C8D4E3"
             },
             "line": {
              "color": "white"
             }
            },
            "type": "table"
           }
          ]
         },
         "layout": {
          "annotationdefaults": {
           "arrowcolor": "#2a3f5f",
           "arrowhead": 0,
           "arrowwidth": 1
          },
          "autotypenumbers": "strict",
          "coloraxis": {
           "colorbar": {
            "outlinewidth": 0,
            "ticks": ""
           }
          },
          "colorscale": {
           "diverging": [
            [
             0,
             "#8e0152"
            ],
            [
             0.1,
             "#c51b7d"
            ],
            [
             0.2,
             "#de77ae"
            ],
            [
             0.3,
             "#f1b6da"
            ],
            [
             0.4,
             "#fde0ef"
            ],
            [
             0.5,
             "#f7f7f7"
            ],
            [
             0.6,
             "#e6f5d0"
            ],
            [
             0.7,
             "#b8e186"
            ],
            [
             0.8,
             "#7fbc41"
            ],
            [
             0.9,
             "#4d9221"
            ],
            [
             1,
             "#276419"
            ]
           ],
           "sequential": [
            [
             0,
             "#0d0887"
            ],
            [
             0.1111111111111111,
             "#46039f"
            ],
            [
             0.2222222222222222,
             "#7201a8"
            ],
            [
             0.3333333333333333,
             "#9c179e"
            ],
            [
             0.4444444444444444,
             "#bd3786"
            ],
            [
             0.5555555555555556,
             "#d8576b"
            ],
            [
             0.6666666666666666,
             "#ed7953"
            ],
            [
             0.7777777777777778,
             "#fb9f3a"
            ],
            [
             0.8888888888888888,
             "#fdca26"
            ],
            [
             1,
             "#f0f921"
            ]
           ],
           "sequentialminus": [
            [
             0,
             "#0d0887"
            ],
            [
             0.1111111111111111,
             "#46039f"
            ],
            [
             0.2222222222222222,
             "#7201a8"
            ],
            [
             0.3333333333333333,
             "#9c179e"
            ],
            [
             0.4444444444444444,
             "#bd3786"
            ],
            [
             0.5555555555555556,
             "#d8576b"
            ],
            [
             0.6666666666666666,
             "#ed7953"
            ],
            [
             0.7777777777777778,
             "#fb9f3a"
            ],
            [
             0.8888888888888888,
             "#fdca26"
            ],
            [
             1,
             "#f0f921"
            ]
           ]
          },
          "colorway": [
           "#636efa",
           "#EF553B",
           "#00cc96",
           "#ab63fa",
           "#FFA15A",
           "#19d3f3",
           "#FF6692",
           "#B6E880",
           "#FF97FF",
           "#FECB52"
          ],
          "font": {
           "color": "#2a3f5f"
          },
          "geo": {
           "bgcolor": "white",
           "lakecolor": "white",
           "landcolor": "#E5ECF6",
           "showlakes": true,
           "showland": true,
           "subunitcolor": "white"
          },
          "hoverlabel": {
           "align": "left"
          },
          "hovermode": "closest",
          "mapbox": {
           "style": "light"
          },
          "paper_bgcolor": "white",
          "plot_bgcolor": "#E5ECF6",
          "polar": {
           "angularaxis": {
            "gridcolor": "white",
            "linecolor": "white",
            "ticks": ""
           },
           "bgcolor": "#E5ECF6",
           "radialaxis": {
            "gridcolor": "white",
            "linecolor": "white",
            "ticks": ""
           }
          },
          "scene": {
           "xaxis": {
            "backgroundcolor": "#E5ECF6",
            "gridcolor": "white",
            "gridwidth": 2,
            "linecolor": "white",
            "showbackground": true,
            "ticks": "",
            "zerolinecolor": "white"
           },
           "yaxis": {
            "backgroundcolor": "#E5ECF6",
            "gridcolor": "white",
            "gridwidth": 2,
            "linecolor": "white",
            "showbackground": true,
            "ticks": "",
            "zerolinecolor": "white"
           },
           "zaxis": {
            "backgroundcolor": "#E5ECF6",
            "gridcolor": "white",
            "gridwidth": 2,
            "linecolor": "white",
            "showbackground": true,
            "ticks": "",
            "zerolinecolor": "white"
           }
          },
          "shapedefaults": {
           "line": {
            "color": "#2a3f5f"
           }
          },
          "ternary": {
           "aaxis": {
            "gridcolor": "white",
            "linecolor": "white",
            "ticks": ""
           },
           "baxis": {
            "gridcolor": "white",
            "linecolor": "white",
            "ticks": ""
           },
           "bgcolor": "#E5ECF6",
           "caxis": {
            "gridcolor": "white",
            "linecolor": "white",
            "ticks": ""
           }
          },
          "title": {
           "x": 0.05
          },
          "xaxis": {
           "automargin": true,
           "gridcolor": "white",
           "linecolor": "white",
           "ticks": "",
           "title": {
            "standoff": 15
           },
           "zerolinecolor": "white",
           "zerolinewidth": 2
          },
          "yaxis": {
           "automargin": true,
           "gridcolor": "white",
           "linecolor": "white",
           "ticks": "",
           "title": {
            "standoff": 15
           },
           "zerolinecolor": "white",
           "zerolinewidth": 2
          }
         }
        },
        "title": {
         "text": "Number of Edges vs Threshold"
        },
        "xaxis": {
         "anchor": "y",
         "domain": [
          0,
          1
         ],
         "title": {
          "text": "x"
         }
        },
        "yaxis": {
         "anchor": "x",
         "domain": [
          0,
          1
         ],
         "title": {
          "text": "y"
         }
        }
       }
      }
     },
     "metadata": {},
     "output_type": "display_data"
    }
   ],
   "source": [
    "upper_triangle = np.triu(matrix, k=1)\n",
    "num_edges = []\n",
    "for r in np.linspace(0, 1, 101):\n",
    "    row_indices, col_indices = np.where(np.abs(upper_triangle) > r)\n",
    "    num_edges.append(len(row_indices))\n",
    "px.line(x=np.linspace(0, 1, 101), y=num_edges, title='Number of Edges vs Threshold')\n"
   ]
  },
  {
   "cell_type": "code",
   "execution_count": 19,
   "metadata": {},
   "outputs": [
    {
     "name": "stdout",
     "output_type": "stream",
     "text": [
      "892\n"
     ]
    },
    {
     "data": {
      "text/html": [
       "<div>\n",
       "<style scoped>\n",
       "    .dataframe tbody tr th:only-of-type {\n",
       "        vertical-align: middle;\n",
       "    }\n",
       "\n",
       "    .dataframe tbody tr th {\n",
       "        vertical-align: top;\n",
       "    }\n",
       "\n",
       "    .dataframe thead th {\n",
       "        text-align: right;\n",
       "    }\n",
       "</style>\n",
       "<table border=\"1\" class=\"dataframe\">\n",
       "  <thead>\n",
       "    <tr style=\"text-align: right;\">\n",
       "      <th></th>\n",
       "      <th>source</th>\n",
       "      <th>target</th>\n",
       "      <th>value</th>\n",
       "    </tr>\n",
       "  </thead>\n",
       "  <tbody>\n",
       "    <tr>\n",
       "      <th>0</th>\n",
       "      <td>CPRT</td>\n",
       "      <td>UFPI</td>\n",
       "      <td>0.964489</td>\n",
       "    </tr>\n",
       "    <tr>\n",
       "      <th>1</th>\n",
       "      <td>RVMD</td>\n",
       "      <td>UFPI</td>\n",
       "      <td>0.955871</td>\n",
       "    </tr>\n",
       "    <tr>\n",
       "      <th>2</th>\n",
       "      <td>NUVL</td>\n",
       "      <td>EU</td>\n",
       "      <td>0.983641</td>\n",
       "    </tr>\n",
       "    <tr>\n",
       "      <th>3</th>\n",
       "      <td>CGNX</td>\n",
       "      <td>EU</td>\n",
       "      <td>0.956704</td>\n",
       "    </tr>\n",
       "    <tr>\n",
       "      <th>4</th>\n",
       "      <td>TER</td>\n",
       "      <td>EU</td>\n",
       "      <td>0.967289</td>\n",
       "    </tr>\n",
       "    <tr>\n",
       "      <th>...</th>\n",
       "      <td>...</td>\n",
       "      <td>...</td>\n",
       "      <td>...</td>\n",
       "    </tr>\n",
       "    <tr>\n",
       "      <th>887</th>\n",
       "      <td>LBRDK</td>\n",
       "      <td>CHTR</td>\n",
       "      <td>0.982146</td>\n",
       "    </tr>\n",
       "    <tr>\n",
       "      <th>888</th>\n",
       "      <td>LBRDA</td>\n",
       "      <td>CHTR</td>\n",
       "      <td>0.981850</td>\n",
       "    </tr>\n",
       "    <tr>\n",
       "      <th>889</th>\n",
       "      <td>LBRDA</td>\n",
       "      <td>LBRDK</td>\n",
       "      <td>0.995771</td>\n",
       "    </tr>\n",
       "    <tr>\n",
       "      <th>890</th>\n",
       "      <td>LILA</td>\n",
       "      <td>LILAK</td>\n",
       "      <td>0.995901</td>\n",
       "    </tr>\n",
       "    <tr>\n",
       "      <th>891</th>\n",
       "      <td>LNT</td>\n",
       "      <td>AEP</td>\n",
       "      <td>0.956930</td>\n",
       "    </tr>\n",
       "  </tbody>\n",
       "</table>\n",
       "<p>892 rows × 3 columns</p>\n",
       "</div>"
      ],
      "text/plain": [
       "    source target     value\n",
       "0     CPRT   UFPI  0.964489\n",
       "1     RVMD   UFPI  0.955871\n",
       "2     NUVL     EU  0.983641\n",
       "3     CGNX     EU  0.956704\n",
       "4      TER     EU  0.967289\n",
       "..     ...    ...       ...\n",
       "887  LBRDK   CHTR  0.982146\n",
       "888  LBRDA   CHTR  0.981850\n",
       "889  LBRDA  LBRDK  0.995771\n",
       "890   LILA  LILAK  0.995901\n",
       "891    LNT    AEP  0.956930\n",
       "\n",
       "[892 rows x 3 columns]"
      ]
     },
     "execution_count": 19,
     "metadata": {},
     "output_type": "execute_result"
    }
   ],
   "source": [
    "upper_triangle = np.triu(matrix, k=1)\n",
    "row_indices, col_indices = np.where(np.abs(upper_triangle) > 0.95)\n",
    "print(len(row_indices))\n",
    "links = pd.DataFrame({\n",
    "    'source': matrix.columns[col_indices],\n",
    "    'target': matrix.columns[row_indices],\n",
    "    'value': upper_triangle[row_indices, col_indices]\n",
    "})\n",
    "links"
   ]
  },
  {
   "cell_type": "code",
   "execution_count": 7,
   "metadata": {},
   "outputs": [
    {
     "data": {
      "text/html": [
       "<div>\n",
       "<style scoped>\n",
       "    .dataframe tbody tr th:only-of-type {\n",
       "        vertical-align: middle;\n",
       "    }\n",
       "\n",
       "    .dataframe tbody tr th {\n",
       "        vertical-align: top;\n",
       "    }\n",
       "\n",
       "    .dataframe thead th {\n",
       "        text-align: right;\n",
       "    }\n",
       "</style>\n",
       "<table border=\"1\" class=\"dataframe\">\n",
       "  <thead>\n",
       "    <tr style=\"text-align: right;\">\n",
       "      <th></th>\n",
       "      <th>id</th>\n",
       "      <th>group</th>\n",
       "      <th>marketCap</th>\n",
       "      <th>price</th>\n",
       "    </tr>\n",
       "  </thead>\n",
       "  <tbody>\n",
       "    <tr>\n",
       "      <th>0</th>\n",
       "      <td>UFPI</td>\n",
       "      <td>Basic Materials</td>\n",
       "      <td>7.024022</td>\n",
       "      <td>$115.67</td>\n",
       "    </tr>\n",
       "    <tr>\n",
       "      <th>2</th>\n",
       "      <td>IPX</td>\n",
       "      <td>Basic Materials</td>\n",
       "      <td>0.682213</td>\n",
       "      <td>$26.52</td>\n",
       "    </tr>\n",
       "    <tr>\n",
       "      <th>3</th>\n",
       "      <td>EU</td>\n",
       "      <td>Basic Materials</td>\n",
       "      <td>0.541518</td>\n",
       "      <td>$2.91</td>\n",
       "    </tr>\n",
       "    <tr>\n",
       "      <th>15</th>\n",
       "      <td>COST</td>\n",
       "      <td>Consumer Discretionary</td>\n",
       "      <td>469.795930</td>\n",
       "      <td>$1058.34</td>\n",
       "    </tr>\n",
       "    <tr>\n",
       "      <th>19</th>\n",
       "      <td>CTAS</td>\n",
       "      <td>Consumer Discretionary</td>\n",
       "      <td>82.887924</td>\n",
       "      <td>$205.40</td>\n",
       "    </tr>\n",
       "    <tr>\n",
       "      <th>...</th>\n",
       "      <td>...</td>\n",
       "      <td>...</td>\n",
       "      <td>...</td>\n",
       "      <td>...</td>\n",
       "    </tr>\n",
       "    <tr>\n",
       "      <th>508</th>\n",
       "      <td>NTGR</td>\n",
       "      <td>Utilities</td>\n",
       "      <td>0.889273</td>\n",
       "      <td>$30.91</td>\n",
       "    </tr>\n",
       "    <tr>\n",
       "      <th>510</th>\n",
       "      <td>CLNE</td>\n",
       "      <td>Utilities</td>\n",
       "      <td>0.732937</td>\n",
       "      <td>$3.28</td>\n",
       "    </tr>\n",
       "    <tr>\n",
       "      <th>513</th>\n",
       "      <td>CLFD</td>\n",
       "      <td>Utilities</td>\n",
       "      <td>0.482309</td>\n",
       "      <td>$34.13</td>\n",
       "    </tr>\n",
       "    <tr>\n",
       "      <th>515</th>\n",
       "      <td>CDZI</td>\n",
       "      <td>Utilities</td>\n",
       "      <td>0.374417</td>\n",
       "      <td>$4.98</td>\n",
       "    </tr>\n",
       "    <tr>\n",
       "      <th>517</th>\n",
       "      <td>PCYO</td>\n",
       "      <td>Utilities</td>\n",
       "      <td>0.280255</td>\n",
       "      <td>$11.64</td>\n",
       "    </tr>\n",
       "  </tbody>\n",
       "</table>\n",
       "<p>190 rows × 4 columns</p>\n",
       "</div>"
      ],
      "text/plain": [
       "       id                   group   marketCap     price\n",
       "0    UFPI         Basic Materials    7.024022   $115.67\n",
       "2     IPX         Basic Materials    0.682213    $26.52\n",
       "3      EU         Basic Materials    0.541518     $2.91\n",
       "15   COST  Consumer Discretionary  469.795930  $1058.34\n",
       "19   CTAS  Consumer Discretionary   82.887924   $205.40\n",
       "..    ...                     ...         ...       ...\n",
       "508  NTGR               Utilities    0.889273    $30.91\n",
       "510  CLNE               Utilities    0.732937     $3.28\n",
       "513  CLFD               Utilities    0.482309    $34.13\n",
       "515  CDZI               Utilities    0.374417     $4.98\n",
       "517  PCYO               Utilities    0.280255    $11.64\n",
       "\n",
       "[190 rows x 4 columns]"
      ]
     },
     "execution_count": 7,
     "metadata": {},
     "output_type": "execute_result"
    }
   ],
   "source": [
    "relevant_nodes = set(links['source'].unique()) | set(links['target'].unique())\n",
    "nodes = (labels[labels['Symbol']\n",
    "        .isin(relevant_nodes)]\n",
    "        [['Symbol', 'Sector', 'Market Cap (B)', 'Last Sale']]\n",
    "        .rename(columns={\n",
    "            'Symbol': 'id',\n",
    "            'Sector': 'group',\n",
    "            'Market Cap (B)': 'marketCap',\n",
    "            'Last Sale': 'price'\n",
    "            })\n",
    "        )\n",
    "nodes"
   ]
  },
  {
   "cell_type": "code",
   "execution_count": 8,
   "metadata": {},
   "outputs": [],
   "source": [
    "nodes.to_json('stock_visualization/data/nodes.json', orient='records')\n",
    "links.to_json('stock_visualization/data/links.json', orient='records')"
   ]
  },
  {
   "cell_type": "code",
   "execution_count": 9,
   "metadata": {},
   "outputs": [],
   "source": [
    "json_data = {\n",
    "    'nodes': nodes.to_dict(orient='records'),\n",
    "    'links': links.to_dict(orient='records')\n",
    "}\n",
    "\n",
    "file_path = 'stock_visualization/data/beta_stock_graph.json'\n",
    "\n",
    "import json\n",
    "with open(file_path, 'w') as json_file:\n",
    "    json.dump(json_data, json_file, indent=4)"
   ]
  },
  {
   "cell_type": "code",
   "execution_count": 10,
   "metadata": {},
   "outputs": [],
   "source": [
    "# matrix[links['source'] == 'TSLA']"
   ]
  },
  {
   "cell_type": "code",
   "execution_count": 11,
   "metadata": {},
   "outputs": [],
   "source": [
    "# matrix.loc['TSLA'].sort_values(ascending=False)"
   ]
  },
  {
   "cell_type": "code",
   "execution_count": 13,
   "metadata": {},
   "outputs": [
    {
     "data": {
      "text/html": [
       "<div>\n",
       "<style scoped>\n",
       "    .dataframe tbody tr th:only-of-type {\n",
       "        vertical-align: middle;\n",
       "    }\n",
       "\n",
       "    .dataframe tbody tr th {\n",
       "        vertical-align: top;\n",
       "    }\n",
       "\n",
       "    .dataframe thead th {\n",
       "        text-align: right;\n",
       "    }\n",
       "</style>\n",
       "<table border=\"1\" class=\"dataframe\">\n",
       "  <thead>\n",
       "    <tr style=\"text-align: right;\">\n",
       "      <th></th>\n",
       "      <th>source</th>\n",
       "      <th>target</th>\n",
       "      <th>value</th>\n",
       "    </tr>\n",
       "  </thead>\n",
       "  <tbody>\n",
       "    <tr>\n",
       "      <th>245</th>\n",
       "      <td>PCVX</td>\n",
       "      <td>USEG</td>\n",
       "      <td>-0.962928</td>\n",
       "    </tr>\n",
       "    <tr>\n",
       "      <th>246</th>\n",
       "      <td>TER</td>\n",
       "      <td>USEG</td>\n",
       "      <td>-0.963668</td>\n",
       "    </tr>\n",
       "    <tr>\n",
       "      <th>247</th>\n",
       "      <td>NFE</td>\n",
       "      <td>USEG</td>\n",
       "      <td>-0.956905</td>\n",
       "    </tr>\n",
       "    <tr>\n",
       "      <th>709</th>\n",
       "      <td>NEXT</td>\n",
       "      <td>AMOD</td>\n",
       "      <td>-0.967182</td>\n",
       "    </tr>\n",
       "  </tbody>\n",
       "</table>\n",
       "</div>"
      ],
      "text/plain": [
       "    source target     value\n",
       "245   PCVX   USEG -0.962928\n",
       "246    TER   USEG -0.963668\n",
       "247    NFE   USEG -0.956905\n",
       "709   NEXT   AMOD -0.967182"
      ]
     },
     "execution_count": 13,
     "metadata": {},
     "output_type": "execute_result"
    }
   ],
   "source": [
    "links[links['value'] < 0]"
   ]
  },
  {
   "cell_type": "code",
   "execution_count": null,
   "metadata": {},
   "outputs": [],
   "source": []
  }
 ],
 "metadata": {
  "kernelspec": {
   "display_name": "DR",
   "language": "python",
   "name": "python3"
  },
  "language_info": {
   "codemirror_mode": {
    "name": "ipython",
    "version": 3
   },
   "file_extension": ".py",
   "mimetype": "text/x-python",
   "name": "python",
   "nbconvert_exporter": "python",
   "pygments_lexer": "ipython3",
   "version": "3.12.4"
  }
 },
 "nbformat": 4,
 "nbformat_minor": 2
}
